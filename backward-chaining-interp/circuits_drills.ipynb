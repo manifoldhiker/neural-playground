{
 "cells": [
  {
   "cell_type": "markdown",
   "id": "df6e2f0e-14d1-4579-ab0f-7bf14ce1b49b",
   "metadata": {},
   "source": [
    "## How MLP may delete info from residual stream?"
   ]
  },
  {
   "cell_type": "code",
   "execution_count": 6,
   "id": "61aade9d-6936-48ff-ae61-765cd1e936d7",
   "metadata": {},
   "outputs": [],
   "source": [
    "import lovely_tensors as lt\n",
    "lt.monkey_patch()"
   ]
  },
  {
   "cell_type": "code",
   "execution_count": 1,
   "id": "07cb3b9a-5a11-4912-ab3f-4406f0c4a315",
   "metadata": {},
   "outputs": [
    {
     "data": {
      "application/vnd.jupyter.widget-view+json": {
       "model_id": "9c1e75d37a154937bd4b30fddb1037ea",
       "version_major": 2,
       "version_minor": 0
      },
      "text/plain": [
       "config.json:   0%|          | 0.00/665 [00:00<?, ?B/s]"
      ]
     },
     "metadata": {},
     "output_type": "display_data"
    },
    {
     "data": {
      "application/vnd.jupyter.widget-view+json": {
       "model_id": "89a645e39df9499f9fbc5fa4bb4bc1f5",
       "version_major": 2,
       "version_minor": 0
      },
      "text/plain": [
       "model.safetensors:   0%|          | 0.00/548M [00:00<?, ?B/s]"
      ]
     },
     "metadata": {},
     "output_type": "display_data"
    },
    {
     "data": {
      "application/vnd.jupyter.widget-view+json": {
       "model_id": "540726905dc84c3ea2b57d458f3715df",
       "version_major": 2,
       "version_minor": 0
      },
      "text/plain": [
       "generation_config.json:   0%|          | 0.00/124 [00:00<?, ?B/s]"
      ]
     },
     "metadata": {},
     "output_type": "display_data"
    },
    {
     "data": {
      "application/vnd.jupyter.widget-view+json": {
       "model_id": "d7975f4c4b4643499cdb65cc561df369",
       "version_major": 2,
       "version_minor": 0
      },
      "text/plain": [
       "tokenizer_config.json:   0%|          | 0.00/26.0 [00:00<?, ?B/s]"
      ]
     },
     "metadata": {},
     "output_type": "display_data"
    },
    {
     "data": {
      "application/vnd.jupyter.widget-view+json": {
       "model_id": "a8877b533a824a0391aaa0f47b82d146",
       "version_major": 2,
       "version_minor": 0
      },
      "text/plain": [
       "vocab.json:   0%|          | 0.00/1.04M [00:00<?, ?B/s]"
      ]
     },
     "metadata": {},
     "output_type": "display_data"
    },
    {
     "data": {
      "application/vnd.jupyter.widget-view+json": {
       "model_id": "c3880abf2b7d4de6bfa04ff7ed0f5890",
       "version_major": 2,
       "version_minor": 0
      },
      "text/plain": [
       "merges.txt:   0%|          | 0.00/456k [00:00<?, ?B/s]"
      ]
     },
     "metadata": {},
     "output_type": "display_data"
    },
    {
     "data": {
      "application/vnd.jupyter.widget-view+json": {
       "model_id": "c6ebec804994478085ced8a80e448891",
       "version_major": 2,
       "version_minor": 0
      },
      "text/plain": [
       "tokenizer.json:   0%|          | 0.00/1.36M [00:00<?, ?B/s]"
      ]
     },
     "metadata": {},
     "output_type": "display_data"
    },
    {
     "name": "stdout",
     "output_type": "stream",
     "text": [
      "Loaded pretrained model gpt2-small into HookedTransformer\n"
     ]
    }
   ],
   "source": [
    "import transformer_lens\n",
    "\n",
    "# Load a model (eg GPT-2 Small)\n",
    "model = transformer_lens.HookedTransformer.from_pretrained(\"gpt2-small\")\n",
    "\n",
    "# Run the model and get logits and activations\n",
    "logits, activations = model.run_with_cache(\"Hello World\")"
   ]
  },
  {
   "cell_type": "code",
   "execution_count": 7,
   "id": "6fda500b-e599-4510-8d3c-ad7a9a55a5e6",
   "metadata": {},
   "outputs": [
    {
     "data": {
      "text/plain": [
       "[('W_in',\n",
       "  Parameter containing:\n",
       "  Parameter[768, 3072] n=2359296 (9Mb) x∈[-2.732, 2.574] μ=5.174e-11 σ=0.153 grad mps:0),\n",
       " ('b_in',\n",
       "  Parameter containing:\n",
       "  Parameter[3072] 12Kb x∈[-5.404, 1.166] μ=-0.772 σ=0.529 grad mps:0),\n",
       " ('W_out',\n",
       "  Parameter containing:\n",
       "  Parameter[3072, 768] n=2359296 (9Mb) x∈[-6.133, 6.060] μ=-3.287e-12 σ=0.088 grad mps:0),\n",
       " ('b_out',\n",
       "  Parameter containing:\n",
       "  Parameter[768] 3Kb x∈[-1.028, 1.480] μ=-1.552e-10 σ=0.102 grad mps:0)]"
      ]
     },
     "execution_count": 7,
     "metadata": {},
     "output_type": "execute_result"
    }
   ],
   "source": [
    "list(model.blocks[0].mlp.named_parameters())"
   ]
  },
  {
   "cell_type": "code",
   "execution_count": null,
   "id": "1beaeb06-6ae6-4860-b735-d5b649c0856a",
   "metadata": {},
   "outputs": [],
   "source": []
  }
 ],
 "metadata": {
  "kernelspec": {
   "display_name": "Python 3 (ipykernel)",
   "language": "python",
   "name": "python3"
  },
  "language_info": {
   "codemirror_mode": {
    "name": "ipython",
    "version": 3
   },
   "file_extension": ".py",
   "mimetype": "text/x-python",
   "name": "python",
   "nbconvert_exporter": "python",
   "pygments_lexer": "ipython3",
   "version": "3.11.4"
  }
 },
 "nbformat": 4,
 "nbformat_minor": 5
}
