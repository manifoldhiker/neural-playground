{
 "cells": [
  {
   "cell_type": "markdown",
   "metadata": {},
   "source": [
    "## Setup"
   ]
  },
  {
   "cell_type": "markdown",
   "metadata": {},
   "source": [
    "### Imports"
   ]
  },
  {
   "cell_type": "code",
   "execution_count": null,
   "metadata": {},
   "outputs": [],
   "source": [
    "import sys; sys.path.append('..')"
   ]
  },
  {
   "cell_type": "code",
   "execution_count": null,
   "metadata": {},
   "outputs": [],
   "source": [
    "# ! pip install lovely-tensors\n",
    "\n",
    "import lovely_tensors as lt\n",
    "lt.monkey_patch()"
   ]
  },
  {
   "cell_type": "code",
   "execution_count": null,
   "metadata": {},
   "outputs": [],
   "source": [
    "import torch\n",
    "import numpy as np\n",
    "import torch.nn.functional as F\n",
    "from torch.utils.data import DataLoader\n",
    "\n",
    "from transformer_lens import HookedTransformer, HookedTransformerConfig"
   ]
  },
  {
   "cell_type": "code",
   "execution_count": null,
   "metadata": {},
   "outputs": [],
   "source": [
    "import wandb\n",
    "from tqdm.auto import tqdm\n",
    "\n",
    "from omegaconf import OmegaConf\n",
    "\n",
    "from datetime import datetime\n",
    "\n",
    "from pathlib import Path\n",
    "\n",
    "import numpy as np\n",
    "import seaborn as sns\n",
    "import matplotlib.pyplot as plt"
   ]
  },
  {
   "cell_type": "code",
   "execution_count": null,
   "metadata": {},
   "outputs": [],
   "source": [
    "from src.tree import list2tree\n",
    "from src.tree_dataset import TreeDataset, parse_input_idx, input_tokens_to_tree, tree_to_edges\n",
    "from src.utils import seed_all, count_parameters\n",
    "\n",
    "\n",
    "from src.trainer import TreeTrainer"
   ]
  },
  {
   "cell_type": "code",
   "execution_count": null,
   "metadata": {},
   "outputs": [],
   "source": [
    "from src.tree_dataset import TreeDataset, DeepTreeDataset, parse_input_idx, input_tokens_to_tree, tree_to_edges"
   ]
  },
  {
   "cell_type": "code",
   "execution_count": null,
   "metadata": {},
   "outputs": [],
   "source": [
    "import pandas as pd\n",
    "\n",
    "@torch.inference_mode()\n",
    "def get_test_metrics(n_test_batches):\n",
    "    metric_df = []\n",
    "    \n",
    "    for i, batch in tqdm(zip(range(n_test_batches), test_dataloader), total=n_test_batches):\n",
    "        with torch.inference_mode():\n",
    "            loss, metrics = trainer.train_step(batch)\n",
    "            metric_df.append(metrics)\n",
    "    \n",
    "    \n",
    "    metric_df = pd.DataFrame(metric_df)\n",
    "    \n",
    "    metric_dict = metric_df.mean().to_dict()\n",
    "    metric_dict = {'test/'+k:v for k,v in metric_dict.items()}\n",
    "    return metric_dict"
   ]
  },
  {
   "cell_type": "markdown",
   "metadata": {},
   "source": [
    "### Read config"
   ]
  },
  {
   "cell_type": "code",
   "execution_count": null,
   "metadata": {},
   "outputs": [],
   "source": [
    "conf = OmegaConf.load('../conf/01_2L_nodes=8__phase_trans.yaml')\n",
    "conf = OmegaConf.load('../conf/00_01_reproduce_deep_distribution.yaml')\n",
    "\n",
    "# Output is identical to the YAML file\n",
    "print(OmegaConf.to_yaml(conf))"
   ]
  },
  {
   "cell_type": "markdown",
   "metadata": {},
   "source": [
    "### Constants (mostly derived)"
   ]
  },
  {
   "cell_type": "code",
   "execution_count": null,
   "metadata": {},
   "outputs": [],
   "source": [
    "DEV_RUN = False\n",
    "USE_WANDB = (not DEV_RUN) and conf.use_wandb\n",
    "device = conf.device\n",
    "\n",
    "CHECKPOINT_ROOT = Path('../checkpoints')"
   ]
  },
  {
   "cell_type": "code",
   "execution_count": null,
   "metadata": {},
   "outputs": [],
   "source": [
    "def create_checkpoint_dir(conf):\n",
    "    now = datetime.now()\n",
    "    now_filename = now.strftime(\"%Y-%m-%d_%H-%M-%S\")\n",
    "    \n",
    "    checkpoint_dir = CHECKPOINT_ROOT/f'{conf[\"wandb\"][\"project\"]}__{now_filename}'\n",
    "    checkpoint_dir.mkdir(exist_ok=True, parents = True)\n",
    "    return checkpoint_dir"
   ]
  },
  {
   "cell_type": "code",
   "execution_count": null,
   "metadata": {},
   "outputs": [],
   "source": []
  },
  {
   "cell_type": "code",
   "execution_count": null,
   "metadata": {},
   "outputs": [],
   "source": [
    "if USE_WANDB:\n",
    "    wandb.init(project=conf.wandb.project, name=conf.wandb.name, config=OmegaConf.to_object(conf))\n",
    "    print(OmegaConf.to_yaml(conf))"
   ]
  },
  {
   "cell_type": "code",
   "execution_count": null,
   "metadata": {},
   "outputs": [],
   "source": [
    "RANDOM_SEED = conf['random_seed']\n",
    "print(f'{RANDOM_SEED=}')\n",
    "seed_all(RANDOM_SEED)"
   ]
  },
  {
   "cell_type": "code",
   "execution_count": null,
   "metadata": {},
   "outputs": [],
   "source": [
    "trainer = TreeTrainer(conf)\n",
    "count_parameters(trainer.model)"
   ]
  },
  {
   "cell_type": "code",
   "execution_count": null,
   "metadata": {},
   "outputs": [],
   "source": [
    "tokenizer = trainer.dataset.tokenizer\n",
    "\n",
    "tok = tokenizer.tokenize\n",
    "detok = tokenizer.detokenize\n",
    "\n",
    "\n",
    "ROOT_DELIM_TOKEN_IDX = trainer.tok([':'])[0]"
   ]
  },
  {
   "cell_type": "code",
   "execution_count": null,
   "metadata": {},
   "outputs": [],
   "source": [
    "n_test_batches = 10\n",
    "test_dataloader = DataLoader ( DeepTreeDataset(possible_depths=list(range(1,16))), batch_size=conf['batch_size'] )"
   ]
  },
  {
   "cell_type": "code",
   "execution_count": null,
   "metadata": {},
   "outputs": [],
   "source": [
    "checkpoint_dir = create_checkpoint_dir(conf)"
   ]
  },
  {
   "cell_type": "code",
   "execution_count": null,
   "metadata": {},
   "outputs": [],
   "source": [
    "global_step = 0\n",
    "epoch_i = 0\n",
    "\n",
    "\n",
    "while True:\n",
    "\n",
    "    pbar = tqdm(list(range(conf.epoch_len_steps)))\n",
    "\n",
    "    for i, batch in zip(pbar, trainer.dataloader):\n",
    "        if i == 0:\n",
    "            sample_input_idx = batch['input_idx'][0]\n",
    "            trainer.print_sample_pred(sample_input_idx)\n",
    "    \n",
    "        trainer.optimizer.zero_grad()\n",
    "        loss, metrics = trainer.train_step(batch)\n",
    "        loss.backward()\n",
    "        trainer.optimizer.step()\n",
    "        \n",
    "        # pbar.update()\n",
    "        pbar.set_description(f'loss={float(loss):.3f}')\n",
    "        if USE_WANDB:\n",
    "            wandb.log({'loss': loss, **metrics})\n",
    "\n",
    "        global_step += 1\n",
    "\n",
    "\n",
    "        if global_step % 250 == 0:\n",
    "            test_metrics = get_test_metrics(n_test_batches)\n",
    "            wandb.log(test_metrics)\n",
    "\n",
    "    epoch_i += 1\n",
    "\n",
    "    if epoch_i % conf['checkpoint_every_epoch'] == 0:\n",
    "        checkpoint_filename = checkpoint_dir/f'{conf[\"wandb\"][\"name\"]}__step={global_step}.pt'\n",
    "        print(f'Saving {checkpoint_filename=}')\n",
    "        torch.save(trainer.model.state_dict(), checkpoint_filename)\n",
    "    \n",
    "    if conf.get('max_iters', False) and global_step > conf.get('max_iters'):\n",
    "        break\n",
    "\n",
    "    "
   ]
  },
  {
   "cell_type": "code",
   "execution_count": null,
   "metadata": {},
   "outputs": [],
   "source": [
    "checkpoint_filename = checkpoint_dir/f'{conf[\"wandb\"][\"name\"]}__step={global_step}.pt'\n",
    "print(f'Saving {checkpoint_filename=}')\n",
    "torch.save(trainer.model.state_dict(), checkpoint_filename)"
   ]
  },
  {
   "cell_type": "code",
   "execution_count": null,
   "metadata": {},
   "outputs": [],
   "source": []
  },
  {
   "cell_type": "code",
   "execution_count": null,
   "metadata": {},
   "outputs": [],
   "source": []
  },
  {
   "cell_type": "markdown",
   "metadata": {},
   "source": [
    "### "
   ]
  },
  {
   "cell_type": "code",
   "execution_count": null,
   "metadata": {},
   "outputs": [],
   "source": [
    "\n",
    "import pandas as pd\n",
    "\n",
    "import plotly.graph_objects as go"
   ]
  },
  {
   "cell_type": "code",
   "execution_count": null,
   "metadata": {},
   "outputs": [],
   "source": []
  },
  {
   "cell_type": "code",
   "execution_count": null,
   "metadata": {},
   "outputs": [],
   "source": []
  },
  {
   "cell_type": "code",
   "execution_count": null,
   "metadata": {},
   "outputs": [],
   "source": []
  },
  {
   "cell_type": "code",
   "execution_count": null,
   "metadata": {},
   "outputs": [],
   "source": [
    "def split_depths(mdic):\n",
    "    return (int(k.split('=')[1]) for k in mdic.keys() if '=' in k)\n",
    "\n",
    "metrics_reproduced = metric_df.mean().to_dict()\n",
    "\n",
    "depths = sorted(set(split_depths(metrics_reproduced)))\n",
    "\n",
    "reproduced_acc = [metrics_reproduced.get(f'acc/depth={d}', None) for d in depths]"
   ]
  },
  {
   "cell_type": "code",
   "execution_count": null,
   "metadata": {},
   "outputs": [],
   "source": [
    "fig = go.Figure()\n",
    "fig.add_trace(go.Scatter(x=depths, y=reproduced_acc, mode='lines+markers'))\n",
    "\n",
    "fig.update_layout(title=f'Accuracy by Goal Depth. sample_size={n_test_batches*conf.batch_size}',\n",
    "                   xaxis_title='Depth',\n",
    "                   yaxis_title='Accuracy',\n",
    "                   template='plotly_white')\n",
    "\n",
    "fig.show()\n"
   ]
  },
  {
   "cell_type": "code",
   "execution_count": null,
   "metadata": {},
   "outputs": [],
   "source": [
    "fig.write_html(\"plot.html\")"
   ]
  },
  {
   "cell_type": "code",
   "execution_count": null,
   "metadata": {},
   "outputs": [],
   "source": []
  },
  {
   "cell_type": "code",
   "execution_count": null,
   "metadata": {},
   "outputs": [],
   "source": [
    "\n",
    "\n",
    "n_test_batches = 50\n",
    "\n",
    "for batch in test_dataloader"
   ]
  },
  {
   "cell_type": "markdown",
   "metadata": {},
   "source": [
    "## Debug on custom input"
   ]
  },
  {
   "cell_type": "code",
   "execution_count": null,
   "metadata": {},
   "outputs": [],
   "source": [
    "for batch in trainer.dataloader:\n",
    "    print(parse_input_idx(batch['input_idx'][0], trainer.dataset.tokenizer)['tree'])\n",
    "    break"
   ]
  },
  {
   "cell_type": "code",
   "execution_count": null,
   "metadata": {},
   "outputs": [],
   "source": [
    "with torch.inference_mode():\n",
    "    locc, accuracy = trainer.train_step(batch)"
   ]
  },
  {
   "cell_type": "code",
   "execution_count": null,
   "metadata": {},
   "outputs": [],
   "source": []
  },
  {
   "cell_type": "code",
   "execution_count": null,
   "metadata": {},
   "outputs": [],
   "source": [
    "input_idx_custom = batch['input_idx'][0]\n",
    "\n",
    "\n",
    "parsed_input = parse_input_idx(input_idx_custom, trainer.dataset.tokenizer)\n",
    "parsed_input"
   ]
  },
  {
   "cell_type": "code",
   "execution_count": null,
   "metadata": {},
   "outputs": [],
   "source": []
  },
  {
   "cell_type": "code",
   "execution_count": null,
   "metadata": {},
   "outputs": [],
   "source": []
  },
  {
   "cell_type": "code",
   "execution_count": null,
   "metadata": {},
   "outputs": [],
   "source": []
  },
  {
   "cell_type": "code",
   "execution_count": null,
   "metadata": {},
   "outputs": [],
   "source": [
    "upper_task_bound = input_idx_custom.tolist().index(ROOT_DELIM_TOKEN_IDX) + 2\n",
    "prompt_autoregressive = detok(input_idx_custom)[:upper_task_bound]\n",
    "prompt = prompt_autoregressive\n",
    "print(prompt)"
   ]
  },
  {
   "cell_type": "code",
   "execution_count": null,
   "metadata": {},
   "outputs": [],
   "source": [
    "new_token = inference_on_prompt(prompt)\n",
    "prompt += [new_token]\n",
    "print(prompt)"
   ]
  },
  {
   "cell_type": "code",
   "execution_count": null,
   "metadata": {},
   "outputs": [],
   "source": [
    "softmax_probs.shape"
   ]
  },
  {
   "cell_type": "code",
   "execution_count": null,
   "metadata": {},
   "outputs": [],
   "source": [
    "softmax_probs = preds[0][mask[0]].softmax(dim=-1).detach().cpu().numpy()\n",
    "\n",
    "# Plotting softmax probabilities as a heatmap\n",
    "plt.figure(figsize=(10, 8))\n",
    "sns.heatmap(softmax_probs, annot=True, cmap='coolwarm', fmt=\".2f\")\n",
    "plt.title(\"Softmax Probabilities Heatmap\")\n",
    "plt.xlabel(\"Classes\")\n",
    "plt.ylabel(\"Instances\")\n",
    "plt.show()"
   ]
  },
  {
   "cell_type": "code",
   "execution_count": null,
   "metadata": {},
   "outputs": [],
   "source": [
    "input_idx_autoregressive"
   ]
  },
  {
   "cell_type": "code",
   "execution_count": null,
   "metadata": {},
   "outputs": [],
   "source": [
    "preds = trainer.model(input_idx)"
   ]
  },
  {
   "cell_type": "code",
   "execution_count": null,
   "metadata": {},
   "outputs": [],
   "source": []
  },
  {
   "cell_type": "code",
   "execution_count": null,
   "metadata": {},
   "outputs": [],
   "source": [
    "detok(input_idx[0][mask[0]])"
   ]
  },
  {
   "cell_type": "code",
   "execution_count": null,
   "metadata": {},
   "outputs": [],
   "source": []
  },
  {
   "cell_type": "code",
   "execution_count": null,
   "metadata": {},
   "outputs": [],
   "source": [
    "batch['input_idx'][:1]"
   ]
  },
  {
   "cell_type": "code",
   "execution_count": null,
   "metadata": {},
   "outputs": [],
   "source": [
    "accuracy"
   ]
  },
  {
   "cell_type": "code",
   "execution_count": null,
   "metadata": {},
   "outputs": [],
   "source": []
  },
  {
   "cell_type": "code",
   "execution_count": null,
   "metadata": {},
   "outputs": [],
   "source": [
    "\n",
    "\n",
    "\n",
    "\n",
    "custom_tree = list2tree([0, 1, 2, None, None, 3])\n",
    "custom_tree"
   ]
  },
  {
   "cell_type": "code",
   "execution_count": null,
   "metadata": {},
   "outputs": [],
   "source": [
    "prompt_tokens, path_tokens = tree2tokens(custom_tree)\n",
    "prompt_tokens"
   ]
  },
  {
   "cell_type": "code",
   "execution_count": null,
   "metadata": {},
   "outputs": [],
   "source": [
    "self = trainer.dataset\n",
    "prompt_idx = self.tokenizer(prompt_tokens)\n",
    "path_idx = self.tokenizer(path_tokens)\n",
    "\n",
    "input_tokens = prompt_idx + path_idx\n",
    "pad_len = self.tokenizer.MAX_SEQ_LEN - len(input_tokens)\n",
    "\n",
    "input_idx = torch.tensor(input_tokens + [0] * pad_len)\n",
    "# pad_mask = torch.zeros(self.tokenizer.MAX_SEQ_LEN)\n",
    "# pad_mask[:len(input_idx)] = 1\n",
    "\n",
    "task_mask = torch.zeros(self.tokenizer.MAX_SEQ_LEN, dtype=torch.bool)\n",
    "task_mask[len(prompt_idx):len(input_tokens)] = True"
   ]
  },
  {
   "cell_type": "code",
   "execution_count": null,
   "metadata": {},
   "outputs": [],
   "source": [
    "trainer.model(input_idx).argmax(dim=-1)"
   ]
  },
  {
   "cell_type": "code",
   "execution_count": null,
   "metadata": {},
   "outputs": [],
   "source": [
    "custom_input = ['0', ',', '→2', '0', ',', '→1', '1', ',', '→3', '|', '0', ':', '3', '→1', '→3']\n",
    "tok(custom_input)"
   ]
  },
  {
   "cell_type": "code",
   "execution_count": null,
   "metadata": {},
   "outputs": [],
   "source": [
    "custom_batch = {\n",
    "                'input_idx': input_idx[None],\n",
    "                'task_mask': task_mask[None],\n",
    "                # 'pad_mask': pad_mask,\n",
    "            }"
   ]
  },
  {
   "cell_type": "code",
   "execution_count": null,
   "metadata": {},
   "outputs": [],
   "source": [
    "print_preds(custom_batch)"
   ]
  },
  {
   "cell_type": "code",
   "execution_count": null,
   "metadata": {},
   "outputs": [],
   "source": [
    "input_idx = custom_batch['input_idx'].to(device)\n",
    "mask = batch['task_mask'].to(device)\n",
    "\n",
    "preds = trainer.model(custom_batch['input_idx'][:, :])"
   ]
  },
  {
   "cell_type": "code",
   "execution_count": null,
   "metadata": {},
   "outputs": [],
   "source": []
  },
  {
   "cell_type": "code",
   "execution_count": null,
   "metadata": {},
   "outputs": [],
   "source": [
    "detok(preds.argmax(dim=-1)[0])"
   ]
  },
  {
   "cell_type": "code",
   "execution_count": null,
   "metadata": {},
   "outputs": [],
   "source": [
    "tree_to_edges(parsed_input['tree'])"
   ]
  },
  {
   "cell_type": "code",
   "execution_count": null,
   "metadata": {},
   "outputs": [],
   "source": [
    "input_idx = batch['input_idx'].to(device)\n",
    "mask = batch['task_mask'].to(device)"
   ]
  },
  {
   "cell_type": "code",
   "execution_count": null,
   "metadata": {},
   "outputs": [],
   "source": [
    "logits, cache = trainer.model.run_with_cache(input_idx[:1])"
   ]
  },
  {
   "cell_type": "code",
   "execution_count": null,
   "metadata": {},
   "outputs": [],
   "source": [
    "# pip install circuitsvis"
   ]
  },
  {
   "cell_type": "code",
   "execution_count": null,
   "metadata": {},
   "outputs": [],
   "source": [
    "import circuitsvis as cv"
   ]
  },
  {
   "cell_type": "code",
   "execution_count": null,
   "metadata": {},
   "outputs": [],
   "source": [
    "# ! pip install webbrowser"
   ]
  },
  {
   "cell_type": "code",
   "execution_count": null,
   "metadata": {},
   "outputs": [],
   "source": [
    "# path = \"attn_heads.html\"\n",
    "\n",
    "# with open(path, \"w\") as f:\n",
    "#     f.write(str(attn_heads))\n",
    "\n",
    "# webbrowser.open(path)\n"
   ]
  },
  {
   "cell_type": "code",
   "execution_count": null,
   "metadata": {},
   "outputs": [],
   "source": [
    "parse_input_idx((input_idx[0]), tokenizer)[:0]"
   ]
  },
  {
   "cell_type": "code",
   "execution_count": null,
   "metadata": {},
   "outputs": [],
   "source": [
    "print(type(cache))\n",
    "attention_pattern = cache[\"pattern\", 0]\n",
    "print(attention_pattern.shape)\n",
    "str_tokens = detok (input_idx[0].cpu())\n",
    "\n",
    "print(\"Layer 0 Head Attention Patterns:\")\n",
    "attn_heads = (cv.attention.attention_patterns(\n",
    "    tokens=str_tokens,\n",
    "    attention=attention_pattern[0],\n",
    "    attention_head_names=[f\"L0H{i}\" for i in range(1)],\n",
    "))\n",
    "\n",
    "\n",
    "attn_heads"
   ]
  },
  {
   "cell_type": "code",
   "execution_count": null,
   "metadata": {},
   "outputs": [],
   "source": [
    "attention_pattern.shape"
   ]
  },
  {
   "cell_type": "code",
   "execution_count": null,
   "metadata": {},
   "outputs": [],
   "source": [
    "%pip install git+https://github.com/callummcdougall/CircuitsVis.git#subdirectory=python"
   ]
  },
  {
   "cell_type": "code",
   "execution_count": null,
   "metadata": {},
   "outputs": [],
   "source": [
    "path = \"attn_heads.html\"\n",
    "\n",
    "with open(path, \"w\") as f:\n",
    "    f.write(str(attn_heads))"
   ]
  },
  {
   "cell_type": "code",
   "execution_count": null,
   "metadata": {},
   "outputs": [],
   "source": [
    "cv.__version__"
   ]
  },
  {
   "cell_type": "code",
   "execution_count": null,
   "metadata": {},
   "outputs": [],
   "source": [
    "wandb.log({\"custom_file\": wandb.Html(open(path))})"
   ]
  },
  {
   "cell_type": "code",
   "execution_count": null,
   "metadata": {},
   "outputs": [],
   "source": [
    "! python --version"
   ]
  },
  {
   "cell_type": "code",
   "execution_count": null,
   "metadata": {},
   "outputs": [],
   "source": [
    "display(attn_heads)"
   ]
  },
  {
   "cell_type": "code",
   "execution_count": null,
   "metadata": {},
   "outputs": [],
   "source": [
    "# Python Example\n",
    "from circuitsvis.tokens import colored_tokens\n",
    "colored_tokens([\"My\", \"tokens\"], [0.123, -0.226])"
   ]
  },
  {
   "cell_type": "code",
   "execution_count": null,
   "metadata": {},
   "outputs": [],
   "source": []
  }
 ],
 "metadata": {
  "kernelspec": {
   "display_name": "Python 3 (ipykernel)",
   "language": "python",
   "name": "python3"
  },
  "language_info": {
   "codemirror_mode": {
    "name": "ipython",
    "version": 3
   },
   "file_extension": ".py",
   "mimetype": "text/x-python",
   "name": "python",
   "nbconvert_exporter": "python",
   "pygments_lexer": "ipython3",
   "version": "3.11.4"
  }
 },
 "nbformat": 4,
 "nbformat_minor": 4
}
