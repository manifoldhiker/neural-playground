{
 "cells": [
  {
   "cell_type": "markdown",
   "id": "7513749a-b815-484d-b9f0-981dc7b4729d",
   "metadata": {},
   "source": [
    "## Setup"
   ]
  },
  {
   "cell_type": "code",
   "execution_count": 1,
   "id": "cf177161-1ba6-4772-ac37-592f331d8de7",
   "metadata": {},
   "outputs": [],
   "source": [
    "import sys; sys.path.append('..')"
   ]
  },
  {
   "cell_type": "code",
   "execution_count": 2,
   "id": "4bc012d1-6121-4740-b86d-f36f289d6a3a",
   "metadata": {},
   "outputs": [],
   "source": [
    "# ! pip install lovely-tensors\n",
    "\n",
    "import lovely_tensors as lt\n",
    "lt.monkey_patch()"
   ]
  },
  {
   "cell_type": "code",
   "execution_count": 3,
   "id": "b5a27eb8-f821-4c29-b5c4-63545ac3b902",
   "metadata": {},
   "outputs": [],
   "source": [
    "import torch\n",
    "import numpy as np\n",
    "import pandas as pd\n",
    "import torch.nn.functional as F\n",
    "from torch.utils.data import DataLoader\n",
    "\n",
    "from transformer_lens import HookedTransformer, HookedTransformerConfig"
   ]
  },
  {
   "cell_type": "code",
   "execution_count": 4,
   "id": "b86a4834-bc55-4ae1-bce4-94b3b62f2625",
   "metadata": {},
   "outputs": [],
   "source": [
    "import wandb\n",
    "from tqdm.auto import tqdm\n",
    "\n",
    "from omegaconf import OmegaConf\n",
    "\n",
    "from datetime import datetime\n",
    "\n",
    "from pathlib import Path\n",
    "\n",
    "import numpy as np\n",
    "import seaborn as sns\n",
    "import matplotlib.pyplot as plt"
   ]
  },
  {
   "cell_type": "code",
   "execution_count": 5,
   "id": "0a81ac77-8f2e-4d58-a74f-38086a3fd94a",
   "metadata": {},
   "outputs": [],
   "source": [
    "from src.tree import list2tree\n",
    "from src.tree_dataset import TreeDataset, parse_input_idx, input_tokens_to_tree, tree_to_edges\n",
    "from src.utils import seed_all\n",
    "\n",
    "\n",
    "from src.trainer import accuracy_by_depth\n",
    "from src.trainer import TreeTrainer"
   ]
  },
  {
   "cell_type": "code",
   "execution_count": 6,
   "id": "587e27b0-e94e-46a1-8530-0d53f1fdda16",
   "metadata": {},
   "outputs": [
    {
     "name": "stdout",
     "output_type": "stream",
     "text": [
      "random_seed: 42\n",
      "n_nodes: 16\n",
      "model:\n",
      "  d_model: 128\n",
      "  d_head: 128\n",
      "  n_layers: 6\n",
      "  act_fn: gelu\n",
      "  attention_dir: causal\n",
      "optimizer:\n",
      "  lr: 0.001\n",
      "  weight_decay: 0.01\n",
      "batch_size: 64\n",
      "epoch_len_steps: 5000\n",
      "checkpoint_every_epoch: 2\n",
      "device: cpu\n",
      "debug: false\n",
      "use_wandb: true\n",
      "wandb:\n",
      "  project: reasoning-mech-interp\n",
      "  name: 00_6L_nodes=16\n",
      "max_iters: null\n",
      "\n"
     ]
    }
   ],
   "source": [
    "conf = OmegaConf.load('../conf/00_reproduce_6L_nodes=16.yaml')\n",
    "# Output is identical to the YAML file\n",
    "conf.n_nodes = 16\n",
    "conf.device = 'cpu'\n",
    "print(OmegaConf.to_yaml(conf))"
   ]
  },
  {
   "cell_type": "code",
   "execution_count": 7,
   "id": "814e1fac-d41c-41e7-9f2a-00baf2d75349",
   "metadata": {},
   "outputs": [],
   "source": [
    "REPRODUCED_MODEL_CKPT = '../checkpoints/reasoning-mech-interp__2024-04-10_16-10-20/00_6L_nodes=16__step=220000.pt'"
   ]
  },
  {
   "cell_type": "code",
   "execution_count": 8,
   "id": "d435b4a1-2a21-4e1b-aeb5-771a22b0a3c3",
   "metadata": {},
   "outputs": [
    {
     "name": "stdout",
     "output_type": "stream",
     "text": [
      "RANDOM_SEED=42\n"
     ]
    }
   ],
   "source": [
    "device = conf.device\n",
    "\n",
    "RANDOM_SEED = conf['random_seed']\n",
    "print(f'{RANDOM_SEED=}')\n",
    "seed_all(RANDOM_SEED)"
   ]
  },
  {
   "cell_type": "code",
   "execution_count": 9,
   "id": "e7c02ea8-b683-4933-a527-4f3e2ed15e34",
   "metadata": {},
   "outputs": [
    {
     "name": "stdout",
     "output_type": "stream",
     "text": [
      "Moving model to device:  cpu\n"
     ]
    },
    {
     "data": {
      "text/plain": [
       "<All keys matched successfully>"
      ]
     },
     "execution_count": 9,
     "metadata": {},
     "output_type": "execute_result"
    }
   ],
   "source": [
    "trainer = TreeTrainer(conf)\n",
    "\n",
    "tokenizer = trainer.dataset.tokenizer\n",
    "\n",
    "tok = tokenizer.tokenize\n",
    "detok = tokenizer.detokenize\n",
    "\n",
    "\n",
    "ROOT_DELIM_TOKEN_IDX = trainer.tok([':'])[0]\n",
    "\n",
    "state_dict = torch.load(REPRODUCED_MODEL_CKPT)\n",
    "trainer.model.load_state_dict(state_dict)"
   ]
  },
  {
   "cell_type": "code",
   "execution_count": 10,
   "id": "a9ce022d-b1d7-4f6e-b32a-045244e24d01",
   "metadata": {},
   "outputs": [],
   "source": [
    "def load_baseline_model(device='cpu'):\n",
    "    n_states = 16\n",
    "    max_seq_length = n_states * 4 + 2\n",
    "    \n",
    "    number_tokens = sorted([str(i) for i in range(n_states)], key=lambda x: len(x), reverse=True)\n",
    "    idx2tokens = [\",\", \":\", \"|\"] + [f\">{t}\" for t in number_tokens] + number_tokens\n",
    "    tokens2idx = {token: idx for idx, token in enumerate(idx2tokens)}\n",
    "    \n",
    "    \n",
    "    cfg = HookedTransformerConfig(\n",
    "        n_layers=6,\n",
    "        d_model=128,\n",
    "        n_ctx=max_seq_length - 1,\n",
    "        n_heads=1,\n",
    "        d_mlp=512,\n",
    "        d_head=128,\n",
    "        #attn_only=True,\n",
    "        d_vocab=len(idx2tokens),\n",
    "        device=device,\n",
    "        attention_dir= \"causal\",\n",
    "        act_fn=\"gelu\",\n",
    "    )\n",
    "    model = HookedTransformer(cfg)\n",
    "    \n",
    "    model.load_state_dict(torch.load(\"/Users/mykhailokilianovskyi/src/backward-chaining-circuits/model.pt\", map_location=torch.device(device)))\n",
    "    \n",
    "    return model"
   ]
  },
  {
   "cell_type": "code",
   "execution_count": 11,
   "id": "f0431283-0434-4d25-8b6f-0b70a3c9d02f",
   "metadata": {},
   "outputs": [],
   "source": [
    "from src.tree_dataset import PAD_TOKEN"
   ]
  },
  {
   "cell_type": "code",
   "execution_count": 12,
   "id": "d9780e89-4bff-4a90-be7f-f61d7de59d6a",
   "metadata": {},
   "outputs": [],
   "source": [
    "n_states = 16\n",
    "bas_max_seq_length = n_states * 4 + 2\n",
    "\n",
    "number_tokens = sorted([str(i) for i in range(n_states)], key=lambda x: len(x), reverse=True)\n",
    "idx2tokens = [\",\", \":\", \"|\"] + [f\">{t}\" for t in number_tokens] + number_tokens\n",
    "tokens2idx = {token: idx for idx, token in enumerate(idx2tokens)}"
   ]
  },
  {
   "cell_type": "code",
   "execution_count": 13,
   "id": "028bf257-dd6a-4809-94ea-b50940403ee9",
   "metadata": {},
   "outputs": [],
   "source": [
    "token2bastoken = {k.replace('>', '→'):k for k in tokens2idx.keys()}\n",
    "token2bastoken[PAD_TOKEN] = ','\n",
    "\n",
    "our_idx2token = trainer.dataset.tokenizer.idx2token\n",
    "\n",
    "idx2basidx = {}"
   ]
  },
  {
   "cell_type": "code",
   "execution_count": 14,
   "id": "0a1865b6-d26e-42fd-90b0-bb64cae79e96",
   "metadata": {},
   "outputs": [],
   "source": [
    "for idx, our_tok in our_idx2token.items():\n",
    "    bastoken = token2bastoken[our_tok]\n",
    "    basidx = tokens2idx[bastoken]\n",
    "    idx2basidx[idx] = basidx"
   ]
  },
  {
   "cell_type": "code",
   "execution_count": 15,
   "id": "2afa9db3-5965-4ce2-b50d-48a11253dd2f",
   "metadata": {},
   "outputs": [],
   "source": [
    "def map_input_idx_to_bas(input_idx):\n",
    "    return input_idx.clone().apply_(lambda i: idx2basidx[i])"
   ]
  },
  {
   "cell_type": "code",
   "execution_count": null,
   "id": "ed3ea008-0a87-4dc4-8585-69dbefdabf18",
   "metadata": {},
   "outputs": [],
   "source": []
  },
  {
   "cell_type": "markdown",
   "id": "1fa46878-de2f-49d1-8310-371e28314047",
   "metadata": {},
   "source": [
    "## Do Transformers dream on their own goals?"
   ]
  },
  {
   "cell_type": "code",
   "execution_count": 16,
   "id": "be06d52d-3453-4ef7-81fd-796577f1fcec",
   "metadata": {},
   "outputs": [
    {
     "name": "stdout",
     "output_type": "stream",
     "text": [
      "prompt_tokens[:7]=['12', '→10', ',', '4', '→15', ',', '12']\n"
     ]
    },
    {
     "data": {
      "text/plain": [
       "                       3\n",
       "                       |\n",
       "              +--------+-----------+\n",
       "              |                    |\n",
       "              0                    8\n",
       "              |                    |\n",
       "  +-----------+-----+        +-----+--------+\n",
       "  |                 |        |              |\n",
       " 11                 2       12              6\n",
       "  |                 |        |              |\n",
       "  +--------+     +--+     +--+--+     +-----+--+\n",
       "           |     |        |     |     |        |\n",
       "           4     1       10    14     5        7\n",
       "           |                          |\n",
       "     +-----+                          +--+\n",
       "     |                                   |\n",
       "    15                                   9\n",
       "     |\n",
       "     +--+\n",
       "        |\n",
       "       13"
      ]
     },
     "execution_count": 16,
     "metadata": {},
     "output_type": "execute_result"
    }
   ],
   "source": [
    "from src.tree_dataset import random_binary_tree, create_tree_path\n",
    "\n",
    "\n",
    "test_tree = random_binary_tree(16, seed=42)\n",
    "prompt_tokens, path_tokens = create_tree_path(test_tree, goal=9)\n",
    "print(f'{prompt_tokens[:7]=}')\n",
    "test_tree"
   ]
  },
  {
   "cell_type": "markdown",
   "id": "78db466c-4241-4bbb-ba7c-d80c841c1b27",
   "metadata": {},
   "source": [
    "#### Setup"
   ]
  },
  {
   "cell_type": "markdown",
   "id": "84696fae-8fdd-4940-9110-0ddd158a805f",
   "metadata": {},
   "source": [
    "Experiment goal: test if trained model can come up with its \n",
    "\n",
    "**Why it is interesting?**\n",
    "\n",
    "  - It was only trained to find path given the goal and root specified, and this is (very roughly) Out-of-distribution task\n",
    "  - On the abstract level idea sounds cool: let transformer come up with its own goal and\n",
    "    - We can study what kind of goals are hallucinated (e.g. do the depth distribution matches the training data, or it matches distribution that model learned best / has best performance on)\n",
    "   \n",
    "\n",
    "**Implementation details**\n",
    "\n",
    "  - Leave only tree node\n",
    "  - Generate batches of such examples\n",
    "  - Find the correct path to the goal with BFS\n",
    "  - Record a bunch of statistics:\n",
    "    - If goal was hallucinated at all (have the correct format)\n",
    "    - If prediction was successful\n",
    "    - Depth of the hallucinated goal\n",
    "    - Whether goal is a leaf node\n",
    "    - Position of edges with a goal node (to see maybe goal generation is biased towards first/last mentioned edge)"
   ]
  },
  {
   "cell_type": "code",
   "execution_count": 17,
   "id": "dfe3421d-12a1-4b48-90a2-53799748164a",
   "metadata": {},
   "outputs": [],
   "source": [
    "for batch in trainer.dataloader:\n",
    "    break"
   ]
  },
  {
   "cell_type": "code",
   "execution_count": 18,
   "id": "f170f40d-9bab-44df-b08a-2d8dbcfc95a8",
   "metadata": {},
   "outputs": [],
   "source": [
    "input_idx = batch['input_idx'].to()"
   ]
  },
  {
   "cell_type": "code",
   "execution_count": 19,
   "id": "7f85f94b-32ff-4019-a91c-2f876b00ffb8",
   "metadata": {},
   "outputs": [],
   "source": [
    "BAS_ROOT_DELIM_TOKEN_IDX = tokens2idx['|']\n",
    "def basidx2prompt(idx): return [idx2tokens[i] for i in idx]"
   ]
  },
  {
   "cell_type": "code",
   "execution_count": 20,
   "id": "18dce818-f1bb-4597-ae2c-fd3396700381",
   "metadata": {},
   "outputs": [],
   "source": [
    "baseline_model = load_baseline_model()"
   ]
  },
  {
   "cell_type": "code",
   "execution_count": 21,
   "id": "f4305983-3cce-4252-97df-7a0b78014d2d",
   "metadata": {},
   "outputs": [
    {
     "data": {
      "text/plain": [
       "['>15', ',', '8', '>1', '|']"
      ]
     },
     "execution_count": 21,
     "metadata": {},
     "output_type": "execute_result"
    }
   ],
   "source": [
    "our_tokens = detok(input_idx[0])\n",
    "bas_tokens = [token2bastoken[t] for t in our_tokens]\n",
    "# print(f'{bas_tokens[:5]=}')\n",
    "\n",
    "bas_idx = [tokens2idx[t] for t in bas_tokens]\n",
    "upper_task_bound = bas_idx.index(BAS_ROOT_DELIM_TOKEN_IDX) + 4\n",
    "upper_TREE_bound = bas_idx.index(BAS_ROOT_DELIM_TOKEN_IDX)\n",
    "prompt_idx = bas_idx[:upper_TREE_bound+1]\n",
    "basidx2prompt(prompt_idx)[-5:]"
   ]
  },
  {
   "cell_type": "code",
   "execution_count": null,
   "id": "62381135-6d84-4189-8376-9010ea191eec",
   "metadata": {},
   "outputs": [],
   "source": []
  },
  {
   "cell_type": "code",
   "execution_count": 22,
   "id": "01985586-e6cf-4d20-a3e8-eb856d9cafef",
   "metadata": {},
   "outputs": [
    {
     "name": "stdout",
     "output_type": "stream",
     "text": [
      "pred_token='>11'\n",
      "pred_token='>13'\n",
      "pred_token='>5'\n",
      "pred_token='>9'\n",
      "pred_token='>4'\n",
      "pred_token='>11'\n",
      "pred_token='>8'\n"
     ]
    }
   ],
   "source": [
    "for i in range(7):\n",
    "    pred_idx_greedy = baseline_model(torch.tensor(prompt_idx))[0, -1].argmax()\n",
    "    pred_token = idx2tokens[pred_idx_greedy]\n",
    "    print(f'{pred_token=}')\n",
    "    prompt_idx.append(pred_idx_greedy)"
   ]
  },
  {
   "cell_type": "code",
   "execution_count": null,
   "id": "43cfe416-56c4-44f1-8d8b-fc1b5db6b76e",
   "metadata": {},
   "outputs": [],
   "source": []
  },
  {
   "cell_type": "code",
   "execution_count": 23,
   "id": "a7f8db20-15fe-41c8-b4d9-c03c56861416",
   "metadata": {},
   "outputs": [
    {
     "data": {
      "application/vnd.jupyter.widget-view+json": {
       "model_id": "d65cb9c1422948ad95a14d6ff23d1ce2",
       "version_major": 2,
       "version_minor": 0
      },
      "text/plain": [
       "0it [00:00, ?it/s]"
      ]
     },
     "metadata": {},
     "output_type": "display_data"
    }
   ],
   "source": [
    "for j,batch in tqdm(zip(range(1), trainer.dataloader) ):\n",
    "    input_idx = batch['input_idx'].to(device)\n",
    "    for sample_input_idx in input_idx:\n",
    "        ROOT_DELIM_TOKEN_IDX = trainer.tok([':'])[0]\n",
    "        \n",
    "        \n",
    "        upper_task_bound = sample_input_idx.tolist().index(ROOT_DELIM_TOKEN_IDX) + 2\n",
    "        prompt_autoregressive = trainer.detok(sample_input_idx)[:upper_task_bound-3]\n",
    "        input_tree = input_tokens_to_tree(prompt_autoregressive)\n",
    "        \n",
    "        prompt = prompt_autoregressive\n",
    "    \n",
    "        parsed_input = parse_input_idx(sample_input_idx, trainer.dataset.tokenizer)\n",
    "        gt_path = parsed_input['path']\n",
    "        pred_path = []\n",
    "        \n",
    "        for i in range(len(gt_path)):\n",
    "            pred_token = trainer.inference_on_prompt(prompt)\n",
    "            pred_path.append(pred_token)\n",
    "            prompt += [pred_token]\n",
    "        \n",
    "        if ':' in pred_path:\n",
    "            print('FoUND')\n",
    "            print(pred_path)"
   ]
  },
  {
   "cell_type": "code",
   "execution_count": 24,
   "id": "1a6b1121-4aa6-44a2-8e3a-5fb2dd5c3f44",
   "metadata": {},
   "outputs": [
    {
     "name": "stdout",
     "output_type": "stream",
     "text": [
      "['15', '→8', '|', '7', ':']\n"
     ]
    }
   ],
   "source": [
    "ROOT_DELIM_TOKEN_IDX = trainer.tok([':'])[0]\n",
    "\n",
    "\n",
    "upper_task_bound = sample_input_idx.tolist().index(ROOT_DELIM_TOKEN_IDX) + 2\n",
    "prompt_autoregressive = trainer.detok(sample_input_idx)[:upper_task_bound-1]\n",
    "input_tree = input_tokens_to_tree(prompt_autoregressive)\n",
    "\n",
    "prompt = prompt_autoregressive\n",
    "print(prompt[-5:])\n",
    "parsed_input = parse_input_idx(sample_input_idx, trainer.dataset.tokenizer)\n",
    "gt_path = parsed_input['path']\n",
    "pred_path = []\n",
    "\n",
    "for i in range(len(gt_path)):\n",
    "    pred_token = trainer.inference_on_prompt(prompt)\n",
    "    pred_path.append(pred_token)\n",
    "    prompt += [pred_token]"
   ]
  },
  {
   "cell_type": "code",
   "execution_count": 25,
   "id": "a75c643a-bc10-4136-b44f-a203e8da2078",
   "metadata": {},
   "outputs": [
    {
     "data": {
      "text/plain": [
       "['→8', '→3']"
      ]
     },
     "execution_count": 25,
     "metadata": {},
     "output_type": "execute_result"
    }
   ],
   "source": [
    "pred_path"
   ]
  },
  {
   "cell_type": "code",
   "execution_count": 26,
   "id": "f1c13dcf-62e4-4725-938a-70d776bab030",
   "metadata": {},
   "outputs": [],
   "source": [
    "input_idx = batch['input_idx'].to(device)\n",
    "for sample_input_idx in input_idx:\n",
    "    ROOT_DELIM_TOKEN_IDX = trainer.tok([':'])[0]\n",
    "    \n",
    "    \n",
    "    upper_task_bound = sample_input_idx.tolist().index(ROOT_DELIM_TOKEN_IDX) + 2\n",
    "    prompt_autoregressive = trainer.detok(sample_input_idx)[:upper_task_bound-1]\n",
    "    input_tree = input_tokens_to_tree(prompt_autoregressive)\n",
    "    \n",
    "    prompt = prompt_autoregressive\n",
    "\n",
    "    parsed_input = parse_input_idx(sample_input_idx, trainer.dataset.tokenizer)\n",
    "    gt_path = parsed_input['path']\n",
    "    pred_path = []\n",
    "    \n",
    "    for i in range(len(gt_path)):\n",
    "        pred_token = trainer.inference_on_prompt(prompt)\n",
    "        pred_path.append(pred_token)\n",
    "        prompt += [pred_token]\n",
    "    \n",
    "    if ':' in pred_path:\n",
    "        print('FoUND')\n",
    "        print(pred_path)"
   ]
  },
  {
   "cell_type": "code",
   "execution_count": 27,
   "id": "e67f3071-732e-49ff-aa8e-3c3512b06ff4",
   "metadata": {},
   "outputs": [
    {
     "data": {
      "application/vnd.jupyter.widget-view+json": {
       "model_id": "9d0e9c32537641248901443d50e71c60",
       "version_major": 2,
       "version_minor": 0
      },
      "text/plain": [
       "0it [00:00, ?it/s]"
      ]
     },
     "metadata": {},
     "output_type": "display_data"
    }
   ],
   "source": [
    "for j,batch in tqdm(zip(range(1), trainer.dataloader) ):\n",
    "    input_idx = batch['input_idx'].to(device)\n",
    "    for sample_input_idx in input_idx:\n",
    "        ROOT_DELIM_TOKEN_IDX = trainer.tok([':'])[0]\n",
    "        \n",
    "        \n",
    "        upper_task_bound = sample_input_idx.tolist().index(ROOT_DELIM_TOKEN_IDX) + 2\n",
    "        prompt_autoregressive = trainer.detok(sample_input_idx)[:upper_task_bound-3]\n",
    "        input_tree = input_tokens_to_tree(prompt_autoregressive)\n",
    "        \n",
    "        prompt = prompt_autoregressive\n",
    "    \n",
    "        parsed_input = parse_input_idx(sample_input_idx, trainer.dataset.tokenizer)\n",
    "        gt_path = parsed_input['path']\n",
    "        pred_path = []\n",
    "        \n",
    "        for i in range(len(gt_path)):\n",
    "            pred_token = trainer.inference_on_prompt(prompt)\n",
    "            pred_path.append(pred_token)\n",
    "            prompt += [pred_token]\n",
    "        \n",
    "        if ':' in pred_path:\n",
    "            print('FoUND')\n",
    "            print(pred_path)"
   ]
  },
  {
   "cell_type": "code",
   "execution_count": 28,
   "id": "b416e7f8-0559-4510-bae3-310f6967e1dc",
   "metadata": {},
   "outputs": [],
   "source": [
    "# break"
   ]
  },
  {
   "cell_type": "markdown",
   "id": "1537b0c2-f1ea-488b-93a5-b7e8a3f3c73f",
   "metadata": {},
   "source": [
    "## H#0: \"Edge Embeddings\" are learned"
   ]
  },
  {
   "cell_type": "markdown",
   "id": "20ac5373-993e-4ee7-a7c8-95fb3829c73c",
   "metadata": {},
   "source": [
    "### Check that this info is in $x_1$ (residual stream after first layer)"
   ]
  },
  {
   "cell_type": "code",
   "execution_count": 95,
   "id": "037511c2-10c4-4670-b0b3-38edff0a372f",
   "metadata": {},
   "outputs": [],
   "source": [
    "seed_all(20)\n",
    "for batch in trainer.dataloader: \n",
    "    break"
   ]
  },
  {
   "cell_type": "code",
   "execution_count": 96,
   "id": "c92acfb1-bbe4-4cbc-9892-753e4d85eef7",
   "metadata": {},
   "outputs": [],
   "source": [
    "self = trainer"
   ]
  },
  {
   "cell_type": "code",
   "execution_count": 97,
   "id": "bc502309-8107-47f9-8aff-0a9a987d2a1d",
   "metadata": {},
   "outputs": [],
   "source": [
    "input_idx = batch['input_idx'].to(self.device)\n",
    "mask = batch['task_mask'].to(self.device)\n",
    "\n",
    "inputs = input_idx[:, :-1]\n",
    "\n",
    "out_mask = mask[:, 1:]\n",
    "targets = input_idx[:, 1:][out_mask]\n",
    "\n",
    "\n",
    "# print(input_idx[:1, :4])\n",
    "outputs = self.model(inputs)\n",
    "\n",
    "predictions = outputs[out_mask]\n",
    "\n",
    "loss = F.cross_entropy(predictions, targets)\n",
    "\n",
    "is_correct = (predictions.argmax(dim=-1) == targets)\n",
    "accuracy_mean = is_correct.float().mean()\n",
    "metrics = accuracy_by_depth(outputs, input_idx, out_mask)\n",
    "metrics['accuracy/mean'] = accuracy_mean.item()"
   ]
  },
  {
   "cell_type": "code",
   "execution_count": 98,
   "id": "e64c58ca-67b2-4f22-9d67-48a9a60c1d32",
   "metadata": {},
   "outputs": [],
   "source": [
    "outputs, cache = self.model.run_with_cache(inputs)"
   ]
  },
  {
   "cell_type": "code",
   "execution_count": 99,
   "id": "42caafa5-b47c-435f-8af0-2da43e3efbb3",
   "metadata": {},
   "outputs": [],
   "source": [
    "l0_attention_pattern = cache['pattern', 0][0]\n",
    "input_str = detok(inputs[0])"
   ]
  },
  {
   "cell_type": "code",
   "execution_count": 100,
   "id": "0f96078f-7754-4c28-982e-05c6725a54fb",
   "metadata": {},
   "outputs": [],
   "source": [
    "test_tree_tokens = detok(inputs[0])"
   ]
  },
  {
   "cell_type": "code",
   "execution_count": 101,
   "id": "d797d1fb-f43f-4c56-af01-175495fbe21b",
   "metadata": {},
   "outputs": [
    {
     "name": "stdout",
     "output_type": "stream",
     "text": [
      "****************************************************************************************************\n",
      "                                               4\n",
      "                                               |\n",
      "                 +-----------------------------+\n",
      "                 |\n",
      "                15\n",
      "                 |\n",
      "        +--------+-----------------------+\n",
      "        |                                |\n",
      "        7                               10\n",
      "        |                                |\n",
      "     +--+-----+              +-----------+--+\n",
      "     |        |              |              |\n",
      "    14       11             13              6\n",
      "     |        |              |\n",
      "  +--+     +--+           +--+-----+\n",
      "  |        |              |        |\n",
      " 12        8              1        2\n",
      "                          |        |\n",
      "                       +--+     +--+--+\n",
      "                       |        |     |\n",
      "                       5        0     3\n",
      "                       |\n",
      "                    +--+\n",
      "                    |\n",
      "                    9\n",
      "\n",
      "goal=8\n",
      "accuracy=1.0 gt_path=['→15', '→7', '→11', '→8'] pred_path=['→15', '→7', '→11', '→8']\n",
      "****************************************************************************************************\n"
     ]
    }
   ],
   "source": [
    "trainer.print_sample_pred(inputs[0])"
   ]
  },
  {
   "cell_type": "code",
   "execution_count": 102,
   "id": "90e7d69f-199c-4de3-8cca-9024fd965dfa",
   "metadata": {},
   "outputs": [],
   "source": [
    "import circuitsvis as cv"
   ]
  },
  {
   "cell_type": "code",
   "execution_count": 103,
   "id": "ec3254d2-f282-41f8-8be5-c43d86ba5fbf",
   "metadata": {},
   "outputs": [
    {
     "name": "stdout",
     "output_type": "stream",
     "text": [
      "Layer 0 Head Attention Pattern:\n"
     ]
    },
    {
     "data": {
      "text/html": [
       "<div id=\"circuits-vis-1a5ceffd-8692\" style=\"margin: 15px 0;\"/>\n",
       "    <script crossorigin type=\"module\">\n",
       "    import { render, AttentionPatterns } from \"https://unpkg.com/circuitsvis@1.41.0/dist/cdn/esm.js\";\n",
       "    render(\n",
       "      \"circuits-vis-1a5ceffd-8692\",\n",
       "      AttentionPatterns,\n",
       "      {\"tokens\": [\"10\", \"\\u219213\", \",\", \"5\", \"\\u21929\", \",\", \"7\", \"\\u219214\", \",\", \"1\", \"\\u21925\", \",\", \"7\", \"\\u219211\", \",\", \"10\", \"\\u21926\", \",\", \"4\", \"\\u219215\", \",\", \"14\", \"\\u219212\", \",\", \"13\", \"\\u21921\", \",\", \"11\", \"\\u21928\", \",\", \"13\", \"\\u21922\", \",\", \"2\", \"\\u21920\", \",\", \"2\", \"\\u21923\", \",\", \"15\", \"\\u21927\", \",\", \"15\", \"\\u219210\", \"|\", \"8\", \":\", \"4\", \"\\u219215\", \"\\u21927\", \"\\u219211\", \"\\u21928\", \"<PAD>\", \"<PAD>\", \"<PAD>\", \"<PAD>\", \"<PAD>\", \"<PAD>\", \"<PAD>\", \"<PAD>\", \"<PAD>\", \"<PAD>\", \"<PAD>\", \"<PAD>\", \"<PAD>\", \"<PAD>\", \"<PAD>\"], \"attention\": [[[1.0, 0.0, 0.0, 0.0, 0.0, 0.0, 0.0, 0.0, 0.0, 0.0, 0.0, 0.0, 0.0, 0.0, 0.0, 0.0, 0.0, 0.0, 0.0, 0.0, 0.0, 0.0, 0.0, 0.0, 0.0, 0.0, 0.0, 0.0, 0.0, 0.0, 0.0, 0.0, 0.0, 0.0, 0.0, 0.0, 0.0, 0.0, 0.0, 0.0, 0.0, 0.0, 0.0, 0.0, 0.0, 0.0, 0.0, 0.0, 0.0, 0.0, 0.0, 0.0, 0.0, 0.0, 0.0, 0.0, 0.0, 0.0, 0.0, 0.0, 0.0, 0.0, 0.0, 0.0, 0.0, 0.0, 0.0], [0.1802314966917038, 0.8197685480117798, 0.0, 0.0, 0.0, 0.0, 0.0, 0.0, 0.0, 0.0, 0.0, 0.0, 0.0, 0.0, 0.0, 0.0, 0.0, 0.0, 0.0, 0.0, 0.0, 0.0, 0.0, 0.0, 0.0, 0.0, 0.0, 0.0, 0.0, 0.0, 0.0, 0.0, 0.0, 0.0, 0.0, 0.0, 0.0, 0.0, 0.0, 0.0, 0.0, 0.0, 0.0, 0.0, 0.0, 0.0, 0.0, 0.0, 0.0, 0.0, 0.0, 0.0, 0.0, 0.0, 0.0, 0.0, 0.0, 0.0, 0.0, 0.0, 0.0, 0.0, 0.0, 0.0, 0.0, 0.0, 0.0], [0.46280917525291443, 0.3149619400501251, 0.22222889959812164, 0.0, 0.0, 0.0, 0.0, 0.0, 0.0, 0.0, 0.0, 0.0, 0.0, 0.0, 0.0, 0.0, 0.0, 0.0, 0.0, 0.0, 0.0, 0.0, 0.0, 0.0, 0.0, 0.0, 0.0, 0.0, 0.0, 0.0, 0.0, 0.0, 0.0, 0.0, 0.0, 0.0, 0.0, 0.0, 0.0, 0.0, 0.0, 0.0, 0.0, 0.0, 0.0, 0.0, 0.0, 0.0, 0.0, 0.0, 0.0, 0.0, 0.0, 0.0, 0.0, 0.0, 0.0, 0.0, 0.0, 0.0, 0.0, 0.0, 0.0, 0.0, 0.0, 0.0, 0.0], [0.14968565106391907, 0.317668080329895, 0.43302014470100403, 0.0996260866522789, 0.0, 0.0, 0.0, 0.0, 0.0, 0.0, 0.0, 0.0, 0.0, 0.0, 0.0, 0.0, 0.0, 0.0, 0.0, 0.0, 0.0, 0.0, 0.0, 0.0, 0.0, 0.0, 0.0, 0.0, 0.0, 0.0, 0.0, 0.0, 0.0, 0.0, 0.0, 0.0, 0.0, 0.0, 0.0, 0.0, 0.0, 0.0, 0.0, 0.0, 0.0, 0.0, 0.0, 0.0, 0.0, 0.0, 0.0, 0.0, 0.0, 0.0, 0.0, 0.0, 0.0, 0.0, 0.0, 0.0, 0.0, 0.0, 0.0, 0.0, 0.0, 0.0, 0.0], [0.0715925544500351, 0.09768126159906387, 0.5391084551811218, 0.25360018014907837, 0.038017548620700836, 0.0, 0.0, 0.0, 0.0, 0.0, 0.0, 0.0, 0.0, 0.0, 0.0, 0.0, 0.0, 0.0, 0.0, 0.0, 0.0, 0.0, 0.0, 0.0, 0.0, 0.0, 0.0, 0.0, 0.0, 0.0, 0.0, 0.0, 0.0, 0.0, 0.0, 0.0, 0.0, 0.0, 0.0, 0.0, 0.0, 0.0, 0.0, 0.0, 0.0, 0.0, 0.0, 0.0, 0.0, 0.0, 0.0, 0.0, 0.0, 0.0, 0.0, 0.0, 0.0, 0.0, 0.0, 0.0, 0.0, 0.0, 0.0, 0.0, 0.0, 0.0, 0.0], [0.04129505529999733, 0.05374409258365631, 0.1070905551314354, 0.427110880613327, 0.3026411831378937, 0.06811823695898056, 0.0, 0.0, 0.0, 0.0, 0.0, 0.0, 0.0, 0.0, 0.0, 0.0, 0.0, 0.0, 0.0, 0.0, 0.0, 0.0, 0.0, 0.0, 0.0, 0.0, 0.0, 0.0, 0.0, 0.0, 0.0, 0.0, 0.0, 0.0, 0.0, 0.0, 0.0, 0.0, 0.0, 0.0, 0.0, 0.0, 0.0, 0.0, 0.0, 0.0, 0.0, 0.0, 0.0, 0.0, 0.0, 0.0, 0.0, 0.0, 0.0, 0.0, 0.0, 0.0, 0.0, 0.0, 0.0, 0.0, 0.0, 0.0, 0.0, 0.0, 0.0], [0.1153222993016243, 0.2711406350135803, 0.28033533692359924, 0.04639905318617821, 0.046533480286598206, 0.15813708305358887, 0.08213208615779877, 0.0, 0.0, 0.0, 0.0, 0.0, 0.0, 0.0, 0.0, 0.0, 0.0, 0.0, 0.0, 0.0, 0.0, 0.0, 0.0, 0.0, 0.0, 0.0, 0.0, 0.0, 0.0, 0.0, 0.0, 0.0, 0.0, 0.0, 0.0, 0.0, 0.0, 0.0, 0.0, 0.0, 0.0, 0.0, 0.0, 0.0, 0.0, 0.0, 0.0, 0.0, 0.0, 0.0, 0.0, 0.0, 0.0, 0.0, 0.0, 0.0, 0.0, 0.0, 0.0, 0.0, 0.0, 0.0, 0.0, 0.0, 0.0, 0.0, 0.0], [0.05804722011089325, 0.09262041747570038, 0.3888314962387085, 0.032362181693315506, 0.019115880131721497, 0.11227685213088989, 0.2599881887435913, 0.03675779327750206, 0.0, 0.0, 0.0, 0.0, 0.0, 0.0, 0.0, 0.0, 0.0, 0.0, 0.0, 0.0, 0.0, 0.0, 0.0, 0.0, 0.0, 0.0, 0.0, 0.0, 0.0, 0.0, 0.0, 0.0, 0.0, 0.0, 0.0, 0.0, 0.0, 0.0, 0.0, 0.0, 0.0, 0.0, 0.0, 0.0, 0.0, 0.0, 0.0, 0.0, 0.0, 0.0, 0.0, 0.0, 0.0, 0.0, 0.0, 0.0, 0.0, 0.0, 0.0, 0.0, 0.0, 0.0, 0.0, 0.0, 0.0, 0.0, 0.0], [0.020039033144712448, 0.032406892627477646, 0.07180342823266983, 0.01487674843519926, 0.018416738137602806, 0.018231110647320747, 0.4652477204799652, 0.2887362837791443, 0.0702420324087143, 0.0, 0.0, 0.0, 0.0, 0.0, 0.0, 0.0, 0.0, 0.0, 0.0, 0.0, 0.0, 0.0, 0.0, 0.0, 0.0, 0.0, 0.0, 0.0, 0.0, 0.0, 0.0, 0.0, 0.0, 0.0, 0.0, 0.0, 0.0, 0.0, 0.0, 0.0, 0.0, 0.0, 0.0, 0.0, 0.0, 0.0, 0.0, 0.0, 0.0, 0.0, 0.0, 0.0, 0.0, 0.0, 0.0, 0.0, 0.0, 0.0, 0.0, 0.0, 0.0, 0.0, 0.0, 0.0, 0.0, 0.0, 0.0], [0.07798708975315094, 0.28217175602912903, 0.10263147950172424, 0.04712832346558571, 0.053148508071899414, 0.11439403891563416, 0.04299831762909889, 0.03728285804390907, 0.08818630129098892, 0.15407121181488037, 0.0, 0.0, 0.0, 0.0, 0.0, 0.0, 0.0, 0.0, 0.0, 0.0, 0.0, 0.0, 0.0, 0.0, 0.0, 0.0, 0.0, 0.0, 0.0, 0.0, 0.0, 0.0, 0.0, 0.0, 0.0, 0.0, 0.0, 0.0, 0.0, 0.0, 0.0, 0.0, 0.0, 0.0, 0.0, 0.0, 0.0, 0.0, 0.0, 0.0, 0.0, 0.0, 0.0, 0.0, 0.0, 0.0, 0.0, 0.0, 0.0, 0.0, 0.0, 0.0, 0.0, 0.0, 0.0, 0.0, 0.0], [0.049800727516412735, 0.09011905640363693, 0.22727273404598236, 0.01023516058921814, 0.01977979764342308, 0.1465405821800232, 0.02366669289767742, 0.016458772122859955, 0.08991982787847519, 0.30243703722953796, 0.023769646883010864, 0.0, 0.0, 0.0, 0.0, 0.0, 0.0, 0.0, 0.0, 0.0, 0.0, 0.0, 0.0, 0.0, 0.0, 0.0, 0.0, 0.0, 0.0, 0.0, 0.0, 0.0, 0.0, 0.0, 0.0, 0.0, 0.0, 0.0, 0.0, 0.0, 0.0, 0.0, 0.0, 0.0, 0.0, 0.0, 0.0, 0.0, 0.0, 0.0, 0.0, 0.0, 0.0, 0.0, 0.0, 0.0, 0.0, 0.0, 0.0, 0.0, 0.0, 0.0, 0.0, 0.0, 0.0, 0.0, 0.0], [0.013057177886366844, 0.03036508895456791, 0.03130674362182617, 0.01621067151427269, 0.02236141450703144, 0.022649269551038742, 0.015009697526693344, 0.01657249592244625, 0.019957609474658966, 0.4508185088634491, 0.29317471385002136, 0.06851661205291748, 0.0, 0.0, 0.0, 0.0, 0.0, 0.0, 0.0, 0.0, 0.0, 0.0, 0.0, 0.0, 0.0, 0.0, 0.0, 0.0, 0.0, 0.0, 0.0, 0.0, 0.0, 0.0, 0.0, 0.0, 0.0, 0.0, 0.0, 0.0, 0.0, 0.0, 0.0, 0.0, 0.0, 0.0, 0.0, 0.0, 0.0, 0.0, 0.0, 0.0, 0.0, 0.0, 0.0, 0.0, 0.0, 0.0, 0.0, 0.0, 0.0, 0.0, 0.0, 0.0, 0.0, 0.0, 0.0], [0.08088557422161102, 0.14866697788238525, 0.14790144562721252, 0.05563992261886597, 0.043897464871406555, 0.14217393100261688, 0.011233835481107235, 0.030364081263542175, 0.08715707063674927, 0.04117123410105705, 0.031441785395145416, 0.04658903926610947, 0.13287760317325592, 0.0, 0.0, 0.0, 0.0, 0.0, 0.0, 0.0, 0.0, 0.0, 0.0, 0.0, 0.0, 0.0, 0.0, 0.0, 0.0, 0.0, 0.0, 0.0, 0.0, 0.0, 0.0, 0.0, 0.0, 0.0, 0.0, 0.0, 0.0, 0.0, 0.0, 0.0, 0.0, 0.0, 0.0, 0.0, 0.0, 0.0, 0.0, 0.0, 0.0, 0.0, 0.0, 0.0, 0.0, 0.0, 0.0, 0.0, 0.0, 0.0, 0.0, 0.0, 0.0, 0.0, 0.0], [0.047695137560367584, 0.07384367287158966, 0.17759783565998077, 0.029345622286200523, 0.02403818443417549, 0.14702332019805908, 0.022669730708003044, 0.01409505307674408, 0.09181086719036102, 0.03105866350233555, 0.0154249407351017, 0.053633913397789, 0.23125720024108887, 0.0405057854950428, 0.0, 0.0, 0.0, 0.0, 0.0, 0.0, 0.0, 0.0, 0.0, 0.0, 0.0, 0.0, 0.0, 0.0, 0.0, 0.0, 0.0, 0.0, 0.0, 0.0, 0.0, 0.0, 0.0, 0.0, 0.0, 0.0, 0.0, 0.0, 0.0, 0.0, 0.0, 0.0, 0.0, 0.0, 0.0, 0.0, 0.0, 0.0, 0.0, 0.0, 0.0, 0.0, 0.0, 0.0, 0.0, 0.0, 0.0, 0.0, 0.0, 0.0, 0.0, 0.0, 0.0], [0.007919400930404663, 0.02359684742987156, 0.05087969824671745, 0.011715732514858246, 0.014428092166781425, 0.028392774984240532, 0.015638532117009163, 0.016626281663775444, 0.02237420715391636, 0.018194478005170822, 0.01931372843682766, 0.012126913294196129, 0.4080807864665985, 0.2798393964767456, 0.07087307423353195, 0.0, 0.0, 0.0, 0.0, 0.0, 0.0, 0.0, 0.0, 0.0, 0.0, 0.0, 0.0, 0.0, 0.0, 0.0, 0.0, 0.0, 0.0, 0.0, 0.0, 0.0, 0.0, 0.0, 0.0, 0.0, 0.0, 0.0, 0.0, 0.0, 0.0, 0.0, 0.0, 0.0, 0.0, 0.0, 0.0, 0.0, 0.0, 0.0, 0.0, 0.0, 0.0, 0.0, 0.0, 0.0, 0.0, 0.0, 0.0, 0.0, 0.0, 0.0, 0.0], [0.02733764983713627, 0.09693476557731628, 0.08874460309743881, 0.09400703012943268, 0.07943994551897049, 0.0847744271159172, 0.0600944347679615, 0.05615132674574852, 0.0623236745595932, 0.030993783846497536, 0.029873400926589966, 0.05024388059973717, 0.03616306558251381, 0.030910102650523186, 0.03970714285969734, 0.13230077922344208, 0.0, 0.0, 0.0, 0.0, 0.0, 0.0, 0.0, 0.0, 0.0, 0.0, 0.0, 0.0, 0.0, 0.0, 0.0, 0.0, 0.0, 0.0, 0.0, 0.0, 0.0, 0.0, 0.0, 0.0, 0.0, 0.0, 0.0, 0.0, 0.0, 0.0, 0.0, 0.0, 0.0, 0.0, 0.0, 0.0, 0.0, 0.0, 0.0, 0.0, 0.0, 0.0, 0.0, 0.0, 0.0, 0.0, 0.0, 0.0, 0.0, 0.0, 0.0], [0.047996893525123596, 0.0693010538816452, 0.17078112065792084, 0.03572385385632515, 0.024082181975245476, 0.1289864033460617, 0.030597848817706108, 0.01661427691578865, 0.08631617575883865, 0.024139098823070526, 0.011123836040496826, 0.059357792139053345, 0.021839836612343788, 0.018195316195487976, 0.038904886692762375, 0.1879405379295349, 0.028098879382014275, 0.0, 0.0, 0.0, 0.0, 0.0, 0.0, 0.0, 0.0, 0.0, 0.0, 0.0, 0.0, 0.0, 0.0, 0.0, 0.0, 0.0, 0.0, 0.0, 0.0, 0.0, 0.0, 0.0, 0.0, 0.0, 0.0, 0.0, 0.0, 0.0, 0.0, 0.0, 0.0, 0.0, 0.0, 0.0, 0.0, 0.0, 0.0, 0.0, 0.0, 0.0, 0.0, 0.0, 0.0, 0.0, 0.0, 0.0, 0.0, 0.0, 0.0], [0.011182155460119247, 0.023743215948343277, 0.03157762438058853, 0.016951406374573708, 0.019459230825304985, 0.022906869649887085, 0.015552856028079987, 0.018740015104413033, 0.01811603456735611, 0.005528034642338753, 0.008571844547986984, 0.011966475285589695, 0.012056514620780945, 0.011141134425997734, 0.012236646376550198, 0.4337920546531677, 0.25567811727523804, 0.070799820125103, 0.0, 0.0, 0.0, 0.0, 0.0, 0.0, 0.0, 0.0, 0.0, 0.0, 0.0, 0.0, 0.0, 0.0, 0.0, 0.0, 0.0, 0.0, 0.0, 0.0, 0.0, 0.0, 0.0, 0.0, 0.0, 0.0, 0.0, 0.0, 0.0, 0.0, 0.0, 0.0, 0.0, 0.0, 0.0, 0.0, 0.0, 0.0, 0.0, 0.0, 0.0, 0.0, 0.0, 0.0, 0.0, 0.0, 0.0, 0.0, 0.0], [0.0551256500184536, 0.08397318422794342, 0.06522006541490555, 0.043769776821136475, 0.042443159967660904, 0.07050397992134094, 0.053102757781744, 0.048049766570329666, 0.05628611519932747, 0.03996679559350014, 0.02745923027396202, 0.03826272860169411, 0.057955045253038406, 0.056024663150310516, 0.05641217157244682, 0.049306631088256836, 0.04661056026816368, 0.047097835689783096, 0.06242993101477623, 0.0, 0.0, 0.0, 0.0, 0.0, 0.0, 0.0, 0.0, 0.0, 0.0, 0.0, 0.0, 0.0, 0.0, 0.0, 0.0, 0.0, 0.0, 0.0, 0.0, 0.0, 0.0, 0.0, 0.0, 0.0, 0.0, 0.0, 0.0, 0.0, 0.0, 0.0, 0.0, 0.0, 0.0, 0.0, 0.0, 0.0, 0.0, 0.0, 0.0, 0.0, 0.0, 0.0, 0.0, 0.0, 0.0, 0.0, 0.0], [0.03818398714065552, 0.05633249133825302, 0.13264460861682892, 0.0147303007543087, 0.013418824411928654, 0.12550681829452515, 0.01777535118162632, 0.013616394251585007, 0.08006402850151062, 0.03756352886557579, 0.01229593064635992, 0.06829878687858582, 0.01488625630736351, 0.015384329482913017, 0.04022553190588951, 0.022509194910526276, 0.013038206845521927, 0.041996363550424576, 0.20775313675403595, 0.03377584367990494, 0.0, 0.0, 0.0, 0.0, 0.0, 0.0, 0.0, 0.0, 0.0, 0.0, 0.0, 0.0, 0.0, 0.0, 0.0, 0.0, 0.0, 0.0, 0.0, 0.0, 0.0, 0.0, 0.0, 0.0, 0.0, 0.0, 0.0, 0.0, 0.0, 0.0, 0.0, 0.0, 0.0, 0.0, 0.0, 0.0, 0.0, 0.0, 0.0, 0.0, 0.0, 0.0, 0.0, 0.0, 0.0, 0.0, 0.0], [0.005070401821285486, 0.0138323362916708, 0.028984200209379196, 0.010382969863712788, 0.010853242129087448, 0.017237141728401184, 0.012360653840005398, 0.013659787364304066, 0.013504351489245892, 0.016404228284955025, 0.01250024326145649, 0.011670115403831005, 0.010889924131333828, 0.013621805235743523, 0.012362224981188774, 0.013207875192165375, 0.013879586011171341, 0.01297825388610363, 0.44322749972343445, 0.2586813271045685, 0.05469181761145592, 0.0, 0.0, 0.0, 0.0, 0.0, 0.0, 0.0, 0.0, 0.0, 0.0, 0.0, 0.0, 0.0, 0.0, 0.0, 0.0, 0.0, 0.0, 0.0, 0.0, 0.0, 0.0, 0.0, 0.0, 0.0, 0.0, 0.0, 0.0, 0.0, 0.0, 0.0, 0.0, 0.0, 0.0, 0.0, 0.0, 0.0, 0.0, 0.0, 0.0, 0.0, 0.0, 0.0, 0.0, 0.0, 0.0], [0.06252097338438034, 0.08401286602020264, 0.04434647038578987, 0.0463019423186779, 0.040567900985479355, 0.056375887244939804, 0.04867370426654816, 0.014085856266319752, 0.042792219668626785, 0.03785472735762596, 0.030488133430480957, 0.03464532271027565, 0.06531953811645508, 0.057742759585380554, 0.05840720236301422, 0.04412263259291649, 0.03580451011657715, 0.028188975527882576, 0.042829833924770355, 0.03366594761610031, 0.038510002195835114, 0.05274263396859169, 0.0, 0.0, 0.0, 0.0, 0.0, 0.0, 0.0, 0.0, 0.0, 0.0, 0.0, 0.0, 0.0, 0.0, 0.0, 0.0, 0.0, 0.0, 0.0, 0.0, 0.0, 0.0, 0.0, 0.0, 0.0, 0.0, 0.0, 0.0, 0.0, 0.0, 0.0, 0.0, 0.0, 0.0, 0.0, 0.0, 0.0, 0.0, 0.0, 0.0, 0.0, 0.0, 0.0, 0.0, 0.0], [0.04187575355172157, 0.05927405506372452, 0.08593688160181046, 0.013994158245623112, 0.014063466340303421, 0.0980398952960968, 0.019041094928979874, 0.012374989688396454, 0.07107283920049667, 0.025755541399121284, 0.010798522271215916, 0.05937151610851288, 0.026984458789229393, 0.01920849271118641, 0.0528804250061512, 0.021006401628255844, 0.013728342019021511, 0.03459036722779274, 0.023662986233830452, 0.016634147614240646, 0.044190362095832825, 0.19556862115859985, 0.03994661942124367, 0.0, 0.0, 0.0, 0.0, 0.0, 0.0, 0.0, 0.0, 0.0, 0.0, 0.0, 0.0, 0.0, 0.0, 0.0, 0.0, 0.0, 0.0, 0.0, 0.0, 0.0, 0.0, 0.0, 0.0, 0.0, 0.0, 0.0, 0.0, 0.0, 0.0, 0.0, 0.0, 0.0, 0.0, 0.0, 0.0, 0.0, 0.0, 0.0, 0.0, 0.0, 0.0, 0.0, 0.0], [0.00775873102247715, 0.012667392380535603, 0.027584999799728394, 0.005237468983978033, 0.007141574751585722, 0.01822199672460556, 0.0125096021220088, 0.015173235908150673, 0.01831275410950184, 0.010759739205241203, 0.009461100213229656, 0.015249270014464855, 0.009581766091287136, 0.011405942030251026, 0.01580176316201687, 0.01405769307166338, 0.01621149480342865, 0.013186738826334476, 0.012308772653341293, 0.012206307612359524, 0.016583364456892014, 0.39382636547088623, 0.27077969908714294, 0.053972214460372925, 0.0, 0.0, 0.0, 0.0, 0.0, 0.0, 0.0, 0.0, 0.0, 0.0, 0.0, 0.0, 0.0, 0.0, 0.0, 0.0, 0.0, 0.0, 0.0, 0.0, 0.0, 0.0, 0.0, 0.0, 0.0, 0.0, 0.0, 0.0, 0.0, 0.0, 0.0, 0.0, 0.0, 0.0, 0.0, 0.0, 0.0, 0.0, 0.0, 0.0, 0.0, 0.0, 0.0], [0.0705726146697998, 0.032321374863386154, 0.06117255240678787, 0.04117554798722267, 0.03804224729537964, 0.05204620957374573, 0.034081749618053436, 0.034125637263059616, 0.03891047462821007, 0.06993313133716583, 0.03250587731599808, 0.0482974536716938, 0.02902299351990223, 0.027119571343064308, 0.025025594979524612, 0.05178244039416313, 0.04132838919758797, 0.038236960768699646, 0.04984560236334801, 0.029974110424518585, 0.03020222671329975, 0.03495950624346733, 0.026672320440411568, 0.022193733602762222, 0.04045167937874794, 0.0, 0.0, 0.0, 0.0, 0.0, 0.0, 0.0, 0.0, 0.0, 0.0, 0.0, 0.0, 0.0, 0.0, 0.0, 0.0, 0.0, 0.0, 0.0, 0.0, 0.0, 0.0, 0.0, 0.0, 0.0, 0.0, 0.0, 0.0, 0.0, 0.0, 0.0, 0.0, 0.0, 0.0, 0.0, 0.0, 0.0, 0.0, 0.0, 0.0, 0.0, 0.0], [0.059901487082242966, 0.0785159021615982, 0.09891463071107864, 0.014960807748138905, 0.010807020589709282, 0.09264865517616272, 0.011524957604706287, 0.0065870448015630245, 0.05942300334572792, 0.010820860974490643, 0.011130174621939659, 0.07795453071594238, 0.017775440588593483, 0.012927385978400707, 0.038221921771764755, 0.01989271305501461, 0.01212131418287754, 0.04055594652891159, 0.016398444771766663, 0.011652511544525623, 0.031061656773090363, 0.0202580988407135, 0.013846511021256447, 0.02498047426342964, 0.1744895577430725, 0.032628919929265976, 0.0, 0.0, 0.0, 0.0, 0.0, 0.0, 0.0, 0.0, 0.0, 0.0, 0.0, 0.0, 0.0, 0.0, 0.0, 0.0, 0.0, 0.0, 0.0, 0.0, 0.0, 0.0, 0.0, 0.0, 0.0, 0.0, 0.0, 0.0, 0.0, 0.0, 0.0, 0.0, 0.0, 0.0, 0.0, 0.0, 0.0, 0.0, 0.0, 0.0, 0.0], [0.002862993162125349, 0.006133284419775009, 0.05487659201025963, 0.007426457013934851, 0.006390908267349005, 0.01194155402481556, 0.007654302753508091, 0.00746035436168313, 0.011711686849594116, 0.014846189878880978, 0.014582286588847637, 0.013779308646917343, 0.011437450535595417, 0.013156029395759106, 0.008462507277727127, 0.010033907368779182, 0.011628110893070698, 0.015344694256782532, 0.013348421081900597, 0.013637123629450798, 0.011204923503100872, 0.010532890446484089, 0.012822769582271576, 0.011746748350560665, 0.32812267541885376, 0.32746660709381104, 0.04138924553990364, 0.0, 0.0, 0.0, 0.0, 0.0, 0.0, 0.0, 0.0, 0.0, 0.0, 0.0, 0.0, 0.0, 0.0, 0.0, 0.0, 0.0, 0.0, 0.0, 0.0, 0.0, 0.0, 0.0, 0.0, 0.0, 0.0, 0.0, 0.0, 0.0, 0.0, 0.0, 0.0, 0.0, 0.0, 0.0, 0.0, 0.0, 0.0, 0.0, 0.0], [0.07509104907512665, 0.06603875011205673, 0.028074363246560097, 0.06287190318107605, 0.06317812949419022, 0.045693568885326385, 0.04722517356276512, 0.03813159093260765, 0.03564717248082161, 0.04400788992643356, 0.045792073011398315, 0.04072815924882889, 0.04401325806975365, 0.010735523886978626, 0.03201029449701309, 0.03388103097677231, 0.031631022691726685, 0.028407685458660126, 0.04021823778748512, 0.032978225499391556, 0.031957630068063736, 0.015500412322580814, 0.014336173422634602, 0.018730584532022476, 0.014772499911487103, 0.015490207821130753, 0.02301035076379776, 0.019847054034471512, 0.0, 0.0, 0.0, 0.0, 0.0, 0.0, 0.0, 0.0, 0.0, 0.0, 0.0, 0.0, 0.0, 0.0, 0.0, 0.0, 0.0, 0.0, 0.0, 0.0, 0.0, 0.0, 0.0, 0.0, 0.0, 0.0, 0.0, 0.0, 0.0, 0.0, 0.0, 0.0, 0.0, 0.0, 0.0, 0.0, 0.0, 0.0, 0.0], [0.05569880083203316, 0.05717718228697777, 0.05742092803120613, 0.024466875940561295, 0.019752822816371918, 0.07620567083358765, 0.019838204607367516, 0.012154734693467617, 0.04818272218108177, 0.039525989443063736, 0.01709076389670372, 0.06189912557601929, 0.019181551411747932, 0.01825769431889057, 0.032382939010858536, 0.018987972289323807, 0.013436120003461838, 0.029672008007764816, 0.022136999294161797, 0.013715583831071854, 0.03146181255578995, 0.017698591575026512, 0.014892634004354477, 0.02265607751905918, 0.017937641590833664, 0.01470298133790493, 0.019351011142134666, 0.1674872636795044, 0.0366273857653141, 0.0, 0.0, 0.0, 0.0, 0.0, 0.0, 0.0, 0.0, 0.0, 0.0, 0.0, 0.0, 0.0, 0.0, 0.0, 0.0, 0.0, 0.0, 0.0, 0.0, 0.0, 0.0, 0.0, 0.0, 0.0, 0.0, 0.0, 0.0, 0.0, 0.0, 0.0, 0.0, 0.0, 0.0, 0.0, 0.0, 0.0, 0.0], [0.010598463006317616, 0.010693546384572983, 0.03237239271402359, 0.015260576270520687, 0.013465811498463154, 0.02244681306183338, 0.012359283864498138, 0.01074953842908144, 0.014384718611836433, 0.008854336105287075, 0.01004685740917921, 0.016794223338365555, 0.012492410838603973, 0.013804479502141476, 0.010638595558702946, 0.010579016990959644, 0.009406541474163532, 0.012409260496497154, 0.013194864615797997, 0.011472088284790516, 0.013400345109403133, 0.006695259362459183, 0.006707779131829739, 0.007965405471622944, 0.012071052566170692, 0.01836046390235424, 0.006924693007022142, 0.3663909435272217, 0.2497105896472931, 0.03974967077374458, 0.0, 0.0, 0.0, 0.0, 0.0, 0.0, 0.0, 0.0, 0.0, 0.0, 0.0, 0.0, 0.0, 0.0, 0.0, 0.0, 0.0, 0.0, 0.0, 0.0, 0.0, 0.0, 0.0, 0.0, 0.0, 0.0, 0.0, 0.0, 0.0, 0.0, 0.0, 0.0, 0.0, 0.0, 0.0, 0.0, 0.0], [0.0720539540052414, 0.039270490407943726, 0.023523855954408646, 0.022505903616547585, 0.03377983719110489, 0.03286970034241676, 0.04109322279691696, 0.047549422830343246, 0.03554834425449371, 0.07671302556991577, 0.03948213905096054, 0.03668107092380524, 0.02804560214281082, 0.03106757439672947, 0.022707348689436913, 0.0510120689868927, 0.04934285953640938, 0.03472766652703285, 0.039699990302324295, 0.027335215359926224, 0.026691220700740814, 0.019543668255209923, 0.01923159882426262, 0.018368825316429138, 0.004361299332231283, 0.025070248171687126, 0.032442256808280945, 0.017223289236426353, 0.018380919471383095, 0.014089320786297321, 0.019587969407439232, 0.0, 0.0, 0.0, 0.0, 0.0, 0.0, 0.0, 0.0, 0.0, 0.0, 0.0, 0.0, 0.0, 0.0, 0.0, 0.0, 0.0, 0.0, 0.0, 0.0, 0.0, 0.0, 0.0, 0.0, 0.0, 0.0, 0.0, 0.0, 0.0, 0.0, 0.0, 0.0, 0.0, 0.0, 0.0, 0.0], [0.03981688618659973, 0.06346738338470459, 0.04746929556131363, 0.005957444664090872, 0.008554610423743725, 0.05680437013506889, 0.016258390620350838, 0.011619635857641697, 0.05709362402558327, 0.032229337841272354, 0.013058378361165524, 0.05672109127044678, 0.013701064512133598, 0.01120669487863779, 0.027886325493454933, 0.021052449941635132, 0.015182525850832462, 0.03885680064558983, 0.014382482506334782, 0.010280764661729336, 0.027425987645983696, 0.018743084743618965, 0.014533905312418938, 0.022772451862692833, 0.020356521010398865, 0.016192452982068062, 0.02781112864613533, 0.02291477657854557, 0.019671181216835976, 0.019567081704735756, 0.18817093968391418, 0.04024090617895126, 0.0, 0.0, 0.0, 0.0, 0.0, 0.0, 0.0, 0.0, 0.0, 0.0, 0.0, 0.0, 0.0, 0.0, 0.0, 0.0, 0.0, 0.0, 0.0, 0.0, 0.0, 0.0, 0.0, 0.0, 0.0, 0.0, 0.0, 0.0, 0.0, 0.0, 0.0, 0.0, 0.0, 0.0, 0.0], [0.00817778892815113, 0.01788606122136116, 0.017649849876761436, 0.0007760450826026499, 0.0016384063055738807, 0.010232116095721722, 0.010948252864181995, 0.008860323578119278, 0.01993437483906746, 0.010583563707768917, 0.00930553488433361, 0.017968185245990753, 0.008703363128006458, 0.011430193670094013, 0.009500687010586262, 0.008309929631650448, 0.00977721530944109, 0.015562254004180431, 0.004935550969094038, 0.005930740851908922, 0.008956641890108585, 0.009090579114854336, 0.012608109973371029, 0.008674669079482555, 0.009694800712168217, 0.014299136586487293, 0.01025603897869587, 0.012907593511044979, 0.013278678059577942, 0.009307297877967358, 0.3536970615386963, 0.29359474778175354, 0.03552420809864998, 0.0, 0.0, 0.0, 0.0, 0.0, 0.0, 0.0, 0.0, 0.0, 0.0, 0.0, 0.0, 0.0, 0.0, 0.0, 0.0, 0.0, 0.0, 0.0, 0.0, 0.0, 0.0, 0.0, 0.0, 0.0, 0.0, 0.0, 0.0, 0.0, 0.0, 0.0, 0.0, 0.0, 0.0], [0.06893340498209, 0.06138182803988457, 0.017886389046907425, 0.07148289680480957, 0.07664082944393158, 0.03956828638911247, 0.016864990815520287, 0.01779378019273281, 0.017664821818470955, 0.06141987070441246, 0.03560252860188484, 0.02832784689962864, 0.042464323341846466, 0.02563535049557686, 0.028443798422813416, 0.05467621982097626, 0.037479039281606674, 0.025504715740680695, 0.01107374019920826, 0.009574733674526215, 0.016811463981866837, 0.0311047974973917, 0.01890413463115692, 0.02362213097512722, 0.01974177360534668, 0.013662684708833694, 0.02285214699804783, 0.01630871370434761, 0.015519923530519009, 0.01379591878503561, 0.012707321904599667, 0.0029285273049026728, 0.009492555633187294, 0.03412845358252525, 0.0, 0.0, 0.0, 0.0, 0.0, 0.0, 0.0, 0.0, 0.0, 0.0, 0.0, 0.0, 0.0, 0.0, 0.0, 0.0, 0.0, 0.0, 0.0, 0.0, 0.0, 0.0, 0.0, 0.0, 0.0, 0.0, 0.0, 0.0, 0.0, 0.0, 0.0, 0.0, 0.0], [0.03866784647107124, 0.04382770508527756, 0.032155103981494904, 0.024681326001882553, 0.022373288869857788, 0.06283944100141525, 0.00429861294105649, 0.004561199340969324, 0.025637125596404076, 0.032314326614141464, 0.017980096861720085, 0.042777642607688904, 0.013723399490118027, 0.00937921553850174, 0.026570705696940422, 0.020615102723240852, 0.014042786322534084, 0.027616506442427635, 0.006602911278605461, 0.005074391607195139, 0.01839411072432995, 0.024071715772151947, 0.019263630732893944, 0.03270065039396286, 0.018240995705127716, 0.013449534773826599, 0.023569151759147644, 0.013668312691152096, 0.014767972752451897, 0.017156053334474564, 0.019534016028046608, 0.016478871926665306, 0.011498852632939816, 0.2281513512134552, 0.053315985947847366, 0.0, 0.0, 0.0, 0.0, 0.0, 0.0, 0.0, 0.0, 0.0, 0.0, 0.0, 0.0, 0.0, 0.0, 0.0, 0.0, 0.0, 0.0, 0.0, 0.0, 0.0, 0.0, 0.0, 0.0, 0.0, 0.0, 0.0, 0.0, 0.0, 0.0, 0.0, 0.0], [0.007689300924539566, 0.00936153158545494, 0.011273304931819439, 0.006786994636058807, 0.008176418021321297, 0.016325470060110092, 0.0008193613612093031, 0.0012380048865452409, 0.00506846746429801, 0.010182926431298256, 0.01015196181833744, 0.013053529895842075, 0.007706278003752232, 0.007237627636641264, 0.008334090001881123, 0.00785992294549942, 0.006633518263697624, 0.009323415346443653, 0.0005576307885348797, 0.0007332890527322888, 0.003458339488133788, 0.010739028453826904, 0.010629892349243164, 0.011509772390127182, 0.006707789376378059, 0.008602437563240528, 0.0069006457924842834, 0.00786722730845213, 0.008255787193775177, 0.006758126895874739, 0.008199535310268402, 0.01022307202219963, 0.003969152458012104, 0.4425381124019623, 0.2740613520145416, 0.031066829338669777, 0.0, 0.0, 0.0, 0.0, 0.0, 0.0, 0.0, 0.0, 0.0, 0.0, 0.0, 0.0, 0.0, 0.0, 0.0, 0.0, 0.0, 0.0, 0.0, 0.0, 0.0, 0.0, 0.0, 0.0, 0.0, 0.0, 0.0, 0.0, 0.0, 0.0, 0.0], [0.042882826179265976, 0.05880396068096161, 0.014365673065185547, 0.03579426929354668, 0.05018741637468338, 0.03450490161776543, 0.025964245200157166, 0.027809256687760353, 0.021678008139133453, 0.042982038110494614, 0.025434022769331932, 0.02067083679139614, 0.046799417585134506, 0.036683712154626846, 0.034005578607320786, 0.042480964213609695, 0.03466852381825447, 0.022749880328774452, 0.04402801766991615, 0.0332745797932148, 0.03211163729429245, 0.03345759958028793, 0.02150522544980049, 0.023331593722105026, 0.003520065452903509, 0.0036823819391429424, 0.009017860516905785, 0.01989886537194252, 0.02337810769677162, 0.015913093462586403, 0.017021091654896736, 0.004254570230841637, 0.011366532184183598, 0.004518170841038227, 0.021388718858361244, 0.01274965051561594, 0.0471167266368866, 0.0, 0.0, 0.0, 0.0, 0.0, 0.0, 0.0, 0.0, 0.0, 0.0, 0.0, 0.0, 0.0, 0.0, 0.0, 0.0, 0.0, 0.0, 0.0, 0.0, 0.0, 0.0, 0.0, 0.0, 0.0, 0.0, 0.0, 0.0, 0.0, 0.0], [0.02388637512922287, 0.038261640816926956, 0.026400651782751083, 0.011866710148751736, 0.013986917212605476, 0.050658345222473145, 0.010457263328135014, 0.0072330450639128685, 0.03446631133556366, 0.022794678807258606, 0.01060071773827076, 0.032745834439992905, 0.0206481721252203, 0.014108103699982166, 0.03295816853642464, 0.0150300869718194, 0.010728214867413044, 0.024590546265244484, 0.024365762248635292, 0.015396774746477604, 0.03487873077392578, 0.02460559643805027, 0.01811893843114376, 0.030177559703588486, 0.003181775799021125, 0.0030801810789853334, 0.009014038369059563, 0.019432634115219116, 0.019995730370283127, 0.017605159431695938, 0.027387816458940506, 0.02304903417825699, 0.015703454613685608, 0.025669138878583908, 0.018398350104689598, 0.015963830053806305, 0.20004156231880188, 0.05251206457614899, 0.0, 0.0, 0.0, 0.0, 0.0, 0.0, 0.0, 0.0, 0.0, 0.0, 0.0, 0.0, 0.0, 0.0, 0.0, 0.0, 0.0, 0.0, 0.0, 0.0, 0.0, 0.0, 0.0, 0.0, 0.0, 0.0, 0.0, 0.0, 0.0], [0.0078043765388429165, 0.020159240812063217, 0.06881678849458694, 0.004779171664267778, 0.005681992042809725, 0.05151253938674927, 0.0045561399310827255, 0.004777282476425171, 0.03334524482488632, 0.015303620137274265, 0.008522894233465195, 0.037737876176834106, 0.008602344430983067, 0.010073777288198471, 0.021635442972183228, 0.010927831754088402, 0.011148258112370968, 0.030757823958992958, 0.017500143498182297, 0.014877060428261757, 0.03182045370340347, 0.021168576553463936, 0.022797279059886932, 0.030126919969916344, 0.024298029020428658, 0.03489994257688522, 0.023213356733322144, 0.02864132635295391, 0.024792665615677834, 0.03593803197145462, 0.04414578899741173, 0.05364782735705376, 0.02865465357899666, 0.0494518056511879, 0.041458919644355774, 0.03706185147166252, 0.025590984150767326, 0.01917114108800888, 0.03460061177611351, 0.0, 0.0, 0.0, 0.0, 0.0, 0.0, 0.0, 0.0, 0.0, 0.0, 0.0, 0.0, 0.0, 0.0, 0.0, 0.0, 0.0, 0.0, 0.0, 0.0, 0.0, 0.0, 0.0, 0.0, 0.0, 0.0, 0.0, 0.0], [0.0487179197371006, 0.046253181993961334, 0.019121011719107628, 0.02985852211713791, 0.03298173472285271, 0.027770647779107094, 0.025064900517463684, 0.027129562571644783, 0.022792698815464973, 0.09609327465295792, 0.056925732642412186, 0.04833037033677101, 0.0047281403094530106, 0.006736173294484615, 0.011043182574212551, 0.01977178268134594, 0.01582673378288746, 0.015975387766957283, 0.0284343883395195, 0.007710178382694721, 0.02719784900546074, 0.019383007660508156, 0.018456174060702324, 0.0176252331584692, 0.020108364522457123, 0.019458409398794174, 0.02970370091497898, 0.014436572790145874, 0.013381619937717915, 0.009021658450365067, 0.01638530008494854, 0.01766618713736534, 0.013286751694977283, 0.026834724470973015, 0.022742481902241707, 0.01376609317958355, 0.024171939119696617, 0.024516316130757332, 0.005902721546590328, 0.05468934401869774, 0.0, 0.0, 0.0, 0.0, 0.0, 0.0, 0.0, 0.0, 0.0, 0.0, 0.0, 0.0, 0.0, 0.0, 0.0, 0.0, 0.0, 0.0, 0.0, 0.0, 0.0, 0.0, 0.0, 0.0, 0.0, 0.0, 0.0], [0.029114341363310814, 0.027075957506895065, 0.03166232630610466, 0.016425741836428642, 0.01430859137326479, 0.038273800164461136, 0.0038350136019289494, 0.008060510270297527, 0.026835154742002487, 0.04224588721990585, 0.018079953268170357, 0.05245070531964302, 0.0010364401387050748, 0.0036552120000123978, 0.011240440420806408, 0.014064027927815914, 0.007948697544634342, 0.018076036125421524, 0.019603652879595757, 0.014587916433811188, 0.02565929666161537, 0.01705625280737877, 0.015431651845574379, 0.02193775214254856, 0.02323446236550808, 0.0176275372505188, 0.02462020330131054, 0.018687287345528603, 0.015064743347465992, 0.013919753022491932, 0.01760791800916195, 0.013921154662966728, 0.014178396202623844, 0.035105954855680466, 0.02840433269739151, 0.019867291674017906, 0.015459745191037655, 0.016439026221632957, 0.00986410491168499, 0.18756504356861115, 0.04976765811443329, 0.0, 0.0, 0.0, 0.0, 0.0, 0.0, 0.0, 0.0, 0.0, 0.0, 0.0, 0.0, 0.0, 0.0, 0.0, 0.0, 0.0, 0.0, 0.0, 0.0, 0.0, 0.0, 0.0, 0.0, 0.0, 0.0], [0.01044945977628231, 0.008050112053751945, 0.00917593203485012, 0.005937162786722183, 0.006580752320587635, 0.009313230402767658, 0.004531463608145714, 0.00528020691126585, 0.0072487881407141685, 0.011952287517488003, 0.009513556025922298, 0.018402675166726112, 0.000281125569017604, 0.0004915429162792861, 0.0017185494070872664, 0.007315192371606827, 0.005485388450324535, 0.005354513414204121, 0.008343013003468513, 0.007423073519021273, 0.008789841085672379, 0.00899785477668047, 0.009120353497564793, 0.007060672156512737, 0.00872397143393755, 0.009925524704158306, 0.00853609386831522, 0.008814740926027298, 0.007365947123616934, 0.00498349592089653, 0.009034967049956322, 0.009387172758579254, 0.0052755228243768215, 0.01511373370885849, 0.0104017099365592, 0.006527196150273085, 0.008898687548935413, 0.0067249382846057415, 0.004098695702850819, 0.3872731626033783, 0.2706497013568878, 0.0414479598402977, 0.0, 0.0, 0.0, 0.0, 0.0, 0.0, 0.0, 0.0, 0.0, 0.0, 0.0, 0.0, 0.0, 0.0, 0.0, 0.0, 0.0, 0.0, 0.0, 0.0, 0.0, 0.0, 0.0, 0.0, 0.0], [0.03828191012144089, 0.03414246439933777, 0.01910058781504631, 0.03052530065178871, 0.025846382603049278, 0.024904999881982803, 0.03168480843305588, 0.028626974672079086, 0.02347491681575775, 0.02659592591226101, 0.031206278130412102, 0.02282598428428173, 0.042557183653116226, 0.03458181768655777, 0.031090660020709038, 0.021580541506409645, 0.017326613888144493, 0.01920214854180813, 0.03344659134745598, 0.006997413467615843, 0.02375536598265171, 0.026207758113741875, 0.021487805992364883, 0.01765141636133194, 0.023271052166819572, 0.01704232767224312, 0.02296857163310051, 0.02877693995833397, 0.02477182075381279, 0.019972199574112892, 0.024890411645174026, 0.019688494503498077, 0.018896110355854034, 0.018780043348670006, 0.017222512513399124, 0.017462456598877907, 0.027033159509301186, 0.026184385642409325, 0.021176405251026154, 0.003643864067271352, 0.018332071602344513, 0.012719974853098392, 0.004065383691340685, 0.0, 0.0, 0.0, 0.0, 0.0, 0.0, 0.0, 0.0, 0.0, 0.0, 0.0, 0.0, 0.0, 0.0, 0.0, 0.0, 0.0, 0.0, 0.0, 0.0, 0.0, 0.0, 0.0, 0.0], [0.013560001738369465, 0.024295184761285782, 0.020254403352737427, 0.033892787992954254, 0.02630135789513588, 0.024406520649790764, 0.02392342872917652, 0.0191641878336668, 0.022644879296422005, 0.02035411261022091, 0.02116551250219345, 0.029380301013588905, 0.020252985879778862, 0.01366579718887806, 0.02070695348083973, 0.007418965455144644, 0.021253617480397224, 0.02225336804986, 0.019862767308950424, 0.017786569893360138, 0.019459610804915428, 0.020137323066592216, 0.016994737088680267, 0.01822682097554207, 0.02274680882692337, 0.016483351588249207, 0.023265382274985313, 0.03813505545258522, 0.03141975775361061, 0.019141213968396187, 0.027232009917497635, 0.020563863217830658, 0.02100885845720768, 0.03860922530293465, 0.029817460104823112, 0.02432815544307232, 0.033123213797807693, 0.021915147081017494, 0.02731487713754177, 0.041515473276376724, 0.024527747184038162, 0.024095427244901657, 0.014199583791196346, 0.003195151686668396, 0.0, 0.0, 0.0, 0.0, 0.0, 0.0, 0.0, 0.0, 0.0, 0.0, 0.0, 0.0, 0.0, 0.0, 0.0, 0.0, 0.0, 0.0, 0.0, 0.0, 0.0, 0.0, 0.0], [0.007490294985473156, 0.00904083251953125, 0.0018775340868160129, 0.0026677267160266638, 0.004714647773653269, 0.0057292720302939415, 0.002598165301606059, 0.003040158189833164, 0.0035302897449582815, 0.0043584550730884075, 0.004309411160647869, 0.004302141256630421, 0.004537507891654968, 0.004795174114406109, 0.004637087229639292, 0.006960465107113123, 0.005562342703342438, 0.003962260205298662, 0.004132574889808893, 0.0040472266264259815, 0.005020011216402054, 0.006699974182993174, 0.00605740025639534, 0.004551717545837164, 0.00012616261665243655, 0.00025158817879855633, 0.0006779697723686695, 0.008829601109027863, 0.01103047002106905, 0.0030290207359939814, 0.012191852554678917, 0.010653620585799217, 0.002402085345238447, 0.008853117004036903, 0.008607910014688969, 0.002805005991831422, 0.4540949761867523, 0.3065246343612671, 0.002300277817994356, 0.004684335086494684, 0.0047966786660254, 0.002670191926881671, 0.004541449714452028, 0.0042429096065461636, 0.03206346556544304, 0.0, 0.0, 0.0, 0.0, 0.0, 0.0, 0.0, 0.0, 0.0, 0.0, 0.0, 0.0, 0.0, 0.0, 0.0, 0.0, 0.0, 0.0, 0.0, 0.0, 0.0, 0.0], [0.011427484452724457, 0.024763837456703186, 0.023107344284653664, 0.013877689838409424, 0.01661520265042782, 0.02205384336411953, 0.010209375061094761, 0.013977089896798134, 0.017523426562547684, 0.020155102014541626, 0.01638476550579071, 0.01648939773440361, 0.01365586742758751, 0.023270338773727417, 0.018471229821443558, 0.012831175699830055, 0.018442638218402863, 0.017253905534744263, 0.0157457385212183, 0.018044978380203247, 0.01776018925011158, 0.011906739324331284, 0.01716001331806183, 0.01764700748026371, 0.013396979309618473, 0.020389055833220482, 0.015963520854711533, 0.010471722111105919, 0.004754193592816591, 0.019060907885432243, 0.010395396500825882, 0.020828211680054665, 0.012905063107609749, 0.018573930487036705, 0.022792121395468712, 0.01628359965980053, 0.014618837274610996, 0.0193692184984684, 0.00756249250844121, 0.012070892378687859, 0.017061542719602585, 0.014382527209818363, 0.1275143325328827, 0.167996346950531, 0.019651666283607483, 0.005183150060474873, 0.0, 0.0, 0.0, 0.0, 0.0, 0.0, 0.0, 0.0, 0.0, 0.0, 0.0, 0.0, 0.0, 0.0, 0.0, 0.0, 0.0, 0.0, 0.0, 0.0, 0.0], [0.06480415910482407, 0.01528414897620678, 0.008879981003701687, 0.05057437717914581, 0.011945324949920177, 0.007071939297020435, 0.05124308913946152, 0.010494432412087917, 0.006269774399697781, 0.05049968138337135, 0.00896828155964613, 0.005432456266134977, 0.04887958988547325, 0.010146207176148891, 0.005717826075851917, 0.050495561212301254, 0.00938599742949009, 0.004881218075752258, 0.047522030770778656, 0.00855187326669693, 0.004663954023271799, 0.04917006939649582, 0.009273014962673187, 0.004255993757396936, 0.045760322362184525, 0.00945816095918417, 0.004628738854080439, 0.04579133167862892, 0.00818929448723793, 0.003564155660569668, 0.04420433193445206, 0.0059482441283762455, 0.004096703603863716, 0.04266224056482315, 0.0093631437048316, 0.004017092753201723, 0.0424032136797905, 0.00887520145624876, 0.0023741130717098713, 0.040134645998477936, 0.00843354407697916, 0.003717418760061264, 0.03785598650574684, 0.012062093243002892, 0.005453809630125761, 0.0468871034681797, 0.019708096981048584, 0.0, 0.0, 0.0, 0.0, 0.0, 0.0, 0.0, 0.0, 0.0, 0.0, 0.0, 0.0, 0.0, 0.0, 0.0, 0.0, 0.0, 0.0, 0.0, 0.0], [0.016180481761693954, 0.01866837777197361, 0.016676947474479675, 0.014589432626962662, 0.012350714765489101, 0.013562443666160107, 0.021561799570918083, 0.015629678964614868, 0.012837663292884827, 0.02647949941456318, 0.010639381594955921, 0.009546049870550632, 0.017924780026078224, 0.01579108089208603, 0.010020745918154716, 0.01430876087397337, 0.013559830375015736, 0.009998852387070656, 0.004428899846971035, 0.012660320848226547, 0.01086790394037962, 0.013842866756021976, 0.010342327877879143, 0.008796761743724346, 0.013816188089549541, 0.013743695802986622, 0.008225472643971443, 0.015126503072679043, 0.012647828087210655, 0.009605839848518372, 0.015850262716412544, 0.016290150582790375, 0.0085375951603055, 0.015039891935884953, 0.012439699843525887, 0.007187514565885067, 0.01907750777900219, 0.014196911826729774, 0.002493011299520731, 0.015015843324363232, 0.016214240342378616, 0.008256817236542702, 0.2102365493774414, 0.14384427666664124, 0.01152793038636446, 0.03497721627354622, 0.04315515607595444, 0.0012283166870474815, 0.0, 0.0, 0.0, 0.0, 0.0, 0.0, 0.0, 0.0, 0.0, 0.0, 0.0, 0.0, 0.0, 0.0, 0.0, 0.0, 0.0, 0.0, 0.0], [0.019600369036197662, 0.0210487712174654, 0.025172652676701546, 0.012061131186783314, 0.011681200005114079, 0.019908597692847252, 0.020538223907351494, 0.01742999069392681, 0.018535612151026726, 0.03638148680329323, 0.012381232343614101, 0.014842581003904343, 0.013487979769706726, 0.013899356126785278, 0.010511672124266624, 0.01746789924800396, 0.012346731498837471, 0.012462083250284195, 0.014579564332962036, 0.0028993284795433283, 0.011894158087670803, 0.018683895468711853, 0.0140072675421834, 0.011506677605211735, 0.012901177629828453, 0.014794898219406605, 0.009546087123453617, 0.01815662533044815, 0.01541112083941698, 0.010903709568083286, 0.02253197692334652, 0.02301841415464878, 0.00976150669157505, 0.022871054708957672, 0.01632074825465679, 0.00946768932044506, 0.02620222046971321, 0.02078224904835224, 0.0024685868993401527, 0.005519243888556957, 0.028987495228648186, 0.01284878421574831, 0.04403301328420639, 0.17171141505241394, 0.01447991468012333, 0.0389629565179348, 0.05592479184269905, 0.007365767378360033, 0.0017000563675537705, 0.0, 0.0, 0.0, 0.0, 0.0, 0.0, 0.0, 0.0, 0.0, 0.0, 0.0, 0.0, 0.0, 0.0, 0.0, 0.0, 0.0, 0.0], [0.015741175040602684, 0.0160197876393795, 0.02145337499678135, 0.01570325717329979, 0.012238581664860249, 0.016200503334403038, 0.004029492847621441, 0.010010618716478348, 0.011908874846994877, 0.025437431409955025, 0.00922311283648014, 0.009931092150509357, 0.005192678887397051, 0.01717853732407093, 0.010174278169870377, 0.02343534119427204, 0.013905755244195461, 0.012088585644960403, 0.01783149689435959, 0.01140337623655796, 0.010225115343928337, 0.016316404566168785, 0.011865202337503433, 0.010758503340184689, 0.01813935488462448, 0.016264960169792175, 0.00903365109115839, 0.01477219071239233, 0.014309675432741642, 0.011757167056202888, 0.01196538656949997, 0.012533235363662243, 0.007747079245746136, 0.027321375906467438, 0.019485438242554665, 0.011004019528627396, 0.015814095735549927, 0.014470001682639122, 0.003397782566025853, 0.013739710673689842, 0.004425938241183758, 0.010543625801801682, 0.17460930347442627, 0.14664620161056519, 0.013834675773978233, 0.03583655133843422, 0.04977800324559212, 0.006151500158011913, 0.006301603280007839, 0.001844830927439034, 0.0, 0.0, 0.0, 0.0, 0.0, 0.0, 0.0, 0.0, 0.0, 0.0, 0.0, 0.0, 0.0, 0.0, 0.0, 0.0, 0.0], [0.014091352932155132, 0.017546173185110092, 0.0215379036962986, 0.014181203208863735, 0.013207214884459972, 0.017463164404034615, 0.01465742290019989, 0.010673717595636845, 0.015239994041621685, 0.020836928859353065, 0.011163284070789814, 0.013030118308961391, 0.016918055713176727, 0.004483726806938648, 0.011867455206811428, 0.011820859275758266, 0.012510390020906925, 0.010272319428622723, 0.014730839058756828, 0.011272232979536057, 0.011188159696757793, 0.0190608911216259, 0.017093472182750702, 0.013309039175510406, 0.016264962032437325, 0.014215735718607903, 0.010190198197960854, 0.002454503672197461, 0.010996912606060505, 0.011512094177305698, 0.012528662569820881, 0.012898150831460953, 0.008765572682023048, 0.022767942398786545, 0.01681913621723652, 0.010771380737423897, 0.013810498639941216, 0.012583496049046516, 0.003770897863432765, 0.01653194986283779, 0.015439468435943127, 0.009597888216376305, 0.19996771216392517, 0.12902039289474487, 0.013076051138341427, 0.034565746784210205, 0.042051732540130615, 0.006170851178467274, 0.006530142389237881, 0.006797799374908209, 0.0017442092066630721, 0.0, 0.0, 0.0, 0.0, 0.0, 0.0, 0.0, 0.0, 0.0, 0.0, 0.0, 0.0, 0.0, 0.0, 0.0, 0.0], [0.01379647571593523, 0.020158270373940468, 0.019907275214791298, 0.011081604287028313, 0.00908427219837904, 0.014057887718081474, 0.013924907892942429, 0.009421749040484428, 0.012299268506467342, 0.02852301485836506, 0.00912235677242279, 0.010595445521175861, 0.013721422292292118, 0.01544885616749525, 0.01002282090485096, 0.01445073913782835, 0.012733410112559795, 0.009594323113560677, 0.014187725260853767, 0.010205835103988647, 0.009298116900026798, 0.017459161579608917, 0.014571267180144787, 0.010319532826542854, 0.019081104546785355, 0.014919333159923553, 0.008079973049461842, 0.014244472607970238, 0.0031856971327215433, 0.009395268745720387, 0.020983269438147545, 0.0170559324324131, 0.007698695641011, 0.02305888757109642, 0.017747847363352776, 0.008723966777324677, 0.016775693744421005, 0.012377358041703701, 0.0026869529392570257, 0.018358658999204636, 0.01330921147018671, 0.008824373595416546, 0.21612060070037842, 0.134255051612854, 0.012678306549787521, 0.007638049777597189, 0.03864537179470062, 0.005686023272573948, 0.0068339272402226925, 0.006674903444945812, 0.009118868038058281, 0.001856375252828002, 0.0, 0.0, 0.0, 0.0, 0.0, 0.0, 0.0, 0.0, 0.0, 0.0, 0.0, 0.0, 0.0, 0.0, 0.0], [0.005975228268653154, 0.010677771642804146, 0.011600041761994362, 0.007921687327325344, 0.00825389102101326, 0.008353101089596748, 0.008226292207837105, 0.008078880608081818, 0.006814862135797739, 0.012097734957933426, 0.005283285863697529, 0.005000907927751541, 0.009076187387108803, 0.010844598524272442, 0.006065167021006346, 0.01287202350795269, 0.01334176491945982, 0.006875509396195412, 0.009822368621826172, 0.009164350107312202, 0.006612798664718866, 0.008591324090957642, 0.008717218413949013, 0.007587761152535677, 0.006675034761428833, 0.007441712077707052, 0.004840518813580275, 0.003959171008318663, 0.005069427657872438, 0.0068847001530230045, 0.004192810971289873, 0.006866690702736378, 0.004299098160117865, 0.009381746873259544, 0.00823170691728592, 0.0053404453210532665, 0.009302607737481594, 0.008955848403275013, 0.0010896335588768125, 0.006297988351434469, 0.007576962932944298, 0.005330248735845089, 0.33900612592697144, 0.25378721952438354, 0.008346088230609894, 0.02252311445772648, 0.04588811844587326, 0.0014170885551720858, 0.0018554525449872017, 0.0018529415829107165, 0.0024768321309238672, 0.0023908037692308426, 0.0008651578682474792, 0.0, 0.0, 0.0, 0.0, 0.0, 0.0, 0.0, 0.0, 0.0, 0.0, 0.0, 0.0, 0.0, 0.0], [0.00816827081143856, 0.010064084082841873, 0.01362600363790989, 0.007952908053994179, 0.007389890030026436, 0.009261571802198887, 0.010044622235000134, 0.00879729725420475, 0.00795646570622921, 0.01005570963025093, 0.004373523872345686, 0.005290039349347353, 0.008158362470567226, 0.009927589446306229, 0.005783830303698778, 0.008172369562089443, 0.00754109863191843, 0.005614002235233784, 0.014308291487395763, 0.0092817647382617, 0.00659120362251997, 0.007388175930827856, 0.006808609236031771, 0.005815165117383003, 0.007614035625010729, 0.008372338488698006, 0.004827460739761591, 0.0072822668589651585, 0.007289649453014135, 0.007817170582711697, 0.004772407002747059, 0.006905923597514629, 0.004304677713662386, 0.006165345665067434, 0.006092103198170662, 0.0044286176562309265, 0.006518859416246414, 0.007378722541034222, 0.0010289407800883055, 0.007717540487647057, 0.008908205665647984, 0.005040320102125406, 0.33617424964904785, 0.2601226568222046, 0.007625753525644541, 0.023135798051953316, 0.04777367040514946, 0.002058915328234434, 0.0020090658217668533, 0.0022127318661659956, 0.0030621099285781384, 0.002609340939670801, 0.0009605749510228634, 0.00141963642090559, 0.0, 0.0, 0.0, 0.0, 0.0, 0.0, 0.0, 0.0, 0.0, 0.0, 0.0, 0.0, 0.0], [0.011709047481417656, 0.012985658831894398, 0.013775620609521866, 0.009443088434636593, 0.0071970392018556595, 0.011628995649516582, 0.011300633661448956, 0.009311530739068985, 0.010152626782655716, 0.012673394754529, 0.004570887424051762, 0.007386783137917519, 0.004043457563966513, 0.004592577461153269, 0.005214708857238293, 0.009372870437800884, 0.009438221342861652, 0.005995400715619326, 0.011553358286619186, 0.009089999832212925, 0.007709008641541004, 0.01536599826067686, 0.012029179371893406, 0.008616164326667786, 0.0065721189603209496, 0.0069068181328475475, 0.004739437252283096, 0.005219982471317053, 0.00816423911601305, 0.00753383943811059, 0.005747516173869371, 0.0074630919843912125, 0.0041268365457654, 0.009941601194441319, 0.006566597614437342, 0.004693461582064629, 0.012820021249353886, 0.010781984776258469, 0.0009304272243753076, 0.022831901907920837, 0.02015688642859459, 0.007148385047912598, 0.31369325518608093, 0.19621430337429047, 0.009536991827189922, 0.040650106966495514, 0.03782321512699127, 0.002338315127417445, 0.0031175140757113695, 0.0027962944004684687, 0.0036621401086449623, 0.005431788507848978, 0.001643225084990263, 0.002209407277405262, 0.003381981048732996, 0.0, 0.0, 0.0, 0.0, 0.0, 0.0, 0.0, 0.0, 0.0, 0.0, 0.0, 0.0], [0.015207263641059399, 0.011450907215476036, 0.010237588547170162, 0.008145208470523357, 0.00942186824977398, 0.007987777702510357, 0.01691518723964691, 0.016206376254558563, 0.008852042257785797, 0.011391965672373772, 0.004134466405957937, 0.0060051437467336655, 0.005510651972144842, 0.008554547093808651, 0.00523210596293211, 0.012491564266383648, 0.009608456864953041, 0.005516137462109327, 0.006671858951449394, 0.006003380287438631, 0.005383902695029974, 0.010587403550744057, 0.009395354427397251, 0.00652493629604578, 0.0063585806638002396, 0.006471207831054926, 0.0044357068836688995, 0.008514183573424816, 0.007096479646861553, 0.0070646703243255615, 0.006312531419098377, 0.008524676784873009, 0.004408274777233601, 0.008478764444589615, 0.007210470736026764, 0.004369022790342569, 0.010248221457004547, 0.008520257659256458, 0.0008325318922288716, 0.011025135405361652, 0.01120450347661972, 0.005083953030407429, 0.2899164855480194, 0.26091110706329346, 0.007588518783450127, 0.024640671908855438, 0.04961619898676872, 0.0018578857416287065, 0.0024356346111744642, 0.0022812646348029375, 0.004125691018998623, 0.00305282068438828, 0.0012497116113081574, 0.0017121980199590325, 0.003318103263154626, 0.003698513610288501, 0.0, 0.0, 0.0, 0.0, 0.0, 0.0, 0.0, 0.0, 0.0, 0.0, 0.0], [0.009269338101148605, 0.010210591368377209, 0.013055351562798023, 0.010467512533068657, 0.0085954824462533, 0.008814165368676186, 0.010601300746202469, 0.011402100324630737, 0.008559329435229301, 0.013120955787599087, 0.007095151115208864, 0.006589076481759548, 0.007384520955383778, 0.011920261196792126, 0.00614703306928277, 0.006558829452842474, 0.007932109758257866, 0.005800956394523382, 0.007508323527872562, 0.006482525262981653, 0.005921332631260157, 0.005027254112064838, 0.006244422402232885, 0.006088920868933201, 0.010329797863960266, 0.010244380682706833, 0.00612498028203845, 0.008159812539815903, 0.008618981577455997, 0.007736266124993563, 0.005060463212430477, 0.007820318453013897, 0.004875835496932268, 0.008212090469896793, 0.007935047149658203, 0.0054738991893827915, 0.005351889878511429, 0.0066553629003465176, 0.001111196936108172, 0.00628832820802927, 0.008402333594858646, 0.00541703449562192, 0.2847716510295868, 0.2733529508113861, 0.006526137236505747, 0.02090996876358986, 0.06977704912424088, 0.001486097346059978, 0.001575392670929432, 0.0017762212082743645, 0.0029103534761816263, 0.002369531663134694, 0.000772195344325155, 0.0011215517297387123, 0.002071408089250326, 0.0025777292903512716, 0.003386902855709195, 0.0, 0.0, 0.0, 0.0, 0.0, 0.0, 0.0, 0.0, 0.0, 0.0], [0.008241811767220497, 0.011005615815520287, 0.017905469983816147, 0.006779571063816547, 0.007213354576379061, 0.012088315561413765, 0.00977683812379837, 0.010377319529652596, 0.011851966381072998, 0.014198727905750275, 0.006001020781695843, 0.009526685811579227, 0.005171954166144133, 0.008227662183344364, 0.006936179008334875, 0.005261337384581566, 0.00676086638122797, 0.006872084457427263, 0.006487151607871056, 0.0068578412756323814, 0.0075726076029241085, 0.0074113160371780396, 0.009245947003364563, 0.008853944018483162, 0.010325174778699875, 0.013478756882250309, 0.007569961249828339, 0.00599633390083909, 0.007047957740724087, 0.009507187642157078, 0.005262436810880899, 0.008140496909618378, 0.006058970000594854, 0.00745340995490551, 0.009595333598554134, 0.006910898257046938, 0.003765442641451955, 0.006327453535050154, 0.0014666529605165124, 0.010851838625967503, 0.014235191978514194, 0.008128577843308449, 0.281205415725708, 0.26109325885772705, 0.008204418234527111, 0.017337016761302948, 0.053868234157562256, 0.00151667685713619, 0.0019735482055693865, 0.002042229985818267, 0.003003666177392006, 0.0023395889438688755, 0.0008788741542957723, 0.0011956951348111033, 0.00210766214877367, 0.002857673680409789, 0.003409065306186676, 0.004219283815473318, 0.0, 0.0, 0.0, 0.0, 0.0, 0.0, 0.0, 0.0, 0.0], [0.01304177287966013, 0.009782283566892147, 0.016224101185798645, 0.013794628903269768, 0.006703373044729233, 0.009013490751385689, 0.0173653531819582, 0.012257562950253487, 0.009842709638178349, 0.016235226765275, 0.007185021415352821, 0.0066047846339643, 0.007327753584831953, 0.007979239337146282, 0.005552846472710371, 0.009332711808383465, 0.005854607094079256, 0.005301496013998985, 0.010869271121919155, 0.006629150826483965, 0.006305607035756111, 0.009809494018554688, 0.008464490063488483, 0.0067552607506513596, 0.021141760051250458, 0.015330175869166851, 0.006837180815637112, 0.007421305403113365, 0.007821504957973957, 0.007721158675849438, 0.0059732552617788315, 0.00501762330532074, 0.004940581042319536, 0.0058770631439983845, 0.0058065676130354404, 0.004798918962478638, 0.0028675554785877466, 0.0039220149628818035, 0.0011008529691025615, 0.009853545576334, 0.012076573446393013, 0.006100981030613184, 0.2226993292570114, 0.2823995053768158, 0.005155804567039013, 0.029357200488448143, 0.05940563604235649, 0.001806899905204773, 0.0016777346609160304, 0.0023373879957944155, 0.0033637851011008024, 0.0036627762019634247, 0.0011467832373455167, 0.0015568045200780034, 0.002591388765722513, 0.00381879392080009, 0.0043349782936275005, 0.0057486360892653465, 0.006095625925809145, 0.0, 0.0, 0.0, 0.0, 0.0, 0.0, 0.0, 0.0], [0.008081341162323952, 0.008542124181985855, 0.016184531152248383, 0.017419854179024696, 0.007013332564383745, 0.008341027423739433, 0.017000799998641014, 0.010458049364387989, 0.009010915644466877, 0.013832488097250462, 0.010784298181533813, 0.005855767987668514, 0.019686980172991753, 0.018200166523456573, 0.007721665780991316, 0.007674568332731724, 0.007100225426256657, 0.006050904281437397, 0.00808567926287651, 0.00898201297968626, 0.005980811547487974, 0.006925979629158974, 0.006771192420274019, 0.005906910635530949, 0.013892501592636108, 0.012092570774257183, 0.005366507451981306, 0.015303650870919228, 0.016092071309685707, 0.009208052419126034, 0.008436132222414017, 0.008273844607174397, 0.006292894948273897, 0.008278497494757175, 0.008477643132209778, 0.00580229889601469, 0.006281243171542883, 0.007581146899610758, 0.001891898806206882, 0.005926449317485094, 0.004359516780823469, 0.004916077014058828, 0.29398593306541443, 0.1602826565504074, 0.008494806475937366, 0.03347539156675339, 0.05627613514661789, 0.0020288238301873207, 0.0036831183824688196, 0.0028088297694921494, 0.003679394954815507, 0.004519931972026825, 0.0017501276452094316, 0.0025554511230438948, 0.00347709096968174, 0.005233009811490774, 0.0068222349509596825, 0.007976499386131763, 0.008167550899088383, 0.004698381293565035, 0.0, 0.0, 0.0, 0.0, 0.0, 0.0, 0.0], [0.02474757470190525, 0.01887560822069645, 0.017374539747834206, 0.012792389839887619, 0.01110585406422615, 0.021565398201346397, 0.007369729690253735, 0.00859663262963295, 0.0181185994297266, 0.0163109228014946, 0.008843721821904182, 0.01947607658803463, 0.006489688530564308, 0.008836840279400349, 0.014303578063845634, 0.02150191366672516, 0.011526484042406082, 0.015452887862920761, 0.011048266664147377, 0.00801513995975256, 0.012857875786721706, 0.027436377480626106, 0.016090260818600655, 0.018208736553788185, 0.01187105756253004, 0.008313890546560287, 0.011463169008493423, 0.01609124429523945, 0.012639679946005344, 0.012559544295072556, 0.02064899355173111, 0.011576741933822632, 0.011378012597560883, 0.030293049290776253, 0.022785142064094543, 0.015768390148878098, 0.022734086960554123, 0.019034812226891518, 0.009855963289737701, 0.030406350269913673, 0.011345853097736835, 0.015350722707808018, 0.023216092959046364, 0.016658784821629524, 0.019943946972489357, 0.022269761189818382, 0.012611299753189087, 0.02272634394466877, 0.02332148142158985, 0.010231981985270977, 0.0181988887488842, 0.019543269649147987, 0.020790262147784233, 0.01755165122449398, 0.017163604497909546, 0.020544782280921936, 0.017836593091487885, 0.0165823083370924, 0.01820245571434498, 0.017904266715049744, 0.0136404475197196, 0.0, 0.0, 0.0, 0.0, 0.0, 0.0], [0.01107063889503479, 0.022791564464569092, 0.0162523090839386, 0.007411979604512453, 0.007504820823669434, 0.02114144153892994, 0.0033355229534208775, 0.004204917699098587, 0.01611572690308094, 0.012645095586776733, 0.019046567380428314, 0.020447857677936554, 0.013125032186508179, 0.021720312535762787, 0.021008867770433426, 0.014146636240184307, 0.01513074990361929, 0.021351993083953857, 0.004504467826336622, 0.006697942968457937, 0.013493484817445278, 0.011445879936218262, 0.012491773813962936, 0.0198927354067564, 0.006904477719217539, 0.00696018198505044, 0.01363086886703968, 0.007965709082782269, 0.008538398891687393, 0.011272089555859566, 0.025905579328536987, 0.039413850754499435, 0.015751244500279427, 0.06512241810560226, 0.043752338737249374, 0.02320489101111889, 0.042647019028663635, 0.02601412683725357, 0.015649642795324326, 0.009799898602068424, 0.0076787881553173065, 0.014166823588311672, 0.024007586762309074, 0.02097105234861374, 0.024379771202802658, 0.014490851201117039, 0.011506500653922558, 0.011341962963342667, 0.01640193723142147, 0.009856479242444038, 0.013429053127765656, 0.011663256213068962, 0.012031679041683674, 0.012047535739839077, 0.011375177651643753, 0.012090095318853855, 0.012153738178312778, 0.01281646266579628, 0.013327172957360744, 0.008142010308802128, 0.014957455918192863, 0.011653599329292774, 0.0, 0.0, 0.0, 0.0, 0.0], [0.018669992685317993, 0.017106391489505768, 0.014661562629044056, 0.018220704048871994, 0.014008142054080963, 0.020637238398194313, 0.007538645528256893, 0.010789752006530762, 0.013939758762717247, 0.009768415242433548, 0.01165051106363535, 0.013797151856124401, 0.01442106906324625, 0.012614235281944275, 0.016251355409622192, 0.036590881645679474, 0.023987438529729843, 0.020630180835723877, 0.007449229713529348, 0.010240117087960243, 0.013207930140197277, 0.02463441528379917, 0.014239123091101646, 0.01858302764594555, 0.00750040914863348, 0.009086760692298412, 0.013575811870396137, 0.008464598096907139, 0.011324310675263405, 0.014913014136254787, 0.009607624262571335, 0.009895244613289833, 0.01113375648856163, 0.028671907261013985, 0.040113385766744614, 0.019394129514694214, 0.01817929930984974, 0.024605728685855865, 0.012008841149508953, 0.01622232235968113, 0.013276545330882072, 0.014517038129270077, 0.027903148904442787, 0.026341408491134644, 0.020663505420088768, 0.01969517581164837, 0.014609767124056816, 0.011486447416245937, 0.016683349385857582, 0.012562111020088196, 0.010972972959280014, 0.014321683906018734, 0.013038182631134987, 0.011197786778211594, 0.013189548626542091, 0.014802266843616962, 0.013135088607668877, 0.013182505033910275, 0.012691973708570004, 0.011126679368317127, 0.02089816890656948, 0.01925988681614399, 0.016110261902213097, 0.0, 0.0, 0.0, 0.0], [0.012406520545482635, 0.018256712704896927, 0.020406058058142662, 0.02379463240504265, 0.009565913118422031, 0.02272702194750309, 0.00427233288064599, 0.005456026177853346, 0.014390762895345688, 0.015224524773657322, 0.018642261624336243, 0.01859496533870697, 0.013713665306568146, 0.01501279417425394, 0.018146660178899765, 0.01995663158595562, 0.015223510563373566, 0.021979372948408127, 0.0066220760345458984, 0.010321085341274738, 0.01367941778153181, 0.012117202393710613, 0.01030584704130888, 0.017555689439177513, 0.02024933323264122, 0.013150523416697979, 0.0198247991502285, 0.011157683096826077, 0.01036134921014309, 0.012995768338441849, 0.013200312852859497, 0.013245823793113232, 0.013000315986573696, 0.05959557369351387, 0.040686946362257004, 0.02450547181069851, 0.01567120850086212, 0.011364373378455639, 0.014317654073238373, 0.01804722659289837, 0.008022977970540524, 0.016623390838503838, 0.038664404302835464, 0.019694404676556587, 0.015795757994055748, 0.017469678074121475, 0.018628941848874092, 0.00898260809481144, 0.01708539016544819, 0.008042807690799236, 0.009815534576773643, 0.01113936584442854, 0.009693436324596405, 0.009111561812460423, 0.009370856918394566, 0.01098631788045168, 0.009868287481367588, 0.010519739240407944, 0.009797504171729088, 0.007820380851626396, 0.017634239047765732, 0.015127116814255714, 0.01774623803794384, 0.012613124214112759, 0.0, 0.0, 0.0], [0.028421377763152122, 0.016482850536704063, 0.008908591233193874, 0.02560723014175892, 0.015348131768405437, 0.01250909548252821, 0.008841942995786667, 0.008321818895637989, 0.009779294021427631, 0.019988372921943665, 0.023629993200302124, 0.015598510392010212, 0.008728429675102234, 0.010243297554552555, 0.010639875195920467, 0.01667807623744011, 0.009075932204723358, 0.008876759558916092, 0.008545289747416973, 0.008515684865415096, 0.009604272432625294, 0.019610602408647537, 0.012438127771019936, 0.011567274108529091, 0.009591585956513882, 0.005573572125285864, 0.008399332873523235, 0.018825683742761612, 0.012339005246758461, 0.007327848579734564, 0.01510547660291195, 0.009080793708562851, 0.007511110045015812, 0.03661974146962166, 0.02549542486667633, 0.0113157257437706, 0.032769981771707535, 0.021342799067497253, 0.008579012006521225, 0.03179844841361046, 0.01199260726571083, 0.009673020802438259, 0.017059531062841415, 0.011506342329084873, 0.013331348076462746, 0.019350869581103325, 0.012241663411259651, 0.02043485827744007, 0.026108136400580406, 0.014124936424195766, 0.02038091979920864, 0.018289070576429367, 0.024348942562937737, 0.019528314471244812, 0.02160750702023506, 0.021438779309391975, 0.018398026004433632, 0.01906927302479744, 0.01771920919418335, 0.014018657617270947, 0.012927445583045483, 0.012078029103577137, 0.01218486949801445, 0.011836436577141285, 0.010714788921177387, 0.0, 0.0], [0.016647065058350563, 0.013423739932477474, 0.01579871028661728, 0.017547518014907837, 0.01398462150245905, 0.017545796930789948, 0.0057551199570298195, 0.008767981082201004, 0.012633813545107841, 0.019597113132476807, 0.017237791791558266, 0.015409231185913086, 0.015837667509913445, 0.02393171563744545, 0.016475720331072807, 0.019957933574914932, 0.012009985744953156, 0.01596912555396557, 0.010318215936422348, 0.01139338593930006, 0.01301018986850977, 0.009380906820297241, 0.008164915256202221, 0.012747220695018768, 0.010409113951027393, 0.012858377769589424, 0.013745207339525223, 0.02181064337491989, 0.022405676543712616, 0.012968959286808968, 0.010577197186648846, 0.01233724970370531, 0.012512030079960823, 0.029537012800574303, 0.03327256813645363, 0.017911311239004135, 0.01802118495106697, 0.021498452872037888, 0.014246491715312004, 0.011144079267978668, 0.006026242394000292, 0.012705251574516296, 0.025410331785678864, 0.023749176412820816, 0.016709348186850548, 0.02209687978029251, 0.020518168807029724, 0.013283438980579376, 0.016265785321593285, 0.008441859856247902, 0.014542650431394577, 0.01680261455476284, 0.012257606722414494, 0.011542283929884434, 0.0119159035384655, 0.011872675269842148, 0.013844940811395645, 0.012772999703884125, 0.012046169489622116, 0.011525847017765045, 0.013370727188885212, 0.01642022281885147, 0.014296422712504864, 0.013931493274867535, 0.01609703153371811, 0.01275287102907896, 0.0], [0.028265630826354027, 0.022452495992183685, 0.009838387370109558, 0.01052199024707079, 0.009655064903199673, 0.018181907013058662, 0.007423781789839268, 0.010139815509319305, 0.016389157623052597, 0.010679110884666443, 0.013231462799012661, 0.02104097232222557, 0.006293368525803089, 0.007737613283097744, 0.01499424409121275, 0.01349530927836895, 0.01092030480504036, 0.01351198274642229, 0.003710351185873151, 0.004702769685536623, 0.010527896694839, 0.03092307783663273, 0.01725233718752861, 0.016245553269982338, 0.004468021914362907, 0.0036644639912992716, 0.009827732108533382, 0.008156906813383102, 0.008229780942201614, 0.008691107854247093, 0.02227311208844185, 0.014734821394085884, 0.010479929856956005, 0.028480717912316322, 0.0394892543554306, 0.014210478402674198, 0.02930491417646408, 0.030701693147420883, 0.0097234221175313, 0.023335600271821022, 0.013181387446820736, 0.010747731663286686, 0.013542558066546917, 0.011315552517771721, 0.01930992677807808, 0.016328996047377586, 0.008080286905169487, 0.016754431650042534, 0.023613641038537025, 0.013856939971446991, 0.016181357204914093, 0.01722745969891548, 0.023395752534270287, 0.017415931448340416, 0.017860161140561104, 0.02082243748009205, 0.0168707724660635, 0.016141068190336227, 0.017582032829523087, 0.012356497347354889, 0.012655402533710003, 0.012804455123841763, 0.01192316971719265, 0.013921751640737057, 0.009142202325165272, 0.014049651101231575, 0.009011950343847275]]], \"headLabels\": [\"L0H0\"]}\n",
       "    )\n",
       "    </script>"
      ],
      "text/plain": [
       "<circuitsvis.utils.render.RenderedHTML at 0x32fe96190>"
      ]
     },
     "metadata": {},
     "output_type": "display_data"
    }
   ],
   "source": [
    "print(\"Layer 0 Head Attention Pattern:\")\n",
    "display(cv.attention.attention_patterns(\n",
    "    tokens=input_str,\n",
    "    attention=l0_attention_pattern,\n",
    "    attention_head_names=[f\"L0H{i}\" for i in range(1)],\n",
    "))"
   ]
  },
  {
   "cell_type": "markdown",
   "id": "89830c7a-c4c0-468a-ae5f-1a73fa26c09f",
   "metadata": {},
   "source": [
    "#### Observation: last edge is special"
   ]
  },
  {
   "cell_type": "markdown",
   "id": "e2cd04e7-a2e3-46f1-ace4-60e7cf1f1c1b",
   "metadata": {},
   "source": [
    " - looks like \"edge embeddings\" are accumulated in pad token `,`\n",
    " - but there is no `,` for the last edge (both in my impl and baseline impl)\n",
    " - attn pattern looks weird there\n",
    " - what if our path goes through last edge? Will performance drop?"
   ]
  },
  {
   "cell_type": "code",
   "execution_count": 38,
   "id": "ec87a4ba-6bb8-4c69-810d-166cc3db0faa",
   "metadata": {},
   "outputs": [],
   "source": [
    "from copy import deepcopy"
   ]
  },
  {
   "cell_type": "code",
   "execution_count": 39,
   "id": "59892ec5-596a-4f80-bc6c-d8b9db388c86",
   "metadata": {},
   "outputs": [],
   "source": [
    "def swap_edges(seq, e0, e1):\n",
    "    seq = deepcopy(seq)\n",
    "    \n",
    "    e0i = -1\n",
    "    e1i = -1\n",
    "    \n",
    "    for i in range(len(seq)-1):\n",
    "        if tuple(seq[i:i+2]) == e0: e0i = i\n",
    "    \n",
    "    for i in range(len(seq)-1):\n",
    "        if tuple(seq[i:i+2]) == e1: e1i = i\n",
    "    \n",
    "    seq[e0i:e0i+2] = e1\n",
    "    seq[e1i:e1i+2] = e0\n",
    "    return seq"
   ]
  },
  {
   "cell_type": "code",
   "execution_count": 40,
   "id": "af1791d1-bc12-4513-80e2-32967abc9af6",
   "metadata": {},
   "outputs": [],
   "source": [
    "# swap edge (12→15) with last edge (14→10)\n",
    "\n",
    "e0 = ('15', '→4')\n",
    "e1 = ('14', '→10')\n",
    "input_str_swap0 = swap_edges(input_str, e0, e1)[:68]\n",
    "input_idx_swap0 = torch.tensor(tok(input_str_swap0))\n",
    "\n",
    "outputs, cache = self.model.run_with_cache(input_idx_swap0[None])"
   ]
  },
  {
   "cell_type": "code",
   "execution_count": 41,
   "id": "69ef4d44-525f-4d9e-893c-83dd02322da0",
   "metadata": {},
   "outputs": [],
   "source": [
    "# for x,y in zip(input_str_swap0, input_str):\n",
    "#     print(x,y)"
   ]
  },
  {
   "cell_type": "code",
   "execution_count": 42,
   "id": "c06801b7-887f-44d8-927d-b076cb07a3f8",
   "metadata": {},
   "outputs": [
    {
     "data": {
      "text/plain": [
       "False"
      ]
     },
     "execution_count": 42,
     "metadata": {},
     "output_type": "execute_result"
    }
   ],
   "source": [
    "input_str_swap0 == input_str"
   ]
  },
  {
   "cell_type": "code",
   "execution_count": 43,
   "id": "0387f3c2-11e6-4147-aa80-bd285432f43f",
   "metadata": {},
   "outputs": [
    {
     "data": {
      "text/plain": [
       "tensor[1, 67, 67] n=4489 (18Kb) x∈[0., 1.000] μ=0.015 σ=0.045"
      ]
     },
     "execution_count": 43,
     "metadata": {},
     "output_type": "execute_result"
    }
   ],
   "source": [
    "l0_attention_pattern"
   ]
  },
  {
   "cell_type": "code",
   "execution_count": 44,
   "id": "88a40065-b33b-4883-b666-31d01962729e",
   "metadata": {},
   "outputs": [
    {
     "data": {
      "text/plain": [
       "67"
      ]
     },
     "execution_count": 44,
     "metadata": {},
     "output_type": "execute_result"
    }
   ],
   "source": [
    "len(input_str_swap0)"
   ]
  },
  {
   "cell_type": "code",
   "execution_count": 45,
   "id": "ea14f0fd-ece8-4203-89f1-09c51085c4f0",
   "metadata": {},
   "outputs": [
    {
     "name": "stdout",
     "output_type": "stream",
     "text": [
      "Layer 0 Head Attention Pattern:\n"
     ]
    },
    {
     "data": {
      "text/html": [
       "<div id=\"circuits-vis-6cbd0f08-6294\" style=\"margin: 15px 0;\"/>\n",
       "    <script crossorigin type=\"module\">\n",
       "    import { render, AttentionPatterns } from \"https://unpkg.com/circuitsvis@1.41.0/dist/cdn/esm.js\";\n",
       "    render(\n",
       "      \"circuits-vis-6cbd0f08-6294\",\n",
       "      AttentionPatterns,\n",
       "      {\"tokens\": [\"12\", \"\\u219215\", \",\", \"7\", \"\\u219213\", \",\", \"2\", \"\\u21925\", \",\", \"12\", \"\\u21922\", \",\", \"4\", \"\\u21928\", \",\", \"6\", \"\\u21920\", \",\", \"14\", \"\\u219210\", \",\", \"9\", \"\\u21921\", \",\", \"15\", \"\\u21926\", \",\", \"4\", \"\\u21923\", \",\", \"8\", \"\\u219211\", \",\", \"8\", \"\\u21927\", \",\", \"2\", \"\\u21929\", \",\", \"5\", \"\\u219214\", \",\", \"15\", \"\\u21924\", \"|\", \"3\", \":\", \"12\", \"\\u219215\", \"\\u21924\", \"\\u21923\", \"<PAD>\", \"<PAD>\", \"<PAD>\", \"<PAD>\", \"<PAD>\", \"<PAD>\", \"<PAD>\", \"<PAD>\", \"<PAD>\", \"<PAD>\", \"<PAD>\", \"<PAD>\", \"<PAD>\", \"<PAD>\", \"<PAD>\", \"<PAD>\"], \"attention\": [[[1.0, 0.0, 0.0, 0.0, 0.0, 0.0, 0.0, 0.0, 0.0, 0.0, 0.0, 0.0, 0.0, 0.0, 0.0, 0.0, 0.0, 0.0, 0.0, 0.0, 0.0, 0.0, 0.0, 0.0, 0.0, 0.0, 0.0, 0.0, 0.0, 0.0, 0.0, 0.0, 0.0, 0.0, 0.0, 0.0, 0.0, 0.0, 0.0, 0.0, 0.0, 0.0, 0.0, 0.0, 0.0, 0.0, 0.0, 0.0, 0.0, 0.0, 0.0, 0.0, 0.0, 0.0, 0.0, 0.0, 0.0, 0.0, 0.0, 0.0, 0.0, 0.0, 0.0, 0.0, 0.0, 0.0, 0.0], [0.1823301464319229, 0.8176698088645935, 0.0, 0.0, 0.0, 0.0, 0.0, 0.0, 0.0, 0.0, 0.0, 0.0, 0.0, 0.0, 0.0, 0.0, 0.0, 0.0, 0.0, 0.0, 0.0, 0.0, 0.0, 0.0, 0.0, 0.0, 0.0, 0.0, 0.0, 0.0, 0.0, 0.0, 0.0, 0.0, 0.0, 0.0, 0.0, 0.0, 0.0, 0.0, 0.0, 0.0, 0.0, 0.0, 0.0, 0.0, 0.0, 0.0, 0.0, 0.0, 0.0, 0.0, 0.0, 0.0, 0.0, 0.0, 0.0, 0.0, 0.0, 0.0, 0.0, 0.0, 0.0, 0.0, 0.0, 0.0, 0.0], [0.46602776646614075, 0.31025436520576477, 0.22371794283390045, 0.0, 0.0, 0.0, 0.0, 0.0, 0.0, 0.0, 0.0, 0.0, 0.0, 0.0, 0.0, 0.0, 0.0, 0.0, 0.0, 0.0, 0.0, 0.0, 0.0, 0.0, 0.0, 0.0, 0.0, 0.0, 0.0, 0.0, 0.0, 0.0, 0.0, 0.0, 0.0, 0.0, 0.0, 0.0, 0.0, 0.0, 0.0, 0.0, 0.0, 0.0, 0.0, 0.0, 0.0, 0.0, 0.0, 0.0, 0.0, 0.0, 0.0, 0.0, 0.0, 0.0, 0.0, 0.0, 0.0, 0.0, 0.0, 0.0, 0.0, 0.0, 0.0, 0.0, 0.0], [0.15124523639678955, 0.3134540021419525, 0.4453854262828827, 0.08991533517837524, 0.0, 0.0, 0.0, 0.0, 0.0, 0.0, 0.0, 0.0, 0.0, 0.0, 0.0, 0.0, 0.0, 0.0, 0.0, 0.0, 0.0, 0.0, 0.0, 0.0, 0.0, 0.0, 0.0, 0.0, 0.0, 0.0, 0.0, 0.0, 0.0, 0.0, 0.0, 0.0, 0.0, 0.0, 0.0, 0.0, 0.0, 0.0, 0.0, 0.0, 0.0, 0.0, 0.0, 0.0, 0.0, 0.0, 0.0, 0.0, 0.0, 0.0, 0.0, 0.0, 0.0, 0.0, 0.0, 0.0, 0.0, 0.0, 0.0, 0.0, 0.0, 0.0, 0.0], [0.07041718810796738, 0.10183175653219223, 0.4921497106552124, 0.2945118844509125, 0.041089460253715515, 0.0, 0.0, 0.0, 0.0, 0.0, 0.0, 0.0, 0.0, 0.0, 0.0, 0.0, 0.0, 0.0, 0.0, 0.0, 0.0, 0.0, 0.0, 0.0, 0.0, 0.0, 0.0, 0.0, 0.0, 0.0, 0.0, 0.0, 0.0, 0.0, 0.0, 0.0, 0.0, 0.0, 0.0, 0.0, 0.0, 0.0, 0.0, 0.0, 0.0, 0.0, 0.0, 0.0, 0.0, 0.0, 0.0, 0.0, 0.0, 0.0, 0.0, 0.0, 0.0, 0.0, 0.0, 0.0, 0.0, 0.0, 0.0, 0.0, 0.0, 0.0, 0.0], [0.03700524568557739, 0.050126489251852036, 0.09880105406045914, 0.4932670593261719, 0.2579547166824341, 0.06284543871879578, 0.0, 0.0, 0.0, 0.0, 0.0, 0.0, 0.0, 0.0, 0.0, 0.0, 0.0, 0.0, 0.0, 0.0, 0.0, 0.0, 0.0, 0.0, 0.0, 0.0, 0.0, 0.0, 0.0, 0.0, 0.0, 0.0, 0.0, 0.0, 0.0, 0.0, 0.0, 0.0, 0.0, 0.0, 0.0, 0.0, 0.0, 0.0, 0.0, 0.0, 0.0, 0.0, 0.0, 0.0, 0.0, 0.0, 0.0, 0.0, 0.0, 0.0, 0.0, 0.0, 0.0, 0.0, 0.0, 0.0, 0.0, 0.0, 0.0, 0.0, 0.0], [0.1077321469783783, 0.3104226291179657, 0.23138155043125153, 0.04937027022242546, 0.05761219188570976, 0.14529037475585938, 0.09819088876247406, 0.0, 0.0, 0.0, 0.0, 0.0, 0.0, 0.0, 0.0, 0.0, 0.0, 0.0, 0.0, 0.0, 0.0, 0.0, 0.0, 0.0, 0.0, 0.0, 0.0, 0.0, 0.0, 0.0, 0.0, 0.0, 0.0, 0.0, 0.0, 0.0, 0.0, 0.0, 0.0, 0.0, 0.0, 0.0, 0.0, 0.0, 0.0, 0.0, 0.0, 0.0, 0.0, 0.0, 0.0, 0.0, 0.0, 0.0, 0.0, 0.0, 0.0, 0.0, 0.0, 0.0, 0.0, 0.0, 0.0, 0.0, 0.0, 0.0, 0.0], [0.061418719589710236, 0.09788786619901657, 0.3683425486087799, 0.02135857753455639, 0.02087668515741825, 0.11648707836866379, 0.284365713596344, 0.029262827709317207, 0.0, 0.0, 0.0, 0.0, 0.0, 0.0, 0.0, 0.0, 0.0, 0.0, 0.0, 0.0, 0.0, 0.0, 0.0, 0.0, 0.0, 0.0, 0.0, 0.0, 0.0, 0.0, 0.0, 0.0, 0.0, 0.0, 0.0, 0.0, 0.0, 0.0, 0.0, 0.0, 0.0, 0.0, 0.0, 0.0, 0.0, 0.0, 0.0, 0.0, 0.0, 0.0, 0.0, 0.0, 0.0, 0.0, 0.0, 0.0, 0.0, 0.0, 0.0, 0.0, 0.0, 0.0, 0.0, 0.0, 0.0, 0.0, 0.0], [0.023298097774386406, 0.035854946821928024, 0.07111524045467377, 0.015788715332746506, 0.017625607550144196, 0.01805637590587139, 0.479438453912735, 0.26925376057624817, 0.06956881284713745, 0.0, 0.0, 0.0, 0.0, 0.0, 0.0, 0.0, 0.0, 0.0, 0.0, 0.0, 0.0, 0.0, 0.0, 0.0, 0.0, 0.0, 0.0, 0.0, 0.0, 0.0, 0.0, 0.0, 0.0, 0.0, 0.0, 0.0, 0.0, 0.0, 0.0, 0.0, 0.0, 0.0, 0.0, 0.0, 0.0, 0.0, 0.0, 0.0, 0.0, 0.0, 0.0, 0.0, 0.0, 0.0, 0.0, 0.0, 0.0, 0.0, 0.0, 0.0, 0.0, 0.0, 0.0, 0.0, 0.0, 0.0, 0.0], [0.024841398000717163, 0.29598769545555115, 0.13676218688488007, 0.04573029652237892, 0.042406920343637466, 0.11996500939130783, 0.03667783737182617, 0.03240931034088135, 0.09238860011100769, 0.1728307157754898, 0.0, 0.0, 0.0, 0.0, 0.0, 0.0, 0.0, 0.0, 0.0, 0.0, 0.0, 0.0, 0.0, 0.0, 0.0, 0.0, 0.0, 0.0, 0.0, 0.0, 0.0, 0.0, 0.0, 0.0, 0.0, 0.0, 0.0, 0.0, 0.0, 0.0, 0.0, 0.0, 0.0, 0.0, 0.0, 0.0, 0.0, 0.0, 0.0, 0.0, 0.0, 0.0, 0.0, 0.0, 0.0, 0.0, 0.0, 0.0, 0.0, 0.0, 0.0, 0.0, 0.0, 0.0, 0.0, 0.0, 0.0], [0.048749975860118866, 0.08752099424600601, 0.2693219780921936, 0.0267049428075552, 0.0186281967908144, 0.17005519568920135, 0.008596520870923996, 0.012380430474877357, 0.10668089985847473, 0.22720155119895935, 0.024159329012036324, 0.0, 0.0, 0.0, 0.0, 0.0, 0.0, 0.0, 0.0, 0.0, 0.0, 0.0, 0.0, 0.0, 0.0, 0.0, 0.0, 0.0, 0.0, 0.0, 0.0, 0.0, 0.0, 0.0, 0.0, 0.0, 0.0, 0.0, 0.0, 0.0, 0.0, 0.0, 0.0, 0.0, 0.0, 0.0, 0.0, 0.0, 0.0, 0.0, 0.0, 0.0, 0.0, 0.0, 0.0, 0.0, 0.0, 0.0, 0.0, 0.0, 0.0, 0.0, 0.0, 0.0, 0.0, 0.0, 0.0], [0.014178618788719177, 0.029574835672974586, 0.030616115778684616, 0.016245011240243912, 0.018331604078412056, 0.022149626165628433, 0.015432281419634819, 0.017739374190568924, 0.01951734349131584, 0.44714704155921936, 0.3020630478858948, 0.06700513511896133, 0.0, 0.0, 0.0, 0.0, 0.0, 0.0, 0.0, 0.0, 0.0, 0.0, 0.0, 0.0, 0.0, 0.0, 0.0, 0.0, 0.0, 0.0, 0.0, 0.0, 0.0, 0.0, 0.0, 0.0, 0.0, 0.0, 0.0, 0.0, 0.0, 0.0, 0.0, 0.0, 0.0, 0.0, 0.0, 0.0, 0.0, 0.0, 0.0, 0.0, 0.0, 0.0, 0.0, 0.0, 0.0, 0.0, 0.0, 0.0, 0.0, 0.0, 0.0, 0.0, 0.0, 0.0, 0.0], [0.0732627883553505, 0.14719967544078827, 0.11424849182367325, 0.04275492578744888, 0.04322841018438339, 0.11214698851108551, 0.06269814074039459, 0.04693344235420227, 0.08548502624034882, 0.04133759066462517, 0.040222879499197006, 0.04162857308983803, 0.14885318279266357, 0.0, 0.0, 0.0, 0.0, 0.0, 0.0, 0.0, 0.0, 0.0, 0.0, 0.0, 0.0, 0.0, 0.0, 0.0, 0.0, 0.0, 0.0, 0.0, 0.0, 0.0, 0.0, 0.0, 0.0, 0.0, 0.0, 0.0, 0.0, 0.0, 0.0, 0.0, 0.0, 0.0, 0.0, 0.0, 0.0, 0.0, 0.0, 0.0, 0.0, 0.0, 0.0, 0.0, 0.0, 0.0, 0.0, 0.0, 0.0, 0.0, 0.0, 0.0, 0.0, 0.0, 0.0], [0.05253219231963158, 0.07694832235574722, 0.18107657134532928, 0.021008407697081566, 0.019731545820832253, 0.137743279337883, 0.027442757040262222, 0.014643915928900242, 0.08097031712532043, 0.025537952780723572, 0.0156759861856699, 0.0481099896132946, 0.25799256563186646, 0.040586166083812714, 0.0, 0.0, 0.0, 0.0, 0.0, 0.0, 0.0, 0.0, 0.0, 0.0, 0.0, 0.0, 0.0, 0.0, 0.0, 0.0, 0.0, 0.0, 0.0, 0.0, 0.0, 0.0, 0.0, 0.0, 0.0, 0.0, 0.0, 0.0, 0.0, 0.0, 0.0, 0.0, 0.0, 0.0, 0.0, 0.0, 0.0, 0.0, 0.0, 0.0, 0.0, 0.0, 0.0, 0.0, 0.0, 0.0, 0.0, 0.0, 0.0, 0.0, 0.0, 0.0, 0.0], [0.008566473610699177, 0.0248735174536705, 0.04952399060130119, 0.011369605548679829, 0.012254133820533752, 0.027636239305138588, 0.017101848497986794, 0.01848977990448475, 0.021778037771582603, 0.015608739107847214, 0.019966570660471916, 0.01180378720164299, 0.4411202371120453, 0.25092247128486633, 0.06898463517427444, 0.0, 0.0, 0.0, 0.0, 0.0, 0.0, 0.0, 0.0, 0.0, 0.0, 0.0, 0.0, 0.0, 0.0, 0.0, 0.0, 0.0, 0.0, 0.0, 0.0, 0.0, 0.0, 0.0, 0.0, 0.0, 0.0, 0.0, 0.0, 0.0, 0.0, 0.0, 0.0, 0.0, 0.0, 0.0, 0.0, 0.0, 0.0, 0.0, 0.0, 0.0, 0.0, 0.0, 0.0, 0.0, 0.0, 0.0, 0.0, 0.0, 0.0, 0.0, 0.0], [0.06928905844688416, 0.11168604344129562, 0.08759889751672745, 0.07454150170087814, 0.059485383331775665, 0.08645344525575638, 0.0683513805270195, 0.07072506844997406, 0.07170282304286957, 0.019864797592163086, 0.027490226551890373, 0.0504697747528553, 0.030458176508545876, 0.03681427612900734, 0.040595173835754395, 0.09447403252124786, 0.0, 0.0, 0.0, 0.0, 0.0, 0.0, 0.0, 0.0, 0.0, 0.0, 0.0, 0.0, 0.0, 0.0, 0.0, 0.0, 0.0, 0.0, 0.0, 0.0, 0.0, 0.0, 0.0, 0.0, 0.0, 0.0, 0.0, 0.0, 0.0, 0.0, 0.0, 0.0, 0.0, 0.0, 0.0, 0.0, 0.0, 0.0, 0.0, 0.0, 0.0, 0.0, 0.0, 0.0, 0.0, 0.0, 0.0, 0.0, 0.0, 0.0, 0.0], [0.050782643258571625, 0.06853877007961273, 0.14784292876720428, 0.02820570208132267, 0.027114756405353546, 0.1195903792977333, 0.03500558063387871, 0.025807134807109833, 0.08100280165672302, 0.014823799021542072, 0.014462205581367016, 0.05724688991904259, 0.02384188398718834, 0.02371443621814251, 0.038939494639635086, 0.20956426858901978, 0.03351624682545662, 0.0, 0.0, 0.0, 0.0, 0.0, 0.0, 0.0, 0.0, 0.0, 0.0, 0.0, 0.0, 0.0, 0.0, 0.0, 0.0, 0.0, 0.0, 0.0, 0.0, 0.0, 0.0, 0.0, 0.0, 0.0, 0.0, 0.0, 0.0, 0.0, 0.0, 0.0, 0.0, 0.0, 0.0, 0.0, 0.0, 0.0, 0.0, 0.0, 0.0, 0.0, 0.0, 0.0, 0.0, 0.0, 0.0, 0.0, 0.0, 0.0, 0.0], [0.011851875111460686, 0.028190597891807556, 0.03050418198108673, 0.01660100370645523, 0.01419182401150465, 0.02212817594408989, 0.01587965339422226, 0.02121421881020069, 0.017500201240181923, 0.004276427440345287, 0.007181838620454073, 0.011559688486158848, 0.011959301307797432, 0.01566232182085514, 0.011820675805211067, 0.4507659375667572, 0.24031896889209747, 0.06839305907487869, 0.0, 0.0, 0.0, 0.0, 0.0, 0.0, 0.0, 0.0, 0.0, 0.0, 0.0, 0.0, 0.0, 0.0, 0.0, 0.0, 0.0, 0.0, 0.0, 0.0, 0.0, 0.0, 0.0, 0.0, 0.0, 0.0, 0.0, 0.0, 0.0, 0.0, 0.0, 0.0, 0.0, 0.0, 0.0, 0.0, 0.0, 0.0, 0.0, 0.0, 0.0, 0.0, 0.0, 0.0, 0.0, 0.0, 0.0, 0.0, 0.0], [0.051092326641082764, 0.08911995589733124, 0.0659320056438446, 0.046997006982564926, 0.044737011194229126, 0.06583713740110397, 0.05811770260334015, 0.038939960300922394, 0.0472596175968647, 0.0345340222120285, 0.03538723289966583, 0.03481920063495636, 0.0849633514881134, 0.061695076525211334, 0.054057419300079346, 0.04875081032514572, 0.04068824648857117, 0.03752070665359497, 0.05955125764012337, 0.0, 0.0, 0.0, 0.0, 0.0, 0.0, 0.0, 0.0, 0.0, 0.0, 0.0, 0.0, 0.0, 0.0, 0.0, 0.0, 0.0, 0.0, 0.0, 0.0, 0.0, 0.0, 0.0, 0.0, 0.0, 0.0, 0.0, 0.0, 0.0, 0.0, 0.0, 0.0, 0.0, 0.0, 0.0, 0.0, 0.0, 0.0, 0.0, 0.0, 0.0, 0.0, 0.0, 0.0, 0.0, 0.0, 0.0, 0.0], [0.0465850792825222, 0.06350710988044739, 0.139889195561409, 0.01852491870522499, 0.014585756696760654, 0.1300509124994278, 0.023996884003281593, 0.010841594077646732, 0.0752064436674118, 0.024440620094537735, 0.014889919199049473, 0.06961116194725037, 0.02388158068060875, 0.016349077224731445, 0.04249802231788635, 0.029650991782546043, 0.019938485696911812, 0.04682689160108566, 0.15741737186908722, 0.031307950615882874, 0.0, 0.0, 0.0, 0.0, 0.0, 0.0, 0.0, 0.0, 0.0, 0.0, 0.0, 0.0, 0.0, 0.0, 0.0, 0.0, 0.0, 0.0, 0.0, 0.0, 0.0, 0.0, 0.0, 0.0, 0.0, 0.0, 0.0, 0.0, 0.0, 0.0, 0.0, 0.0, 0.0, 0.0, 0.0, 0.0, 0.0, 0.0, 0.0, 0.0, 0.0, 0.0, 0.0, 0.0, 0.0, 0.0, 0.0], [0.004697098396718502, 0.013569064438343048, 0.028049610555171967, 0.01003724243491888, 0.009800644591450691, 0.016681334003806114, 0.014792270958423615, 0.010887964628636837, 0.013068906962871552, 0.013370724394917488, 0.015263879671692848, 0.011293815448880196, 0.014776469208300114, 0.010898124426603317, 0.011963608674705029, 0.011289224959909916, 0.014326078817248344, 0.012559773400425911, 0.4379158914089203, 0.27183011174201965, 0.05292830243706703, 0.0, 0.0, 0.0, 0.0, 0.0, 0.0, 0.0, 0.0, 0.0, 0.0, 0.0, 0.0, 0.0, 0.0, 0.0, 0.0, 0.0, 0.0, 0.0, 0.0, 0.0, 0.0, 0.0, 0.0, 0.0, 0.0, 0.0, 0.0, 0.0, 0.0, 0.0, 0.0, 0.0, 0.0, 0.0, 0.0, 0.0, 0.0, 0.0, 0.0, 0.0, 0.0, 0.0, 0.0, 0.0, 0.0], [0.05937837436795235, 0.08800361305475235, 0.04292910546064377, 0.03829590231180191, 0.03937768563628197, 0.06395456939935684, 0.04255847632884979, 0.03688639774918556, 0.044823165982961655, 0.03771916776895523, 0.03616455942392349, 0.04495463892817497, 0.049921125173568726, 0.0497196801006794, 0.05235891416668892, 0.03243480622768402, 0.038662344217300415, 0.032527584582567215, 0.04680589586496353, 0.041465822607278824, 0.04727207496762276, 0.033786144107580185, 0.0, 0.0, 0.0, 0.0, 0.0, 0.0, 0.0, 0.0, 0.0, 0.0, 0.0, 0.0, 0.0, 0.0, 0.0, 0.0, 0.0, 0.0, 0.0, 0.0, 0.0, 0.0, 0.0, 0.0, 0.0, 0.0, 0.0, 0.0, 0.0, 0.0, 0.0, 0.0, 0.0, 0.0, 0.0, 0.0, 0.0, 0.0, 0.0, 0.0, 0.0, 0.0, 0.0, 0.0, 0.0], [0.05538095906376839, 0.07826396077871323, 0.06740669161081314, 0.010350980795919895, 0.015435457229614258, 0.10963219404220581, 0.01630142517387867, 0.009981179609894753, 0.06798265874385834, 0.01722049154341221, 0.011523324996232986, 0.06905446201562881, 0.02018369920551777, 0.01875201053917408, 0.06557294726371765, 0.01909942924976349, 0.014332067221403122, 0.03401745855808258, 0.015362386591732502, 0.013387319631874561, 0.04554854705929756, 0.1856580674648285, 0.03955228626728058, 0.0, 0.0, 0.0, 0.0, 0.0, 0.0, 0.0, 0.0, 0.0, 0.0, 0.0, 0.0, 0.0, 0.0, 0.0, 0.0, 0.0, 0.0, 0.0, 0.0, 0.0, 0.0, 0.0, 0.0, 0.0, 0.0, 0.0, 0.0, 0.0, 0.0, 0.0, 0.0, 0.0, 0.0, 0.0, 0.0, 0.0, 0.0, 0.0, 0.0, 0.0, 0.0, 0.0, 0.0], [0.008739728480577469, 0.012710373848676682, 0.02825636975467205, 0.0050924839451909065, 0.00671226205304265, 0.018665488809347153, 0.015588199719786644, 0.014495392329990864, 0.01875845342874527, 0.008796153590083122, 0.009350256994366646, 0.01562040951102972, 0.010799357667565346, 0.010971145704388618, 0.016186349093914032, 0.017578966915607452, 0.017879249528050423, 0.013507677242159843, 0.012261979281902313, 0.013049536384642124, 0.016986975446343422, 0.3525950610637665, 0.3001123368740082, 0.05528580769896507, 0.0, 0.0, 0.0, 0.0, 0.0, 0.0, 0.0, 0.0, 0.0, 0.0, 0.0, 0.0, 0.0, 0.0, 0.0, 0.0, 0.0, 0.0, 0.0, 0.0, 0.0, 0.0, 0.0, 0.0, 0.0, 0.0, 0.0, 0.0, 0.0, 0.0, 0.0, 0.0, 0.0, 0.0, 0.0, 0.0, 0.0, 0.0, 0.0, 0.0, 0.0, 0.0, 0.0], [0.0672682598233223, 0.032800257205963135, 0.07739146053791046, 0.03547348454594612, 0.03128683939576149, 0.06284316629171371, 0.03233936429023743, 0.025836633518338203, 0.04817426577210426, 0.044906143099069595, 0.036775849759578705, 0.055029552429914474, 0.029005207121372223, 0.027907298877835274, 0.032870158553123474, 0.05061875656247139, 0.037425410002470016, 0.04877523332834244, 0.034248948097229004, 0.02646123245358467, 0.03200642392039299, 0.029075942933559418, 0.02939976193010807, 0.02485506981611252, 0.04722527787089348, 0.0, 0.0, 0.0, 0.0, 0.0, 0.0, 0.0, 0.0, 0.0, 0.0, 0.0, 0.0, 0.0, 0.0, 0.0, 0.0, 0.0, 0.0, 0.0, 0.0, 0.0, 0.0, 0.0, 0.0, 0.0, 0.0, 0.0, 0.0, 0.0, 0.0, 0.0, 0.0, 0.0, 0.0, 0.0, 0.0, 0.0, 0.0, 0.0, 0.0, 0.0, 0.0], [0.05489098280668259, 0.046795137226581573, 0.12904377281665802, 0.014720626175403595, 0.011046670377254486, 0.08694841712713242, 0.016330117359757423, 0.009269334375858307, 0.06001049652695656, 0.02979491651058197, 0.013447791337966919, 0.0680469498038292, 0.0219256691634655, 0.011800010688602924, 0.029611127451062202, 0.006152407266199589, 0.013003404252231121, 0.04050316661596298, 0.017839357256889343, 0.010816424153745174, 0.02886408381164074, 0.032168786972761154, 0.019440582022070885, 0.025245411321520805, 0.17201028764247894, 0.030274035409092903, 0.0, 0.0, 0.0, 0.0, 0.0, 0.0, 0.0, 0.0, 0.0, 0.0, 0.0, 0.0, 0.0, 0.0, 0.0, 0.0, 0.0, 0.0, 0.0, 0.0, 0.0, 0.0, 0.0, 0.0, 0.0, 0.0, 0.0, 0.0, 0.0, 0.0, 0.0, 0.0, 0.0, 0.0, 0.0, 0.0, 0.0, 0.0, 0.0, 0.0, 0.0], [0.003300386480987072, 0.006670525763183832, 0.057092588394880295, 0.008155608549714088, 0.006181085482239723, 0.012423770502209663, 0.008321717381477356, 0.008393689058721066, 0.012184619903564453, 0.013305489905178547, 0.014474190771579742, 0.014335737563669682, 0.012525806203484535, 0.012325792573392391, 0.008804235607385635, 0.010024300776422024, 0.011547532863914967, 0.015964334830641747, 0.012792318128049374, 0.013020207174122334, 0.011657395400106907, 0.011571892537176609, 0.01905575953423977, 0.01222110167145729, 0.3649879992008209, 0.275601327419281, 0.04306061565876007, 0.0, 0.0, 0.0, 0.0, 0.0, 0.0, 0.0, 0.0, 0.0, 0.0, 0.0, 0.0, 0.0, 0.0, 0.0, 0.0, 0.0, 0.0, 0.0, 0.0, 0.0, 0.0, 0.0, 0.0, 0.0, 0.0, 0.0, 0.0, 0.0, 0.0, 0.0, 0.0, 0.0, 0.0, 0.0, 0.0, 0.0, 0.0, 0.0, 0.0], [0.08406255394220352, 0.06792477518320084, 0.027089761570096016, 0.06330171972513199, 0.05044950544834137, 0.041750773787498474, 0.05797915160655975, 0.04403126984834671, 0.03469447046518326, 0.04030005633831024, 0.038556694984436035, 0.035574350506067276, 0.009736998938024044, 0.036170877516269684, 0.031682517379522324, 0.040259480476379395, 0.03299015760421753, 0.02754960022866726, 0.0462968572974205, 0.03047052212059498, 0.03265012428164482, 0.014209108427166939, 0.013046813197433949, 0.01601174660027027, 0.017932966351509094, 0.016846532002091408, 0.020401323214173317, 0.028029248118400574, 0.0, 0.0, 0.0, 0.0, 0.0, 0.0, 0.0, 0.0, 0.0, 0.0, 0.0, 0.0, 0.0, 0.0, 0.0, 0.0, 0.0, 0.0, 0.0, 0.0, 0.0, 0.0, 0.0, 0.0, 0.0, 0.0, 0.0, 0.0, 0.0, 0.0, 0.0, 0.0, 0.0, 0.0, 0.0, 0.0, 0.0, 0.0, 0.0], [0.05916200205683708, 0.04901178181171417, 0.06191592663526535, 0.01970052160322666, 0.01781698502600193, 0.08590448647737503, 0.022659098729491234, 0.013303142040967941, 0.05851970613002777, 0.02428019605576992, 0.017400046810507774, 0.06937818229198456, 0.021625075489282608, 0.01656676083803177, 0.03669525682926178, 0.012470094487071037, 0.010669992305338383, 0.03057810477912426, 0.01911907270550728, 0.013578630983829498, 0.036488454788923264, 0.01931537128984928, 0.011915537528693676, 0.022893628105521202, 0.012479713186621666, 0.009066903963685036, 0.01858079805970192, 0.1690872609615326, 0.03981735184788704, 0.0, 0.0, 0.0, 0.0, 0.0, 0.0, 0.0, 0.0, 0.0, 0.0, 0.0, 0.0, 0.0, 0.0, 0.0, 0.0, 0.0, 0.0, 0.0, 0.0, 0.0, 0.0, 0.0, 0.0, 0.0, 0.0, 0.0, 0.0, 0.0, 0.0, 0.0, 0.0, 0.0, 0.0, 0.0, 0.0, 0.0, 0.0], [0.011509559117257595, 0.010494135320186615, 0.03225643187761307, 0.013738362118601799, 0.011660970747470856, 0.02236640825867653, 0.013197927735745907, 0.013726222328841686, 0.014333191327750683, 0.00656750937923789, 0.008183080703020096, 0.016734065487980843, 0.012874624691903591, 0.012923653237521648, 0.01060048770159483, 0.009291724301874638, 0.011685979552567005, 0.012364809401333332, 0.0140678770840168, 0.012420705519616604, 0.013352344743907452, 0.006047957111150026, 0.00901100505143404, 0.007936873473227024, 0.01194743625819683, 0.012171781621873379, 0.006899888161569834, 0.3696698546409607, 0.2523579001426697, 0.03960728272795677, 0.0, 0.0, 0.0, 0.0, 0.0, 0.0, 0.0, 0.0, 0.0, 0.0, 0.0, 0.0, 0.0, 0.0, 0.0, 0.0, 0.0, 0.0, 0.0, 0.0, 0.0, 0.0, 0.0, 0.0, 0.0, 0.0, 0.0, 0.0, 0.0, 0.0, 0.0, 0.0, 0.0, 0.0, 0.0, 0.0, 0.0], [0.07153990119695663, 0.10135746002197266, 0.023661326617002487, 0.02080327272415161, 0.027841700240969658, 0.03169320896267891, 0.04453655704855919, 0.031092092394828796, 0.03380722925066948, 0.03710147738456726, 0.04254975914955139, 0.0320390984416008, 0.035977400839328766, 0.008739686571061611, 0.027949444949626923, 0.06510103493928909, 0.05061690881848335, 0.035809341818094254, 0.021928880363702774, 0.02177298627793789, 0.02327662706375122, 0.021743273362517357, 0.02171158604323864, 0.01964850351214409, 0.024829385802149773, 0.022625915706157684, 0.03112451359629631, 0.01945921592414379, 0.016432220116257668, 0.015099327079951763, 0.01813047006726265, 0.0, 0.0, 0.0, 0.0, 0.0, 0.0, 0.0, 0.0, 0.0, 0.0, 0.0, 0.0, 0.0, 0.0, 0.0, 0.0, 0.0, 0.0, 0.0, 0.0, 0.0, 0.0, 0.0, 0.0, 0.0, 0.0, 0.0, 0.0, 0.0, 0.0, 0.0, 0.0, 0.0, 0.0, 0.0, 0.0], [0.050679780542850494, 0.06766833364963531, 0.03972570225596428, 0.005030424799770117, 0.0073678442277014256, 0.05018977075815201, 0.016542045399546623, 0.013248666189610958, 0.056353308260440826, 0.025478655472397804, 0.01770624704658985, 0.05886884778738022, 0.019119523465633392, 0.015914183109998703, 0.028517501428723335, 0.02242439240217209, 0.015264343470335007, 0.036320947110652924, 0.007347144652158022, 0.007120093330740929, 0.023580269888043404, 0.02605830691754818, 0.018138399347662926, 0.025406338274478912, 0.018734846264123917, 0.015069778077304363, 0.030406512320041656, 0.0199175626039505, 0.015502551570534706, 0.017241599038243294, 0.19022417068481445, 0.038831956684589386, 0.0, 0.0, 0.0, 0.0, 0.0, 0.0, 0.0, 0.0, 0.0, 0.0, 0.0, 0.0, 0.0, 0.0, 0.0, 0.0, 0.0, 0.0, 0.0, 0.0, 0.0, 0.0, 0.0, 0.0, 0.0, 0.0, 0.0, 0.0, 0.0, 0.0, 0.0, 0.0, 0.0, 0.0, 0.0], [0.0104623818770051, 0.020480873063206673, 0.018194662407040596, 0.0006212345906533301, 0.0014426748966798186, 0.010547962039709091, 0.013893826864659786, 0.011723948642611504, 0.02054971642792225, 0.009736119769513607, 0.010066541843116283, 0.018522828817367554, 0.009964995086193085, 0.011445769108831882, 0.009793955832719803, 0.010559038259088993, 0.010719130747020245, 0.016042636707425117, 0.004691661801189184, 0.0053138225339353085, 0.00923311710357666, 0.010085958056151867, 0.01438169926404953, 0.008942442014813423, 0.009995604865252972, 0.012192836031317711, 0.010572624392807484, 0.01325009111315012, 0.013736488297581673, 0.009594597853720188, 0.3803103268146515, 0.24630975723266602, 0.03662077710032463, 0.0, 0.0, 0.0, 0.0, 0.0, 0.0, 0.0, 0.0, 0.0, 0.0, 0.0, 0.0, 0.0, 0.0, 0.0, 0.0, 0.0, 0.0, 0.0, 0.0, 0.0, 0.0, 0.0, 0.0, 0.0, 0.0, 0.0, 0.0, 0.0, 0.0, 0.0, 0.0, 0.0, 0.0], [0.06220867857336998, 0.06271970272064209, 0.01850321516394615, 0.08926913887262344, 0.06820029765367508, 0.038156770169734955, 0.014099402353167534, 0.012876334600150585, 0.01647062599658966, 0.03973310813307762, 0.03891367092728615, 0.025059442967176437, 0.035457633435726166, 0.0075358557514846325, 0.028866920620203018, 0.06986405700445175, 0.042318250983953476, 0.02672269567847252, 0.010646344162523746, 0.010660767555236816, 0.015720240771770477, 0.03603037819266319, 0.029657145962119102, 0.027735663577914238, 0.02311394177377224, 0.019567152485251427, 0.02423749305307865, 0.013788293115794659, 0.012260597199201584, 0.014260990545153618, 0.0023280750028789043, 0.01401115395128727, 0.008867797441780567, 0.04013814032077789, 0.0, 0.0, 0.0, 0.0, 0.0, 0.0, 0.0, 0.0, 0.0, 0.0, 0.0, 0.0, 0.0, 0.0, 0.0, 0.0, 0.0, 0.0, 0.0, 0.0, 0.0, 0.0, 0.0, 0.0, 0.0, 0.0, 0.0, 0.0, 0.0, 0.0, 0.0, 0.0, 0.0], [0.03910170495510101, 0.036028921604156494, 0.03152100741863251, 0.009922907687723637, 0.020317895337939262, 0.059836313128471375, 0.004247977863997221, 0.003953068982809782, 0.02187919057905674, 0.02340712957084179, 0.014585692435503006, 0.03970826044678688, 0.015591822564601898, 0.01113880705088377, 0.023425698280334473, 0.019762225449085236, 0.01396485697478056, 0.027323082089424133, 0.004650574177503586, 0.004812923725694418, 0.015749476850032806, 0.027156563475728035, 0.01709757000207901, 0.02836492471396923, 0.01861116848886013, 0.011939813382923603, 0.021965844556689262, 0.01786087267100811, 0.013807332143187523, 0.015992028638720512, 0.01554595772176981, 0.012013769708573818, 0.009973825886845589, 0.27850818634033203, 0.07023255527019501, 0.0, 0.0, 0.0, 0.0, 0.0, 0.0, 0.0, 0.0, 0.0, 0.0, 0.0, 0.0, 0.0, 0.0, 0.0, 0.0, 0.0, 0.0, 0.0, 0.0, 0.0, 0.0, 0.0, 0.0, 0.0, 0.0, 0.0, 0.0, 0.0, 0.0, 0.0, 0.0], [0.008482140488922596, 0.009294874966144562, 0.011539554223418236, 0.006600666791200638, 0.006784575060009956, 0.0167110376060009, 0.0008776187896728516, 0.0017527092713862658, 0.005188173148781061, 0.00834597460925579, 0.008599000051617622, 0.013361821882426739, 0.006635718047618866, 0.006956206168979406, 0.008530920371413231, 0.007515235338360071, 0.006580594461411238, 0.009543612599372864, 0.0005724892253056169, 0.0008102408610284328, 0.0035400178749114275, 0.01008310355246067, 0.0125225018709898, 0.011781604960560799, 0.006316138431429863, 0.007592449430376291, 0.007063621189445257, 0.00679336441680789, 0.008761892095208168, 0.006917736027389765, 0.008197815157473087, 0.009827939793467522, 0.004062893334776163, 0.40850120782852173, 0.31155407428741455, 0.03180054575204849, 0.0, 0.0, 0.0, 0.0, 0.0, 0.0, 0.0, 0.0, 0.0, 0.0, 0.0, 0.0, 0.0, 0.0, 0.0, 0.0, 0.0, 0.0, 0.0, 0.0, 0.0, 0.0, 0.0, 0.0, 0.0, 0.0, 0.0, 0.0, 0.0, 0.0, 0.0], [0.03584643453359604, 0.0585428923368454, 0.014677062630653381, 0.046371713280677795, 0.044495392590761185, 0.035252828150987625, 0.0056900810450315475, 0.021533101797103882, 0.022147899493575096, 0.02479061670601368, 0.007563942112028599, 0.021118897944688797, 0.045938972383737564, 0.035785168409347534, 0.03474268317222595, 0.040420081466436386, 0.03962016478180885, 0.023243006318807602, 0.04601402208209038, 0.04135600104928017, 0.032807692885398865, 0.03355312719941139, 0.020727574825286865, 0.02383732981979847, 0.0033536481205374002, 0.003860859200358391, 0.009213331155478954, 0.024780426174402237, 0.025216298177838326, 0.01625802367925644, 0.01945151388645172, 0.018153434619307518, 0.011612912639975548, 0.026959717273712158, 0.023899095132946968, 0.013026011176407337, 0.048138026148080826, 0.0, 0.0, 0.0, 0.0, 0.0, 0.0, 0.0, 0.0, 0.0, 0.0, 0.0, 0.0, 0.0, 0.0, 0.0, 0.0, 0.0, 0.0, 0.0, 0.0, 0.0, 0.0, 0.0, 0.0, 0.0, 0.0, 0.0, 0.0, 0.0, 0.0], [0.02773583121597767, 0.04309886693954468, 0.025366509333252907, 0.011215949431061745, 0.011560922488570213, 0.05283213034272194, 0.008693497627973557, 0.007705083116889, 0.029173316434025764, 0.019343301653862, 0.014101918786764145, 0.03482215851545334, 0.018813244998455048, 0.01451604999601841, 0.027183299884200096, 0.01683136075735092, 0.014580695889890194, 0.024598268792033195, 0.0213797464966774, 0.015318495221436024, 0.032562505453825, 0.009463980793952942, 0.018393175676465034, 0.029163604602217674, 0.0034518602769821882, 0.0031248314771801233, 0.010028288699686527, 0.022973064333200455, 0.019281793385744095, 0.01552860252559185, 0.028495097532868385, 0.02078728750348091, 0.012805384583771229, 0.03686952963471413, 0.029913660138845444, 0.017476364970207214, 0.18938226997852325, 0.06142808124423027, 0.0, 0.0, 0.0, 0.0, 0.0, 0.0, 0.0, 0.0, 0.0, 0.0, 0.0, 0.0, 0.0, 0.0, 0.0, 0.0, 0.0, 0.0, 0.0, 0.0, 0.0, 0.0, 0.0, 0.0, 0.0, 0.0, 0.0, 0.0, 0.0], [0.00953651312738657, 0.020298359915614128, 0.0710652768611908, 0.004214499611407518, 0.005350776482373476, 0.053195636719465256, 0.005940420553088188, 0.005491616204380989, 0.03443475067615509, 0.00991496816277504, 0.010461271740496159, 0.03897090628743172, 0.00965078268200159, 0.009220071136951447, 0.022342350333929062, 0.011663852259516716, 0.011370127089321613, 0.03176279366016388, 0.01656411774456501, 0.015394789166748524, 0.03286014124751091, 0.02278107777237892, 0.03345004469156265, 0.031111273914575577, 0.022426530718803406, 0.02388748526573181, 0.02397182025015354, 0.0301596000790596, 0.02714538760483265, 0.03711225464940071, 0.04158143326640129, 0.04470289871096611, 0.029590902850031853, 0.03557246923446655, 0.04437999427318573, 0.03827279433608055, 0.0264271330088377, 0.021991822868585587, 0.03573113679885864, 0.0, 0.0, 0.0, 0.0, 0.0, 0.0, 0.0, 0.0, 0.0, 0.0, 0.0, 0.0, 0.0, 0.0, 0.0, 0.0, 0.0, 0.0, 0.0, 0.0, 0.0, 0.0, 0.0, 0.0, 0.0, 0.0, 0.0, 0.0], [0.041380707174539566, 0.05001452565193176, 0.018947245553135872, 0.048690397292375565, 0.04418301209807396, 0.02384837158024311, 0.029086630791425705, 0.00737464614212513, 0.01930876635015011, 0.06029593572020531, 0.05627810209989548, 0.04246761277318001, 0.005155274644494057, 0.0068084197118878365, 0.01087752915918827, 0.019661419093608856, 0.021088289096951485, 0.01426718570291996, 0.04387522488832474, 0.02911200001835823, 0.02685135044157505, 0.027933286502957344, 0.022883718833327293, 0.018534433096647263, 0.030801409855484962, 0.0242248997092247, 0.027962688356637955, 0.014256246387958527, 0.014465250074863434, 0.010924170725047588, 0.013366533443331718, 0.020615803077816963, 0.01332048699259758, 0.02088898979127407, 0.022219322621822357, 0.014266783371567726, 0.01806650310754776, 0.019199663773179054, 0.005983064416795969, 0.0405140295624733, 0.0, 0.0, 0.0, 0.0, 0.0, 0.0, 0.0, 0.0, 0.0, 0.0, 0.0, 0.0, 0.0, 0.0, 0.0, 0.0, 0.0, 0.0, 0.0, 0.0, 0.0, 0.0, 0.0, 0.0, 0.0, 0.0, 0.0], [0.0288225170224905, 0.031669363379478455, 0.031117452308535576, 0.015736058354377747, 0.014106960035860538, 0.0357406921684742, 0.013078849762678146, 0.010044228285551071, 0.02776971086859703, 0.03658796474337578, 0.021102124825119972, 0.05555463582277298, 0.0039427089504897594, 0.003853494068607688, 0.0121311591938138, 0.008910927921533585, 0.008007067255675793, 0.014710140414536, 0.006148610729724169, 0.014494591392576694, 0.026987923309206963, 0.025178931653499603, 0.01701573096215725, 0.021287841722369194, 0.020510300993919373, 0.012970412150025368, 0.023109663277864456, 0.024241160601377487, 0.016752373427152634, 0.01310686208307743, 0.019530579447746277, 0.01738378219306469, 0.014790905639529228, 0.027899913489818573, 0.022824183106422424, 0.01717229187488556, 0.019137464463710785, 0.016128193587064743, 0.008981692604720592, 0.19576966762542725, 0.04569085314869881, 0.0, 0.0, 0.0, 0.0, 0.0, 0.0, 0.0, 0.0, 0.0, 0.0, 0.0, 0.0, 0.0, 0.0, 0.0, 0.0, 0.0, 0.0, 0.0, 0.0, 0.0, 0.0, 0.0, 0.0, 0.0, 0.0], [0.010277439840137959, 0.008005941286683083, 0.008963392116129398, 0.005332525819540024, 0.005520403850823641, 0.009097510948777199, 0.005218527279794216, 0.005279029719531536, 0.007080886512994766, 0.0086211571469903, 0.00860079936683178, 0.017976416274905205, 0.0002963740553241223, 0.0004774750559590757, 0.0016787427011877298, 0.00633643614128232, 0.005332693457603455, 0.0052304877899587154, 0.0077515956945717335, 0.006376068573445082, 0.008586244657635689, 0.010563899762928486, 0.011568576097488403, 0.006897125858813524, 0.006860197056084871, 0.006408053450286388, 0.008338375017046928, 0.008837047964334488, 0.007286757696419954, 0.004868063144385815, 0.00863468274474144, 0.008635088801383972, 0.005153328645974398, 0.01140403002500534, 0.01165519654750824, 0.0063760108314454556, 0.00869257003068924, 0.007106491830199957, 0.004003758076578379, 0.3820549547672272, 0.2921277582645416, 0.040487922728061676, 0.0, 0.0, 0.0, 0.0, 0.0, 0.0, 0.0, 0.0, 0.0, 0.0, 0.0, 0.0, 0.0, 0.0, 0.0, 0.0, 0.0, 0.0, 0.0, 0.0, 0.0, 0.0, 0.0, 0.0, 0.0], [0.0306842140853405, 0.012428690679371357, 0.019312044605612755, 0.031023917719721794, 0.029664749279618263, 0.025180712342262268, 0.02781297080218792, 0.030256852507591248, 0.023734798654913902, 0.03347615525126457, 0.027583682909607887, 0.023078681901097298, 0.039755165576934814, 0.03284161537885666, 0.03143485262989998, 0.017599765211343765, 0.01617075875401497, 0.01941472850739956, 0.03414183109998703, 0.03469062224030495, 0.02401835285127163, 0.023050855845212936, 0.01864960975944996, 0.01784682832658291, 0.0050825439393520355, 0.02027280069887638, 0.023222850635647774, 0.030393097549676895, 0.025722386315464973, 0.020193304866552353, 0.024160277098417282, 0.022784249857068062, 0.019105302169919014, 0.01959250494837761, 0.020799176767468452, 0.01765577495098114, 0.027332432568073273, 0.02412142977118492, 0.02141084149479866, 0.020353756844997406, 0.016973605379462242, 0.012860791757702827, 0.004110390320420265, 0.0, 0.0, 0.0, 0.0, 0.0, 0.0, 0.0, 0.0, 0.0, 0.0, 0.0, 0.0, 0.0, 0.0, 0.0, 0.0, 0.0, 0.0, 0.0, 0.0, 0.0, 0.0, 0.0, 0.0], [0.03613218292593956, 0.027007797732949257, 0.017352154478430748, 0.023607773706316948, 0.02271566540002823, 0.023152370005846024, 0.028047503903508186, 0.020901331678032875, 0.022517988458275795, 0.03928733989596367, 0.026171226054430008, 0.026817703619599342, 0.005862882360816002, 0.015789518132805824, 0.02185259945690632, 0.025067059323191643, 0.018964821472764015, 0.021213538944721222, 0.03508713096380234, 0.023141968995332718, 0.02564423345029354, 0.018010050058364868, 0.013479942455887794, 0.017191162332892418, 0.020303595811128616, 0.017247574403882027, 0.022178860381245613, 0.010676668956875801, 0.026821646839380264, 0.01809481531381607, 0.03029085323214531, 0.021245460957288742, 0.02248762734234333, 0.02171655185520649, 0.017071057111024857, 0.017915109172463417, 0.039354585111141205, 0.02958615869283676, 0.02637418545782566, 0.03626870736479759, 0.027631059288978577, 0.021759754046797752, 0.013805768452584743, 0.00415405910462141, 0.0, 0.0, 0.0, 0.0, 0.0, 0.0, 0.0, 0.0, 0.0, 0.0, 0.0, 0.0, 0.0, 0.0, 0.0, 0.0, 0.0, 0.0, 0.0, 0.0, 0.0, 0.0, 0.0], [0.007041049189865589, 0.008432348258793354, 0.0017857244238257408, 0.0021913577802479267, 0.003527106251567602, 0.005449116230010986, 0.002899578772485256, 0.003709786804392934, 0.0033576618880033493, 0.0030975048430263996, 0.003907632082700729, 0.004091770388185978, 0.004345797933638096, 0.004587749484926462, 0.004410338122397661, 0.00649342592805624, 0.006096953060477972, 0.00376850925385952, 0.004321937914937735, 0.004603358451277018, 0.004774537403136492, 0.006123524624854326, 0.006140770856291056, 0.00432914262637496, 0.00010413123527541757, 0.00017213636601809412, 0.0006448176573030651, 0.009181875735521317, 0.011444288305938244, 0.002880904357880354, 0.014440932311117649, 0.009059829637408257, 0.002284625545144081, 0.010165511630475521, 0.007920871488749981, 0.0026678438298404217, 0.4318901598453522, 0.33383673429489136, 0.002187796402722597, 0.005583748687058687, 0.004207840654999018, 0.002539621898904443, 0.004319376777857542, 0.004484760109335184, 0.030495591461658478, 0.0, 0.0, 0.0, 0.0, 0.0, 0.0, 0.0, 0.0, 0.0, 0.0, 0.0, 0.0, 0.0, 0.0, 0.0, 0.0, 0.0, 0.0, 0.0, 0.0, 0.0, 0.0], [0.012489695101976395, 0.027087487280368805, 0.02517363429069519, 0.014409882016479969, 0.018626052886247635, 0.02660255879163742, 0.01437443308532238, 0.014975828118622303, 0.023640038445591927, 0.01095925085246563, 0.024021992459893227, 0.021844903007149696, 0.018744496628642082, 0.022577950730919838, 0.022537337616086006, 0.009248481132090092, 0.01566290855407715, 0.019896715879440308, 0.010958538390696049, 0.018148165196180344, 0.02159830369055271, 0.01162328477948904, 0.016296513378620148, 0.018891043961048126, 0.010869326069951057, 0.014487135224044323, 0.017140738666057587, 0.014158172532916069, 0.006585114635527134, 0.01960638351738453, 0.012343202717602253, 0.01890471763908863, 0.01750354655086994, 0.012476176954805851, 0.021702252328395844, 0.017541587352752686, 0.02063635177910328, 0.026374349370598793, 0.008032474666833878, 0.010197591036558151, 0.016967542469501495, 0.015135771594941616, 0.0900542140007019, 0.15827873349189758, 0.022743837907910347, 0.007871395908296108, 0.0, 0.0, 0.0, 0.0, 0.0, 0.0, 0.0, 0.0, 0.0, 0.0, 0.0, 0.0, 0.0, 0.0, 0.0, 0.0, 0.0, 0.0, 0.0, 0.0, 0.0], [0.06354091316461563, 0.014801518060266972, 0.008941425010561943, 0.051966387778520584, 0.012614034116268158, 0.0071208723820745945, 0.04837989807128906, 0.010644428431987762, 0.0063131581991910934, 0.04913949593901634, 0.00787382572889328, 0.005470045376569033, 0.053393490612506866, 0.009872104972600937, 0.005757389590144157, 0.04883719980716705, 0.010848393663764, 0.004914993420243263, 0.04685137793421745, 0.00871424563229084, 0.0046962252818048, 0.04623384401202202, 0.010203840211033821, 0.0042854431085288525, 0.042707111686468124, 0.00864421483129263, 0.0046607679687440395, 0.051747165620326996, 0.00815640203654766, 0.0035888170823454857, 0.04147138446569443, 0.007169334217905998, 0.004125051200389862, 0.04573885351419449, 0.00924526248127222, 0.004044889472424984, 0.04269661754369736, 0.00919999461621046, 0.0023905406706035137, 0.039648380130529404, 0.007668810896575451, 0.0037431407254189253, 0.03811793029308319, 0.010344840586185455, 0.005491545889526606, 0.048139944672584534, 0.01984446495771408, 0.0, 0.0, 0.0, 0.0, 0.0, 0.0, 0.0, 0.0, 0.0, 0.0, 0.0, 0.0, 0.0, 0.0, 0.0, 0.0, 0.0, 0.0, 0.0, 0.0], [0.005270184017717838, 0.02134493924677372, 0.01748061552643776, 0.018994292244315147, 0.012305349111557007, 0.013070098124444485, 0.01578657701611519, 0.012030144222080708, 0.012373458594083786, 0.0038487263955175877, 0.01333523727953434, 0.009924342855811119, 0.0177028626203537, 0.013314071111381054, 0.009166885167360306, 0.01298721693456173, 0.013351351022720337, 0.0092992028221488, 0.013822312466800213, 0.012465034611523151, 0.010259321890771389, 0.015252327546477318, 0.01245078444480896, 0.008720713667571545, 0.02040771022439003, 0.01390037126839161, 0.008722182363271713, 0.014076191000640392, 0.012104115448892117, 0.009185630828142166, 0.010319375433027744, 0.013277891092002392, 0.007958083413541317, 0.011159687303006649, 0.014702962711453438, 0.007228864822536707, 0.012620487250387669, 0.012528910301625729, 0.0026827603578567505, 0.01258685253560543, 0.012822446413338184, 0.008299628272652626, 0.21994920074939728, 0.17690400779247284, 0.01020729262381792, 0.037502508610486984, 0.045301295816898346, 0.0009954872075468302, 0.0, 0.0, 0.0, 0.0, 0.0, 0.0, 0.0, 0.0, 0.0, 0.0, 0.0, 0.0, 0.0, 0.0, 0.0, 0.0, 0.0, 0.0, 0.0], [0.01907590590417385, 0.009195906110107899, 0.026801032945513725, 0.015030103735625744, 0.012839097529649734, 0.021196452900767326, 0.022357817739248276, 0.016012685373425484, 0.01973464898765087, 0.012603879906237125, 0.01383061334490776, 0.01580272614955902, 0.012843580916523933, 0.012828070670366287, 0.011191656813025475, 0.016883235424757004, 0.0139310909435153, 0.01326823327690363, 0.015152310952544212, 0.011875349096953869, 0.012663571164011955, 0.018124662339687347, 0.01965140737593174, 0.012251025065779686, 0.0033787633292376995, 0.01141417771577835, 0.010163609869778156, 0.018990181386470795, 0.01518350187689066, 0.01160905510187149, 0.024086855351924896, 0.028265181928873062, 0.010392964817583561, 0.01890084147453308, 0.02099556289613247, 0.010080138221383095, 0.027897203341126442, 0.02181006595492363, 0.0026282761245965958, 0.026450086385011673, 0.03013637475669384, 0.01367995422333479, 0.04688144102692604, 0.14979152381420135, 0.01541659515351057, 0.038824472576379776, 0.05954248085618019, 0.006525699514895678, 0.0018100306624546647, 0.0, 0.0, 0.0, 0.0, 0.0, 0.0, 0.0, 0.0, 0.0, 0.0, 0.0, 0.0, 0.0, 0.0, 0.0, 0.0, 0.0, 0.0], [0.014815679751336575, 0.021814145147800446, 0.02247135154902935, 0.015128659084439278, 0.012772861868143082, 0.01843879558146, 0.01727927103638649, 0.010016873478889465, 0.014649958349764347, 0.01343977265059948, 0.014113030396401882, 0.011738529428839684, 0.0052710422314703465, 0.01745327189564705, 0.01249448861926794, 0.020494475960731506, 0.015857065096497536, 0.013169734738767147, 0.021905696019530296, 0.015917539596557617, 0.01489567942917347, 0.012907709926366806, 0.013567095622420311, 0.01129412092268467, 0.016162127256393433, 0.014313454739749432, 0.009570952504873276, 0.004488484468311071, 0.013872825540602207, 0.012028833851218224, 0.01764911413192749, 0.018973814323544502, 0.010158698074519634, 0.015086068771779537, 0.014750715345144272, 0.009444020688533783, 0.025380413979291916, 0.01933320239186287, 0.0033997581340372562, 0.012400290928781033, 0.01621500961482525, 0.011281940154731274, 0.22888930141925812, 0.049665018916130066, 0.016531825065612793, 0.03979149088263512, 0.04446689784526825, 0.005526155699044466, 0.006721931044012308, 0.001990905497223139, 0.0, 0.0, 0.0, 0.0, 0.0, 0.0, 0.0, 0.0, 0.0, 0.0, 0.0, 0.0, 0.0, 0.0, 0.0, 0.0, 0.0], [0.015045731328427792, 0.019585570320487022, 0.027177518233656883, 0.015030070208013058, 0.011842134408652782, 0.020814962685108185, 0.01972058415412903, 0.0091010183095932, 0.018526064231991768, 0.01171755138784647, 0.012549142353236675, 0.014548536390066147, 0.018278416246175766, 0.014453085139393806, 0.01441275142133236, 0.010335936211049557, 0.008780133910477161, 0.010936342179775238, 0.013388690538704395, 0.011032328940927982, 0.013713240623474121, 0.024110643193125725, 0.015274779871106148, 0.01349139865487814, 0.015622343868017197, 0.01173457782715559, 0.008848276920616627, 0.016809972003102303, 0.0038807650562375784, 0.012511786073446274, 0.015081023797392845, 0.013669786974787712, 0.00983839575201273, 0.015140862204134464, 0.014295239001512527, 0.009806603193283081, 0.0221103448420763, 0.016531677916646004, 0.002825578674674034, 0.012848683632910252, 0.012605207040905952, 0.009435351006686687, 0.1939459890127182, 0.12910683453083038, 0.017165882512927055, 0.009927031584084034, 0.04500497505068779, 0.00462648831307888, 0.00569124985486269, 0.005551576614379883, 0.0015169227262958884, 0.0, 0.0, 0.0, 0.0, 0.0, 0.0, 0.0, 0.0, 0.0, 0.0, 0.0, 0.0, 0.0, 0.0, 0.0, 0.0], [0.009135831147432327, 0.013611927628517151, 0.011628408916294575, 0.008921296335756779, 0.008183850906789303, 0.007194404490292072, 0.015445152297616005, 0.007683086208999157, 0.0071064261719584465, 0.007230763789266348, 0.00769862812012434, 0.005043108481913805, 0.012812094762921333, 0.011171086691319942, 0.005288649350404739, 0.015159128233790398, 0.010568798519670963, 0.005677067209035158, 0.0071753254160285, 0.006262241862714291, 0.0051579042337834835, 0.011191528290510178, 0.00895222369581461, 0.0056426082737743855, 0.013233468867838383, 0.009484298527240753, 0.00449176924303174, 0.006237137597054243, 0.005018359981477261, 0.005045311991125345, 0.010125392116606236, 0.010038241744041443, 0.004481656011193991, 0.009341210126876831, 0.007084892597049475, 0.0043639554642140865, 0.009958941489458084, 0.007639025803655386, 0.0009019756107591093, 0.00638267258182168, 0.0071075293235480785, 0.004511164501309395, 0.37230122089385986, 0.18702498078346252, 0.006479803938418627, 0.03284597396850586, 0.050778284668922424, 0.001604805700480938, 0.002807386452332139, 0.0022777358535677195, 0.002978878328576684, 0.001512398011982441, 0.0, 0.0, 0.0, 0.0, 0.0, 0.0, 0.0, 0.0, 0.0, 0.0, 0.0, 0.0, 0.0, 0.0, 0.0], [0.005811359267681837, 0.012880448251962662, 0.011952877976000309, 0.010824378579854965, 0.009401164017617702, 0.008607175201177597, 0.010543386451900005, 0.006310132332146168, 0.007022148463875055, 0.004893281497061253, 0.008013889193534851, 0.005153019446879625, 0.010915548540651798, 0.010244912467896938, 0.006249650381505489, 0.015284238383173943, 0.013221175409853458, 0.007084640674293041, 0.007220442872494459, 0.008432062342762947, 0.006813938729465008, 0.009361471980810165, 0.009480244480073452, 0.007818556390702724, 0.009012771770358086, 0.008726553991436958, 0.004987752065062523, 0.0049562035128474236, 0.004902046639472246, 0.007094110827893019, 0.003932559862732887, 0.0067342715337872505, 0.004429863300174475, 0.006405189633369446, 0.007945607416331768, 0.005502884741872549, 0.009585564024746418, 0.00876226369291544, 0.0011227767681702971, 0.004021892324090004, 0.007909046486020088, 0.0054923780262470245, 0.34931761026382446, 0.23763985931873322, 0.008599949069321156, 0.02363886684179306, 0.04728388786315918, 0.0010271171340718865, 0.0019118894124403596, 0.0017212667735293508, 0.002028915798291564, 0.0008752996218390763, 0.0008914732025004923, 0.0, 0.0, 0.0, 0.0, 0.0, 0.0, 0.0, 0.0, 0.0, 0.0, 0.0, 0.0, 0.0, 0.0], [0.007600319106131792, 0.01192645076662302, 0.01351312454789877, 0.009852909483015537, 0.0077453358098864555, 0.009184847585856915, 0.010805484838783741, 0.006703950464725494, 0.007890553213655949, 0.003980879206210375, 0.005400783382356167, 0.005246215965598822, 0.01121806912124157, 0.008222180418670177, 0.005735916551202536, 0.007909375242888927, 0.008507181890308857, 0.005567495245486498, 0.00863957405090332, 0.008646765723824501, 0.006536601576954126, 0.007614676840603352, 0.007162547204643488, 0.00576699199154973, 0.010759365744888783, 0.008199569769203663, 0.004787469748407602, 0.009964879602193832, 0.007460700813680887, 0.007752411998808384, 0.004551879595965147, 0.007974729873239994, 0.004269017372280359, 0.004390437621623278, 0.005831792484968901, 0.004391930066049099, 0.006464856676757336, 0.00634678965434432, 0.0010204169666394591, 0.005182594060897827, 0.008775663562119007, 0.004998565651476383, 0.3333893418312073, 0.2693125307559967, 0.007562580984085798, 0.02661265805363655, 0.04737790673971176, 0.001203585765324533, 0.0019924223888665438, 0.002235771855339408, 0.0024335903581231833, 0.0010178928496316075, 0.0009526174399070442, 0.0014078759122639894, 0.0, 0.0, 0.0, 0.0, 0.0, 0.0, 0.0, 0.0, 0.0, 0.0, 0.0, 0.0, 0.0], [0.011610809713602066, 0.015572157688438892, 0.013864129781723022, 0.01001677755266428, 0.008841278031468391, 0.011703712865710258, 0.01575116626918316, 0.008154740557074547, 0.010217857547104359, 0.0043448349460959435, 0.005983490962535143, 0.007434243801981211, 0.0049188630655407906, 0.006552101578563452, 0.005248213652521372, 0.012639346532523632, 0.008377895690500736, 0.006033921614289284, 0.008028159849345684, 0.006954374723136425, 0.007758539170026779, 0.01610809750854969, 0.015315741300582886, 0.008671523071825504, 0.00851760245859623, 0.0068889488466084, 0.004769888240844011, 0.006437845062464476, 0.005935767199844122, 0.0075822449289262295, 0.00814148597419262, 0.006862930953502655, 0.00415335176512599, 0.009662477299571037, 0.006696941331028938, 0.0047236173413693905, 0.012902391143143177, 0.008313307538628578, 0.0009364052675664425, 0.016141803935170174, 0.020201746374368668, 0.007194313686341047, 0.3157087564468384, 0.2094273716211319, 0.009598268195986748, 0.031193943694233894, 0.038066230714321136, 0.001649844809435308, 0.003137544495984912, 0.002656163414940238, 0.0036339862272143364, 0.0014816803159192204, 0.0016537830233573914, 0.0022236029617488384, 0.0034037106670439243, 0.0, 0.0, 0.0, 0.0, 0.0, 0.0, 0.0, 0.0, 0.0, 0.0, 0.0, 0.0], [0.01406991295516491, 0.013545393943786621, 0.011219150386750698, 0.012544620782136917, 0.012616544030606747, 0.008753632195293903, 0.025892868638038635, 0.010523514822125435, 0.009700760245323181, 0.0050649805925786495, 0.007590655703097582, 0.006580906454473734, 0.007207975257188082, 0.006933236960321665, 0.005733751226216555, 0.012559101916849613, 0.011997315101325512, 0.006045015063136816, 0.005942768417298794, 0.006875371094793081, 0.005900101736187935, 0.011581489816308022, 0.010381235741078854, 0.007150535471737385, 0.00828205794095993, 0.007355509325861931, 0.0048609948717057705, 0.008371333591639996, 0.00713623920455575, 0.007742018438875675, 0.0055100941099226475, 0.0107714319601655, 0.00483093224465847, 0.005570533219724894, 0.006529740057885647, 0.004787916783243418, 0.011230803094804287, 0.009251135401427746, 0.0009123535710386932, 0.006387259345501661, 0.014486116357147694, 0.005571393761783838, 0.3177131712436676, 0.20429161190986633, 0.008316092193126678, 0.027616601437330246, 0.05437331274151802, 0.001660289359278977, 0.0026691588573157787, 0.0022125267423689365, 0.0027199869509786367, 0.001493383664637804, 0.0013695317320525646, 0.0018763605039566755, 0.003636237233877182, 0.004053120501339436, 0.0, 0.0, 0.0, 0.0, 0.0, 0.0, 0.0, 0.0, 0.0, 0.0, 0.0], [0.009328975342214108, 0.010007692500948906, 0.013319823890924454, 0.012013126164674759, 0.013499247841536999, 0.008992720395326614, 0.014084291644394398, 0.009577068500220776, 0.008732722140848637, 0.0059181097894907, 0.009441809728741646, 0.006722556427121162, 0.00973827950656414, 0.009620442986488342, 0.006271557882428169, 0.007144272793084383, 0.00800787378102541, 0.005918470676988363, 0.005308782681822777, 0.006663015577942133, 0.006041285581886768, 0.004499622620642185, 0.006340431049466133, 0.006212268490344286, 0.011059816926717758, 0.011714455671608448, 0.006249058526009321, 0.009170643985271454, 0.009339537471532822, 0.007892985828220844, 0.0037051488179713488, 0.008689588867127895, 0.004974608775228262, 0.005099426489323378, 0.007422986440360546, 0.005584788508713245, 0.005460307002067566, 0.005003542173653841, 0.0011337072355672717, 0.004883017856627703, 0.0092318095266819, 0.005526771303266287, 0.290540486574173, 0.26191070675849915, 0.006658341735601425, 0.026267338544130325, 0.07119058072566986, 0.001137149054557085, 0.0016073065344244242, 0.0017955312505364418, 0.00230419565923512, 0.0009108174126595259, 0.0007878383039496839, 0.001144271926023066, 0.0021133702248334885, 0.002629948314279318, 0.0034555138554424047, 0.0, 0.0, 0.0, 0.0, 0.0, 0.0, 0.0, 0.0, 0.0, 0.0], [0.008172178640961647, 0.012312600389122963, 0.018203869462013245, 0.008536351844668388, 0.00969143956899643, 0.012289769947528839, 0.01029471680521965, 0.007961221970617771, 0.012049482204020023, 0.005024266894906759, 0.0073084537871181965, 0.009685450233519077, 0.006186178419739008, 0.006565861403942108, 0.0070517719723284245, 0.005574888549745083, 0.0074034444987773895, 0.006986609660089016, 0.00442989356815815, 0.0061291297897696495, 0.007698806934058666, 0.007501247804611921, 0.011267626658082008, 0.00900149717926979, 0.01301870308816433, 0.012426449917256832, 0.007696116343140602, 0.006919593550264835, 0.008477584458887577, 0.009665627032518387, 0.003902491182088852, 0.010072876699268818, 0.0061599439941346645, 0.0051658060401678085, 0.009256148710846901, 0.007026069797575474, 0.0038281946908682585, 0.004842312540858984, 0.0014910950558260083, 0.007101439405232668, 0.014753259718418121, 0.008264042437076569, 0.2858917713165283, 0.2556692659854889, 0.008341146633028984, 0.024335017427802086, 0.054765962064266205, 0.0011330597335472703, 0.002006437862291932, 0.0019332895753905177, 0.0026848851703107357, 0.0009320219396613538, 0.0008935208315961063, 0.0012156217126175761, 0.002142786979675293, 0.0029052975587546825, 0.003465878078714013, 0.004289599601179361, 0.0, 0.0, 0.0, 0.0, 0.0, 0.0, 0.0, 0.0, 0.0], [0.011324085295200348, 0.009429007768630981, 0.018161257728934288, 0.015959832817316055, 0.013262723572552204, 0.010089700110256672, 0.017809905111789703, 0.013648594729602337, 0.011017927899956703, 0.00720657454803586, 0.00672617182135582, 0.007393395062536001, 0.00912310741841793, 0.009422908537089825, 0.006215855944901705, 0.007094170432537794, 0.007854015566408634, 0.005934494081884623, 0.008405840955674648, 0.010171686299145222, 0.007058496121317148, 0.00924149714410305, 0.011070863343775272, 0.007561837788671255, 0.020165342837572098, 0.01492382399737835, 0.007653539534658194, 0.009431983344256878, 0.00788082741200924, 0.008643064647912979, 0.005895556882023811, 0.007517675403505564, 0.005530485883355141, 0.006792624015361071, 0.006482265889644623, 0.005371910519897938, 0.00320994108915329, 0.002803204348310828, 0.0012322947150096297, 0.011703833006322384, 0.012824926525354385, 0.006829437334090471, 0.2492896020412445, 0.22014982998371124, 0.005771406926214695, 0.03351489454507828, 0.06649866700172424, 0.0014775315066799521, 0.0018780558602884412, 0.0022010495886206627, 0.0033943108282983303, 0.0014349654084071517, 0.0012837089598178864, 0.0017426867270842195, 0.002900800434872508, 0.004274757578969002, 0.004852575249969959, 0.006435023155063391, 0.006823442876338959, 0.0, 0.0, 0.0, 0.0, 0.0, 0.0, 0.0, 0.0], [0.009194677695631981, 0.011573569849133492, 0.01670682616531849, 0.012675148434937, 0.008785497397184372, 0.008610202930867672, 0.017892681062221527, 0.01682756096124649, 0.00930170901119709, 0.008594494313001633, 0.00719798170030117, 0.006044741254299879, 0.01950892247259617, 0.021243702620267868, 0.007970853708684444, 0.008382085710763931, 0.008644936606287956, 0.006246174685657024, 0.007180002052336931, 0.006902553606778383, 0.0061738197691738605, 0.0067555708810687065, 0.0068073514848947525, 0.006097534205764532, 0.024199465289711952, 0.013225246220827103, 0.005539691541343927, 0.01497726235538721, 0.015234436839818954, 0.00950520858168602, 0.010295373387634754, 0.009870999492704868, 0.006495974492281675, 0.00958886370062828, 0.00757944118231535, 0.005989546421915293, 0.006483946926891804, 0.005874262657016516, 0.001952952821739018, 0.006082397885620594, 0.004063004162162542, 0.005074725020676851, 0.30347323417663574, 0.1312907338142395, 0.008768945001065731, 0.03498975932598114, 0.05809223651885986, 0.002270439639687538, 0.003801977261900902, 0.002276784973219037, 0.0038068443536758423, 0.0018845704616978765, 0.001806606538593769, 0.0026379188057035208, 0.0035893009044229984, 0.005401885602623224, 0.007042397279292345, 0.008233911357820034, 0.008431128226220608, 0.004850004334002733, 0.0, 0.0, 0.0, 0.0, 0.0, 0.0, 0.0], [0.020872952416539192, 0.02054918184876442, 0.01715133525431156, 0.007612415589392185, 0.01042981632053852, 0.021288355812430382, 0.01076982356607914, 0.008281171321868896, 0.017885833978652954, 0.01310945674777031, 0.007727569900453091, 0.019225874915719032, 0.013687590137124062, 0.00973802711814642, 0.014119824394583702, 0.018023211508989334, 0.011586758308112621, 0.015254370868206024, 0.008631943725049496, 0.007413090672343969, 0.012692696414887905, 0.030762866139411926, 0.016785096377134323, 0.017974816262722015, 0.012919521890580654, 0.008152970112860203, 0.011315906420350075, 0.01723090186715126, 0.010795478709042072, 0.012398196384310722, 0.024076173081994057, 0.01465864572674036, 0.011231843382120132, 0.042955026030540466, 0.014966893941164017, 0.015565820969641209, 0.022442027926445007, 0.019891519099473953, 0.009729347191751003, 0.025316480547189713, 0.01670513115823269, 0.015153518877923489, 0.022917844355106354, 0.01641671173274517, 0.019687732681632042, 0.019222481176257133, 0.012449286878108978, 0.0175736416131258, 0.0230218768119812, 0.019612852483987808, 0.01723588816821575, 0.016624104231595993, 0.020523177459836006, 0.017326172441244125, 0.016943110153079033, 0.020280851051211357, 0.01760745234787464, 0.016369281336665154, 0.017968615517020226, 0.01767425797879696, 0.01346521358937025, 0.0, 0.0, 0.0, 0.0, 0.0, 0.0], [0.009982430376112461, 0.027246885001659393, 0.01660255715250969, 0.0036482024006545544, 0.00642437394708395, 0.021597053855657578, 0.0065840077586472034, 0.008140536956489086, 0.016463033854961395, 0.012831944972276688, 0.01972287707030773, 0.020888522267341614, 0.016986632719635963, 0.01934119686484337, 0.021461622789502144, 0.01608695462346077, 0.012347892858088017, 0.02181214466691017, 0.003973506391048431, 0.006193304434418678, 0.01378428004682064, 0.014932098798453808, 0.01236230880022049, 0.02032143995165825, 0.008702561259269714, 0.010104471817612648, 0.013924624770879745, 0.006011659279465675, 0.007440525107085705, 0.011515012010931969, 0.02742139622569084, 0.032738979905843735, 0.016090692952275276, 0.04598043113946915, 0.03752189874649048, 0.023704973980784416, 0.04356609284877777, 0.034861400723457336, 0.01598690263926983, 0.014278876595199108, 0.007561713922768831, 0.014472128823399544, 0.02452496625483036, 0.020331690087914467, 0.02490517497062683, 0.013629390858113766, 0.011754474602639675, 0.01138346642255783, 0.01675540953874588, 0.012971938587725163, 0.009540208615362644, 0.009389221668243408, 0.012290969491004944, 0.01230716984719038, 0.011620321311056614, 0.01235064584761858, 0.012415661476552486, 0.013092666864395142, 0.013614383526146412, 0.008317477069795132, 0.01527979876846075, 0.011904742568731308, 0.0, 0.0, 0.0, 0.0, 0.0], [0.014880710281431675, 0.023715637624263763, 0.014729131944477558, 0.015596093609929085, 0.012349160388112068, 0.020732348784804344, 0.006086262408643961, 0.010547867976129055, 0.014004001393914223, 0.008436162024736404, 0.007560003083199263, 0.013860737904906273, 0.01356843113899231, 0.015489109791815281, 0.01632625050842762, 0.029867881909012794, 0.030898336321115494, 0.020725257694721222, 0.01018122211098671, 0.009973462671041489, 0.01326880045235157, 0.015586270950734615, 0.015080003067851067, 0.01866866834461689, 0.012069335207343102, 0.00982840359210968, 0.01363837718963623, 0.008376846089959145, 0.011228051036596298, 0.014981742016971111, 0.01423447486013174, 0.011824588291347027, 0.011185068637132645, 0.043746765702962875, 0.03291190043091774, 0.01948351040482521, 0.018263081088662148, 0.020455410704016685, 0.012064184993505478, 0.015432406216859818, 0.015711534768342972, 0.014583941549062729, 0.028031745925545692, 0.021066930145025253, 0.0207587331533432, 0.020117279142141342, 0.014677098952233791, 0.010659759864211082, 0.016760235652327538, 0.01187802106142044, 0.01372204814106226, 0.010813402943313122, 0.013098270632326603, 0.011249393224716187, 0.013250334188342094, 0.014870484359562397, 0.013195623643696308, 0.013243257068097591, 0.012750466354191303, 0.01117795892059803, 0.020994480699300766, 0.019348647445440292, 0.016184506937861443, 0.0, 0.0, 0.0, 0.0], [0.014967376366257668, 0.023379305377602577, 0.02053353190422058, 0.011772370897233486, 0.01267738826572895, 0.022868992760777473, 0.006684308405965567, 0.008163990452885628, 0.014480659738183022, 0.021420752629637718, 0.01528653223067522, 0.01871112547814846, 0.01600196212530136, 0.01638062670826912, 0.018260018900036812, 0.019840653985738754, 0.01610720343887806, 0.02211667411029339, 0.00846922304481268, 0.006794178392738104, 0.013764869421720505, 0.007853754796087742, 0.008192979730665684, 0.017665354534983635, 0.030199287459254265, 0.016556456685066223, 0.01994864083826542, 0.008952269330620766, 0.009516595862805843, 0.01307694986462593, 0.012729126028716564, 0.011203104630112648, 0.013081526383757591, 0.051681481301784515, 0.03023451939225197, 0.024658553302288055, 0.015769105404615402, 0.009384144097566605, 0.01440709363669157, 0.01908762939274311, 0.009984256699681282, 0.016727235168218613, 0.03890593722462654, 0.018884779885411263, 0.015894431620836258, 0.01848830096423626, 0.018745312467217445, 0.0129550164565444, 0.017192119732499123, 0.009711838327348232, 0.009618568234145641, 0.008846773765981197, 0.009753990918397903, 0.009168479591608047, 0.009429394267499447, 0.011054948903620243, 0.009929933585226536, 0.010585453361272812, 0.009858706966042519, 0.007869232445955276, 0.0177443977445364, 0.015221614390611649, 0.01785709708929062, 0.012691915966570377, 0.0, 0.0, 0.0], [0.02233157306909561, 0.018432673066854477, 0.008905651979148388, 0.0135567095130682, 0.014300302602350712, 0.012504967860877514, 0.012193093076348305, 0.01276955846697092, 0.009776067920029163, 0.026522796601057053, 0.016285227611660957, 0.015593362972140312, 0.011495842598378658, 0.009752417914569378, 0.010636363178491592, 0.013125606812536716, 0.0100895119830966, 0.008873829618096352, 0.008699881844222546, 0.008372395299375057, 0.009601103141903877, 0.022155070677399635, 0.010936779901385307, 0.011563454754650593, 0.011099753901362419, 0.0067741828970611095, 0.00839656125754118, 0.015149731189012527, 0.011552269570529461, 0.007325430400669575, 0.015613342635333538, 0.010716661810874939, 0.007508631329983473, 0.04176826402544975, 0.01813603565096855, 0.011311991140246391, 0.0327591672539711, 0.024348339065909386, 0.008576181717216969, 0.035224225372076035, 0.014047050848603249, 0.009669828228652477, 0.01705390214920044, 0.009218785911798477, 0.013326948508620262, 0.01828731596469879, 0.012237624265253544, 0.021175744011998177, 0.026099521666765213, 0.019351165741682053, 0.017859775573015213, 0.021138262003660202, 0.024340905249118805, 0.019521869719028473, 0.021600374951958656, 0.021431703120470047, 0.018391955643892288, 0.019062981009483337, 0.017713360488414764, 0.014014029875397682, 0.012923180125653744, 0.012074043042957783, 0.01218084804713726, 0.011832530610263348, 0.010711251758038998, 0.0, 0.0], [0.013832192867994308, 0.0178887527436018, 0.01567157544195652, 0.011715237982571125, 0.011736479587852955, 0.017404604703187943, 0.00786882359534502, 0.009205281734466553, 0.012532146647572517, 0.018914291635155678, 0.014481297694146633, 0.015285229310393333, 0.024019861593842506, 0.026141401380300522, 0.016343139111995697, 0.012808461673557758, 0.01655070297420025, 0.015840619802474976, 0.01097803097218275, 0.012338918633759022, 0.01290549524128437, 0.007896658964455128, 0.008230105973780155, 0.012644642032682896, 0.017314013093709946, 0.012120996601879597, 0.013634596951305866, 0.018839886412024498, 0.02069062925875187, 0.012864595279097557, 0.019080983474850655, 0.01549986470490694, 0.012411342933773994, 0.0435371994972229, 0.019330322742462158, 0.017767174169421196, 0.017876164987683296, 0.017324144020676613, 0.014131846837699413, 0.009349342435598373, 0.008540348149836063, 0.012603010050952435, 0.02520585060119629, 0.018296802416443825, 0.016574885696172714, 0.020810863003134727, 0.020353056490421295, 0.01367462519556284, 0.016134893521666527, 0.01298914197832346, 0.014817503280937672, 0.011830676347017288, 0.012158968485891819, 0.011449403129518032, 0.011820013634860516, 0.01177713181823492, 0.013733528554439545, 0.012670213356614113, 0.01194923184812069, 0.011433097533881664, 0.01326313242316246, 0.016288086771965027, 0.014181377366185188, 0.013819384388625622, 0.01596749573945999, 0.012650246731936932, 0.0], [0.026010803878307343, 0.02572590298950672, 0.00967688113451004, 0.005512863863259554, 0.008046997711062431, 0.017883433029055595, 0.00819252710789442, 0.011174515821039677, 0.01612011343240738, 0.013398034498095512, 0.00819324515759945, 0.02069556526839733, 0.007416671607643366, 0.008214606903493404, 0.014748098328709602, 0.01470151450484991, 0.014529609121382236, 0.013290169648826122, 0.004928101785480976, 0.0041333893314003944, 0.010355070233345032, 0.025402994826436043, 0.013736944645643234, 0.015978867188096046, 0.005166393239051104, 0.004803194664418697, 0.009666400030255318, 0.006564352661371231, 0.007991540245711803, 0.00854843482375145, 0.025707080960273743, 0.018298691138625145, 0.01030789129436016, 0.04014376178383827, 0.022756826132535934, 0.013977199792861938, 0.028823845088481903, 0.03172909840941429, 0.009563802741467953, 0.028905481100082397, 0.01783708669245243, 0.010571296326816082, 0.013320243917405605, 0.00956010539084673, 0.018992934376001358, 0.016371093690395355, 0.007947641424834728, 0.018905075266957283, 0.023226000368595123, 0.015864672139286995, 0.017296720296144485, 0.01684226654469967, 0.023011688143014908, 0.017130030319094658, 0.017566969618201256, 0.02048061415553093, 0.016593821346759796, 0.01587609574198723, 0.017293406650424004, 0.012153654359281063, 0.012447651475667953, 0.012594256550073624, 0.011727438308298588, 0.01369321346282959, 0.00899212434887886, 0.013819010928273201, 0.00886401068419218]]], \"headLabels\": [\"L0H0\"]}\n",
       "    )\n",
       "    </script>"
      ],
      "text/plain": [
       "<circuitsvis.utils.render.RenderedHTML at 0x340c5a710>"
      ]
     },
     "metadata": {},
     "output_type": "display_data"
    }
   ],
   "source": [
    "print(\"Layer 0 Head Attention Pattern:\")\n",
    "l0_attention_pattern = cache['pattern', 0][0]\n",
    "display(cv.attention.attention_patterns(\n",
    "    tokens=input_str_swap0,\n",
    "    attention=l0_attention_pattern,\n",
    "    attention_head_names=[f\"L0H{i}\" for i in range(1)],\n",
    "))"
   ]
  },
  {
   "cell_type": "code",
   "execution_count": 46,
   "id": "34578599-3ad7-403a-aeed-5e46f6ea09c3",
   "metadata": {},
   "outputs": [
    {
     "name": "stdout",
     "output_type": "stream",
     "text": [
      "****************************************************************************************************\n",
      "                            12\n",
      "                             |\n",
      "                    +--------+-----------+\n",
      "                    |                    |\n",
      "                   15                    2\n",
      "                    |                    |\n",
      "              +-----+-----+           +--+-----+\n",
      "              |           |           |        |\n",
      "              4           6           5        9\n",
      "              |           |           |        |\n",
      "     +--------+--+     +--+        +--+     +--+\n",
      "     |           |     |           |        |\n",
      "     8           3     0          14        1\n",
      "     |                             |\n",
      "  +--+-----+                    +--+\n",
      "  |        |                    |\n",
      " 11        7                   10\n",
      "           |\n",
      "        +--+\n",
      "        |\n",
      "       13\n",
      "\n",
      "goal=3\n",
      "accuracy=1.0 gt_path=['→15', '→4', '→3'] pred_path=['→15', '→4', '→3']\n",
      "****************************************************************************************************\n"
     ]
    }
   ],
   "source": [
    "trainer.print_sample_pred(input_idx[0])"
   ]
  },
  {
   "cell_type": "code",
   "execution_count": 47,
   "id": "30e45f2f-9f36-4da4-a45e-94743d589f9f",
   "metadata": {},
   "outputs": [
    {
     "name": "stdout",
     "output_type": "stream",
     "text": [
      "****************************************************************************************************\n",
      "                            12\n",
      "                             |\n",
      "        +--------------------+-----------+\n",
      "        |                                |\n",
      "       15                                2\n",
      "        |                                |\n",
      "     +--+--------------+              +--+-----+\n",
      "     |                 |              |        |\n",
      "     6                 4              5        9\n",
      "     |                 |              |        |\n",
      "  +--+        +--------+--+        +--+     +--+\n",
      "  |           |           |        |        |\n",
      "  0           8           3       14        1\n",
      "              |                    |\n",
      "           +--+-----+           +--+\n",
      "           |        |           |\n",
      "          11        7          10\n",
      "                    |\n",
      "                 +--+\n",
      "                 |\n",
      "                13\n",
      "\n",
      "goal=3\n",
      "accuracy=1.0 gt_path=['→15', '→4', '→3'] pred_path=['→15', '→4', '→3']\n",
      "****************************************************************************************************\n"
     ]
    }
   ],
   "source": [
    "trainer.print_sample_pred(input_idx_swap0)"
   ]
  },
  {
   "cell_type": "markdown",
   "id": "6daf8f2e-79de-43b6-9230-6426e9244994",
   "metadata": {},
   "source": [
    "#### is it also special in baseline model?"
   ]
  },
  {
   "cell_type": "code",
   "execution_count": 48,
   "id": "3144477a-2733-4a41-b603-fb9f36009675",
   "metadata": {},
   "outputs": [],
   "source": [
    "baseline_model = load_baseline_model()"
   ]
  },
  {
   "cell_type": "code",
   "execution_count": 49,
   "id": "3818c307-e1f8-4bc5-8df2-66b43b475a0b",
   "metadata": {},
   "outputs": [
    {
     "data": {
      "text/plain": [
       "tensor[67, 67] n=4489 (18Kb) x∈[0., 1.000] μ=0.015 σ=0.045"
      ]
     },
     "execution_count": 49,
     "metadata": {},
     "output_type": "execute_result"
    }
   ],
   "source": [
    "l0_attention_pattern.squeeze()"
   ]
  },
  {
   "cell_type": "code",
   "execution_count": 50,
   "id": "384d894b-7470-40b1-92d4-48b66166b2ee",
   "metadata": {},
   "outputs": [
    {
     "name": "stdout",
     "output_type": "stream",
     "text": [
      "Baseline L0 Head Attention Pattern:\n"
     ]
    },
    {
     "data": {
      "text/html": [
       "<div id=\"circuits-vis-dfbcf9cc-8e97\" style=\"margin: 15px 0;\"/>\n",
       "    <script crossorigin type=\"module\">\n",
       "    import { render, AttentionPatterns } from \"https://unpkg.com/circuitsvis@1.41.0/dist/cdn/esm.js\";\n",
       "    render(\n",
       "      \"circuits-vis-dfbcf9cc-8e97\",\n",
       "      AttentionPatterns,\n",
       "      {\"tokens\": [\"12\", \">15\", \",\", \"7\", \">13\", \",\", \"2\", \">5\", \",\", \"12\", \">2\", \",\", \"4\", \">8\", \",\", \"6\", \">0\", \",\", \"15\", \">4\", \",\", \"9\", \">1\", \",\", \"15\", \">6\", \",\", \"4\", \">3\", \",\", \"8\", \">11\", \",\", \"8\", \">7\", \",\", \"2\", \">9\", \",\", \"5\", \">14\", \",\", \"14\", \">10\", \"|\", \"3\", \":\", \"12\", \">15\", \">4\", \">3\", \",\", \",\", \",\", \",\", \",\", \",\", \",\", \",\", \",\", \",\", \",\", \",\", \",\", \",\"], \"attention\": [[[1.0, 0.0, 0.0, 0.0, 0.0, 0.0, 0.0, 0.0, 0.0, 0.0, 0.0, 0.0, 0.0, 0.0, 0.0, 0.0, 0.0, 0.0, 0.0, 0.0, 0.0, 0.0, 0.0, 0.0, 0.0, 0.0, 0.0, 0.0, 0.0, 0.0, 0.0, 0.0, 0.0, 0.0, 0.0, 0.0, 0.0, 0.0, 0.0, 0.0, 0.0, 0.0, 0.0, 0.0, 0.0, 0.0, 0.0, 0.0, 0.0, 0.0, 0.0, 0.0, 0.0, 0.0, 0.0, 0.0, 0.0, 0.0, 0.0, 0.0, 0.0, 0.0, 0.0, 0.0, 0.0], [0.5595441460609436, 0.4404558539390564, 0.0, 0.0, 0.0, 0.0, 0.0, 0.0, 0.0, 0.0, 0.0, 0.0, 0.0, 0.0, 0.0, 0.0, 0.0, 0.0, 0.0, 0.0, 0.0, 0.0, 0.0, 0.0, 0.0, 0.0, 0.0, 0.0, 0.0, 0.0, 0.0, 0.0, 0.0, 0.0, 0.0, 0.0, 0.0, 0.0, 0.0, 0.0, 0.0, 0.0, 0.0, 0.0, 0.0, 0.0, 0.0, 0.0, 0.0, 0.0, 0.0, 0.0, 0.0, 0.0, 0.0, 0.0, 0.0, 0.0, 0.0, 0.0, 0.0, 0.0, 0.0, 0.0, 0.0], [0.0915614515542984, 0.13550443947315216, 0.7729341387748718, 0.0, 0.0, 0.0, 0.0, 0.0, 0.0, 0.0, 0.0, 0.0, 0.0, 0.0, 0.0, 0.0, 0.0, 0.0, 0.0, 0.0, 0.0, 0.0, 0.0, 0.0, 0.0, 0.0, 0.0, 0.0, 0.0, 0.0, 0.0, 0.0, 0.0, 0.0, 0.0, 0.0, 0.0, 0.0, 0.0, 0.0, 0.0, 0.0, 0.0, 0.0, 0.0, 0.0, 0.0, 0.0, 0.0, 0.0, 0.0, 0.0, 0.0, 0.0, 0.0, 0.0, 0.0, 0.0, 0.0, 0.0, 0.0, 0.0, 0.0, 0.0, 0.0], [0.08193596452474594, 0.16410665214061737, 0.6812114119529724, 0.07274604588747025, 0.0, 0.0, 0.0, 0.0, 0.0, 0.0, 0.0, 0.0, 0.0, 0.0, 0.0, 0.0, 0.0, 0.0, 0.0, 0.0, 0.0, 0.0, 0.0, 0.0, 0.0, 0.0, 0.0, 0.0, 0.0, 0.0, 0.0, 0.0, 0.0, 0.0, 0.0, 0.0, 0.0, 0.0, 0.0, 0.0, 0.0, 0.0, 0.0, 0.0, 0.0, 0.0, 0.0, 0.0, 0.0, 0.0, 0.0, 0.0, 0.0, 0.0, 0.0, 0.0, 0.0, 0.0, 0.0, 0.0, 0.0, 0.0, 0.0, 0.0, 0.0], [0.06888298690319061, 0.1820099949836731, 0.05928650125861168, 0.46560201048851013, 0.22421856224536896, 0.0, 0.0, 0.0, 0.0, 0.0, 0.0, 0.0, 0.0, 0.0, 0.0, 0.0, 0.0, 0.0, 0.0, 0.0, 0.0, 0.0, 0.0, 0.0, 0.0, 0.0, 0.0, 0.0, 0.0, 0.0, 0.0, 0.0, 0.0, 0.0, 0.0, 0.0, 0.0, 0.0, 0.0, 0.0, 0.0, 0.0, 0.0, 0.0, 0.0, 0.0, 0.0, 0.0, 0.0, 0.0, 0.0, 0.0, 0.0, 0.0, 0.0, 0.0, 0.0, 0.0, 0.0, 0.0, 0.0, 0.0, 0.0, 0.0, 0.0], [0.02038303017616272, 0.05099260434508324, 0.5482352375984192, 0.03298921510577202, 0.05704260244965553, 0.2903573215007782, 0.0, 0.0, 0.0, 0.0, 0.0, 0.0, 0.0, 0.0, 0.0, 0.0, 0.0, 0.0, 0.0, 0.0, 0.0, 0.0, 0.0, 0.0, 0.0, 0.0, 0.0, 0.0, 0.0, 0.0, 0.0, 0.0, 0.0, 0.0, 0.0, 0.0, 0.0, 0.0, 0.0, 0.0, 0.0, 0.0, 0.0, 0.0, 0.0, 0.0, 0.0, 0.0, 0.0, 0.0, 0.0, 0.0, 0.0, 0.0, 0.0, 0.0, 0.0, 0.0, 0.0, 0.0, 0.0, 0.0, 0.0, 0.0, 0.0], [0.041843172162771225, 0.054859209805727005, 0.4603549540042877, 0.03812384977936745, 0.061930134892463684, 0.2831760346889496, 0.05971276015043259, 0.0, 0.0, 0.0, 0.0, 0.0, 0.0, 0.0, 0.0, 0.0, 0.0, 0.0, 0.0, 0.0, 0.0, 0.0, 0.0, 0.0, 0.0, 0.0, 0.0, 0.0, 0.0, 0.0, 0.0, 0.0, 0.0, 0.0, 0.0, 0.0, 0.0, 0.0, 0.0, 0.0, 0.0, 0.0, 0.0, 0.0, 0.0, 0.0, 0.0, 0.0, 0.0, 0.0, 0.0, 0.0, 0.0, 0.0, 0.0, 0.0, 0.0, 0.0, 0.0, 0.0, 0.0, 0.0, 0.0, 0.0, 0.0], [0.03565272316336632, 0.17921827733516693, 0.03680342063307762, 0.030581006780266762, 0.13072097301483154, 0.025311211124062538, 0.34275251626968384, 0.21895983815193176, 0.0, 0.0, 0.0, 0.0, 0.0, 0.0, 0.0, 0.0, 0.0, 0.0, 0.0, 0.0, 0.0, 0.0, 0.0, 0.0, 0.0, 0.0, 0.0, 0.0, 0.0, 0.0, 0.0, 0.0, 0.0, 0.0, 0.0, 0.0, 0.0, 0.0, 0.0, 0.0, 0.0, 0.0, 0.0, 0.0, 0.0, 0.0, 0.0, 0.0, 0.0, 0.0, 0.0, 0.0, 0.0, 0.0, 0.0, 0.0, 0.0, 0.0, 0.0, 0.0, 0.0, 0.0, 0.0, 0.0, 0.0], [0.013599599711596966, 0.026050478219985962, 0.25616639852523804, 0.02569260261952877, 0.029575787484645844, 0.14622381329536438, 0.0949258953332901, 0.02951706014573574, 0.3782484531402588, 0.0, 0.0, 0.0, 0.0, 0.0, 0.0, 0.0, 0.0, 0.0, 0.0, 0.0, 0.0, 0.0, 0.0, 0.0, 0.0, 0.0, 0.0, 0.0, 0.0, 0.0, 0.0, 0.0, 0.0, 0.0, 0.0, 0.0, 0.0, 0.0, 0.0, 0.0, 0.0, 0.0, 0.0, 0.0, 0.0, 0.0, 0.0, 0.0, 0.0, 0.0, 0.0, 0.0, 0.0, 0.0, 0.0, 0.0, 0.0, 0.0, 0.0, 0.0, 0.0, 0.0, 0.0, 0.0, 0.0], [0.03238719329237938, 0.027203017845749855, 0.17407546937465668, 0.037614211440086365, 0.03429683297872543, 0.17032380402088165, 0.05304795503616333, 0.033358167856931686, 0.4256782829761505, 0.012014991603791714, 0.0, 0.0, 0.0, 0.0, 0.0, 0.0, 0.0, 0.0, 0.0, 0.0, 0.0, 0.0, 0.0, 0.0, 0.0, 0.0, 0.0, 0.0, 0.0, 0.0, 0.0, 0.0, 0.0, 0.0, 0.0, 0.0, 0.0, 0.0, 0.0, 0.0, 0.0, 0.0, 0.0, 0.0, 0.0, 0.0, 0.0, 0.0, 0.0, 0.0, 0.0, 0.0, 0.0, 0.0, 0.0, 0.0, 0.0, 0.0, 0.0, 0.0, 0.0, 0.0, 0.0, 0.0, 0.0], [0.021974695846438408, 0.13738946616649628, 0.038911398500204086, 0.02687341347336769, 0.1218632385134697, 0.02389087714254856, 0.02685275673866272, 0.08953788131475449, 0.010322601534426212, 0.3653894364833832, 0.1369941681623459, 0.0, 0.0, 0.0, 0.0, 0.0, 0.0, 0.0, 0.0, 0.0, 0.0, 0.0, 0.0, 0.0, 0.0, 0.0, 0.0, 0.0, 0.0, 0.0, 0.0, 0.0, 0.0, 0.0, 0.0, 0.0, 0.0, 0.0, 0.0, 0.0, 0.0, 0.0, 0.0, 0.0, 0.0, 0.0, 0.0, 0.0, 0.0, 0.0, 0.0, 0.0, 0.0, 0.0, 0.0, 0.0, 0.0, 0.0, 0.0, 0.0, 0.0, 0.0, 0.0, 0.0, 0.0], [0.032936908304691315, 0.03770941495895386, 0.1669216752052307, 0.028373446315526962, 0.049696777015924454, 0.08222199976444244, 0.08055013418197632, 0.04950999468564987, 0.3601599633693695, 0.014322791248559952, 0.05982302501797676, 0.03777392953634262, 0.0, 0.0, 0.0, 0.0, 0.0, 0.0, 0.0, 0.0, 0.0, 0.0, 0.0, 0.0, 0.0, 0.0, 0.0, 0.0, 0.0, 0.0, 0.0, 0.0, 0.0, 0.0, 0.0, 0.0, 0.0, 0.0, 0.0, 0.0, 0.0, 0.0, 0.0, 0.0, 0.0, 0.0, 0.0, 0.0, 0.0, 0.0, 0.0, 0.0, 0.0, 0.0, 0.0, 0.0, 0.0, 0.0, 0.0, 0.0, 0.0, 0.0, 0.0, 0.0, 0.0], [0.043933868408203125, 0.02941896952688694, 0.17739461362361908, 0.03673803061246872, 0.04550480097532272, 0.11445408314466476, 0.03272777795791626, 0.03010854870080948, 0.33603382110595703, 0.028949443250894547, 0.03603946790099144, 0.04990385100245476, 0.03879274055361748, 0.0, 0.0, 0.0, 0.0, 0.0, 0.0, 0.0, 0.0, 0.0, 0.0, 0.0, 0.0, 0.0, 0.0, 0.0, 0.0, 0.0, 0.0, 0.0, 0.0, 0.0, 0.0, 0.0, 0.0, 0.0, 0.0, 0.0, 0.0, 0.0, 0.0, 0.0, 0.0, 0.0, 0.0, 0.0, 0.0, 0.0, 0.0, 0.0, 0.0, 0.0, 0.0, 0.0, 0.0, 0.0, 0.0, 0.0, 0.0, 0.0, 0.0, 0.0, 0.0], [0.029148302972316742, 0.07282577455043793, 0.019996171817183495, 0.029298871755599976, 0.0846477597951889, 0.018341077491641045, 0.03064708411693573, 0.07073958963155746, 0.014429917559027672, 0.028146179392933846, 0.06435846537351608, 0.04348187521100044, 0.3960214853286743, 0.09791753441095352, 0.0, 0.0, 0.0, 0.0, 0.0, 0.0, 0.0, 0.0, 0.0, 0.0, 0.0, 0.0, 0.0, 0.0, 0.0, 0.0, 0.0, 0.0, 0.0, 0.0, 0.0, 0.0, 0.0, 0.0, 0.0, 0.0, 0.0, 0.0, 0.0, 0.0, 0.0, 0.0, 0.0, 0.0, 0.0, 0.0, 0.0, 0.0, 0.0, 0.0, 0.0, 0.0, 0.0, 0.0, 0.0, 0.0, 0.0, 0.0, 0.0, 0.0, 0.0], [0.017146790400147438, 0.03206230327486992, 0.15548491477966309, 0.011166543699800968, 0.0503837913274765, 0.06278620660305023, 0.07942797243595123, 0.04186549782752991, 0.3560352027416229, 0.010570207610726357, 0.04144599661231041, 0.03630241006612778, 0.004466018173843622, 0.06410937756299973, 0.036746833473443985, 0.0, 0.0, 0.0, 0.0, 0.0, 0.0, 0.0, 0.0, 0.0, 0.0, 0.0, 0.0, 0.0, 0.0, 0.0, 0.0, 0.0, 0.0, 0.0, 0.0, 0.0, 0.0, 0.0, 0.0, 0.0, 0.0, 0.0, 0.0, 0.0, 0.0, 0.0, 0.0, 0.0, 0.0, 0.0, 0.0, 0.0, 0.0, 0.0, 0.0, 0.0, 0.0, 0.0, 0.0, 0.0, 0.0, 0.0, 0.0, 0.0, 0.0], [0.06605608761310577, 0.0279887393116951, 0.12570543587207794, 0.024718033149838448, 0.037770409137010574, 0.09228550642728806, 0.038883667439222336, 0.028636792674660683, 0.3010166585445404, 0.024416165426373482, 0.039535801857709885, 0.035773493349552155, 0.03776181861758232, 0.042944613844156265, 0.04074651747941971, 0.035760343074798584, 0.0, 0.0, 0.0, 0.0, 0.0, 0.0, 0.0, 0.0, 0.0, 0.0, 0.0, 0.0, 0.0, 0.0, 0.0, 0.0, 0.0, 0.0, 0.0, 0.0, 0.0, 0.0, 0.0, 0.0, 0.0, 0.0, 0.0, 0.0, 0.0, 0.0, 0.0, 0.0, 0.0, 0.0, 0.0, 0.0, 0.0, 0.0, 0.0, 0.0, 0.0, 0.0, 0.0, 0.0, 0.0, 0.0, 0.0, 0.0, 0.0], [0.018918508663773537, 0.06955425441265106, 0.01402853149920702, 0.02088548243045807, 0.07184649258852005, 0.011577458120882511, 0.022554408758878708, 0.039343614131212234, 0.006733039394021034, 0.031197326257824898, 0.04135759547352791, 0.027873601764440536, 0.025226829573512077, 0.05779098719358444, 0.020814402028918266, 0.40513020753860474, 0.11516726762056351, 0.0, 0.0, 0.0, 0.0, 0.0, 0.0, 0.0, 0.0, 0.0, 0.0, 0.0, 0.0, 0.0, 0.0, 0.0, 0.0, 0.0, 0.0, 0.0, 0.0, 0.0, 0.0, 0.0, 0.0, 0.0, 0.0, 0.0, 0.0, 0.0, 0.0, 0.0, 0.0, 0.0, 0.0, 0.0, 0.0, 0.0, 0.0, 0.0, 0.0, 0.0, 0.0, 0.0, 0.0, 0.0, 0.0, 0.0, 0.0], [0.016493594273924828, 0.026459326967597008, 0.11100754141807556, 0.011106443591415882, 0.05354231223464012, 0.04775135591626167, 0.049222804605960846, 0.03567229583859444, 0.4283692538738251, 0.007074152119457722, 0.04044174775481224, 0.01697206310927868, 0.002497859764844179, 0.06852572411298752, 0.01588408090174198, 0.009497009217739105, 0.05122431740164757, 0.0082580940797925, 0.0, 0.0, 0.0, 0.0, 0.0, 0.0, 0.0, 0.0, 0.0, 0.0, 0.0, 0.0, 0.0, 0.0, 0.0, 0.0, 0.0, 0.0, 0.0, 0.0, 0.0, 0.0, 0.0, 0.0, 0.0, 0.0, 0.0, 0.0, 0.0, 0.0, 0.0, 0.0, 0.0, 0.0, 0.0, 0.0, 0.0, 0.0, 0.0, 0.0, 0.0, 0.0, 0.0, 0.0, 0.0, 0.0, 0.0], [0.06365572661161423, 0.024252301082015038, 0.08928810805082321, 0.050729792565107346, 0.033475492149591446, 0.12057504802942276, 0.02734510786831379, 0.029673026874661446, 0.2863757908344269, 0.023548992350697517, 0.028337236493825912, 0.03417256847023964, 0.018667733296751976, 0.028443770483136177, 0.03582969307899475, 0.014950870536267757, 0.027802862226963043, 0.031123090535402298, 0.03175277262926102, 0.0, 0.0, 0.0, 0.0, 0.0, 0.0, 0.0, 0.0, 0.0, 0.0, 0.0, 0.0, 0.0, 0.0, 0.0, 0.0, 0.0, 0.0, 0.0, 0.0, 0.0, 0.0, 0.0, 0.0, 0.0, 0.0, 0.0, 0.0, 0.0, 0.0, 0.0, 0.0, 0.0, 0.0, 0.0, 0.0, 0.0, 0.0, 0.0, 0.0, 0.0, 0.0, 0.0, 0.0, 0.0, 0.0], [0.025326993316411972, 0.04999862611293793, 0.009349365718662739, 0.01700463891029358, 0.0612773671746254, 0.008823453448712826, 0.014144937507808208, 0.033152610063552856, 0.006674417294561863, 0.021151486784219742, 0.033735375851392746, 0.01904556341469288, 0.03317156806588173, 0.05504179373383522, 0.01576884277164936, 0.015964297577738762, 0.05963505059480667, 0.01598796248435974, 0.4025227427482605, 0.10222283005714417, 0.0, 0.0, 0.0, 0.0, 0.0, 0.0, 0.0, 0.0, 0.0, 0.0, 0.0, 0.0, 0.0, 0.0, 0.0, 0.0, 0.0, 0.0, 0.0, 0.0, 0.0, 0.0, 0.0, 0.0, 0.0, 0.0, 0.0, 0.0, 0.0, 0.0, 0.0, 0.0, 0.0, 0.0, 0.0, 0.0, 0.0, 0.0, 0.0, 0.0, 0.0, 0.0, 0.0, 0.0, 0.0], [0.01789378561079502, 0.024889051914215088, 0.09666279703378677, 0.011652988381683826, 0.044365547597408295, 0.06835518777370453, 0.029377229511737823, 0.028092442080378532, 0.3760174810886383, 0.008860072121024132, 0.029758395627141, 0.02956359274685383, 0.00430036848410964, 0.04878046363592148, 0.02804151177406311, 0.010429237969219685, 0.035660482943058014, 0.016731351613998413, 0.020896513015031815, 0.04166243225336075, 0.02800903096795082, 0.0, 0.0, 0.0, 0.0, 0.0, 0.0, 0.0, 0.0, 0.0, 0.0, 0.0, 0.0, 0.0, 0.0, 0.0, 0.0, 0.0, 0.0, 0.0, 0.0, 0.0, 0.0, 0.0, 0.0, 0.0, 0.0, 0.0, 0.0, 0.0, 0.0, 0.0, 0.0, 0.0, 0.0, 0.0, 0.0, 0.0, 0.0, 0.0, 0.0, 0.0, 0.0, 0.0, 0.0], [0.05398000776767731, 0.022731255739927292, 0.10553061217069626, 0.02592489682137966, 0.02975434996187687, 0.06530223786830902, 0.019616682082414627, 0.026303762570023537, 0.33499059081077576, 0.016696438193321228, 0.02242976985871792, 0.01823851652443409, 0.031055696308612823, 0.0369417704641819, 0.01936536282300949, 0.029340043663978577, 0.027067143470048904, 0.018958844244480133, 0.02144899219274521, 0.03374176472425461, 0.0268119964748621, 0.013769238255918026, 0.0, 0.0, 0.0, 0.0, 0.0, 0.0, 0.0, 0.0, 0.0, 0.0, 0.0, 0.0, 0.0, 0.0, 0.0, 0.0, 0.0, 0.0, 0.0, 0.0, 0.0, 0.0, 0.0, 0.0, 0.0, 0.0, 0.0, 0.0, 0.0, 0.0, 0.0, 0.0, 0.0, 0.0, 0.0, 0.0, 0.0, 0.0, 0.0, 0.0, 0.0, 0.0, 0.0], [0.009636041708290577, 0.04004965350031853, 0.009730961173772812, 0.010583403520286083, 0.037351109087467194, 0.007547794375568628, 0.011553863063454628, 0.046563323587179184, 0.0036487800534814596, 0.02016460709273815, 0.036588069051504135, 0.032408393919467926, 0.021599601954221725, 0.05187883973121643, 0.017266111448407173, 0.026716528460383415, 0.04017799347639084, 0.01348201185464859, 0.04036111384630203, 0.051573097705841064, 0.012312660925090313, 0.3935787081718445, 0.0652274489402771, 0.0, 0.0, 0.0, 0.0, 0.0, 0.0, 0.0, 0.0, 0.0, 0.0, 0.0, 0.0, 0.0, 0.0, 0.0, 0.0, 0.0, 0.0, 0.0, 0.0, 0.0, 0.0, 0.0, 0.0, 0.0, 0.0, 0.0, 0.0, 0.0, 0.0, 0.0, 0.0, 0.0, 0.0, 0.0, 0.0, 0.0, 0.0, 0.0, 0.0, 0.0, 0.0], [0.011642642319202423, 0.02006562426686287, 0.1189558133482933, 0.005711883772164583, 0.0313241071999073, 0.05367954075336456, 0.04103771597146988, 0.023442363366484642, 0.3913387060165405, 0.005521136801689863, 0.02749495953321457, 0.023478088900446892, 0.002133540576323867, 0.03975231572985649, 0.02146126702427864, 0.008485064841806889, 0.03490705043077469, 0.011618908494710922, 0.013756558299064636, 0.04038497060537338, 0.017498532310128212, 0.013022848404943943, 0.021073363721370697, 0.022212961688637733, 0.0, 0.0, 0.0, 0.0, 0.0, 0.0, 0.0, 0.0, 0.0, 0.0, 0.0, 0.0, 0.0, 0.0, 0.0, 0.0, 0.0, 0.0, 0.0, 0.0, 0.0, 0.0, 0.0, 0.0, 0.0, 0.0, 0.0, 0.0, 0.0, 0.0, 0.0, 0.0, 0.0, 0.0, 0.0, 0.0, 0.0, 0.0, 0.0, 0.0, 0.0], [0.04321330785751343, 0.023136448115110397, 0.112005315721035, 0.03411482647061348, 0.027945229783654213, 0.0857117623090744, 0.026361528784036636, 0.02468237653374672, 0.24770453572273254, 0.016090791672468185, 0.02513522282242775, 0.025847256183624268, 0.017650781199336052, 0.025261126458644867, 0.02973993308842182, 0.019480066373944283, 0.026384856551885605, 0.02670411765575409, 0.021460020914673805, 0.028151925653219223, 0.031702443957328796, 0.0077565452083945274, 0.023336803540587425, 0.025696396827697754, 0.024726398289203644, 0.0, 0.0, 0.0, 0.0, 0.0, 0.0, 0.0, 0.0, 0.0, 0.0, 0.0, 0.0, 0.0, 0.0, 0.0, 0.0, 0.0, 0.0, 0.0, 0.0, 0.0, 0.0, 0.0, 0.0, 0.0, 0.0, 0.0, 0.0, 0.0, 0.0, 0.0, 0.0, 0.0, 0.0, 0.0, 0.0, 0.0, 0.0, 0.0, 0.0], [0.007596819195896387, 0.038002341985702515, 0.007747554685920477, 0.01929931901395321, 0.041982829570770264, 0.00598341878503561, 0.007847936823964119, 0.0317574217915535, 0.0024432281497865915, 0.013660937547683716, 0.026108503341674805, 0.018891384825110435, 0.011938152834773064, 0.033131275326013565, 0.011135795153677464, 0.0503663532435894, 0.0472693145275116, 0.010724302381277084, 0.02462722547352314, 0.03838224709033966, 0.009042174555361271, 0.02583175152540207, 0.03390977531671524, 0.010212985798716545, 0.38501471281051636, 0.08709213882684708, 0.0, 0.0, 0.0, 0.0, 0.0, 0.0, 0.0, 0.0, 0.0, 0.0, 0.0, 0.0, 0.0, 0.0, 0.0, 0.0, 0.0, 0.0, 0.0, 0.0, 0.0, 0.0, 0.0, 0.0, 0.0, 0.0, 0.0, 0.0, 0.0, 0.0, 0.0, 0.0, 0.0, 0.0, 0.0, 0.0, 0.0, 0.0, 0.0], [0.015045307576656342, 0.01887134462594986, 0.10462778061628342, 0.010225272737443447, 0.03377055004239082, 0.044883131980895996, 0.03316560015082359, 0.01830432377755642, 0.4068332612514496, 0.00693664513528347, 0.025206279009580612, 0.015077460557222366, 0.0020903530530631542, 0.040492068976163864, 0.0148853724822402, 0.009723838418722153, 0.03233885020017624, 0.008332123048603535, 0.01699657365679741, 0.03988244757056236, 0.015062621794641018, 0.007121892645955086, 0.018082395195961, 0.01611368916928768, 0.009282991290092468, 0.022127047181129456, 0.014520784839987755, 0.0, 0.0, 0.0, 0.0, 0.0, 0.0, 0.0, 0.0, 0.0, 0.0, 0.0, 0.0, 0.0, 0.0, 0.0, 0.0, 0.0, 0.0, 0.0, 0.0, 0.0, 0.0, 0.0, 0.0, 0.0, 0.0, 0.0, 0.0, 0.0, 0.0, 0.0, 0.0, 0.0, 0.0, 0.0, 0.0, 0.0, 0.0], [0.03059636987745762, 0.017292654141783714, 0.11696711927652359, 0.020287977531552315, 0.01940349116921425, 0.09202148765325546, 0.016216004267334938, 0.016260666772723198, 0.3085154891014099, 0.015258101746439934, 0.017857085913419724, 0.024821603670716286, 0.00780480494722724, 0.021055025979876518, 0.03041685000061989, 0.017058372497558594, 0.020224114879965782, 0.023837869986891747, 0.013197125867009163, 0.02356460690498352, 0.03387901559472084, 0.006928375922143459, 0.018096381798386574, 0.025987017899751663, 0.009374948218464851, 0.02008487842977047, 0.024816876277327538, 0.008175760507583618, 0.0, 0.0, 0.0, 0.0, 0.0, 0.0, 0.0, 0.0, 0.0, 0.0, 0.0, 0.0, 0.0, 0.0, 0.0, 0.0, 0.0, 0.0, 0.0, 0.0, 0.0, 0.0, 0.0, 0.0, 0.0, 0.0, 0.0, 0.0, 0.0, 0.0, 0.0, 0.0, 0.0, 0.0, 0.0, 0.0, 0.0], [0.007683423813432455, 0.030714649707078934, 0.006866530980914831, 0.011262264102697372, 0.021420268341898918, 0.006217581685632467, 0.006637529004365206, 0.022634660825133324, 0.002422657795250416, 0.020753338932991028, 0.020846787840127945, 0.01448407955467701, 0.0056315534748137, 0.02561892382800579, 0.00979768205434084, 0.026045329868793488, 0.043851759284734726, 0.007452176883816719, 0.011299815960228443, 0.035684313625097275, 0.010641422122716904, 0.0319463312625885, 0.03580232337117195, 0.009503962472081184, 0.01824289746582508, 0.031115010380744934, 0.00998061802238226, 0.42180562019348145, 0.0936364084482193, 0.0, 0.0, 0.0, 0.0, 0.0, 0.0, 0.0, 0.0, 0.0, 0.0, 0.0, 0.0, 0.0, 0.0, 0.0, 0.0, 0.0, 0.0, 0.0, 0.0, 0.0, 0.0, 0.0, 0.0, 0.0, 0.0, 0.0, 0.0, 0.0, 0.0, 0.0, 0.0, 0.0, 0.0, 0.0, 0.0], [0.01076901238411665, 0.010565384291112423, 0.1024804562330246, 0.013939021155238152, 0.017458906397223473, 0.059123389422893524, 0.05404664948582649, 0.011142863892018795, 0.29492852091789246, 0.004405550193041563, 0.01609327457845211, 0.019977783784270287, 0.011099484749138355, 0.018319476395845413, 0.021569035947322845, 0.0061053005047142506, 0.014814172871410847, 0.01587381400167942, 0.006728128530085087, 0.01622958667576313, 0.026246873661875725, 0.004077738616615534, 0.009575160220265388, 0.020130852237343788, 0.0039841351099312305, 0.011117746122181416, 0.02143208123743534, 0.002649276051670313, 0.0073297033086419106, 0.16778674721717834, 0.0, 0.0, 0.0, 0.0, 0.0, 0.0, 0.0, 0.0, 0.0, 0.0, 0.0, 0.0, 0.0, 0.0, 0.0, 0.0, 0.0, 0.0, 0.0, 0.0, 0.0, 0.0, 0.0, 0.0, 0.0, 0.0, 0.0, 0.0, 0.0, 0.0, 0.0, 0.0, 0.0, 0.0, 0.0], [0.03960166499018669, 0.01804547756910324, 0.0797249898314476, 0.02615349180996418, 0.017971284687519073, 0.09182967245578766, 0.06278915703296661, 0.023902542889118195, 0.22757424414157867, 0.015519093722105026, 0.015606094151735306, 0.027434533461928368, 0.012525541707873344, 0.01618969440460205, 0.034057095646858215, 0.011018204502761364, 0.02263028919696808, 0.02526915818452835, 0.015448917634785175, 0.014978785999119282, 0.026651442050933838, 0.006255654152482748, 0.015443088486790657, 0.0242746714502573, 0.009620227850973606, 0.02000032737851143, 0.022968066856265068, 0.007468284107744694, 0.013037552125751972, 0.036118295043706894, 0.01989242248237133, 0.0, 0.0, 0.0, 0.0, 0.0, 0.0, 0.0, 0.0, 0.0, 0.0, 0.0, 0.0, 0.0, 0.0, 0.0, 0.0, 0.0, 0.0, 0.0, 0.0, 0.0, 0.0, 0.0, 0.0, 0.0, 0.0, 0.0, 0.0, 0.0, 0.0, 0.0, 0.0, 0.0, 0.0], [0.009477817453444004, 0.02699238248169422, 0.0045803263783454895, 0.009776717983186245, 0.03198452666401863, 0.0075905597768723965, 0.010028422810137272, 0.038154877722263336, 0.004025438334792852, 0.011998633854091167, 0.01817779242992401, 0.014827555045485497, 0.00787428766489029, 0.025161586701869965, 0.008834224194288254, 0.0072410088032484055, 0.04005056247115135, 0.006863335147500038, 0.015720844268798828, 0.028481321409344673, 0.00821606069803238, 0.02092459797859192, 0.024164505302906036, 0.007660464383661747, 0.013187378644943237, 0.025887319818139076, 0.007565659005194902, 0.02098865620791912, 0.043573979288339615, 0.005850736517459154, 0.4295822083950043, 0.06455628573894501, 0.0, 0.0, 0.0, 0.0, 0.0, 0.0, 0.0, 0.0, 0.0, 0.0, 0.0, 0.0, 0.0, 0.0, 0.0, 0.0, 0.0, 0.0, 0.0, 0.0, 0.0, 0.0, 0.0, 0.0, 0.0, 0.0, 0.0, 0.0, 0.0, 0.0, 0.0, 0.0, 0.0], [0.009869798086583614, 0.01503286138176918, 0.08697454631328583, 0.009770403616130352, 0.025635506957769394, 0.05042135342955589, 0.032850589603185654, 0.01944045163691044, 0.34617021679878235, 0.004923034459352493, 0.020230989903211594, 0.016684917733073235, 0.002032315358519554, 0.028448840603232384, 0.01705911010503769, 0.005697557236999273, 0.025827595964074135, 0.008724967949092388, 0.008036713115870953, 0.027062835171818733, 0.011782229878008366, 0.005243812687695026, 0.015676433220505714, 0.014471573755145073, 0.005980463232845068, 0.01742825284600258, 0.012074293568730354, 0.0010000402107834816, 0.009930132888257504, 0.1078486293554306, 0.007835060358047485, 0.020767824724316597, 0.009066605009138584, 0.0, 0.0, 0.0, 0.0, 0.0, 0.0, 0.0, 0.0, 0.0, 0.0, 0.0, 0.0, 0.0, 0.0, 0.0, 0.0, 0.0, 0.0, 0.0, 0.0, 0.0, 0.0, 0.0, 0.0, 0.0, 0.0, 0.0, 0.0, 0.0, 0.0, 0.0, 0.0], [0.06858041137456894, 0.019146177917718887, 0.05368850752711296, 0.037038568407297134, 0.023162350058555603, 0.07109785079956055, 0.021522944793105125, 0.023206209763884544, 0.2610255777835846, 0.013254622928798199, 0.02134544961154461, 0.01382539514452219, 0.01611175574362278, 0.02503369003534317, 0.018033592030405998, 0.016209695488214493, 0.024671006947755814, 0.014550772495567799, 0.017637670040130615, 0.022571668028831482, 0.018441904336214066, 0.009075137786567211, 0.02226523868739605, 0.014789173379540443, 0.005048161372542381, 0.020376915112137794, 0.010881006717681885, 0.006574624218046665, 0.016175683587789536, 0.024393418803811073, 0.014505341649055481, 0.026619231328368187, 0.011048460379242897, 0.018091876059770584, 0.0, 0.0, 0.0, 0.0, 0.0, 0.0, 0.0, 0.0, 0.0, 0.0, 0.0, 0.0, 0.0, 0.0, 0.0, 0.0, 0.0, 0.0, 0.0, 0.0, 0.0, 0.0, 0.0, 0.0, 0.0, 0.0, 0.0, 0.0, 0.0, 0.0, 0.0], [0.010437791235744953, 0.023645875975489616, 0.005535393953323364, 0.02264312654733658, 0.03726852685213089, 0.005147920921444893, 0.0033118347637355328, 0.016726883128285408, 0.004007305018603802, 0.01859164424240589, 0.023313743993639946, 0.00726535078138113, 0.009374409914016724, 0.039321061223745346, 0.0070092035457491875, 0.017079539597034454, 0.02710978500545025, 0.004734291695058346, 0.020329494029283524, 0.0348142609000206, 0.005347199738025665, 0.033566877245903015, 0.027658585458993912, 0.0052750082686543465, 0.021592477336525917, 0.02011120691895485, 0.004417354706674814, 0.017734752967953682, 0.03483302518725395, 0.006950243376195431, 0.02541370876133442, 0.027238616719841957, 0.005139442160725594, 0.36234763264656067, 0.06470641493797302, 0.0, 0.0, 0.0, 0.0, 0.0, 0.0, 0.0, 0.0, 0.0, 0.0, 0.0, 0.0, 0.0, 0.0, 0.0, 0.0, 0.0, 0.0, 0.0, 0.0, 0.0, 0.0, 0.0, 0.0, 0.0, 0.0, 0.0, 0.0, 0.0, 0.0], [0.006192142143845558, 0.014524617232382298, 0.11983714997768402, 0.004352015443146229, 0.01794031634926796, 0.050059787929058075, 0.0334508940577507, 0.013537915423512459, 0.23526246845722198, 0.004685292020440102, 0.01659616269171238, 0.02263646200299263, 0.0040730927139520645, 0.021715544164180756, 0.026438923552632332, 0.007793138734996319, 0.023526931181550026, 0.015525182709097862, 0.008453426882624626, 0.025086836889386177, 0.02103688009083271, 0.005220748949795961, 0.01430488284677267, 0.02251095324754715, 0.005394524894654751, 0.014567013829946518, 0.024237196892499924, 0.006186729297041893, 0.01018971111625433, 0.10059406608343124, 0.0037908218801021576, 0.013773435726761818, 0.013382060453295708, 0.009029220789670944, 0.023503361269831657, 0.040590036660432816, 0.0, 0.0, 0.0, 0.0, 0.0, 0.0, 0.0, 0.0, 0.0, 0.0, 0.0, 0.0, 0.0, 0.0, 0.0, 0.0, 0.0, 0.0, 0.0, 0.0, 0.0, 0.0, 0.0, 0.0, 0.0, 0.0, 0.0, 0.0, 0.0], [0.040531255304813385, 0.023854674771428108, 0.01787053421139717, 0.024859581142663956, 0.02196435257792473, 0.011575741693377495, 0.0296335369348526, 0.03030206449329853, 0.01832258515059948, 0.032990582287311554, 0.028353232890367508, 0.013522940687835217, 0.026364244520664215, 0.029049798846244812, 0.014544826932251453, 0.20408883690834045, 0.023385871201753616, 0.018228955566883087, 0.023557817563414574, 0.02336951345205307, 0.010526851750910282, 0.023554958403110504, 0.03205963969230652, 0.018902333453297615, 0.025523394346237183, 0.04162067919969559, 0.009821979328989983, 0.011990619823336601, 0.0221763513982296, 0.01780807599425316, 0.01043070387095213, 0.019221050664782524, 0.013847916387021542, 0.010657129809260368, 0.01882605254650116, 0.013327877037227154, 0.04333340376615524, 0.0, 0.0, 0.0, 0.0, 0.0, 0.0, 0.0, 0.0, 0.0, 0.0, 0.0, 0.0, 0.0, 0.0, 0.0, 0.0, 0.0, 0.0, 0.0, 0.0, 0.0, 0.0, 0.0, 0.0, 0.0, 0.0, 0.0, 0.0], [0.00597158819437027, 0.0226511862128973, 0.004563834052532911, 0.009930319152772427, 0.028959913179278374, 0.0036618788726627827, 0.009614218026399612, 0.027868136763572693, 0.0023469426669180393, 0.006320829503238201, 0.017082007601857185, 0.009722067043185234, 0.011265572160482407, 0.023642489686608315, 0.006875583436340094, 0.0156551506370306, 0.03199928626418114, 0.0051519242115318775, 0.009596433490514755, 0.023513052612543106, 0.0049111670814454556, 0.03657964617013931, 0.022330496460199356, 0.0048383730463683605, 0.028044680133461952, 0.0302166398614645, 0.005455218255519867, 0.025215720757842064, 0.029611892998218536, 0.0020690681412816048, 0.03550690785050392, 0.02038455568253994, 0.005621663760393858, 0.02887321636080742, 0.03234531357884407, 0.007589423563331366, 0.35657116770744324, 0.04744241014122963, 0.0, 0.0, 0.0, 0.0, 0.0, 0.0, 0.0, 0.0, 0.0, 0.0, 0.0, 0.0, 0.0, 0.0, 0.0, 0.0, 0.0, 0.0, 0.0, 0.0, 0.0, 0.0, 0.0, 0.0, 0.0, 0.0, 0.0], [0.00727265328168869, 0.00934381689876318, 0.026429923251271248, 0.003154944395646453, 0.018076186999678612, 0.014385534450411797, 0.01803423836827278, 0.008209615014493465, 0.09665825217962265, 0.00594348693266511, 0.012638675980269909, 0.00906885415315628, 0.004893536679446697, 0.020212216302752495, 0.012310377322137356, 0.008480432443320751, 0.010884888470172882, 0.01116143073886633, 0.017153413966298103, 0.016724608838558197, 0.01818113401532173, 0.006247448734939098, 0.00820136722177267, 0.02172047831118107, 0.004161189775913954, 0.006456545554101467, 0.017910324037075043, 0.0004540908557828516, 0.004875808954238892, 0.46977391839027405, 0.005062024109065533, 0.012747484259307384, 0.010981773026287556, 0.011425626464188099, 0.016465401276946068, 0.0278578270226717, 0.003331826301291585, 0.005642471369355917, 0.01746627874672413, 0.0, 0.0, 0.0, 0.0, 0.0, 0.0, 0.0, 0.0, 0.0, 0.0, 0.0, 0.0, 0.0, 0.0, 0.0, 0.0, 0.0, 0.0, 0.0, 0.0, 0.0, 0.0, 0.0, 0.0, 0.0, 0.0], [0.12326952069997787, 0.01820617914199829, 0.019860340282320976, 0.07446244359016418, 0.027037058025598526, 0.015871629118919373, 0.024949882179498672, 0.027746040374040604, 0.03724513202905655, 0.026905592530965805, 0.02771730348467827, 0.009205376729369164, 0.01668502204120159, 0.03282759711146355, 0.006548081059008837, 0.01682550087571144, 0.02686559222638607, 0.006577575113624334, 0.02233799174427986, 0.026266274973750114, 0.013249391689896584, 0.0224528256803751, 0.025185298174619675, 0.006851311307400465, 0.016186552122235298, 0.02446216344833374, 0.007351877633482218, 0.011888712644577026, 0.06308199465274811, 0.010378945618867874, 0.02938012219965458, 0.03811030462384224, 0.007681544404476881, 0.02545277401804924, 0.02522781305015087, 0.012654177844524384, 0.00947689451277256, 0.022668583318591118, 0.009842989966273308, 0.031005680561065674, 0.0, 0.0, 0.0, 0.0, 0.0, 0.0, 0.0, 0.0, 0.0, 0.0, 0.0, 0.0, 0.0, 0.0, 0.0, 0.0, 0.0, 0.0, 0.0, 0.0, 0.0, 0.0, 0.0, 0.0, 0.0], [0.008778952062129974, 0.014198902063071728, 0.002617433900013566, 0.006575673818588257, 0.02330726757645607, 0.0014471954200416803, 0.00410867715254426, 0.022703442722558975, 0.0010023540817201138, 0.010934239253401756, 0.021923908963799477, 0.006688649766147137, 0.009959245100617409, 0.028161080554127693, 0.003975398372858763, 0.012539556249976158, 0.018788576126098633, 0.004074701573699713, 0.02553989551961422, 0.032467685639858246, 0.004321153741329908, 0.026586562395095825, 0.01794050633907318, 0.0044859545305371284, 0.02488052472472191, 0.01620352268218994, 0.005173142068088055, 0.014794972725212574, 0.03633551299571991, 0.006046781782060862, 0.026752175763249397, 0.025111086666584015, 0.0054783327504992485, 0.03312806040048599, 0.024814540520310402, 0.006728166248649359, 0.019922250881791115, 0.01513576228171587, 0.010221651755273342, 0.36685311794281006, 0.04929336532950401, 0.0, 0.0, 0.0, 0.0, 0.0, 0.0, 0.0, 0.0, 0.0, 0.0, 0.0, 0.0, 0.0, 0.0, 0.0, 0.0, 0.0, 0.0, 0.0, 0.0, 0.0, 0.0, 0.0, 0.0], [0.03301285207271576, 0.0179203599691391, 0.007883603684604168, 0.01927083358168602, 0.02082950621843338, 0.005779766943305731, 0.19194532930850983, 0.021463733166456223, 0.014091497287154198, 0.008984783664345741, 0.03217016160488129, 0.005181889981031418, 0.007962319068610668, 0.024586379528045654, 0.003985617309808731, 0.010383964516222477, 0.020207060500979424, 0.003959327470511198, 0.03213373199105263, 0.020430203527212143, 0.003443356603384018, 0.018490273505449295, 0.016635073348879814, 0.005827351473271847, 0.03133200481534004, 0.026648592203855515, 0.004057121463119984, 0.004438822623342276, 0.01990165375173092, 0.011740276589989662, 0.016972772777080536, 0.019608430564403534, 0.005934563465416431, 0.018944598734378815, 0.028870774433016777, 0.008807247504591942, 0.18185961246490479, 0.020019475370645523, 0.0058134775608778, 0.010319797322154045, 0.02272251807153225, 0.015429403632879257, 0.0, 0.0, 0.0, 0.0, 0.0, 0.0, 0.0, 0.0, 0.0, 0.0, 0.0, 0.0, 0.0, 0.0, 0.0, 0.0, 0.0, 0.0, 0.0, 0.0, 0.0, 0.0, 0.0], [0.0882217288017273, 0.02488432265818119, 0.01704101637005806, 0.02683558687567711, 0.025358980521559715, 0.011916452087461948, 0.027706295251846313, 0.03200480341911316, 0.021722104400396347, 0.06762716174125671, 0.024964887648820877, 0.011041145771741867, 0.017412526533007622, 0.029103877022862434, 0.01091140229254961, 0.026818178594112396, 0.02744363434612751, 0.011922513134777546, 0.04028792306780815, 0.02764732576906681, 0.00888226367533207, 0.021630387753248215, 0.02454093098640442, 0.010594267398118973, 0.028570646420121193, 0.023125242441892624, 0.00931317824870348, 0.01284047681838274, 0.024933554232120514, 0.017308127135038376, 0.023653820157051086, 0.046583861112594604, 0.014994056895375252, 0.012938551604747772, 0.015887461602687836, 0.012211424298584461, 0.011330119334161282, 0.021683167666196823, 0.012965147383511066, 0.028466491028666496, 0.019817590713500977, 0.006688982713967562, 0.020168304443359375, 0.0, 0.0, 0.0, 0.0, 0.0, 0.0, 0.0, 0.0, 0.0, 0.0, 0.0, 0.0, 0.0, 0.0, 0.0, 0.0, 0.0, 0.0, 0.0, 0.0, 0.0, 0.0], [0.01096352655440569, 0.015211209654808044, 0.0019310454372316599, 0.0075110201723873615, 0.0195506252348423, 0.001953978557139635, 0.003068328369408846, 0.020240329205989838, 0.0014921558322384953, 0.005631309933960438, 0.015852566808462143, 0.004002140834927559, 0.0034588968846946955, 0.01952238380908966, 0.0023586570750921965, 0.01419633999466896, 0.020916825160384178, 0.0022867864463478327, 0.013990575447678566, 0.02547602914273739, 0.0026523785199970007, 0.021663576364517212, 0.017875272780656815, 0.0029292269609868526, 0.023683328181505203, 0.020225925371050835, 0.002756955102086067, 0.00928327813744545, 0.022679239511489868, 0.0017736306181177497, 0.020946189761161804, 0.01987810805439949, 0.004233283456414938, 0.02481377311050892, 0.022819114848971367, 0.004920703824609518, 0.02992609329521656, 0.019233359023928642, 0.005255427211523056, 0.03376656770706177, 0.027555981650948524, 0.013129417784512043, 0.3812054395675659, 0.057178933173418045, 0.0, 0.0, 0.0, 0.0, 0.0, 0.0, 0.0, 0.0, 0.0, 0.0, 0.0, 0.0, 0.0, 0.0, 0.0, 0.0, 0.0, 0.0, 0.0, 0.0, 0.0], [0.0398205891251564, 0.028613096103072166, 0.010232977569103241, 0.02914496511220932, 0.03591288626194, 0.007112676277756691, 0.022705890238285065, 0.03815503045916557, 0.012640749104321003, 0.02431561052799225, 0.026367276906967163, 0.007012061774730682, 0.028734775260090828, 0.02952025830745697, 0.0062325019389390945, 0.022886721417307854, 0.026817480102181435, 0.006326251197606325, 0.034956131130456924, 0.03583524748682976, 0.006080659572035074, 0.020602351054549217, 0.04503856971859932, 0.0059936679899692535, 0.03989782556891441, 0.037542566657066345, 0.00545869953930378, 0.01924106851220131, 0.03720945864915848, 0.007520642131567001, 0.01728632114827633, 0.028198694810271263, 0.006847192067652941, 0.013955933973193169, 0.021602122113108635, 0.010638886131346226, 0.03440534695982933, 0.028658751398324966, 0.008941509760916233, 0.020461158826947212, 0.027031797915697098, 0.010281143710017204, 0.0130681861191988, 0.02261287160217762, 0.03808140009641647, 0.0, 0.0, 0.0, 0.0, 0.0, 0.0, 0.0, 0.0, 0.0, 0.0, 0.0, 0.0, 0.0, 0.0, 0.0, 0.0, 0.0, 0.0, 0.0, 0.0], [0.020798226818442345, 0.018067115917801857, 0.00943831168115139, 0.04399615898728371, 0.0159426461905241, 0.010721358470618725, 0.014629884622991085, 0.015409786254167557, 0.005425187759101391, 0.026715654879808426, 0.02043790929019451, 0.009783715009689331, 0.20601963996887207, 0.015951961278915405, 0.008539499714970589, 0.01608232408761978, 0.015013549476861954, 0.011987701058387756, 0.009757457301020622, 0.01409124955534935, 0.008641757071018219, 0.013952306471765041, 0.017793739214539528, 0.006521834526211023, 0.012977451086044312, 0.017761092633008957, 0.007430362515151501, 0.21341493725776672, 0.017769426107406616, 0.005494243931025267, 0.011849709786474705, 0.00984734296798706, 0.009084387682378292, 0.01036078017205, 0.011345474049448967, 0.007001621648669243, 0.013688546605408192, 0.01573503389954567, 0.010078493505716324, 0.011456319130957127, 0.012548173777759075, 0.010312612168490887, 0.0068566338159143925, 0.01326594315469265, 0.009212370030581951, 0.0067899879068136215, 0.0, 0.0, 0.0, 0.0, 0.0, 0.0, 0.0, 0.0, 0.0, 0.0, 0.0, 0.0, 0.0, 0.0, 0.0, 0.0, 0.0, 0.0, 0.0], [0.07219330221414566, 0.018483394756913185, 0.005703791975975037, 0.06923522800207138, 0.018114306032657623, 0.0052588400430977345, 0.032931674271821976, 0.02018532156944275, 0.005680362693965435, 0.05935296043753624, 0.01659221202135086, 0.00552543718367815, 0.026518700644373894, 0.017100857570767403, 0.005544452928006649, 0.03542346507310867, 0.014501961879432201, 0.006918471772223711, 0.04889487847685814, 0.013399189338088036, 0.006013598758727312, 0.048272013664245605, 0.014602321200072765, 0.005843125283718109, 0.04034100100398064, 0.017951834946870804, 0.00474516348913312, 0.013838648796081543, 0.023405758664011955, 0.00561686372384429, 0.03154895454645157, 0.02040170133113861, 0.005998438689857721, 0.03059859573841095, 0.014113906770944595, 0.006003353279083967, 0.027132447808980942, 0.01598697155714035, 0.006506012752652168, 0.029952140524983406, 0.0227870624512434, 0.006597844418138266, 0.0364055335521698, 0.023822249844670296, 0.010614335536956787, 0.01648613251745701, 0.01685505174100399, 0.0, 0.0, 0.0, 0.0, 0.0, 0.0, 0.0, 0.0, 0.0, 0.0, 0.0, 0.0, 0.0, 0.0, 0.0, 0.0, 0.0, 0.0], [0.012383311055600643, 0.018543992191553116, 0.012601730413734913, 0.009247115813195705, 0.02794661931693554, 0.008012183010578156, 0.013724063523113728, 0.02746567502617836, 0.0161532461643219, 0.006301993038505316, 0.02272375114262104, 0.007080416195094585, 0.0069907126016914845, 0.029642555862665176, 0.005189421586692333, 0.006854203063994646, 0.02943202294409275, 0.004142476711422205, 0.009574074298143387, 0.032461151480674744, 0.0050438991747796535, 0.008151145651936531, 0.02235816791653633, 0.0045603490434587, 0.010447933338582516, 0.02537858672440052, 0.005045461002737284, 0.007877367548644543, 0.02604071795940399, 0.008564979769289494, 0.016952689737081528, 0.028315506875514984, 0.005541573278605938, 0.010690206661820412, 0.02861170470714569, 0.01151079311966896, 0.021510761231184006, 0.029834341257810593, 0.007936726324260235, 0.022041969001293182, 0.03764902055263519, 0.02132813259959221, 0.02473285235464573, 0.027385622262954712, 0.06197374314069748, 0.16125430166721344, 0.047051116824150085, 0.005739761050790548, 0.0, 0.0, 0.0, 0.0, 0.0, 0.0, 0.0, 0.0, 0.0, 0.0, 0.0, 0.0, 0.0, 0.0, 0.0, 0.0, 0.0], [0.02044805884361267, 0.02153744176030159, 0.007619211915880442, 0.013321099802851677, 0.027240630239248276, 0.003650085534900427, 0.009185126051306725, 0.023848460987210274, 0.009336787275969982, 0.0114532969892025, 0.02255508303642273, 0.003010721877217293, 0.009310057386755943, 0.03400524705648422, 0.0021369322203099728, 0.010427850298583508, 0.022290140390396118, 0.0019133590394631028, 0.038643885403871536, 0.03205418959259987, 0.0020201466977596283, 0.01206553727388382, 0.021588873118162155, 0.00199401774443686, 0.042693477123975754, 0.02521894872188568, 0.002219174522906542, 0.008160918951034546, 0.024962713941931725, 0.005684607662260532, 0.008667361922562122, 0.015224025584757328, 0.0023574703373014927, 0.01619689352810383, 0.023834794759750366, 0.007296192925423384, 0.01172628253698349, 0.01883196271955967, 0.0036389355082064867, 0.013478106819093227, 0.0265272855758667, 0.009955456480383873, 0.01675795204937458, 0.02492992952466011, 0.04839186370372772, 0.20782235264778137, 0.03160148113965988, 0.009412298910319805, 0.03275333717465401, 0.0, 0.0, 0.0, 0.0, 0.0, 0.0, 0.0, 0.0, 0.0, 0.0, 0.0, 0.0, 0.0, 0.0, 0.0, 0.0], [0.013779984787106514, 0.019265901297330856, 0.006669758819043636, 0.010403525084257126, 0.02701825648546219, 0.0038716131821274757, 0.007865055464208126, 0.02304176799952984, 0.007359313312917948, 0.007297176867723465, 0.021941721439361572, 0.0035525024868547916, 0.015897780656814575, 0.032823994755744934, 0.002306779380887747, 0.008731858804821968, 0.025084519758820534, 0.002236436353996396, 0.011646748520433903, 0.0323144793510437, 0.0024985133204609156, 0.010939341969788074, 0.02216159924864769, 0.0022074866574257612, 0.013717793859541416, 0.023220090195536613, 0.002645486034452915, 0.016893532127141953, 0.023565255105495453, 0.004918604623526335, 0.009905660524964333, 0.018102489411830902, 0.002913435222581029, 0.010070218704640865, 0.023309670388698578, 0.007149579003453255, 0.014910037629306316, 0.021611100062727928, 0.005079908296465874, 0.014526356011629105, 0.030556870624423027, 0.01271316409111023, 0.02140399068593979, 0.025161314755678177, 0.05454518273472786, 0.20956628024578094, 0.033022891730070114, 0.007442034315317869, 0.03296152129769325, 0.03917142376303673, 0.0, 0.0, 0.0, 0.0, 0.0, 0.0, 0.0, 0.0, 0.0, 0.0, 0.0, 0.0, 0.0, 0.0, 0.0], [0.016367873176932335, 0.013134234584867954, 0.006973856594413519, 0.01327576581388712, 0.020917680114507675, 0.0043503595516085625, 0.007849892601370811, 0.017699765041470528, 0.01124491821974516, 0.006198744289577007, 0.01652870699763298, 0.0029349245596677065, 0.00829721987247467, 0.02666107751429081, 0.0018703605746850371, 0.006731600034981966, 0.01893380843102932, 0.0016488968394696712, 0.007566383574157953, 0.026676204055547714, 0.0023408455308526754, 0.007280957419425249, 0.017209865152835846, 0.0018647850956767797, 0.008001867681741714, 0.01912178471684456, 0.002010957570746541, 0.008331984281539917, 0.021361956372857094, 0.0048407926224172115, 0.00757427467033267, 0.01675204373896122, 0.0021592064294964075, 0.007464434485882521, 0.01777449995279312, 0.005797733087092638, 0.00864942092448473, 0.01589466817677021, 0.0038161156699061394, 0.009774348698556423, 0.02595251239836216, 0.008973082527518272, 0.011849192902445793, 0.018412545323371887, 0.04767128825187683, 0.3347572684288025, 0.03046582080423832, 0.005860617384314537, 0.021457476541399956, 0.03243076801300049, 0.03828464075922966, 0.0, 0.0, 0.0, 0.0, 0.0, 0.0, 0.0, 0.0, 0.0, 0.0, 0.0, 0.0, 0.0, 0.0], [0.016087902709841728, 0.01415229681879282, 0.04033719003200531, 0.007876576855778694, 0.021236686035990715, 0.01411424670368433, 0.0243896022439003, 0.018212605267763138, 0.12295444309711456, 0.005283601116389036, 0.02246689610183239, 0.0041926829144358635, 0.00706109032034874, 0.032428715378046036, 0.003465971676632762, 0.0055991956032812595, 0.020354682579636574, 0.002545382594689727, 0.006495968904346228, 0.029123855754733086, 0.003035088302567601, 0.0036678966134786606, 0.01619626395404339, 0.003124709939584136, 0.0037824870087206364, 0.01829913817346096, 0.00278594926930964, 0.0028940129559487104, 0.011923751793801785, 0.02604077011346817, 0.0028741490095853806, 0.014081495814025402, 0.0023642161395400763, 0.0030899145640432835, 0.017857957631349564, 0.013199491426348686, 0.01275151502341032, 0.01505360659211874, 0.003773672040551901, 0.002224285388365388, 0.02080417051911354, 0.016162889078259468, 0.001927657169289887, 0.008712762035429478, 0.05515627562999725, 0.1731710433959961, 0.03307860717177391, 0.003116155741736293, 0.014065134339034557, 0.03146973252296448, 0.017591506242752075, 0.027344180271029472, 0.0, 0.0, 0.0, 0.0, 0.0, 0.0, 0.0, 0.0, 0.0, 0.0, 0.0, 0.0, 0.0], [0.0174818467348814, 0.014033356681466103, 0.03617103397846222, 0.008409975096583366, 0.021113121882081032, 0.011088800616562366, 0.024747498333454132, 0.01797914132475853, 0.0894397497177124, 0.006814317777752876, 0.023040996864438057, 0.0039155264385044575, 0.007055152207612991, 0.03155892342329025, 0.0032616679091006517, 0.007578856777399778, 0.01907915435731411, 0.0025543130468577147, 0.005846268031746149, 0.027599124237895012, 0.0027217192109674215, 0.004174643196165562, 0.01567225158214569, 0.002822061302140355, 0.005379986949265003, 0.018452992662787437, 0.002612748183310032, 0.003840722842141986, 0.013170676305890083, 0.0231455210596323, 0.00234302063472569, 0.011778389103710651, 0.002384382067248225, 0.0038049074355512857, 0.01680082455277443, 0.011252002790570259, 0.01307923998683691, 0.015079325996339321, 0.003656522138044238, 0.0025836057029664516, 0.019315987825393677, 0.01516781747341156, 0.0021682577207684517, 0.009709946811199188, 0.05017073079943657, 0.1825612485408783, 0.029309723526239395, 0.004027008544653654, 0.0152741065248847, 0.03305405005812645, 0.020328907296061516, 0.025920286774635315, 0.03946758806705475, 0.0, 0.0, 0.0, 0.0, 0.0, 0.0, 0.0, 0.0, 0.0, 0.0, 0.0, 0.0], [0.015854977071285248, 0.011861328035593033, 0.04388722404837608, 0.007670726627111435, 0.01961899921298027, 0.012662594206631184, 0.02136148512363434, 0.014313665218651295, 0.12636880576610565, 0.0050820824690163136, 0.021147403866052628, 0.0036820643581449986, 0.0065336693078279495, 0.03149747475981712, 0.0030543962493538857, 0.005884355865418911, 0.01793614588677883, 0.0022809896618127823, 0.005371060688048601, 0.024504929780960083, 0.002537078456953168, 0.00349937891587615, 0.012827621772885323, 0.0024415836669504642, 0.004302632994949818, 0.014956152997910976, 0.002492842497304082, 0.0022086140234023333, 0.009981250390410423, 0.03371533006429672, 0.0017266016220673919, 0.009922591969370842, 0.001945507014170289, 0.0035558142699301243, 0.016886461526155472, 0.011586563661694527, 0.00993344932794571, 0.011654285714030266, 0.003339458955451846, 0.0019779533613473177, 0.0184803307056427, 0.015026370994746685, 0.0012374300276860595, 0.007023971527814865, 0.04997262731194496, 0.17484994232654572, 0.02773025631904602, 0.003265371546149254, 0.012271497398614883, 0.024015255272388458, 0.01629638485610485, 0.021974286064505577, 0.03611547127366066, 0.029675208032131195, 0.0, 0.0, 0.0, 0.0, 0.0, 0.0, 0.0, 0.0, 0.0, 0.0, 0.0], [0.007612346205860376, 0.010601981543004513, 0.033774569630622864, 0.004054478369653225, 0.016874460503458977, 0.008811403065919876, 0.016483694314956665, 0.01319980900734663, 0.07684683054685593, 0.0032848776318132877, 0.01967930980026722, 0.0031341593712568283, 0.004599400795996189, 0.027887266129255295, 0.0023239164147526026, 0.003694205079227686, 0.016884513199329376, 0.00162682740483433, 0.003178696148097515, 0.025155456736683846, 0.0018012437503784895, 0.0025610337033867836, 0.012501516379415989, 0.0018345941789448261, 0.002640585182234645, 0.012531662359833717, 0.0018516767304390669, 0.0030714748427271843, 0.010758309625089169, 0.02169555239379406, 0.0015559266321361065, 0.00902071688324213, 0.001489934977144003, 0.002779413713142276, 0.016419727355241776, 0.009858598001301289, 0.010672666132450104, 0.01243969053030014, 0.0028608511202037334, 0.002022667322307825, 0.018187060952186584, 0.016125133261084557, 0.0014451333554461598, 0.007411142345517874, 0.05709449201822281, 0.20800714194774628, 0.02673555724322796, 0.0018486682092770934, 0.013788165524601936, 0.032459087669849396, 0.018392164260149002, 0.025641130283474922, 0.04476356506347656, 0.03217737749218941, 0.05584809556603432, 0.0, 0.0, 0.0, 0.0, 0.0, 0.0, 0.0, 0.0, 0.0, 0.0], [0.009650256484746933, 0.009039145894348621, 0.041990552097558975, 0.004109251778572798, 0.01570340059697628, 0.010364197194576263, 0.015687543898820877, 0.011749141849577427, 0.11923209577798843, 0.003947791643440723, 0.01853673718869686, 0.0028902720659971237, 0.0030259459745138884, 0.025136949494481087, 0.0023640599101781845, 0.003302272642031312, 0.014157057739794254, 0.0015509644290432334, 0.0028126444667577744, 0.020856568589806557, 0.001825459417887032, 0.0019976263865828514, 0.01000196486711502, 0.0017720257164910436, 0.0023437831550836563, 0.01089814119040966, 0.0016367512289434671, 0.0016920013586059213, 0.009638438001275063, 0.02551794983446598, 0.00106822547968477, 0.00863464642316103, 0.0013499715132638812, 0.002365459455177188, 0.014636442065238953, 0.00968598760664463, 0.007461270317435265, 0.011128894053399563, 0.00230582058429718, 0.0014381887158378959, 0.014866233803331852, 0.014479871839284897, 0.000978559721261263, 0.005638566333800554, 0.04853803664445877, 0.20316007733345032, 0.02420511096715927, 0.0018146614311262965, 0.010038457810878754, 0.024980776011943817, 0.015654373914003372, 0.02316761203110218, 0.03922580927610397, 0.029202807694673538, 0.056753188371658325, 0.023790016770362854, 0.0, 0.0, 0.0, 0.0, 0.0, 0.0, 0.0, 0.0, 0.0], [0.007670497056096792, 0.008567183278501034, 0.04115155339241028, 0.0035166877787560225, 0.013952730223536491, 0.00945537630468607, 0.015396286733448505, 0.01130871195346117, 0.11171647161245346, 0.002529290271922946, 0.014833739027380943, 0.0026371197309345007, 0.0032834699377417564, 0.022229140624403954, 0.0019441128242760897, 0.0036552511155605316, 0.014440429396927357, 0.001273983041755855, 0.0024490011855959892, 0.020047755911946297, 0.0016238512471318245, 0.0019535960163921118, 0.009118704125285149, 0.0013842657208442688, 0.002214099746197462, 0.010515190660953522, 0.001507399370893836, 0.0017824816750362515, 0.008541308343410492, 0.021909456700086594, 0.0011556717799976468, 0.007069416809827089, 0.001064866897650063, 0.0015483293682336807, 0.012589440681040287, 0.008625587448477745, 0.008315649814903736, 0.009624788537621498, 0.0022485977970063686, 0.0013606554130092263, 0.016696935519576073, 0.01368738617748022, 0.0008951587951742113, 0.005386145785450935, 0.052291810512542725, 0.21507088840007782, 0.02370867319405079, 0.0013758097775280476, 0.009972876869142056, 0.024607937783002853, 0.013857603073120117, 0.021931104362010956, 0.039746157824993134, 0.02945551648736, 0.05634361132979393, 0.022721635177731514, 0.026038628071546555, 0.0, 0.0, 0.0, 0.0, 0.0, 0.0, 0.0, 0.0], [0.003685847157612443, 0.008195891976356506, 0.025459513068199158, 0.0022811335511505604, 0.013071900233626366, 0.005507105961441994, 0.016786497086286545, 0.010777278803288937, 0.05882183834910393, 0.0017092505004256964, 0.0130917364731431, 0.0020124425645917654, 0.0031160865910351276, 0.021568987518548965, 0.0012503270991146564, 0.0016311390791088343, 0.014163428917527199, 0.0007404022617265582, 0.0014771324349567294, 0.017136748880147934, 0.0009760987013578415, 0.0019119917415082455, 0.008205106481909752, 0.0008912472403608263, 0.0014264552155509591, 0.008541719056665897, 0.001120526809245348, 0.0019611010793596506, 0.00777298491448164, 0.01915423944592476, 0.0014178246492519975, 0.005432042293250561, 0.0007564050029031932, 0.0017307819798588753, 0.013970539905130863, 0.006787145975977182, 0.01078096590936184, 0.009642536751925945, 0.001994138350710273, 0.0013511197175830603, 0.015260145999491215, 0.013832814060151577, 0.0006262832903303206, 0.004501333925873041, 0.0711188092827797, 0.273242712020874, 0.022576699033379555, 0.0009428194025531411, 0.0111162681132555, 0.022989284247159958, 0.014843553304672241, 0.020981235429644585, 0.039898455142974854, 0.02737591415643692, 0.046683743596076965, 0.018011847510933876, 0.021353373304009438, 0.04633500799536705, 0.0, 0.0, 0.0, 0.0, 0.0, 0.0, 0.0], [0.0029470520094037056, 0.007637047208845615, 0.030910339206457138, 0.00199368828907609, 0.012064049951732159, 0.007159362081438303, 0.01777614653110504, 0.010076740756630898, 0.0768677368760109, 0.0013525717658922076, 0.011913374997675419, 0.0022272400092333555, 0.0017483191331848502, 0.018198639154434204, 0.001603367505595088, 0.0010726082837209105, 0.013395780697464943, 0.0008195785921998322, 0.0013304075691848993, 0.014922804199159145, 0.0009983492782339454, 0.001237250049598515, 0.007233081851154566, 0.000979428761638701, 0.0015232759760692716, 0.0089266924187541, 0.001218693912960589, 0.0014602475566789508, 0.006756216287612915, 0.015054618939757347, 0.0012473196256905794, 0.005644367542117834, 0.0007801337051205337, 0.0021695566829293966, 0.01527081336826086, 0.007428611628711224, 0.016111740842461586, 0.012181289494037628, 0.00190468889195472, 0.0010278829140588641, 0.013974874280393124, 0.01737723872065544, 0.0007077138870954514, 0.00431031733751297, 0.06512245535850525, 0.22074833512306213, 0.02410636469721794, 0.0007487083785235882, 0.010434256866574287, 0.023517929017543793, 0.012511201202869415, 0.024152111262083054, 0.040187545120716095, 0.028765004128217697, 0.05347881838679314, 0.01930820941925049, 0.021028224378824234, 0.05017692223191261, 0.024172751232981682, 0.0, 0.0, 0.0, 0.0, 0.0, 0.0], [0.0018585780635476112, 0.007105485536158085, 0.026386860758066177, 0.0012818619143217802, 0.011292525567114353, 0.006019410211592913, 0.012011116370558739, 0.008365442045032978, 0.06740707904100418, 0.0010183113627135754, 0.010409709997475147, 0.002047142945230007, 0.001281920587643981, 0.01790775917470455, 0.001335804583504796, 0.0009659497882239521, 0.012856507673859596, 0.0006466219201683998, 0.001162771717645228, 0.015248550102114677, 0.0009186407551169395, 0.0016189871821552515, 0.006764320190995932, 0.0009263959946110845, 0.0011397256748750806, 0.006954725831747055, 0.001251017558388412, 0.0011267977533861995, 0.0057634529657661915, 0.018356237560510635, 0.0010028337128460407, 0.0045663174241781235, 0.0006922265747562051, 0.0019500517519190907, 0.015021326020359993, 0.007469846401363611, 0.010730857029557228, 0.009201806969940662, 0.001862797886133194, 0.0007970761507749557, 0.012813488952815533, 0.015303975902497768, 0.0006867144838906825, 0.003975185099989176, 0.07215603440999985, 0.25716492533683777, 0.02264072373509407, 0.0005844158004038036, 0.008763025514781475, 0.02000383473932743, 0.011856256984174252, 0.023919060826301575, 0.039996180683374405, 0.027735179290175438, 0.053074099123477936, 0.01867370866239071, 0.02100634016096592, 0.04898430407047272, 0.02162160351872444, 0.014316120184957981, 0.0, 0.0, 0.0, 0.0, 0.0], [0.0017611560178920627, 0.005779211409389973, 0.024543466046452522, 0.001365025294944644, 0.00995846837759018, 0.005508012603968382, 0.011614704504609108, 0.008344940841197968, 0.06313824653625488, 0.0007781418971717358, 0.008293635211884975, 0.002032829914242029, 0.0007689475896768272, 0.015372151508927345, 0.0012252326123416424, 0.000917929457500577, 0.011956509202718735, 0.0005563654121942818, 0.0010390325915068388, 0.013374832458794117, 0.0008238006848841906, 0.001686283154413104, 0.005762538406997919, 0.0008262898190878332, 0.0013501023640856147, 0.006550123915076256, 0.0012237840564921498, 0.000705986749380827, 0.005145730450749397, 0.01664993166923523, 0.0010930959833785892, 0.00400298647582531, 0.0006810546037741005, 0.0017895539058372378, 0.013162496499717236, 0.00678433571010828, 0.009003479033708572, 0.008108913898468018, 0.0017074568895623088, 0.0009253918542526662, 0.011877271346747875, 0.013232124038040638, 0.0008621973684057593, 0.004324373323470354, 0.0650443509221077, 0.29900532960891724, 0.021542035043239594, 0.0005230347160249949, 0.009061742573976517, 0.02040870673954487, 0.011028382927179337, 0.023723682388663292, 0.03843728080391884, 0.02679746225476265, 0.04982924088835716, 0.019142404198646545, 0.021078791469335556, 0.04779050126671791, 0.020971812307834625, 0.013223265297710896, 0.005783736705780029, 0.0, 0.0, 0.0, 0.0], [0.001749072689563036, 0.006366171408444643, 0.02963561750948429, 0.001163969631306827, 0.010054362937808037, 0.006338283885270357, 0.012627827003598213, 0.007861817255616188, 0.08618592470884323, 0.0006699278601445258, 0.007661032490432262, 0.001748919254168868, 0.0011582564329728484, 0.014925927855074406, 0.0011561623541638255, 0.0011358732590451837, 0.012084904126822948, 0.0005618997383862734, 0.0009317464428022504, 0.013532211072742939, 0.0007959597278386354, 0.0009726351127028465, 0.005689381621778011, 0.0007616450893692672, 0.0008833379833959043, 0.007248652167618275, 0.0009954061824828386, 0.0010193565394729376, 0.0045861448161304, 0.01591663621366024, 0.0009403366129845381, 0.003713932354003191, 0.000561994849704206, 0.0013739984715357423, 0.01291100587695837, 0.0065162293612957, 0.012736405245959759, 0.008846514858305454, 0.0016845092177391052, 0.0006438563577830791, 0.011900660581886768, 0.016537465155124664, 0.0004109205910935998, 0.0029941245447844267, 0.06674594432115555, 0.2428303062915802, 0.02108391374349594, 0.00047985048149712384, 0.00855537410825491, 0.02061830274760723, 0.009379779919981956, 0.023276763036847115, 0.04020901769399643, 0.027513982728123665, 0.05387793108820915, 0.017707431688904762, 0.018659114837646484, 0.04751447215676308, 0.020106444135308266, 0.013109994120895863, 0.004974578972905874, 0.025165794417262077, 0.0, 0.0, 0.0], [0.0014841099036857486, 0.007090543396770954, 0.03766405209898949, 0.0016191178001463413, 0.009363331831991673, 0.010628549382090569, 0.01475509162992239, 0.008122093044221401, 0.07306606322526932, 0.001048928126692772, 0.00997177418321371, 0.004063665866851807, 0.0010598285589367151, 0.01431066170334816, 0.003268296830356121, 0.0014222192112356424, 0.012510917149484158, 0.001364063355140388, 0.001081782509572804, 0.011907482519745827, 0.0017371195135638118, 0.0017451420426368713, 0.007178198080509901, 0.001953219762071967, 0.0015751458704471588, 0.008695250377058983, 0.0023189950734376907, 0.0019225216237828135, 0.005949362181127071, 0.01814742013812065, 0.0011951486812904477, 0.003963445778936148, 0.0013073851587250829, 0.0028140039648860693, 0.015959076583385468, 0.0103064626455307, 0.024797558784484863, 0.012256134301424026, 0.003212148556485772, 0.0011751775164157152, 0.011257580481469631, 0.024682439863681793, 0.0008080039406195283, 0.0047547281719744205, 0.06103959307074547, 0.12397992610931396, 0.019758308306336403, 0.0007172226323746145, 0.009349937550723553, 0.020784003660082817, 0.010074804536998272, 0.03076329082250595, 0.044006939977407455, 0.0313708670437336, 0.05836619809269905, 0.023378053680062294, 0.024919120594859123, 0.05223412811756134, 0.02585333026945591, 0.017064986750483513, 0.007755023892968893, 0.0329444445669651, 0.010125551372766495, 0.0, 0.0], [0.002268487587571144, 0.004182241391390562, 0.07054637372493744, 0.0020108672324568033, 0.003681495552882552, 0.034887369722127914, 0.021780231967568398, 0.003946100827306509, 0.2189023494720459, 0.0014000913361087441, 0.004972497466951609, 0.0073049431666731834, 0.001169312628917396, 0.004864923190325499, 0.008481559343636036, 0.0015073120594024658, 0.005827564280480146, 0.004323013126850128, 0.0013944759266451001, 0.005299072712659836, 0.005808050744235516, 0.0010402045445516706, 0.003605298465117812, 0.0065736607648432255, 0.0006009767530485988, 0.0038994932547211647, 0.006880517117679119, 0.0025130773428827524, 0.0024084642063826323, 0.03270576521754265, 0.00092827167827636, 0.0024514906108379364, 0.003406709060072899, 0.001596596441231668, 0.005661265458911657, 0.013879787176847458, 0.0070412433706223965, 0.004908829461783171, 0.0041784606873989105, 0.0002840832166839391, 0.003169064177200198, 0.015121427364647388, 0.00023566918389406055, 0.0017088173190131783, 0.008479435928165913, 0.006675521843135357, 0.00554395467042923, 0.0008746182429604232, 0.0024533886462450027, 0.005645676050335169, 0.0018457287224009633, 0.012023507617413998, 0.013049471192061901, 0.01309608668088913, 0.02671186253428459, 0.014842559583485126, 0.01586432009935379, 0.04209299758076668, 0.04380471259355545, 0.03373643383383751, 0.020635275170207024, 0.05267266556620598, 0.030762696638703346, 0.10983163118362427, 0.0], [0.0016740066930651665, 0.0032146309968084097, 0.07405406981706619, 0.0016926591051742435, 0.0034894770942628384, 0.03281029313802719, 0.011031788773834705, 0.003208562033250928, 0.27551528811454773, 0.0006769832107238472, 0.00313847535289824, 0.005817580968141556, 0.0006868252530694008, 0.00393031258136034, 0.006509937811642885, 0.0017877190839499235, 0.005625889636576176, 0.003188197035342455, 0.000906054861843586, 0.00456824479624629, 0.005107839126139879, 0.0006019878201186657, 0.002612779848277569, 0.00466920668259263, 0.0006828152691014111, 0.003680127440020442, 0.005515896715223789, 0.0010273205116391182, 0.0015126116340979934, 0.0336407907307148, 0.0005482205306179821, 0.001900861389003694, 0.002592541044577956, 0.000808209297247231, 0.00403972901403904, 0.011840549297630787, 0.004497971851378679, 0.003450112883001566, 0.003756800666451454, 0.00020455359481275082, 0.003365278709679842, 0.01152245607227087, 0.00020449352450668812, 0.001343041774816811, 0.008401467464864254, 0.009440043941140175, 0.006061298307031393, 0.0005843553808517754, 0.0019083848455920815, 0.004828158300369978, 0.0014461273094639182, 0.011329662054777145, 0.013875310309231281, 0.014215425588190556, 0.029954690486192703, 0.014758934266865253, 0.015589105896651745, 0.0422002337872982, 0.03785214200615883, 0.026183605194091797, 0.017308881506323814, 0.043185874819755554, 0.027163216844201088, 0.09213454276323318, 0.02892533876001835]]], \"headLabels\": [\"L0H0\"]}\n",
       "    )\n",
       "    </script>"
      ],
      "text/plain": [
       "<circuitsvis.utils.render.RenderedHTML at 0x32fdf1190>"
      ]
     },
     "metadata": {},
     "output_type": "display_data"
    }
   ],
   "source": [
    "bas_input_idx = map_input_idx_to_bas(input_idx[0])[:bas_max_seq_length-1]\n",
    "bas_input_str = [idx2tokens[i] for i in bas_input_idx]\n",
    "\n",
    "outputs, cache = baseline_model.run_with_cache(bas_input_idx[None])\n",
    "l0_attention_pattern_bas = cache['pattern', 0][0]\n",
    "\n",
    "print(\"Baseline L0 Head Attention Pattern:\")\n",
    "\n",
    "display(cv.attention.attention_patterns(\n",
    "    tokens=bas_input_str,\n",
    "    attention=l0_attention_pattern_bas,\n",
    "    attention_head_names=[f\"L0H{i}\" for i in range(1)],\n",
    "))"
   ]
  },
  {
   "cell_type": "code",
   "execution_count": 51,
   "id": "ec56d13a-4863-499a-8911-b18a68946732",
   "metadata": {},
   "outputs": [
    {
     "name": "stdout",
     "output_type": "stream",
     "text": [
      "Baseline L0 Head Attention Pattern:\n"
     ]
    },
    {
     "data": {
      "text/html": [
       "<div id=\"circuits-vis-f0b67390-fa68\" style=\"margin: 15px 0;\"/>\n",
       "    <script crossorigin type=\"module\">\n",
       "    import { render, AttentionPatterns } from \"https://unpkg.com/circuitsvis@1.41.0/dist/cdn/esm.js\";\n",
       "    render(\n",
       "      \"circuits-vis-f0b67390-fa68\",\n",
       "      AttentionPatterns,\n",
       "      {\"tokens\": [\"12\", \">15\", \",\", \"7\", \">13\", \",\", \"2\", \">5\", \",\", \"12\", \">2\", \",\", \"4\", \">8\", \",\", \"6\", \">0\", \",\", \"14\", \">10\", \",\", \"9\", \">1\", \",\", \"15\", \">6\", \",\", \"4\", \">3\", \",\", \"8\", \">11\", \",\", \"8\", \">7\", \",\", \"2\", \">9\", \",\", \"5\", \">14\", \",\", \"15\", \">4\", \"|\", \"3\", \":\", \"12\", \">15\", \">4\", \">3\", \",\", \",\", \",\", \",\", \",\", \",\", \",\", \",\", \",\", \",\", \",\", \",\", \",\", \",\"], \"attention\": [[[1.0, 0.0, 0.0, 0.0, 0.0, 0.0, 0.0, 0.0, 0.0, 0.0, 0.0, 0.0, 0.0, 0.0, 0.0, 0.0, 0.0, 0.0, 0.0, 0.0, 0.0, 0.0, 0.0, 0.0, 0.0, 0.0, 0.0, 0.0, 0.0, 0.0, 0.0, 0.0, 0.0, 0.0, 0.0, 0.0, 0.0, 0.0, 0.0, 0.0, 0.0, 0.0, 0.0, 0.0, 0.0, 0.0, 0.0, 0.0, 0.0, 0.0, 0.0, 0.0, 0.0, 0.0, 0.0, 0.0, 0.0, 0.0, 0.0, 0.0, 0.0, 0.0, 0.0, 0.0, 0.0], [0.5595441460609436, 0.4404558539390564, 0.0, 0.0, 0.0, 0.0, 0.0, 0.0, 0.0, 0.0, 0.0, 0.0, 0.0, 0.0, 0.0, 0.0, 0.0, 0.0, 0.0, 0.0, 0.0, 0.0, 0.0, 0.0, 0.0, 0.0, 0.0, 0.0, 0.0, 0.0, 0.0, 0.0, 0.0, 0.0, 0.0, 0.0, 0.0, 0.0, 0.0, 0.0, 0.0, 0.0, 0.0, 0.0, 0.0, 0.0, 0.0, 0.0, 0.0, 0.0, 0.0, 0.0, 0.0, 0.0, 0.0, 0.0, 0.0, 0.0, 0.0, 0.0, 0.0, 0.0, 0.0, 0.0, 0.0], [0.0915614515542984, 0.13550443947315216, 0.7729341387748718, 0.0, 0.0, 0.0, 0.0, 0.0, 0.0, 0.0, 0.0, 0.0, 0.0, 0.0, 0.0, 0.0, 0.0, 0.0, 0.0, 0.0, 0.0, 0.0, 0.0, 0.0, 0.0, 0.0, 0.0, 0.0, 0.0, 0.0, 0.0, 0.0, 0.0, 0.0, 0.0, 0.0, 0.0, 0.0, 0.0, 0.0, 0.0, 0.0, 0.0, 0.0, 0.0, 0.0, 0.0, 0.0, 0.0, 0.0, 0.0, 0.0, 0.0, 0.0, 0.0, 0.0, 0.0, 0.0, 0.0, 0.0, 0.0, 0.0, 0.0, 0.0, 0.0], [0.08193596452474594, 0.16410665214061737, 0.6812114119529724, 0.07274604588747025, 0.0, 0.0, 0.0, 0.0, 0.0, 0.0, 0.0, 0.0, 0.0, 0.0, 0.0, 0.0, 0.0, 0.0, 0.0, 0.0, 0.0, 0.0, 0.0, 0.0, 0.0, 0.0, 0.0, 0.0, 0.0, 0.0, 0.0, 0.0, 0.0, 0.0, 0.0, 0.0, 0.0, 0.0, 0.0, 0.0, 0.0, 0.0, 0.0, 0.0, 0.0, 0.0, 0.0, 0.0, 0.0, 0.0, 0.0, 0.0, 0.0, 0.0, 0.0, 0.0, 0.0, 0.0, 0.0, 0.0, 0.0, 0.0, 0.0, 0.0, 0.0], [0.06888298690319061, 0.1820099949836731, 0.05928650125861168, 0.46560201048851013, 0.22421856224536896, 0.0, 0.0, 0.0, 0.0, 0.0, 0.0, 0.0, 0.0, 0.0, 0.0, 0.0, 0.0, 0.0, 0.0, 0.0, 0.0, 0.0, 0.0, 0.0, 0.0, 0.0, 0.0, 0.0, 0.0, 0.0, 0.0, 0.0, 0.0, 0.0, 0.0, 0.0, 0.0, 0.0, 0.0, 0.0, 0.0, 0.0, 0.0, 0.0, 0.0, 0.0, 0.0, 0.0, 0.0, 0.0, 0.0, 0.0, 0.0, 0.0, 0.0, 0.0, 0.0, 0.0, 0.0, 0.0, 0.0, 0.0, 0.0, 0.0, 0.0], [0.02038303017616272, 0.05099260434508324, 0.5482352375984192, 0.03298921510577202, 0.05704260244965553, 0.2903573215007782, 0.0, 0.0, 0.0, 0.0, 0.0, 0.0, 0.0, 0.0, 0.0, 0.0, 0.0, 0.0, 0.0, 0.0, 0.0, 0.0, 0.0, 0.0, 0.0, 0.0, 0.0, 0.0, 0.0, 0.0, 0.0, 0.0, 0.0, 0.0, 0.0, 0.0, 0.0, 0.0, 0.0, 0.0, 0.0, 0.0, 0.0, 0.0, 0.0, 0.0, 0.0, 0.0, 0.0, 0.0, 0.0, 0.0, 0.0, 0.0, 0.0, 0.0, 0.0, 0.0, 0.0, 0.0, 0.0, 0.0, 0.0, 0.0, 0.0], [0.041843172162771225, 0.054859209805727005, 0.4603549540042877, 0.03812384977936745, 0.061930134892463684, 0.2831760346889496, 0.05971276015043259, 0.0, 0.0, 0.0, 0.0, 0.0, 0.0, 0.0, 0.0, 0.0, 0.0, 0.0, 0.0, 0.0, 0.0, 0.0, 0.0, 0.0, 0.0, 0.0, 0.0, 0.0, 0.0, 0.0, 0.0, 0.0, 0.0, 0.0, 0.0, 0.0, 0.0, 0.0, 0.0, 0.0, 0.0, 0.0, 0.0, 0.0, 0.0, 0.0, 0.0, 0.0, 0.0, 0.0, 0.0, 0.0, 0.0, 0.0, 0.0, 0.0, 0.0, 0.0, 0.0, 0.0, 0.0, 0.0, 0.0, 0.0, 0.0], [0.03565272316336632, 0.17921827733516693, 0.03680342063307762, 0.030581006780266762, 0.13072097301483154, 0.025311211124062538, 0.34275251626968384, 0.21895983815193176, 0.0, 0.0, 0.0, 0.0, 0.0, 0.0, 0.0, 0.0, 0.0, 0.0, 0.0, 0.0, 0.0, 0.0, 0.0, 0.0, 0.0, 0.0, 0.0, 0.0, 0.0, 0.0, 0.0, 0.0, 0.0, 0.0, 0.0, 0.0, 0.0, 0.0, 0.0, 0.0, 0.0, 0.0, 0.0, 0.0, 0.0, 0.0, 0.0, 0.0, 0.0, 0.0, 0.0, 0.0, 0.0, 0.0, 0.0, 0.0, 0.0, 0.0, 0.0, 0.0, 0.0, 0.0, 0.0, 0.0, 0.0], [0.013599599711596966, 0.026050478219985962, 0.25616639852523804, 0.02569260261952877, 0.029575787484645844, 0.14622381329536438, 0.0949258953332901, 0.02951706014573574, 0.3782484531402588, 0.0, 0.0, 0.0, 0.0, 0.0, 0.0, 0.0, 0.0, 0.0, 0.0, 0.0, 0.0, 0.0, 0.0, 0.0, 0.0, 0.0, 0.0, 0.0, 0.0, 0.0, 0.0, 0.0, 0.0, 0.0, 0.0, 0.0, 0.0, 0.0, 0.0, 0.0, 0.0, 0.0, 0.0, 0.0, 0.0, 0.0, 0.0, 0.0, 0.0, 0.0, 0.0, 0.0, 0.0, 0.0, 0.0, 0.0, 0.0, 0.0, 0.0, 0.0, 0.0, 0.0, 0.0, 0.0, 0.0], [0.03238719329237938, 0.027203017845749855, 0.17407546937465668, 0.037614211440086365, 0.03429683297872543, 0.17032380402088165, 0.05304795503616333, 0.033358167856931686, 0.4256782829761505, 0.012014991603791714, 0.0, 0.0, 0.0, 0.0, 0.0, 0.0, 0.0, 0.0, 0.0, 0.0, 0.0, 0.0, 0.0, 0.0, 0.0, 0.0, 0.0, 0.0, 0.0, 0.0, 0.0, 0.0, 0.0, 0.0, 0.0, 0.0, 0.0, 0.0, 0.0, 0.0, 0.0, 0.0, 0.0, 0.0, 0.0, 0.0, 0.0, 0.0, 0.0, 0.0, 0.0, 0.0, 0.0, 0.0, 0.0, 0.0, 0.0, 0.0, 0.0, 0.0, 0.0, 0.0, 0.0, 0.0, 0.0], [0.021974695846438408, 0.13738946616649628, 0.038911398500204086, 0.02687341347336769, 0.1218632385134697, 0.02389087714254856, 0.02685275673866272, 0.08953788131475449, 0.010322601534426212, 0.3653894364833832, 0.1369941681623459, 0.0, 0.0, 0.0, 0.0, 0.0, 0.0, 0.0, 0.0, 0.0, 0.0, 0.0, 0.0, 0.0, 0.0, 0.0, 0.0, 0.0, 0.0, 0.0, 0.0, 0.0, 0.0, 0.0, 0.0, 0.0, 0.0, 0.0, 0.0, 0.0, 0.0, 0.0, 0.0, 0.0, 0.0, 0.0, 0.0, 0.0, 0.0, 0.0, 0.0, 0.0, 0.0, 0.0, 0.0, 0.0, 0.0, 0.0, 0.0, 0.0, 0.0, 0.0, 0.0, 0.0, 0.0], [0.032936908304691315, 0.03770941495895386, 0.1669216752052307, 0.028373446315526962, 0.049696777015924454, 0.08222199976444244, 0.08055013418197632, 0.04950999468564987, 0.3601599633693695, 0.014322791248559952, 0.05982302501797676, 0.03777392953634262, 0.0, 0.0, 0.0, 0.0, 0.0, 0.0, 0.0, 0.0, 0.0, 0.0, 0.0, 0.0, 0.0, 0.0, 0.0, 0.0, 0.0, 0.0, 0.0, 0.0, 0.0, 0.0, 0.0, 0.0, 0.0, 0.0, 0.0, 0.0, 0.0, 0.0, 0.0, 0.0, 0.0, 0.0, 0.0, 0.0, 0.0, 0.0, 0.0, 0.0, 0.0, 0.0, 0.0, 0.0, 0.0, 0.0, 0.0, 0.0, 0.0, 0.0, 0.0, 0.0, 0.0], [0.043933868408203125, 0.02941896952688694, 0.17739461362361908, 0.03673803061246872, 0.04550480097532272, 0.11445408314466476, 0.03272777795791626, 0.03010854870080948, 0.33603382110595703, 0.028949443250894547, 0.03603946790099144, 0.04990385100245476, 0.03879274055361748, 0.0, 0.0, 0.0, 0.0, 0.0, 0.0, 0.0, 0.0, 0.0, 0.0, 0.0, 0.0, 0.0, 0.0, 0.0, 0.0, 0.0, 0.0, 0.0, 0.0, 0.0, 0.0, 0.0, 0.0, 0.0, 0.0, 0.0, 0.0, 0.0, 0.0, 0.0, 0.0, 0.0, 0.0, 0.0, 0.0, 0.0, 0.0, 0.0, 0.0, 0.0, 0.0, 0.0, 0.0, 0.0, 0.0, 0.0, 0.0, 0.0, 0.0, 0.0, 0.0], [0.029148302972316742, 0.07282577455043793, 0.019996171817183495, 0.029298871755599976, 0.0846477597951889, 0.018341077491641045, 0.03064708411693573, 0.07073958963155746, 0.014429917559027672, 0.028146179392933846, 0.06435846537351608, 0.04348187521100044, 0.3960214853286743, 0.09791753441095352, 0.0, 0.0, 0.0, 0.0, 0.0, 0.0, 0.0, 0.0, 0.0, 0.0, 0.0, 0.0, 0.0, 0.0, 0.0, 0.0, 0.0, 0.0, 0.0, 0.0, 0.0, 0.0, 0.0, 0.0, 0.0, 0.0, 0.0, 0.0, 0.0, 0.0, 0.0, 0.0, 0.0, 0.0, 0.0, 0.0, 0.0, 0.0, 0.0, 0.0, 0.0, 0.0, 0.0, 0.0, 0.0, 0.0, 0.0, 0.0, 0.0, 0.0, 0.0], [0.017146790400147438, 0.03206230327486992, 0.15548491477966309, 0.011166543699800968, 0.0503837913274765, 0.06278620660305023, 0.07942797243595123, 0.04186549782752991, 0.3560352027416229, 0.010570207610726357, 0.04144599661231041, 0.03630241006612778, 0.004466018173843622, 0.06410937756299973, 0.036746833473443985, 0.0, 0.0, 0.0, 0.0, 0.0, 0.0, 0.0, 0.0, 0.0, 0.0, 0.0, 0.0, 0.0, 0.0, 0.0, 0.0, 0.0, 0.0, 0.0, 0.0, 0.0, 0.0, 0.0, 0.0, 0.0, 0.0, 0.0, 0.0, 0.0, 0.0, 0.0, 0.0, 0.0, 0.0, 0.0, 0.0, 0.0, 0.0, 0.0, 0.0, 0.0, 0.0, 0.0, 0.0, 0.0, 0.0, 0.0, 0.0, 0.0, 0.0], [0.06605608761310577, 0.0279887393116951, 0.12570543587207794, 0.024718033149838448, 0.037770409137010574, 0.09228550642728806, 0.038883667439222336, 0.028636792674660683, 0.3010166585445404, 0.024416165426373482, 0.039535801857709885, 0.035773493349552155, 0.03776181861758232, 0.042944613844156265, 0.04074651747941971, 0.035760343074798584, 0.0, 0.0, 0.0, 0.0, 0.0, 0.0, 0.0, 0.0, 0.0, 0.0, 0.0, 0.0, 0.0, 0.0, 0.0, 0.0, 0.0, 0.0, 0.0, 0.0, 0.0, 0.0, 0.0, 0.0, 0.0, 0.0, 0.0, 0.0, 0.0, 0.0, 0.0, 0.0, 0.0, 0.0, 0.0, 0.0, 0.0, 0.0, 0.0, 0.0, 0.0, 0.0, 0.0, 0.0, 0.0, 0.0, 0.0, 0.0, 0.0], [0.018918508663773537, 0.06955425441265106, 0.01402853149920702, 0.02088548243045807, 0.07184649258852005, 0.011577458120882511, 0.022554408758878708, 0.039343614131212234, 0.006733039394021034, 0.031197326257824898, 0.04135759547352791, 0.027873601764440536, 0.025226829573512077, 0.05779098719358444, 0.020814402028918266, 0.40513020753860474, 0.11516726762056351, 0.0, 0.0, 0.0, 0.0, 0.0, 0.0, 0.0, 0.0, 0.0, 0.0, 0.0, 0.0, 0.0, 0.0, 0.0, 0.0, 0.0, 0.0, 0.0, 0.0, 0.0, 0.0, 0.0, 0.0, 0.0, 0.0, 0.0, 0.0, 0.0, 0.0, 0.0, 0.0, 0.0, 0.0, 0.0, 0.0, 0.0, 0.0, 0.0, 0.0, 0.0, 0.0, 0.0, 0.0, 0.0, 0.0, 0.0, 0.0], [0.016493594273924828, 0.026459326967597008, 0.11100754141807556, 0.011106443591415882, 0.05354231223464012, 0.04775135591626167, 0.049222804605960846, 0.03567229583859444, 0.4283692538738251, 0.007074152119457722, 0.04044174775481224, 0.01697206310927868, 0.002497859764844179, 0.06852572411298752, 0.01588408090174198, 0.009497009217739105, 0.05122431740164757, 0.0082580940797925, 0.0, 0.0, 0.0, 0.0, 0.0, 0.0, 0.0, 0.0, 0.0, 0.0, 0.0, 0.0, 0.0, 0.0, 0.0, 0.0, 0.0, 0.0, 0.0, 0.0, 0.0, 0.0, 0.0, 0.0, 0.0, 0.0, 0.0, 0.0, 0.0, 0.0, 0.0, 0.0, 0.0, 0.0, 0.0, 0.0, 0.0, 0.0, 0.0, 0.0, 0.0, 0.0, 0.0, 0.0, 0.0, 0.0, 0.0], [0.06775737553834915, 0.02059033513069153, 0.09920891374349594, 0.03527458384633064, 0.028669198974967003, 0.1050809994339943, 0.031099731102585793, 0.030170803889632225, 0.3162967264652252, 0.021408474072813988, 0.026404233649373055, 0.035176657140254974, 0.017566388472914696, 0.0280494075268507, 0.03316449746489525, 0.013929945416748524, 0.02522207424044609, 0.029576949775218964, 0.03535275533795357, 0.0, 0.0, 0.0, 0.0, 0.0, 0.0, 0.0, 0.0, 0.0, 0.0, 0.0, 0.0, 0.0, 0.0, 0.0, 0.0, 0.0, 0.0, 0.0, 0.0, 0.0, 0.0, 0.0, 0.0, 0.0, 0.0, 0.0, 0.0, 0.0, 0.0, 0.0, 0.0, 0.0, 0.0, 0.0, 0.0, 0.0, 0.0, 0.0, 0.0, 0.0, 0.0, 0.0, 0.0, 0.0, 0.0], [0.030089987441897392, 0.0446043387055397, 0.008684390224516392, 0.016724592074751854, 0.05320826172828674, 0.00812937319278717, 0.01402260735630989, 0.03527316078543663, 0.007374645676463842, 0.020194990560412407, 0.02881552278995514, 0.016382373869419098, 0.016884492710232735, 0.050223663449287415, 0.014683627523481846, 0.016847070306539536, 0.051391325891017914, 0.013753430917859077, 0.4267641603946686, 0.12594790756702423, 0.0, 0.0, 0.0, 0.0, 0.0, 0.0, 0.0, 0.0, 0.0, 0.0, 0.0, 0.0, 0.0, 0.0, 0.0, 0.0, 0.0, 0.0, 0.0, 0.0, 0.0, 0.0, 0.0, 0.0, 0.0, 0.0, 0.0, 0.0, 0.0, 0.0, 0.0, 0.0, 0.0, 0.0, 0.0, 0.0, 0.0, 0.0, 0.0, 0.0, 0.0, 0.0, 0.0, 0.0, 0.0], [0.01777724176645279, 0.024726949632167816, 0.09603323042392731, 0.011577093042433262, 0.044076595455408096, 0.06790999323129654, 0.02918589487671852, 0.027909474447369576, 0.37356847524642944, 0.008802366442978382, 0.02956457994878292, 0.029371045529842377, 0.0042723603546619415, 0.04846275597810745, 0.027858877554535866, 0.010361311957240105, 0.03542822599411011, 0.016622379422187805, 0.022802654653787613, 0.045861873775720596, 0.02782660722732544, 0.0, 0.0, 0.0, 0.0, 0.0, 0.0, 0.0, 0.0, 0.0, 0.0, 0.0, 0.0, 0.0, 0.0, 0.0, 0.0, 0.0, 0.0, 0.0, 0.0, 0.0, 0.0, 0.0, 0.0, 0.0, 0.0, 0.0, 0.0, 0.0, 0.0, 0.0, 0.0, 0.0, 0.0, 0.0, 0.0, 0.0, 0.0, 0.0, 0.0, 0.0, 0.0, 0.0, 0.0], [0.05422753468155861, 0.022835489362478256, 0.10601451992988586, 0.02604377642273903, 0.029890788719058037, 0.06560168415307999, 0.019706634804606438, 0.026424380019307137, 0.33652669191360474, 0.016772998496890068, 0.022532621398568153, 0.01832214929163456, 0.031198101118206978, 0.03711116686463356, 0.019454162567853928, 0.02947458252310753, 0.02719126082956791, 0.01904577948153019, 0.02079770714044571, 0.030060740187764168, 0.026934942230582237, 0.013832377269864082, 0.0, 0.0, 0.0, 0.0, 0.0, 0.0, 0.0, 0.0, 0.0, 0.0, 0.0, 0.0, 0.0, 0.0, 0.0, 0.0, 0.0, 0.0, 0.0, 0.0, 0.0, 0.0, 0.0, 0.0, 0.0, 0.0, 0.0, 0.0, 0.0, 0.0, 0.0, 0.0, 0.0, 0.0, 0.0, 0.0, 0.0, 0.0, 0.0, 0.0, 0.0, 0.0, 0.0], [0.009510545060038567, 0.03952806442975998, 0.009604228660464287, 0.010445569641888142, 0.03686466068029404, 0.0074494946748018265, 0.01140339020639658, 0.04595690220594406, 0.003601259784772992, 0.01990199089050293, 0.036111559718847275, 0.03198631852865219, 0.02131829597055912, 0.05120318755507469, 0.017041243612766266, 0.026368582621216774, 0.03965473175048828, 0.01330642681568861, 0.03397476673126221, 0.06978568434715271, 0.01215230580419302, 0.3884528875350952, 0.06437794864177704, 0.0, 0.0, 0.0, 0.0, 0.0, 0.0, 0.0, 0.0, 0.0, 0.0, 0.0, 0.0, 0.0, 0.0, 0.0, 0.0, 0.0, 0.0, 0.0, 0.0, 0.0, 0.0, 0.0, 0.0, 0.0, 0.0, 0.0, 0.0, 0.0, 0.0, 0.0, 0.0, 0.0, 0.0, 0.0, 0.0, 0.0, 0.0, 0.0, 0.0, 0.0, 0.0], [0.01158855203539133, 0.01997240073978901, 0.11840315908193588, 0.00568534666672349, 0.031178580597043037, 0.05343015119433403, 0.0408470593392849, 0.02333345264196396, 0.3895205855369568, 0.005495485849678516, 0.02736722119152546, 0.023369012400507927, 0.0021236282773315907, 0.03956763073801994, 0.021361561492085457, 0.008445643819868565, 0.03474487364292145, 0.011564928106963634, 0.014353417791426182, 0.044182464480400085, 0.017417235299944878, 0.012962345033884048, 0.02097545750439167, 0.022109761834144592, 0.0, 0.0, 0.0, 0.0, 0.0, 0.0, 0.0, 0.0, 0.0, 0.0, 0.0, 0.0, 0.0, 0.0, 0.0, 0.0, 0.0, 0.0, 0.0, 0.0, 0.0, 0.0, 0.0, 0.0, 0.0, 0.0, 0.0, 0.0, 0.0, 0.0, 0.0, 0.0, 0.0, 0.0, 0.0, 0.0, 0.0, 0.0, 0.0, 0.0, 0.0], [0.04365077614784241, 0.023370668292045593, 0.11313919723033905, 0.03446018695831299, 0.02822813205420971, 0.08657945692539215, 0.0266283992677927, 0.024932248517870903, 0.250212162733078, 0.01625368557870388, 0.02538967877626419, 0.026108920574188232, 0.017829468473792076, 0.025516856461763382, 0.030041005462408066, 0.01967727206647396, 0.026651963591575623, 0.026974456384778023, 0.014848983846604824, 0.025141673162579536, 0.03202338144183159, 0.007835068739950657, 0.023573052138090134, 0.02595653384923935, 0.024976715445518494, 0.0, 0.0, 0.0, 0.0, 0.0, 0.0, 0.0, 0.0, 0.0, 0.0, 0.0, 0.0, 0.0, 0.0, 0.0, 0.0, 0.0, 0.0, 0.0, 0.0, 0.0, 0.0, 0.0, 0.0, 0.0, 0.0, 0.0, 0.0, 0.0, 0.0, 0.0, 0.0, 0.0, 0.0, 0.0, 0.0, 0.0, 0.0, 0.0, 0.0], [0.007568742148578167, 0.037861887365579605, 0.007718920707702637, 0.01922799088060856, 0.041827667504549026, 0.005961304530501366, 0.007818931713700294, 0.03164004907011986, 0.0024341982789337635, 0.013610447756946087, 0.026012010872364044, 0.018821565434336662, 0.01189403049647808, 0.03300882503390312, 0.011094639077782631, 0.05018020421266556, 0.04709460958838463, 0.010684667155146599, 0.022294241935014725, 0.04417835548520088, 0.009008754976093769, 0.025736279785633087, 0.033784445375204086, 0.01017523929476738, 0.38359174132347107, 0.08677025884389877, 0.0, 0.0, 0.0, 0.0, 0.0, 0.0, 0.0, 0.0, 0.0, 0.0, 0.0, 0.0, 0.0, 0.0, 0.0, 0.0, 0.0, 0.0, 0.0, 0.0, 0.0, 0.0, 0.0, 0.0, 0.0, 0.0, 0.0, 0.0, 0.0, 0.0, 0.0, 0.0, 0.0, 0.0, 0.0, 0.0, 0.0, 0.0, 0.0], [0.01494141947478056, 0.01874103769659996, 0.1039053201675415, 0.010154666379094124, 0.0335373617708683, 0.044573210179805756, 0.03293658792972565, 0.018177932128310204, 0.40402406454086304, 0.006888747215270996, 0.025032227858901024, 0.014973349869251251, 0.00207591918297112, 0.040212471038103104, 0.014782587997615337, 0.00965669471770525, 0.032115548849105835, 0.008274589665234089, 0.020073607563972473, 0.04331761226058006, 0.01495861355215311, 0.007072715554386377, 0.0179575365036726, 0.01600242406129837, 0.009218892082571983, 0.02197425812482834, 0.014420518651604652, 0.0, 0.0, 0.0, 0.0, 0.0, 0.0, 0.0, 0.0, 0.0, 0.0, 0.0, 0.0, 0.0, 0.0, 0.0, 0.0, 0.0, 0.0, 0.0, 0.0, 0.0, 0.0, 0.0, 0.0, 0.0, 0.0, 0.0, 0.0, 0.0, 0.0, 0.0, 0.0, 0.0, 0.0, 0.0, 0.0, 0.0, 0.0], [0.030654918402433395, 0.017325744032859802, 0.11719094216823578, 0.020326798781752586, 0.01944061927497387, 0.09219757467508316, 0.016247034072875977, 0.0162917822599411, 0.30910584330558777, 0.015287298709154129, 0.017891256138682365, 0.024869101122021675, 0.00781974010169506, 0.021095314994454384, 0.030475053936243057, 0.017091013491153717, 0.020262813195586205, 0.023883484303951263, 0.013222568668425083, 0.02169584296643734, 0.033943843096494675, 0.006941633764654398, 0.018131010234355927, 0.026036744937300682, 0.009392887353897095, 0.020123310387134552, 0.02486436255276203, 0.008191404864192009, 0.0, 0.0, 0.0, 0.0, 0.0, 0.0, 0.0, 0.0, 0.0, 0.0, 0.0, 0.0, 0.0, 0.0, 0.0, 0.0, 0.0, 0.0, 0.0, 0.0, 0.0, 0.0, 0.0, 0.0, 0.0, 0.0, 0.0, 0.0, 0.0, 0.0, 0.0, 0.0, 0.0, 0.0, 0.0, 0.0, 0.0], [0.007530546747148037, 0.030103521421551704, 0.006729907356202602, 0.011038178578019142, 0.020994070917367935, 0.006093870382755995, 0.006505461875349283, 0.022184299305081367, 0.002374454168602824, 0.020340409129858017, 0.020431999117136, 0.014195890165865421, 0.005519502330571413, 0.02510918490588665, 0.009602737613022327, 0.0255271065980196, 0.04297924041748047, 0.007303901016712189, 0.021096156910061836, 0.04485010355710983, 0.010429689660668373, 0.03131069242954254, 0.03508996590971947, 0.00931486301124096, 0.017879918217658997, 0.030495915561914444, 0.00978203397244215, 0.4134129583835602, 0.09177333116531372, 0.0, 0.0, 0.0, 0.0, 0.0, 0.0, 0.0, 0.0, 0.0, 0.0, 0.0, 0.0, 0.0, 0.0, 0.0, 0.0, 0.0, 0.0, 0.0, 0.0, 0.0, 0.0, 0.0, 0.0, 0.0, 0.0, 0.0, 0.0, 0.0, 0.0, 0.0, 0.0, 0.0, 0.0, 0.0, 0.0], [0.010738451965153217, 0.010535402223467827, 0.10218963772058487, 0.013899465091526508, 0.01740936189889908, 0.058955609798431396, 0.05389327555894852, 0.011111242696642876, 0.2940915822982788, 0.004393048118799925, 0.016047604382038116, 0.019921090453863144, 0.01106798741966486, 0.018267489969730377, 0.021507827565073967, 0.006087975110858679, 0.014772133901715279, 0.01582876779139042, 0.009944734163582325, 0.01578550599515438, 0.026172392070293427, 0.0040661669336259365, 0.009547987952828407, 0.020073724910616875, 0.003972828853875399, 0.011086196638643742, 0.02137126214802265, 0.0026417579501867294, 0.0073089031502604485, 0.16731061041355133, 0.0, 0.0, 0.0, 0.0, 0.0, 0.0, 0.0, 0.0, 0.0, 0.0, 0.0, 0.0, 0.0, 0.0, 0.0, 0.0, 0.0, 0.0, 0.0, 0.0, 0.0, 0.0, 0.0, 0.0, 0.0, 0.0, 0.0, 0.0, 0.0, 0.0, 0.0, 0.0, 0.0, 0.0, 0.0], [0.039683613926172256, 0.018082821741700172, 0.07988997548818588, 0.026207612827420235, 0.01800847426056862, 0.0920196995139122, 0.06291909515857697, 0.023952007293701172, 0.22804518043994904, 0.015551208518445492, 0.015638388693332672, 0.027491305023431778, 0.012551462277770042, 0.01622319594025612, 0.03412757068872452, 0.011041006073355675, 0.022677119821310043, 0.02532145008444786, 0.014752386137843132, 0.01366899348795414, 0.026706593111157417, 0.006268599536269903, 0.015475045889616013, 0.02432490512728691, 0.009640135802328587, 0.02004171535372734, 0.023015597835183144, 0.00748373894020915, 0.013064531609416008, 0.036193039268255234, 0.019933588802814484, 0.0, 0.0, 0.0, 0.0, 0.0, 0.0, 0.0, 0.0, 0.0, 0.0, 0.0, 0.0, 0.0, 0.0, 0.0, 0.0, 0.0, 0.0, 0.0, 0.0, 0.0, 0.0, 0.0, 0.0, 0.0, 0.0, 0.0, 0.0, 0.0, 0.0, 0.0, 0.0, 0.0, 0.0], [0.009471865370869637, 0.02697542868554592, 0.00457744998857379, 0.009770577773451805, 0.031964439898729324, 0.007585792802274227, 0.010022124275565147, 0.03813091665506363, 0.004022909794002771, 0.011991098523139954, 0.018166376277804375, 0.014818242751061916, 0.007869342342019081, 0.02514578402042389, 0.00882867630571127, 0.007236461155116558, 0.04002540558576584, 0.00685902452096343, 0.019322965294122696, 0.025479473173618317, 0.008210900239646435, 0.020911455154418945, 0.024149328470230103, 0.007655653171241283, 0.013179096393287182, 0.02587106265127659, 0.007560907397419214, 0.020975474268198013, 0.043546613305807114, 0.005847061984241009, 0.42931240797042847, 0.06451574712991714, 0.0, 0.0, 0.0, 0.0, 0.0, 0.0, 0.0, 0.0, 0.0, 0.0, 0.0, 0.0, 0.0, 0.0, 0.0, 0.0, 0.0, 0.0, 0.0, 0.0, 0.0, 0.0, 0.0, 0.0, 0.0, 0.0, 0.0, 0.0, 0.0, 0.0, 0.0, 0.0, 0.0], [0.009835576638579369, 0.014980738051235676, 0.08667298406362534, 0.009736527688801289, 0.025546621531248093, 0.050246529281139374, 0.03273668885231018, 0.019373048096895218, 0.3449699580669403, 0.004905965179204941, 0.020160844549536705, 0.01662706770002842, 0.0020252687390893698, 0.02835020236670971, 0.01699996180832386, 0.005677802488207817, 0.025738045573234558, 0.008694716729223728, 0.011485341936349869, 0.026959814131259918, 0.011741378344595432, 0.005225630942732096, 0.015622079372406006, 0.014421396888792515, 0.005959727335721254, 0.017367824912071228, 0.01203242875635624, 0.0009965727804228663, 0.00989570189267397, 0.107474684715271, 0.0078078946098685265, 0.020695818588137627, 0.009035168215632439, 0.0, 0.0, 0.0, 0.0, 0.0, 0.0, 0.0, 0.0, 0.0, 0.0, 0.0, 0.0, 0.0, 0.0, 0.0, 0.0, 0.0, 0.0, 0.0, 0.0, 0.0, 0.0, 0.0, 0.0, 0.0, 0.0, 0.0, 0.0, 0.0, 0.0, 0.0, 0.0], [0.06861107796430588, 0.019154740497469902, 0.05371251702308655, 0.037055134773254395, 0.023172708228230476, 0.07112964242696762, 0.021532569080591202, 0.02321658842265606, 0.2611423134803772, 0.013260550796985626, 0.021354995667934418, 0.013831578195095062, 0.016118960455060005, 0.025044886395335197, 0.01804165728390217, 0.0162169449031353, 0.02468203939497471, 0.014557279646396637, 0.021219437941908836, 0.01856054738163948, 0.01845015026628971, 0.009079196490347385, 0.022275196388363838, 0.014795787632465363, 0.0050504193641245365, 0.02038602903485298, 0.01088587287813425, 0.006577564403414726, 0.016182916238904, 0.02440432831645012, 0.014511829242110252, 0.026631135493516922, 0.011053401045501232, 0.018099967390298843, 0.0, 0.0, 0.0, 0.0, 0.0, 0.0, 0.0, 0.0, 0.0, 0.0, 0.0, 0.0, 0.0, 0.0, 0.0, 0.0, 0.0, 0.0, 0.0, 0.0, 0.0, 0.0, 0.0, 0.0, 0.0, 0.0, 0.0, 0.0, 0.0, 0.0, 0.0], [0.010446954518556595, 0.023666635155677795, 0.005540253594517708, 0.02266300469636917, 0.03730124607682228, 0.0051524401642382145, 0.0033147421199828386, 0.016741568222641945, 0.004010823089629412, 0.018607966601848602, 0.023334212601184845, 0.007271729409694672, 0.0093826400116086, 0.039355579763650894, 0.007015356793999672, 0.017094533890485764, 0.027133585885167122, 0.004738448187708855, 0.028047313913702965, 0.026266952976584435, 0.005351894069463015, 0.03359634429216385, 0.027682866901159286, 0.005279639270156622, 0.02161143347620964, 0.02012886293232441, 0.004421232733875513, 0.017750320956110954, 0.034863606095314026, 0.006956344936043024, 0.025436019524931908, 0.027262531220912933, 0.005143953952938318, 0.36266574263572693, 0.06476322561502457, 0.0, 0.0, 0.0, 0.0, 0.0, 0.0, 0.0, 0.0, 0.0, 0.0, 0.0, 0.0, 0.0, 0.0, 0.0, 0.0, 0.0, 0.0, 0.0, 0.0, 0.0, 0.0, 0.0, 0.0, 0.0, 0.0, 0.0, 0.0, 0.0, 0.0], [0.006196440663188696, 0.01453470066189766, 0.11992034316062927, 0.004355036653578281, 0.017952769994735718, 0.050094541162252426, 0.033474113792181015, 0.013547313399612904, 0.23542578518390656, 0.004688544198870659, 0.016607683151960373, 0.02265217714011669, 0.004075920209288597, 0.021730618551373482, 0.026457278057932854, 0.00779854878783226, 0.023543262854218483, 0.015535959973931313, 0.009254897944629192, 0.02361440472304821, 0.02105148322880268, 0.0052243731915950775, 0.014314813539385796, 0.022526580840349197, 0.00539826974272728, 0.014577126130461693, 0.024254022166132927, 0.006191024091094732, 0.010196784511208534, 0.10066390037536621, 0.0037934533320367336, 0.01378299668431282, 0.013391350395977497, 0.009035488590598106, 0.02351967617869377, 0.04061821475625038, 0.0, 0.0, 0.0, 0.0, 0.0, 0.0, 0.0, 0.0, 0.0, 0.0, 0.0, 0.0, 0.0, 0.0, 0.0, 0.0, 0.0, 0.0, 0.0, 0.0, 0.0, 0.0, 0.0, 0.0, 0.0, 0.0, 0.0, 0.0, 0.0], [0.04090026021003723, 0.02407185174524784, 0.018033230677247047, 0.02508590929210186, 0.022164320573210716, 0.011681130155920982, 0.02990332804620266, 0.030577940866351128, 0.018489398062229156, 0.033290937542915344, 0.02861136756837368, 0.01364605687558651, 0.026604270562529564, 0.029314275830984116, 0.01467724610120058, 0.2059469074010849, 0.02359878271818161, 0.018394915387034416, 0.01926966942846775, 0.01898065395653248, 0.010622690431773663, 0.023769408464431763, 0.03235151618719101, 0.019074423238635063, 0.025755764916539192, 0.04199960455298424, 0.009911401197314262, 0.012099784798920155, 0.02237825095653534, 0.01797020435333252, 0.010525667108595371, 0.019396044313907623, 0.013973990455269814, 0.010754154063761234, 0.018997449427843094, 0.013449217192828655, 0.04372791945934296, 0.0, 0.0, 0.0, 0.0, 0.0, 0.0, 0.0, 0.0, 0.0, 0.0, 0.0, 0.0, 0.0, 0.0, 0.0, 0.0, 0.0, 0.0, 0.0, 0.0, 0.0, 0.0, 0.0, 0.0, 0.0, 0.0, 0.0, 0.0], [0.005970452446490526, 0.02264687605202198, 0.00456296605989337, 0.009928430430591106, 0.028954405337572098, 0.0036611822433769703, 0.009612388908863068, 0.02786283567547798, 0.002346496330574155, 0.0063196271657943726, 0.017078757286071777, 0.009720217436552048, 0.011263429187238216, 0.02363799326121807, 0.006874275393784046, 0.01565217226743698, 0.03199319913983345, 0.005150943994522095, 0.010977805592119694, 0.022315606474876404, 0.004910232499241829, 0.036572687327861786, 0.02232624962925911, 0.004837452434003353, 0.028039345517754555, 0.030210891738533974, 0.005454180762171745, 0.025210922583937645, 0.029606260359287262, 0.0020686746574938297, 0.03550015389919281, 0.02038067765533924, 0.005620594602078199, 0.028867723420262337, 0.03233915939927101, 0.007587980013340712, 0.35650333762168884, 0.047433383762836456, 0.0, 0.0, 0.0, 0.0, 0.0, 0.0, 0.0, 0.0, 0.0, 0.0, 0.0, 0.0, 0.0, 0.0, 0.0, 0.0, 0.0, 0.0, 0.0, 0.0, 0.0, 0.0, 0.0, 0.0, 0.0, 0.0, 0.0], [0.007261680904775858, 0.0093297204002738, 0.02639004960656166, 0.0031501848716288805, 0.01804891601204872, 0.014363830909132957, 0.018007030710577965, 0.008197229355573654, 0.09651242941617966, 0.005934520158916712, 0.012619608081877232, 0.009055172093212605, 0.00488615408539772, 0.020181722939014435, 0.012291804887354374, 0.008467638865113258, 0.010868466459214687, 0.011144592426717281, 0.01913606934249401, 0.016199421137571335, 0.018153704702854156, 0.006238023284822702, 0.00818899367004633, 0.021687708795070648, 0.004154912196099758, 0.006446804851293564, 0.01788330264389515, 0.000453405809821561, 0.0048684533685445786, 0.46906518936157227, 0.005054387263953686, 0.012728252448141575, 0.010965205729007721, 0.011408389545977116, 0.016440561041235924, 0.027815798297524452, 0.0033267997205257416, 0.0056339590810239315, 0.01743992790579796, 0.0, 0.0, 0.0, 0.0, 0.0, 0.0, 0.0, 0.0, 0.0, 0.0, 0.0, 0.0, 0.0, 0.0, 0.0, 0.0, 0.0, 0.0, 0.0, 0.0, 0.0, 0.0, 0.0, 0.0, 0.0, 0.0], [0.12087839841842651, 0.01785302348434925, 0.019475098699331284, 0.07301805913448334, 0.02651260606944561, 0.015563759952783585, 0.02446591667830944, 0.027207836508750916, 0.03652266785502434, 0.026383690536022186, 0.0271796565502882, 0.009026815183460712, 0.016361374408006668, 0.032190825790166855, 0.006421064492315054, 0.016499128192663193, 0.02634446695446968, 0.006449986714869738, 0.03152584657073021, 0.03553303703665733, 0.01299238670617342, 0.02201729640364647, 0.024696767330169678, 0.006718412972986698, 0.015872573480010033, 0.023987658321857452, 0.00720926932990551, 0.011658101342618465, 0.06185835972428322, 0.010177619755268097, 0.028810221701860428, 0.037371061742305756, 0.007532541640102863, 0.024959053844213486, 0.024738455191254616, 0.012408718466758728, 0.009293066337704659, 0.022228868678212166, 0.009652060456573963, 0.03040424734354019, 0.0, 0.0, 0.0, 0.0, 0.0, 0.0, 0.0, 0.0, 0.0, 0.0, 0.0, 0.0, 0.0, 0.0, 0.0, 0.0, 0.0, 0.0, 0.0, 0.0, 0.0, 0.0, 0.0, 0.0, 0.0], [0.00834946520626545, 0.01350425835698843, 0.002489382866770029, 0.006253976374864578, 0.0221670214086771, 0.0013763952301815152, 0.003907671198248863, 0.02159273624420166, 0.0009533165139146149, 0.01039931084960699, 0.020851340144872665, 0.006361424922943115, 0.00947201531380415, 0.026783375069499016, 0.0037809128407388926, 0.011926092207431793, 0.01786939427256584, 0.003875357797369361, 0.07227872312068939, 0.031813379377126694, 0.004109752830117941, 0.025285884737968445, 0.01706281490623951, 0.004266491159796715, 0.023663310334086418, 0.015410808846354485, 0.0049200598150491714, 0.014071168377995491, 0.03455789387226105, 0.0057509588077664375, 0.02544339746236801, 0.02388259395956993, 0.005210319999605417, 0.03150735795497894, 0.02360055409371853, 0.00639900891110301, 0.018947606906294823, 0.01439528539776802, 0.009721584618091583, 0.3489058017730713, 0.046881817281246185, 0.0, 0.0, 0.0, 0.0, 0.0, 0.0, 0.0, 0.0, 0.0, 0.0, 0.0, 0.0, 0.0, 0.0, 0.0, 0.0, 0.0, 0.0, 0.0, 0.0, 0.0, 0.0, 0.0, 0.0], [0.03327453136444092, 0.0180624071508646, 0.007946093566715717, 0.019423585385084152, 0.02099461294710636, 0.0058255805633962154, 0.19346679747104645, 0.02163386531174183, 0.01420319452881813, 0.009056001901626587, 0.0324251614511013, 0.005222964566200972, 0.00802543293684721, 0.02478126436471939, 0.004017209634184837, 0.010466273874044418, 0.020367233082652092, 0.0039907111786305904, 0.017124522477388382, 0.027929404750466347, 0.0034706504084169865, 0.018636837601661682, 0.016766931861639023, 0.005873542279005051, 0.0315803624689579, 0.026859823614358902, 0.0040892804972827435, 0.004474007524549961, 0.020059404894709587, 0.011833337135612965, 0.01710730977356434, 0.01976385898888111, 0.005981604102998972, 0.019094765186309814, 0.02909962087869644, 0.008877058513462543, 0.1833011358976364, 0.020178161561489105, 0.005859558470547199, 0.010401598177850246, 0.022902630269527435, 0.015551705844700336, 0.0, 0.0, 0.0, 0.0, 0.0, 0.0, 0.0, 0.0, 0.0, 0.0, 0.0, 0.0, 0.0, 0.0, 0.0, 0.0, 0.0, 0.0, 0.0, 0.0, 0.0, 0.0, 0.0], [0.07947077602148056, 0.027423549443483353, 0.01466441247612238, 0.035300448536872864, 0.0276991855353117, 0.012723317369818687, 0.023488257080316544, 0.03000609576702118, 0.018733812496066093, 0.07036098837852478, 0.025294825434684753, 0.010194114409387112, 0.017491275444626808, 0.02803957648575306, 0.011080596596002579, 0.027244113385677338, 0.028493113815784454, 0.011834404431283474, 0.02489081211388111, 0.024422867223620415, 0.008214916102588177, 0.015762504190206528, 0.02489696815609932, 0.009958986192941666, 0.04134503751993179, 0.027766432613134384, 0.007646005135029554, 0.015709398314356804, 0.02487163059413433, 0.012373850680887699, 0.022745415568351746, 0.044327449053525925, 0.013657931238412857, 0.01874522492289543, 0.017274130135774612, 0.012936572544276714, 0.014845194295048714, 0.02712349221110344, 0.01211452390998602, 0.019660456106066704, 0.01949938014149666, 0.006159018259495497, 0.03350896015763283, 0.0, 0.0, 0.0, 0.0, 0.0, 0.0, 0.0, 0.0, 0.0, 0.0, 0.0, 0.0, 0.0, 0.0, 0.0, 0.0, 0.0, 0.0, 0.0, 0.0, 0.0, 0.0], [0.0077155521139502525, 0.014200818724930286, 0.0015874651726335287, 0.00631369324401021, 0.018816854804754257, 0.0016447319649159908, 0.0024522801395505667, 0.016035784035921097, 0.0010175911011174321, 0.004803534597158432, 0.015541037544608116, 0.0037280393298715353, 0.005392598919570446, 0.017813563346862793, 0.0019975074101239443, 0.011448043398559093, 0.020338300615549088, 0.0021079478319734335, 0.012322495691478252, 0.02338533103466034, 0.002348626498132944, 0.019594084471464157, 0.015356001444160938, 0.0024274077732115984, 0.02121821418404579, 0.017564302310347557, 0.0025675178039819, 0.0183121170848608, 0.022298526018857956, 0.0016393382102251053, 0.02208184450864792, 0.017679955810308456, 0.00402539549395442, 0.02571704611182213, 0.021890677511692047, 0.004559626802802086, 0.02153654582798481, 0.016805926337838173, 0.00509124668315053, 0.03519539535045624, 0.0267086960375309, 0.0132654570043087, 0.4168681502342224, 0.05658474937081337, 0.0, 0.0, 0.0, 0.0, 0.0, 0.0, 0.0, 0.0, 0.0, 0.0, 0.0, 0.0, 0.0, 0.0, 0.0, 0.0, 0.0, 0.0, 0.0, 0.0, 0.0], [0.04005402699112892, 0.028780832886695862, 0.010292964987456799, 0.02931581810116768, 0.03612341359257698, 0.007154372520744801, 0.022838996723294258, 0.03837870433926582, 0.012714852578938007, 0.024458153173327446, 0.026521848514676094, 0.007053168024867773, 0.02890322357416153, 0.02969331294298172, 0.006269038189202547, 0.02302088774740696, 0.026974691078066826, 0.006363336928188801, 0.013996644876897335, 0.03171470761299133, 0.006116305477917194, 0.0207231268286705, 0.04530259594321251, 0.006028804462403059, 0.040131714195013046, 0.03776264935731888, 0.0054906997829675674, 0.01935386471450329, 0.03742758929729462, 0.0075647300109267235, 0.01738765835762024, 0.028364000841975212, 0.006887331604957581, 0.01403774693608284, 0.0217287577688694, 0.0107012540102005, 0.03460703790187836, 0.02882675640285015, 0.008993927389383316, 0.02058110572397709, 0.02719026431441307, 0.010341414250433445, 0.029940972104668617, 0.02558201178908348, 0.0383046418428421, 0.0, 0.0, 0.0, 0.0, 0.0, 0.0, 0.0, 0.0, 0.0, 0.0, 0.0, 0.0, 0.0, 0.0, 0.0, 0.0, 0.0, 0.0, 0.0, 0.0], [0.020778723061084747, 0.018050173297524452, 0.00942946132272482, 0.04395490139722824, 0.015927694737911224, 0.01071130484342575, 0.01461616437882185, 0.015395334921777248, 0.0054200999438762665, 0.02669060230255127, 0.020418742671608925, 0.00977453961968422, 0.20582643151283264, 0.01593700237572193, 0.008531492203474045, 0.01606724224984646, 0.014999470673501492, 0.011976459063589573, 0.009514930658042431, 0.010337214916944504, 0.008633652701973915, 0.013939222320914268, 0.017777051776647568, 0.0065157185308635235, 0.012965281493961811, 0.017744436860084534, 0.007423394825309515, 0.21321479976177216, 0.017752761021256447, 0.005489091854542494, 0.011838597245514393, 0.009838107973337173, 0.00907586794346571, 0.010351063683629036, 0.01133483462035656, 0.006995055358856916, 0.013675710186362267, 0.015720278024673462, 0.010069042444229126, 0.011445575393736362, 0.012536406517028809, 0.010302940383553505, 0.006991327274590731, 0.018024401739239693, 0.009203731082379818, 0.0067836204543709755, 0.0, 0.0, 0.0, 0.0, 0.0, 0.0, 0.0, 0.0, 0.0, 0.0, 0.0, 0.0, 0.0, 0.0, 0.0, 0.0, 0.0, 0.0, 0.0], [0.07207581400871277, 0.018453314900398254, 0.005694509483873844, 0.0691225603222847, 0.018084827810525894, 0.005250282119959593, 0.032878078520298004, 0.020152471959590912, 0.005671118386089802, 0.05925637111067772, 0.01656520925462246, 0.00551644479855895, 0.026475543156266212, 0.017073027789592743, 0.005535429809242487, 0.035365816205739975, 0.01447836123406887, 0.006907212547957897, 0.05606060475111008, 0.01725313626229763, 0.006003812421113253, 0.04819345846772194, 0.014578556641936302, 0.005833616014569998, 0.04027535021305084, 0.017922619357705116, 0.004737440962344408, 0.013816127553582191, 0.02336766943335533, 0.005607722792774439, 0.03149760887026787, 0.02036849968135357, 0.005988677032291889, 0.03054879978299141, 0.014090937562286854, 0.0059935832396149635, 0.027088291943073273, 0.015960954129695892, 0.006495424546301365, 0.02990339696407318, 0.022749977186322212, 0.0065871067345142365, 0.03207084536552429, 0.01856529340147972, 0.01059706136584282, 0.016459302976727486, 0.016827620565891266, 0.0, 0.0, 0.0, 0.0, 0.0, 0.0, 0.0, 0.0, 0.0, 0.0, 0.0, 0.0, 0.0, 0.0, 0.0, 0.0, 0.0, 0.0], [0.012396742589771748, 0.01856410503387451, 0.01261539850383997, 0.009257146157324314, 0.027976932004094124, 0.008020873181521893, 0.013738949783146381, 0.02749546617269516, 0.016170768067240715, 0.006308828946202993, 0.022748399525880814, 0.007088096346706152, 0.006998295430094004, 0.0296747088432312, 0.005195050500333309, 0.0068616378121078014, 0.02946394681930542, 0.004146969877183437, 0.010985678061842918, 0.03197607398033142, 0.005049370229244232, 0.008159986697137356, 0.022382419556379318, 0.00456529576331377, 0.010459265671670437, 0.025406114757061005, 0.0050509339198470116, 0.00788591243326664, 0.02606896497309208, 0.008574270643293858, 0.016971077769994736, 0.028346220031380653, 0.0055475845001637936, 0.010701802559196949, 0.028642740100622177, 0.011523278430104256, 0.021534092724323273, 0.029866700991988182, 0.00794533547013998, 0.02206587791442871, 0.03768985718488693, 0.021351266652345657, 0.021978946402668953, 0.028230322524905205, 0.062040962278842926, 0.16142921149730682, 0.047102149575948715, 0.005745986942201853, 0.0, 0.0, 0.0, 0.0, 0.0, 0.0, 0.0, 0.0, 0.0, 0.0, 0.0, 0.0, 0.0, 0.0, 0.0, 0.0, 0.0], [0.02046235464513302, 0.021552499383687973, 0.007624539081007242, 0.013330413028597832, 0.027259675785899162, 0.0036526373587548733, 0.009191548451781273, 0.02386513538658619, 0.009343314915895462, 0.011461304500699043, 0.022570854052901268, 0.0030128268990665674, 0.009316566400229931, 0.034029025584459305, 0.0021384262945502996, 0.010435140691697598, 0.022305725142359734, 0.0019146967679262161, 0.01481849979609251, 0.032600488513708115, 0.0020215592812746763, 0.012073973193764687, 0.021603967994451523, 0.0019954119343310595, 0.04272332414984703, 0.02523658238351345, 0.002220726106315851, 0.00816662423312664, 0.02498016692698002, 0.005688582081347704, 0.00867342110723257, 0.015234669670462608, 0.0023591185454279184, 0.016208218410611153, 0.023851459845900536, 0.00730129424482584, 0.01173448096960783, 0.018845129758119583, 0.0036414796486496925, 0.013487529940903187, 0.02654583379626274, 0.009962417185306549, 0.03955061361193657, 0.02479572966694832, 0.04842570051550865, 0.20796765387058258, 0.03162357583642006, 0.009418879635632038, 0.03277624025940895, 0.0, 0.0, 0.0, 0.0, 0.0, 0.0, 0.0, 0.0, 0.0, 0.0, 0.0, 0.0, 0.0, 0.0, 0.0, 0.0], [0.01376414019614458, 0.019243750721216202, 0.0066620903089642525, 0.010391563177108765, 0.026987191289663315, 0.0038671616930514574, 0.00785601232200861, 0.023015275597572327, 0.007350851781666279, 0.007288787048310041, 0.02191649191081524, 0.003548417938873172, 0.015879502519965172, 0.032786253839731216, 0.002304126974195242, 0.008721819147467613, 0.02505567856132984, 0.0022338649723678827, 0.0103546641767025, 0.030280975624918938, 0.002495640655979514, 0.010926764458417892, 0.02213611826300621, 0.0022049485705792904, 0.013702021911740303, 0.023193392902612686, 0.002642444334924221, 0.016874108463525772, 0.02353815920650959, 0.00491294963285327, 0.00989427138119936, 0.018081676214933395, 0.0029100854881107807, 0.010058640502393246, 0.023282868787646294, 0.007141358684748411, 0.01489289477467537, 0.021586252376437187, 0.00507406797260046, 0.01450965367257595, 0.030521737411618233, 0.01269854698330164, 0.023785652592778206, 0.02715093083679676, 0.05448247119784355, 0.20932532846927643, 0.03298491984605789, 0.0074334777891635895, 0.032923623919487, 0.03912638500332832, 0.0, 0.0, 0.0, 0.0, 0.0, 0.0, 0.0, 0.0, 0.0, 0.0, 0.0, 0.0, 0.0, 0.0, 0.0], [0.01637393981218338, 0.01313910260796547, 0.006976441480219364, 0.013280685991048813, 0.020925432443618774, 0.004351971670985222, 0.00785280205309391, 0.01770632527768612, 0.011249085888266563, 0.006201041396707296, 0.0165348332375288, 0.0029360123444348574, 0.00830029509961605, 0.02667095884680748, 0.0018710537115111947, 0.006734095048159361, 0.018940825015306473, 0.0016495080199092627, 0.009029938839375973, 0.025793494656682014, 0.0023417132906615734, 0.0072836559265851974, 0.017216242849826813, 0.0018654761370271444, 0.00800483301281929, 0.019128872081637383, 0.002011702861636877, 0.008335072547197342, 0.021369872614741325, 0.004842586815357208, 0.007577081676572561, 0.016758251935243607, 0.002160006668418646, 0.007467200979590416, 0.01778108812868595, 0.005799882113933563, 0.008652626536786556, 0.015900559723377228, 0.0038175301160663366, 0.009777971543371677, 0.02596213109791279, 0.008976408280432224, 0.010132716968655586, 0.019201358780264854, 0.047688957303762436, 0.33488133549690247, 0.030477112159132957, 0.00586278922855854, 0.021465428173542023, 0.032442785799503326, 0.0382988303899765, 0.0, 0.0, 0.0, 0.0, 0.0, 0.0, 0.0, 0.0, 0.0, 0.0, 0.0, 0.0, 0.0, 0.0], [0.016146186739206314, 0.014203567989170551, 0.040483321994543076, 0.007905112579464912, 0.0213136225938797, 0.014165380038321018, 0.024477962404489517, 0.018278587609529495, 0.12339988350868225, 0.005302742589265108, 0.022548289969563484, 0.004207872319966555, 0.00708667142316699, 0.03254619613289833, 0.003478528233245015, 0.005619480740278959, 0.020428422838449478, 0.002554604085162282, 0.0055985227227211, 0.02504231408238411, 0.003046083962544799, 0.0036811847239732742, 0.016254941001534462, 0.003136030398309231, 0.003796190256252885, 0.01836543343961239, 0.0027960422448813915, 0.002904497552663088, 0.011966949328780174, 0.02613511122763157, 0.0028845614288002253, 0.01413250993937254, 0.002372781280428171, 0.003101108828559518, 0.01792265474796295, 0.013247311115264893, 0.012797711417078972, 0.015108142979443073, 0.0037873433902859688, 0.0022323436569422483, 0.020879540592432022, 0.01622144505381584, 0.0022079250775277615, 0.009956213645637035, 0.05535609647631645, 0.17379841208457947, 0.03319844603538513, 0.003127445001155138, 0.014116089791059494, 0.031583741307258606, 0.01765523850917816, 0.02744324505329132, 0.0, 0.0, 0.0, 0.0, 0.0, 0.0, 0.0, 0.0, 0.0, 0.0, 0.0, 0.0, 0.0], [0.01754101924598217, 0.014080856926739216, 0.03629346564412117, 0.008438440971076488, 0.021184584125876427, 0.011126333847641945, 0.024831263348460197, 0.018039997667074203, 0.08974248170852661, 0.0068373833782970905, 0.023118985816836357, 0.00392878009006381, 0.007079032249748707, 0.03166574612259865, 0.0032727080397307873, 0.007604510057717562, 0.019143734127283096, 0.0025629589799791574, 0.004779419396072626, 0.02340160682797432, 0.002730931621044874, 0.004188773222267628, 0.01572529971599579, 0.0028316134121268988, 0.00539819709956646, 0.0185154527425766, 0.0026215920224785805, 0.0038537229411303997, 0.013215255923569202, 0.023223863914608955, 0.002350951312109828, 0.01181825716048479, 0.0023924526758491993, 0.003817786229774356, 0.01685769110918045, 0.011290089227259159, 0.013123510405421257, 0.015130367130041122, 0.003668898716568947, 0.002592350821942091, 0.019381368532776833, 0.015219157561659813, 0.0026049413718283176, 0.011306218802928925, 0.050340551882982254, 0.18317918479442596, 0.029408931732177734, 0.004040639381855726, 0.015325806103646755, 0.033165931701660156, 0.020397715270519257, 0.02600802294909954, 0.03960117697715759, 0.0, 0.0, 0.0, 0.0, 0.0, 0.0, 0.0, 0.0, 0.0, 0.0, 0.0, 0.0], [0.0158965103328228, 0.011892400681972504, 0.044002193957567215, 0.007690821308642626, 0.019670395180583, 0.012695765122771263, 0.021417444571852684, 0.014351162128150463, 0.12669984996318817, 0.005095395725220442, 0.021202802658081055, 0.0036917102988809347, 0.00655078561976552, 0.031579986214637756, 0.0030623977072536945, 0.005899770651012659, 0.01798313297331333, 0.002286965027451515, 0.004928558133542538, 0.021555103361606598, 0.0025437248405069113, 0.0035085459239780903, 0.012861225754022598, 0.0024479799903929234, 0.0043139043264091015, 0.014995332807302475, 0.0024993729311972857, 0.002214399864897132, 0.010007398203015327, 0.033803652971982956, 0.0017311247065663338, 0.009948586113750935, 0.0019506036769598722, 0.0035651293583214283, 0.016930697485804558, 0.01161691639572382, 0.009959472343325615, 0.01168481633067131, 0.003348207101225853, 0.0019831350073218346, 0.018528742715716362, 0.015065735206007957, 0.0013359934091567993, 0.007798029575496912, 0.05010353773832321, 0.1753079891204834, 0.027802899479866028, 0.0032739255111664534, 0.01230364479124546, 0.024078167974948883, 0.016339074820280075, 0.02203185111284256, 0.0362100787460804, 0.0297529473900795, 0.0, 0.0, 0.0, 0.0, 0.0, 0.0, 0.0, 0.0, 0.0, 0.0, 0.0], [0.007639412302523851, 0.010639676824212074, 0.033894654363393784, 0.004068894311785698, 0.016934458166360855, 0.00884273275732994, 0.016542302444577217, 0.013246741145849228, 0.07712006568908691, 0.003296557115390897, 0.01974928006529808, 0.00314530311152339, 0.004615753889083862, 0.027986418455839157, 0.0023321793414652348, 0.0037073399871587753, 0.01694454625248909, 0.0016326116165146232, 0.002760667121037841, 0.02027934603393078, 0.0018076481064781547, 0.002570139477029443, 0.012545965611934662, 0.0018411170458421111, 0.0026499738451093435, 0.012576218694448471, 0.0018582603661343455, 0.003082395764067769, 0.010796560905873775, 0.02177269198000431, 0.0015614588046446443, 0.009052789770066738, 0.0014952324563637376, 0.0027892959769815207, 0.01647810824215412, 0.009893650189042091, 0.010710612870752811, 0.012483920902013779, 0.0028710230253636837, 0.002029858995229006, 0.018251726403832436, 0.016182467341423035, 0.0016461036866530776, 0.00908101536333561, 0.057297490537166595, 0.20874671638011932, 0.02683061547577381, 0.0018552412511780858, 0.01383718941360712, 0.032574497163295746, 0.018457558006048203, 0.02573229745030403, 0.04492272436618805, 0.03229178488254547, 0.05604666471481323, 0.0, 0.0, 0.0, 0.0, 0.0, 0.0, 0.0, 0.0, 0.0, 0.0], [0.009681816212832928, 0.009068706072866917, 0.04212787374854088, 0.004122690297663212, 0.015754755586385727, 0.01039809174835682, 0.015738848596811295, 0.011787565425038338, 0.11962202191352844, 0.0039607021026313305, 0.018597358837723732, 0.00289972429163754, 0.0030358419753611088, 0.025219153612852097, 0.002371791284531355, 0.0033130720257759094, 0.014203356578946114, 0.0015560365281999111, 0.002307223156094551, 0.016762617975473404, 0.001831429312005639, 0.0020041593816131353, 0.010034674778580666, 0.0017778208712115884, 0.0023514481727033854, 0.01093378197401762, 0.0016421038890257478, 0.0016975346952676773, 0.009669958613812923, 0.025601400062441826, 0.0010717189870774746, 0.008662884123623371, 0.001354386331513524, 0.0023731952533125877, 0.014684307388961315, 0.009717663750052452, 0.00748567096889019, 0.011165289208292961, 0.002313361270353198, 0.0014428921276703477, 0.01491485070437193, 0.014527225866913795, 0.0011714609572663903, 0.006873816717416048, 0.04869677126407623, 0.2038244754076004, 0.02428426966071129, 0.0018205959349870682, 0.010071286000311375, 0.025062469765543938, 0.015705568715929985, 0.023243378847837448, 0.03935408964753151, 0.029298309236764908, 0.056938789784908295, 0.023867817595601082, 0.0, 0.0, 0.0, 0.0, 0.0, 0.0, 0.0, 0.0, 0.0], [0.007689815480262041, 0.008588760159909725, 0.04125519469380379, 0.003525544423609972, 0.013987869955599308, 0.009479189291596413, 0.01543506234884262, 0.01133719366043806, 0.1119978278875351, 0.002535660285502672, 0.014871098101139069, 0.0026437612250447273, 0.003291739383712411, 0.02228512428700924, 0.0019490091362968087, 0.0036644567735493183, 0.014476797543466091, 0.0012771915644407272, 0.0020579355768859386, 0.017003584653139114, 0.0016279409173876047, 0.0019585161935538054, 0.009141669608652592, 0.00138775201048702, 0.0022196758072823286, 0.010541672818362713, 0.0015111957909539342, 0.0017869708826765418, 0.00856282003223896, 0.02196463569998741, 0.001158582279458642, 0.007087220903486013, 0.0010675487574189901, 0.0015522289322689176, 0.012621147558093071, 0.008647310547530651, 0.008336593396961689, 0.00964902900159359, 0.0022542609367519617, 0.0013640823308378458, 0.01673898659646511, 0.013721858151257038, 0.0010473753791302443, 0.00622316962108016, 0.05242350697517395, 0.21561254560947418, 0.023768382146954536, 0.0013792747631669044, 0.00999799370765686, 0.024669913575053215, 0.013892504386603832, 0.0219863373786211, 0.039846260100603104, 0.029529700055718422, 0.05648551136255264, 0.022778859362006187, 0.026104208081960678, 0.0, 0.0, 0.0, 0.0, 0.0, 0.0, 0.0, 0.0], [0.0036906444001942873, 0.008206558413803577, 0.025492647662758827, 0.002284102374687791, 0.013088913634419441, 0.0055142734199762344, 0.016808344051241875, 0.01079130545258522, 0.05889839679002762, 0.0017114750808104873, 0.013108775950968266, 0.0020150619093328714, 0.0031201422680169344, 0.021597059443593025, 0.0012519543524831533, 0.0016332620289176702, 0.014181863516569138, 0.0007413659477606416, 0.0016009740065783262, 0.015402519144117832, 0.0009773691417649388, 0.001914480235427618, 0.008215785026550293, 0.0008924072026275098, 0.001428311807103455, 0.008552837185561657, 0.0011219852603971958, 0.001963653601706028, 0.0077831014059484005, 0.019179169088602066, 0.0014196699485182762, 0.005439112428575754, 0.0007573894690722227, 0.0017330346163362265, 0.013988723047077656, 0.00679597957059741, 0.01079499814659357, 0.009655086323618889, 0.001996733946725726, 0.001352878287434578, 0.015280007384717464, 0.013850817456841469, 0.000582078006118536, 0.004885294009000063, 0.07121137529611588, 0.2735983431339264, 0.022606084123253822, 0.0009440465364605188, 0.011130736209452152, 0.023019205778837204, 0.01486287172883749, 0.02100854367017746, 0.03995038568973541, 0.02741154469549656, 0.04674450308084488, 0.018035288900136948, 0.021381165832281113, 0.04639531299471855, 0.0, 0.0, 0.0, 0.0, 0.0, 0.0, 0.0], [0.0029496741481125355, 0.007643841672688723, 0.030937839299440384, 0.001995461992919445, 0.012074783444404602, 0.0071657318621873856, 0.01779196225106716, 0.010085705667734146, 0.07693611830472946, 0.0013537751510739326, 0.011923974379897118, 0.0022292216308414936, 0.0017498746747151017, 0.01821482926607132, 0.0016047939425334334, 0.001073562540113926, 0.013407698832452297, 0.0008203077595680952, 0.0015490446239709854, 0.013626495376229286, 0.0009992375271394849, 0.0012383507564663887, 0.0072395168244838715, 0.0009803002467378974, 0.001524631166830659, 0.008934634737670422, 0.001219778205268085, 0.0014615467516705394, 0.006762227043509483, 0.015068012289702892, 0.0012484292965382338, 0.005649389233440161, 0.0007808277732692659, 0.002171486848965287, 0.015284399501979351, 0.007435220759361982, 0.016126075759530067, 0.012192127294838428, 0.0019063834333792329, 0.0010287973564118147, 0.01398730743676424, 0.017392698675394058, 0.0006168214604258537, 0.00460808677598834, 0.06518039107322693, 0.22094473242759705, 0.024127811193466187, 0.0007493745069950819, 0.01044353935867548, 0.023538852110505104, 0.01252233237028122, 0.02417360059916973, 0.04022330045700073, 0.02879059687256813, 0.05352639779448509, 0.019325388595461845, 0.02104693464934826, 0.05022156611084938, 0.024194257333874702, 0.0, 0.0, 0.0, 0.0, 0.0, 0.0], [0.001858605188317597, 0.0071055893786251545, 0.026387246325612068, 0.0012818806571885943, 0.01129269041121006, 0.006019498221576214, 0.012011292390525341, 0.008365564979612827, 0.06740806251764297, 0.0010183262638747692, 0.01040986180305481, 0.0020471729803830385, 0.0012819393305107951, 0.017908019945025444, 0.0013358240248635411, 0.0009659638744778931, 0.012856695801019669, 0.0006466313498094678, 0.0014760596677660942, 0.015120058320462704, 0.0009186542010866106, 0.0016190108144655824, 0.006764418911188841, 0.0009264095569960773, 0.0011397423222661018, 0.006954827345907688, 0.0012510358355939388, 0.001126814167946577, 0.005763537250459194, 0.018356505781412125, 0.001002848381176591, 0.0045663840137422085, 0.0006922366446815431, 0.0019500802736729383, 0.015021545812487602, 0.007469955366104841, 0.010731013491749763, 0.009201941080391407, 0.0018628251273185015, 0.0007970877923071384, 0.01281367614865303, 0.015304199419915676, 0.0005531427450478077, 0.0039096493273973465, 0.07215709239244461, 0.2571686804294586, 0.022641055285930634, 0.000584424298722297, 0.008763154037296772, 0.02000412717461586, 0.01185643021017313, 0.02391941100358963, 0.03999676555395126, 0.02773558534681797, 0.053074873983860016, 0.018673980608582497, 0.021006647497415543, 0.04898501932621002, 0.02162192016839981, 0.01431632973253727, 0.0, 0.0, 0.0, 0.0, 0.0], [0.001760002109222114, 0.005775424651801586, 0.024527383968234062, 0.0013641308760270476, 0.009951943531632423, 0.005504403728991747, 0.011607094667851925, 0.0083394730463624, 0.06309687346220016, 0.0007776320562697947, 0.00828820001333952, 0.0020314978901296854, 0.0007684437441639602, 0.015362079255282879, 0.0012244298122823238, 0.0009173279977403581, 0.01194867491722107, 0.0005560008576139808, 0.0013444384094327688, 0.014222905971109867, 0.00082326092524454, 0.0016851782565936446, 0.005758762825280428, 0.0008257483714260161, 0.0013492177240550518, 0.00654583191499114, 0.001222982187755406, 0.0007055241730995476, 0.005142359063029289, 0.016639020293951035, 0.0010923797963187099, 0.004000363405793905, 0.000680608325637877, 0.001788381370715797, 0.013153872452676296, 0.0067798905074596405, 0.008997580036520958, 0.008103600703179836, 0.001706338138319552, 0.0009247855050489306, 0.011869488283991814, 0.013223454356193542, 0.0006826536846347153, 0.0039928872138261795, 0.0650017261505127, 0.2988094091415405, 0.02152791991829872, 0.0005226919893175364, 0.009055805392563343, 0.02039533481001854, 0.011021156795322895, 0.02370813861489296, 0.03841209411621094, 0.02677990309894085, 0.04979659244418144, 0.019129861146211624, 0.02106497995555401, 0.04775918647646904, 0.0209580697119236, 0.013214601203799248, 0.005779947154223919, 0.0, 0.0, 0.0, 0.0], [0.0017516559455543756, 0.006375573575496674, 0.02967938780784607, 0.0011656887363642454, 0.010069211944937706, 0.006347645074129105, 0.012646476738154888, 0.007873428985476494, 0.08631321787834167, 0.0006709172739647329, 0.007672347128391266, 0.001751502277329564, 0.0011599671561270952, 0.014947972260415554, 0.001157869934104383, 0.0011375509202480316, 0.01210275199264288, 0.0005627296632155776, 0.0010924101807177067, 0.011558908969163895, 0.0007971352897584438, 0.00097407161956653, 0.0056977844797074795, 0.00076276995241642, 0.0008846426499076188, 0.00725935772061348, 0.0009968762751668692, 0.0010208621388301253, 0.004592917859554291, 0.015940144658088684, 0.0009417254477739334, 0.0037194176111370325, 0.000562824890948832, 0.0013760278234258294, 0.012930074706673622, 0.006525853183120489, 0.012755216099321842, 0.008859580382704735, 0.0016869971295818686, 0.0006448072963394225, 0.011918236501514912, 0.01656189002096653, 0.00035607381141744554, 0.0034111281856894493, 0.06684452295303345, 0.24318894743919373, 0.021115053445100784, 0.00048055918887257576, 0.008568009361624718, 0.020648755133152008, 0.009393632411956787, 0.02331114001572132, 0.04026840627193451, 0.027554618194699287, 0.0539575032889843, 0.017733585089445114, 0.018686672672629356, 0.047584645450115204, 0.020136138424277306, 0.013129357248544693, 0.004981926176697016, 0.025202961638569832, 0.0, 0.0, 0.0], [0.0014841494848951697, 0.007090731989592314, 0.03766505420207977, 0.0016191608738154173, 0.00936358142644167, 0.010628832504153252, 0.014755483716726303, 0.008122309111058712, 0.07306800782680511, 0.0010489560663700104, 0.009972039610147476, 0.004063774365931749, 0.0010598567314445972, 0.014311042614281178, 0.0032683839090168476, 0.0014222570462152362, 0.012511249631643295, 0.001364099676720798, 0.0011503868736326694, 0.011955191381275654, 0.001737165730446577, 0.0017451884923502803, 0.007178389001637697, 0.0019532719161361456, 0.0015751878963783383, 0.008695482276380062, 0.002319056773558259, 0.0019225728465244174, 0.005949520505964756, 0.018147902563214302, 0.0011951804626733065, 0.0039635514840483665, 0.0013074199669063091, 0.002814078936353326, 0.015959501266479492, 0.010306737385690212, 0.02479822002351284, 0.012256460264325142, 0.003212234005331993, 0.0011752087157219648, 0.011257880367338657, 0.024683097377419472, 0.000763614138122648, 0.004656698554754257, 0.0610412172973156, 0.1239832267165184, 0.019758833572268486, 0.0007172417244873941, 0.00935018714517355, 0.02078455686569214, 0.010075072757899761, 0.030764110386371613, 0.04400810971856117, 0.03137170150876045, 0.05836775526404381, 0.023378675803542137, 0.0249197855591774, 0.05223551765084267, 0.025854017585515976, 0.017065441235899925, 0.00775523018091917, 0.03294532373547554, 0.010125821456313133, 0.0, 0.0], [0.002268508542329073, 0.004182279575616121, 0.07054702192544937, 0.0020108858589082956, 0.0036815295461565256, 0.03488769009709358, 0.021780433133244514, 0.003946137148886919, 0.21890436112880707, 0.001400104141794145, 0.004972543101757765, 0.007305010687559843, 0.0011693233391270041, 0.00486496789380908, 0.008481637574732304, 0.0015073259128257632, 0.005827617831528187, 0.004323053173720837, 0.0017954434733837843, 0.004839369095861912, 0.005808104295283556, 0.0010402140906080604, 0.003605331527069211, 0.006573720835149288, 0.0006009822827763855, 0.0038995291106402874, 0.006880580447614193, 0.002513100393116474, 0.0024084863252937794, 0.032706066966056824, 0.0009282802348025143, 0.002451512962579727, 0.003406740492209792, 0.00159661122597754, 0.005661317612975836, 0.01387991476804018, 0.007041308097541332, 0.004908874165266752, 0.00417849887162447, 0.00028408580692484975, 0.003169093281030655, 0.015121566131711006, 0.0001865992962848395, 0.0018074453109875321, 0.00847951415926218, 0.0066755833104252815, 0.005544005893170834, 0.0008746262756176293, 0.0024534109979867935, 0.00564572773873806, 0.00184574571903795, 0.012023618444800377, 0.013049591332674026, 0.013096206821501255, 0.02671210840344429, 0.01484269555658102, 0.01586446538567543, 0.04209338501095772, 0.043805114924907684, 0.03373674303293228, 0.020635465160012245, 0.05267314985394478, 0.03076297976076603, 0.10983263701200485, 0.0], [0.0016738749109208584, 0.0032143776770681143, 0.0740482434630394, 0.0016925258096307516, 0.003489202121272683, 0.03280771151185036, 0.011030919849872589, 0.00320830917917192, 0.2754935920238495, 0.0006769298925064504, 0.0031382283195853233, 0.005817122757434845, 0.0006867711781524122, 0.0039300029166042805, 0.006509425118565559, 0.0017875783378258348, 0.005625446792691946, 0.003187946043908596, 0.0012855934910476208, 0.004284053109586239, 0.005107436794787645, 0.0006019404390826821, 0.002612574025988579, 0.004668838810175657, 0.0006827614852227271, 0.003679837565869093, 0.005515462253242731, 0.0010272396029904485, 0.0015124925412237644, 0.03363813832402229, 0.0005481773405335844, 0.0019007116788998246, 0.0025923368521034718, 0.0008081456762738526, 0.004039410967379808, 0.011839616112411022, 0.004497617948800325, 0.0034498414024710655, 0.00375650473870337, 0.00020453750039450824, 0.003365013748407364, 0.011521548964083195, 0.0001485230604885146, 0.0013818071456626058, 0.008400806225836277, 0.009439300745725632, 0.006060821004211903, 0.0005843093385919929, 0.001908234553411603, 0.0048277778550982475, 0.0014460134552791715, 0.011328769847750664, 0.013874217867851257, 0.014214306138455868, 0.029952332377433777, 0.014757771976292133, 0.015587877482175827, 0.042196910828351974, 0.03784916177392006, 0.026181545108556747, 0.017307518050074577, 0.04318247362971306, 0.02716107852756977, 0.09212729334831238, 0.02892306260764599]]], \"headLabels\": [\"L0H0\"]}\n",
       "    )\n",
       "    </script>"
      ],
      "text/plain": [
       "<circuitsvis.utils.render.RenderedHTML at 0x32fad6d50>"
      ]
     },
     "metadata": {},
     "output_type": "display_data"
    }
   ],
   "source": [
    "bas_input_idx = map_input_idx_to_bas(input_idx_swap0)[:bas_max_seq_length-1]\n",
    "bas_input_str = [idx2tokens[i] for i in bas_input_idx]\n",
    "\n",
    "outputs, cache = baseline_model.run_with_cache(bas_input_idx[None])\n",
    "l0_attention_pattern_bas = cache['pattern', 0][0]\n",
    "\n",
    "print(\"Baseline L0 Head Attention Pattern:\")\n",
    "\n",
    "display(cv.attention.attention_patterns(\n",
    "    tokens=bas_input_str,\n",
    "    attention=l0_attention_pattern_bas,\n",
    "    attention_head_names=[f\"L0H{i}\" for i in range(1)],\n",
    "))"
   ]
  },
  {
   "cell_type": "code",
   "execution_count": null,
   "id": "b5738420-8263-4b0a-afe1-e45c577a77f4",
   "metadata": {},
   "outputs": [],
   "source": []
  },
  {
   "cell_type": "code",
   "execution_count": 52,
   "id": "e79a6479-9786-473e-abb6-7ba4853af937",
   "metadata": {},
   "outputs": [
    {
     "name": "stdout",
     "output_type": "stream",
     "text": [
      "Layer 1 Head Attention Pattern:\n"
     ]
    },
    {
     "data": {
      "text/html": [
       "<div id=\"circuits-vis-c927b9c9-3966\" style=\"margin: 15px 0;\"/>\n",
       "    <script crossorigin type=\"module\">\n",
       "    import { render, AttentionPatterns } from \"https://unpkg.com/circuitsvis@1.41.0/dist/cdn/esm.js\";\n",
       "    render(\n",
       "      \"circuits-vis-c927b9c9-3966\",\n",
       "      AttentionPatterns,\n",
       "      {\"tokens\": [\"12\", \">15\", \",\", \"7\", \">13\", \",\", \"2\", \">5\", \",\", \"12\", \">2\", \",\", \"4\", \">8\", \",\", \"6\", \">0\", \",\", \"14\", \">10\", \",\", \"9\", \">1\", \",\", \"15\", \">6\", \",\", \"4\", \">3\", \",\", \"8\", \">11\", \",\", \"8\", \">7\", \",\", \"2\", \">9\", \",\", \"5\", \">14\", \",\", \"15\", \">4\", \"|\", \"3\", \":\", \"12\", \">15\", \">4\", \">3\", \",\", \",\", \",\", \",\", \",\", \",\", \",\", \",\", \",\", \",\", \",\", \",\", \",\", \",\"], \"attention\": [[[1.0, 0.0, 0.0, 0.0, 0.0, 0.0, 0.0, 0.0, 0.0, 0.0, 0.0, 0.0, 0.0, 0.0, 0.0, 0.0, 0.0, 0.0, 0.0, 0.0, 0.0, 0.0, 0.0, 0.0, 0.0, 0.0, 0.0, 0.0, 0.0, 0.0, 0.0, 0.0, 0.0, 0.0, 0.0, 0.0, 0.0, 0.0, 0.0, 0.0, 0.0, 0.0, 0.0, 0.0, 0.0, 0.0, 0.0, 0.0, 0.0, 0.0, 0.0, 0.0, 0.0, 0.0, 0.0, 0.0, 0.0, 0.0, 0.0, 0.0, 0.0, 0.0, 0.0, 0.0, 0.0], [0.9961192607879639, 0.0038807569071650505, 0.0, 0.0, 0.0, 0.0, 0.0, 0.0, 0.0, 0.0, 0.0, 0.0, 0.0, 0.0, 0.0, 0.0, 0.0, 0.0, 0.0, 0.0, 0.0, 0.0, 0.0, 0.0, 0.0, 0.0, 0.0, 0.0, 0.0, 0.0, 0.0, 0.0, 0.0, 0.0, 0.0, 0.0, 0.0, 0.0, 0.0, 0.0, 0.0, 0.0, 0.0, 0.0, 0.0, 0.0, 0.0, 0.0, 0.0, 0.0, 0.0, 0.0, 0.0, 0.0, 0.0, 0.0, 0.0, 0.0, 0.0, 0.0, 0.0, 0.0, 0.0, 0.0, 0.0], [0.27550214529037476, 0.06923264265060425, 0.6552652716636658, 0.0, 0.0, 0.0, 0.0, 0.0, 0.0, 0.0, 0.0, 0.0, 0.0, 0.0, 0.0, 0.0, 0.0, 0.0, 0.0, 0.0, 0.0, 0.0, 0.0, 0.0, 0.0, 0.0, 0.0, 0.0, 0.0, 0.0, 0.0, 0.0, 0.0, 0.0, 0.0, 0.0, 0.0, 0.0, 0.0, 0.0, 0.0, 0.0, 0.0, 0.0, 0.0, 0.0, 0.0, 0.0, 0.0, 0.0, 0.0, 0.0, 0.0, 0.0, 0.0, 0.0, 0.0, 0.0, 0.0, 0.0, 0.0, 0.0, 0.0, 0.0, 0.0], [0.1846843808889389, 0.03478003293275833, 0.4508701264858246, 0.32966548204421997, 0.0, 0.0, 0.0, 0.0, 0.0, 0.0, 0.0, 0.0, 0.0, 0.0, 0.0, 0.0, 0.0, 0.0, 0.0, 0.0, 0.0, 0.0, 0.0, 0.0, 0.0, 0.0, 0.0, 0.0, 0.0, 0.0, 0.0, 0.0, 0.0, 0.0, 0.0, 0.0, 0.0, 0.0, 0.0, 0.0, 0.0, 0.0, 0.0, 0.0, 0.0, 0.0, 0.0, 0.0, 0.0, 0.0, 0.0, 0.0, 0.0, 0.0, 0.0, 0.0, 0.0, 0.0, 0.0, 0.0, 0.0, 0.0, 0.0, 0.0, 0.0], [0.04150727391242981, 0.0023497259244322777, 0.30543994903564453, 0.6505303978919983, 0.00017265019414480776, 0.0, 0.0, 0.0, 0.0, 0.0, 0.0, 0.0, 0.0, 0.0, 0.0, 0.0, 0.0, 0.0, 0.0, 0.0, 0.0, 0.0, 0.0, 0.0, 0.0, 0.0, 0.0, 0.0, 0.0, 0.0, 0.0, 0.0, 0.0, 0.0, 0.0, 0.0, 0.0, 0.0, 0.0, 0.0, 0.0, 0.0, 0.0, 0.0, 0.0, 0.0, 0.0, 0.0, 0.0, 0.0, 0.0, 0.0, 0.0, 0.0, 0.0, 0.0, 0.0, 0.0, 0.0, 0.0, 0.0, 0.0, 0.0, 0.0, 0.0], [0.13152065873146057, 0.026339691132307053, 0.32577672600746155, 0.24290232360363007, 0.012905895709991455, 0.26055464148521423, 0.0, 0.0, 0.0, 0.0, 0.0, 0.0, 0.0, 0.0, 0.0, 0.0, 0.0, 0.0, 0.0, 0.0, 0.0, 0.0, 0.0, 0.0, 0.0, 0.0, 0.0, 0.0, 0.0, 0.0, 0.0, 0.0, 0.0, 0.0, 0.0, 0.0, 0.0, 0.0, 0.0, 0.0, 0.0, 0.0, 0.0, 0.0, 0.0, 0.0, 0.0, 0.0, 0.0, 0.0, 0.0, 0.0, 0.0, 0.0, 0.0, 0.0, 0.0, 0.0, 0.0, 0.0, 0.0, 0.0, 0.0, 0.0, 0.0], [0.11901259422302246, 0.02443760447204113, 0.24913088977336884, 0.18464729189872742, 0.009991875849664211, 0.2027413696050644, 0.2100382298231125, 0.0, 0.0, 0.0, 0.0, 0.0, 0.0, 0.0, 0.0, 0.0, 0.0, 0.0, 0.0, 0.0, 0.0, 0.0, 0.0, 0.0, 0.0, 0.0, 0.0, 0.0, 0.0, 0.0, 0.0, 0.0, 0.0, 0.0, 0.0, 0.0, 0.0, 0.0, 0.0, 0.0, 0.0, 0.0, 0.0, 0.0, 0.0, 0.0, 0.0, 0.0, 0.0, 0.0, 0.0, 0.0, 0.0, 0.0, 0.0, 0.0, 0.0, 0.0, 0.0, 0.0, 0.0, 0.0, 0.0, 0.0, 0.0], [0.14437222480773926, 0.011504964902997017, 0.17614538967609406, 0.13293935358524323, 0.04553275555372238, 0.20513899624347687, 0.28432270884513855, 4.365823770058341e-05, 0.0, 0.0, 0.0, 0.0, 0.0, 0.0, 0.0, 0.0, 0.0, 0.0, 0.0, 0.0, 0.0, 0.0, 0.0, 0.0, 0.0, 0.0, 0.0, 0.0, 0.0, 0.0, 0.0, 0.0, 0.0, 0.0, 0.0, 0.0, 0.0, 0.0, 0.0, 0.0, 0.0, 0.0, 0.0, 0.0, 0.0, 0.0, 0.0, 0.0, 0.0, 0.0, 0.0, 0.0, 0.0, 0.0, 0.0, 0.0, 0.0, 0.0, 0.0, 0.0, 0.0, 0.0, 0.0, 0.0, 0.0], [0.12031956762075424, 0.031146103516221046, 0.179517462849617, 0.13942880928516388, 0.009964782744646072, 0.1536366492509842, 0.16221483051776886, 0.024277953431010246, 0.17949390411376953, 0.0, 0.0, 0.0, 0.0, 0.0, 0.0, 0.0, 0.0, 0.0, 0.0, 0.0, 0.0, 0.0, 0.0, 0.0, 0.0, 0.0, 0.0, 0.0, 0.0, 0.0, 0.0, 0.0, 0.0, 0.0, 0.0, 0.0, 0.0, 0.0, 0.0, 0.0, 0.0, 0.0, 0.0, 0.0, 0.0, 0.0, 0.0, 0.0, 0.0, 0.0, 0.0, 0.0, 0.0, 0.0, 0.0, 0.0, 0.0, 0.0, 0.0, 0.0, 0.0, 0.0, 0.0, 0.0, 0.0], [0.11094095557928085, 0.02227896638214588, 0.14742101728916168, 0.1161329448223114, 0.007350778207182884, 0.13011860847473145, 0.13800038397312164, 0.02781115658581257, 0.15422116219997406, 0.14572401344776154, 0.0, 0.0, 0.0, 0.0, 0.0, 0.0, 0.0, 0.0, 0.0, 0.0, 0.0, 0.0, 0.0, 0.0, 0.0, 0.0, 0.0, 0.0, 0.0, 0.0, 0.0, 0.0, 0.0, 0.0, 0.0, 0.0, 0.0, 0.0, 0.0, 0.0, 0.0, 0.0, 0.0, 0.0, 0.0, 0.0, 0.0, 0.0, 0.0, 0.0, 0.0, 0.0, 0.0, 0.0, 0.0, 0.0, 0.0, 0.0, 0.0, 0.0, 0.0, 0.0, 0.0, 0.0, 0.0], [0.047419365495443344, 0.0008304989896714687, 0.17956271767616272, 0.15010683238506317, 0.029367325827479362, 0.1771027147769928, 0.12261772900819778, 0.03172706812620163, 0.09977640956640244, 0.16071003675460815, 0.000779289985075593, 0.0, 0.0, 0.0, 0.0, 0.0, 0.0, 0.0, 0.0, 0.0, 0.0, 0.0, 0.0, 0.0, 0.0, 0.0, 0.0, 0.0, 0.0, 0.0, 0.0, 0.0, 0.0, 0.0, 0.0, 0.0, 0.0, 0.0, 0.0, 0.0, 0.0, 0.0, 0.0, 0.0, 0.0, 0.0, 0.0, 0.0, 0.0, 0.0, 0.0, 0.0, 0.0, 0.0, 0.0, 0.0, 0.0, 0.0, 0.0, 0.0, 0.0, 0.0, 0.0, 0.0, 0.0], [0.06995884329080582, 0.016657579690217972, 0.14525941014289856, 0.11039291322231293, 0.00849059596657753, 0.1169200912117958, 0.11842039972543716, 0.017691083252429962, 0.12454866617918015, 0.10752123594284058, 0.02372341975569725, 0.14041580259799957, 0.0, 0.0, 0.0, 0.0, 0.0, 0.0, 0.0, 0.0, 0.0, 0.0, 0.0, 0.0, 0.0, 0.0, 0.0, 0.0, 0.0, 0.0, 0.0, 0.0, 0.0, 0.0, 0.0, 0.0, 0.0, 0.0, 0.0, 0.0, 0.0, 0.0, 0.0, 0.0, 0.0, 0.0, 0.0, 0.0, 0.0, 0.0, 0.0, 0.0, 0.0, 0.0, 0.0, 0.0, 0.0, 0.0, 0.0, 0.0, 0.0, 0.0, 0.0, 0.0, 0.0], [0.08410686254501343, 0.024464407935738564, 0.10330183058977127, 0.08096694201231003, 0.008111345581710339, 0.08987318724393845, 0.09535224735736847, 0.02188366837799549, 0.10708027333021164, 0.10211309045553207, 0.044870875775814056, 0.11338543891906738, 0.12448979169130325, 0.0, 0.0, 0.0, 0.0, 0.0, 0.0, 0.0, 0.0, 0.0, 0.0, 0.0, 0.0, 0.0, 0.0, 0.0, 0.0, 0.0, 0.0, 0.0, 0.0, 0.0, 0.0, 0.0, 0.0, 0.0, 0.0, 0.0, 0.0, 0.0, 0.0, 0.0, 0.0, 0.0, 0.0, 0.0, 0.0, 0.0, 0.0, 0.0, 0.0, 0.0, 0.0, 0.0, 0.0, 0.0, 0.0, 0.0, 0.0, 0.0, 0.0, 0.0, 0.0], [0.06449956446886063, 0.006262890063226223, 0.11860330402851105, 0.0912400633096695, 0.0051343562081456184, 0.12019756436347961, 0.09701163321733475, 0.002143111312761903, 0.10110408067703247, 0.09886833280324936, 0.02298342064023018, 0.08537055552005768, 0.18648409843444824, 9.704232070362195e-05, 0.0, 0.0, 0.0, 0.0, 0.0, 0.0, 0.0, 0.0, 0.0, 0.0, 0.0, 0.0, 0.0, 0.0, 0.0, 0.0, 0.0, 0.0, 0.0, 0.0, 0.0, 0.0, 0.0, 0.0, 0.0, 0.0, 0.0, 0.0, 0.0, 0.0, 0.0, 0.0, 0.0, 0.0, 0.0, 0.0, 0.0, 0.0, 0.0, 0.0, 0.0, 0.0, 0.0, 0.0, 0.0, 0.0, 0.0, 0.0, 0.0, 0.0, 0.0], [0.05013110488653183, 0.008692622184753418, 0.12408469617366791, 0.09077930450439453, 0.006238993722945452, 0.0966206043958664, 0.09695597738027573, 0.010322471149265766, 0.10114594548940659, 0.08446193486452103, 0.014034105464816093, 0.11461619287729263, 0.10292849689722061, 0.00667609553784132, 0.09231138229370117, 0.0, 0.0, 0.0, 0.0, 0.0, 0.0, 0.0, 0.0, 0.0, 0.0, 0.0, 0.0, 0.0, 0.0, 0.0, 0.0, 0.0, 0.0, 0.0, 0.0, 0.0, 0.0, 0.0, 0.0, 0.0, 0.0, 0.0, 0.0, 0.0, 0.0, 0.0, 0.0, 0.0, 0.0, 0.0, 0.0, 0.0, 0.0, 0.0, 0.0, 0.0, 0.0, 0.0, 0.0, 0.0, 0.0, 0.0, 0.0, 0.0, 0.0], [0.07431626319885254, 0.023800212889909744, 0.08037841320037842, 0.06333337724208832, 0.007476629689335823, 0.07051782310009003, 0.07622864097356796, 0.01981852948665619, 0.0873066782951355, 0.08558008819818497, 0.04188814014196396, 0.08965256065130234, 0.10267098248004913, 0.009766648523509502, 0.06850863248109818, 0.09875642508268356, 0.0, 0.0, 0.0, 0.0, 0.0, 0.0, 0.0, 0.0, 0.0, 0.0, 0.0, 0.0, 0.0, 0.0, 0.0, 0.0, 0.0, 0.0, 0.0, 0.0, 0.0, 0.0, 0.0, 0.0, 0.0, 0.0, 0.0, 0.0, 0.0, 0.0, 0.0, 0.0, 0.0, 0.0, 0.0, 0.0, 0.0, 0.0, 0.0, 0.0, 0.0, 0.0, 0.0, 0.0, 0.0, 0.0, 0.0, 0.0, 0.0], [0.040317729115486145, 0.012196958065032959, 0.09387599676847458, 0.07105761021375656, 0.004716562107205391, 0.0809110552072525, 0.07242745161056519, 0.0032674409449100494, 0.07818673551082611, 0.058483440428972244, 0.0168940257281065, 0.07025102525949478, 0.06202053278684616, 0.005707070231437683, 0.08295302838087082, 0.24665798246860504, 7.526794070145115e-05, 0.0, 0.0, 0.0, 0.0, 0.0, 0.0, 0.0, 0.0, 0.0, 0.0, 0.0, 0.0, 0.0, 0.0, 0.0, 0.0, 0.0, 0.0, 0.0, 0.0, 0.0, 0.0, 0.0, 0.0, 0.0, 0.0, 0.0, 0.0, 0.0, 0.0, 0.0, 0.0, 0.0, 0.0, 0.0, 0.0, 0.0, 0.0, 0.0, 0.0, 0.0, 0.0, 0.0, 0.0, 0.0, 0.0, 0.0, 0.0], [0.046684060245752335, 0.00918821431696415, 0.09647604823112488, 0.07189120352268219, 0.005895589478313923, 0.07514358311891556, 0.07604977488517761, 0.012885069474577904, 0.08197186887264252, 0.0704701691865921, 0.014073963277041912, 0.089588962495327, 0.08579127490520477, 0.006642511580139399, 0.07253779470920563, 0.08082793653011322, 0.026596330106258392, 0.07728561758995056, 0.0, 0.0, 0.0, 0.0, 0.0, 0.0, 0.0, 0.0, 0.0, 0.0, 0.0, 0.0, 0.0, 0.0, 0.0, 0.0, 0.0, 0.0, 0.0, 0.0, 0.0, 0.0, 0.0, 0.0, 0.0, 0.0, 0.0, 0.0, 0.0, 0.0, 0.0, 0.0, 0.0, 0.0, 0.0, 0.0, 0.0, 0.0, 0.0, 0.0, 0.0, 0.0, 0.0, 0.0, 0.0, 0.0, 0.0], [0.06647592782974243, 0.024027163162827492, 0.0662548616528511, 0.05166233330965042, 0.006103303283452988, 0.058163367211818695, 0.061938393861055374, 0.026961931958794594, 0.07066363841295242, 0.07034966349601746, 0.041872959583997726, 0.07191852480173111, 0.08412430435419083, 0.008705344051122665, 0.05526229739189148, 0.0823952853679657, 0.022839030250906944, 0.0580759197473526, 0.07220572233200073, 0.0, 0.0, 0.0, 0.0, 0.0, 0.0, 0.0, 0.0, 0.0, 0.0, 0.0, 0.0, 0.0, 0.0, 0.0, 0.0, 0.0, 0.0, 0.0, 0.0, 0.0, 0.0, 0.0, 0.0, 0.0, 0.0, 0.0, 0.0, 0.0, 0.0, 0.0, 0.0, 0.0, 0.0, 0.0, 0.0, 0.0, 0.0, 0.0, 0.0, 0.0, 0.0, 0.0, 0.0, 0.0, 0.0], [0.043531130999326706, 0.0018657605396583676, 0.0425533652305603, 0.045587167143821716, 0.005885041318833828, 0.04585906118154526, 0.0536351352930069, 0.003809666493907571, 0.07421548664569855, 0.06829888373613358, 0.008669243194162846, 0.0837056115269661, 0.07798591256141663, 0.020286865532398224, 0.0700395405292511, 0.08641364425420761, 0.013222901150584221, 0.08527854830026627, 0.16876652836799622, 0.00039042282151058316, 0.0, 0.0, 0.0, 0.0, 0.0, 0.0, 0.0, 0.0, 0.0, 0.0, 0.0, 0.0, 0.0, 0.0, 0.0, 0.0, 0.0, 0.0, 0.0, 0.0, 0.0, 0.0, 0.0, 0.0, 0.0, 0.0, 0.0, 0.0, 0.0, 0.0, 0.0, 0.0, 0.0, 0.0, 0.0, 0.0, 0.0, 0.0, 0.0, 0.0, 0.0, 0.0, 0.0, 0.0, 0.0], [0.040020111948251724, 0.008388043381273746, 0.07899076491594315, 0.05887465924024582, 0.0045319427736103535, 0.06217961758375168, 0.06328942626714706, 0.009466257877647877, 0.0679774135351181, 0.058482442051172256, 0.014397150836884975, 0.07411440461874008, 0.0708060935139656, 0.005240384954959154, 0.059328872710466385, 0.0683724582195282, 0.02429286018013954, 0.06307544559240341, 0.06512442231178284, 0.03862430900335312, 0.06442292034626007, 0.0, 0.0, 0.0, 0.0, 0.0, 0.0, 0.0, 0.0, 0.0, 0.0, 0.0, 0.0, 0.0, 0.0, 0.0, 0.0, 0.0, 0.0, 0.0, 0.0, 0.0, 0.0, 0.0, 0.0, 0.0, 0.0, 0.0, 0.0, 0.0, 0.0, 0.0, 0.0, 0.0, 0.0, 0.0, 0.0, 0.0, 0.0, 0.0, 0.0, 0.0, 0.0, 0.0, 0.0], [0.055131930857896805, 0.022185204550623894, 0.05506031587719917, 0.04396438226103783, 0.005452634766697884, 0.04825935512781143, 0.051183126866817474, 0.019177138805389404, 0.059213653206825256, 0.05835710093379021, 0.034035421907901764, 0.05958237498998642, 0.07100589573383331, 0.007891852408647537, 0.045928098261356354, 0.06926911324262619, 0.019443444907665253, 0.04860321804881096, 0.06247667595744133, 0.042951297014951706, 0.050101567059755325, 0.07072626799345016, 0.0, 0.0, 0.0, 0.0, 0.0, 0.0, 0.0, 0.0, 0.0, 0.0, 0.0, 0.0, 0.0, 0.0, 0.0, 0.0, 0.0, 0.0, 0.0, 0.0, 0.0, 0.0, 0.0, 0.0, 0.0, 0.0, 0.0, 0.0, 0.0, 0.0, 0.0, 0.0, 0.0, 0.0, 0.0, 0.0, 0.0, 0.0, 0.0, 0.0, 0.0, 0.0, 0.0], [0.03156481683254242, 0.010621386580169201, 0.04910889267921448, 0.05422409623861313, 0.03193143382668495, 0.05621706694364548, 0.06887128949165344, 0.031199254095554352, 0.0523933582007885, 0.05106053128838539, 0.010373215191066265, 0.05453227832913399, 0.04666592553257942, 0.023232940584421158, 0.07206893712282181, 0.041292525827884674, 0.020982185378670692, 0.06793598085641861, 0.05510420352220535, 0.00470510171726346, 0.07515380531549454, 0.08963419497013092, 0.001126636634580791, 0.0, 0.0, 0.0, 0.0, 0.0, 0.0, 0.0, 0.0, 0.0, 0.0, 0.0, 0.0, 0.0, 0.0, 0.0, 0.0, 0.0, 0.0, 0.0, 0.0, 0.0, 0.0, 0.0, 0.0, 0.0, 0.0, 0.0, 0.0, 0.0, 0.0, 0.0, 0.0, 0.0, 0.0, 0.0, 0.0, 0.0, 0.0, 0.0, 0.0, 0.0, 0.0], [0.035466518253088, 0.0077671208418905735, 0.06675119698047638, 0.04992816597223282, 0.004019291140139103, 0.052095621824264526, 0.05300039052963257, 0.008641991764307022, 0.057668402791023254, 0.05058480426669121, 0.01248442567884922, 0.06181584671139717, 0.06086906045675278, 0.004521292168647051, 0.050128135830163956, 0.057260774075984955, 0.020853590220212936, 0.05341297760605812, 0.05617300048470497, 0.03904229775071144, 0.05446627736091614, 0.06263092160224915, 0.021543461829423904, 0.05887441337108612, 0.0, 0.0, 0.0, 0.0, 0.0, 0.0, 0.0, 0.0, 0.0, 0.0, 0.0, 0.0, 0.0, 0.0, 0.0, 0.0, 0.0, 0.0, 0.0, 0.0, 0.0, 0.0, 0.0, 0.0, 0.0, 0.0, 0.0, 0.0, 0.0, 0.0, 0.0, 0.0, 0.0, 0.0, 0.0, 0.0, 0.0, 0.0, 0.0, 0.0, 0.0], [0.049283407628536224, 0.014602230861783028, 0.045501451939344406, 0.0355827733874321, 0.008588841184973717, 0.039864033460617065, 0.04172366484999657, 0.022039569914340973, 0.04800127074122429, 0.05010474473237991, 0.03032989799976349, 0.04678903892636299, 0.056483760476112366, 0.008736849762499332, 0.03831295296549797, 0.05362161248922348, 0.022480353713035583, 0.039139341562986374, 0.04801665619015694, 0.044446032494306564, 0.04047711193561554, 0.05232052877545357, 0.07131269574165344, 0.042003653943538666, 0.0502375103533268, 0.0, 0.0, 0.0, 0.0, 0.0, 0.0, 0.0, 0.0, 0.0, 0.0, 0.0, 0.0, 0.0, 0.0, 0.0, 0.0, 0.0, 0.0, 0.0, 0.0, 0.0, 0.0, 0.0, 0.0, 0.0, 0.0, 0.0, 0.0, 0.0, 0.0, 0.0, 0.0, 0.0, 0.0, 0.0, 0.0, 0.0, 0.0, 0.0, 0.0], [0.0006405909080058336, 0.9714735746383667, 0.0009134450810961425, 0.0010788824874907732, 0.00016924193187151104, 0.0008354224264621735, 0.0010499380296096206, 0.0001276294788112864, 0.0010230968473479152, 0.001186814159154892, 5.068177779321559e-05, 0.0011618651915341616, 0.0009629399864934385, 0.00019076387980021536, 0.001326053636148572, 0.0008899065433070064, 0.00013803642650600523, 0.0016309564234688878, 0.0008915893849916756, 0.00022191488824319094, 0.0013919570483267307, 0.0017673836555331945, 5.5272601457545534e-05, 0.0015643262304365635, 0.009250154718756676, 7.677906978642568e-06, 0.0, 0.0, 0.0, 0.0, 0.0, 0.0, 0.0, 0.0, 0.0, 0.0, 0.0, 0.0, 0.0, 0.0, 0.0, 0.0, 0.0, 0.0, 0.0, 0.0, 0.0, 0.0, 0.0, 0.0, 0.0, 0.0, 0.0, 0.0, 0.0, 0.0, 0.0, 0.0, 0.0, 0.0, 0.0, 0.0, 0.0, 0.0, 0.0], [0.03184366598725319, 0.0076910401694476604, 0.05718578025698662, 0.04322012513875961, 0.0036828957963734865, 0.04483466595411301, 0.04578130692243576, 0.009046792052686214, 0.05005761235952377, 0.044084738940000534, 0.01127599272876978, 0.0531538724899292, 0.05305007845163345, 0.004259370267391205, 0.04306964948773384, 0.05035711079835892, 0.019101358950138092, 0.04584632068872452, 0.048788901418447495, 0.03623313829302788, 0.04692158102989197, 0.055146269500255585, 0.020049436017870903, 0.05081654340028763, 0.05766108259558678, 0.01592029258608818, 0.05092034488916397, 0.0, 0.0, 0.0, 0.0, 0.0, 0.0, 0.0, 0.0, 0.0, 0.0, 0.0, 0.0, 0.0, 0.0, 0.0, 0.0, 0.0, 0.0, 0.0, 0.0, 0.0, 0.0, 0.0, 0.0, 0.0, 0.0, 0.0, 0.0, 0.0, 0.0, 0.0, 0.0, 0.0, 0.0, 0.0, 0.0, 0.0, 0.0], [0.03933485597372055, 0.015832995995879173, 0.03560306131839752, 0.029678231105208397, 0.007831129245460033, 0.03179258108139038, 0.03326519951224327, 0.024042250588536263, 0.0377298966050148, 0.03868121653795242, 0.02447603829205036, 0.03715353086590767, 0.04281916469335556, 0.010400274768471718, 0.032410766929388046, 0.0436212420463562, 0.04402032122015953, 0.03273316100239754, 0.040170956403017044, 0.04181409999728203, 0.03344537317752838, 0.0441984124481678, 0.06536731123924255, 0.03387629613280296, 0.04310869798064232, 0.03364706039428711, 0.03411867097020149, 0.06882722675800323, 0.0, 0.0, 0.0, 0.0, 0.0, 0.0, 0.0, 0.0, 0.0, 0.0, 0.0, 0.0, 0.0, 0.0, 0.0, 0.0, 0.0, 0.0, 0.0, 0.0, 0.0, 0.0, 0.0, 0.0, 0.0, 0.0, 0.0, 0.0, 0.0, 0.0, 0.0, 0.0, 0.0, 0.0, 0.0, 0.0, 0.0], [0.024374650791287422, 0.0025825542397797108, 0.06061294302344322, 0.04620426893234253, 0.0021616111043840647, 0.059120625257492065, 0.049445174634456635, 0.00040655015618540347, 0.04863020032644272, 0.04363187029957771, 0.007122875656932592, 0.04089617356657982, 0.07229549437761307, 0.0002303274377482012, 0.030283769592642784, 0.02194342203438282, 0.003764428896829486, 0.033191144466400146, 0.03131512179970741, 0.004487641621381044, 0.03138367831707001, 0.02424430288374424, 0.003500129096210003, 0.036394037306308746, 0.016211720183491707, 0.0024847588501870632, 0.03275046497583389, 0.26996341347694397, 0.0003667208075057715, 0.0, 0.0, 0.0, 0.0, 0.0, 0.0, 0.0, 0.0, 0.0, 0.0, 0.0, 0.0, 0.0, 0.0, 0.0, 0.0, 0.0, 0.0, 0.0, 0.0, 0.0, 0.0, 0.0, 0.0, 0.0, 0.0, 0.0, 0.0, 0.0, 0.0, 0.0, 0.0, 0.0, 0.0, 0.0, 0.0], [0.03195082023739815, 0.009013717994093895, 0.04302346706390381, 0.03382781893014908, 0.003956733271479607, 0.03499681502580643, 0.03552111238241196, 0.014906266704201698, 0.03980113938450813, 0.0357758104801178, 0.014129618182778358, 0.040504198521375656, 0.043316733092069626, 0.005080417729914188, 0.03302929922938347, 0.042659830302000046, 0.02062387764453888, 0.034504491835832596, 0.04044366255402565, 0.0403653085231781, 0.03526988998055458, 0.044430915266275406, 0.0352279432117939, 0.03796477988362312, 0.044062137603759766, 0.02244642749428749, 0.03786267340183258, 0.07517176866531372, 0.02209044061601162, 0.04804183542728424, 0.0, 0.0, 0.0, 0.0, 0.0, 0.0, 0.0, 0.0, 0.0, 0.0, 0.0, 0.0, 0.0, 0.0, 0.0, 0.0, 0.0, 0.0, 0.0, 0.0, 0.0, 0.0, 0.0, 0.0, 0.0, 0.0, 0.0, 0.0, 0.0, 0.0, 0.0, 0.0, 0.0, 0.0, 0.0], [0.037101443856954575, 0.013708685524761677, 0.03625066950917244, 0.027754178270697594, 0.004608402960002422, 0.03057933785021305, 0.031381748616695404, 0.022746654227375984, 0.035216376185417175, 0.03587811812758446, 0.018657313659787178, 0.035177938640117645, 0.03992300108075142, 0.006226232275366783, 0.030604436993598938, 0.04090610891580582, 0.020418141037225723, 0.03089730441570282, 0.034902289509773254, 0.04354148358106613, 0.03159881383180618, 0.0416087806224823, 0.047526635229587555, 0.03207796439528465, 0.03844218701124191, 0.03196105360984802, 0.03230060636997223, 0.0667000412940979, 0.02439681813120842, 0.03940167650580406, 0.03750547766685486, 0.0, 0.0, 0.0, 0.0, 0.0, 0.0, 0.0, 0.0, 0.0, 0.0, 0.0, 0.0, 0.0, 0.0, 0.0, 0.0, 0.0, 0.0, 0.0, 0.0, 0.0, 0.0, 0.0, 0.0, 0.0, 0.0, 0.0, 0.0, 0.0, 0.0, 0.0, 0.0, 0.0, 0.0], [0.0007578967488370836, 0.0003520702011883259, 0.004812433384358883, 0.004355774726718664, 0.0003042530734091997, 0.004768382292240858, 0.00410834513604641, 0.0002001564862439409, 0.002855469938367605, 0.002161152195185423, 0.0003437851555645466, 0.004600487649440765, 0.001607706886716187, 0.9314464926719666, 0.005481841042637825, 0.002074342919513583, 0.00047679682029411197, 0.004689573775976896, 0.001720602042041719, 0.0001905990793602541, 0.004115344490855932, 0.0015463540330529213, 0.0007680894341319799, 0.004338511731475592, 0.0009666791302151978, 0.0005144414026290178, 0.0039427755400538445, 0.0013872113777324557, 0.00015730808081571013, 0.002576696453616023, 0.002316409721970558, 6.206025136634707e-05, 0.0, 0.0, 0.0, 0.0, 0.0, 0.0, 0.0, 0.0, 0.0, 0.0, 0.0, 0.0, 0.0, 0.0, 0.0, 0.0, 0.0, 0.0, 0.0, 0.0, 0.0, 0.0, 0.0, 0.0, 0.0, 0.0, 0.0, 0.0, 0.0, 0.0, 0.0, 0.0, 0.0], [0.027329547330737114, 0.0073331925086677074, 0.042013347148895264, 0.03238249942660332, 0.0032862117514014244, 0.032873671501874924, 0.03315970301628113, 0.010357595048844814, 0.03638449311256409, 0.03240269050002098, 0.012707372196018696, 0.03734229505062103, 0.038112953305244446, 0.0045013162307441235, 0.031091492623090744, 0.03695999085903168, 0.019617652520537376, 0.032314982265233994, 0.03487652167677879, 0.040911588817834854, 0.032944101840257645, 0.03891407698392868, 0.022375943139195442, 0.035634711384773254, 0.03806103393435478, 0.01953328214585781, 0.035599905997514725, 0.06465183198451996, 0.014372756704688072, 0.04447926580905914, 0.039905257523059845, 0.02528749778866768, 0.04228123649954796, 0.0, 0.0, 0.0, 0.0, 0.0, 0.0, 0.0, 0.0, 0.0, 0.0, 0.0, 0.0, 0.0, 0.0, 0.0, 0.0, 0.0, 0.0, 0.0, 0.0, 0.0, 0.0, 0.0, 0.0, 0.0, 0.0, 0.0, 0.0, 0.0, 0.0, 0.0, 0.0], [0.034745726734399796, 0.012101219967007637, 0.029296917840838432, 0.02234051190316677, 0.005485829897224903, 0.02549630030989647, 0.02641196735203266, 0.021212955936789513, 0.030064847320318222, 0.03305121883749962, 0.019010402262210846, 0.030604155734181404, 0.03644125908613205, 0.0050631314516067505, 0.025959543883800507, 0.036856140941381454, 0.014662539586424828, 0.026295294985175133, 0.03119560331106186, 0.0340101532638073, 0.027439266443252563, 0.0372810959815979, 0.05543850362300873, 0.02763810008764267, 0.035406243056058884, 0.03142819181084633, 0.027944767847657204, 0.06387527287006378, 0.026986608281731606, 0.034445296972990036, 0.036593224853277206, 0.031409475952386856, 0.03134012594819069, 0.032468054443597794, 0.0, 0.0, 0.0, 0.0, 0.0, 0.0, 0.0, 0.0, 0.0, 0.0, 0.0, 0.0, 0.0, 0.0, 0.0, 0.0, 0.0, 0.0, 0.0, 0.0, 0.0, 0.0, 0.0, 0.0, 0.0, 0.0, 0.0, 0.0, 0.0, 0.0, 0.0], [0.000982781290076673, 0.0005427876021713018, 0.007072641979902983, 0.004924328066408634, 0.000363744591595605, 0.006319478154182434, 0.005224746186286211, 0.00026099401293322444, 0.003461976069957018, 0.002368022920563817, 0.0004392699047457427, 0.005694561637938023, 0.0017961232224479318, 0.9090620279312134, 0.006589108146727085, 0.0026161030400544405, 0.00021916531841270626, 0.005695927422493696, 0.00183965009637177, 0.0003817788092419505, 0.0048279729671776295, 0.00185805419459939, 0.0015314490301534534, 0.005188684444874525, 0.001013867324218154, 0.0011109343031421304, 0.004664652515202761, 0.001409574644640088, 0.0003269459994044155, 0.002813809784129262, 0.001955681713297963, 0.000274309073574841, 0.00392987160012126, 0.003224764484912157, 1.4186271073413081e-05, 0.0, 0.0, 0.0, 0.0, 0.0, 0.0, 0.0, 0.0, 0.0, 0.0, 0.0, 0.0, 0.0, 0.0, 0.0, 0.0, 0.0, 0.0, 0.0, 0.0, 0.0, 0.0, 0.0, 0.0, 0.0, 0.0, 0.0, 0.0, 0.0, 0.0], [0.023535501211881638, 0.01078288909047842, 0.036519888788461685, 0.028161538764834404, 0.00667512696236372, 0.02815353497862816, 0.028142238035798073, 0.012460743077099323, 0.030438171699643135, 0.02753661945462227, 0.01106461975723505, 0.03212067484855652, 0.031392358243465424, 0.006816050037741661, 0.027704736217856407, 0.03075670450925827, 0.024867767468094826, 0.02880851738154888, 0.029525771737098694, 0.04962753877043724, 0.02922574244439602, 0.03254733979701996, 0.02888166904449463, 0.03170589357614517, 0.034652404487133026, 0.02238590642809868, 0.03162170201539993, 0.04958861693739891, 0.012837745249271393, 0.03943986818194389, 0.03533138707280159, 0.02709786780178547, 0.039215683937072754, 0.03038567118346691, 0.007651035208255053, 0.042340490967035294, 0.0, 0.0, 0.0, 0.0, 0.0, 0.0, 0.0, 0.0, 0.0, 0.0, 0.0, 0.0, 0.0, 0.0, 0.0, 0.0, 0.0, 0.0, 0.0, 0.0, 0.0, 0.0, 0.0, 0.0, 0.0, 0.0, 0.0, 0.0, 0.0], [0.0013050498673692346, 0.002095213858410716, 0.0011451109312474728, 0.0009548781672492623, 0.0003247559361625463, 0.0010700366692617536, 0.0010312459198758006, 0.0003729948657564819, 0.0011554748052731156, 0.0010484334779903293, 0.0011211573146283627, 0.0009947515791282058, 0.0010426141088828444, 0.0002198410511482507, 0.0011711842380464077, 0.003765503643080592, 4.142786929151043e-05, 0.0011513439239934087, 0.0010082273511216044, 0.000706799328327179, 0.0011286167427897453, 0.0009953328408300877, 0.00040476626600138843, 0.0010664653964340687, 0.0015177121385931969, 0.964158833026886, 0.0010435531148687005, 0.0010525118559598923, 0.0005665348726324737, 0.0008239913149736822, 0.0011439239606261253, 0.00045946406316943467, 0.0010119614889845252, 0.0011660075979307294, 0.00013528084673453122, 0.000879492552485317, 0.0007197090308181942, 0.0, 0.0, 0.0, 0.0, 0.0, 0.0, 0.0, 0.0, 0.0, 0.0, 0.0, 0.0, 0.0, 0.0, 0.0, 0.0, 0.0, 0.0, 0.0, 0.0, 0.0, 0.0, 0.0, 0.0, 0.0, 0.0, 0.0, 0.0], [0.0008649264927953482, 0.0001298982388107106, 0.001200073049403727, 0.0009108198573812842, 0.0002349017304368317, 0.0013849675888195634, 0.001810442074202001, 2.714408310566796e-06, 0.0014807982370257378, 0.0013200559187680483, 0.9679529070854187, 0.0018740693340077996, 0.001147159026004374, 0.00013555931218434125, 0.0011109276674687862, 0.0010191582841798663, 0.0005593387759290636, 0.001237093354575336, 0.0008494423236697912, 3.126272349618375e-05, 0.0011554639786481857, 0.0007822720799595118, 7.576131611131132e-05, 0.0012341103283688426, 0.0010296343825757504, 0.0002817068307194859, 0.0012401605490595102, 0.0015812588389962912, 0.0005857187206856906, 0.0010764450998976827, 0.0012038454879075289, 9.237045742338523e-05, 0.0010654577054083347, 0.0012027793563902378, 5.486062218551524e-05, 0.0009541550534777343, 0.0011270010145381093, 5.249539754004218e-07, 0.0, 0.0, 0.0, 0.0, 0.0, 0.0, 0.0, 0.0, 0.0, 0.0, 0.0, 0.0, 0.0, 0.0, 0.0, 0.0, 0.0, 0.0, 0.0, 0.0, 0.0, 0.0, 0.0, 0.0, 0.0, 0.0, 0.0], [0.0008858906803652644, 0.0010971311712637544, 0.002643937710672617, 0.0019202511757612228, 0.0004350373928900808, 0.0013645837316289544, 0.000995783368125558, 0.001969016855582595, 0.0010064252419397235, 0.0005895075155422091, 0.00027920593856833875, 0.0006432082154788077, 0.0007171797915361822, 0.0005751918070018291, 0.0008089561597444117, 0.0005088571924716234, 0.0020760095212608576, 0.0007639048271812499, 0.0006259683286771178, 0.9398990869522095, 0.0006709798472002149, 0.0005287028034217656, 0.0012094149133190513, 0.0008069950854405761, 0.00030665911617688835, 0.001445721136406064, 0.0007163831032812595, 0.0006937866564840078, 0.00034377779229544103, 0.0008923514978960156, 0.0002529963094275445, 0.0014478197554126382, 0.0008525103330612183, 0.00027974724071100354, 0.0014705655630677938, 0.001171957002952695, 0.00043296851799823344, 0.002204901771619916, 0.02446657232940197, 0.0, 0.0, 0.0, 0.0, 0.0, 0.0, 0.0, 0.0, 0.0, 0.0, 0.0, 0.0, 0.0, 0.0, 0.0, 0.0, 0.0, 0.0, 0.0, 0.0, 0.0, 0.0, 0.0, 0.0, 0.0, 0.0], [0.005742132198065519, 0.019289590418338776, 0.0029567352030426264, 0.003838926088064909, 0.02113509178161621, 0.003589269006624818, 0.0030248609837144613, 0.09659671038389206, 0.00269097532145679, 0.0040411329828202724, 0.006645580753684044, 0.003199013415724039, 0.002846222370862961, 0.13365380465984344, 0.004973628092557192, 0.003059915965422988, 0.16150131821632385, 0.0038710134103894234, 0.0028931659180670977, 0.016485808417201042, 0.003930885344743729, 0.0030801896937191486, 0.09025993198156357, 0.0033466084860265255, 0.0022483060602098703, 0.019678622484207153, 0.0034621928352862597, 0.0019887674134224653, 0.018927576020359993, 0.0032257798593491316, 0.0038593008648604155, 0.009391085244715214, 0.0028888126835227013, 0.004330697003751993, 0.22070594131946564, 0.0028782926965504885, 0.015161766670644283, 0.07586227357387543, 0.006358783226460218, 0.006379319354891777, 0.0, 0.0, 0.0, 0.0, 0.0, 0.0, 0.0, 0.0, 0.0, 0.0, 0.0, 0.0, 0.0, 0.0, 0.0, 0.0, 0.0, 0.0, 0.0, 0.0, 0.0, 0.0, 0.0, 0.0, 0.0], [0.0004045485402457416, 0.0002870681928470731, 0.0024274231400340796, 0.0024878238327801228, 0.0005170498043298721, 0.0026896942872554064, 0.0021336576901376247, 0.9628474116325378, 0.0011150689097121358, 0.0007747560157440603, 0.00016138027422130108, 0.0013554206816479564, 0.0007668311591260135, 0.0002908614987973124, 0.002057288307696581, 0.0007023673970252275, 0.00023527447774540633, 0.0016259667463600636, 0.0004914395394735038, 0.001164905377663672, 0.001737990416586399, 0.0007393246050924063, 0.000705368525814265, 0.0016695843078196049, 0.0004356195277068764, 0.0007079729693941772, 0.0014651379315182567, 0.0005797758931294084, 0.00010850068792933598, 0.0008433256880380213, 0.0004209323669783771, 0.0007574388291686773, 0.0009578540921211243, 0.0004509560822043568, 0.0006629308336414397, 0.0015103437472134829, 0.00017166310863103718, 0.001218937337398529, 0.00012428744230419397, 0.0001926917175296694, 3.0985495413915487e-06, 0.0, 0.0, 0.0, 0.0, 0.0, 0.0, 0.0, 0.0, 0.0, 0.0, 0.0, 0.0, 0.0, 0.0, 0.0, 0.0, 0.0, 0.0, 0.0, 0.0, 0.0, 0.0, 0.0, 0.0], [8.744349179323763e-05, 1.7580419807927683e-05, 4.159359014010988e-05, 3.338873648317531e-05, 2.1276428014971316e-05, 5.035522917751223e-05, 8.012887701625004e-05, 4.7448759232793236e-07, 6.704660336254165e-05, 6.78201686241664e-05, 0.9972391128540039, 9.299403609475121e-05, 6.440366269089282e-05, 7.563559847767465e-06, 4.680834535975009e-05, 5.2315681386971846e-05, 4.289632124709897e-05, 5.329707346390933e-05, 5.50442018720787e-05, 2.0374427549540997e-06, 5.421330570243299e-05, 6.63574319332838e-05, 1.4366863979375921e-05, 5.640787640004419e-05, 8.360556239495054e-05, 1.9082912331214175e-05, 5.996061008772813e-05, 0.0001056379551300779, 0.00010812597611220554, 6.807606405345723e-05, 8.432736649410799e-05, 2.233106533822138e-05, 6.768919411115348e-05, 6.835169915575534e-05, 5.934164164500544e-06, 6.948796362848952e-05, 0.00034990260610356927, 1.3940913277110667e-06, 2.5331599317723885e-05, 0.0003668492136057466, 1.5713545508333482e-05, 0.00016326410695910454, 0.0, 0.0, 0.0, 0.0, 0.0, 0.0, 0.0, 0.0, 0.0, 0.0, 0.0, 0.0, 0.0, 0.0, 0.0, 0.0, 0.0, 0.0, 0.0, 0.0, 0.0, 0.0, 0.0], [0.01210909616202116, 0.008644688874483109, 0.005807303357869387, 0.005941684823483229, 0.0661681592464447, 0.005858779884874821, 0.005304271355271339, 0.25007402896881104, 0.0053072706796228886, 0.010573361068964005, 0.0030975404661148787, 0.005951212253421545, 0.005805796943604946, 0.047310467809438705, 0.009296389296650887, 0.006370991002768278, 0.03376220911741257, 0.007470876909792423, 0.00473988289013505, 0.02535433880984783, 0.008087796159088612, 0.0052382079884409904, 0.02961595356464386, 0.006335126236081123, 0.0038320680614560843, 0.05830160155892372, 0.006989038083702326, 0.003429825883358717, 0.0020638613495975733, 0.0056271739304065704, 0.007435426581650972, 0.13435305655002594, 0.0051605054177343845, 0.006529528647661209, 0.06945677846670151, 0.004610377363860607, 0.014260370284318924, 0.03202340379357338, 0.006389805115759373, 0.0056259166449308395, 0.04077870398759842, 0.01128609199076891, 0.007621006574481726, 0.0, 0.0, 0.0, 0.0, 0.0, 0.0, 0.0, 0.0, 0.0, 0.0, 0.0, 0.0, 0.0, 0.0, 0.0, 0.0, 0.0, 0.0, 0.0, 0.0, 0.0, 0.0], [0.00041781121399253607, 0.9831978678703308, 0.00030391180189326406, 0.0003931868413928896, 0.00040074047865346074, 0.000306293077301234, 0.0003907246282324195, 9.762845002114773e-05, 0.00039816167554818094, 0.00048789283027872443, 0.0001505211548646912, 0.00039975816616788507, 0.00038814719300717115, 0.0002970172790810466, 0.0004768747021444142, 0.00040347332833334804, 0.0002311256539542228, 0.000571021402720362, 0.00040154578164219856, 0.0002605690388008952, 0.00048567098565399647, 0.0006699697114527225, 9.77583258645609e-05, 0.0005210461677052081, 0.003331561340019107, 2.5309191187261604e-05, 0.00046844923053868115, 0.00026529256138019264, 0.0001689341152086854, 0.0004847210366278887, 0.0003882315650116652, 7.081154035404325e-05, 0.0005562301375903189, 0.00032494126935489476, 0.0001476438919780776, 0.0004145014681853354, 0.00010998656216543168, 8.1283287727274e-05, 0.0005091589409857988, 0.00012483903265092522, 0.0002158062270609662, 0.00020839959324803203, 0.0003349783073645085, 2.009250601986423e-05, 0.0, 0.0, 0.0, 0.0, 0.0, 0.0, 0.0, 0.0, 0.0, 0.0, 0.0, 0.0, 0.0, 0.0, 0.0, 0.0, 0.0, 0.0, 0.0, 0.0, 0.0], [0.001510581118054688, 0.6866864562034607, 0.0005081942654214799, 0.000616016797721386, 0.014948120340704918, 0.0005093978252261877, 0.000534983177203685, 0.0882505401968956, 0.00045929852058179677, 0.0006603666115552187, 0.013554034754633904, 0.000501283269841224, 0.00043424670002423227, 0.016856955364346504, 0.0007787452777847648, 0.0005707308882847428, 0.014509890228509903, 0.000689080567099154, 0.00041971111204475164, 0.027645042166113853, 0.0006586938397958875, 0.0006659278296865523, 0.01844010502099991, 0.0006178842741064727, 0.0012082764878869057, 0.01491094846278429, 0.0005836241180077195, 0.0002882688131649047, 0.001842270721681416, 0.0006033008103258908, 0.0005384659161791205, 0.008677591569721699, 0.0006523087504319847, 0.00045488530304282904, 0.02315334416925907, 0.0006522695766761899, 0.004738985560834408, 0.020205026492476463, 0.006476887967437506, 0.0033962156157940626, 0.005854375660419464, 0.0036938313860446215, 0.0063727679662406445, 0.0015857863472774625, 0.003084359457716346, 0.0, 0.0, 0.0, 0.0, 0.0, 0.0, 0.0, 0.0, 0.0, 0.0, 0.0, 0.0, 0.0, 0.0, 0.0, 0.0, 0.0, 0.0, 0.0, 0.0], [0.0005529573536477983, 8.518810500390828e-05, 0.00038618146209046245, 0.00030117848655208945, 5.6324319302802905e-05, 0.00039778673090040684, 0.0003349649196024984, 3.9860125980339944e-05, 0.00038742771721445024, 0.00042202911572530866, 0.0009084798512049019, 0.00028598392964340746, 0.000744698743801564, 8.137264558172319e-06, 0.00018713923054747283, 0.0002296168968314305, 0.0001226057211169973, 0.0002019135863520205, 0.00030535151017829776, 0.0002805849362630397, 0.00019837716536130756, 0.00024200785264838487, 0.000269786745775491, 0.00022104711388237774, 0.00013799242151435465, 0.00017977962852455676, 0.00020584824960678816, 0.0036922614090144634, 8.645563502795994e-05, 0.00015248825366143137, 0.00014709754032082856, 4.714743045042269e-05, 0.0001352510298602283, 0.00023988031898625195, 5.472859993460588e-05, 0.00012284154945518821, 5.819876605528407e-05, 5.092133505968377e-05, 5.707136006094515e-05, 0.00014435728371609002, 2.1783884221804328e-05, 0.0003221573424525559, 7.943350647110492e-05, 0.9863154292106628, 0.00019310011703055352, 0.00038613579818047583, 0.0, 0.0, 0.0, 0.0, 0.0, 0.0, 0.0, 0.0, 0.0, 0.0, 0.0, 0.0, 0.0, 0.0, 0.0, 0.0, 0.0, 0.0, 0.0], [0.004753442015498877, 0.02283441461622715, 0.0017355609452351928, 0.0023665600456297398, 0.020236924290657043, 0.0020205527544021606, 0.0019545648247003555, 0.03889455273747444, 0.0020081785041838884, 0.0026924803387373686, 0.029621368274092674, 0.0021103150211274624, 0.0020903788972646, 0.15607061982154846, 0.0028450521640479565, 0.002404766855761409, 0.01249068882316351, 0.0026203938759863377, 0.0028097752947360277, 0.015078697353601456, 0.0026262206956744194, 0.0024284550454467535, 0.005459859501570463, 0.002158824121579528, 0.0020497185178101063, 0.01757669635117054, 0.0023776129819452763, 0.0012348853051662445, 0.01817086525261402, 0.002437127521261573, 0.0024968073703348637, 0.00988219678401947, 0.002421066863462329, 0.0028577228076756, 0.11696630716323853, 0.002090610098093748, 0.010742738842964172, 0.23372340202331543, 0.005535021424293518, 0.004609761293977499, 0.17724986374378204, 0.016754742711782455, 0.008261799812316895, 0.006463102530688047, 0.0028717091772705317, 0.004474903456866741, 0.00843868125230074, 0.0, 0.0, 0.0, 0.0, 0.0, 0.0, 0.0, 0.0, 0.0, 0.0, 0.0, 0.0, 0.0, 0.0, 0.0, 0.0, 0.0, 0.0], [0.000508946250192821, 0.004506214987486601, 0.00031680549727752805, 0.00037562751094810665, 0.0014940904220566154, 0.00042391562601551414, 0.0003225166001357138, 0.0038339593447744846, 0.0002939557598438114, 0.0002871027681976557, 0.003259252291172743, 0.0003266485291533172, 0.00036331042065285146, 0.0017488497542217374, 0.00030177627922967076, 0.00038590264739468694, 0.000744182791095227, 0.00031574227614328265, 0.0003294651978649199, 0.0015360888792201877, 0.000304981367662549, 0.0003461931773927063, 0.0019190364982932806, 0.0003103530907537788, 0.000375540490495041, 0.00253585958853364, 0.0003170479030814022, 0.00034771388163790107, 0.9514667987823486, 0.0002711223205551505, 0.0002632977848406881, 0.0013152648461982608, 0.00029799662297591567, 0.000277051207376644, 0.0016210312023758888, 0.0002989556232932955, 0.0005473545752465725, 0.0011198376305401325, 0.0003286499122623354, 0.0016456929733976722, 0.0015373140340670943, 0.0008834903128445148, 0.0011746088275685906, 0.003315892769023776, 0.0012390360934659839, 0.002518637804314494, 0.0015784744173288345, 0.0001683284353930503, 0.0, 0.0, 0.0, 0.0, 0.0, 0.0, 0.0, 0.0, 0.0, 0.0, 0.0, 0.0, 0.0, 0.0, 0.0, 0.0, 0.0], [0.0005122313741594553, 0.0007161772227846086, 0.00043004719191230834, 0.00040019338484853506, 0.001584425917826593, 0.0005276173469610512, 0.00033132394310086966, 0.0022240409161895514, 0.0002766178804449737, 0.00028443135670386255, 0.005021869670599699, 0.0003428594209253788, 0.00032604398438706994, 0.0021850797347724438, 0.0003490667149890214, 0.00034202291863039136, 0.0006959987804293633, 0.00032395083690062165, 0.0002583132009021938, 0.0023694930132478476, 0.0003119479224551469, 0.00023629397037439048, 0.0031529427506029606, 0.0003025443875230849, 0.00014924834249541163, 0.004375987686216831, 0.0003209077403880656, 0.00028749555349349976, 0.9506800770759583, 0.0002413187175989151, 0.0001854554720921442, 0.001348900143057108, 0.00026975120999850333, 0.00020667990611400455, 0.000553894613403827, 0.00028318172553554177, 0.0004895772435702384, 0.0009109597303904593, 0.0003423626476433128, 0.0011577107943594456, 0.003414351725950837, 0.000766090932302177, 0.0007087846170179546, 0.003122233785688877, 0.0012681512162089348, 0.001505610067397356, 0.0014236834831535816, 0.002153225941583514, 0.0003288628358859569, 0.0, 0.0, 0.0, 0.0, 0.0, 0.0, 0.0, 0.0, 0.0, 0.0, 0.0, 0.0, 0.0, 0.0, 0.0, 0.0], [0.0005348485428839922, 0.005274798255413771, 0.00025008057127706707, 0.00027982305618934333, 0.0031281039118766785, 0.00032139167888090014, 0.00024283317907247692, 0.002508837031200528, 0.00021697889314964414, 0.0002525125746615231, 0.006765657104551792, 0.0002588500501587987, 0.00025605916744098067, 0.00405630050227046, 0.0002737920731306076, 0.00032050098525360227, 0.0012907675700262189, 0.00026667516794987023, 0.0002457828086335212, 0.0018243545200675726, 0.0002597449638415128, 0.00026614213129505515, 0.002157251350581646, 0.0002467574959155172, 0.0002669433306436986, 0.0042023807764053345, 0.0002643869665917009, 0.00018544930208008736, 0.9353058934211731, 0.0002337826299481094, 0.00021437209215946496, 0.0012967108050361276, 0.0002597553830128163, 0.0002162558666896075, 0.0011713861022144556, 0.00025452315458096564, 0.0007720255525782704, 0.002486544195562601, 0.0005060851108282804, 0.001654044259339571, 0.004236998967826366, 0.0011344647500663996, 0.001462878892198205, 0.0011327631073072553, 0.0012796171940863132, 0.002182846190407872, 0.002068788046017289, 0.0017156016547232866, 0.0025276304222643375, 0.0014688887167721987, 0.0, 0.0, 0.0, 0.0, 0.0, 0.0, 0.0, 0.0, 0.0, 0.0, 0.0, 0.0, 0.0, 0.0, 0.0], [0.00016049430996645242, 0.002167213475331664, 0.00016367007629014552, 0.00015576677105855197, 0.001075691543519497, 0.00018436841492075473, 0.00012093736586393788, 0.0010083006927743554, 8.874307241057977e-05, 8.524316945113242e-05, 0.00270282244309783, 0.00012726134445983917, 9.248311835108325e-05, 0.0011196212144568563, 0.00014039245434105396, 0.00010772714449558407, 0.0002828094584401697, 0.0001319233706453815, 7.775495760142803e-05, 0.0008947091409936547, 0.00012311853060964495, 7.894341979408637e-05, 0.0020523276180028915, 0.00013009687245357782, 7.729214121354744e-05, 0.004325879272073507, 0.00013006747758481652, 7.542143430327997e-05, 0.08823968470096588, 8.709537360118702e-05, 6.019598004058935e-05, 0.001112054567784071, 0.00012011598300887272, 5.932170824962668e-05, 0.0003041807794943452, 0.00013766507618129253, 0.00016575530753470957, 0.0005027459701523185, 0.00021779400412924588, 0.00036421717959456146, 0.001472903648391366, 0.00041245835018344223, 0.00033067449112422764, 0.0012903313618153334, 0.0007375338464044034, 0.0004968091961927712, 0.0006428315537050366, 0.0028163103852421045, 0.009418095462024212, 0.013111812062561512, 0.8600183725357056, 0.0, 0.0, 0.0, 0.0, 0.0, 0.0, 0.0, 0.0, 0.0, 0.0, 0.0, 0.0, 0.0, 0.0], [0.00011612396338023245, 0.0011340442579239607, 4.98742338095326e-05, 4.948153218720108e-05, 0.0005684491479769349, 5.094971493235789e-05, 4.030826676171273e-05, 0.0011132267536595464, 3.837401163764298e-05, 4.269091004971415e-05, 0.002313819946721196, 4.721830919152126e-05, 4.720336073660292e-05, 0.0006899007130414248, 4.506620825850405e-05, 5.472954944707453e-05, 0.0005161404842510819, 4.4226380850886926e-05, 4.499221904552542e-05, 0.001046698191203177, 4.45169243903365e-05, 4.948724017594941e-05, 0.0013636182993650436, 4.625113433576189e-05, 5.1317201723577455e-05, 0.002917427336797118, 4.883528163190931e-05, 5.141527435625903e-05, 0.04513464495539665, 4.9229896831093356e-05, 4.750471271108836e-05, 0.0017399020725861192, 5.776993930339813e-05, 4.171915861661546e-05, 0.0005119434208609164, 6.447278428822756e-05, 0.00041092518949881196, 0.0007536514895036817, 0.0005858018412254751, 0.0010254591470584273, 0.0015522426692768931, 0.0006995081785134971, 0.0007592024630866945, 0.0015238397754728794, 0.001903735683299601, 0.0010898298351094127, 0.0014294019201770425, 0.005714457016438246, 0.01302248239517212, 0.013960469514131546, 0.8861492872238159, 0.009146039374172688, 0.0, 0.0, 0.0, 0.0, 0.0, 0.0, 0.0, 0.0, 0.0, 0.0, 0.0, 0.0, 0.0], [5.4178522987058386e-05, 0.000644379761070013, 2.1990872483002022e-05, 2.2156036720843986e-05, 0.0003112578997388482, 2.31090252782451e-05, 1.756461824697908e-05, 0.0007547967252321541, 1.6511827197973616e-05, 1.8469492715667002e-05, 0.0013250157935544848, 2.081289676425513e-05, 2.0705771021312103e-05, 0.00042660231702029705, 1.9897586753359064e-05, 2.4371873223572038e-05, 0.00026673250249587, 1.942430026247166e-05, 1.9695879018399864e-05, 0.0006242041126824915, 1.951102058228571e-05, 2.1653610019711778e-05, 0.000870337535161525, 2.0226256310706958e-05, 2.2146530682221055e-05, 0.0015606234082952142, 2.1385751097113825e-05, 2.2212228941498324e-05, 0.04986654222011566, 2.1736286726081744e-05, 2.0546400264720432e-05, 0.0008289598044939339, 2.562032750574872e-05, 1.8230639398097992e-05, 0.00027296258485876024, 2.8514348741737194e-05, 0.00021724900580011308, 0.0003654214378912002, 0.00028609507717192173, 0.0005843875114805996, 0.0008858244982548058, 0.0003655411710496992, 0.00040068107773549855, 0.0007717130938544869, 0.0010981373488903046, 0.0006070331437513232, 0.0007962835370562971, 0.0028227418661117554, 0.006868908181786537, 0.007363937329500914, 0.9075290560722351, 0.004914617631584406, 0.005829088389873505, 0.0, 0.0, 0.0, 0.0, 0.0, 0.0, 0.0, 0.0, 0.0, 0.0, 0.0, 0.0], [0.00018097145948559046, 0.0018867102917283773, 6.63072059978731e-05, 6.680667866021395e-05, 0.0007840052130632102, 6.584404763998464e-05, 5.3971627494320273e-05, 0.0022702196147292852, 5.3214793297229335e-05, 5.991453508613631e-05, 0.0033346416894346476, 6.16252509644255e-05, 6.488674989668652e-05, 0.0012044657487422228, 5.9932655858574435e-05, 7.502327935071662e-05, 0.0010132789611816406, 5.814764153910801e-05, 6.357374513754621e-05, 0.0020915837958455086, 5.852125832461752e-05, 6.962706538615748e-05, 0.0025645240675657988, 6.0623853642027825e-05, 7.012720016064122e-05, 0.004711553920060396, 6.359193503158167e-05, 7.09516680217348e-05, 0.04029041901230812, 6.656462937826291e-05, 6.576259329449385e-05, 0.003384674433618784, 7.610791362822056e-05, 5.848789805895649e-05, 0.0010232110507786274, 8.51531294756569e-05, 0.0007169901509769261, 0.00158603151794523, 0.0010646608425304294, 0.0015634322771802545, 0.0026873289607465267, 0.001148063107393682, 0.0013102442026138306, 0.002788621699437499, 0.0034033460542559624, 0.0016343874158337712, 0.0022548576816916466, 0.00971598643809557, 0.020589742809534073, 0.021161874756217003, 0.8254120349884033, 0.01195733156055212, 0.014795942232012749, 0.00997399352490902, 0.0, 0.0, 0.0, 0.0, 0.0, 0.0, 0.0, 0.0, 0.0, 0.0, 0.0], [1.8016206013271585e-05, 0.00014278515300247818, 9.49080458667595e-06, 9.34634681470925e-06, 8.333120058523491e-05, 1.0282667972205672e-05, 7.423256192851113e-06, 0.0001401297777192667, 6.670111361017916e-06, 7.03050409356365e-06, 0.0004448017862159759, 9.165824849333148e-06, 8.461640391033143e-06, 0.00010923032823484391, 8.168799467966892e-06, 9.637138646212406e-06, 5.310327833285555e-05, 8.135726602631621e-06, 7.851071131881326e-06, 0.00013400522584561259, 8.174222784873564e-06, 8.559595698898192e-06, 0.00023383076768368483, 8.710881047591101e-06, 8.615711521997582e-06, 0.0003579342446755618, 9.229876923200209e-06, 9.373482498631347e-06, 0.03901945427060127, 9.055006557900924e-06, 8.262166375061497e-06, 0.00022482160420622677, 1.0979570106428582e-05, 7.176433427957818e-06, 5.6530519941588864e-05, 1.256113318959251e-05, 6.127838423708454e-05, 7.850230031181127e-05, 7.932954758871347e-05, 0.00021012351498939097, 0.00020994544320274144, 0.00011947168241022155, 0.00011826697300421074, 0.0002069418114842847, 0.0003605773381423205, 0.0002184159675380215, 0.00023608854098711163, 0.0006063416949473321, 0.00220371107570827, 0.00329065159894526, 0.9376564025878906, 0.002855463419109583, 0.0032696910202503204, 0.0025018490850925446, 0.00449650501832366, 0.0, 0.0, 0.0, 0.0, 0.0, 0.0, 0.0, 0.0, 0.0, 0.0], [0.00010355441190768033, 0.0005551784997805953, 5.7434506743447855e-05, 5.410983067122288e-05, 0.0002705476072151214, 5.540775237022899e-05, 4.3686079152394086e-05, 0.0007474783924408257, 4.093724783160724e-05, 4.102855018572882e-05, 0.0016943441005423665, 5.0618196837604046e-05, 4.833938874071464e-05, 0.0004189040628261864, 4.5834516640752554e-05, 5.353240339900367e-05, 0.0003494334814604372, 4.500963768805377e-05, 4.6217577619245276e-05, 0.0009077403810806572, 4.4978187361266464e-05, 4.891908974968828e-05, 0.0014078537933528423, 4.874794103670865e-05, 4.6845932956784964e-05, 0.0021131415851414204, 5.047868762630969e-05, 5.691645492333919e-05, 0.02309598959982395, 5.075959415989928e-05, 4.5478696847567335e-05, 0.0016605578130111098, 6.031422162777744e-05, 3.989972537965514e-05, 0.00032468518475070596, 7.200130494311452e-05, 0.00034277208033017814, 0.0005025796708650887, 0.000621375918854028, 0.000882262596860528, 0.0011000819504261017, 0.0006122483755461872, 0.0006189386476762593, 0.001535906339995563, 0.0023316792212426662, 0.0008710635011084378, 0.0010747697670012712, 0.003962442744523287, 0.01121712289750576, 0.02009437046945095, 0.8425918817520142, 0.013790981844067574, 0.01698446460068226, 0.01176692359149456, 0.022760538384318352, 0.01154071744531393, 0.0, 0.0, 0.0, 0.0, 0.0, 0.0, 0.0, 0.0, 0.0], [0.00012461381265893579, 0.000347244756994769, 9.164345829049125e-05, 8.181302837328985e-05, 0.000179349968675524, 8.892296318663284e-05, 6.940984894754365e-05, 0.0004857718013226986, 6.46427579340525e-05, 6.262087845243514e-05, 0.0011535725789144635, 8.506072481395677e-05, 7.753528916509822e-05, 0.0002913773350883275, 7.180470129242167e-05, 8.504920697305351e-05, 0.000226785137783736, 7.196999649750069e-05, 7.226718298625201e-05, 0.0006227364647202194, 7.268271292559803e-05, 7.915687456261367e-05, 0.0011981595307588577, 8.003971015568823e-05, 7.552921306341887e-05, 0.001284833182580769, 8.282408089144155e-05, 0.00010125729022547603, 0.03148762136697769, 8.559626439819112e-05, 7.777738210279495e-05, 0.0013680063420906663, 9.965008939616382e-05, 6.574638973688707e-05, 0.00018591218395158648, 0.00011968346370849758, 0.00037750150659121573, 0.000291167467366904, 0.0006789537146687508, 0.0012094358680769801, 0.0006237462512217462, 0.0005910356412641704, 0.0006582073401659727, 0.0010937451152130961, 0.002610526280477643, 0.0010140123777091503, 0.0009632472647354007, 0.0024827353190630674, 0.0070299264043569565, 0.014713802374899387, 0.8402590751647949, 0.014524909667670727, 0.016912709921598434, 0.01355927623808384, 0.02045237086713314, 0.012859524227678776, 0.006275293882936239, 0.0, 0.0, 0.0, 0.0, 0.0, 0.0, 0.0, 0.0], [8.726373380341101e-06, 2.3300795874092728e-05, 1.0016196029027924e-05, 8.789658750174567e-06, 9.760145985637791e-06, 1.0560463124420494e-05, 6.935754299774999e-06, 2.686438529053703e-05, 5.732574209105223e-06, 5.204795343161095e-06, 8.752146823098883e-05, 9.21393348107813e-06, 7.097082743712235e-06, 2.0409726857906207e-05, 7.4994241003878415e-06, 7.849448593333364e-06, 7.600745448144153e-06, 7.607039606227772e-06, 6.180924174259417e-06, 3.442350498517044e-05, 7.595818260597298e-06, 6.936203590157675e-06, 7.258802361320704e-05, 8.520521078025922e-06, 6.466985723818652e-06, 7.537472265539691e-05, 8.900420652935281e-06, 9.039909855346195e-06, 0.02696017175912857, 8.361833351955283e-06, 6.346338068397017e-06, 5.859707744093612e-05, 1.0433478564664256e-05, 5.283648988552159e-06, 7.3760479608608875e-06, 1.2950381460541394e-05, 1.918086491059512e-05, 1.1885241292475257e-05, 3.675520929391496e-05, 0.00010376536374678835, 3.393364022485912e-05, 4.151887333136983e-05, 3.6467958125285804e-05, 5.824018444400281e-05, 0.0001652183273108676, 8.463753329124302e-05, 6.0263908380875364e-05, 0.00013034482253715396, 0.0006780679104849696, 0.00175992283038795, 0.9515600800514221, 0.002747917314991355, 0.002903691492974758, 0.002612804062664509, 0.003555028233677149, 0.002454901346936822, 0.001109114964492619, 0.0022602190729230642, 0.0, 0.0, 0.0, 0.0, 0.0, 0.0, 0.0], [3.7548474210780114e-05, 8.320140477735549e-05, 4.1887233237503096e-05, 3.6046465538674966e-05, 4.944723332300782e-05, 3.99155578634236e-05, 2.8669928724411875e-05, 0.00011813264427473769, 2.4967966965050437e-05, 2.2453508790931664e-05, 0.0003216411860194057, 3.631889558164403e-05, 2.922892599599436e-05, 9.845589374890551e-05, 3.031173037015833e-05, 3.107791053480469e-05, 5.547791442950256e-05, 3.05289649986662e-05, 2.656749165907968e-05, 0.00020877848146483302, 3.0589235393563285e-05, 2.8425693017197773e-05, 0.00031660491367802024, 3.449758150964044e-05, 2.638519072206691e-05, 0.00038338181911967695, 3.56930322595872e-05, 3.8710182707291096e-05, 0.016962995752692223, 3.5140601539751515e-05, 2.7959382350672968e-05, 0.0003398170229047537, 4.3047406506957486e-05, 2.344830136280507e-05, 4.949323192704469e-05, 5.356099791242741e-05, 9.772249904926866e-05, 7.006808300502598e-05, 0.00023398832126986235, 0.00036002544220536947, 0.00018737766367848963, 0.0002034950884990394, 0.00015716455527581275, 0.0003558924363460392, 0.0007782651809975505, 0.000326371198752895, 0.00028516314341686666, 0.0009521114989183843, 0.003421068424358964, 0.008848309516906738, 0.8831356763839722, 0.010975361801683903, 0.012643693946301937, 0.010112258605659008, 0.015621427446603775, 0.009917128831148148, 0.004501067567616701, 0.009710541926324368, 0.007325387094169855, 0.0, 0.0, 0.0, 0.0, 0.0, 0.0], [1.8924363757832907e-05, 4.821273614652455e-05, 2.2513266230816953e-05, 1.9721153876162134e-05, 2.2986809199210256e-05, 2.2273505237535574e-05, 1.5444555174326524e-05, 6.551762635353953e-05, 1.3029542969889008e-05, 1.1740021363948472e-05, 0.00015521002933382988, 1.990635064430535e-05, 1.5506200725212693e-05, 4.786451245308854e-05, 1.6497120668645948e-05, 1.6405920177930966e-05, 2.3236245397129096e-05, 1.6686826711520553e-05, 1.3836081052431837e-05, 9.157235035672784e-05, 1.6701633285265416e-05, 1.5287114365492016e-05, 0.00015246776456478983, 1.888169390440453e-05, 1.4406978152692318e-05, 0.00016056664753705263, 1.959457222255878e-05, 1.9880966647178866e-05, 0.017939679324626923, 1.8736238416749984e-05, 1.4401318367163185e-05, 0.00017253118858207017, 2.318575388926547e-05, 1.1846066627185792e-05, 2.274109465361107e-05, 2.922861858678516e-05, 4.410625115269795e-05, 3.336262670927681e-05, 0.0001032330546877347, 0.00019042828353121877, 8.143005834426731e-05, 9.931253589456901e-05, 7.660991832381114e-05, 0.00015613435243722051, 0.0003648238198366016, 0.00017489887250121683, 0.00013119335926603526, 0.00042592105455696583, 0.0020999708212912083, 0.004568329080939293, 0.9184200167655945, 0.0066616591066122055, 0.00740336487069726, 0.0061179110780358315, 0.009118938818573952, 0.0059113213792443275, 0.002652708673849702, 0.005706056486815214, 0.004446197766810656, 0.005684894509613514, 0.0, 0.0, 0.0, 0.0, 0.0], [1.091607646230841e-05, 2.3940056053106673e-05, 1.6676902305334806e-05, 1.434881596651394e-05, 9.801648047869094e-06, 1.708502350084018e-05, 1.1176030966453254e-05, 3.3855551009764895e-05, 8.94176173460437e-06, 7.839673344278708e-06, 7.127659046091139e-05, 1.4935527360648848e-05, 1.0737351658463012e-05, 2.3947181034600362e-05, 1.2202653124404605e-05, 1.1469728633528575e-05, 8.751469977141824e-06, 1.2333902304817457e-05, 9.262586900149472e-06, 4.201374395051971e-05, 1.234037245012587e-05, 1.05381514003966e-05, 8.786999387666583e-05, 1.406462979502976e-05, 9.897430572891608e-06, 7.05257843947038e-05, 1.4508917047351133e-05, 1.4148118680168409e-05, 0.02150111086666584, 1.3545352885557804e-05, 9.846797183854505e-06, 6.697616481687874e-05, 1.6968029740382917e-05, 8.044605237955693e-06, 9.110516657528933e-06, 2.1735662812716328e-05, 2.2759650164516643e-05, 1.2614717888936866e-05, 5.208866423345171e-05, 0.0001203655920107849, 3.0489807613776065e-05, 5.000878809369169e-05, 3.875411130138673e-05, 6.816389213781804e-05, 0.00020476577628869563, 9.927998326020315e-05, 6.391276110662147e-05, 0.00017366133397445083, 0.0010193093912675977, 0.0023290938697755337, 0.9371616244316101, 0.004268089774996042, 0.004474214743822813, 0.004048651549965143, 0.005311321467161179, 0.0038503108080476522, 0.0017363063525408506, 0.003283012891188264, 0.002799160545691848, 0.0034197138156741858, 0.0031096432358026505, 0.0, 0.0, 0.0, 0.0], [1.3261708772915881e-05, 3.514296258799732e-05, 1.4855356312182266e-05, 1.3158404726709705e-05, 1.4228834515961353e-05, 1.5123192497412674e-05, 1.0309934623364825e-05, 5.566884283325635e-05, 8.775316018727608e-06, 7.921450560388621e-06, 0.00010959153587464243, 1.3431322258838918e-05, 1.060023350873962e-05, 3.8606933230767027e-05, 1.0991836461471394e-05, 1.1780458407883998e-05, 1.2776425137417391e-05, 1.1145156349812169e-05, 9.462217349209823e-06, 6.353519711410627e-05, 1.1179391549376305e-05, 1.0561676390352659e-05, 0.00010828428639797494, 1.2601192793226801e-05, 9.798230166779831e-06, 0.00012341488036327064, 1.3085672435408924e-05, 1.3705861420021392e-05, 0.023603852838277817, 1.2580097063619178e-05, 9.957883776223753e-06, 0.00013102749653626233, 1.541907295177225e-05, 8.296393389173318e-06, 1.4865885532344691e-05, 1.9283439542050473e-05, 3.208925045328215e-05, 2.2313186491373926e-05, 6.57677446724847e-05, 0.00015251888544298708, 5.219484228291549e-05, 6.73388785799034e-05, 5.9038222389062867e-05, 0.00010376245336374268, 0.0002612591197248548, 0.00013182187103666365, 8.86474153958261e-05, 0.0002256765146739781, 0.001245231949724257, 0.0028595165349543095, 0.9309548735618591, 0.004205266013741493, 0.004518875386565924, 0.003905578050762415, 0.00547014269977808, 0.003639106173068285, 0.0016439076280221343, 0.003441817592829466, 0.0027063253801316023, 0.0034341567661613226, 0.0032890038564801216, 0.002825619885697961, 0.0, 0.0, 0.0], [0.00020026271522510797, 0.00042909765033982694, 0.0001849131367634982, 0.0001560546224936843, 0.00044034147867932916, 0.00015367039304692298, 0.0001247506297659129, 0.0005851155729033053, 0.0001221254642587155, 0.0001107630887418054, 0.0013307235203683376, 0.00014506491424981505, 0.00013379105075728148, 0.0005648219375871122, 0.00012433704978320748, 0.00013264345761854202, 0.0005222648032940924, 0.0001271604123758152, 0.00012967300426680595, 0.0021341401152312756, 0.0001267723273485899, 0.00012753337796311826, 0.0013167354045435786, 0.0001431517448509112, 0.00012020398571621627, 0.0020015607587993145, 0.00014741317136213183, 0.00017143922741524875, 0.009469209238886833, 0.00015729763254057616, 0.00012929328659083694, 0.0029259254224598408, 0.00018507959612179548, 0.00011024691048078239, 0.0003942113253287971, 0.00022159366926643997, 0.0005567853222601116, 0.000509507255628705, 0.0018898672424256802, 0.0012635935563594103, 0.00181958160828799, 0.0011679577874019742, 0.0007844798383302987, 0.002364353509619832, 0.003313628723844886, 0.001455769408494234, 0.0016563418321311474, 0.00803862139582634, 0.018961474299430847, 0.036401454359292984, 0.5232791900634766, 0.03414877504110336, 0.04325101524591446, 0.030841020867228508, 0.054155752062797546, 0.0313105583190918, 0.015122665092349052, 0.03439122438430786, 0.024029653519392014, 0.031363487243652344, 0.030103735625743866, 0.028790457174181938, 0.013429702259600163, 0.0, 0.0], [0.008356461301445961, 0.0031803620513528585, 0.013315693475306034, 0.010107462294399738, 0.001321007264778018, 0.01041437778621912, 0.010446669533848763, 0.0033961362205445766, 0.011286488734185696, 0.009891833178699017, 0.0042588552460074425, 0.01199029479175806, 0.012001382187008858, 0.0015579608734697104, 0.009873605333268642, 0.011599905788898468, 0.005501606967300177, 0.01040405873209238, 0.011232267133891582, 0.01441284827888012, 0.01055084727704525, 0.012548371218144894, 0.009417906403541565, 0.01152943167835474, 0.013164801523089409, 0.006345746573060751, 0.011435981839895248, 0.020638372749090195, 0.005868126172572374, 0.014562228694558144, 0.012531914748251438, 0.0069313026033341885, 0.014352277852594852, 0.010778648778796196, 0.0019303899025544524, 0.01572500355541706, 0.013315512798726559, 0.0019235375802963972, 0.04495139792561531, 0.025995826348662376, 0.004011050332337618, 0.010387335903942585, 0.01184925902634859, 0.011904396116733551, 0.03390434384346008, 0.016994580626487732, 0.0137794129550457, 0.01156033854931593, 0.016108475625514984, 0.026480982080101967, 0.01814928464591503, 0.03690987452864647, 0.039773836731910706, 0.04521501809358597, 0.03320002555847168, 0.04466007649898529, 0.035142067819833755, 0.021597426384687424, 0.026387732475996017, 0.021253889426589012, 0.0168183334171772, 0.020277822390198708, 0.02704162336885929, 0.017545921728014946, 0.0], [0.00851731188595295, 0.0030975728295743465, 0.01437409222126007, 0.01089857891201973, 0.0010383713524788618, 0.011389398947358131, 0.01151773426681757, 0.002623180393129587, 0.012324501760303974, 0.01080351322889328, 0.004140685312449932, 0.013400261290371418, 0.013165374286472797, 0.0012870794162154198, 0.010810725390911102, 0.012648508884012699, 0.004548878408968449, 0.01144235860556364, 0.01215059868991375, 0.011083966121077538, 0.01160314679145813, 0.013769143261015415, 0.00891551561653614, 0.012795304879546165, 0.01496945321559906, 0.005163025110960007, 0.012608587741851807, 0.02344798669219017, 0.005618348252028227, 0.015948211774230003, 0.014104584231972694, 0.006322548724710941, 0.015632180497050285, 0.01195542048662901, 0.0017380842473357916, 0.017223982140421867, 0.012912657111883163, 0.0014755924930796027, 0.04052102938294411, 0.02619989588856697, 0.0030331641901284456, 0.009687203913927078, 0.011759639717638493, 0.01040230318903923, 0.03247072920203209, 0.01679304800927639, 0.012039987370371819, 0.009555174969136715, 0.015063556842505932, 0.024595702067017555, 0.01604662835597992, 0.03507957234978676, 0.03715019300580025, 0.04368266463279724, 0.030336881056427956, 0.04330451413989067, 0.034507401287555695, 0.019688419997692108, 0.025131942704319954, 0.019662071019411087, 0.015421533025801182, 0.018434595316648483, 0.026037240400910378, 0.019216183573007584, 0.01671224646270275]]], \"headLabels\": [\"L1H0\"]}\n",
       "    )\n",
       "    </script>"
      ],
      "text/plain": [
       "<circuitsvis.utils.render.RenderedHTML at 0x32fe9d750>"
      ]
     },
     "metadata": {},
     "output_type": "display_data"
    }
   ],
   "source": [
    "print(\"Layer 1 Head Attention Pattern:\")\n",
    "\n",
    "l1_attention_pattern_bas = cache['pattern', 1][0]\n",
    "\n",
    "display(cv.attention.attention_patterns(\n",
    "    tokens=bas_input_str,\n",
    "    attention=l1_attention_pattern_bas,\n",
    "    attention_head_names=[f\"L1H{i}\" for i in range(1)],\n",
    "))"
   ]
  },
  {
   "cell_type": "markdown",
   "id": "1b6f7a31-bcb8-4e99-b77d-34c0b6591473",
   "metadata": {},
   "source": [
    "### Do so called Linear Probe"
   ]
  },
  {
   "cell_type": "markdown",
   "id": "71a1f31c-f45d-4624-a92b-90e7b3626eec",
   "metadata": {},
   "source": [
    "How to do linear probe?\n",
    "\n",
    "  - Take info from the unit of interest and try to classify it.\n",
    "\n",
    "Paper makes the hypothesis that first layer aggregates info about edge into the target pos.\n",
    "\n",
    "> the model aggregates the source and target nodes of each edge in the edge list into the target node position"
   ]
  },
  {
   "cell_type": "markdown",
   "id": "71c3f984-98e7-4fa1-8e4a-412d11cfdeff",
   "metadata": {},
   "source": [
    "  - [ ] How to access residual stream in TransformerLens?\n",
    "\n",
    "\n",
    "> cache syntax - resid_post is the residual stream at the end of the layer, -1 gets the final layer. The general syntax is [activation_name, layer_index, sub_layer_type].\n",
    "\n",
    "\n",
    "`final_residual_stream = cache[\"resid_post\", -1]`"
   ]
  },
  {
   "cell_type": "code",
   "execution_count": 53,
   "id": "81c6ba7d-985a-4db3-a486-ba5266b34c02",
   "metadata": {},
   "outputs": [],
   "source": [
    "from src.tree_dataset import TreeDataset, DeepTreeDataset, parse_input_idx, input_tokens_to_tree, tree_to_edges\n",
    "\n",
    "test_dataloader = DataLoader ( DeepTreeDataset(possible_depths=list(range(1,16))), batch_size=64 )"
   ]
  },
  {
   "cell_type": "code",
   "execution_count": 54,
   "id": "4f20d80f-9324-4382-a940-3f6e036283a3",
   "metadata": {},
   "outputs": [],
   "source": [
    "for batch in test_dataloader:\n",
    "    break"
   ]
  },
  {
   "cell_type": "code",
   "execution_count": 55,
   "id": "17143191-c2a0-48eb-8eab-ad7728a7af50",
   "metadata": {},
   "outputs": [],
   "source": [
    "model = trainer.model"
   ]
  },
  {
   "cell_type": "code",
   "execution_count": 56,
   "id": "5f10729d-1232-483e-a749-5d6e3474e9db",
   "metadata": {},
   "outputs": [],
   "source": [
    "torch.inference_mode()\n",
    "def get_cache(batch, model):\n",
    "    input_idx = batch['input_idx'].to(device)\n",
    "    mask = batch['task_mask'].to(device)\n",
    "\n",
    "    inputs = input_idx[:, :-1]\n",
    "    \n",
    "    out_mask = mask[:, 1:]\n",
    "    targets = input_idx[:, 1:][out_mask]\n",
    "    \n",
    "    outputs, cache = model.run_with_cache(inputs)\n",
    "    return cache"
   ]
  },
  {
   "cell_type": "code",
   "execution_count": 57,
   "id": "953de502-81e2-432a-98f8-1f189c250927",
   "metadata": {},
   "outputs": [],
   "source": [
    "# we expect second node in edge to contain info about two nodes in edge"
   ]
  },
  {
   "cell_type": "code",
   "execution_count": 58,
   "id": "06c79994-e254-402b-9163-24379e427993",
   "metadata": {},
   "outputs": [],
   "source": [
    "sample_input_idx = input_idx[8]\n",
    "\n",
    "ROOT_DELIM_TOKEN_IDX = trainer.tok([':'])[0]\n",
    "\n",
    "def extract_edges(sample_input_idx):\n",
    "    upper_task_bound = sample_input_idx.tolist().index(ROOT_DELIM_TOKEN_IDX) + 2\n",
    "    prompt = trainer.detok(sample_input_idx)[:upper_task_bound]\n",
    "    \n",
    "    i = 2\n",
    "    \n",
    "    edges = []\n",
    "    \n",
    "    while i < len(prompt) and prompt[i] != '|':\n",
    "        edge = (prompt[i-2], prompt[i-1])\n",
    "        edges.append(edge)\n",
    "        i += 3\n",
    "    \n",
    "    return edges\n",
    "\n",
    "\n",
    "n_nodes = 16\n",
    "\n",
    "edges = [(str(i), '→'+str(j)) for i in range(n_nodes) for j in range(n_nodes)]\n",
    "\n",
    "edge2idx = {e:i for i,e in enumerate(edges)}\n",
    "\n",
    "idx2edge = {i:e for e,i in edge2idx.items()}\n",
    "print(f'{len(edge2idx)=}')\n",
    "\n",
    "def get_first_node(edge_idx): return int(idx2edge[edge_idx][0])\n",
    "def get_second_node(edge_idx): return int(idx2edge[edge_idx][1][1:])\n",
    "    \n",
    "\n",
    "def get_edge_labels(batch):\n",
    "    input_idx = batch['input_idx']\n",
    "    edge_batch = []\n",
    "    for row in input_idx:\n",
    "        edges = extract_edges(row)\n",
    "        edges = [edge2idx[e] for e in edges]\n",
    "        edge_batch.append(edges)\n",
    "    return torch.tensor(edge_batch)"
   ]
  },
  {
   "cell_type": "code",
   "execution_count": 105,
   "id": "26994b79-5fbd-44cb-b1a9-979cdf529c6c",
   "metadata": {},
   "outputs": [
    {
     "name": "stdout",
     "output_type": "stream",
     "text": [
      "len(edge2idx)=256\n"
     ]
    }
   ],
   "source": []
  },
  {
   "cell_type": "code",
   "execution_count": 60,
   "id": "247db4a8-7f44-4332-8eaa-204130ff255b",
   "metadata": {},
   "outputs": [
    {
     "data": {
      "text/plain": [
       "256"
      ]
     },
     "execution_count": 60,
     "metadata": {},
     "output_type": "execute_result"
    }
   ],
   "source": []
  },
  {
   "cell_type": "code",
   "execution_count": 61,
   "id": "3b2f6d8a-a96a-4158-a661-2d43ce4373c3",
   "metadata": {},
   "outputs": [],
   "source": [
    "\n",
    "\n"
   ]
  },
  {
   "cell_type": "code",
   "execution_count": 106,
   "id": "486aaed3-f175-425d-bcf1-c22f9eb80bcb",
   "metadata": {},
   "outputs": [
    {
     "name": "stdout",
     "output_type": "stream",
     "text": [
      "len(edge2idx)=256\n"
     ]
    }
   ],
   "source": []
  },
  {
   "cell_type": "code",
   "execution_count": null,
   "id": "e7b235fb-bd9e-4d75-b30b-1a237a212e94",
   "metadata": {},
   "outputs": [],
   "source": []
  },
  {
   "cell_type": "code",
   "execution_count": 63,
   "id": "d270e368-e432-4032-a605-a99f5d9e69c1",
   "metadata": {},
   "outputs": [
    {
     "data": {
      "text/plain": [
       "tensor[14] i64 x∈[1, 40] μ=20.500 σ=12.550\n",
       "tensor([ 1,  4,  7, 10, 13, 16, 19, 22, 25, 28, 31, 34, 37, 40])"
      ]
     },
     "execution_count": 63,
     "metadata": {},
     "output_type": "execute_result"
    }
   ],
   "source": [
    "second_token_idx = torch.arange(1, 14*3, 3)\n",
    "second_token_idx.v"
   ]
  },
  {
   "cell_type": "code",
   "execution_count": 64,
   "id": "66731464-dcab-4e6a-a1dd-d91ab5852f49",
   "metadata": {},
   "outputs": [],
   "source": [
    "d_model = conf.model.d_model"
   ]
  },
  {
   "cell_type": "code",
   "execution_count": 65,
   "id": "5b698cbd-aadc-4773-bbb8-78087c860035",
   "metadata": {},
   "outputs": [],
   "source": [
    "def extract_Ln_second_node_xy(batch, model, key='resid_post', n=0):\n",
    "    cache = get_cache(batch, model)\n",
    "    resid_act0 = cache[key, n]\n",
    "    \n",
    "    X = resid_act0[:, second_token_idx].reshape(-1, d_model)\n",
    "    y = get_edge_labels(batch).reshape(-1)\n",
    "    \n",
    "    return X,y"
   ]
  },
  {
   "cell_type": "code",
   "execution_count": 66,
   "id": "aef43ed9-e297-4510-8736-d995592de854",
   "metadata": {},
   "outputs": [],
   "source": [
    "model = trainer.model"
   ]
  },
  {
   "cell_type": "code",
   "execution_count": 67,
   "id": "fb9f4625-b195-43e6-8147-951955d4f050",
   "metadata": {},
   "outputs": [
    {
     "data": {
      "text/plain": [
       "(tensor[896, 128] n=114688 (0.4Mb) x∈[-19.844, 12.516] μ=-0.014 σ=3.187,\n",
       " tensor[896] i64 7Kb x∈[1, 254] μ=126.410 σ=72.792)"
      ]
     },
     "execution_count": 67,
     "metadata": {},
     "output_type": "execute_result"
    }
   ],
   "source": [
    "extract_Ln_second_node_xy(batch, model)"
   ]
  },
  {
   "cell_type": "code",
   "execution_count": 68,
   "id": "5c59d674-8887-4e67-b972-955460024bbb",
   "metadata": {},
   "outputs": [],
   "source": [
    "import numpy as np\n",
    "from sklearn.linear_model import LogisticRegression\n",
    "from sklearn.model_selection import cross_val_score\n",
    "\n",
    "from sklearn.model_selection import train_test_split\n",
    "\n",
    "\n",
    "from torch import nn\n",
    "\n",
    "\n",
    "class LogisticRegressionModel(nn.Module):\n",
    "    def __init__(self, n_features, n_classes):\n",
    "        super(LogisticRegressionModel, self).__init__()\n",
    "        self.linear = nn.Linear(n_features, n_classes)\n",
    "    \n",
    "    def forward(self, x):\n",
    "        return self.linear(x)\n",
    "\n",
    "# Assuming n_features is the number of features in your dataset and n_classes is the number of classes\n"
   ]
  },
  {
   "cell_type": "code",
   "execution_count": 69,
   "id": "84c9b88b-53f0-4322-8c4e-6f58ef0aef78",
   "metadata": {},
   "outputs": [],
   "source": []
  },
  {
   "cell_type": "code",
   "execution_count": 70,
   "id": "9d2180fd-57ba-4e32-b8b0-41a0641352f9",
   "metadata": {},
   "outputs": [],
   "source": []
  },
  {
   "cell_type": "code",
   "execution_count": 71,
   "id": "5288be64-4ca8-45e3-ae9b-18622e3bb444",
   "metadata": {},
   "outputs": [],
   "source": [
    "num_epochs = 100"
   ]
  },
  {
   "cell_type": "code",
   "execution_count": 72,
   "id": "71140712-1c0d-4ef0-8ecb-f9ef5b4dcdb4",
   "metadata": {},
   "outputs": [],
   "source": [
    "from torch.utils.data import DataLoader, TensorDataset\n",
    "\n",
    "def run_logreg(X,y, num_epochs=5):\n",
    "    X_train, X_test, y_train, y_test = train_test_split(X, y, test_size=0.2, random_state=42)\n",
    "\n",
    "\n",
    "    logreg = LogisticRegressionModel(X_train.shape[1], len(np.unique(y_train)))\n",
    "    \n",
    "    logreg_train_dataset = TensorDataset(X_train, y_train)\n",
    "    train_loader = DataLoader(logreg_train_dataset, batch_size=64, shuffle=True)\n",
    "    \n",
    "    logreg_test_dataset = TensorDataset(X_test, y_test)\n",
    "    logreg_test_loader = DataLoader(logreg_test_dataset, batch_size=64, shuffle=True)\n",
    "\n",
    "    criterion = nn.CrossEntropyLoss()\n",
    "    optimizer = torch.optim.AdamW(logreg.parameters(), lr=0.001)\n",
    "    \n",
    "    \n",
    "    train_losses = []\n",
    "    train_accuracies = []\n",
    "    \n",
    "    test_losses = []\n",
    "    test_accuracies = []\n",
    "    \n",
    "    for epoch in range(num_epochs):\n",
    "        logreg.train()\n",
    "        running_loss = 0.0\n",
    "        correct = 0\n",
    "        total = 0\n",
    "        \n",
    "        for inputs, labels in train_loader:\n",
    "            optimizer.zero_grad()\n",
    "            outputs = logreg(inputs)\n",
    "            loss = criterion(outputs, labels)\n",
    "            loss.backward()\n",
    "            optimizer.step()\n",
    "    \n",
    "            running_loss += loss.item()\n",
    "            _, predicted = torch.max(outputs.data, 1)\n",
    "            total += labels.size(0)\n",
    "            correct += (predicted == labels).sum().item()\n",
    "    \n",
    "        epoch_loss = running_loss / len(train_loader)\n",
    "        epoch_accuracy = 100 * correct / total\n",
    "        train_losses.append(epoch_loss)\n",
    "        train_accuracies.append(epoch_accuracy)\n",
    "    \n",
    "        print(f'Epoch [{epoch+1}/{num_epochs}], Loss: {epoch_loss:.4f}, Accuracy: {epoch_accuracy:.2f}%')\n",
    "    \n",
    "        running_loss = 0.0\n",
    "        correct = 0\n",
    "        total = 0\n",
    "        for inputs, labels in logreg_test_loader:\n",
    "    \n",
    "            with torch.inference_mode():\n",
    "                outputs = logreg(inputs)\n",
    "    \n",
    "            _, predicted = torch.max(outputs.data, 1)\n",
    "            total += labels.size(0)\n",
    "            correct += (predicted == labels).sum().item()\n",
    "    \n",
    "        epoch_loss = running_loss / len(logreg_test_loader)\n",
    "        epoch_accuracy = 100 * correct / total\n",
    "        train_losses.append(epoch_loss)\n",
    "        train_accuracies.append(epoch_accuracy)\n",
    "    \n",
    "        print(f'Test Loss: {epoch_loss:.4f}, Test Accuracy: {epoch_accuracy:.2f}%')\n",
    "    return epoch_accuracy"
   ]
  },
  {
   "cell_type": "markdown",
   "id": "cc154dca-b783-4f06-bc18-9e526e123e8e",
   "metadata": {},
   "source": [
    "### Linear Probe x_1"
   ]
  },
  {
   "cell_type": "code",
   "execution_count": 73,
   "id": "38a792cf-5cc2-415a-9b1f-9591cc05a1a8",
   "metadata": {},
   "outputs": [],
   "source": [
    "# n_batches = 100\n",
    "# X = []\n",
    "# y = []\n",
    "\n",
    "# for i,batch in tqdm(zip(range(n_batches), test_dataloader), total=n_batches):\n",
    "#     Xbatch, ybatch = extract_Ln_second_node_xy(batch, model, n=0)\n",
    "\n",
    "#     X.append(Xbatch)\n",
    "#     y.append(ybatch)\n",
    "\n",
    "\n",
    "# X = torch.cat(X)\n",
    "# y = torch.cat(y)\n",
    "\n",
    "# y_first_node = torch.tensor( [get_first_node(i.item()) for i in y] )\n",
    "# y_second_node = torch.tensor( [get_second_node(i.item()) for i in y] )"
   ]
  },
  {
   "cell_type": "code",
   "execution_count": 74,
   "id": "b0d91548-e975-43d5-ad09-2b741bf2e3c1",
   "metadata": {},
   "outputs": [],
   "source": [
    "# run_logreg(X, y_first_node)"
   ]
  },
  {
   "cell_type": "code",
   "execution_count": 75,
   "id": "644e8fd9-37ad-4273-90d3-2a750380f6fe",
   "metadata": {},
   "outputs": [],
   "source": [
    "# run_logreg(X, y_second_node)"
   ]
  },
  {
   "cell_type": "markdown",
   "id": "79489d51-2d70-44f8-8615-c0f6cd205e75",
   "metadata": {},
   "source": [
    "### Linear Probe x_0"
   ]
  },
  {
   "cell_type": "code",
   "execution_count": 76,
   "id": "d2e66d92-a6bb-49ea-a42d-a650b88085ad",
   "metadata": {},
   "outputs": [],
   "source": [
    "# cache['embed']"
   ]
  },
  {
   "cell_type": "code",
   "execution_count": 77,
   "id": "43bd3b22-9d81-43a4-be0e-e89230bc2560",
   "metadata": {},
   "outputs": [],
   "source": [
    "\n",
    "\n",
    "# n_batches = 100\n",
    "# X = []\n",
    "# y = []\n",
    "\n",
    "# for i,batch in tqdm(zip(range(n_batches), test_dataloader), total=n_batches):\n",
    "#     Xbatch, ybatch = extract_Ln_second_node_xy(batch, model,key='embed', n=None)\n",
    "\n",
    "#     X.append(Xbatch)\n",
    "#     y.append(ybatch)\n",
    "\n",
    "\n",
    "# X = torch.cat(X)\n",
    "# y = torch.cat(y)\n",
    "\n",
    "# y_first_node = torch.tensor( [get_first_node(i.item()) for i in y] )\n",
    "# y_second_node = torch.tensor( [get_second_node(i.item()) for i in y] )"
   ]
  },
  {
   "cell_type": "code",
   "execution_count": 78,
   "id": "8cfc7e3a-77fa-44e9-8b1a-7414b135fc6b",
   "metadata": {},
   "outputs": [],
   "source": [
    "# run_logreg(X, y_first_node)"
   ]
  },
  {
   "cell_type": "code",
   "execution_count": 79,
   "id": "536c03fb-2388-438d-aea8-f0beb33147de",
   "metadata": {},
   "outputs": [],
   "source": [
    "# run_logreg(X, y_second_node)"
   ]
  },
  {
   "cell_type": "code",
   "execution_count": null,
   "id": "b75490b6-89ad-4121-a3e5-23632c8f87bc",
   "metadata": {},
   "outputs": [],
   "source": []
  },
  {
   "cell_type": "markdown",
   "id": "b7336f08-fac5-4402-b5ee-ff52ac5c5def",
   "metadata": {},
   "source": [
    "### Linear Probe each layer!"
   ]
  },
  {
   "cell_type": "code",
   "execution_count": 80,
   "id": "61dcdff9-ca69-4a23-84b3-e861d9c423d3",
   "metadata": {},
   "outputs": [
    {
     "data": {
      "text/plain": [
       "[{'key': 'embed', 'n': None},\n",
       " {'key': 'resid_post', 'n': 0},\n",
       " {'key': 'resid_post', 'n': 1},\n",
       " {'key': 'resid_post', 'n': 2},\n",
       " {'key': 'resid_post', 'n': 3},\n",
       " {'key': 'resid_post', 'n': 4},\n",
       " {'key': 'resid_post', 'n': 5}]"
      ]
     },
     "execution_count": 80,
     "metadata": {},
     "output_type": "execute_result"
    }
   ],
   "source": [
    "cache_keys = [{'key': 'resid_post', \"n\": n} for n in range(6)]\n",
    "cache_keys = [{'key': 'embed', 'n': None}] + cache_keys\n",
    "cache_keys"
   ]
  },
  {
   "cell_type": "code",
   "execution_count": 81,
   "id": "1d1d929a-38e9-46eb-a3da-6d72d6727866",
   "metadata": {},
   "outputs": [
    {
     "data": {
      "application/vnd.jupyter.widget-view+json": {
       "model_id": "5dfa182e884f4cdb96b87e0ab3349661",
       "version_major": 2,
       "version_minor": 0
      },
      "text/plain": [
       "  0%|          | 0/100 [00:00<?, ?it/s]"
      ]
     },
     "metadata": {},
     "output_type": "display_data"
    },
    {
     "name": "stdout",
     "output_type": "stream",
     "text": [
      "Epoch [1/5], Loss: 2.7370, Accuracy: 6.78%\n",
      "Test Loss: 0.0000, Test Accuracy: 6.57%\n",
      "Epoch [2/5], Loss: 2.7203, Accuracy: 6.79%\n",
      "Test Loss: 0.0000, Test Accuracy: 6.78%\n",
      "Epoch [3/5], Loss: 2.7168, Accuracy: 6.75%\n",
      "Test Loss: 0.0000, Test Accuracy: 6.52%\n",
      "Epoch [4/5], Loss: 2.7155, Accuracy: 6.78%\n",
      "Test Loss: 0.0000, Test Accuracy: 6.70%\n",
      "Epoch [5/5], Loss: 2.7147, Accuracy: 6.55%\n",
      "Test Loss: 0.0000, Test Accuracy: 6.64%\n",
      "Epoch [1/5], Loss: 0.2792, Accuracy: 98.98%\n",
      "Test Loss: 0.0000, Test Accuracy: 100.00%\n",
      "Epoch [2/5], Loss: 0.0091, Accuracy: 100.00%\n",
      "Test Loss: 0.0000, Test Accuracy: 100.00%\n",
      "Epoch [3/5], Loss: 0.0032, Accuracy: 100.00%\n",
      "Test Loss: 0.0000, Test Accuracy: 100.00%\n",
      "Epoch [4/5], Loss: 0.0015, Accuracy: 100.00%\n",
      "Test Loss: 0.0000, Test Accuracy: 100.00%\n",
      "Epoch [5/5], Loss: 0.0008, Accuracy: 100.00%\n",
      "Test Loss: 0.0000, Test Accuracy: 100.00%\n",
      "metric={'acc_node_0': 6.640625, 'acc_node_1': 100.0, 'layer_name': 'key=embed n=None'}\n"
     ]
    },
    {
     "data": {
      "application/vnd.jupyter.widget-view+json": {
       "model_id": "157ab1e0aafb43268a7d3c0b480a295f",
       "version_major": 2,
       "version_minor": 0
      },
      "text/plain": [
       "  0%|          | 0/100 [00:00<?, ?it/s]"
      ]
     },
     "metadata": {},
     "output_type": "display_data"
    },
    {
     "name": "stdout",
     "output_type": "stream",
     "text": [
      "Epoch [1/5], Loss: 0.2143, Accuracy: 93.28%\n",
      "Test Loss: 0.0000, Test Accuracy: 95.76%\n",
      "Epoch [2/5], Loss: 0.0916, Accuracy: 97.47%\n",
      "Test Loss: 0.0000, Test Accuracy: 98.21%\n",
      "Epoch [3/5], Loss: 0.0518, Accuracy: 99.14%\n",
      "Test Loss: 0.0000, Test Accuracy: 99.59%\n",
      "Epoch [4/5], Loss: 0.0305, Accuracy: 99.69%\n",
      "Test Loss: 0.0000, Test Accuracy: 99.92%\n",
      "Epoch [5/5], Loss: 0.0190, Accuracy: 99.87%\n",
      "Test Loss: 0.0000, Test Accuracy: 99.92%\n",
      "Epoch [1/5], Loss: 0.2600, Accuracy: 95.33%\n",
      "Test Loss: 0.0000, Test Accuracy: 100.00%\n",
      "Epoch [2/5], Loss: 0.0131, Accuracy: 100.00%\n",
      "Test Loss: 0.0000, Test Accuracy: 100.00%\n",
      "Epoch [3/5], Loss: 0.0041, Accuracy: 100.00%\n",
      "Test Loss: 0.0000, Test Accuracy: 100.00%\n",
      "Epoch [4/5], Loss: 0.0019, Accuracy: 100.00%\n",
      "Test Loss: 0.0000, Test Accuracy: 100.00%\n",
      "Epoch [5/5], Loss: 0.0010, Accuracy: 100.00%\n",
      "Test Loss: 0.0000, Test Accuracy: 100.00%\n",
      "metric={'acc_node_0': 99.921875, 'acc_node_1': 100.0, 'layer_name': 'key=resid_post n=0'}\n"
     ]
    },
    {
     "data": {
      "application/vnd.jupyter.widget-view+json": {
       "model_id": "6e5c61c3a8fc47b28fe4cc40deb65729",
       "version_major": 2,
       "version_minor": 0
      },
      "text/plain": [
       "  0%|          | 0/100 [00:00<?, ?it/s]"
      ]
     },
     "metadata": {},
     "output_type": "display_data"
    },
    {
     "name": "stdout",
     "output_type": "stream",
     "text": [
      "Epoch [1/5], Loss: 0.9839, Accuracy: 85.32%\n",
      "Test Loss: 0.0000, Test Accuracy: 93.14%\n",
      "Epoch [2/5], Loss: 0.2294, Accuracy: 93.47%\n",
      "Test Loss: 0.0000, Test Accuracy: 93.97%\n",
      "Epoch [3/5], Loss: 0.1966, Accuracy: 93.89%\n",
      "Test Loss: 0.0000, Test Accuracy: 94.25%\n",
      "Epoch [4/5], Loss: 0.1787, Accuracy: 94.40%\n",
      "Test Loss: 0.0000, Test Accuracy: 94.56%\n",
      "Epoch [5/5], Loss: 0.1598, Accuracy: 94.96%\n",
      "Test Loss: 0.0000, Test Accuracy: 94.60%\n",
      "Epoch [1/5], Loss: 1.7985, Accuracy: 82.56%\n",
      "Test Loss: 0.0000, Test Accuracy: 94.59%\n",
      "Epoch [2/5], Loss: 0.1405, Accuracy: 97.28%\n",
      "Test Loss: 0.0000, Test Accuracy: 99.30%\n",
      "Epoch [3/5], Loss: 0.0545, Accuracy: 99.49%\n",
      "Test Loss: 0.0000, Test Accuracy: 99.82%\n",
      "Epoch [4/5], Loss: 0.0273, Accuracy: 99.80%\n",
      "Test Loss: 0.0000, Test Accuracy: 99.53%\n",
      "Epoch [5/5], Loss: 0.0186, Accuracy: 99.79%\n",
      "Test Loss: 0.0000, Test Accuracy: 99.94%\n",
      "metric={'acc_node_0': 94.60379464285714, 'acc_node_1': 99.94419642857143, 'layer_name': 'key=resid_post n=1'}\n"
     ]
    },
    {
     "data": {
      "application/vnd.jupyter.widget-view+json": {
       "model_id": "28484f7572da49dcadb12d2460eda119",
       "version_major": 2,
       "version_minor": 0
      },
      "text/plain": [
       "  0%|          | 0/100 [00:00<?, ?it/s]"
      ]
     },
     "metadata": {},
     "output_type": "display_data"
    },
    {
     "name": "stdout",
     "output_type": "stream",
     "text": [
      "Epoch [1/5], Loss: 1.6028, Accuracy: 79.74%\n",
      "Test Loss: 0.0000, Test Accuracy: 92.14%\n",
      "Epoch [2/5], Loss: 0.2696, Accuracy: 92.73%\n",
      "Test Loss: 0.0000, Test Accuracy: 92.69%\n",
      "Epoch [3/5], Loss: 0.2291, Accuracy: 93.39%\n",
      "Test Loss: 0.0000, Test Accuracy: 93.76%\n",
      "Epoch [4/5], Loss: 0.2044, Accuracy: 93.88%\n",
      "Test Loss: 0.0000, Test Accuracy: 94.33%\n",
      "Epoch [5/5], Loss: 0.1893, Accuracy: 94.21%\n",
      "Test Loss: 0.0000, Test Accuracy: 95.38%\n",
      "Epoch [1/5], Loss: 1.8390, Accuracy: 78.47%\n",
      "Test Loss: 0.0000, Test Accuracy: 90.54%\n",
      "Epoch [2/5], Loss: 0.2796, Accuracy: 93.41%\n",
      "Test Loss: 0.0000, Test Accuracy: 95.35%\n",
      "Epoch [3/5], Loss: 0.1627, Accuracy: 96.57%\n",
      "Test Loss: 0.0000, Test Accuracy: 97.28%\n",
      "Epoch [4/5], Loss: 0.1110, Accuracy: 97.85%\n",
      "Test Loss: 0.0000, Test Accuracy: 98.90%\n",
      "Epoch [5/5], Loss: 0.0769, Accuracy: 98.61%\n",
      "Test Loss: 0.0000, Test Accuracy: 99.21%\n",
      "metric={'acc_node_0': 95.37946428571429, 'acc_node_1': 99.21316964285714, 'layer_name': 'key=resid_post n=2'}\n"
     ]
    },
    {
     "data": {
      "application/vnd.jupyter.widget-view+json": {
       "model_id": "7b1a5791da7c429d85737ffdf2b130f8",
       "version_major": 2,
       "version_minor": 0
      },
      "text/plain": [
       "  0%|          | 0/100 [00:00<?, ?it/s]"
      ]
     },
     "metadata": {},
     "output_type": "display_data"
    },
    {
     "name": "stdout",
     "output_type": "stream",
     "text": [
      "Epoch [1/5], Loss: 3.1391, Accuracy: 70.40%\n",
      "Test Loss: 0.0000, Test Accuracy: 90.13%\n",
      "Epoch [2/5], Loss: 0.3467, Accuracy: 91.15%\n",
      "Test Loss: 0.0000, Test Accuracy: 92.68%\n",
      "Epoch [3/5], Loss: 0.2908, Accuracy: 92.19%\n",
      "Test Loss: 0.0000, Test Accuracy: 92.48%\n",
      "Epoch [4/5], Loss: 0.2607, Accuracy: 92.79%\n",
      "Test Loss: 0.0000, Test Accuracy: 93.34%\n",
      "Epoch [5/5], Loss: 0.2431, Accuracy: 93.08%\n",
      "Test Loss: 0.0000, Test Accuracy: 94.30%\n",
      "Epoch [1/5], Loss: 2.3548, Accuracy: 74.44%\n",
      "Test Loss: 0.0000, Test Accuracy: 88.24%\n",
      "Epoch [2/5], Loss: 0.3895, Accuracy: 90.57%\n",
      "Test Loss: 0.0000, Test Accuracy: 90.97%\n",
      "Epoch [3/5], Loss: 0.2645, Accuracy: 93.00%\n",
      "Test Loss: 0.0000, Test Accuracy: 94.58%\n",
      "Epoch [4/5], Loss: 0.1874, Accuracy: 95.07%\n",
      "Test Loss: 0.0000, Test Accuracy: 96.48%\n",
      "Epoch [5/5], Loss: 0.1485, Accuracy: 96.17%\n",
      "Test Loss: 0.0000, Test Accuracy: 95.57%\n",
      "metric={'acc_node_0': 94.30245535714286, 'acc_node_1': 95.56919642857143, 'layer_name': 'key=resid_post n=3'}\n"
     ]
    },
    {
     "data": {
      "application/vnd.jupyter.widget-view+json": {
       "model_id": "4179e0f997c14d72b44d060ab474925e",
       "version_major": 2,
       "version_minor": 0
      },
      "text/plain": [
       "  0%|          | 0/100 [00:00<?, ?it/s]"
      ]
     },
     "metadata": {},
     "output_type": "display_data"
    },
    {
     "name": "stdout",
     "output_type": "stream",
     "text": [
      "Epoch [1/5], Loss: 2.6012, Accuracy: 71.35%\n",
      "Test Loss: 0.0000, Test Accuracy: 90.03%\n",
      "Epoch [2/5], Loss: 0.3403, Accuracy: 91.42%\n",
      "Test Loss: 0.0000, Test Accuracy: 92.78%\n",
      "Epoch [3/5], Loss: 0.2875, Accuracy: 92.22%\n",
      "Test Loss: 0.0000, Test Accuracy: 91.96%\n",
      "Epoch [4/5], Loss: 0.2619, Accuracy: 92.69%\n",
      "Test Loss: 0.0000, Test Accuracy: 93.02%\n",
      "Epoch [5/5], Loss: 0.2407, Accuracy: 93.21%\n",
      "Test Loss: 0.0000, Test Accuracy: 93.86%\n",
      "Epoch [1/5], Loss: 2.7030, Accuracy: 73.26%\n",
      "Test Loss: 0.0000, Test Accuracy: 90.08%\n",
      "Epoch [2/5], Loss: 0.4188, Accuracy: 90.18%\n",
      "Test Loss: 0.0000, Test Accuracy: 91.65%\n",
      "Epoch [3/5], Loss: 0.2766, Accuracy: 92.73%\n",
      "Test Loss: 0.0000, Test Accuracy: 94.07%\n",
      "Epoch [4/5], Loss: 0.1988, Accuracy: 94.88%\n",
      "Test Loss: 0.0000, Test Accuracy: 97.11%\n",
      "Epoch [5/5], Loss: 0.1491, Accuracy: 96.21%\n",
      "Test Loss: 0.0000, Test Accuracy: 96.48%\n",
      "metric={'acc_node_0': 93.85602678571429, 'acc_node_1': 96.484375, 'layer_name': 'key=resid_post n=4'}\n"
     ]
    },
    {
     "data": {
      "application/vnd.jupyter.widget-view+json": {
       "model_id": "d99e575110f744db809705bc531808b8",
       "version_major": 2,
       "version_minor": 0
      },
      "text/plain": [
       "  0%|          | 0/100 [00:00<?, ?it/s]"
      ]
     },
     "metadata": {},
     "output_type": "display_data"
    },
    {
     "name": "stdout",
     "output_type": "stream",
     "text": [
      "Epoch [1/5], Loss: 2.2266, Accuracy: 72.71%\n",
      "Test Loss: 0.0000, Test Accuracy: 90.05%\n",
      "Epoch [2/5], Loss: 0.3424, Accuracy: 91.21%\n",
      "Test Loss: 0.0000, Test Accuracy: 92.07%\n",
      "Epoch [3/5], Loss: 0.2922, Accuracy: 92.05%\n",
      "Test Loss: 0.0000, Test Accuracy: 92.91%\n",
      "Epoch [4/5], Loss: 0.2544, Accuracy: 92.94%\n",
      "Test Loss: 0.0000, Test Accuracy: 93.35%\n",
      "Epoch [5/5], Loss: 0.2343, Accuracy: 93.36%\n",
      "Test Loss: 0.0000, Test Accuracy: 94.08%\n",
      "Epoch [1/5], Loss: 2.8577, Accuracy: 72.81%\n",
      "Test Loss: 0.0000, Test Accuracy: 90.01%\n",
      "Epoch [2/5], Loss: 0.3831, Accuracy: 90.54%\n",
      "Test Loss: 0.0000, Test Accuracy: 92.29%\n",
      "Epoch [3/5], Loss: 0.2567, Accuracy: 93.11%\n",
      "Test Loss: 0.0000, Test Accuracy: 93.47%\n",
      "Epoch [4/5], Loss: 0.1806, Accuracy: 95.47%\n",
      "Test Loss: 0.0000, Test Accuracy: 97.59%\n",
      "Epoch [5/5], Loss: 0.1436, Accuracy: 96.32%\n",
      "Test Loss: 0.0000, Test Accuracy: 96.36%\n",
      "metric={'acc_node_0': 94.08482142857143, 'acc_node_1': 96.35602678571429, 'layer_name': 'key=resid_post n=5'}\n"
     ]
    }
   ],
   "source": [
    "accuracies = []\n",
    "\n",
    "for cache_key in cache_keys:\n",
    "    n_batches = 100\n",
    "    X = []\n",
    "    y = []\n",
    "    \n",
    "    for i,batch in tqdm(zip(range(n_batches), test_dataloader), total=n_batches):\n",
    "        Xbatch, ybatch = extract_Ln_second_node_xy(batch, model, **cache_key)\n",
    "    \n",
    "        X.append(Xbatch)\n",
    "        y.append(ybatch)\n",
    "    \n",
    "    \n",
    "    X = torch.cat(X)\n",
    "    y = torch.cat(y)\n",
    "    \n",
    "    y_first_node = torch.tensor( [get_first_node(i.item()) for i in y] )\n",
    "    y_second_node = torch.tensor( [get_second_node(i.item()) for i in y] )\n",
    "\n",
    "    acc_node0 = run_logreg(X, y_first_node)\n",
    "    acc_node1 = run_logreg(X, y_second_node)\n",
    "\n",
    "\n",
    "    layer_name = ''.join ( [f'{k}={v} ' for k,v in cache_key.items()] )[:-1]\n",
    "    metric = {'acc_node_0': float(acc_node0), 'acc_node_1': float(acc_node1), 'layer_name':layer_name}\n",
    "    print(f'{metric=}')\n",
    "\n",
    "    accuracies.append(metric)"
   ]
  },
  {
   "cell_type": "code",
   "execution_count": 82,
   "id": "c2d68d51-2740-40f8-ba9f-33852b7f5864",
   "metadata": {},
   "outputs": [
    {
     "data": {
      "text/html": [
       "<div>\n",
       "<style scoped>\n",
       "    .dataframe tbody tr th:only-of-type {\n",
       "        vertical-align: middle;\n",
       "    }\n",
       "\n",
       "    .dataframe tbody tr th {\n",
       "        vertical-align: top;\n",
       "    }\n",
       "\n",
       "    .dataframe thead th {\n",
       "        text-align: right;\n",
       "    }\n",
       "</style>\n",
       "<table border=\"1\" class=\"dataframe\">\n",
       "  <thead>\n",
       "    <tr style=\"text-align: right;\">\n",
       "      <th></th>\n",
       "      <th>acc_node_0</th>\n",
       "      <th>acc_node_1</th>\n",
       "      <th>layer_name</th>\n",
       "    </tr>\n",
       "  </thead>\n",
       "  <tbody>\n",
       "    <tr>\n",
       "      <th>0</th>\n",
       "      <td>6.640625</td>\n",
       "      <td>100.000000</td>\n",
       "      <td>key=embed n=None</td>\n",
       "    </tr>\n",
       "    <tr>\n",
       "      <th>1</th>\n",
       "      <td>99.921875</td>\n",
       "      <td>100.000000</td>\n",
       "      <td>key=resid_post n=0</td>\n",
       "    </tr>\n",
       "    <tr>\n",
       "      <th>2</th>\n",
       "      <td>94.603795</td>\n",
       "      <td>99.944196</td>\n",
       "      <td>key=resid_post n=1</td>\n",
       "    </tr>\n",
       "    <tr>\n",
       "      <th>3</th>\n",
       "      <td>95.379464</td>\n",
       "      <td>99.213170</td>\n",
       "      <td>key=resid_post n=2</td>\n",
       "    </tr>\n",
       "    <tr>\n",
       "      <th>4</th>\n",
       "      <td>94.302455</td>\n",
       "      <td>95.569196</td>\n",
       "      <td>key=resid_post n=3</td>\n",
       "    </tr>\n",
       "    <tr>\n",
       "      <th>5</th>\n",
       "      <td>93.856027</td>\n",
       "      <td>96.484375</td>\n",
       "      <td>key=resid_post n=4</td>\n",
       "    </tr>\n",
       "    <tr>\n",
       "      <th>6</th>\n",
       "      <td>94.084821</td>\n",
       "      <td>96.356027</td>\n",
       "      <td>key=resid_post n=5</td>\n",
       "    </tr>\n",
       "  </tbody>\n",
       "</table>\n",
       "</div>"
      ],
      "text/plain": [
       "   acc_node_0  acc_node_1          layer_name\n",
       "0    6.640625  100.000000    key=embed n=None\n",
       "1   99.921875  100.000000  key=resid_post n=0\n",
       "2   94.603795   99.944196  key=resid_post n=1\n",
       "3   95.379464   99.213170  key=resid_post n=2\n",
       "4   94.302455   95.569196  key=resid_post n=3\n",
       "5   93.856027   96.484375  key=resid_post n=4\n",
       "6   94.084821   96.356027  key=resid_post n=5"
      ]
     },
     "execution_count": 82,
     "metadata": {},
     "output_type": "execute_result"
    }
   ],
   "source": [
    "pd.DataFrame(accuracies)"
   ]
  },
  {
   "cell_type": "markdown",
   "id": "1e5bb693-a3af-419a-9e07-dd3aa823e365",
   "metadata": {},
   "source": [
    "### probe token that is next to second node token"
   ]
  },
  {
   "cell_type": "code",
   "execution_count": null,
   "id": "db9e7552-a57d-4a05-85bc-540ca5148f33",
   "metadata": {},
   "outputs": [],
   "source": []
  },
  {
   "cell_type": "code",
   "execution_count": null,
   "id": "6ee168c9-39fa-4a71-920e-02f03c5d93b6",
   "metadata": {},
   "outputs": [],
   "source": []
  },
  {
   "cell_type": "code",
   "execution_count": 83,
   "id": "5eccb6f4-f6e6-4948-b226-72d270ca5505",
   "metadata": {},
   "outputs": [
    {
     "data": {
      "text/plain": [
       "tensor[14] i64 x∈[2, 41] μ=21.500 σ=12.550\n",
       "tensor([ 2,  5,  8, 11, 14, 17, 20, 23, 26, 29, 32, 35, 38, 41])"
      ]
     },
     "execution_count": 83,
     "metadata": {},
     "output_type": "execute_result"
    }
   ],
   "source": [
    "third_token_idx = torch.arange(2, 14*3, 3)\n",
    "third_token_idx.v"
   ]
  },
  {
   "cell_type": "code",
   "execution_count": 84,
   "id": "0891c2f2-4e28-409f-bba2-2e6694d37ad3",
   "metadata": {},
   "outputs": [],
   "source": [
    "def extract_Ln_third_node(batch, model, key='resid_post', n=0):\n",
    "    cache = get_cache(batch, model)\n",
    "    resid_act0 = cache[key, n]\n",
    "    \n",
    "    X = resid_act0[:, third_token_idx].reshape(-1, d_model)\n",
    "    y = get_edge_labels(batch).reshape(-1)\n",
    "    \n",
    "    return X,y"
   ]
  },
  {
   "cell_type": "code",
   "execution_count": 85,
   "id": "cec70f3d-242a-49b5-a464-a250799625fb",
   "metadata": {},
   "outputs": [
    {
     "data": {
      "application/vnd.jupyter.widget-view+json": {
       "model_id": "0848caaffd404463b2e7ecba52a78f65",
       "version_major": 2,
       "version_minor": 0
      },
      "text/plain": [
       "  0%|          | 0/100 [00:00<?, ?it/s]"
      ]
     },
     "metadata": {},
     "output_type": "display_data"
    },
    {
     "name": "stdout",
     "output_type": "stream",
     "text": [
      "Epoch [1/5], Loss: 2.7750, Accuracy: 6.20%\n",
      "Test Loss: 0.0000, Test Accuracy: 5.99%\n",
      "Epoch [2/5], Loss: 2.7750, Accuracy: 6.37%\n",
      "Test Loss: 0.0000, Test Accuracy: 6.37%\n",
      "Epoch [3/5], Loss: 2.7748, Accuracy: 6.32%\n",
      "Test Loss: 0.0000, Test Accuracy: 6.19%\n",
      "Epoch [4/5], Loss: 2.7748, Accuracy: 6.34%\n",
      "Test Loss: 0.0000, Test Accuracy: 6.19%\n",
      "Epoch [5/5], Loss: 2.7747, Accuracy: 6.34%\n",
      "Test Loss: 0.0000, Test Accuracy: 6.43%\n",
      "Epoch [1/5], Loss: 2.7749, Accuracy: 6.26%\n",
      "Test Loss: 0.0000, Test Accuracy: 6.56%\n",
      "Epoch [2/5], Loss: 2.7749, Accuracy: 6.16%\n",
      "Test Loss: 0.0000, Test Accuracy: 6.07%\n",
      "Epoch [3/5], Loss: 2.7746, Accuracy: 6.17%\n",
      "Test Loss: 0.0000, Test Accuracy: 6.56%\n",
      "Epoch [4/5], Loss: 2.7748, Accuracy: 6.33%\n",
      "Test Loss: 0.0000, Test Accuracy: 6.25%\n",
      "Epoch [5/5], Loss: 2.7748, Accuracy: 6.38%\n",
      "Test Loss: 0.0000, Test Accuracy: 6.25%\n",
      "metric={'acc_node_0': 6.434151785714286, 'acc_node_1': 6.25, 'layer_name': 'key=embed n=None'}\n"
     ]
    },
    {
     "data": {
      "application/vnd.jupyter.widget-view+json": {
       "model_id": "d2b0d53a09444db9a15d4d4fb4406923",
       "version_major": 2,
       "version_minor": 0
      },
      "text/plain": [
       "  0%|          | 0/100 [00:00<?, ?it/s]"
      ]
     },
     "metadata": {},
     "output_type": "display_data"
    },
    {
     "name": "stdout",
     "output_type": "stream",
     "text": [
      "Epoch [1/5], Loss: 0.2662, Accuracy: 92.34%\n",
      "Test Loss: 0.0000, Test Accuracy: 93.60%\n",
      "Epoch [2/5], Loss: 0.2019, Accuracy: 93.51%\n",
      "Test Loss: 0.0000, Test Accuracy: 93.61%\n",
      "Epoch [3/5], Loss: 0.2019, Accuracy: 93.54%\n",
      "Test Loss: 0.0000, Test Accuracy: 93.57%\n",
      "Epoch [4/5], Loss: 0.2005, Accuracy: 93.54%\n",
      "Test Loss: 0.0000, Test Accuracy: 93.60%\n",
      "Epoch [5/5], Loss: 0.2017, Accuracy: 93.58%\n",
      "Test Loss: 0.0000, Test Accuracy: 93.52%\n",
      "Epoch [1/5], Loss: 0.3866, Accuracy: 91.06%\n",
      "Test Loss: 0.0000, Test Accuracy: 93.38%\n",
      "Epoch [2/5], Loss: 0.2751, Accuracy: 93.30%\n",
      "Test Loss: 0.0000, Test Accuracy: 93.39%\n",
      "Epoch [3/5], Loss: 0.2681, Accuracy: 93.26%\n",
      "Test Loss: 0.0000, Test Accuracy: 93.36%\n",
      "Epoch [4/5], Loss: 0.2613, Accuracy: 93.29%\n",
      "Test Loss: 0.0000, Test Accuracy: 93.30%\n",
      "Epoch [5/5], Loss: 0.2570, Accuracy: 93.26%\n",
      "Test Loss: 0.0000, Test Accuracy: 93.35%\n",
      "metric={'acc_node_0': 93.515625, 'acc_node_1': 93.34821428571429, 'layer_name': 'key=resid_post n=0'}\n"
     ]
    },
    {
     "data": {
      "application/vnd.jupyter.widget-view+json": {
       "model_id": "627fe75617c44ccab15d9a1ea80001de",
       "version_major": 2,
       "version_minor": 0
      },
      "text/plain": [
       "  0%|          | 0/100 [00:00<?, ?it/s]"
      ]
     },
     "metadata": {},
     "output_type": "display_data"
    },
    {
     "name": "stdout",
     "output_type": "stream",
     "text": [
      "Epoch [1/5], Loss: 0.7171, Accuracy: 91.13%\n",
      "Test Loss: 0.0000, Test Accuracy: 93.30%\n",
      "Epoch [2/5], Loss: 0.4164, Accuracy: 93.46%\n",
      "Test Loss: 0.0000, Test Accuracy: 93.50%\n",
      "Epoch [3/5], Loss: 0.3902, Accuracy: 93.50%\n",
      "Test Loss: 0.0000, Test Accuracy: 93.48%\n",
      "Epoch [4/5], Loss: 0.4124, Accuracy: 93.47%\n",
      "Test Loss: 0.0000, Test Accuracy: 93.60%\n",
      "Epoch [5/5], Loss: 0.4039, Accuracy: 93.49%\n",
      "Test Loss: 0.0000, Test Accuracy: 93.59%\n",
      "Epoch [1/5], Loss: 0.8389, Accuracy: 89.46%\n",
      "Test Loss: 0.0000, Test Accuracy: 93.38%\n",
      "Epoch [2/5], Loss: 0.4604, Accuracy: 93.36%\n",
      "Test Loss: 0.0000, Test Accuracy: 93.46%\n",
      "Epoch [3/5], Loss: 0.4440, Accuracy: 93.29%\n",
      "Test Loss: 0.0000, Test Accuracy: 93.40%\n",
      "Epoch [4/5], Loss: 0.4356, Accuracy: 93.33%\n",
      "Test Loss: 0.0000, Test Accuracy: 93.44%\n",
      "Epoch [5/5], Loss: 0.4179, Accuracy: 93.32%\n",
      "Test Loss: 0.0000, Test Accuracy: 93.48%\n",
      "metric={'acc_node_0': 93.58816964285714, 'acc_node_1': 93.48214285714286, 'layer_name': 'key=resid_post n=1'}\n"
     ]
    },
    {
     "data": {
      "application/vnd.jupyter.widget-view+json": {
       "model_id": "ced84788d7c947438816e3c9f6737dfe",
       "version_major": 2,
       "version_minor": 0
      },
      "text/plain": [
       "  0%|          | 0/100 [00:00<?, ?it/s]"
      ]
     },
     "metadata": {},
     "output_type": "display_data"
    },
    {
     "ename": "KeyboardInterrupt",
     "evalue": "",
     "output_type": "error",
     "traceback": [
      "\u001b[0;31m---------------------------------------------------------------------------\u001b[0m",
      "\u001b[0;31mKeyboardInterrupt\u001b[0m                         Traceback (most recent call last)",
      "Cell \u001b[0;32mIn[85], line 9\u001b[0m\n\u001b[1;32m      6\u001b[0m y \u001b[38;5;241m=\u001b[39m []\n\u001b[1;32m      8\u001b[0m \u001b[38;5;28;01mfor\u001b[39;00m i,batch \u001b[38;5;129;01min\u001b[39;00m tqdm(\u001b[38;5;28mzip\u001b[39m(\u001b[38;5;28mrange\u001b[39m(n_batches), test_dataloader), total\u001b[38;5;241m=\u001b[39mn_batches):\n\u001b[0;32m----> 9\u001b[0m     Xbatch, ybatch \u001b[38;5;241m=\u001b[39m \u001b[43mextract_Ln_third_node\u001b[49m\u001b[43m(\u001b[49m\u001b[43mbatch\u001b[49m\u001b[43m,\u001b[49m\u001b[43m \u001b[49m\u001b[43mmodel\u001b[49m\u001b[43m,\u001b[49m\u001b[43m \u001b[49m\u001b[38;5;241;43m*\u001b[39;49m\u001b[38;5;241;43m*\u001b[39;49m\u001b[43mcache_key\u001b[49m\u001b[43m)\u001b[49m\n\u001b[1;32m     11\u001b[0m     X\u001b[38;5;241m.\u001b[39mappend(Xbatch)\n\u001b[1;32m     12\u001b[0m     y\u001b[38;5;241m.\u001b[39mappend(ybatch)\n",
      "Cell \u001b[0;32mIn[84], line 3\u001b[0m, in \u001b[0;36mextract_Ln_third_node\u001b[0;34m(batch, model, key, n)\u001b[0m\n\u001b[1;32m      1\u001b[0m \u001b[38;5;28;01mdef\u001b[39;00m \u001b[38;5;21mextract_Ln_third_node\u001b[39m(batch, model, key\u001b[38;5;241m=\u001b[39m\u001b[38;5;124m'\u001b[39m\u001b[38;5;124mresid_post\u001b[39m\u001b[38;5;124m'\u001b[39m, n\u001b[38;5;241m=\u001b[39m\u001b[38;5;241m0\u001b[39m):\n\u001b[1;32m      2\u001b[0m     cache \u001b[38;5;241m=\u001b[39m get_cache(batch, model)\n\u001b[0;32m----> 3\u001b[0m     resid_act0 \u001b[38;5;241m=\u001b[39m \u001b[43mcache\u001b[49m\u001b[43m[\u001b[49m\u001b[43mkey\u001b[49m\u001b[43m,\u001b[49m\u001b[43m \u001b[49m\u001b[43mn\u001b[49m\u001b[43m]\u001b[49m\n\u001b[1;32m      5\u001b[0m     X \u001b[38;5;241m=\u001b[39m resid_act0[:, third_token_idx]\u001b[38;5;241m.\u001b[39mreshape(\u001b[38;5;241m-\u001b[39m\u001b[38;5;241m1\u001b[39m, d_model)\n\u001b[1;32m      6\u001b[0m     y \u001b[38;5;241m=\u001b[39m get_edge_labels(batch)\u001b[38;5;241m.\u001b[39mreshape(\u001b[38;5;241m-\u001b[39m\u001b[38;5;241m1\u001b[39m)\n",
      "File \u001b[0;32m~/miniconda3/lib/python3.11/site-packages/transformer_lens/ActivationCache.py:154\u001b[0m, in \u001b[0;36mActivationCache.__getitem__\u001b[0;34m(self, key)\u001b[0m\n\u001b[1;32m    146\u001b[0m \u001b[38;5;250m    \u001b[39m\u001b[38;5;124;03m\"\"\"Representation of the ActivationCache.\u001b[39;00m\n\u001b[1;32m    147\u001b[0m \n\u001b[1;32m    148\u001b[0m \u001b[38;5;124;03m    Special method that returns a string representation of an object. It's normally used to give\u001b[39;00m\n\u001b[1;32m    149\u001b[0m \u001b[38;5;124;03m    a string that can be used to recreate the object, but here we just return a string that\u001b[39;00m\n\u001b[1;32m    150\u001b[0m \u001b[38;5;124;03m    describes the object.\u001b[39;00m\n\u001b[1;32m    151\u001b[0m \u001b[38;5;124;03m    \"\"\"\u001b[39;00m\n\u001b[1;32m    152\u001b[0m     \u001b[38;5;28;01mreturn\u001b[39;00m \u001b[38;5;124mf\u001b[39m\u001b[38;5;124m\"\u001b[39m\u001b[38;5;124mActivationCache with keys \u001b[39m\u001b[38;5;132;01m{\u001b[39;00m\u001b[38;5;28mlist\u001b[39m(\u001b[38;5;28mself\u001b[39m\u001b[38;5;241m.\u001b[39mcache_dict\u001b[38;5;241m.\u001b[39mkeys())\u001b[38;5;132;01m}\u001b[39;00m\u001b[38;5;124m\"\u001b[39m\n\u001b[0;32m--> 154\u001b[0m \u001b[38;5;28;01mdef\u001b[39;00m \u001b[38;5;21m__getitem__\u001b[39m(\u001b[38;5;28mself\u001b[39m, key) \u001b[38;5;241m-\u001b[39m\u001b[38;5;241m>\u001b[39m torch\u001b[38;5;241m.\u001b[39mTensor:\n\u001b[1;32m    155\u001b[0m \u001b[38;5;250m    \u001b[39m\u001b[38;5;124;03m\"\"\"Retrieve Cached Activations by Key or Shorthand.\u001b[39;00m\n\u001b[1;32m    156\u001b[0m \n\u001b[1;32m    157\u001b[0m \u001b[38;5;124;03m    Enables direct access to cached activations via dictionary-style indexing using keys or\u001b[39;00m\n\u001b[0;32m   (...)\u001b[0m\n\u001b[1;32m    166\u001b[0m \u001b[38;5;124;03m        The cached activation tensor corresponding to the given key.\u001b[39;00m\n\u001b[1;32m    167\u001b[0m \u001b[38;5;124;03m    \"\"\"\u001b[39;00m\n\u001b[1;32m    168\u001b[0m     \u001b[38;5;28;01mif\u001b[39;00m key \u001b[38;5;129;01min\u001b[39;00m \u001b[38;5;28mself\u001b[39m\u001b[38;5;241m.\u001b[39mcache_dict:\n",
      "\u001b[0;31mKeyboardInterrupt\u001b[0m: "
     ]
    }
   ],
   "source": [
    "accuracies = []\n",
    "\n",
    "for cache_key in cache_keys:\n",
    "    n_batches = 100\n",
    "    X = []\n",
    "    y = []\n",
    "    \n",
    "    for i,batch in tqdm(zip(range(n_batches), test_dataloader), total=n_batches):\n",
    "        Xbatch, ybatch = extract_Ln_third_node(batch, model, **cache_key)\n",
    "    \n",
    "        X.append(Xbatch)\n",
    "        y.append(ybatch)\n",
    "    \n",
    "    \n",
    "    X = torch.cat(X)\n",
    "    y = torch.cat(y)\n",
    "    \n",
    "    y_first_node = torch.tensor( [get_first_node(i.item()) for i in y] )\n",
    "    y_second_node = torch.tensor( [get_second_node(i.item()) for i in y] )\n",
    "\n",
    "    acc_node0 = run_logreg(X, y_first_node)\n",
    "    acc_node1 = run_logreg(X, y_second_node)\n",
    "\n",
    "\n",
    "    layer_name = ''.join ( [f'{k}={v} ' for k,v in cache_key.items()] )[:-1]\n",
    "    metric = {'acc_node_0': float(acc_node0), 'acc_node_1': float(acc_node1), 'layer_name':layer_name}\n",
    "    print(f'{metric=}')\n",
    "\n",
    "    accuracies.append(metric)"
   ]
  },
  {
   "cell_type": "code",
   "execution_count": null,
   "id": "b8cbd205-e03b-4e27-bdbc-8b9450100203",
   "metadata": {},
   "outputs": [],
   "source": [
    "pd.DataFrame(accuracies)"
   ]
  },
  {
   "cell_type": "code",
   "execution_count": null,
   "id": "74e4f0b7-95dc-4adc-a019-94ce31bac9d4",
   "metadata": {},
   "outputs": [],
   "source": [
    "fourth_token_idx = torch.arange(3, 15*3, 3) # <<-- Nota Bene magic number change\n",
    "fourth_token_idx.v"
   ]
  },
  {
   "cell_type": "code",
   "execution_count": null,
   "id": "4286e7cd-b134-4ca7-9f31-378296ae7acb",
   "metadata": {},
   "outputs": [],
   "source": [
    "def extract_Ln_fourth_node(batch, model, key='resid_post', n=0):\n",
    "    cache = get_cache(batch, model)\n",
    "    resid_act0 = cache[key, n]\n",
    "    \n",
    "    X = resid_act0[:, fourth_token_idx].reshape(-1, d_model)\n",
    "    y = get_edge_labels(batch).reshape(-1)\n",
    "    \n",
    "    return X,y"
   ]
  },
  {
   "cell_type": "code",
   "execution_count": null,
   "id": "e3eab959-3cce-4141-9c20-e9eb6c2db804",
   "metadata": {},
   "outputs": [],
   "source": [
    "accuracies = []\n",
    "\n",
    "for cache_key in cache_keys:\n",
    "    n_batches = 100\n",
    "    X = []\n",
    "    y = []\n",
    "    \n",
    "    for i,batch in tqdm(zip(range(n_batches), test_dataloader), total=n_batches):\n",
    "        Xbatch, ybatch = extract_Ln_fourth_node(batch, model, **cache_key)\n",
    "    \n",
    "        X.append(Xbatch)\n",
    "        y.append(ybatch)\n",
    "    \n",
    "    \n",
    "    X = torch.cat(X)\n",
    "    y = torch.cat(y)\n",
    "    \n",
    "    y_first_node = torch.tensor( [get_first_node(i.item()) for i in y] )\n",
    "    y_second_node = torch.tensor( [get_second_node(i.item()) for i in y] )\n",
    "\n",
    "    acc_node0 = run_logreg(X, y_first_node)\n",
    "    acc_node1 = run_logreg(X, y_second_node)\n",
    "\n",
    "\n",
    "    layer_name = ''.join ( [f'{k}={v} ' for k,v in cache_key.items()] )[:-1]\n",
    "    metric = {'acc_node_0': float(acc_node0), 'acc_node_1': float(acc_node1), 'layer_name':layer_name}\n",
    "    print(f'{metric=}')\n",
    "\n",
    "    accuracies.append(metric)"
   ]
  },
  {
   "cell_type": "code",
   "execution_count": null,
   "id": "980de44d-58ba-4e28-8783-f87c5a947284",
   "metadata": {},
   "outputs": [],
   "source": [
    "pd.DataFrame(accuracies)"
   ]
  },
  {
   "cell_type": "code",
   "execution_count": null,
   "id": "6cb5eea6-aa6a-42cb-82d2-2cdde1e08940",
   "metadata": {},
   "outputs": [],
   "source": [
    "# model.fit(X_train[:], y_train[:])"
   ]
  },
  {
   "cell_type": "code",
   "execution_count": null,
   "id": "8abb4eef-5ed0-4a6a-b117-64dd2addff54",
   "metadata": {},
   "outputs": [],
   "source": []
  }
 ],
 "metadata": {
  "kernelspec": {
   "display_name": "Python 3 (ipykernel)",
   "language": "python",
   "name": "python3"
  },
  "language_info": {
   "codemirror_mode": {
    "name": "ipython",
    "version": 3
   },
   "file_extension": ".py",
   "mimetype": "text/x-python",
   "name": "python",
   "nbconvert_exporter": "python",
   "pygments_lexer": "ipython3",
   "version": "3.11.4"
  }
 },
 "nbformat": 4,
 "nbformat_minor": 5
}
