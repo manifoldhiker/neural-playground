{
 "cells": [
  {
   "cell_type": "code",
   "execution_count": 1,
   "id": "63604638-b89c-432b-a4a3-39ade890fd69",
   "metadata": {},
   "outputs": [],
   "source": [
    "import sys; sys.path.append('..')"
   ]
  },
  {
   "cell_type": "code",
   "execution_count": 2,
   "id": "1e74adb0-97b3-441c-b0bb-27eed0077817",
   "metadata": {},
   "outputs": [],
   "source": [
    "# ! pip install lovely-tensors\n",
    "\n",
    "import lovely_tensors as lt\n",
    "lt.monkey_patch()"
   ]
  },
  {
   "cell_type": "code",
   "execution_count": 3,
   "id": "9e2f9134-d8d7-45a6-afbf-806555ab578d",
   "metadata": {},
   "outputs": [],
   "source": [
    "import torch\n",
    "import numpy as np\n",
    "import pandas as pd\n",
    "import torch.nn.functional as F\n",
    "from torch.utils.data import DataLoader\n",
    "\n",
    "from transformer_lens import HookedTransformer, HookedTransformerConfig"
   ]
  },
  {
   "cell_type": "code",
   "execution_count": 4,
   "id": "cf238670-f8e5-4bb4-a450-64db69b241e6",
   "metadata": {},
   "outputs": [],
   "source": [
    "import wandb\n",
    "from tqdm.auto import tqdm\n",
    "\n",
    "from omegaconf import OmegaConf\n",
    "\n",
    "from datetime import datetime\n",
    "\n",
    "from pathlib import Path\n",
    "\n",
    "import numpy as np\n",
    "import seaborn as sns\n",
    "import matplotlib.pyplot as plt"
   ]
  },
  {
   "cell_type": "code",
   "execution_count": 5,
   "id": "5562d67e-f650-42d1-8a7b-6cb727a1610f",
   "metadata": {},
   "outputs": [],
   "source": [
    "from src.tree import list2tree\n",
    "from src.tree_dataset import TreeDataset, parse_input_idx, input_tokens_to_tree, tree_to_edges\n",
    "from src.utils import seed_all\n",
    "\n",
    "\n",
    "from src.trainer import accuracy_by_depth\n",
    "from src.trainer import TreeTrainer"
   ]
  },
  {
   "cell_type": "code",
   "execution_count": 6,
   "id": "1174a691-06ed-4e63-86b8-551a95818dca",
   "metadata": {},
   "outputs": [
    {
     "name": "stdout",
     "output_type": "stream",
     "text": [
      "random_seed: 42\n",
      "n_nodes: 16\n",
      "model:\n",
      "  d_model: 128\n",
      "  d_head: 128\n",
      "  n_layers: 6\n",
      "  act_fn: gelu\n",
      "  attention_dir: causal\n",
      "optimizer:\n",
      "  lr: 0.001\n",
      "  weight_decay: 0.01\n",
      "batch_size: 64\n",
      "epoch_len_steps: 5000\n",
      "checkpoint_every_epoch: 2\n",
      "device: cpu\n",
      "debug: false\n",
      "use_wandb: true\n",
      "wandb:\n",
      "  project: reasoning-mech-interp\n",
      "  name: 00_6L_nodes=16\n",
      "max_iters: null\n",
      "\n"
     ]
    }
   ],
   "source": [
    "conf = OmegaConf.load('../conf/00_reproduce_6L_nodes=16.yaml')\n",
    "\n",
    "# Output is identical to the YAML file\n",
    "conf.n_nodes = 16\n",
    "conf.device = 'cpu'\n",
    "print(OmegaConf.to_yaml(conf))"
   ]
  },
  {
   "cell_type": "code",
   "execution_count": 7,
   "id": "bbf0ff74-5c8a-4ea9-9e7a-268d610ce0d4",
   "metadata": {},
   "outputs": [],
   "source": [
    "REPRODUCED_MODEL_CKPT = '../checkpoints/reasoning-mech-interp__2024-04-10_16-10-20/00_6L_nodes=16__step=220000.pt'\n",
    "# REPRODUCED_MODEL_CKPT = '../checkpoints/reasoning-mech-interp__2024-04-12_14-26-20/00_6L_nodes=16__deep_trees__step=9256.pt'"
   ]
  },
  {
   "cell_type": "code",
   "execution_count": 8,
   "id": "f91de251-bf02-4af9-8678-fe35f63a8e0a",
   "metadata": {},
   "outputs": [],
   "source": [
    "DEV_RUN = False\n",
    "USE_WANDB = (not DEV_RUN) and conf.use_wandb\n",
    "device = conf.device\n",
    "N_TEST_BATCHES = 500\n",
    "CHECKPOINT_ROOT = Path('../checkpoints')"
   ]
  },
  {
   "cell_type": "code",
   "execution_count": 9,
   "id": "872cae4e-57b3-452b-b6fc-ed07dd774032",
   "metadata": {},
   "outputs": [
    {
     "name": "stdout",
     "output_type": "stream",
     "text": [
      "RANDOM_SEED=42\n"
     ]
    }
   ],
   "source": [
    "RANDOM_SEED = conf['random_seed']\n",
    "print(f'{RANDOM_SEED=}')\n",
    "seed_all(RANDOM_SEED)"
   ]
  },
  {
   "cell_type": "code",
   "execution_count": 10,
   "id": "09ab32a1-357a-4d3b-a281-73d3684d7381",
   "metadata": {},
   "outputs": [
    {
     "name": "stdout",
     "output_type": "stream",
     "text": [
      "Moving model to device:  cpu\n"
     ]
    },
    {
     "data": {
      "text/plain": [
       "<All keys matched successfully>"
      ]
     },
     "execution_count": 10,
     "metadata": {},
     "output_type": "execute_result"
    }
   ],
   "source": [
    "trainer = TreeTrainer(conf)\n",
    "\n",
    "tokenizer = trainer.dataset.tokenizer\n",
    "\n",
    "tok = tokenizer.tokenize\n",
    "detok = tokenizer.detokenize\n",
    "\n",
    "\n",
    "ROOT_DELIM_TOKEN_IDX = trainer.tok([':'])[0]\n",
    "\n",
    "state_dict = torch.load(REPRODUCED_MODEL_CKPT)\n",
    "trainer.model.load_state_dict(state_dict)"
   ]
  },
  {
   "cell_type": "code",
   "execution_count": 11,
   "id": "eadea4dd-846b-4e6f-bb2d-00a74547a5ce",
   "metadata": {},
   "outputs": [],
   "source": [
    "def load_baseline_model(device='cpu'):\n",
    "    n_states = 16\n",
    "    max_seq_length = n_states * 4 + 2\n",
    "    \n",
    "    number_tokens = sorted([str(i) for i in range(n_states)], key=lambda x: len(x), reverse=True)\n",
    "    idx2tokens = [\",\", \":\", \"|\"] + [f\">{t}\" for t in number_tokens] + number_tokens\n",
    "    tokens2idx = {token: idx for idx, token in enumerate(idx2tokens)}\n",
    "    \n",
    "    \n",
    "    cfg = HookedTransformerConfig(\n",
    "        n_layers=6,\n",
    "        d_model=128,\n",
    "        n_ctx=max_seq_length - 1,\n",
    "        n_heads=1,\n",
    "        d_mlp=512,\n",
    "        d_head=128,\n",
    "        #attn_only=True,\n",
    "        d_vocab=len(idx2tokens),\n",
    "        device=device,\n",
    "        attention_dir= \"causal\",\n",
    "        act_fn=\"gelu\",\n",
    "    )\n",
    "    model = HookedTransformer(cfg)\n",
    "    \n",
    "    model.load_state_dict(torch.load(\"/Users/mykhailokilianovskyi/src/backward-chaining-circuits/model.pt\", map_location=torch.device(device)))\n",
    "    \n",
    "    return model"
   ]
  },
  {
   "cell_type": "code",
   "execution_count": 12,
   "id": "99495bf3-1119-460b-b8ea-7cad96dd6992",
   "metadata": {},
   "outputs": [],
   "source": [
    "import random\n",
    "import collections\n",
    "from torch.utils.data import IterableDataset, DataLoader"
   ]
  },
  {
   "cell_type": "code",
   "execution_count": 13,
   "id": "195643c7-94ca-4c10-91a9-7c93e36e7954",
   "metadata": {},
   "outputs": [],
   "source": [
    "import random\n",
    "\n",
    "from src.tree import TreeNode\n",
    "from src.utils import seed_all\n",
    "from src.tree_dataset import random_tree_of_depth, DeepTreeDataset"
   ]
  },
  {
   "cell_type": "code",
   "execution_count": 14,
   "id": "73169e4c-d9d1-4059-ad23-a74ec4b99071",
   "metadata": {},
   "outputs": [],
   "source": [
    "deep_dataset = DeepTreeDataset(n_nodes=16, possible_depths=(15,14,13))\n",
    "deep_tree_dataloader = DataLoader(deep_dataset, batch_size=conf['batch_size'])"
   ]
  },
  {
   "cell_type": "code",
   "execution_count": null,
   "id": "d382911b-62a9-46e0-af36-55b35b53104e",
   "metadata": {},
   "outputs": [],
   "source": []
  },
  {
   "cell_type": "code",
   "execution_count": null,
   "id": "0080f68a-9fa8-421f-8efc-63c22465a133",
   "metadata": {},
   "outputs": [],
   "source": []
  },
  {
   "cell_type": "code",
   "execution_count": 15,
   "id": "77ae988a-22b9-482f-9b57-51dfdaaf7c0b",
   "metadata": {},
   "outputs": [],
   "source": [
    "baseline_model = load_baseline_model()"
   ]
  },
  {
   "cell_type": "code",
   "execution_count": 16,
   "id": "ba450f8d-989d-40cf-905d-bbbbcc17388d",
   "metadata": {},
   "outputs": [],
   "source": [
    "our_idx2token = trainer.dataset.tokenizer.idx2token\n"
   ]
  },
  {
   "cell_type": "code",
   "execution_count": 17,
   "id": "d545f7d4-be6f-4da0-acc1-34cd3a0c8ceb",
   "metadata": {},
   "outputs": [],
   "source": [
    "n_states = 16\n",
    "bas_max_seq_length = n_states * 4 + 2\n",
    "\n",
    "number_tokens = sorted([str(i) for i in range(n_states)], key=lambda x: len(x), reverse=True)\n",
    "idx2tokens = [\",\", \":\", \"|\"] + [f\">{t}\" for t in number_tokens] + number_tokens\n",
    "tokens2idx = {token: idx for idx, token in enumerate(idx2tokens)}"
   ]
  },
  {
   "cell_type": "code",
   "execution_count": 18,
   "id": "cd49f3bb-bcef-4198-916a-28046a11c35c",
   "metadata": {},
   "outputs": [],
   "source": [
    "from src.tree_dataset import PAD_TOKEN\n",
    "\n",
    "\n",
    "token2bastoken = {k.replace('>', '→'):k for k in tokens2idx.keys()}\n",
    "token2bastoken[PAD_TOKEN] = ','"
   ]
  },
  {
   "cell_type": "code",
   "execution_count": 19,
   "id": "c3d70ac6-78d2-4cc5-82c6-b7b0417727bf",
   "metadata": {},
   "outputs": [],
   "source": [
    "\n",
    "\n",
    "idx2basidx = {}\n",
    "for idx, our_tok in our_idx2token.items():\n",
    "    bastoken = token2bastoken[our_tok]\n",
    "    basidx = tokens2idx[bastoken]\n",
    "    idx2basidx[idx] = basidx"
   ]
  },
  {
   "cell_type": "code",
   "execution_count": null,
   "id": "ea764f99-5e40-418c-a392-6da212d367d3",
   "metadata": {},
   "outputs": [],
   "source": []
  },
  {
   "cell_type": "code",
   "execution_count": null,
   "id": "5e15b10d-b48e-4e38-9784-a98d10ab96be",
   "metadata": {},
   "outputs": [],
   "source": []
  },
  {
   "cell_type": "code",
   "execution_count": 20,
   "id": "79f41589-778a-4148-b30e-4b0369cd4738",
   "metadata": {},
   "outputs": [],
   "source": [
    "def baseline_batch_train_step(baseline_model, batch):\n",
    "    \n",
    "    input_idx = batch['input_idx'][..., :bas_max_seq_length].clone().to(device)\n",
    "    mask = batch['task_mask'][..., :bas_max_seq_length].clone().to(device)\n",
    "\n",
    "    input_idx.apply_(lambda i: idx2basidx[i])\n",
    "\n",
    "    inputs = input_idx[:, :-1]\n",
    "    \n",
    "    out_mask = mask[:, 1:]\n",
    "    targets = input_idx[:, 1:][out_mask]\n",
    "    \n",
    "    \n",
    "    # print(input_idx[:1, :4])\n",
    "    outputs = baseline_model(inputs)\n",
    "    \n",
    "    predictions = outputs[out_mask]\n",
    "    \n",
    "    loss = F.cross_entropy(predictions, targets)\n",
    "\n",
    "    is_correct = (predictions.argmax(dim=-1) == targets)\n",
    "    accuracy_mean = is_correct.float().mean()\n",
    "    metrics = accuracy_by_depth(outputs, input_idx, out_mask)\n",
    "    metrics['accuracy/mean'] = accuracy_mean.item()\n",
    "\n",
    "    return loss, metrics"
   ]
  },
  {
   "cell_type": "code",
   "execution_count": 21,
   "id": "8534fd96-e6ef-48ce-8722-a905a4114bf7",
   "metadata": {},
   "outputs": [],
   "source": [
    "def split_depths(mdic):\n",
    "    return (int(k.split('=')[1]) for k in mdic.keys() if '=' in k)"
   ]
  },
  {
   "cell_type": "code",
   "execution_count": 22,
   "id": "86c748b8-e840-4b8e-b282-f31dffc0df76",
   "metadata": {},
   "outputs": [],
   "source": [
    "depths = np.arange(1, 10)"
   ]
  },
  {
   "cell_type": "code",
   "execution_count": 23,
   "id": "1a14cdfb-d255-4a00-8162-3a94bdc7c497",
   "metadata": {},
   "outputs": [],
   "source": [
    "def df2plotly_arr(df): \n",
    "    dic = df.mean().to_dict()\n",
    "    return [dic.get(f'acc/depth={d}', None) for d in depths]"
   ]
  },
  {
   "cell_type": "markdown",
   "id": "37019e24-f343-467e-93d0-639439ced5d9",
   "metadata": {},
   "source": [
    "## Project residual stream into vocab"
   ]
  },
  {
   "cell_type": "code",
   "execution_count": 24,
   "id": "e503cc05-1017-47ad-b4dc-874e821da0a6",
   "metadata": {},
   "outputs": [],
   "source": [
    "# for batch in deep_tree_dataloader:\n",
    "#     break\n",
    "\n",
    "seed_all(1)\n",
    "for batch in trainer.dataloader:\n",
    "    break"
   ]
  },
  {
   "cell_type": "code",
   "execution_count": 25,
   "id": "5d76c9f1-6539-43e2-b109-46974e958926",
   "metadata": {},
   "outputs": [
    {
     "data": {
      "text/plain": [
       "(tensor grad NllLossBackward0 0.001,\n",
       " {'acc/depth=1': 1.0,\n",
       "  'acc/depth=2': 1.0,\n",
       "  'acc/depth=3': 1.0,\n",
       "  'acc/depth=4': 1.0,\n",
       "  'acc/depth=5': 1.0,\n",
       "  'acc/depth=6': 1.0,\n",
       "  'acc/depth=7': 1.0,\n",
       "  'acc/depth=8': 1.0,\n",
       "  'accuracy/mean': 1.0})"
      ]
     },
     "execution_count": 25,
     "metadata": {},
     "output_type": "execute_result"
    }
   ],
   "source": [
    "baseline_batch_train_step(baseline_model, batch)"
   ]
  },
  {
   "cell_type": "code",
   "execution_count": 26,
   "id": "ad57bf74-c36b-48ba-a6ad-ecb573c7085b",
   "metadata": {},
   "outputs": [],
   "source": [
    "input_idx = batch['input_idx'][..., :bas_max_seq_length].clone().to(device)\n",
    "mask = batch['task_mask'][..., :bas_max_seq_length].clone().to(device)\n",
    "\n",
    "input_idx.apply_(lambda i: idx2basidx[i])\n",
    "\n",
    "inputs = input_idx[:, :-1]\n",
    "\n",
    "out_mask = mask[:, 1:]\n",
    "targets = input_idx[:, 1:][out_mask]\n",
    "\n",
    "\n",
    "# print(input_idx[:1, :4])\n",
    "outputs, cache = baseline_model.run_with_cache(inputs)"
   ]
  },
  {
   "cell_type": "code",
   "execution_count": 27,
   "id": "518cdfdf-f998-4649-b6fe-cb48d39344a9",
   "metadata": {},
   "outputs": [
    {
     "data": {
      "text/plain": [
       "tensor[64, 65] i64 n=4160 (32Kb) x∈[0, 34] μ=10.152 σ=11.275"
      ]
     },
     "execution_count": 27,
     "metadata": {},
     "output_type": "execute_result"
    }
   ],
   "source": [
    "inputs"
   ]
  },
  {
   "cell_type": "code",
   "execution_count": 28,
   "id": "bf37560f-f8f1-46ee-a61b-88651651b9c6",
   "metadata": {},
   "outputs": [
    {
     "data": {
      "text/plain": [
       "LayerNorm(\n",
       "  (hook_scale): HookPoint()\n",
       "  (hook_normalized): HookPoint()\n",
       ")"
      ]
     },
     "execution_count": 28,
     "metadata": {},
     "output_type": "execute_result"
    }
   ],
   "source": [
    "baseline_model.ln_final"
   ]
  },
  {
   "cell_type": "code",
   "execution_count": 29,
   "id": "1417b049-6e1a-4433-b51a-17cd31ee0909",
   "metadata": {},
   "outputs": [
    {
     "data": {
      "text/plain": [
       "tensor[64, 65, 128] n=532480 (2.0Mb) x∈[-93.056, 231.443] μ=0.221 σ=19.380"
      ]
     },
     "execution_count": 29,
     "metadata": {},
     "output_type": "execute_result"
    }
   ],
   "source": [
    "x_5 = cache['resid_post', -1]\n",
    "x_5"
   ]
  },
  {
   "cell_type": "code",
   "execution_count": 30,
   "id": "96e1a0ba-32e7-44e7-b374-0a8e01042781",
   "metadata": {},
   "outputs": [],
   "source": [
    "x_5 = cache['resid_post', -1]\n",
    "\n",
    "assert torch.allclose(baseline_model.unembed(baseline_model.ln_final(x_5)), outputs)"
   ]
  },
  {
   "cell_type": "code",
   "execution_count": 31,
   "id": "2eed5d37-5931-448a-8be6-80c8001fe327",
   "metadata": {},
   "outputs": [],
   "source": [
    "def unembed(x_residual):\n",
    "    return baseline_model.unembed(baseline_model.ln_final(x_residual))"
   ]
  },
  {
   "cell_type": "code",
   "execution_count": 32,
   "id": "35964395-3749-43cd-b295-95366f864631",
   "metadata": {},
   "outputs": [
    {
     "data": {
      "text/plain": [
       "tensor[65] bool x∈[False, True] μ=0.108 σ=0.312\n",
       "tensor([False, False, False, False, False, False, False, False, False, False,\n",
       "        False, False, False, False, False, False, False, False, False, False,\n",
       "        False, False, False, False, False, False, False, False, False, False,\n",
       "        False, False, False, False, False, False, False, False, False, False,\n",
       "        False, False, False, False, False, False, False,  True,  True,  True,\n",
       "         True,  True,  True,  True, False, False, False, False, False, False,\n",
       "        False, False, False, False, False])"
      ]
     },
     "execution_count": 32,
     "metadata": {},
     "output_type": "execute_result"
    }
   ],
   "source": [
    "out_mask[0].v"
   ]
  },
  {
   "cell_type": "code",
   "execution_count": 33,
   "id": "11775b97-55d3-4057-89c8-052388977635",
   "metadata": {},
   "outputs": [
    {
     "data": {
      "text/plain": [
       "tensor[64] i64 x∈[47, 47] μ=47.000 σ=0.\n",
       "tensor([47, 47, 47, 47, 47, 47, 47, 47, 47, 47, 47, 47, 47, 47, 47, 47, 47, 47,\n",
       "        47, 47, 47, 47, 47, 47, 47, 47, 47, 47, 47, 47, 47, 47, 47, 47, 47, 47,\n",
       "        47, 47, 47, 47, 47, 47, 47, 47, 47, 47, 47, 47, 47, 47, 47, 47, 47, 47,\n",
       "        47, 47, 47, 47, 47, 47, 47, 47, 47, 47])"
      ]
     },
     "execution_count": 33,
     "metadata": {},
     "output_type": "execute_result"
    }
   ],
   "source": [
    "out_mask.int().argmax(dim=-1).v"
   ]
  },
  {
   "cell_type": "code",
   "execution_count": 34,
   "id": "063dee72-fc77-4d6b-aa23-d2ebbee5ca46",
   "metadata": {},
   "outputs": [
    {
     "data": {
      "text/plain": [
       "1"
      ]
     },
     "execution_count": 34,
     "metadata": {},
     "output_type": "execute_result"
    }
   ],
   "source": [
    "tokens2idx[':']"
   ]
  },
  {
   "cell_type": "code",
   "execution_count": 35,
   "id": "0554dc25-9ed8-4d0c-9b2b-7fbf00db9e73",
   "metadata": {},
   "outputs": [
    {
     "data": {
      "text/plain": [
       "([3], [','])"
      ]
     },
     "execution_count": 35,
     "metadata": {},
     "output_type": "execute_result"
    }
   ],
   "source": [
    "tok([':']), detok([1])"
   ]
  },
  {
   "cell_type": "code",
   "execution_count": 36,
   "id": "84d66ff4-fb0a-48a4-8736-bf4cad93fb71",
   "metadata": {},
   "outputs": [
    {
     "data": {
      "text/plain": [
       "tensor[64, 20] i64 n=1280 (10Kb) x∈[0, 34] μ=3.782 σ=7.303\n",
       "tensor([[ 1, 29, 18,  ...,  0,  0,  0],\n",
       "        [ 1, 24, 17,  ...,  0,  0,  0],\n",
       "        [ 1, 23, 15,  ...,  0,  0,  0],\n",
       "        ...,\n",
       "        [ 1, 27, 16,  ...,  0,  0,  0],\n",
       "        [ 1, 23,  4,  ...,  0,  0,  0],\n",
       "        [ 1, 26, 12,  ...,  0,  0,  0]])"
      ]
     },
     "execution_count": 36,
     "metadata": {},
     "output_type": "execute_result"
    }
   ],
   "source": [
    "input_idx[:, 46:].v"
   ]
  },
  {
   "cell_type": "code",
   "execution_count": 37,
   "id": "e5abfb8b-f227-424f-a21f-54e43db7c0c9",
   "metadata": {},
   "outputs": [
    {
     "data": {
      "text/plain": [
       "tensor[64] i64 x∈[19, 34] μ=25.812 σ=4.411\n",
       "tensor([27, 30, 20, 28, 26, 20, 22, 26, 32, 34, 22, 25, 25, 21, 24, 22, 27, 30,\n",
       "        26, 30, 34, 28, 22, 21, 31, 19, 33, 27, 30, 27, 19, 30, 20, 28, 24, 23,\n",
       "        28, 24, 33, 20, 34, 24, 19, 33, 32, 30, 30, 22, 22, 22, 25, 29, 33, 23,\n",
       "        25, 19, 28, 22, 24, 24, 25, 22, 25, 22])"
      ]
     },
     "execution_count": 37,
     "metadata": {},
     "output_type": "execute_result"
    }
   ],
   "source": [
    "input_idx[:, 45].v"
   ]
  },
  {
   "cell_type": "code",
   "execution_count": 38,
   "id": "bbb14c6f-debe-48ed-b303-7be297063259",
   "metadata": {},
   "outputs": [
    {
     "data": {
      "text/plain": [
       "tensor[64, 19] bool n=1216 (1.2Kb) x∈[False, True] μ=0.237 σ=0.425\n",
       "tensor([[False,  True,  True,  ..., False, False, False],\n",
       "        [False,  True,  True,  ..., False, False, False],\n",
       "        [False,  True,  True,  ..., False, False, False],\n",
       "        ...,\n",
       "        [False,  True,  True,  ..., False, False, False],\n",
       "        [False,  True,  True,  ..., False, False, False],\n",
       "        [False,  True,  True,  ..., False, False, False]])"
      ]
     },
     "execution_count": 38,
     "metadata": {},
     "output_type": "execute_result"
    }
   ],
   "source": [
    "out_mask[:, 46:].v"
   ]
  },
  {
   "cell_type": "code",
   "execution_count": 39,
   "id": "e5fd57cb-6d93-42af-b0c6-16ca6de2488a",
   "metadata": {},
   "outputs": [],
   "source": [
    "# detok(input_idx[0])"
   ]
  },
  {
   "cell_type": "code",
   "execution_count": 40,
   "id": "0070e3af-2f97-4206-8b35-4a9b65f7aded",
   "metadata": {},
   "outputs": [
    {
     "data": {
      "text/plain": [
       "tensor[64, 20] i64 n=1280 (10Kb) x∈[0, 34] μ=3.782 σ=7.303\n",
       "tensor([[ 1, 29, 18,  ...,  0,  0,  0],\n",
       "        [ 1, 24, 17,  ...,  0,  0,  0],\n",
       "        [ 1, 23, 15,  ...,  0,  0,  0],\n",
       "        ...,\n",
       "        [ 1, 27, 16,  ...,  0,  0,  0],\n",
       "        [ 1, 23,  4,  ...,  0,  0,  0],\n",
       "        [ 1, 26, 12,  ...,  0,  0,  0]])"
      ]
     },
     "execution_count": 40,
     "metadata": {},
     "output_type": "execute_result"
    }
   ],
   "source": [
    "input_idx[:, 46:].v"
   ]
  },
  {
   "cell_type": "code",
   "execution_count": 41,
   "id": "798b1a54-7737-4d84-84bb-b4b5d2cb9400",
   "metadata": {},
   "outputs": [
    {
     "data": {
      "text/plain": [
       "tensor[65] i64 x∈[0, 33] μ=10.046 σ=10.868\n",
       "tensor([24,  7,  0, 24, 15,  0, 19, 14,  0, 25, 10,  0, 26,  4,  0, 22,  9,  0,\n",
       "        28,  5,  0, 21,  8,  0, 28,  3,  0, 31, 16,  0, 22, 11,  0, 26, 13,  0,\n",
       "        32, 17,  0, 23, 18,  0, 21,  6,  2, 33,  1, 28,  5,  8, 15, 16, 17,  0,\n",
       "         0,  0,  0,  0,  0,  0,  0,  0,  0,  0,  0])"
      ]
     },
     "execution_count": 41,
     "metadata": {},
     "output_type": "execute_result"
    }
   ],
   "source": [
    "inputs[47-4].v"
   ]
  },
  {
   "cell_type": "code",
   "execution_count": 42,
   "id": "7d13add4-82e9-46a1-9e42-9ed819ca6317",
   "metadata": {},
   "outputs": [
    {
     "data": {
      "text/plain": [
       "tensor[64, 65] i64 n=4160 (32Kb) x∈[0, 28] μ=5.644 σ=6.326"
      ]
     },
     "execution_count": 42,
     "metadata": {},
     "output_type": "execute_result"
    }
   ],
   "source": [
    "pred_x0 = unembed(cache['resid_post', 0]).argmax(dim=-1)\n",
    "pred_x0"
   ]
  },
  {
   "cell_type": "code",
   "execution_count": 43,
   "id": "3e1a0f8f-c87f-4937-b6bf-8a2b356e2f62",
   "metadata": {},
   "outputs": [
    {
     "data": {
      "text/plain": [
       "(64, 65)"
      ]
     },
     "execution_count": 43,
     "metadata": {},
     "output_type": "execute_result"
    }
   ],
   "source": [
    "pred_x0_tokens = np.array([[idx2tokens[i] for i in sample] for sample in pred_x0])\n",
    "pred_x0_tokens.shape"
   ]
  },
  {
   "cell_type": "code",
   "execution_count": 44,
   "id": "ade27060-6144-4fca-bd23-428ddc9ce8bd",
   "metadata": {},
   "outputs": [
    {
     "data": {
      "text/plain": [
       "array([['>6', '>3', '>5', ..., ',', ',', ','],\n",
       "       ['>6', '>5', '>13', ..., ',', ',', ','],\n",
       "       ['>5', '>3', '>4', ..., ',', ',', ','],\n",
       "       ...,\n",
       "       ['>6', '>13', '>13', ..., ',', ',', ','],\n",
       "       ['>5', '>13', '>13', ..., ',', ',', ','],\n",
       "       ['>5', '>14', '>13', ..., ',', ',', ',']], dtype='<U3')"
      ]
     },
     "execution_count": 44,
     "metadata": {},
     "output_type": "execute_result"
    }
   ],
   "source": [
    "pred_x0_tokens[:, 46:]"
   ]
  },
  {
   "cell_type": "code",
   "execution_count": 45,
   "id": "34dc6fb4-8e10-493c-924a-7a3cf229308d",
   "metadata": {},
   "outputs": [
    {
     "data": {
      "text/plain": [
       "tensor[64] i64 x∈[19, 34] μ=25.812 σ=4.411\n",
       "tensor([27, 30, 20, 28, 26, 20, 22, 26, 32, 34, 22, 25, 25, 21, 24, 22, 27, 30,\n",
       "        26, 30, 34, 28, 22, 21, 31, 19, 33, 27, 30, 27, 19, 30, 20, 28, 24, 23,\n",
       "        28, 24, 33, 20, 34, 24, 19, 33, 32, 30, 30, 22, 22, 22, 25, 29, 33, 23,\n",
       "        25, 19, 28, 22, 24, 24, 25, 22, 25, 22])"
      ]
     },
     "execution_count": 45,
     "metadata": {},
     "output_type": "execute_result"
    }
   ],
   "source": [
    "input_idx[:, 45].v"
   ]
  },
  {
   "cell_type": "code",
   "execution_count": null,
   "id": "23c35e42-c78d-4969-9778-83178ce09126",
   "metadata": {},
   "outputs": [],
   "source": []
  },
  {
   "cell_type": "code",
   "execution_count": 89,
   "id": "4cc25d88-de82-45a5-8d36-d6657b3a70c5",
   "metadata": {},
   "outputs": [],
   "source": [
    "seed_all(1)\n",
    "for batch in trainer.dataloader: break"
   ]
  },
  {
   "cell_type": "code",
   "execution_count": 90,
   "id": "f0ef4ba5-0c70-4785-8cba-58eb553bde27",
   "metadata": {},
   "outputs": [
    {
     "name": "stdout",
     "output_type": "stream",
     "text": [
      "****************************************************************************************************\n",
      "                                               4\n",
      "                                               |\n",
      "                                            +--+\n",
      "                                            |\n",
      "                                            9\n",
      "                                            |\n",
      "                                         +--+\n",
      "                                         |\n",
      "                                        13\n",
      "                                         |\n",
      "                    +--------------------+\n",
      "                    |\n",
      "                   12\n",
      "                    |\n",
      "        +-----------+--------+\n",
      "        |                    |\n",
      "        5                    1\n",
      "        |                    |\n",
      "     +--+--------+        +--+--------+\n",
      "     |           |        |           |\n",
      "     6           0        8          15\n",
      "     |           |        |           |\n",
      "  +--+        +--+     +--+        +--+\n",
      "  |           |        |           |\n",
      " 14          10        3          11\n",
      "              |                    |\n",
      "           +--+                 +--+\n",
      "           |                    |\n",
      "           2                    7\n",
      "\n",
      "goal=2\n",
      "accuracy=1.0 gt_path=['→9', '→13', '→12', '→5', '→0', '→10', '→2'] pred_path=['→9', '→13', '→12', '→5', '→0', '→10', '→2']\n",
      "****************************************************************************************************\n"
     ]
    }
   ],
   "source": [
    "input_idx = batch['input_idx']\n",
    "trainer.print_sample_pred(input_idx[0])"
   ]
  },
  {
   "cell_type": "code",
   "execution_count": 91,
   "id": "92552af9-8b5e-43fe-a32d-43e987de19c8",
   "metadata": {},
   "outputs": [],
   "source": [
    "# goal: idx -> idx_baseline\n",
    "\n",
    "# our model idx -> token\n",
    "# bas model bastoken -> basidx\n",
    "\n",
    "# first: create token2bastoken\n",
    "# NOTE, in baseline: , is used as <PAD>"
   ]
  },
  {
   "cell_type": "code",
   "execution_count": 92,
   "id": "390880ec-8497-4e9b-bc1f-f257cbaa0f59",
   "metadata": {},
   "outputs": [],
   "source": [
    "n_states = 16\n",
    "bas_max_seq_length = n_states * 4 + 2\n",
    "\n",
    "number_tokens = sorted([str(i) for i in range(n_states)], key=lambda x: len(x), reverse=True)\n",
    "idx2tokens = [\",\", \":\", \"|\"] + [f\">{t}\" for t in number_tokens] + number_tokens\n",
    "tokens2idx = {token: idx for idx, token in enumerate(idx2tokens)}"
   ]
  },
  {
   "cell_type": "code",
   "execution_count": 93,
   "id": "4c1a2cf8-5b48-4389-9fb9-46ff37e98be3",
   "metadata": {},
   "outputs": [],
   "source": [
    "# our_idx2token.keys()"
   ]
  },
  {
   "cell_type": "code",
   "execution_count": 94,
   "id": "7ef8c7f3-1878-4c8e-95b5-1044d9113296",
   "metadata": {},
   "outputs": [],
   "source": [
    "from src.tree_dataset import PAD_TOKEN"
   ]
  },
  {
   "cell_type": "code",
   "execution_count": 95,
   "id": "2876a84f-ac19-4f1b-a420-004d57542894",
   "metadata": {},
   "outputs": [],
   "source": [
    "token2bastoken = {k.replace('>', '→'):k for k in tokens2idx.keys()}\n",
    "token2bastoken[PAD_TOKEN] = ','\n",
    "\n",
    "our_idx2token = trainer.dataset.tokenizer.idx2token\n",
    "\n",
    "idx2basidx = {}\n",
    "\n"
   ]
  },
  {
   "cell_type": "code",
   "execution_count": 96,
   "id": "71fc1c28-3b06-446a-bb1b-da4749d842e7",
   "metadata": {},
   "outputs": [],
   "source": [
    "for idx, our_tok in our_idx2token.items():\n",
    "    bastoken = token2bastoken[our_tok]\n",
    "    basidx = tokens2idx[bastoken]\n",
    "    idx2basidx[idx] = basidx"
   ]
  },
  {
   "cell_type": "code",
   "execution_count": null,
   "id": "7b660863-3ad8-4057-b79b-d4b5767f1ccb",
   "metadata": {},
   "outputs": [],
   "source": []
  },
  {
   "cell_type": "code",
   "execution_count": null,
   "id": "97bb9c8d-2304-41f4-bed0-2118d5650b0c",
   "metadata": {},
   "outputs": [],
   "source": []
  },
  {
   "cell_type": "code",
   "execution_count": 97,
   "id": "0ab66491-4377-4c9d-bdc5-5a076c374f6d",
   "metadata": {},
   "outputs": [],
   "source": [
    "BAS_ROOT_DELIM_TOKEN_IDX = tokens2idx['|']"
   ]
  },
  {
   "cell_type": "code",
   "execution_count": 98,
   "id": "ca7b9b72-1a02-44e4-8f54-637667869c5a",
   "metadata": {},
   "outputs": [],
   "source": [
    "def basidx2prompt(idx): return [idx2tokens[i] for i in idx]"
   ]
  },
  {
   "cell_type": "code",
   "execution_count": 99,
   "id": "a7fbc68f-1083-4ad8-ae02-e287e890aaf5",
   "metadata": {},
   "outputs": [
    {
     "name": "stdout",
     "output_type": "stream",
     "text": [
      "bas_tokens[:5]=['1', '>8', ',', '1', '>15']\n"
     ]
    }
   ],
   "source": [
    "our_tokens = detok(input_idx[0])\n",
    "bas_tokens = [token2bastoken[t] for t in our_tokens]\n",
    "print(f'{bas_tokens[:5]=}')\n",
    "\n",
    "bas_idx = [tokens2idx[t] for t in bas_tokens]\n",
    "upper_task_bound = bas_idx.index(BAS_ROOT_DELIM_TOKEN_IDX) + 4\n",
    "\n",
    "prompt_idx = bas_idx[:upper_task_bound]\n",
    "# basidx2prompt(prompt_idx)"
   ]
  },
  {
   "cell_type": "code",
   "execution_count": 100,
   "id": "cd40adc6-fdb0-4d06-a17c-18743ab0d6b2",
   "metadata": {},
   "outputs": [],
   "source": [
    "assert (prompt_idx )  == ([idx2basidx[i.item()] for i in  input_idx[0]][:len(prompt_idx)])"
   ]
  },
  {
   "cell_type": "code",
   "execution_count": 101,
   "id": "982f57c1-c553-4d54-a51c-90c95585c00c",
   "metadata": {},
   "outputs": [
    {
     "name": "stdout",
     "output_type": "stream",
     "text": [
      "pred_token='>9'\n",
      "pred_token='>13'\n",
      "pred_token='>12'\n",
      "pred_token='>5'\n",
      "pred_token='>0'\n",
      "pred_token='>10'\n",
      "pred_token='>2'\n"
     ]
    }
   ],
   "source": [
    "prompt_idx = bas_idx[:upper_task_bound]\n",
    "for i in range(7):\n",
    "    outputs, cache = baseline_model.run_with_cache(torch.tensor(prompt_idx))\n",
    "    x_5 = cache['resid_post', -1]\n",
    "    \n",
    "    assert torch.allclose(baseline_model.unembed(baseline_model.ln_final(x_5)), outputs)\n",
    "    \n",
    "    pred_idx_greedy = outputs[0, -1].argmax()\n",
    "    pred_token = idx2tokens[pred_idx_greedy]\n",
    "    print(f'{pred_token=}')\n",
    "    prompt_idx.append(pred_idx_greedy)"
   ]
  },
  {
   "cell_type": "code",
   "execution_count": 102,
   "id": "2115534f-e3e9-452b-a27e-674415a2212c",
   "metadata": {},
   "outputs": [
    {
     "name": "stdout",
     "output_type": "stream",
     "text": [
      "pred_token='>9'\n"
     ]
    }
   ],
   "source": [
    "prompt_idx = bas_idx[:upper_task_bound]\n",
    "for i in range(7):\n",
    "    outputs, cache = baseline_model.run_with_cache(torch.tensor(prompt_idx))\n",
    "    x_5 = cache['resid_post', -1]\n",
    "    assert torch.allclose(unembed(x_5), outputs)\n",
    "    \n",
    "    pred_idx_greedy = unembed(x_5)[0, -1].argmax()\n",
    "    pred_token = idx2tokens[pred_idx_greedy]\n",
    "    print(f'{pred_token=}')\n",
    "    prompt_idx.append(pred_idx_greedy)\n",
    "    break"
   ]
  },
  {
   "cell_type": "code",
   "execution_count": 103,
   "id": "79d030c9-a0ac-4edc-a726-0a8a9228b223",
   "metadata": {},
   "outputs": [
    {
     "name": "stdout",
     "output_type": "stream",
     "text": [
      "unembed L=0 pred_token='>3'\n",
      "unembed L=1 pred_token='>10'\n",
      "unembed L=2 pred_token='>0'\n",
      "unembed L=3 pred_token='>5'\n",
      "unembed L=4 pred_token='>13'\n",
      "unembed L=5 pred_token='>9'\n",
      "****************************************************************************************************\n",
      "unembed L=0 pred_token='>5'\n",
      "unembed L=1 pred_token='>10'\n",
      "unembed L=2 pred_token='>0'\n",
      "unembed L=3 pred_token='>5'\n",
      "unembed L=4 pred_token='>13'\n",
      "unembed L=5 pred_token='>13'\n",
      "****************************************************************************************************\n",
      "unembed L=0 pred_token='>1'\n",
      "unembed L=1 pred_token='>10'\n",
      "unembed L=2 pred_token='>0'\n",
      "unembed L=3 pred_token='>5'\n",
      "unembed L=4 pred_token='>12'\n",
      "unembed L=5 pred_token='>12'\n",
      "****************************************************************************************************\n",
      "unembed L=0 pred_token='>10'\n",
      "unembed L=1 pred_token='>10'\n",
      "unembed L=2 pred_token='>0'\n",
      "unembed L=3 pred_token='>5'\n",
      "unembed L=4 pred_token='>5'\n",
      "unembed L=5 pred_token='>5'\n",
      "****************************************************************************************************\n",
      "unembed L=0 pred_token='>2'\n",
      "unembed L=1 pred_token='>10'\n",
      "unembed L=2 pred_token='>0'\n",
      "unembed L=3 pred_token='>0'\n",
      "unembed L=4 pred_token='>0'\n",
      "unembed L=5 pred_token='>0'\n",
      "****************************************************************************************************\n",
      "unembed L=0 pred_token='>10'\n",
      "unembed L=1 pred_token='>10'\n",
      "unembed L=2 pred_token='>0'\n",
      "unembed L=3 pred_token='>10'\n",
      "unembed L=4 pred_token='>10'\n",
      "unembed L=5 pred_token='>10'\n",
      "****************************************************************************************************\n",
      "unembed L=0 pred_token='>13'\n",
      "unembed L=1 pred_token='>0'\n",
      "unembed L=2 pred_token='>2'\n",
      "unembed L=3 pred_token='>2'\n",
      "unembed L=4 pred_token='>2'\n",
      "unembed L=5 pred_token='>2'\n",
      "****************************************************************************************************\n"
     ]
    }
   ],
   "source": [
    "prompt_idx = bas_idx[:upper_task_bound]\n",
    "for i in range(7):\n",
    "\n",
    "    outputs, cache = baseline_model.run_with_cache(torch.tensor(prompt_idx))\n",
    "\n",
    "    for L in range(6):\n",
    "        x_l = cache['resid_post', L]\n",
    "        \n",
    "        \n",
    "        pred_idx_greedy = unembed(x_l)[0, -1].argmax()\n",
    "        pred_token = idx2tokens[pred_idx_greedy]\n",
    "        print(f'unembed {L=} {pred_token=}')\n",
    "    prompt_idx.append(pred_idx_greedy)\n",
    "    print('*'*100)"
   ]
  },
  {
   "cell_type": "code",
   "execution_count": 85,
   "id": "9e54de7f-c0a4-48d9-b828-c3bd19eb6b41",
   "metadata": {},
   "outputs": [
    {
     "name": "stdout",
     "output_type": "stream",
     "text": [
      "unembed L=1 pred_token='>7'\n"
     ]
    }
   ],
   "source": []
  },
  {
   "cell_type": "code",
   "execution_count": 74,
   "id": "ec64f7b9-e921-41a5-bbf9-eba60ceca435",
   "metadata": {},
   "outputs": [
    {
     "data": {
      "text/plain": [
       "tensor[1, 48, 35] n=1680 (6.6Kb) x∈[-22.636, 29.493] μ=-0.211 σ=4.656 grad AddBackward0"
      ]
     },
     "execution_count": 74,
     "metadata": {},
     "output_type": "execute_result"
    }
   ],
   "source": [
    "\n",
    "x_l = cache['resid_post', -1]\n",
    "assert torch.allclose(unembed(x_l), outputs)\n",
    "\n",
    "pred_idx_greedy = outputs[0, -1].argmax()\n",
    "pred_token = idx2tokens[pred_idx_greedy]\n",
    "print(f'{pred_token=}')"
   ]
  },
  {
   "cell_type": "code",
   "execution_count": null,
   "id": "f16f4cdd-4a07-4450-abc2-822701f49cf8",
   "metadata": {},
   "outputs": [],
   "source": [
    "x_5 = cache['resid_post', -1]\n",
    "assert torch.allclose(baseline_model.unembed(baseline_model.ln_final(x_5)), outputs)\n",
    "\n",
    "pred_idx_greedy = outputs[0, -1].argmax()\n",
    "pred_token = idx2tokens[pred_idx_greedy]\n",
    "print(f'{pred_token=}')"
   ]
  },
  {
   "cell_type": "code",
   "execution_count": null,
   "id": "4fa8b473-fb5f-4cd3-977b-79b2c2a58b63",
   "metadata": {},
   "outputs": [],
   "source": [
    "break"
   ]
  },
  {
   "cell_type": "code",
   "execution_count": null,
   "id": "9d8d5085-0b9a-4ca4-a5db-b516cad6b1cf",
   "metadata": {},
   "outputs": [],
   "source": [
    "outputs"
   ]
  },
  {
   "cell_type": "code",
   "execution_count": null,
   "id": "9782c1dc-b796-4808-83df-c3fab5ce554c",
   "metadata": {},
   "outputs": [],
   "source": []
  },
  {
   "cell_type": "code",
   "execution_count": null,
   "id": "766075c0-e573-4ff9-8cea-f8a56a324c0d",
   "metadata": {},
   "outputs": [],
   "source": []
  },
  {
   "cell_type": "code",
   "execution_count": null,
   "id": "fd49a0c1-729c-4bbf-81cb-39269fe3760a",
   "metadata": {},
   "outputs": [],
   "source": [
    "sample_input_idx = batch['input_idx'][0]"
   ]
  },
  {
   "cell_type": "code",
   "execution_count": null,
   "id": "cbdda021-e79c-4109-a597-f6937ad0be60",
   "metadata": {},
   "outputs": [],
   "source": [
    "def inference_on_prompt_with_cache(trainer, prompt):\n",
    "    tokens = trainer.tok(prompt)\n",
    "    tokens = torch.tensor(tokens)[None]\n",
    "    outputs, cache = trainer.model.run_with_cache(tokens)\n",
    "    pred_token_greedy = outputs[0, -1].argmax()\n",
    "    pred_token = trainer.detok([pred_token_greedy])\n",
    "    return pred_token[0], cache"
   ]
  },
  {
   "cell_type": "code",
   "execution_count": null,
   "id": "3c8e75af-26b9-4d01-af39-7c0f77a9322e",
   "metadata": {},
   "outputs": [],
   "source": [
    "ROOT_DELIM_TOKEN_IDX = trainer.tok([':'])[0]\n",
    "\n",
    "\n",
    "upper_task_bound = sample_input_idx.tolist().index(ROOT_DELIM_TOKEN_IDX) + 2\n",
    "prompt_autoregressive = trainer.detok(sample_input_idx)[:upper_task_bound]\n",
    "input_tree = input_tokens_to_tree(prompt_autoregressive)\n",
    "\n",
    "prompt = prompt_autoregressive\n",
    "\n",
    "parsed_input = parse_input_idx(sample_input_idx, trainer.dataset.tokenizer)\n",
    "gt_path = parsed_input['path']\n",
    "pred_path = []\n",
    "\n",
    "for i in range(len(gt_path)):\n",
    "    # pred_token = trainer.inference_on_prompt(prompt)\n",
    "    pred_token, cache = inference_on_prompt_with_cache(trainer, prompt)\n",
    "    pred_path.append(pred_token)\n",
    "    prompt += [pred_token]\n",
    "\n",
    "accuracy = (np.array(gt_path) == np.array(pred_path)).astype(float).mean()\n",
    "print('*'*100)\n",
    "print(input_tree)\n",
    "print()\n",
    "print(f'goal={parsed_input[\"goal\"]}')\n",
    "print(f'{accuracy=} {gt_path=} {pred_path=}' )\n",
    "print('*'*100)"
   ]
  },
  {
   "cell_type": "code",
   "execution_count": null,
   "id": "5e71fa84-4545-4776-9275-51bfc5cb4604",
   "metadata": {},
   "outputs": [],
   "source": []
  },
  {
   "cell_type": "code",
   "execution_count": null,
   "id": "5ebd7c77-5bab-4b96-bf97-82a8a8e8ee81",
   "metadata": {},
   "outputs": [],
   "source": [
    "trainer.model"
   ]
  },
  {
   "cell_type": "code",
   "execution_count": null,
   "id": "a1b08384-b857-4bde-8538-07b3c2dad32d",
   "metadata": {},
   "outputs": [],
   "source": []
  },
  {
   "cell_type": "code",
   "execution_count": null,
   "id": "7bb418b0-8722-451e-bb85-74f24ede31c4",
   "metadata": {},
   "outputs": [],
   "source": []
  },
  {
   "cell_type": "code",
   "execution_count": null,
   "id": "c57a69d4-831b-4259-8814-9171fb54eb29",
   "metadata": {},
   "outputs": [],
   "source": []
  },
  {
   "cell_type": "code",
   "execution_count": null,
   "id": "fa360f9a-56ea-4323-b37e-4b3a9482e40c",
   "metadata": {},
   "outputs": [],
   "source": []
  },
  {
   "cell_type": "code",
   "execution_count": null,
   "id": "a0707742-011d-4b0b-9493-976a926e62a4",
   "metadata": {},
   "outputs": [],
   "source": []
  }
 ],
 "metadata": {
  "kernelspec": {
   "display_name": "Python 3 (ipykernel)",
   "language": "python",
   "name": "python3"
  },
  "language_info": {
   "codemirror_mode": {
    "name": "ipython",
    "version": 3
   },
   "file_extension": ".py",
   "mimetype": "text/x-python",
   "name": "python",
   "nbconvert_exporter": "python",
   "pygments_lexer": "ipython3",
   "version": "3.11.4"
  }
 },
 "nbformat": 4,
 "nbformat_minor": 5
}
