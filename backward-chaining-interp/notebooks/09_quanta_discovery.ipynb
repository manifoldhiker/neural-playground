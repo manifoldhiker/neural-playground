{
 "cells": [
  {
   "cell_type": "code",
   "execution_count": null,
   "id": "18507fe7-8d1f-4623-8e69-e072ebe342d3",
   "metadata": {},
   "outputs": [],
   "source": []
  },
  {
   "cell_type": "code",
   "execution_count": null,
   "id": "1c49fea4-cc9f-45fe-be86-4efa5c7457a6",
   "metadata": {},
   "outputs": [],
   "source": []
  },
  {
   "cell_type": "code",
   "execution_count": 1,
   "id": "2bf533e2-20f3-41ce-b703-445b194f3f51",
   "metadata": {},
   "outputs": [],
   "source": [
    "N_TEST_BATCHES = 20"
   ]
  },
  {
   "cell_type": "markdown",
   "id": "93b33ffb-f5dd-40e3-bd7c-35587263887a",
   "metadata": {},
   "source": [
    "## Setup"
   ]
  },
  {
   "cell_type": "code",
   "execution_count": 2,
   "id": "63604638-b89c-432b-a4a3-39ade890fd69",
   "metadata": {},
   "outputs": [],
   "source": [
    "import sys; sys.path.append('..')"
   ]
  },
  {
   "cell_type": "code",
   "execution_count": 3,
   "id": "1e74adb0-97b3-441c-b0bb-27eed0077817",
   "metadata": {},
   "outputs": [],
   "source": [
    "# ! pip install lovely-tensors\n",
    "\n",
    "import lovely_tensors as lt\n",
    "lt.monkey_patch()"
   ]
  },
  {
   "cell_type": "code",
   "execution_count": 4,
   "id": "9e2f9134-d8d7-45a6-afbf-806555ab578d",
   "metadata": {},
   "outputs": [],
   "source": [
    "import torch\n",
    "import numpy as np\n",
    "import pandas as pd\n",
    "import torch.nn.functional as F\n",
    "from torch.utils.data import DataLoader\n",
    "\n",
    "from transformer_lens import HookedTransformer, HookedTransformerConfig"
   ]
  },
  {
   "cell_type": "code",
   "execution_count": 5,
   "id": "cf238670-f8e5-4bb4-a450-64db69b241e6",
   "metadata": {},
   "outputs": [],
   "source": [
    "import wandb\n",
    "from tqdm.auto import tqdm\n",
    "\n",
    "from omegaconf import OmegaConf\n",
    "\n",
    "from datetime import datetime\n",
    "\n",
    "from pathlib import Path\n",
    "\n",
    "import numpy as np\n",
    "import seaborn as sns\n",
    "import matplotlib.pyplot as plt"
   ]
  },
  {
   "cell_type": "code",
   "execution_count": 6,
   "id": "5562d67e-f650-42d1-8a7b-6cb727a1610f",
   "metadata": {},
   "outputs": [],
   "source": [
    "from src.tree import list2tree\n",
    "from src.tree_dataset import TreeDataset, parse_input_idx, input_tokens_to_tree, tree_to_edges\n",
    "from src.utils import seed_all\n",
    "\n",
    "\n",
    "from src.trainer import accuracy_by_depth\n",
    "from src.trainer import TreeTrainer"
   ]
  },
  {
   "cell_type": "code",
   "execution_count": 7,
   "id": "1174a691-06ed-4e63-86b8-551a95818dca",
   "metadata": {},
   "outputs": [
    {
     "name": "stdout",
     "output_type": "stream",
     "text": [
      "random_seed: 42\n",
      "n_nodes: 16\n",
      "model:\n",
      "  d_model: 128\n",
      "  d_head: 128\n",
      "  n_layers: 6\n",
      "  act_fn: gelu\n",
      "  attention_dir: causal\n",
      "optimizer:\n",
      "  lr: 0.001\n",
      "  weight_decay: 0.01\n",
      "batch_size: 64\n",
      "epoch_len_steps: 5000\n",
      "checkpoint_every_epoch: 2\n",
      "device: cpu\n",
      "debug: false\n",
      "use_wandb: true\n",
      "wandb:\n",
      "  project: reasoning-mech-interp\n",
      "  name: 00_6L_nodes=16\n",
      "max_iters: null\n",
      "\n"
     ]
    }
   ],
   "source": [
    "conf = OmegaConf.load('../conf/00_reproduce_6L_nodes=16.yaml')\n",
    "\n",
    "# Output is identical to the YAML file\n",
    "conf.n_nodes = 16\n",
    "conf.device = 'cpu'\n",
    "print(OmegaConf.to_yaml(conf))"
   ]
  },
  {
   "cell_type": "code",
   "execution_count": 8,
   "id": "bbf0ff74-5c8a-4ea9-9e7a-268d610ce0d4",
   "metadata": {},
   "outputs": [],
   "source": [
    "REPRODUCED_MODEL_CKPT = '../checkpoints/reasoning-mech-interp__2024-04-10_16-10-20/00_6L_nodes=16__step=220000.pt'\n",
    "# REPRODUCED_MODEL_CKPT = '../checkpoints/reasoning-mech-interp__2024-04-12_14-26-20/00_6L_nodes=16__deep_trees__step=9256.pt'"
   ]
  },
  {
   "cell_type": "code",
   "execution_count": 9,
   "id": "f91de251-bf02-4af9-8678-fe35f63a8e0a",
   "metadata": {},
   "outputs": [],
   "source": [
    "DEV_RUN = False\n",
    "USE_WANDB = (not DEV_RUN) and conf.use_wandb\n",
    "device = conf.device\n",
    "\n",
    "CHECKPOINT_ROOT = Path('../checkpoints')"
   ]
  },
  {
   "cell_type": "code",
   "execution_count": 10,
   "id": "872cae4e-57b3-452b-b6fc-ed07dd774032",
   "metadata": {},
   "outputs": [
    {
     "name": "stdout",
     "output_type": "stream",
     "text": [
      "RANDOM_SEED=42\n"
     ]
    }
   ],
   "source": [
    "RANDOM_SEED = conf['random_seed']\n",
    "print(f'{RANDOM_SEED=}')\n",
    "seed_all(RANDOM_SEED)"
   ]
  },
  {
   "cell_type": "code",
   "execution_count": 11,
   "id": "09ab32a1-357a-4d3b-a281-73d3684d7381",
   "metadata": {},
   "outputs": [
    {
     "name": "stdout",
     "output_type": "stream",
     "text": [
      "Moving model to device:  cpu\n"
     ]
    },
    {
     "data": {
      "text/plain": [
       "<All keys matched successfully>"
      ]
     },
     "execution_count": 11,
     "metadata": {},
     "output_type": "execute_result"
    }
   ],
   "source": [
    "trainer = TreeTrainer(conf)\n",
    "\n",
    "tokenizer = trainer.dataset.tokenizer\n",
    "\n",
    "tok = tokenizer.tokenize\n",
    "detok = tokenizer.detokenize\n",
    "\n",
    "\n",
    "ROOT_DELIM_TOKEN_IDX = trainer.tok([':'])[0]\n",
    "\n",
    "state_dict = torch.load(REPRODUCED_MODEL_CKPT)\n",
    "trainer.model.load_state_dict(state_dict)"
   ]
  },
  {
   "cell_type": "code",
   "execution_count": 12,
   "id": "eadea4dd-846b-4e6f-bb2d-00a74547a5ce",
   "metadata": {},
   "outputs": [],
   "source": [
    "def load_baseline_model(device='cpu'):\n",
    "    n_states = 16\n",
    "    max_seq_length = n_states * 4 + 2\n",
    "    \n",
    "    number_tokens = sorted([str(i) for i in range(n_states)], key=lambda x: len(x), reverse=True)\n",
    "    idx2tokens = [\",\", \":\", \"|\"] + [f\">{t}\" for t in number_tokens] + number_tokens\n",
    "    tokens2idx = {token: idx for idx, token in enumerate(idx2tokens)}\n",
    "    \n",
    "    \n",
    "    cfg = HookedTransformerConfig(\n",
    "        n_layers=6,\n",
    "        d_model=128,\n",
    "        n_ctx=max_seq_length - 1,\n",
    "        n_heads=1,\n",
    "        d_mlp=512,\n",
    "        d_head=128,\n",
    "        #attn_only=True,\n",
    "        d_vocab=len(idx2tokens),\n",
    "        device=device,\n",
    "        attention_dir= \"causal\",\n",
    "        act_fn=\"gelu\",\n",
    "    )\n",
    "    model = HookedTransformer(cfg)\n",
    "    \n",
    "    model.load_state_dict(torch.load(\"/Users/mykhailokilianovskyi/src/backward-chaining-circuits/model.pt\", map_location=torch.device(device)))\n",
    "    \n",
    "    return model"
   ]
  },
  {
   "cell_type": "code",
   "execution_count": 13,
   "id": "99495bf3-1119-460b-b8ea-7cad96dd6992",
   "metadata": {},
   "outputs": [],
   "source": [
    "import random\n",
    "import collections\n",
    "from torch.utils.data import IterableDataset, DataLoader"
   ]
  },
  {
   "cell_type": "code",
   "execution_count": 14,
   "id": "195643c7-94ca-4c10-91a9-7c93e36e7954",
   "metadata": {},
   "outputs": [],
   "source": [
    "import random\n",
    "\n",
    "from src.tree import TreeNode\n",
    "from src.utils import seed_all\n",
    "from src.tree_dataset import random_tree_of_depth, DeepTreeDataset"
   ]
  },
  {
   "cell_type": "code",
   "execution_count": 15,
   "id": "73169e4c-d9d1-4059-ad23-a74ec4b99071",
   "metadata": {},
   "outputs": [],
   "source": [
    "deep_dataset = DeepTreeDataset(n_nodes=16, possible_depths=(15,14,13))\n",
    "deep_tree_dataloader = DataLoader(deep_dataset, batch_size=conf['batch_size'])"
   ]
  },
  {
   "cell_type": "code",
   "execution_count": 16,
   "id": "8bbe8924-5d3f-4d54-9279-b2921acf6310",
   "metadata": {},
   "outputs": [],
   "source": [
    "baseline_model = load_baseline_model()"
   ]
  },
  {
   "cell_type": "markdown",
   "id": "78179a90-48b0-4e5a-86fb-51fc41dca63e",
   "metadata": {
    "jp-MarkdownHeadingCollapsed": true
   },
   "source": [
    "### Setup Linear Probe"
   ]
  },
  {
   "cell_type": "code",
   "execution_count": 17,
   "id": "fd08db9e-6131-47eb-ad68-53b2446be9fa",
   "metadata": {},
   "outputs": [],
   "source": [
    "import numpy as np\n",
    "from sklearn.linear_model import LogisticRegression\n",
    "from sklearn.model_selection import cross_val_score\n",
    "\n",
    "from sklearn.model_selection import train_test_split\n",
    "\n",
    "\n",
    "from torch import nn\n",
    "\n",
    "\n",
    "class LogisticRegressionModel(nn.Module):\n",
    "    def __init__(self, n_features, n_classes):\n",
    "        super(LogisticRegressionModel, self).__init__()\n",
    "        self.linear = nn.Linear(n_features, n_classes)\n",
    "    \n",
    "    def forward(self, x):\n",
    "        return self.linear(x)\n",
    "\n",
    "# Assuming n_features is the number of features in your dataset and n_classes is the number of classes\n"
   ]
  },
  {
   "cell_type": "code",
   "execution_count": 18,
   "id": "e53f53c9-b513-46ba-9e2b-bedc706476f4",
   "metadata": {},
   "outputs": [],
   "source": [
    "from torch.utils.data import DataLoader, TensorDataset\n",
    "\n",
    "def run_logreg(X,y, num_epochs=5, verbose=False):\n",
    "    X_train, X_test, y_train, y_test = train_test_split(X, y, test_size=0.2, random_state=42)\n",
    "\n",
    "\n",
    "    logreg = LogisticRegressionModel(X_train.shape[1], len(np.unique(y_train)))\n",
    "    \n",
    "    logreg_train_dataset = TensorDataset(X_train, y_train)\n",
    "    train_loader = DataLoader(logreg_train_dataset, batch_size=64, shuffle=True)\n",
    "    \n",
    "    logreg_test_dataset = TensorDataset(X_test, y_test)\n",
    "    logreg_test_loader = DataLoader(logreg_test_dataset, batch_size=64, shuffle=True)\n",
    "\n",
    "    criterion = nn.CrossEntropyLoss()\n",
    "    optimizer = torch.optim.AdamW(logreg.parameters(), lr=0.001)\n",
    "    \n",
    "    \n",
    "    train_losses = []\n",
    "    train_accuracies = []\n",
    "    \n",
    "    test_losses = []\n",
    "    test_accuracies = []\n",
    "    \n",
    "    for epoch in range(num_epochs):\n",
    "        logreg.train()\n",
    "        running_loss = 0.0\n",
    "        correct = 0\n",
    "        total = 0\n",
    "        \n",
    "        for inputs, labels in train_loader:\n",
    "            optimizer.zero_grad()\n",
    "            outputs = logreg(inputs)\n",
    "            loss = criterion(outputs, labels)\n",
    "            loss.backward()\n",
    "            optimizer.step()\n",
    "    \n",
    "            running_loss += loss.item()\n",
    "            _, predicted = torch.max(outputs.data, 1)\n",
    "            total += labels.size(0)\n",
    "            correct += (predicted == labels).sum().item()\n",
    "    \n",
    "        epoch_loss = running_loss / len(train_loader)\n",
    "        epoch_accuracy = 100 * correct / total\n",
    "        train_losses.append(epoch_loss)\n",
    "        train_accuracies.append(epoch_accuracy)\n",
    "\n",
    "        if verbose:\n",
    "            print(f'Epoch [{epoch+1}/{num_epochs}], Loss: {epoch_loss:.4f}, Accuracy: {epoch_accuracy:.2f}%')\n",
    "    \n",
    "        running_loss = 0.0\n",
    "        correct = 0\n",
    "        total = 0\n",
    "        for inputs, labels in logreg_test_loader:\n",
    "    \n",
    "            with torch.inference_mode():\n",
    "                outputs = logreg(inputs)\n",
    "    \n",
    "            _, predicted = torch.max(outputs.data, 1)\n",
    "            total += labels.size(0)\n",
    "            correct += (predicted == labels).sum().item()\n",
    "    \n",
    "        epoch_loss = running_loss / len(logreg_test_loader)\n",
    "        epoch_accuracy = 100 * correct / total\n",
    "        train_losses.append(epoch_loss)\n",
    "        train_accuracies.append(epoch_accuracy)\n",
    "\n",
    "        if verbose:\n",
    "            print(f'Test Loss: {epoch_loss:.4f}, Test Accuracy: {epoch_accuracy:.2f}%')\n",
    "    return epoch_accuracy"
   ]
  },
  {
   "cell_type": "code",
   "execution_count": 19,
   "id": "135ffb9b-580b-4e39-94e3-c181700f90ce",
   "metadata": {},
   "outputs": [],
   "source": [
    "our_idx2token = trainer.dataset.tokenizer.idx2token\n",
    "\n",
    "\n",
    "n_states = 16\n",
    "bas_max_seq_length = n_states * 4 + 2\n",
    "\n",
    "number_tokens = sorted([str(i) for i in range(n_states)], key=lambda x: len(x), reverse=True)\n",
    "idx2tokens = [\",\", \":\", \"|\"] + [f\">{t}\" for t in number_tokens] + number_tokens\n",
    "tokens2idx = {token: idx for idx, token in enumerate(idx2tokens)}\n",
    "\n",
    "from src.tree_dataset import PAD_TOKEN\n",
    "\n",
    "\n",
    "token2bastoken = {k.replace('>', '→'):k for k in tokens2idx.keys()}\n",
    "token2bastoken[PAD_TOKEN] = ','\n",
    "\n",
    "\n",
    "\n",
    "idx2basidx = {}\n",
    "for idx, our_tok in our_idx2token.items():\n",
    "    bastoken = token2bastoken[our_tok]\n",
    "    basidx = tokens2idx[bastoken]\n",
    "    idx2basidx[idx] = basidx"
   ]
  },
  {
   "cell_type": "code",
   "execution_count": 20,
   "id": "90fbe4d6-55be-411c-9d10-54d92fb340c4",
   "metadata": {},
   "outputs": [],
   "source": [
    "def baseline_batch_train_step(baseline_model, batch):\n",
    "    \n",
    "    input_idx = batch['input_idx'][..., :bas_max_seq_length].clone().to(device)\n",
    "    mask = batch['task_mask'][..., :bas_max_seq_length].clone().to(device)\n",
    "\n",
    "    input_idx.apply_(lambda i: idx2basidx[i])\n",
    "\n",
    "    inputs = input_idx[:, :-1]\n",
    "    \n",
    "    out_mask = mask[:, 1:]\n",
    "    targets = input_idx[:, 1:][out_mask]\n",
    "    \n",
    "    \n",
    "    # print(input_idx[:1, :4])\n",
    "    outputs = baseline_model(inputs)\n",
    "    \n",
    "    predictions = outputs[out_mask]\n",
    "    \n",
    "    loss = F.cross_entropy(predictions, targets)\n",
    "\n",
    "    is_correct = (predictions.argmax(dim=-1) == targets)\n",
    "    accuracy_mean = is_correct.float().mean()\n",
    "    metrics = accuracy_by_depth(outputs, input_idx, out_mask)\n",
    "    metrics['accuracy/mean'] = accuracy_mean.item()\n",
    "\n",
    "    return loss, metrics"
   ]
  },
  {
   "cell_type": "code",
   "execution_count": 21,
   "id": "89260abd-a062-4d69-a8da-19770605cb5d",
   "metadata": {},
   "outputs": [
    {
     "name": "stdout",
     "output_type": "stream",
     "text": [
      "len(edge2idx)=256\n"
     ]
    }
   ],
   "source": [
    "\n",
    "ROOT_DELIM_TOKEN_IDX = trainer.tok([':'])[0]\n",
    "\n",
    "def extract_edges(sample_input_idx):\n",
    "    upper_task_bound = sample_input_idx.tolist().index(ROOT_DELIM_TOKEN_IDX) + 2\n",
    "    prompt = trainer.detok(sample_input_idx)[:upper_task_bound]\n",
    "    \n",
    "    i = 2\n",
    "    \n",
    "    edges = []\n",
    "    \n",
    "    while i < len(prompt) and prompt[i] != '|':\n",
    "        edge = (prompt[i-2], prompt[i-1])\n",
    "        edges.append(edge)\n",
    "        i += 3\n",
    "    \n",
    "    return edges\n",
    "\n",
    "\n",
    "n_nodes = 16\n",
    "\n",
    "edges = [(str(i), '→'+str(j)) for i in range(n_nodes) for j in range(n_nodes)]\n",
    "\n",
    "edge2idx = {e:i for i,e in enumerate(edges)}\n",
    "\n",
    "idx2edge = {i:e for e,i in edge2idx.items()}\n",
    "print(f'{len(edge2idx)=}')\n",
    "\n",
    "def get_first_node(edge_idx): return int(idx2edge[edge_idx][0])\n",
    "def get_second_node(edge_idx): return int(idx2edge[edge_idx][1][1:])\n",
    "    \n",
    "\n",
    "def get_edge_labels(batch):\n",
    "    input_idx = batch['input_idx']\n",
    "    edge_batch = []\n",
    "    for row in input_idx:\n",
    "        edges = extract_edges(row)\n",
    "        edges = [edge2idx[e] for e in edges]\n",
    "        edge_batch.append(edges)\n",
    "    return torch.tensor(edge_batch)"
   ]
  },
  {
   "cell_type": "markdown",
   "id": "320d647c-fce4-4e38-b960-6c9ae407fc94",
   "metadata": {},
   "source": [
    "## Check that goal node is moved"
   ]
  },
  {
   "cell_type": "markdown",
   "id": "4856d319-f039-48ca-8dad-7ec47e2cbd9d",
   "metadata": {},
   "source": [
    "### Reproduce \"edge token\" detection"
   ]
  },
  {
   "cell_type": "code",
   "execution_count": 22,
   "id": "0fecb21c-4860-45fe-a4dc-dd87a023a627",
   "metadata": {},
   "outputs": [
    {
     "data": {
      "text/plain": [
       "tensor[14] i64 x∈[2, 41] μ=21.500 σ=12.550\n",
       "tensor([ 2,  5,  8, 11, 14, 17, 20, 23, 26, 29, 32, 35, 38, 41])"
      ]
     },
     "execution_count": 22,
     "metadata": {},
     "output_type": "execute_result"
    }
   ],
   "source": [
    "third_token_idx = torch.arange(2, 14*3, 3)\n",
    "third_token_idx.v"
   ]
  },
  {
   "cell_type": "code",
   "execution_count": 23,
   "id": "6e32bf41-bd97-476c-bf91-23de574db284",
   "metadata": {},
   "outputs": [],
   "source": [
    "cache_keys = [{'key': 'resid_post', \"n\": n} for n in range(6)]\n",
    "cache_keys = [{'key': 'embed', 'n': None}] + cache_keys\n",
    "cache_keys = [\n",
    "    {'key': 'embed', 'n': None}, # just embeddings as a control experiment\n",
    " {'key': 'resid_post', 'n': 0},\n",
    " {'key': 'resid_post', 'n': 1},\n",
    " {'key': 'resid_post', 'n': 2},\n",
    " {'key': 'resid_post', 'n': 3},\n",
    " {'key': 'resid_post', 'n': 4},\n",
    " {'key': 'resid_post', 'n': 5}]\n",
    "\n"
   ]
  },
  {
   "cell_type": "code",
   "execution_count": null,
   "id": "2c13f163-131e-422e-aa58-ec944ef87e28",
   "metadata": {},
   "outputs": [],
   "source": []
  },
  {
   "cell_type": "code",
   "execution_count": 24,
   "id": "2ab3a0db-231d-4d82-8acc-96e3d023d88c",
   "metadata": {},
   "outputs": [],
   "source": [
    "for batch in deep_tree_dataloader:\n",
    "    break"
   ]
  },
  {
   "cell_type": "code",
   "execution_count": 25,
   "id": "ed3d112f-f6cb-47b4-a76d-8ba451a0294e",
   "metadata": {},
   "outputs": [],
   "source": [
    "torch.inference_mode()\n",
    "def get_cache_baseline_model(batch, baseline_model):\n",
    "    input_idx = batch['input_idx'][..., :bas_max_seq_length].clone().to(device)\n",
    "    mask = batch['task_mask'][..., :bas_max_seq_length].clone().to(device)\n",
    "\n",
    "    input_idx.apply_(lambda i: idx2basidx[i])\n",
    "\n",
    "    inputs = input_idx[:, :-1]\n",
    "    \n",
    "    out_mask = mask[:, 1:]\n",
    "    targets = input_idx[:, 1:][out_mask]\n",
    "    \n",
    "    \n",
    "    # print(input_idx[:1, :4])\n",
    "    # outputs = baseline_model(inputs)\n",
    "    \n",
    "    outputs, cache = baseline_model.run_with_cache(inputs)\n",
    "    return cache"
   ]
  },
  {
   "cell_type": "code",
   "execution_count": 26,
   "id": "e27d24f4-e90b-480f-9b8e-aefe3465dc88",
   "metadata": {},
   "outputs": [
    {
     "data": {
      "text/plain": [
       "tensor[14] i64 x∈[1, 40] μ=20.500 σ=12.550\n",
       "tensor([ 1,  4,  7, 10, 13, 16, 19, 22, 25, 28, 31, 34, 37, 40])"
      ]
     },
     "execution_count": 26,
     "metadata": {},
     "output_type": "execute_result"
    }
   ],
   "source": [
    "second_node_idx = torch.arange(1, 14*3, 3)\n",
    "second_node_idx.v"
   ]
  },
  {
   "cell_type": "code",
   "execution_count": 27,
   "id": "505fd1d2-f257-40d0-9259-5fcd423ef24b",
   "metadata": {},
   "outputs": [
    {
     "data": {
      "text/plain": [
       "tensor[14] i64 x∈[2, 41] μ=21.500 σ=12.550\n",
       "tensor([ 2,  5,  8, 11, 14, 17, 20, 23, 26, 29, 32, 35, 38, 41])"
      ]
     },
     "execution_count": 27,
     "metadata": {},
     "output_type": "execute_result"
    }
   ],
   "source": [
    "pad_token_idx = torch.arange(2, 14*3, 3)\n",
    "pad_token_idx.v"
   ]
  },
  {
   "cell_type": "code",
   "execution_count": 28,
   "id": "51ad676e-4b66-468a-917e-30601a78ab0f",
   "metadata": {},
   "outputs": [],
   "source": [
    "d_model = conf.model.d_model\n",
    "\n",
    "\n",
    "def extract_Ln_second_node_xy(batch, baseline_model, key='resid_post', n=0):\n",
    "    cache = get_cache_baseline_model(batch, baseline_model)\n",
    "    resid_act0 = cache[key, n]\n",
    "    \n",
    "    X = resid_act0[:, second_node_idx].reshape(-1, d_model)\n",
    "    y = get_edge_labels(batch).reshape(-1)\n",
    "    \n",
    "    return X,y\n",
    "\n",
    "\n",
    "def extract_Ln_pad_token_xy(batch, baseline_model, key='resid_post', n=0):\n",
    "    cache = get_cache_baseline_model(batch, baseline_model)\n",
    "    resid_act0 = cache[key, n]\n",
    "    \n",
    "    X = resid_act0[:, pad_token_idx].reshape(-1, d_model)\n",
    "    y = get_edge_labels(batch).reshape(-1)\n",
    "    \n",
    "    return X,y"
   ]
  },
  {
   "cell_type": "code",
   "execution_count": 29,
   "id": "d6deb81f-c11d-4c62-a84f-9ecbe3b6691c",
   "metadata": {},
   "outputs": [],
   "source": [
    "baseline_model = load_baseline_model()"
   ]
  },
  {
   "cell_type": "code",
   "execution_count": null,
   "id": "e21644fb-f655-4e09-a57c-a04b2a454f9b",
   "metadata": {},
   "outputs": [],
   "source": []
  },
  {
   "cell_type": "code",
   "execution_count": 30,
   "id": "77ae988a-22b9-482f-9b57-51dfdaaf7c0b",
   "metadata": {},
   "outputs": [
    {
     "data": {
      "application/vnd.jupyter.widget-view+json": {
       "model_id": "df1d732957434e3eba0806ab44c8169e",
       "version_major": 2,
       "version_minor": 0
      },
      "text/plain": [
       "  0%|          | 0/20 [00:00<?, ?it/s]"
      ]
     },
     "metadata": {},
     "output_type": "display_data"
    },
    {
     "name": "stdout",
     "output_type": "stream",
     "text": [
      "metric={'acc_node_0': 7.059151785714286, 'acc_node_1': 100.0, 'layer_name': 'key=embed n=None'}\n"
     ]
    },
    {
     "data": {
      "application/vnd.jupyter.widget-view+json": {
       "model_id": "52236f02735c46299e2f09364b7e1cc5",
       "version_major": 2,
       "version_minor": 0
      },
      "text/plain": [
       "  0%|          | 0/20 [00:00<?, ?it/s]"
      ]
     },
     "metadata": {},
     "output_type": "display_data"
    },
    {
     "name": "stdout",
     "output_type": "stream",
     "text": [
      "metric={'acc_node_0': 100.0, 'acc_node_1': 100.0, 'layer_name': 'key=resid_post n=0'}\n"
     ]
    },
    {
     "data": {
      "application/vnd.jupyter.widget-view+json": {
       "model_id": "7049e2d3faf8465c9993d891809b0157",
       "version_major": 2,
       "version_minor": 0
      },
      "text/plain": [
       "  0%|          | 0/20 [00:00<?, ?it/s]"
      ]
     },
     "metadata": {},
     "output_type": "display_data"
    },
    {
     "name": "stdout",
     "output_type": "stream",
     "text": [
      "metric={'acc_node_0': 100.0, 'acc_node_1': 100.0, 'layer_name': 'key=resid_post n=1'}\n"
     ]
    },
    {
     "data": {
      "application/vnd.jupyter.widget-view+json": {
       "model_id": "4bb5c359e10d41a8b29e4883f7f3071e",
       "version_major": 2,
       "version_minor": 0
      },
      "text/plain": [
       "  0%|          | 0/20 [00:00<?, ?it/s]"
      ]
     },
     "metadata": {},
     "output_type": "display_data"
    },
    {
     "name": "stdout",
     "output_type": "stream",
     "text": [
      "metric={'acc_node_0': 100.0, 'acc_node_1': 100.0, 'layer_name': 'key=resid_post n=2'}\n"
     ]
    },
    {
     "data": {
      "application/vnd.jupyter.widget-view+json": {
       "model_id": "c669047db546441191ea8319bdbc22ff",
       "version_major": 2,
       "version_minor": 0
      },
      "text/plain": [
       "  0%|          | 0/20 [00:00<?, ?it/s]"
      ]
     },
     "metadata": {},
     "output_type": "display_data"
    },
    {
     "name": "stdout",
     "output_type": "stream",
     "text": [
      "metric={'acc_node_0': 100.0, 'acc_node_1': 100.0, 'layer_name': 'key=resid_post n=3'}\n"
     ]
    },
    {
     "data": {
      "application/vnd.jupyter.widget-view+json": {
       "model_id": "e2e3e04d1fee4dcbb09a578bda2474ae",
       "version_major": 2,
       "version_minor": 0
      },
      "text/plain": [
       "  0%|          | 0/20 [00:00<?, ?it/s]"
      ]
     },
     "metadata": {},
     "output_type": "display_data"
    },
    {
     "name": "stdout",
     "output_type": "stream",
     "text": [
      "metric={'acc_node_0': 100.0, 'acc_node_1': 100.0, 'layer_name': 'key=resid_post n=4'}\n"
     ]
    },
    {
     "data": {
      "application/vnd.jupyter.widget-view+json": {
       "model_id": "44e643c5bf33499db6ad10fd9b571ee6",
       "version_major": 2,
       "version_minor": 0
      },
      "text/plain": [
       "  0%|          | 0/20 [00:00<?, ?it/s]"
      ]
     },
     "metadata": {},
     "output_type": "display_data"
    },
    {
     "name": "stdout",
     "output_type": "stream",
     "text": [
      "metric={'acc_node_0': 100.0, 'acc_node_1': 100.0, 'layer_name': 'key=resid_post n=5'}\n",
      "extract_Ln_second_node_xy\n"
     ]
    },
    {
     "data": {
      "text/html": [
       "<div>\n",
       "<style scoped>\n",
       "    .dataframe tbody tr th:only-of-type {\n",
       "        vertical-align: middle;\n",
       "    }\n",
       "\n",
       "    .dataframe tbody tr th {\n",
       "        vertical-align: top;\n",
       "    }\n",
       "\n",
       "    .dataframe thead th {\n",
       "        text-align: right;\n",
       "    }\n",
       "</style>\n",
       "<table border=\"1\" class=\"dataframe\">\n",
       "  <thead>\n",
       "    <tr style=\"text-align: right;\">\n",
       "      <th></th>\n",
       "      <th>acc_node_0</th>\n",
       "      <th>acc_node_1</th>\n",
       "      <th>layer_name</th>\n",
       "    </tr>\n",
       "  </thead>\n",
       "  <tbody>\n",
       "    <tr>\n",
       "      <th>0</th>\n",
       "      <td>7.059152</td>\n",
       "      <td>100.0</td>\n",
       "      <td>key=embed n=None</td>\n",
       "    </tr>\n",
       "    <tr>\n",
       "      <th>1</th>\n",
       "      <td>100.000000</td>\n",
       "      <td>100.0</td>\n",
       "      <td>key=resid_post n=0</td>\n",
       "    </tr>\n",
       "    <tr>\n",
       "      <th>2</th>\n",
       "      <td>100.000000</td>\n",
       "      <td>100.0</td>\n",
       "      <td>key=resid_post n=1</td>\n",
       "    </tr>\n",
       "    <tr>\n",
       "      <th>3</th>\n",
       "      <td>100.000000</td>\n",
       "      <td>100.0</td>\n",
       "      <td>key=resid_post n=2</td>\n",
       "    </tr>\n",
       "    <tr>\n",
       "      <th>4</th>\n",
       "      <td>100.000000</td>\n",
       "      <td>100.0</td>\n",
       "      <td>key=resid_post n=3</td>\n",
       "    </tr>\n",
       "    <tr>\n",
       "      <th>5</th>\n",
       "      <td>100.000000</td>\n",
       "      <td>100.0</td>\n",
       "      <td>key=resid_post n=4</td>\n",
       "    </tr>\n",
       "    <tr>\n",
       "      <th>6</th>\n",
       "      <td>100.000000</td>\n",
       "      <td>100.0</td>\n",
       "      <td>key=resid_post n=5</td>\n",
       "    </tr>\n",
       "  </tbody>\n",
       "</table>\n",
       "</div>"
      ],
      "text/plain": [
       "   acc_node_0  acc_node_1          layer_name\n",
       "0    7.059152       100.0    key=embed n=None\n",
       "1  100.000000       100.0  key=resid_post n=0\n",
       "2  100.000000       100.0  key=resid_post n=1\n",
       "3  100.000000       100.0  key=resid_post n=2\n",
       "4  100.000000       100.0  key=resid_post n=3\n",
       "5  100.000000       100.0  key=resid_post n=4\n",
       "6  100.000000       100.0  key=resid_post n=5"
      ]
     },
     "execution_count": 30,
     "metadata": {},
     "output_type": "execute_result"
    }
   ],
   "source": [
    "accuracies = []\n",
    "\n",
    "for cache_key in cache_keys:\n",
    "\n",
    "    X = []\n",
    "    y = []\n",
    "    \n",
    "    for i,batch in tqdm(zip(range(N_TEST_BATCHES), deep_tree_dataloader), total=N_TEST_BATCHES):\n",
    "        Xbatch, ybatch = extract_Ln_second_node_xy(batch, baseline_model, **cache_key)\n",
    "    \n",
    "        X.append(Xbatch)\n",
    "        y.append(ybatch)\n",
    "    \n",
    "    \n",
    "    X = torch.cat(X)\n",
    "    y = torch.cat(y)\n",
    "    \n",
    "    y_first_node = torch.tensor( [get_first_node(i.item()) for i in y] )\n",
    "    y_second_node = torch.tensor( [get_second_node(i.item()) for i in y] )\n",
    "\n",
    "    acc_node0 = run_logreg(X, y_first_node)\n",
    "    acc_node1 = run_logreg(X, y_second_node)\n",
    "\n",
    "\n",
    "    layer_name = ''.join ( [f'{k}={v} ' for k,v in cache_key.items()] )[:-1]\n",
    "    metric = {'acc_node_0': float(acc_node0), 'acc_node_1': float(acc_node1), 'layer_name':layer_name}\n",
    "    print(f'{metric=}')\n",
    "\n",
    "    accuracies.append(metric)\n",
    "\n",
    "print('extract_Ln_second_node_xy')\n",
    "pd.DataFrame(accuracies)"
   ]
  },
  {
   "cell_type": "code",
   "execution_count": null,
   "id": "100cd958-0720-4928-bfba-1f3daeef3282",
   "metadata": {},
   "outputs": [],
   "source": []
  },
  {
   "cell_type": "markdown",
   "id": "ac0409c3-efbd-4644-9afe-afd30adade08",
   "metadata": {},
   "source": [
    "## gradient dataset"
   ]
  },
  {
   "cell_type": "code",
   "execution_count": 34,
   "id": "5ae74993-eec0-4704-92c8-ac801335c3cd",
   "metadata": {},
   "outputs": [],
   "source": [
    "def baseline_batch_train_step(baseline_model, batch):\n",
    "    \n",
    "    input_idx = batch['input_idx'][..., :bas_max_seq_length].clone().to(device)\n",
    "    mask = batch['task_mask'][..., :bas_max_seq_length].clone().to(device)\n",
    "\n",
    "    input_idx.apply_(lambda i: idx2basidx[i])\n",
    "\n",
    "    inputs = input_idx[:, :-1]\n",
    "    \n",
    "    out_mask = mask[:, 1:]\n",
    "    targets = input_idx[:, 1:][out_mask]\n",
    "    \n",
    "    \n",
    "    # print(input_idx[:1, :4])\n",
    "    outputs = baseline_model(inputs)\n",
    "    \n",
    "    predictions = outputs[out_mask]\n",
    "    \n",
    "    loss = F.cross_entropy(predictions, targets)\n",
    "\n",
    "    is_correct = (predictions.argmax(dim=-1) == targets)\n",
    "    accuracy_mean = is_correct.float().mean()\n",
    "    metrics = accuracy_by_depth(outputs, input_idx, out_mask)\n",
    "    metrics['accuracy/mean'] = accuracy_mean.item()\n",
    "\n",
    "    return loss, metrics"
   ]
  },
  {
   "cell_type": "code",
   "execution_count": null,
   "id": "23b826c2-fe89-4b5b-86e9-afef07935c9b",
   "metadata": {},
   "outputs": [],
   "source": []
  },
  {
   "cell_type": "code",
   "execution_count": 37,
   "id": "dce694ec-0d91-4fe4-b7bf-b69b077e87b2",
   "metadata": {},
   "outputs": [],
   "source": [
    "input_idx = batch['input_idx'][..., :bas_max_seq_length].clone().to(device)\n",
    "mask = batch['task_mask'][..., :bas_max_seq_length].clone().to(device)\n",
    "\n",
    "input_idx.apply_(lambda i: idx2basidx[i])\n",
    "\n",
    "inputs = input_idx[:, :-1]\n",
    "\n",
    "out_mask = mask[:, 1:]\n",
    "targets = input_idx[:, 1:][out_mask]\n",
    "\n",
    "\n",
    "# print(input_idx[:1, :4])\n",
    "outputs = baseline_model(inputs)\n",
    "predictions = outputs[out_mask]\n",
    "loss = F.cross_entropy(predictions, targets)\n",
    "loss.backward()"
   ]
  },
  {
   "cell_type": "code",
   "execution_count": 49,
   "id": "6239654f-174e-4e57-9af9-d3ed025f1330",
   "metadata": {},
   "outputs": [
    {
     "data": {
      "text/plain": [
       "tensor[1, 65] i64 x∈[0, 34] μ=11.708 σ=10.978"
      ]
     },
     "execution_count": 49,
     "metadata": {},
     "output_type": "execute_result"
    }
   ],
   "source": [
    "inputs[[0]]"
   ]
  },
  {
   "cell_type": "code",
   "execution_count": 54,
   "id": "97a5bf44-e4dd-401d-a060-92d4e99cccf1",
   "metadata": {},
   "outputs": [
    {
     "data": {
      "text/plain": [
       "tensor[1, 65] bool x∈[False, True] μ=0.200 σ=0.403"
      ]
     },
     "execution_count": 54,
     "metadata": {},
     "output_type": "execute_result"
    }
   ],
   "source": [
    "out_mask[[i]]"
   ]
  },
  {
   "cell_type": "code",
   "execution_count": 55,
   "id": "9838d61c-1261-4c59-ab0b-a32055556210",
   "metadata": {},
   "outputs": [
    {
     "data": {
      "text/plain": [
       "tensor[1, 65, 35] n=2275 (8.9Kb) x∈[-25.298, 31.830] μ=-0.315 σ=4.679 grad AddBackward0"
      ]
     },
     "execution_count": 55,
     "metadata": {},
     "output_type": "execute_result"
    }
   ],
   "source": [
    "outputs"
   ]
  },
  {
   "cell_type": "code",
   "execution_count": 56,
   "id": "ea895e3e-e05c-4392-a9ce-4e760118773c",
   "metadata": {},
   "outputs": [
    {
     "data": {
      "text/plain": [
       "tensor[13, 35] n=455 (1.8Kb) x∈[-6.129, 28.613] μ=-2.005 σ=5.187 grad IndexBackward0"
      ]
     },
     "execution_count": 56,
     "metadata": {},
     "output_type": "execute_result"
    }
   ],
   "source": [
    "outputs[out_mask[[i]]]"
   ]
  },
  {
   "cell_type": "code",
   "execution_count": 62,
   "id": "3fbd9bb3-4e1c-404c-83a7-f046e090f394",
   "metadata": {},
   "outputs": [
    {
     "data": {
      "text/plain": [
       "tensor[14] i64 x∈[3, 17] μ=10.000 σ=4.641"
      ]
     },
     "execution_count": 62,
     "metadata": {},
     "output_type": "execute_result"
    }
   ],
   "source": [
    "targets"
   ]
  },
  {
   "cell_type": "code",
   "execution_count": 64,
   "id": "263feb38-abc9-4b25-9ec5-149231e44062",
   "metadata": {},
   "outputs": [
    {
     "data": {
      "text/plain": [
       "tensor i64 14"
      ]
     },
     "execution_count": 64,
     "metadata": {},
     "output_type": "execute_result"
    }
   ],
   "source": []
  },
  {
   "cell_type": "code",
   "execution_count": null,
   "id": "8ccbf09f-8eb1-45d7-a64c-3171734ce17c",
   "metadata": {},
   "outputs": [],
   "source": []
  },
  {
   "cell_type": "code",
   "execution_count": 79,
   "id": "04ccd2d5-eb42-46f5-84de-0ff4ad290c8c",
   "metadata": {},
   "outputs": [
    {
     "data": {
      "application/vnd.jupyter.widget-view+json": {
       "model_id": "665ed0a3766540fab6aa887aa224fa0a",
       "version_major": 2,
       "version_minor": 0
      },
      "text/plain": [
       "  0%|          | 0/15 [00:00<?, ?it/s]"
      ]
     },
     "metadata": {},
     "output_type": "display_data"
    },
    {
     "data": {
      "application/vnd.jupyter.widget-view+json": {
       "model_id": "",
       "version_major": 2,
       "version_minor": 0
      },
      "text/plain": [
       "  0%|          | 0/4 [00:00<?, ?it/s]"
      ]
     },
     "metadata": {},
     "output_type": "display_data"
    },
    {
     "data": {
      "application/vnd.jupyter.widget-view+json": {
       "model_id": "",
       "version_major": 2,
       "version_minor": 0
      },
      "text/plain": [
       "  0%|          | 0/4 [00:00<?, ?it/s]"
      ]
     },
     "metadata": {},
     "output_type": "display_data"
    },
    {
     "data": {
      "application/vnd.jupyter.widget-view+json": {
       "model_id": "",
       "version_major": 2,
       "version_minor": 0
      },
      "text/plain": [
       "  0%|          | 0/4 [00:00<?, ?it/s]"
      ]
     },
     "metadata": {},
     "output_type": "display_data"
    },
    {
     "data": {
      "application/vnd.jupyter.widget-view+json": {
       "model_id": "",
       "version_major": 2,
       "version_minor": 0
      },
      "text/plain": [
       "  0%|          | 0/4 [00:00<?, ?it/s]"
      ]
     },
     "metadata": {},
     "output_type": "display_data"
    },
    {
     "data": {
      "application/vnd.jupyter.widget-view+json": {
       "model_id": "",
       "version_major": 2,
       "version_minor": 0
      },
      "text/plain": [
       "  0%|          | 0/4 [00:00<?, ?it/s]"
      ]
     },
     "metadata": {},
     "output_type": "display_data"
    },
    {
     "data": {
      "application/vnd.jupyter.widget-view+json": {
       "model_id": "",
       "version_major": 2,
       "version_minor": 0
      },
      "text/plain": [
       "  0%|          | 0/4 [00:00<?, ?it/s]"
      ]
     },
     "metadata": {},
     "output_type": "display_data"
    },
    {
     "data": {
      "application/vnd.jupyter.widget-view+json": {
       "model_id": "",
       "version_major": 2,
       "version_minor": 0
      },
      "text/plain": [
       "  0%|          | 0/4 [00:00<?, ?it/s]"
      ]
     },
     "metadata": {},
     "output_type": "display_data"
    },
    {
     "data": {
      "application/vnd.jupyter.widget-view+json": {
       "model_id": "",
       "version_major": 2,
       "version_minor": 0
      },
      "text/plain": [
       "  0%|          | 0/4 [00:00<?, ?it/s]"
      ]
     },
     "metadata": {},
     "output_type": "display_data"
    },
    {
     "data": {
      "application/vnd.jupyter.widget-view+json": {
       "model_id": "",
       "version_major": 2,
       "version_minor": 0
      },
      "text/plain": [
       "  0%|          | 0/4 [00:00<?, ?it/s]"
      ]
     },
     "metadata": {},
     "output_type": "display_data"
    },
    {
     "data": {
      "application/vnd.jupyter.widget-view+json": {
       "model_id": "",
       "version_major": 2,
       "version_minor": 0
      },
      "text/plain": [
       "  0%|          | 0/4 [00:00<?, ?it/s]"
      ]
     },
     "metadata": {},
     "output_type": "display_data"
    },
    {
     "data": {
      "application/vnd.jupyter.widget-view+json": {
       "model_id": "",
       "version_major": 2,
       "version_minor": 0
      },
      "text/plain": [
       "  0%|          | 0/4 [00:00<?, ?it/s]"
      ]
     },
     "metadata": {},
     "output_type": "display_data"
    },
    {
     "data": {
      "application/vnd.jupyter.widget-view+json": {
       "model_id": "",
       "version_major": 2,
       "version_minor": 0
      },
      "text/plain": [
       "  0%|          | 0/4 [00:00<?, ?it/s]"
      ]
     },
     "metadata": {},
     "output_type": "display_data"
    },
    {
     "data": {
      "application/vnd.jupyter.widget-view+json": {
       "model_id": "",
       "version_major": 2,
       "version_minor": 0
      },
      "text/plain": [
       "  0%|          | 0/4 [00:00<?, ?it/s]"
      ]
     },
     "metadata": {},
     "output_type": "display_data"
    },
    {
     "data": {
      "application/vnd.jupyter.widget-view+json": {
       "model_id": "",
       "version_major": 2,
       "version_minor": 0
      },
      "text/plain": [
       "  0%|          | 0/4 [00:00<?, ?it/s]"
      ]
     },
     "metadata": {},
     "output_type": "display_data"
    },
    {
     "data": {
      "application/vnd.jupyter.widget-view+json": {
       "model_id": "",
       "version_major": 2,
       "version_minor": 0
      },
      "text/plain": [
       "  0%|          | 0/4 [00:00<?, ?it/s]"
      ]
     },
     "metadata": {},
     "output_type": "display_data"
    }
   ],
   "source": [
    "grad_dataset = []\n",
    "\n",
    "\n",
    "\n",
    "for testing_depth in tqdm(range(1, 16)):\n",
    "    \n",
    "    deep_dataset = DeepTreeDataset(n_nodes=16, possible_depths=(testing_depth,))\n",
    "    deep_tree_dataloader = DataLoader(deep_dataset, batch_size=4)\n",
    "    \n",
    "    for batch in deep_tree_dataloader:\n",
    "        break\n",
    "    \n",
    "    input_idx = batch['input_idx'][..., :bas_max_seq_length].clone().to(device)\n",
    "    mask = batch['task_mask'][..., :bas_max_seq_length].clone().to(device)\n",
    "\n",
    "    input_idx.apply_(lambda i: idx2basidx[i])\n",
    "\n",
    "    inputs = input_idx[:, :-1]\n",
    "    \n",
    "    out_mask = mask[:, 1:]\n",
    "    targets = input_idx[:, 1:][out_mask]\n",
    "\n",
    "    for i in tqdm(range(len(inputs)), leave=False):\n",
    "    \n",
    "        \n",
    "        # outputs = baseline_model(inputs[[i]])\n",
    "        # predictions = outputs[out_mask[[i]]]\n",
    "    \n",
    "        targets = input_idx[:, 1:][[i]][out_mask[[i]]]\n",
    "    \n",
    "        for t in range(len(targets)):\n",
    "            for p in baseline_model.parameters():\n",
    "                p.grad = None\n",
    "            \n",
    "            outputs = baseline_model(inputs[[i]])\n",
    "            predictions = outputs[out_mask[[i]]]\n",
    "        \n",
    "            targets = input_idx[:, 1:][[i]][out_mask[[i]]]\n",
    "            loss = F.cross_entropy(predictions[[t]], targets[[t]])\n",
    "            loss.backward(retain_graph=True)\n",
    "        \n",
    "        \n",
    "            grads = []\n",
    "            \n",
    "            for p in baseline_model.parameters():\n",
    "                grads.append(p.grad.flatten())\n",
    "            \n",
    "            grads = torch.cat(grads)\n",
    "        \n",
    "            grad_dataset.append({\n",
    "                'grad': grads.detach().cpu(),\n",
    "                'token_depth': t+1,\n",
    "                'total_depth': out_mask[[i]].sum().item(),\n",
    "            })"
   ]
  },
  {
   "cell_type": "code",
   "execution_count": 82,
   "id": "cac376dc-2bf0-4bac-af89-4454b3923a99",
   "metadata": {},
   "outputs": [
    {
     "data": {
      "text/plain": [
       "480"
      ]
     },
     "execution_count": 82,
     "metadata": {},
     "output_type": "execute_result"
    }
   ],
   "source": [
    "len(grad_dataset)"
   ]
  },
  {
   "cell_type": "code",
   "execution_count": 84,
   "id": "6b770cad-a607-4765-8b08-94f49ded3dbd",
   "metadata": {},
   "outputs": [
    {
     "data": {
      "text/plain": [
       "{0, 1, 2, 3, 4, 5, 6, 7, 8, 9, 10, 11, 12, 13, 14}"
      ]
     },
     "execution_count": 84,
     "metadata": {},
     "output_type": "execute_result"
    }
   ],
   "source": [
    "set(d['token_depth'] for d in grad_dataset)"
   ]
  },
  {
   "cell_type": "code",
   "execution_count": 86,
   "id": "d5ff0546-855c-482a-955d-a31600fa9279",
   "metadata": {},
   "outputs": [],
   "source": [
    "X = torch.stack([d['grad'] for d in grad_dataset])"
   ]
  },
  {
   "cell_type": "code",
   "execution_count": 87,
   "id": "f8eb71f3-9a49-4400-ae54-8748ea8435ad",
   "metadata": {
    "scrolled": true
   },
   "outputs": [
    {
     "data": {
      "text/plain": [
       "torch.Size([480, 1207203])"
      ]
     },
     "execution_count": 87,
     "metadata": {},
     "output_type": "execute_result"
    }
   ],
   "source": [
    "X.shape"
   ]
  },
  {
   "cell_type": "code",
   "execution_count": 98,
   "id": "729099dd-220b-4b0f-ac01-ae692f69f365",
   "metadata": {},
   "outputs": [
    {
     "data": {
      "text/plain": [
       "tensor[480] i64 3.8Kb x∈[1, 15] μ=10.333 σ=3.640"
      ]
     },
     "execution_count": 98,
     "metadata": {},
     "output_type": "execute_result"
    }
   ],
   "source": [
    "y = torch.tensor([d['total_depth'] for d in grad_dataset])\n",
    "y"
   ]
  },
  {
   "cell_type": "code",
   "execution_count": 99,
   "id": "a7991f5c-1513-4543-803b-2b62e58544c8",
   "metadata": {},
   "outputs": [
    {
     "ename": "KeyboardInterrupt",
     "evalue": "",
     "output_type": "error",
     "traceback": [
      "\u001b[0;31m---------------------------------------------------------------------------\u001b[0m",
      "\u001b[0;31mKeyboardInterrupt\u001b[0m                         Traceback (most recent call last)",
      "Cell \u001b[0;32mIn[99], line 9\u001b[0m\n\u001b[1;32m      7\u001b[0m \u001b[38;5;66;03m# Use t-SNE to reduce dimensions to 2D\u001b[39;00m\n\u001b[1;32m      8\u001b[0m tsne \u001b[38;5;241m=\u001b[39m TSNE(n_components\u001b[38;5;241m=\u001b[39m\u001b[38;5;241m2\u001b[39m, random_state\u001b[38;5;241m=\u001b[39m\u001b[38;5;241m42\u001b[39m, n_iter\u001b[38;5;241m=\u001b[39m\u001b[38;5;241m250\u001b[39m)  \u001b[38;5;66;03m# Faster convergence\u001b[39;00m\n\u001b[0;32m----> 9\u001b[0m X_reduced \u001b[38;5;241m=\u001b[39m \u001b[43mtsne\u001b[49m\u001b[38;5;241;43m.\u001b[39;49m\u001b[43mfit_transform\u001b[49m\u001b[43m(\u001b[49m\u001b[43mX\u001b[49m\u001b[43m[\u001b[49m\u001b[43m:\u001b[49m\u001b[38;5;241;43m2000\u001b[39;49m\u001b[43m]\u001b[49m\u001b[43m)\u001b[49m  \u001b[38;5;66;03m# Reduced subset for quicker execution\u001b[39;00m\n\u001b[1;32m     11\u001b[0m \u001b[38;5;66;03m# Plotting the result\u001b[39;00m\n\u001b[1;32m     12\u001b[0m plt\u001b[38;5;241m.\u001b[39mfigure(figsize\u001b[38;5;241m=\u001b[39m(\u001b[38;5;241m13\u001b[39m,\u001b[38;5;241m10\u001b[39m))\n",
      "File \u001b[0;32m~/miniconda3/lib/python3.11/site-packages/sklearn/utils/_set_output.py:140\u001b[0m, in \u001b[0;36m_wrap_method_output.<locals>.wrapped\u001b[0;34m(self, X, *args, **kwargs)\u001b[0m\n\u001b[1;32m    138\u001b[0m \u001b[38;5;129m@wraps\u001b[39m(f)\n\u001b[1;32m    139\u001b[0m \u001b[38;5;28;01mdef\u001b[39;00m \u001b[38;5;21mwrapped\u001b[39m(\u001b[38;5;28mself\u001b[39m, X, \u001b[38;5;241m*\u001b[39margs, \u001b[38;5;241m*\u001b[39m\u001b[38;5;241m*\u001b[39mkwargs):\n\u001b[0;32m--> 140\u001b[0m     data_to_wrap \u001b[38;5;241m=\u001b[39m \u001b[43mf\u001b[49m\u001b[43m(\u001b[49m\u001b[38;5;28;43mself\u001b[39;49m\u001b[43m,\u001b[49m\u001b[43m \u001b[49m\u001b[43mX\u001b[49m\u001b[43m,\u001b[49m\u001b[43m \u001b[49m\u001b[38;5;241;43m*\u001b[39;49m\u001b[43margs\u001b[49m\u001b[43m,\u001b[49m\u001b[43m \u001b[49m\u001b[38;5;241;43m*\u001b[39;49m\u001b[38;5;241;43m*\u001b[39;49m\u001b[43mkwargs\u001b[49m\u001b[43m)\u001b[49m\n\u001b[1;32m    141\u001b[0m     \u001b[38;5;28;01mif\u001b[39;00m \u001b[38;5;28misinstance\u001b[39m(data_to_wrap, \u001b[38;5;28mtuple\u001b[39m):\n\u001b[1;32m    142\u001b[0m         \u001b[38;5;66;03m# only wrap the first output for cross decomposition\u001b[39;00m\n\u001b[1;32m    143\u001b[0m         return_tuple \u001b[38;5;241m=\u001b[39m (\n\u001b[1;32m    144\u001b[0m             _wrap_data_with_container(method, data_to_wrap[\u001b[38;5;241m0\u001b[39m], X, \u001b[38;5;28mself\u001b[39m),\n\u001b[1;32m    145\u001b[0m             \u001b[38;5;241m*\u001b[39mdata_to_wrap[\u001b[38;5;241m1\u001b[39m:],\n\u001b[1;32m    146\u001b[0m         )\n",
      "File \u001b[0;32m~/miniconda3/lib/python3.11/site-packages/sklearn/base.py:1151\u001b[0m, in \u001b[0;36m_fit_context.<locals>.decorator.<locals>.wrapper\u001b[0;34m(estimator, *args, **kwargs)\u001b[0m\n\u001b[1;32m   1144\u001b[0m     estimator\u001b[38;5;241m.\u001b[39m_validate_params()\n\u001b[1;32m   1146\u001b[0m \u001b[38;5;28;01mwith\u001b[39;00m config_context(\n\u001b[1;32m   1147\u001b[0m     skip_parameter_validation\u001b[38;5;241m=\u001b[39m(\n\u001b[1;32m   1148\u001b[0m         prefer_skip_nested_validation \u001b[38;5;129;01mor\u001b[39;00m global_skip_validation\n\u001b[1;32m   1149\u001b[0m     )\n\u001b[1;32m   1150\u001b[0m ):\n\u001b[0;32m-> 1151\u001b[0m     \u001b[38;5;28;01mreturn\u001b[39;00m \u001b[43mfit_method\u001b[49m\u001b[43m(\u001b[49m\u001b[43mestimator\u001b[49m\u001b[43m,\u001b[49m\u001b[43m \u001b[49m\u001b[38;5;241;43m*\u001b[39;49m\u001b[43margs\u001b[49m\u001b[43m,\u001b[49m\u001b[43m \u001b[49m\u001b[38;5;241;43m*\u001b[39;49m\u001b[38;5;241;43m*\u001b[39;49m\u001b[43mkwargs\u001b[49m\u001b[43m)\u001b[49m\n",
      "File \u001b[0;32m~/miniconda3/lib/python3.11/site-packages/sklearn/manifold/_t_sne.py:1111\u001b[0m, in \u001b[0;36mTSNE.fit_transform\u001b[0;34m(self, X, y)\u001b[0m\n\u001b[1;32m   1090\u001b[0m \u001b[38;5;250m\u001b[39m\u001b[38;5;124;03m\"\"\"Fit X into an embedded space and return that transformed output.\u001b[39;00m\n\u001b[1;32m   1091\u001b[0m \n\u001b[1;32m   1092\u001b[0m \u001b[38;5;124;03mParameters\u001b[39;00m\n\u001b[0;32m   (...)\u001b[0m\n\u001b[1;32m   1108\u001b[0m \u001b[38;5;124;03m    Embedding of the training data in low-dimensional space.\u001b[39;00m\n\u001b[1;32m   1109\u001b[0m \u001b[38;5;124;03m\"\"\"\u001b[39;00m\n\u001b[1;32m   1110\u001b[0m \u001b[38;5;28mself\u001b[39m\u001b[38;5;241m.\u001b[39m_check_params_vs_input(X)\n\u001b[0;32m-> 1111\u001b[0m embedding \u001b[38;5;241m=\u001b[39m \u001b[38;5;28;43mself\u001b[39;49m\u001b[38;5;241;43m.\u001b[39;49m\u001b[43m_fit\u001b[49m\u001b[43m(\u001b[49m\u001b[43mX\u001b[49m\u001b[43m)\u001b[49m\n\u001b[1;32m   1112\u001b[0m \u001b[38;5;28mself\u001b[39m\u001b[38;5;241m.\u001b[39membedding_ \u001b[38;5;241m=\u001b[39m embedding\n\u001b[1;32m   1113\u001b[0m \u001b[38;5;28;01mreturn\u001b[39;00m \u001b[38;5;28mself\u001b[39m\u001b[38;5;241m.\u001b[39membedding_\n",
      "File \u001b[0;32m~/miniconda3/lib/python3.11/site-packages/sklearn/manifold/_t_sne.py:952\u001b[0m, in \u001b[0;36mTSNE._fit\u001b[0;34m(self, X, skip_num_points)\u001b[0m\n\u001b[1;32m    945\u001b[0m     \u001b[38;5;28mprint\u001b[39m(\n\u001b[1;32m    946\u001b[0m         \u001b[38;5;124m\"\u001b[39m\u001b[38;5;124m[t-SNE] Indexed \u001b[39m\u001b[38;5;132;01m{}\u001b[39;00m\u001b[38;5;124m samples in \u001b[39m\u001b[38;5;132;01m{:.3f}\u001b[39;00m\u001b[38;5;124ms...\u001b[39m\u001b[38;5;124m\"\u001b[39m\u001b[38;5;241m.\u001b[39mformat(\n\u001b[1;32m    947\u001b[0m             n_samples, duration\n\u001b[1;32m    948\u001b[0m         )\n\u001b[1;32m    949\u001b[0m     )\n\u001b[1;32m    951\u001b[0m t0 \u001b[38;5;241m=\u001b[39m time()\n\u001b[0;32m--> 952\u001b[0m distances_nn \u001b[38;5;241m=\u001b[39m \u001b[43mknn\u001b[49m\u001b[38;5;241;43m.\u001b[39;49m\u001b[43mkneighbors_graph\u001b[49m\u001b[43m(\u001b[49m\u001b[43mmode\u001b[49m\u001b[38;5;241;43m=\u001b[39;49m\u001b[38;5;124;43m\"\u001b[39;49m\u001b[38;5;124;43mdistance\u001b[39;49m\u001b[38;5;124;43m\"\u001b[39;49m\u001b[43m)\u001b[49m\n\u001b[1;32m    953\u001b[0m duration \u001b[38;5;241m=\u001b[39m time() \u001b[38;5;241m-\u001b[39m t0\n\u001b[1;32m    954\u001b[0m \u001b[38;5;28;01mif\u001b[39;00m \u001b[38;5;28mself\u001b[39m\u001b[38;5;241m.\u001b[39mverbose:\n",
      "File \u001b[0;32m~/miniconda3/lib/python3.11/site-packages/sklearn/neighbors/_base.py:986\u001b[0m, in \u001b[0;36mKNeighborsMixin.kneighbors_graph\u001b[0;34m(self, X, n_neighbors, mode)\u001b[0m\n\u001b[1;32m    983\u001b[0m     A_data \u001b[38;5;241m=\u001b[39m np\u001b[38;5;241m.\u001b[39mones(n_queries \u001b[38;5;241m*\u001b[39m n_neighbors)\n\u001b[1;32m    985\u001b[0m \u001b[38;5;28;01melif\u001b[39;00m mode \u001b[38;5;241m==\u001b[39m \u001b[38;5;124m\"\u001b[39m\u001b[38;5;124mdistance\u001b[39m\u001b[38;5;124m\"\u001b[39m:\n\u001b[0;32m--> 986\u001b[0m     A_data, A_ind \u001b[38;5;241m=\u001b[39m \u001b[38;5;28;43mself\u001b[39;49m\u001b[38;5;241;43m.\u001b[39;49m\u001b[43mkneighbors\u001b[49m\u001b[43m(\u001b[49m\u001b[43mX\u001b[49m\u001b[43m,\u001b[49m\u001b[43m \u001b[49m\u001b[43mn_neighbors\u001b[49m\u001b[43m,\u001b[49m\u001b[43m \u001b[49m\u001b[43mreturn_distance\u001b[49m\u001b[38;5;241;43m=\u001b[39;49m\u001b[38;5;28;43;01mTrue\u001b[39;49;00m\u001b[43m)\u001b[49m\n\u001b[1;32m    987\u001b[0m     A_data \u001b[38;5;241m=\u001b[39m np\u001b[38;5;241m.\u001b[39mravel(A_data)\n\u001b[1;32m    989\u001b[0m \u001b[38;5;28;01melse\u001b[39;00m:\n",
      "File \u001b[0;32m~/miniconda3/lib/python3.11/site-packages/sklearn/neighbors/_base.py:822\u001b[0m, in \u001b[0;36mKNeighborsMixin.kneighbors\u001b[0;34m(self, X, n_neighbors, return_distance)\u001b[0m\n\u001b[1;32m    815\u001b[0m use_pairwise_distances_reductions \u001b[38;5;241m=\u001b[39m (\n\u001b[1;32m    816\u001b[0m     \u001b[38;5;28mself\u001b[39m\u001b[38;5;241m.\u001b[39m_fit_method \u001b[38;5;241m==\u001b[39m \u001b[38;5;124m\"\u001b[39m\u001b[38;5;124mbrute\u001b[39m\u001b[38;5;124m\"\u001b[39m\n\u001b[1;32m    817\u001b[0m     \u001b[38;5;129;01mand\u001b[39;00m ArgKmin\u001b[38;5;241m.\u001b[39mis_usable_for(\n\u001b[1;32m    818\u001b[0m         X \u001b[38;5;28;01mif\u001b[39;00m X \u001b[38;5;129;01mis\u001b[39;00m \u001b[38;5;129;01mnot\u001b[39;00m \u001b[38;5;28;01mNone\u001b[39;00m \u001b[38;5;28;01melse\u001b[39;00m \u001b[38;5;28mself\u001b[39m\u001b[38;5;241m.\u001b[39m_fit_X, \u001b[38;5;28mself\u001b[39m\u001b[38;5;241m.\u001b[39m_fit_X, \u001b[38;5;28mself\u001b[39m\u001b[38;5;241m.\u001b[39meffective_metric_\n\u001b[1;32m    819\u001b[0m     )\n\u001b[1;32m    820\u001b[0m )\n\u001b[1;32m    821\u001b[0m \u001b[38;5;28;01mif\u001b[39;00m use_pairwise_distances_reductions:\n\u001b[0;32m--> 822\u001b[0m     results \u001b[38;5;241m=\u001b[39m \u001b[43mArgKmin\u001b[49m\u001b[38;5;241;43m.\u001b[39;49m\u001b[43mcompute\u001b[49m\u001b[43m(\u001b[49m\n\u001b[1;32m    823\u001b[0m \u001b[43m        \u001b[49m\u001b[43mX\u001b[49m\u001b[38;5;241;43m=\u001b[39;49m\u001b[43mX\u001b[49m\u001b[43m,\u001b[49m\n\u001b[1;32m    824\u001b[0m \u001b[43m        \u001b[49m\u001b[43mY\u001b[49m\u001b[38;5;241;43m=\u001b[39;49m\u001b[38;5;28;43mself\u001b[39;49m\u001b[38;5;241;43m.\u001b[39;49m\u001b[43m_fit_X\u001b[49m\u001b[43m,\u001b[49m\n\u001b[1;32m    825\u001b[0m \u001b[43m        \u001b[49m\u001b[43mk\u001b[49m\u001b[38;5;241;43m=\u001b[39;49m\u001b[43mn_neighbors\u001b[49m\u001b[43m,\u001b[49m\n\u001b[1;32m    826\u001b[0m \u001b[43m        \u001b[49m\u001b[43mmetric\u001b[49m\u001b[38;5;241;43m=\u001b[39;49m\u001b[38;5;28;43mself\u001b[39;49m\u001b[38;5;241;43m.\u001b[39;49m\u001b[43meffective_metric_\u001b[49m\u001b[43m,\u001b[49m\n\u001b[1;32m    827\u001b[0m \u001b[43m        \u001b[49m\u001b[43mmetric_kwargs\u001b[49m\u001b[38;5;241;43m=\u001b[39;49m\u001b[38;5;28;43mself\u001b[39;49m\u001b[38;5;241;43m.\u001b[39;49m\u001b[43meffective_metric_params_\u001b[49m\u001b[43m,\u001b[49m\n\u001b[1;32m    828\u001b[0m \u001b[43m        \u001b[49m\u001b[43mstrategy\u001b[49m\u001b[38;5;241;43m=\u001b[39;49m\u001b[38;5;124;43m\"\u001b[39;49m\u001b[38;5;124;43mauto\u001b[39;49m\u001b[38;5;124;43m\"\u001b[39;49m\u001b[43m,\u001b[49m\n\u001b[1;32m    829\u001b[0m \u001b[43m        \u001b[49m\u001b[43mreturn_distance\u001b[49m\u001b[38;5;241;43m=\u001b[39;49m\u001b[43mreturn_distance\u001b[49m\u001b[43m,\u001b[49m\n\u001b[1;32m    830\u001b[0m \u001b[43m    \u001b[49m\u001b[43m)\u001b[49m\n\u001b[1;32m    832\u001b[0m \u001b[38;5;28;01melif\u001b[39;00m (\n\u001b[1;32m    833\u001b[0m     \u001b[38;5;28mself\u001b[39m\u001b[38;5;241m.\u001b[39m_fit_method \u001b[38;5;241m==\u001b[39m \u001b[38;5;124m\"\u001b[39m\u001b[38;5;124mbrute\u001b[39m\u001b[38;5;124m\"\u001b[39m \u001b[38;5;129;01mand\u001b[39;00m \u001b[38;5;28mself\u001b[39m\u001b[38;5;241m.\u001b[39mmetric \u001b[38;5;241m==\u001b[39m \u001b[38;5;124m\"\u001b[39m\u001b[38;5;124mprecomputed\u001b[39m\u001b[38;5;124m\"\u001b[39m \u001b[38;5;129;01mand\u001b[39;00m issparse(X)\n\u001b[1;32m    834\u001b[0m ):\n\u001b[1;32m    835\u001b[0m     results \u001b[38;5;241m=\u001b[39m _kneighbors_from_graph(\n\u001b[1;32m    836\u001b[0m         X, n_neighbors\u001b[38;5;241m=\u001b[39mn_neighbors, return_distance\u001b[38;5;241m=\u001b[39mreturn_distance\n\u001b[1;32m    837\u001b[0m     )\n",
      "File \u001b[0;32m~/miniconda3/lib/python3.11/site-packages/sklearn/metrics/_pairwise_distances_reduction/_dispatcher.py:270\u001b[0m, in \u001b[0;36mArgKmin.compute\u001b[0;34m(cls, X, Y, k, metric, chunk_size, metric_kwargs, strategy, return_distance)\u001b[0m\n\u001b[1;32m    258\u001b[0m     \u001b[38;5;28;01mreturn\u001b[39;00m ArgKmin64\u001b[38;5;241m.\u001b[39mcompute(\n\u001b[1;32m    259\u001b[0m         X\u001b[38;5;241m=\u001b[39mX,\n\u001b[1;32m    260\u001b[0m         Y\u001b[38;5;241m=\u001b[39mY,\n\u001b[0;32m   (...)\u001b[0m\n\u001b[1;32m    266\u001b[0m         return_distance\u001b[38;5;241m=\u001b[39mreturn_distance,\n\u001b[1;32m    267\u001b[0m     )\n\u001b[1;32m    269\u001b[0m \u001b[38;5;28;01mif\u001b[39;00m X\u001b[38;5;241m.\u001b[39mdtype \u001b[38;5;241m==\u001b[39m Y\u001b[38;5;241m.\u001b[39mdtype \u001b[38;5;241m==\u001b[39m np\u001b[38;5;241m.\u001b[39mfloat32:\n\u001b[0;32m--> 270\u001b[0m     \u001b[38;5;28;01mreturn\u001b[39;00m \u001b[43mArgKmin32\u001b[49m\u001b[38;5;241;43m.\u001b[39;49m\u001b[43mcompute\u001b[49m\u001b[43m(\u001b[49m\n\u001b[1;32m    271\u001b[0m \u001b[43m        \u001b[49m\u001b[43mX\u001b[49m\u001b[38;5;241;43m=\u001b[39;49m\u001b[43mX\u001b[49m\u001b[43m,\u001b[49m\n\u001b[1;32m    272\u001b[0m \u001b[43m        \u001b[49m\u001b[43mY\u001b[49m\u001b[38;5;241;43m=\u001b[39;49m\u001b[43mY\u001b[49m\u001b[43m,\u001b[49m\n\u001b[1;32m    273\u001b[0m \u001b[43m        \u001b[49m\u001b[43mk\u001b[49m\u001b[38;5;241;43m=\u001b[39;49m\u001b[43mk\u001b[49m\u001b[43m,\u001b[49m\n\u001b[1;32m    274\u001b[0m \u001b[43m        \u001b[49m\u001b[43mmetric\u001b[49m\u001b[38;5;241;43m=\u001b[39;49m\u001b[43mmetric\u001b[49m\u001b[43m,\u001b[49m\n\u001b[1;32m    275\u001b[0m \u001b[43m        \u001b[49m\u001b[43mchunk_size\u001b[49m\u001b[38;5;241;43m=\u001b[39;49m\u001b[43mchunk_size\u001b[49m\u001b[43m,\u001b[49m\n\u001b[1;32m    276\u001b[0m \u001b[43m        \u001b[49m\u001b[43mmetric_kwargs\u001b[49m\u001b[38;5;241;43m=\u001b[39;49m\u001b[43mmetric_kwargs\u001b[49m\u001b[43m,\u001b[49m\n\u001b[1;32m    277\u001b[0m \u001b[43m        \u001b[49m\u001b[43mstrategy\u001b[49m\u001b[38;5;241;43m=\u001b[39;49m\u001b[43mstrategy\u001b[49m\u001b[43m,\u001b[49m\n\u001b[1;32m    278\u001b[0m \u001b[43m        \u001b[49m\u001b[43mreturn_distance\u001b[49m\u001b[38;5;241;43m=\u001b[39;49m\u001b[43mreturn_distance\u001b[49m\u001b[43m,\u001b[49m\n\u001b[1;32m    279\u001b[0m \u001b[43m    \u001b[49m\u001b[43m)\u001b[49m\n\u001b[1;32m    281\u001b[0m \u001b[38;5;28;01mraise\u001b[39;00m \u001b[38;5;167;01mValueError\u001b[39;00m(\n\u001b[1;32m    282\u001b[0m     \u001b[38;5;124m\"\u001b[39m\u001b[38;5;124mOnly float64 or float32 datasets pairs are supported at this time, \u001b[39m\u001b[38;5;124m\"\u001b[39m\n\u001b[1;32m    283\u001b[0m     \u001b[38;5;124mf\u001b[39m\u001b[38;5;124m\"\u001b[39m\u001b[38;5;124mgot: X.dtype=\u001b[39m\u001b[38;5;132;01m{\u001b[39;00mX\u001b[38;5;241m.\u001b[39mdtype\u001b[38;5;132;01m}\u001b[39;00m\u001b[38;5;124m and Y.dtype=\u001b[39m\u001b[38;5;132;01m{\u001b[39;00mY\u001b[38;5;241m.\u001b[39mdtype\u001b[38;5;132;01m}\u001b[39;00m\u001b[38;5;124m.\u001b[39m\u001b[38;5;124m\"\u001b[39m\n\u001b[1;32m    284\u001b[0m )\n",
      "File \u001b[0;32msklearn/metrics/_pairwise_distances_reduction/_argkmin.pyx:556\u001b[0m, in \u001b[0;36msklearn.metrics._pairwise_distances_reduction._argkmin.ArgKmin32.compute\u001b[0;34m()\u001b[0m\n",
      "File \u001b[0;32msklearn/metrics/_pairwise_distances_reduction/_argkmin.pyx:848\u001b[0m, in \u001b[0;36msklearn.metrics._pairwise_distances_reduction._argkmin.EuclideanArgKmin32.__init__\u001b[0;34m()\u001b[0m\n",
      "File \u001b[0;32msklearn/metrics/_pairwise_distances_reduction/_base.pyx:513\u001b[0m, in \u001b[0;36msklearn.metrics._pairwise_distances_reduction._base._sqeuclidean_row_norms32\u001b[0;34m()\u001b[0m\n",
      "File \u001b[0;32m~/miniconda3/lib/python3.11/site-packages/scipy/sparse/_base.py:1461\u001b[0m, in \u001b[0;36missparse\u001b[0;34m(x)\u001b[0m\n\u001b[1;32m   1456\u001b[0m     \u001b[38;5;28;01mpass\u001b[39;00m\n\u001b[1;32m   1458\u001b[0m sparray\u001b[38;5;241m.\u001b[39m\u001b[38;5;18m__doc__\u001b[39m \u001b[38;5;241m=\u001b[39m _spbase\u001b[38;5;241m.\u001b[39m\u001b[38;5;18m__doc__\u001b[39m\n\u001b[0;32m-> 1461\u001b[0m \u001b[38;5;28;01mdef\u001b[39;00m \u001b[38;5;21missparse\u001b[39m(x):\n\u001b[1;32m   1462\u001b[0m \u001b[38;5;250m    \u001b[39m\u001b[38;5;124;03m\"\"\"Is `x` of a sparse array type?\u001b[39;00m\n\u001b[1;32m   1463\u001b[0m \n\u001b[1;32m   1464\u001b[0m \u001b[38;5;124;03m    Parameters\u001b[39;00m\n\u001b[0;32m   (...)\u001b[0m\n\u001b[1;32m   1485\u001b[0m \u001b[38;5;124;03m    False\u001b[39;00m\n\u001b[1;32m   1486\u001b[0m \u001b[38;5;124;03m    \"\"\"\u001b[39;00m\n\u001b[1;32m   1487\u001b[0m     \u001b[38;5;28;01mreturn\u001b[39;00m \u001b[38;5;28misinstance\u001b[39m(x, _spbase)\n",
      "\u001b[0;31mKeyboardInterrupt\u001b[0m: "
     ]
    }
   ],
   "source": [
    "from sklearn.datasets import fetch_openml\n",
    "from sklearn.manifold import TSNE\n",
    "import matplotlib.pyplot as plt\n",
    "\n",
    "\n",
    "\n",
    "# Use t-SNE to reduce dimensions to 2D\n",
    "tsne = TSNE(n_components=2, random_state=42, n_iter=250)  # Faster convergence\n",
    "X_reduced = tsne.fit_transform(X[:2000])  # Reduced subset for quicker execution\n",
    "\n",
    "# Plotting the result\n",
    "plt.figure(figsize=(13,10))\n",
    "plt.scatter(X_reduced[:, 0], X_reduced[:, 1], c=y[:2000].astype(int), cmap=\"jet\", alpha=0.5)\n",
    "plt.colorbar()\n",
    "plt.title('t-SNE plot')\n",
    "plt.xlabel('t-SNE feature 1')\n",
    "plt.ylabel('t-SNE feature 2')\n",
    "plt.show()\n"
   ]
  },
  {
   "cell_type": "code",
   "execution_count": 100,
   "id": "f7e90b63-96a6-4aa6-a91d-69ea0a805ad0",
   "metadata": {
    "collapsed": true,
    "jupyter": {
     "outputs_hidden": true
    }
   },
   "outputs": [
    {
     "data": {
      "text/plain": [
       "array([[-8.91249627e-03,  2.87482813e-02],\n",
       "       [ 8.38345382e-03,  1.50889568e-02],\n",
       "       [ 9.24066640e-03,  2.91085802e-02],\n",
       "       [ 5.30958921e-03,  4.53787446e-02],\n",
       "       [ 1.14450986e-02,  1.58051159e-02],\n",
       "       [ 9.77586210e-03,  2.02774554e-02],\n",
       "       [ 2.96307020e-02, -8.75545666e-03],\n",
       "       [ 7.92620983e-03, -1.21613033e-03],\n",
       "       [ 5.69332466e-02,  1.95950344e-02],\n",
       "       [-2.28347816e-03,  2.63025612e-02],\n",
       "       [ 1.14761978e-01, -1.09722465e-02],\n",
       "       [ 7.76550919e-03,  2.48048641e-02],\n",
       "       [ 2.91823857e-02, -8.90232250e-03],\n",
       "       [ 2.15486586e-02,  1.08526275e-02],\n",
       "       [ 7.72665488e-03,  3.40303257e-02],\n",
       "       [ 1.24441199e-02,  2.40455866e-02],\n",
       "       [ 1.57840140e-02,  2.06555873e-02],\n",
       "       [-1.05112437e-02,  1.26661537e-02],\n",
       "       [-7.21749663e-02,  3.78393903e-02],\n",
       "       [ 2.40748934e-02,  6.69770688e-03],\n",
       "       [ 3.03584710e-03,  3.29564586e-02],\n",
       "       [ 1.64656974e-02, -2.93972380e-02],\n",
       "       [ 2.81689614e-02,  1.16515951e-02],\n",
       "       [ 9.89896432e-03,  1.97658800e-02],\n",
       "       [ 2.94761490e-02,  5.82459718e-02],\n",
       "       [ 2.23336816e-02, -3.00307535e-02],\n",
       "       [ 3.59206758e-02,  8.34583212e-03],\n",
       "       [ 5.96813066e-03,  2.19239146e-02],\n",
       "       [ 2.69175284e-02,  1.42406048e-02],\n",
       "       [ 6.69516064e-03,  2.18154341e-02],\n",
       "       [ 2.85527427e-02,  2.50560939e-02],\n",
       "       [-2.17812378e-02,  3.42127457e-02],\n",
       "       [ 1.21078262e+01, -1.31587276e+01],\n",
       "       [ 2.24772207e-02,  1.40344016e-02],\n",
       "       [ 1.92427747e-02,  6.96615689e-03],\n",
       "       [ 1.13228485e-02,  2.18730196e-02],\n",
       "       [ 1.88275874e-02,  2.34058686e-03],\n",
       "       [ 2.93344557e-01,  1.16784014e-02],\n",
       "       [ 8.62051360e-03, -2.78565884e-02],\n",
       "       [ 7.38622248e-03,  1.98307335e-02],\n",
       "       [ 1.35095771e-02,  1.64700020e-02],\n",
       "       [ 5.92672359e-03,  1.65297724e-02],\n",
       "       [-3.52472346e-03, -2.88487226e-03],\n",
       "       [ 1.28866611e-02,  2.69856118e-03],\n",
       "       [ 2.92395987e-03,  3.21987420e-02],\n",
       "       [ 1.62796192e-02, -3.07660848e-02],\n",
       "       [ 3.58075351e-02,  9.25184414e-03],\n",
       "       [ 6.63286820e-02, -2.00150460e-02],\n",
       "       [ 2.00520717e-02,  3.03081423e-03],\n",
       "       [ 4.52376306e-02,  1.21837668e-03],\n",
       "       [ 2.14923061e-02,  2.79179253e-02],\n",
       "       [-6.52560499e-03, -2.00839713e-04],\n",
       "       [ 3.56063200e-03, -1.29538067e-02],\n",
       "       [ 3.60558592e-02,  5.60319722e-02],\n",
       "       [-1.45030059e-02,  3.19206417e-02],\n",
       "       [ 5.03518898e-03,  1.74705256e-02],\n",
       "       [ 6.59624347e-03,  1.71369798e-02],\n",
       "       [ 3.06179430e-02,  2.18401663e-02],\n",
       "       [ 8.44828784e-03,  2.55399272e-02],\n",
       "       [ 5.59465103e-02,  2.22547594e-02],\n",
       "       [ 1.96851827e-02, -1.42106712e-02],\n",
       "       [ 3.19940522e-02, -1.10520143e-02],\n",
       "       [ 4.14511226e-02, -2.79130563e-02],\n",
       "       [-2.25406289e-02,  1.32880735e+00],\n",
       "       [ 6.27885107e-03,  2.48926636e-02],\n",
       "       [-7.77834654e-03,  1.95375569e-02],\n",
       "       [-4.56900243e-03,  4.99065965e-02],\n",
       "       [ 1.94378458e-02,  1.15111396e-02],\n",
       "       [ 5.02011441e-02, -2.04304941e-02],\n",
       "       [ 2.71319281e-02,  1.31901065e-02],\n",
       "       [ 8.60086922e-03,  1.99116282e-02],\n",
       "       [ 8.91992822e-03, -2.69090757e-02],\n",
       "       [ 1.45138027e-02,  6.50715455e-03],\n",
       "       [ 1.71752796e-02, -4.12189588e-03],\n",
       "       [ 7.19957892e-03, -4.88368198e-02],\n",
       "       [ 7.32346904e-03,  3.81305404e-02],\n",
       "       [ 3.91488150e-02,  5.31836692e-03],\n",
       "       [ 1.08544994e-02,  2.88278237e-02],\n",
       "       [ 1.47076044e-02,  6.95906766e-03],\n",
       "       [-8.05846602e-03, -1.34159885e-02],\n",
       "       [ 1.38514219e-02, -1.09958909e-02],\n",
       "       [ 3.89880985e-02,  2.20891740e-02],\n",
       "       [ 1.43031001e-01,  1.53347626e-02],\n",
       "       [ 4.32482548e-03,  2.66652144e-02],\n",
       "       [ 1.83177479e-02,  1.22138569e-02],\n",
       "       [ 4.42764200e-02,  9.41392314e-03],\n",
       "       [ 9.44953877e-03,  1.88626070e-02],\n",
       "       [ 1.49334883e-02,  1.18088331e-02],\n",
       "       [ 3.37402299e-02, -6.57587685e-03],\n",
       "       [ 1.46071464e-02, -8.79755989e-03],\n",
       "       [ 9.33436677e-05,  2.86273826e-02],\n",
       "       [ 1.34842210e-02,  2.31659282e-02],\n",
       "       [ 1.79057270e-02,  1.88925751e-02],\n",
       "       [ 8.26781988e-03,  1.52177969e-02],\n",
       "       [ 4.75396514e-02,  1.70492996e-02],\n",
       "       [-7.54401088e-04,  4.79040854e-03],\n",
       "       [ 3.40400077e-03,  2.06614155e-02],\n",
       "       [ 4.38536145e-02,  2.52236333e-02],\n",
       "       [ 1.48501210e-02,  1.02007380e-02],\n",
       "       [ 2.32884176e-02,  1.44354627e-03],\n",
       "       [ 1.62571203e-02,  1.28635988e-02],\n",
       "       [ 8.56732577e-03,  2.60870419e-02],\n",
       "       [ 1.17129190e-02,  2.60970816e-02],\n",
       "       [ 1.43276276e-02,  1.86789297e-02],\n",
       "       [ 1.18831461e-02,  5.52442018e-03],\n",
       "       [ 3.19617912e-02,  9.18744504e-03],\n",
       "       [ 4.16845828e-03, -1.15880407e-02],\n",
       "       [ 2.31606078e+00, -1.94344578e+01],\n",
       "       [ 2.12642401e-01,  2.97715217e-01],\n",
       "       [ 2.40330510e-02,  1.58933494e-02],\n",
       "       [ 3.65710109e-02,  1.73961706e-02],\n",
       "       [ 5.95805049e-03, -2.58764848e-02],\n",
       "       [ 1.26990797e-02,  9.45453811e-03],\n",
       "       [ 2.42232643e-02,  1.32941250e-02],\n",
       "       [ 1.33126518e-02,  2.40461528e-02],\n",
       "       [ 6.77193515e-04,  1.96628217e-02],\n",
       "       [ 4.25503366e-02, -3.26879881e-03],\n",
       "       [ 1.67225022e-02,  9.25061107e-03],\n",
       "       [ 3.11727449e-02,  9.44405049e-03],\n",
       "       [ 5.22380397e-02,  7.09746033e-04],\n",
       "       [ 1.41155003e-02, -5.67186251e-03],\n",
       "       [ 3.03675942e-02, -4.27741557e-04],\n",
       "       [ 6.60950597e-03,  1.52732637e-02],\n",
       "       [ 6.24470823e-02,  2.79889144e-02],\n",
       "       [ 2.56154500e-02, -3.70696932e-03],\n",
       "       [ 1.37640825e-02, -1.33877248e-03],\n",
       "       [ 2.18555331e-04, -1.15608051e-02],\n",
       "       [ 2.48791911e-02,  1.45291295e-02],\n",
       "       [ 2.55697686e-02,  1.47551615e-02],\n",
       "       [ 2.22745389e-02,  2.92327255e-03],\n",
       "       [ 2.70491466e-03,  2.09305808e-02],\n",
       "       [ 1.15682818e-02,  8.45447928e-03],\n",
       "       [ 1.31194368e-02,  1.85172744e-02],\n",
       "       [ 3.36026885e-02, -7.18856230e-03],\n",
       "       [ 7.36769848e-03,  1.86498314e-02],\n",
       "       [ 3.41783836e-02,  3.24120000e-02],\n",
       "       [ 1.45249590e-01,  2.02088095e-02],\n",
       "       [ 5.75265940e-03, -9.17557627e-05],\n",
       "       [ 5.96444961e-03, -3.90011352e-04],\n",
       "       [-2.42744398e+00, -3.23427290e-01],\n",
       "       [ 2.26148758e-02,  2.07146518e-02],\n",
       "       [ 4.03045416e-02,  2.01976709e-02],\n",
       "       [ 6.44730926e-02,  1.22684482e-02],\n",
       "       [ 6.43197596e-02,  1.10457418e-02],\n",
       "       [ 8.57215002e-03,  1.54869286e-02],\n",
       "       [ 1.52914394e-02,  1.20494515e-04],\n",
       "       [ 6.21866994e-02, -8.04408640e-03],\n",
       "       [ 9.86620709e-02, -1.84047390e-02],\n",
       "       [ 3.16121802e-03, -3.62017378e-03],\n",
       "       [ 2.22418439e-02,  1.08122109e-02],\n",
       "       [ 2.46452577e-02, -4.35651205e-02],\n",
       "       [ 1.86005514e-02,  1.07763447e-02],\n",
       "       [ 1.11523326e-02,  1.74089819e-02],\n",
       "       [ 3.99394706e-03, -5.24112582e-03],\n",
       "       [ 1.49323335e-02,  3.06440499e-02],\n",
       "       [ 3.10949162e-02,  2.53064744e-03],\n",
       "       [ 3.56537476e-02, -1.03330072e-02],\n",
       "       [ 3.28062847e-03,  1.17824972e-02],\n",
       "       [ 6.77855313e-03,  1.63432620e-02],\n",
       "       [ 2.10483931e-03,  1.01165622e-02],\n",
       "       [ 2.60404199e-02,  2.29829382e-02],\n",
       "       [ 1.72939301e-02, -4.12822552e-02],\n",
       "       [ 6.21614000e-03,  1.92391984e-02],\n",
       "       [ 1.12193879e-02,  2.66460590e-02],\n",
       "       [ 1.40421074e-02,  3.44403982e-02],\n",
       "       [ 3.17392200e-02, -1.17444322e-02],\n",
       "       [ 3.12942453e-02, -2.61167064e-03],\n",
       "       [-4.49796200e-01, -4.12528031e-03],\n",
       "       [ 2.21239105e-02, -1.54637024e-02],\n",
       "       [ 3.64922825e-03,  2.15336401e-02],\n",
       "       [ 1.90206785e-02,  1.98441502e-02],\n",
       "       [-2.20733322e-03, -6.08087145e-03],\n",
       "       [ 2.85657551e-02,  1.19985119e-02],\n",
       "       [ 4.76761423e-02,  2.72821523e-02],\n",
       "       [ 2.24969517e-02,  1.87645853e-03],\n",
       "       [ 4.44714651e-02, -2.95135751e-03],\n",
       "       [ 1.32056288e-02,  2.43368223e-02],\n",
       "       [-2.61181211e+00,  7.33773756e+00],\n",
       "       [ 1.84038281e-02, -4.86328304e-02],\n",
       "       [ 8.59752484e-03, -3.76195461e-03],\n",
       "       [ 5.72138745e-03,  2.36637443e-02],\n",
       "       [ 2.13343184e-03,  3.88174169e-02],\n",
       "       [ 2.27049515e-02,  1.37706939e-02],\n",
       "       [-4.05874941e-03,  2.30132677e-02],\n",
       "       [ 5.38524017e-02,  1.37987575e-02],\n",
       "       [ 7.39235897e-03,  9.11099650e-03],\n",
       "       [ 1.19669866e-02,  2.19103899e-02],\n",
       "       [ 2.47855335e-02,  2.31736396e-02],\n",
       "       [ 2.15809252e-02,  3.90982106e-02],\n",
       "       [ 1.70107290e-01, -6.40881836e-01],\n",
       "       [ 9.44562629e-03,  1.92744825e-02],\n",
       "       [ 3.53143960e-02,  1.29637346e-02],\n",
       "       [ 1.19554531e-02,  1.37921292e-02],\n",
       "       [-1.40237722e+01,  4.71082181e-01],\n",
       "       [ 3.06748971e-02, -3.52214538e-02],\n",
       "       [ 3.15499231e-02,  9.13899392e-04],\n",
       "       [ 3.33746523e-02, -4.04172726e-02],\n",
       "       [ 1.18186157e-02,  1.79565791e-02],\n",
       "       [ 1.97308846e-02,  1.97190810e-02],\n",
       "       [ 9.82794724e-03,  1.00053567e-02],\n",
       "       [ 2.26140171e-02, -3.87282073e-02],\n",
       "       [ 1.02313040e-02,  3.31322588e-02],\n",
       "       [ 1.23538598e-02,  1.64488535e-02],\n",
       "       [ 4.44425195e-02, -3.25392075e-02],\n",
       "       [ 1.90183111e-02,  1.54139530e-02],\n",
       "       [ 1.11540593e-02,  1.53058879e-02],\n",
       "       [ 1.30349463e-02,  4.33338061e-03],\n",
       "       [ 1.86280198e-02,  1.37292203e-02],\n",
       "       [-3.40301681e+00, -1.67266969e-02],\n",
       "       [ 1.59266070e-02, -1.90837011e-02],\n",
       "       [ 5.19957533e-03,  2.05111820e-02],\n",
       "       [ 1.50333904e-02,  2.46487204e-02],\n",
       "       [ 5.03034983e-03,  6.56336546e-03],\n",
       "       [ 9.19216871e-03,  1.90482847e-02],\n",
       "       [ 4.65395674e-03,  2.78961025e-02],\n",
       "       [ 8.02202709e-03,  2.74633802e-02],\n",
       "       [-7.66375065e-02, -6.25920445e-02],\n",
       "       [ 3.22317369e-02, -8.10153037e-03],\n",
       "       [ 7.66187254e-03,  3.36214043e-02],\n",
       "       [ 5.70622925e-03, -2.88126059e-03],\n",
       "       [ 3.13424766e-02,  2.34920159e-02],\n",
       "       [-1.21406093e-02,  8.09338130e-03],\n",
       "       [-8.33072886e-03,  1.42375305e-02],\n",
       "       [ 1.93169732e-02,  3.62936594e-03],\n",
       "       [ 8.96421894e-02,  1.80734266e-02],\n",
       "       [ 1.92292258e-02,  1.38060190e-03],\n",
       "       [ 3.12309861e-02, -9.64732654e-03],\n",
       "       [ 2.42948253e-02, -5.07095829e-03],\n",
       "       [ 3.58714983e-02,  4.56567854e-04],\n",
       "       [ 6.09766040e-03,  1.03532225e-02],\n",
       "       [ 1.20363589e-02,  4.09200042e-02],\n",
       "       [ 3.91455088e-03,  2.03171298e-02],\n",
       "       [ 4.77470737e-03,  1.81004666e-02],\n",
       "       [ 4.85963561e-03,  2.31336132e-02],\n",
       "       [-9.95754264e-04,  9.40281898e-05],\n",
       "       [ 1.18448045e-02,  2.85545066e-02],\n",
       "       [ 1.57452095e-02, -7.36213662e-03],\n",
       "       [ 8.41060951e-02, -1.73711330e-02],\n",
       "       [ 1.28541281e-02,  3.84566933e-02],\n",
       "       [ 1.02244336e-02,  1.37973092e-02],\n",
       "       [ 6.00397885e-02,  2.24637240e-02],\n",
       "       [ 1.36880223e-02,  2.16096286e-02],\n",
       "       [ 1.44149354e-02,  3.18761468e-02],\n",
       "       [-1.32584106e-02, -6.91258442e-03],\n",
       "       [ 7.91299064e-03,  2.74151266e-02],\n",
       "       [-4.23973426e-03,  2.03116033e-02],\n",
       "       [ 2.69343797e-02,  8.76399316e-03],\n",
       "       [ 2.27231178e-02,  1.42943226e-02],\n",
       "       [ 1.34471916e-02,  1.28306970e-02],\n",
       "       [ 3.52413878e-02,  8.61492753e-03],\n",
       "       [-6.65686652e-03,  8.33508372e-03],\n",
       "       [ 2.40682773e-02, -2.96078343e-02],\n",
       "       [ 5.27897105e-03,  2.55388021e-02],\n",
       "       [ 4.19706665e-03,  6.76712347e-03],\n",
       "       [ 3.31550092e-03,  4.85024117e-02],\n",
       "       [ 3.57545726e-03,  8.18617456e-03],\n",
       "       [ 3.05122230e-03,  1.66425891e-02],\n",
       "       [-6.45268336e-03,  2.72815749e-02],\n",
       "       [ 2.89066974e-02, -1.42889228e-02],\n",
       "       [ 5.73165789e-02, -1.28428563e-02],\n",
       "       [ 3.00329141e-02, -9.20850784e-03],\n",
       "       [ 3.10621355e-02,  1.88729987e-02],\n",
       "       [ 6.63669705e-01,  7.85941362e+00],\n",
       "       [ 3.52573693e-02,  2.18637325e-02],\n",
       "       [ 4.25290922e-03,  2.19830545e-04],\n",
       "       [ 1.00867562e-02,  2.12182067e-02],\n",
       "       [ 9.04308911e-03,  1.05976202e-02],\n",
       "       [ 1.55976787e-03,  1.42022725e-02],\n",
       "       [ 2.72937715e-02,  1.61730535e-02],\n",
       "       [ 1.17898462e-02,  1.63896270e-02],\n",
       "       [ 1.63131058e-02,  1.91156976e-02],\n",
       "       [ 1.49254883e-02, -8.04139301e-04],\n",
       "       [ 2.95156855e-02, -1.24608576e-02],\n",
       "       [ 3.06668542e-02,  1.58616640e-02],\n",
       "       [ 8.86615273e-03,  1.34256408e-02],\n",
       "       [ 4.77408059e-03, -3.70004028e-03],\n",
       "       [-8.49396456e-03,  2.18195915e-02],\n",
       "       [ 5.64064179e-03,  2.47242171e-02],\n",
       "       [ 3.86372097e-02,  1.06446706e-02],\n",
       "       [ 1.79232545e-02,  3.59765515e-02],\n",
       "       [ 8.24636966e-03,  2.32184101e-02],\n",
       "       [ 2.99524553e-02,  8.95272195e-03],\n",
       "       [ 2.68362220e-02, -2.56751589e-02],\n",
       "       [ 3.72759551e-02, -1.83747672e-02],\n",
       "       [ 7.78691769e-02, -1.07303299e-02],\n",
       "       [ 6.49240986e-03, -8.17717984e-04],\n",
       "       [ 2.13529393e-02,  1.66624486e-02],\n",
       "       [ 4.05361205e-02,  6.37715869e-03],\n",
       "       [ 6.72186539e-03,  6.89891400e-03],\n",
       "       [-6.31434470e-03,  3.16157266e-02],\n",
       "       [-1.95400976e-03,  1.06433108e-02],\n",
       "       [ 1.27424132e-02,  3.20703834e-02],\n",
       "       [ 9.17744823e-03,  2.90248878e-02],\n",
       "       [ 2.30392888e-02,  3.95485014e-03],\n",
       "       [ 1.66454613e-02,  2.16723159e-02],\n",
       "       [ 3.54959443e-02, -1.23657733e-02],\n",
       "       [ 3.86104621e-02,  1.19345840e-02],\n",
       "       [ 1.94189325e-02,  1.51825286e-02],\n",
       "       [ 2.08782256e-02,  9.10180621e-03],\n",
       "       [-5.40784076e-02,  2.55138099e-01],\n",
       "       [ 1.71896201e-02,  2.02865787e-02],\n",
       "       [ 8.87771603e-03,  1.76116973e-02],\n",
       "       [ 1.13705583e-02,  1.66184027e-02],\n",
       "       [ 1.45787392e-02, -5.28089777e-02],\n",
       "       [-7.59594515e-03,  1.17807694e-01],\n",
       "       [-1.24871861e-02,  1.54466620e-02],\n",
       "       [ 2.69382969e-02, -4.08584438e-02],\n",
       "       [ 3.97517681e-02, -4.91190702e-02],\n",
       "       [ 1.65571086e-02, -1.91927366e-02],\n",
       "       [ 3.79274003e-02, -3.40326667e-01],\n",
       "       [ 1.05575025e-02,  4.69747297e-02],\n",
       "       [ 1.26913954e-02,  1.55593278e-02],\n",
       "       [ 7.91667867e-03,  1.10777281e-02],\n",
       "       [-4.13915515e-03,  1.60621144e-02],\n",
       "       [ 8.10696837e-03,  2.26642899e-02],\n",
       "       [-5.75445779e-03,  2.39969064e-02],\n",
       "       [ 1.17790829e-02, -2.22666189e-03],\n",
       "       [ 1.69336647e-02,  1.90593340e-02],\n",
       "       [ 1.42169641e-02,  2.37235166e-02],\n",
       "       [ 9.73547623e-03,  2.98730470e-03],\n",
       "       [ 3.12681124e-02, -4.53091301e-02],\n",
       "       [-3.97258013e-01,  2.25865517e+01],\n",
       "       [ 4.36511450e-02, -2.10945960e-02],\n",
       "       [ 8.28927848e-03,  2.25372184e-02],\n",
       "       [ 2.37318985e-02,  1.50555363e-02],\n",
       "       [ 4.59819380e-03,  3.07531990e-02],\n",
       "       [-1.00113628e-02,  3.19725201e-02],\n",
       "       [ 1.80476736e-02,  2.67232042e-02],\n",
       "       [-9.82799381e-03,  2.07144301e-03],\n",
       "       [ 1.71506070e-02,  1.19555648e-02],\n",
       "       [ 1.01586627e-02,  2.40934994e-02],\n",
       "       [ 4.50920500e-03,  2.24778131e-02],\n",
       "       [ 2.63290610e-02, -1.82860661e-02],\n",
       "       [ 1.89884827e-02, -3.41021530e-02],\n",
       "       [ 6.41120085e-03,  2.86933333e-02],\n",
       "       [ 1.25615122e-02,  2.13927142e-02],\n",
       "       [-1.45837478e-03,  5.60006686e-03],\n",
       "       [ 1.26148416e-02,  3.54305096e-03],\n",
       "       [ 1.56492870e-02,  6.02944344e-02],\n",
       "       [ 1.21529335e-02,  2.00503562e-02],\n",
       "       [-8.11913423e-03,  2.62339041e-03],\n",
       "       [ 7.78466184e-03,  4.70746309e-05],\n",
       "       [ 1.90232527e-02,  1.10720284e-02],\n",
       "       [ 1.20877121e-02,  3.65872607e-02],\n",
       "       [ 2.04384942e-02, -1.36437193e-02],\n",
       "       [-2.13726424e-03,  2.17396580e-02],\n",
       "       [ 5.11526391e-02, -5.62162511e-03],\n",
       "       [ 7.27203349e-03,  9.26188380e-03],\n",
       "       [ 3.61459628e-02,  4.14749570e-02],\n",
       "       [ 1.13232266e-02,  3.86715680e-03],\n",
       "       [ 1.21213123e-03,  6.48794882e-03],\n",
       "       [-1.04699079e-02,  1.68487541e-02],\n",
       "       [ 9.24869068e-03,  5.88198751e-03],\n",
       "       [ 6.56015147e-03,  3.35234590e-02],\n",
       "       [ 2.29782388e-02,  1.31688910e-02],\n",
       "       [ 2.43926793e-03,  1.51209878e-02],\n",
       "       [ 1.26434118e-02,  2.95438766e-02],\n",
       "       [ 1.75371859e-02,  2.05549560e-02],\n",
       "       [ 5.19584492e-03,  1.97610166e-02],\n",
       "       [ 9.74459946e-02,  5.38538933e-01],\n",
       "       [ 5.05882576e-02,  5.95513172e-03],\n",
       "       [ 1.36911832e-02, -2.14310475e-02],\n",
       "       [ 7.30417855e-03,  8.73629749e-03],\n",
       "       [ 2.09835768e-02, -4.53046151e-03],\n",
       "       [ 1.36029143e-02,  1.75250061e-02],\n",
       "       [ 2.72994116e-03,  2.69089714e-02],\n",
       "       [ 8.79949331e-03,  2.44341064e-02],\n",
       "       [-1.33323744e-02,  1.55988475e-02],\n",
       "       [ 9.98497475e-03,  1.54080931e-02],\n",
       "       [ 4.22852114e-04,  2.73668244e-02],\n",
       "       [ 3.22334841e-03,  4.42429483e-02],\n",
       "       [ 1.02991052e-03,  1.47618530e-02],\n",
       "       [ 8.39897338e-03,  2.32651792e-02],\n",
       "       [ 8.75663664e-03, -2.71630660e-03],\n",
       "       [ 1.05361482e-02,  2.50233207e-02],\n",
       "       [ 2.46378742e-02,  1.75202265e-04],\n",
       "       [-2.66292132e-04,  1.61383357e-02],\n",
       "       [-2.27096677e-03,  6.78002119e-01],\n",
       "       [ 1.85047220e-02,  2.90427562e-02],\n",
       "       [ 4.25649201e-03,  1.05015542e-02],\n",
       "       [ 7.19001191e-03,  6.73632789e-03],\n",
       "       [ 1.26828020e-02,  3.00316811e-02],\n",
       "       [ 9.37797222e-03,  7.94949476e-03],\n",
       "       [ 7.26206601e-03,  7.58075994e-03],\n",
       "       [ 1.07547315e-02,  2.14364920e-02],\n",
       "       [ 4.74584252e-02, -2.71561109e-02],\n",
       "       [ 1.18237101e-02,  2.66232640e-02],\n",
       "       [ 1.68309938e-02,  1.46582536e-03],\n",
       "       [ 3.65143246e-03,  2.73512453e-02],\n",
       "       [ 3.28744389e-02, -5.76262362e-03],\n",
       "       [ 2.73529813e-03,  1.74068026e-02],\n",
       "       [ 5.11394925e-02,  1.54966488e-03],\n",
       "       [ 1.24794804e-02,  5.91063686e-03],\n",
       "       [-1.31807849e-03,  1.03806267e-02],\n",
       "       [ 6.32758532e-03,  4.12210524e-02],\n",
       "       [ 8.79976060e-03,  2.55988128e-02],\n",
       "       [ 8.83743912e-03,  2.65783146e-02],\n",
       "       [ 1.44108823e-02,  2.02604104e-02],\n",
       "       [ 8.02739337e-03,  2.69560907e-02],\n",
       "       [ 1.51783936e-02,  8.27140175e-04],\n",
       "       [ 1.29481647e-02,  1.94086339e-02],\n",
       "       [ 7.96692073e-03,  1.59691405e-02],\n",
       "       [ 2.67841481e-03,  2.19012238e-03],\n",
       "       [ 7.90648349e-03,  2.49551293e-02],\n",
       "       [ 4.90765506e-03,  1.87855251e-02],\n",
       "       [ 3.78462598e-02,  7.99885765e-03],\n",
       "       [ 1.49228331e-03,  9.43230279e-03],\n",
       "       [-2.88193300e-03,  5.96132083e-03],\n",
       "       [ 1.66846961e-02,  9.36633535e-03],\n",
       "       [ 1.21647026e-02,  9.11037251e-03],\n",
       "       [ 1.41484616e-02,  9.82733164e-03],\n",
       "       [ 1.15929954e-02,  1.94886550e-02],\n",
       "       [ 1.21002756e-02,  1.32815652e-02],\n",
       "       [ 1.11675814e-01, -6.56375661e-03],\n",
       "       [ 9.64147784e-03,  8.61677155e-03],\n",
       "       [ 2.13228818e-03,  1.87989920e-02],\n",
       "       [ 5.39874658e-03,  2.86622010e-02],\n",
       "       [ 1.73114501e-02, -8.46971758e-03],\n",
       "       [ 4.12596017e-03,  1.88060272e-02],\n",
       "       [ 4.44469117e-02, -1.54231861e-03],\n",
       "       [ 9.05280560e-03,  1.82502456e-02],\n",
       "       [ 5.93530945e-04,  1.37012433e-02],\n",
       "       [ 9.96014941e-03,  2.43855920e-03],\n",
       "       [-6.44579343e-03,  1.86291263e-02],\n",
       "       [ 1.08243879e-02,  1.66301578e-02],\n",
       "       [ 4.29006964e-02, -9.39557515e-03],\n",
       "       [ 1.03925122e-02,  1.13637950e-02],\n",
       "       [ 6.09546714e-03,  1.52266175e-02],\n",
       "       [ 1.86507814e-02,  1.51763838e-02],\n",
       "       [ 1.56975500e-02, -1.69171952e-03],\n",
       "       [ 1.05629135e-02,  2.25020424e-02],\n",
       "       [ 9.79931559e-03,  3.08845975e-02],\n",
       "       [ 4.96004289e-03,  6.63139578e-03],\n",
       "       [ 3.21380720e-02,  2.50747390e-02],\n",
       "       [ 8.32453251e-01, -9.34595764e-02],\n",
       "       [ 1.27561344e-02,  4.81928606e-03],\n",
       "       [ 1.47787109e-02,  2.15487741e-02],\n",
       "       [ 3.28333974e-02, -3.10727325e-03],\n",
       "       [-5.62468022e-02,  5.81572857e-03],\n",
       "       [-7.48406723e-03, -3.04455869e-04],\n",
       "       [-1.03792027e-02,  1.60298571e-02],\n",
       "       [ 3.03666797e-02,  1.48256253e-02],\n",
       "       [ 5.72066754e-03,  1.18857566e-02],\n",
       "       [ 8.18519741e-02,  1.76083297e-02],\n",
       "       [ 1.96967386e-02,  2.15723999e-02],\n",
       "       [ 2.18236577e-02,  1.87826026e-02],\n",
       "       [ 1.24794533e-02, -6.73008896e-03],\n",
       "       [ 2.23733298e-02,  1.53970756e-02],\n",
       "       [ 1.45004671e-02, -7.33467378e-03],\n",
       "       [ 7.55274817e-02,  1.37346871e-02],\n",
       "       [ 5.97207062e-03,  6.33550249e-03],\n",
       "       [-9.98005271e-06,  5.07328194e-04],\n",
       "       [ 9.12605971e-03,  2.20969860e-02],\n",
       "       [ 8.21858644e-03,  1.29271969e-02],\n",
       "       [ 5.72203472e-03,  2.99097411e-03],\n",
       "       [ 5.31739462e-03,  1.88583285e-02],\n",
       "       [ 2.13427413e-02,  1.82260834e-02],\n",
       "       [ 1.63820796e-02,  2.05747485e-02],\n",
       "       [ 1.34884417e-02,  2.53096316e-02],\n",
       "       [ 1.17119607e-02,  1.12230182e-02],\n",
       "       [ 2.91130673e-02,  1.25618149e-02],\n",
       "       [ 5.24175428e-02,  7.64954649e-03],\n",
       "       [ 3.36339250e-02, -3.25480476e-02],\n",
       "       [ 1.32670626e-03,  2.54106075e-02],\n",
       "       [ 3.00780423e-02,  3.33383679e-04],\n",
       "       [-6.21075183e-03,  7.10263615e-03],\n",
       "       [ 2.33853795e-03,  2.71953642e-04],\n",
       "       [ 1.22819282e-02, -5.62943146e-03],\n",
       "       [ 1.77087784e-02,  1.36749567e-02],\n",
       "       [ 5.51531091e-03,  7.81714916e-04],\n",
       "       [ 1.19931586e-02,  5.76022118e-02],\n",
       "       [-5.78752439e-03,  1.27461301e-02],\n",
       "       [ 9.85149667e-03,  9.10906401e-03],\n",
       "       [ 1.10276416e-02,  2.26984844e-02],\n",
       "       [ 6.41865842e-03, -1.72171369e-03],\n",
       "       [ 3.45550925e-02,  2.04328112e-02],\n",
       "       [-2.15656310e-03, -5.66243753e-03],\n",
       "       [-1.35537330e-03,  2.34781988e-02],\n",
       "       [ 1.54253244e-02,  1.72483902e-02],\n",
       "       [ 8.40213709e-03,  5.99465258e-02]], dtype=float32)"
      ]
     },
     "execution_count": 100,
     "metadata": {},
     "output_type": "execute_result"
    }
   ],
   "source": [
    "X_reduced"
   ]
  },
  {
   "cell_type": "code",
   "execution_count": 102,
   "id": "5feeb346-17d3-4eca-b1df-2817bead5410",
   "metadata": {},
   "outputs": [
    {
     "data": {
      "image/png": "[encoded data removed]",
      "text/plain": [
       "<Figure size 1300x1000 with 2 Axes>"
      ]
     },
     "metadata": {},
     "output_type": "display_data"
    }
   ],
   "source": [
    "# Plotting the result\n",
    "plt.figure(figsize=(13,10))\n",
    "plt.scatter(X_reduced[:, 0], X_reduced[:, 1], c=y[:2000], cmap=\"jet\", alpha=0.5)\n",
    "plt.colorbar()\n",
    "plt.title('t-SNE plot')\n",
    "plt.xlabel('t-SNE feature 1')\n",
    "plt.ylabel('t-SNE feature 2')\n",
    "plt.show()\n"
   ]
  },
  {
   "cell_type": "code",
   "execution_count": null,
   "id": "c8a65847-ac10-4a30-836d-8516fc6b07de",
   "metadata": {},
   "outputs": [],
   "source": []
  }
 ],
 "metadata": {
  "kernelspec": {
   "display_name": "Python 3 (ipykernel)",
   "language": "python",
   "name": "python3"
  },
  "language_info": {
   "codemirror_mode": {
    "name": "ipython",
    "version": 3
   },
   "file_extension": ".py",
   "mimetype": "text/x-python",
   "name": "python",
   "nbconvert_exporter": "python",
   "pygments_lexer": "ipython3",
   "version": "3.11.4"
  }
 },
 "nbformat": 4,
 "nbformat_minor": 5
}
