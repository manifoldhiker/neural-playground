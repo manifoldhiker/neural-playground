{
 "cells": [
  {
   "cell_type": "markdown",
   "id": "938deb56-ec29-4882-9d4a-b7f2549f9c52",
   "metadata": {},
   "source": [
    " - We have 3 states, and for each there are 3 transition options\n",
    " - For each transition option, there is an emission option"
   ]
  },
  {
   "attachments": {},
   "cell_type": "markdown",
   "id": "b66aac0f-b900-457e-8a2c-714a8c9c5245",
   "metadata": {},
   "source": [
    "![image.png](attachment:27βd14β5-59da-4a96-8cc6-9a1c5247f7e8.png)"
   ]
  },
  {
   "cell_type": "code",
   "execution_count": 2,
   "id": "a1711a63-8efa-4af6-865c-4b7885f122b1",
   "metadata": {},
   "outputs": [],
   "source": [
    "import torch"
   ]
  },
  {
   "cell_type": "code",
   "execution_count": 13,
   "id": "a4da9611-03bd-4a72-8e14-f36d4a88ee2c",
   "metadata": {},
   "outputs": [],
   "source": [
    "x = 0.15\n",
    "α = 0.6"
   ]
  },
  {
   "cell_type": "code",
   "execution_count": 14,
   "id": "68d4aede-79b7-4566-a958-cc31889d7672",
   "metadata": {},
   "outputs": [],
   "source": [
    "β = (1 - α) / 2\n",
    "y = 1 - 2*x"
   ]
  },
  {
   "cell_type": "code",
   "execution_count": 15,
   "id": "7f94bd68-28f6-4f36-8ab5-5aa0eae05a16",
   "metadata": {},
   "outputs": [],
   "source": [
    "αx = α * x\n",
    "αy = α * y\n",
    "\n",
    "βx = β * x\n",
    "βy = β * y"
   ]
  },
  {
   "cell_type": "code",
   "execution_count": 16,
   "id": "09906b29-f685-4ccf-bcf9-e05dd038eba8",
   "metadata": {},
   "outputs": [],
   "source": [
    "T = torch.zeros(3,3,3)\n",
    "\n",
    "T[0] = torch.tensor([\n",
    "    [αy, βx, βx],\n",
    "    [αx, βy, βx],\n",
    "    [αx, βx, βy],\n",
    "])\n",
    "\n",
    "\n",
    "T[1] = torch.tensor([\n",
    "    [βy, αx, βx],\n",
    "    [βx, αy, βx],\n",
    "    [βx, αx, βy],\n",
    "])\n",
    "\n",
    "T[2] = torch.tensor([\n",
    "    [βy, βx, αx],\n",
    "    [βx, βy, αx],\n",
    "    [βx, βx, αy],\n",
    "])"
   ]
  },
  {
   "cell_type": "code",
   "execution_count": 17,
   "id": "9891fa0f-ab2a-46f3-a507-bef08f6babb1",
   "metadata": {},
   "outputs": [
    {
     "data": {
      "text/plain": [
       "tensor([[[0.4200, 0.0300, 0.0300],\n",
       "         [0.0900, 0.1400, 0.0300],\n",
       "         [0.0900, 0.0300, 0.1400]],\n",
       "\n",
       "        [[0.1400, 0.0900, 0.0300],\n",
       "         [0.0300, 0.4200, 0.0300],\n",
       "         [0.0300, 0.0900, 0.1400]],\n",
       "\n",
       "        [[0.1400, 0.0300, 0.0900],\n",
       "         [0.0300, 0.1400, 0.0900],\n",
       "         [0.0300, 0.0300, 0.4200]]])"
      ]
     },
     "execution_count": 17,
     "metadata": {},
     "output_type": "execute_result"
    }
   ],
   "source": [
    "T"
   ]
  },
  {
   "cell_type": "code",
   "execution_count": null,
   "id": "008e9e5b-fa58-42ce-bd05-dae702c1f1e4",
   "metadata": {},
   "outputs": [],
   "source": []
  }
 ],
 "metadata": {
  "kernelspec": {
   "display_name": "Python 3 (ipykernel)",
   "language": "python",
   "name": "python3"
  },
  "language_info": {
   "codemirror_mode": {
    "name": "ipython",
    "version": 3
   },
   "file_extension": ".py",
   "mimetype": "text/x-python",
   "name": "python",
   "nbconvert_exporter": "python",
   "pygments_lexer": "ipython3",
   "version": "3.11.4"
  }
 },
 "nbformat": 4,
 "nbformat_minor": 5
}
