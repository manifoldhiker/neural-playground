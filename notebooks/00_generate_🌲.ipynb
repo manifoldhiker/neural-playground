{
 "cells": [
  {
   "cell_type": "code",
   "execution_count": 1,
   "metadata": {},
   "outputs": [],
   "source": [
    "from treeviz import list2tree, tree2ascii, ascii_draw, TreeNode"
   ]
  },
  {
   "cell_type": "markdown",
   "metadata": {},
   "source": [
    "## Dataset description"
   ]
  },
  {
   "cell_type": "code",
   "execution_count": 1,
   "metadata": {},
   "outputs": [],
   "source": [
    "# https://arxiv.org/html/2402.11917v2"
   ]
  },
  {
   "cell_type": "markdown",
   "metadata": {},
   "source": [
    "  - In our experimental setup, we generate training samples by generating binary trees $\n",
    "  T = (V, E)$ uniformly at random from the set of all trees with 16 nodes, i.e. $|V| = 16$\n",
    "  - For each tree, a leaf node is randomly selected as the target node.\n"
   ]
  },
  {
   "cell_type": "markdown",
   "metadata": {},
   "source": [
    "  - The training dataset consists of 150,000 generated trees. \n",
    "  - The edge lists of these trees are shuffled to prevent the model from learning simple heuristics and encourage structural understanding of trees\n",
    "  - For simplification, our tokenization distinguishes tokens representing source and target nodes of each edge, such as [15] and [→15].\n"
   ]
  },
  {
   "cell_type": "markdown",
   "metadata": {},
   "source": []
  },
  {
   "cell_type": "code",
   "execution_count": 12,
   "metadata": {},
   "outputs": [],
   "source": [
    "import random\n",
    "\n",
    "\n",
    "\n",
    "\n",
    "def random_binary_tree(n):\n",
    "    node_names = list(range(n))\n",
    "    random.shuffle(node_names)\n",
    "\n",
    "    def _gen(n):\n",
    "        if n == 0:\n",
    "            return None\n",
    "    \n",
    "        node_val = node_names.pop()\n",
    "    \n",
    "        if n == 1:\n",
    "            return TreeNode(val=node_val)\n",
    "        else:\n",
    "            left_size = random.randint(0, n-1)\n",
    "            right_size = n - 1 - left_size\n",
    "            left_subtree = _gen(left_size)\n",
    "            right_subtree = _gen(right_size)\n",
    "            return TreeNode(val=node_val, left=left_subtree, right=right_subtree)\n",
    "        \n",
    "    return _gen(n)\n",
    "\n",
    "\n",
    "\n",
    "\n",
    "# Generate a random binary tree with 16 nodes\n",
    "tree = random_binary_tree(16)\n"
   ]
  },
  {
   "cell_type": "code",
   "execution_count": 199,
   "metadata": {},
   "outputs": [],
   "source": [
    "def inorder_knuth(root):\n",
    "    # print('Tribute to Knuth.')\n",
    "    # print(\"(1969). Fundamental Algorithms. The Art of Computer Programming. Vol. 1\")\n",
    "\n",
    "    res = []\n",
    "    def Visit(P):\n",
    "        if P.left is None and P.right is None:\n",
    "            res.append(P.val)\n",
    "\n",
    "    # T1. [Initialize.] Set stack A empty, and set link variable P <- T\n",
    "    A = []\n",
    "    P = root\n",
    "    while True:\n",
    "        # T2. [P = NULL?] if P == NULL, go to step T4.\n",
    "        if P is None:\n",
    "            # T4. [P <= Stack] If stack A is empty, algorithm terminates\n",
    "            if len(A)==0: break\n",
    "            # Otherwise, set P <= A\n",
    "            P = A.pop()\n",
    "\n",
    "            # T5. [Visit P.] Visit NODE(P).\n",
    "            Visit(P)\n",
    "            # Then, set P <- RLINK(P) and return to T2.\n",
    "            P = P.right\n",
    "        else:\n",
    "            # T3. [Stack <= P.] (Now P points to a nonempty binary tree that is to be traversed.)\n",
    "            # Set A <= P; That is, push the P onto the stack A\n",
    "            A.append(P)\n",
    "            # Then, set P <- LLINK(P) and return to T2.\n",
    "            P = P.left\n",
    "    return res\n",
    "\n",
    "def get_leaf_vals(root): return inorder_knuth(root)"
   ]
  },
  {
   "cell_type": "code",
   "execution_count": 172,
   "metadata": {},
   "outputs": [
    {
     "name": "stdout",
     "output_type": "stream",
     "text": [
      "leaf_vals=[2, 3]\n"
     ]
    },
    {
     "data": {
      "text/plain": [
       " 0\n",
       " |\n",
       " +---+\n",
       "     |\n",
       "     1\n",
       "     |\n",
       "   +-+-+\n",
       "   |   |\n",
       "   2   3"
      ]
     },
     "execution_count": 172,
     "metadata": {},
     "output_type": "execute_result"
    }
   ],
   "source": [
    "tree = random_binary_tree(4)\n",
    "leaf_vals = inorder_knuth(tree)\n",
    "print(f'{leaf_vals=}')\n",
    "tree"
   ]
  },
  {
   "cell_type": "code",
   "execution_count": null,
   "metadata": {},
   "outputs": [],
   "source": []
  },
  {
   "cell_type": "code",
   "execution_count": 173,
   "metadata": {},
   "outputs": [],
   "source": [
    "def tree_to_edges(root):\n",
    "    \"\"\" Convert a binary tree to a list of edges. \"\"\"\n",
    "    edges = []\n",
    "    def traverse(node):\n",
    "        if node.left:\n",
    "            edges.append((node.val, node.left.val))\n",
    "            traverse(node.left)\n",
    "        if node.right:\n",
    "            edges.append((node.val, node.right.val))\n",
    "            traverse(node.right)\n",
    "    traverse(root)\n",
    "    return edges\n",
    "\n",
    "def edges_to_tree(edges):\n",
    "    \"\"\" Create a binary tree from a list of edges. \"\"\"\n",
    "    if not edges:\n",
    "        return None\n",
    "    \n",
    "    # Create nodes and find the root\n",
    "    nodes = {}\n",
    "    children = set()\n",
    "    \n",
    "    for parent, child in edges:\n",
    "        if parent not in nodes:\n",
    "            nodes[parent] = TreeNode(parent)\n",
    "        if child not in nodes:\n",
    "            nodes[child] = TreeNode(child)\n",
    "        if child in nodes:\n",
    "            if nodes[parent].left is None:\n",
    "                nodes[parent].left = nodes[child]\n",
    "            else:\n",
    "                nodes[parent].right = nodes[child]\n",
    "        children.add(child)\n",
    "        \n",
    "    # Find the root (node not in children set)\n",
    "    root_node = next(node for node in nodes if node not in children)\n",
    "    return nodes[root_node]\n"
   ]
  },
  {
   "cell_type": "code",
   "execution_count": 177,
   "metadata": {},
   "outputs": [
    {
     "name": "stdout",
     "output_type": "stream",
     "text": [
      "edges=[(0, 1), (1, 2), (1, 3)]\n"
     ]
    },
    {
     "data": {
      "text/plain": [
       "       0\n",
       "       |\n",
       "   +---+\n",
       "   |\n",
       "   1\n",
       "   |\n",
       " +-+-+\n",
       " |   |\n",
       " 2   3"
      ]
     },
     "execution_count": 177,
     "metadata": {},
     "output_type": "execute_result"
    }
   ],
   "source": [
    "edges = tree_to_edges(tree)\n",
    "print(f'{edges=}')\n",
    "\n",
    "edges_to_tree(edges)"
   ]
  },
  {
   "cell_type": "code",
   "execution_count": 182,
   "metadata": {},
   "outputs": [
    {
     "data": {
      "text/plain": [
       "defaultdict(list, {0: [1], 1: [2, 3]})"
      ]
     },
     "execution_count": 182,
     "metadata": {},
     "output_type": "execute_result"
    }
   ],
   "source": [
    "import collections\n",
    "children = collections.defaultdict(list)\n",
    "parent = dict()\n",
    "\n",
    "for from_node, to_node in edges:\n",
    "    children[from_node].append(to_node)\n",
    "    parent[to_node] = from_node\n",
    "\n",
    "children"
   ]
  },
  {
   "cell_type": "code",
   "execution_count": 183,
   "metadata": {},
   "outputs": [
    {
     "data": {
      "text/plain": [
       "{1: 0, 2: 1, 3: 1}"
      ]
     },
     "execution_count": 183,
     "metadata": {},
     "output_type": "execute_result"
    }
   ],
   "source": [
    "parent"
   ]
  },
  {
   "cell_type": "code",
   "execution_count": 196,
   "metadata": {},
   "outputs": [],
   "source": [
    "def get_parent_dict(root):\n",
    "    parent = dict()\n",
    "    stack = [(root)]\n",
    "    \n",
    "    while stack:\n",
    "        root = stack.pop()\n",
    "        if root is None: continue\n",
    "        \n",
    "        if root.left:\n",
    "            parent[root.left.val] = root.val\n",
    "            stack.append(root.left)\n",
    "        if root.right:\n",
    "            parent[root.right.val] = root.val\n",
    "            stack.append(root.right)\n",
    "            \n",
    "    return parent\n",
    "\n",
    "\n",
    "def from_root_to_node(tree, node_val):\n",
    "    parent = get_parent_dict(tree)\n",
    "    path = []\n",
    "    \n",
    "    while node_val is not None:\n",
    "        path.append(node_val)\n",
    "        node_val = parent.get(node_val)\n",
    "        \n",
    "    path = list(reversed(path))\n",
    "    return path\n",
    "\n"
   ]
  },
  {
   "cell_type": "code",
   "execution_count": 197,
   "metadata": {},
   "outputs": [
    {
     "name": "stdout",
     "output_type": "stream",
     "text": [
      " 0\n",
      " |\n",
      " +---+\n",
      "     |\n",
      "     1\n",
      "     |\n",
      "   +-+-+\n",
      "   |   |\n",
      "   2   3\n"
     ]
    },
    {
     "data": {
      "text/plain": [
       "[0, 1, 2]"
      ]
     },
     "execution_count": 197,
     "metadata": {},
     "output_type": "execute_result"
    }
   ],
   "source": [
    "print(tree)\n",
    "\n",
    "from_root_to_node(tree, 2)"
   ]
  },
  {
   "cell_type": "code",
   "execution_count": 208,
   "metadata": {},
   "outputs": [
    {
     "data": {
      "text/plain": [
       "1"
      ]
     },
     "execution_count": 208,
     "metadata": {},
     "output_type": "execute_result"
    }
   ],
   "source": [
    "([1,2,3])"
   ]
  },
  {
   "cell_type": "code",
   "execution_count": null,
   "metadata": {},
   "outputs": [],
   "source": []
  },
  {
   "cell_type": "code",
   "execution_count": 245,
   "metadata": {},
   "outputs": [],
   "source": [
    "\n",
    "\n",
    "def edges_to_tokens(edges): return [token for from_node, to_node in edges for token in (str(from_node),f'→{to_node}', ',')][:-1]\n",
    "\n",
    "\n",
    "def tree2tokens(tree):\n",
    "    edges = tree_to_edges(tree)\n",
    "    random.shuffle(edges)\n",
    "    \n",
    "    edge_tokens = edges_to_tokens(edges)\n",
    "    root = tree.val\n",
    "    leafs = get_leaf_vals(tree)\n",
    "\n",
    "    goal = random.choice(leafs)\n",
    "\n",
    "    input_tokens = [*edge_tokens, '|', goal, ':', root]\n",
    "    \n",
    "    target_path = from_root_to_node(tree, goal)\n",
    "    target_tokens = [f'→{node_val}' for node_val in target_path]\n",
    "    \n",
    "    return input_tokens, target_tokens"
   ]
  },
  {
   "cell_type": "code",
   "execution_count": 250,
   "metadata": {},
   "outputs": [],
   "source": [
    "N = 5\n",
    "\n",
    "def generate_datapoint(N=N):\n",
    "    tree = random_binary_tree(N)\n",
    "    return tree2tokens(tree)\n",
    "\n",
    "\n",
    "def input_tokens_to_tree(input_tokens):\n",
    "    idx = input_tokens.index('|')\n",
    "    edge_tokens = ''.join(input_tokens[:idx])\n",
    "    edges = [edge.split('→') for edge in edge_tokens.split(',')]\n",
    "    tree = edges_to_tree(edges)\n",
    "    return tree"
   ]
  },
  {
   "cell_type": "code",
   "execution_count": 263,
   "metadata": {},
   "outputs": [],
   "source": [
    "input_tokens, target_tokens = generate_datapoint(16)"
   ]
  },
  {
   "cell_type": "code",
   "execution_count": 264,
   "metadata": {},
   "outputs": [
    {
     "data": {
      "text/plain": [
       "['8',\n",
       " '→10',\n",
       " ',',\n",
       " '9',\n",
       " '→15',\n",
       " ',',\n",
       " '0',\n",
       " '→13',\n",
       " ',',\n",
       " '1',\n",
       " '→9',\n",
       " ',',\n",
       " '3',\n",
       " '→4',\n",
       " ',',\n",
       " '15',\n",
       " '→12',\n",
       " ',',\n",
       " '3',\n",
       " '→1',\n",
       " ',',\n",
       " '6',\n",
       " '→5',\n",
       " ',',\n",
       " '1',\n",
       " '→8',\n",
       " ',',\n",
       " '12',\n",
       " '→6',\n",
       " ',',\n",
       " '8',\n",
       " '→2',\n",
       " ',',\n",
       " '6',\n",
       " '→11',\n",
       " ',',\n",
       " '9',\n",
       " '→0',\n",
       " ',',\n",
       " '4',\n",
       " '→7',\n",
       " ',',\n",
       " '0',\n",
       " '→14',\n",
       " '|',\n",
       " 10,\n",
       " ':',\n",
       " 3]"
      ]
     },
     "execution_count": 264,
     "metadata": {},
     "output_type": "execute_result"
    }
   ],
   "source": [
    "input_tokens"
   ]
  },
  {
   "cell_type": "code",
   "execution_count": 265,
   "metadata": {},
   "outputs": [
    {
     "data": {
      "text/plain": [
       "['→3', '→1', '→8', '→10']"
      ]
     },
     "execution_count": 265,
     "metadata": {},
     "output_type": "execute_result"
    }
   ],
   "source": [
    "target_tokens"
   ]
  },
  {
   "cell_type": "code",
   "execution_count": 266,
   "metadata": {},
   "outputs": [
    {
     "data": {
      "text/plain": [
       "        3\n",
       "        |\n",
       "     +--+-----------------------------+\n",
       "     |                                |\n",
       "     4                                1\n",
       "     |                                |\n",
       "  +--+                    +-----------+-----+\n",
       "  |                       |                 |\n",
       "  7                       9                 8\n",
       "                          |                 |\n",
       "                       +--+-----+        +--+--+\n",
       "                       |        |        |     |\n",
       "                      15        0       10     2\n",
       "                       |        |\n",
       "                    +--+     +--+--+\n",
       "                    |        |     |\n",
       "                   12       13    14\n",
       "                    |\n",
       "              +-----+\n",
       "              |\n",
       "              6\n",
       "              |\n",
       "           +--+--+\n",
       "           |     |\n",
       "           5    11"
      ]
     },
     "execution_count": 266,
     "metadata": {},
     "output_type": "execute_result"
    }
   ],
   "source": [
    "input_tokens_to_tree(input_tokens)"
   ]
  },
  {
   "cell_type": "code",
   "execution_count": null,
   "metadata": {},
   "outputs": [],
   "source": []
  }
 ],
 "metadata": {
  "kernelspec": {
   "display_name": "base",
   "language": "python",
   "name": "python3"
  },
  "language_info": {
   "codemirror_mode": {
    "name": "ipython",
    "version": 3
   },
   "file_extension": ".py",
   "mimetype": "text/x-python",
   "name": "python",
   "nbconvert_exporter": "python",
   "pygments_lexer": "ipython3",
   "version": "3.11.4"
  }
 },
 "nbformat": 4,
 "nbformat_minor": 2
}
