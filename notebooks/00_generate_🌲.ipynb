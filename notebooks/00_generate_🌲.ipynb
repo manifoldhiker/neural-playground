{
 "cells": [
  {
   "cell_type": "code",
   "execution_count": 1,
   "metadata": {},
   "outputs": [],
   "source": [
    "import sys; sys.path.append('..')"
   ]
  },
  {
   "cell_type": "code",
   "execution_count": 2,
   "metadata": {},
   "outputs": [],
   "source": [
    "from src.tree import list2tree, tree2ascii, ascii_draw, TreeNode\n",
    "from src.tree_dataset import random_binary_tree, get_leaf_vals, tree_to_edges, edges_to_tree"
   ]
  },
  {
   "cell_type": "markdown",
   "metadata": {},
   "source": [
    "## Dataset description"
   ]
  },
  {
   "cell_type": "code",
   "execution_count": 3,
   "metadata": {},
   "outputs": [],
   "source": [
    "# https://arxiv.org/html/2402.11917v2"
   ]
  },
  {
   "cell_type": "markdown",
   "metadata": {},
   "source": [
    "  - In our experimental setup, we generate training samples by generating binary trees $\n",
    "  T = (V, E)$ uniformly at random from the set of all trees with 16 nodes, i.e. $|V| = 16$\n",
    "  - For each tree, a leaf node is randomly selected as the target node.\n"
   ]
  },
  {
   "cell_type": "markdown",
   "metadata": {},
   "source": [
    "  - The training dataset consists of 150,000 generated trees. \n",
    "  - The edge lists of these trees are shuffled to prevent the model from learning simple heuristics and encourage structural understanding of trees\n",
    "  - For simplification, our tokenization distinguishes tokens representing source and target nodes of each edge, such as [15] and [→15].\n"
   ]
  },
  {
   "cell_type": "markdown",
   "metadata": {},
   "source": []
  },
  {
   "cell_type": "code",
   "execution_count": 4,
   "metadata": {},
   "outputs": [
    {
     "data": {
      "text/plain": [
       "                                   6\n",
       "                                   |\n",
       "  +--------------------------------+--+\n",
       "  |                                   |\n",
       "  3                                  15\n",
       "  |                                   |\n",
       "  +-----+                             +--------+\n",
       "        |                                      |\n",
       "        8                                     10\n",
       "        |                                      |\n",
       "     +--+--------+                       +-----+\n",
       "     |           |                       |\n",
       "     0          14                       9\n",
       "                 |                       |\n",
       "           +-----+--------------+        +--+\n",
       "           |                    |           |\n",
       "           2                    1           4\n",
       "           |                    |\n",
       "           +--+        +--------+\n",
       "              |        |\n",
       "              5       11\n",
       "                       |\n",
       "                    +--+-----+\n",
       "                    |        |\n",
       "                   12       13\n",
       "                             |\n",
       "                          +--+\n",
       "                          |\n",
       "                          7"
      ]
     },
     "execution_count": 4,
     "metadata": {},
     "output_type": "execute_result"
    }
   ],
   "source": [
    "tree = random_binary_tree(16)\n",
    "tree"
   ]
  },
  {
   "cell_type": "code",
   "execution_count": 5,
   "metadata": {},
   "outputs": [
    {
     "name": "stdout",
     "output_type": "stream",
     "text": [
      "leaf_vals=[2, 1]\n"
     ]
    },
    {
     "data": {
      "text/plain": [
       "     0\n",
       "     |\n",
       " +---+-+\n",
       " |     |\n",
       " 3     1\n",
       " |\n",
       " +-+\n",
       "   |\n",
       "   2"
      ]
     },
     "execution_count": 5,
     "metadata": {},
     "output_type": "execute_result"
    }
   ],
   "source": [
    "tree = random_binary_tree(4)\n",
    "leaf_vals = get_leaf_vals(tree)\n",
    "print(f'{leaf_vals=}')\n",
    "tree"
   ]
  },
  {
   "cell_type": "code",
   "execution_count": 6,
   "metadata": {},
   "outputs": [
    {
     "name": "stdout",
     "output_type": "stream",
     "text": [
      "edges=[(0, 3), (3, 2), (0, 1)]\n"
     ]
    },
    {
     "data": {
      "text/plain": [
       "     0\n",
       "     |\n",
       "   +-+-+\n",
       "   |   |\n",
       "   3   1\n",
       "   |\n",
       " +-+\n",
       " |\n",
       " 2"
      ]
     },
     "execution_count": 6,
     "metadata": {},
     "output_type": "execute_result"
    }
   ],
   "source": [
    "edges = tree_to_edges(tree)\n",
    "print(f'{edges=}')\n",
    "\n",
    "edges_to_tree(edges)"
   ]
  },
  {
   "cell_type": "code",
   "execution_count": 7,
   "metadata": {},
   "outputs": [],
   "source": [
    "from src.tree_dataset import generate_datapoint, input_tokens_to_tree, TreeDataset"
   ]
  },
  {
   "cell_type": "code",
   "execution_count": 8,
   "metadata": {},
   "outputs": [],
   "source": [
    "input_tokens, target_tokens = generate_datapoint(16)"
   ]
  },
  {
   "cell_type": "code",
   "execution_count": 9,
   "metadata": {},
   "outputs": [
    {
     "data": {
      "text/plain": [
       "['15',\n",
       " '→2',\n",
       " ',',\n",
       " '9',\n",
       " '→10',\n",
       " ',',\n",
       " '13',\n",
       " '→1',\n",
       " ',',\n",
       " '9',\n",
       " '→6',\n",
       " ',',\n",
       " '14',\n",
       " '→0',\n",
       " ',',\n",
       " '14',\n",
       " '→5',\n",
       " ',',\n",
       " '5',\n",
       " '→9',\n",
       " ',',\n",
       " '3',\n",
       " '→15',\n",
       " ',',\n",
       " '7',\n",
       " '→11',\n",
       " ',',\n",
       " '1',\n",
       " '→8',\n",
       " ',',\n",
       " '13',\n",
       " '→4',\n",
       " ',',\n",
       " '6',\n",
       " '→7',\n",
       " ',',\n",
       " '0',\n",
       " '→13',\n",
       " ',',\n",
       " '1',\n",
       " '→3',\n",
       " ',',\n",
       " '10',\n",
       " '→12',\n",
       " '|',\n",
       " 4,\n",
       " ':',\n",
       " 14]"
      ]
     },
     "execution_count": 9,
     "metadata": {},
     "output_type": "execute_result"
    }
   ],
   "source": [
    "input_tokens"
   ]
  },
  {
   "cell_type": "code",
   "execution_count": 10,
   "metadata": {},
   "outputs": [
    {
     "data": {
      "text/plain": [
       "['→14', '→0', '→13', '→4']"
      ]
     },
     "execution_count": 10,
     "metadata": {},
     "output_type": "execute_result"
    }
   ],
   "source": [
    "target_tokens"
   ]
  },
  {
   "cell_type": "code",
   "execution_count": 11,
   "metadata": {},
   "outputs": [
    {
     "data": {
      "text/plain": [
       "                         14\n",
       "                          |\n",
       "                       +--+--------------------+\n",
       "                       |                       |\n",
       "                       0                       5\n",
       "                       |                       |\n",
       "                 +-----+           +-----------+\n",
       "                 |                 |\n",
       "                13                 9\n",
       "                 |                 |\n",
       "     +-----------+--+           +--+--------+\n",
       "     |              |           |           |\n",
       "     1              4          10           6\n",
       "     |                          |           |\n",
       "  +--+--------+              +--+        +--+\n",
       "  |           |              |           |\n",
       "  8           3             12           7\n",
       "              |                          |\n",
       "           +--+                       +--+\n",
       "           |                          |\n",
       "          15                         11\n",
       "           |\n",
       "        +--+\n",
       "        |\n",
       "        2"
      ]
     },
     "execution_count": 11,
     "metadata": {},
     "output_type": "execute_result"
    }
   ],
   "source": [
    "input_tokens_to_tree(input_tokens)"
   ]
  },
  {
   "cell_type": "code",
   "execution_count": 12,
   "metadata": {},
   "outputs": [
    {
     "name": "stdout",
     "output_type": "stream",
     "text": [
      "CPU times: user 229 ms, sys: 1.42 ms, total: 231 ms\n",
      "Wall time: 231 ms\n"
     ]
    }
   ],
   "source": [
    "%%time\n",
    "\n",
    "for _ in range(10000):\n",
    "    input_tokens, target_tokens = generate_datapoint(16)"
   ]
  },
  {
   "cell_type": "code",
   "execution_count": null,
   "metadata": {},
   "outputs": [],
   "source": []
  },
  {
   "cell_type": "code",
   "execution_count": 13,
   "metadata": {},
   "outputs": [],
   "source": [
    "from torch.utils.data import IterableDataset, DataLoader"
   ]
  },
  {
   "cell_type": "code",
   "execution_count": 14,
   "metadata": {},
   "outputs": [],
   "source": [
    "dataset = TreeDataset(5)\n",
    "\n",
    "dataloader = DataLoader(dataset, batch_size=8)"
   ]
  },
  {
   "cell_type": "code",
   "execution_count": 15,
   "metadata": {},
   "outputs": [],
   "source": [
    "for i in (dataset):\n",
    "    break"
   ]
  },
  {
   "cell_type": "code",
   "execution_count": 16,
   "metadata": {},
   "outputs": [
    {
     "data": {
      "text/plain": [
       "{'input_idx': tensor([ 6,  5,  1, 10,  9,  1,  4, 11,  1,  6, 13,  2, 12,  3,  6,  7, 13,  0,\n",
       "          0,  0,  0,  0,  0,  0]),\n",
       " 'task_mask': tensor([1., 1., 1., 1., 1., 1., 1., 1., 1., 1., 1., 1., 1., 1., 1., 0., 0., 0.,\n",
       "         0., 0., 0., 0., 0., 0.])}"
      ]
     },
     "execution_count": 16,
     "metadata": {},
     "output_type": "execute_result"
    }
   ],
   "source": [
    "i"
   ]
  },
  {
   "cell_type": "code",
   "execution_count": 17,
   "metadata": {},
   "outputs": [
    {
     "data": {
      "text/plain": [
       "tensor([ 6,  5,  1, 10,  9,  1,  4, 11,  1,  6, 13,  2, 12,  3,  6,  7, 13,  0,\n",
       "         0,  0,  0,  0,  0,  0])"
      ]
     },
     "execution_count": 17,
     "metadata": {},
     "output_type": "execute_result"
    }
   ],
   "source": [
    "i['input_idx']"
   ]
  },
  {
   "cell_type": "code",
   "execution_count": 18,
   "metadata": {},
   "outputs": [],
   "source": [
    "for batch in dataloader:\n",
    "    break"
   ]
  },
  {
   "cell_type": "code",
   "execution_count": 19,
   "metadata": {},
   "outputs": [
    {
     "data": {
      "text/plain": [
       "tensor([[ 4, 13,  1,  6,  5,  1, 12, 11,  1,  6,  9,  2, 10,  3,  6,  7,  5, 13,\n",
       "         11,  0,  0,  0,  0,  0],\n",
       "        [10, 13,  1,  4,  9,  1, 12,  7,  1, 10,  5,  2,  8,  3, 10, 11,  5,  9,\n",
       "          0,  0,  0,  0,  0,  0],\n",
       "        [ 8, 11,  1,  4,  9,  1,  6, 13,  1,  4,  7,  2, 12,  3,  4,  5,  7, 13,\n",
       "          0,  0,  0,  0,  0,  0],\n",
       "        [ 8,  7,  1, 10,  9,  1, 12,  5,  1, 12, 11,  2,  6,  3, 12, 13, 11,  9,\n",
       "          7,  0,  0,  0,  0,  0],\n",
       "        [ 6,  5,  1,  6, 13,  1, 12,  9,  1,  8, 11,  2,  4,  3,  6,  7,  5,  0,\n",
       "          0,  0,  0,  0,  0,  0],\n",
       "        [ 4, 11,  1,  6,  9,  1, 12,  5,  1, 10,  7,  2,  8,  3, 12, 13,  5, 11,\n",
       "          7,  9,  0,  0,  0,  0],\n",
       "        [ 4,  9,  1,  6,  5,  1, 12,  7,  1, 10, 13,  2,  8,  3, 10, 11, 13,  7,\n",
       "          5,  9,  0,  0,  0,  0],\n",
       "        [ 4, 11,  1,  8, 13,  1, 12,  7,  1,  6,  5,  2, 10,  3,  8,  9, 13,  7,\n",
       "          5, 11,  0,  0,  0,  0]])"
      ]
     },
     "execution_count": 19,
     "metadata": {},
     "output_type": "execute_result"
    }
   ],
   "source": [
    "batch['input_idx']"
   ]
  },
  {
   "cell_type": "code",
   "execution_count": null,
   "metadata": {},
   "outputs": [],
   "source": []
  }
 ],
 "metadata": {
  "kernelspec": {
   "display_name": "base",
   "language": "python",
   "name": "python3"
  },
  "language_info": {
   "codemirror_mode": {
    "name": "ipython",
    "version": 3
   },
   "file_extension": ".py",
   "mimetype": "text/x-python",
   "name": "python",
   "nbconvert_exporter": "python",
   "pygments_lexer": "ipython3",
   "version": "3.11.4"
  }
 },
 "nbformat": 4,
 "nbformat_minor": 2
}
