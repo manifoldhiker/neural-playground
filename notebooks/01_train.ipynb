{
 "cells": [
  {
   "cell_type": "markdown",
   "metadata": {},
   "source": [
    "## Setup"
   ]
  },
  {
   "cell_type": "markdown",
   "metadata": {},
   "source": [
    "### Imports"
   ]
  },
  {
   "cell_type": "code",
   "execution_count": 1,
   "metadata": {},
   "outputs": [],
   "source": [
    "import sys; sys.path.append('..')"
   ]
  },
  {
   "cell_type": "code",
   "execution_count": 2,
   "metadata": {},
   "outputs": [],
   "source": [
    "# ! pip install lovely-tensors\n",
    "\n",
    "import lovely_tensors as lt\n",
    "lt.monkey_patch()"
   ]
  },
  {
   "cell_type": "code",
   "execution_count": 3,
   "metadata": {},
   "outputs": [],
   "source": [
    "import torch\n",
    "import numpy as np\n",
    "import torch.nn.functional as F\n",
    "from torch.utils.data import DataLoader\n",
    "\n",
    "from transformer_lens import HookedTransformer, HookedTransformerConfig"
   ]
  },
  {
   "cell_type": "code",
   "execution_count": 4,
   "metadata": {},
   "outputs": [],
   "source": [
    "import wandb\n",
    "from tqdm.auto import tqdm\n",
    "\n",
    "from omegaconf import OmegaConf\n",
    "\n",
    "from datetime import datetime\n",
    "\n",
    "from pathlib import Path\n",
    "\n",
    "import numpy as np\n",
    "import seaborn as sns\n",
    "import matplotlib.pyplot as plt"
   ]
  },
  {
   "cell_type": "code",
   "execution_count": 5,
   "metadata": {},
   "outputs": [],
   "source": [
    "from src.tree import list2tree\n",
    "from src.tree_dataset import TreeDataset, parse_input_idx, input_tokens_to_tree, tree_to_edges\n",
    "from src.utils import seed_all, count_parameters\n",
    "\n",
    "\n",
    "from src.trainer import TreeTrainer"
   ]
  },
  {
   "cell_type": "markdown",
   "metadata": {},
   "source": [
    "### Read config"
   ]
  },
  {
   "cell_type": "code",
   "execution_count": 6,
   "metadata": {},
   "outputs": [
    {
     "name": "stdout",
     "output_type": "stream",
     "text": [
      "random_seed: 42\n",
      "n_nodes: 8\n",
      "model:\n",
      "  d_model: 128\n",
      "  d_head: 128\n",
      "  n_layers: 2\n",
      "  act_fn: gelu\n",
      "  attention_dir: causal\n",
      "optimizer:\n",
      "  lr: 0.001\n",
      "  weight_decay: 0.01\n",
      "batch_size: 64\n",
      "epoch_len_steps: 5000\n",
      "checkpoint_every_epoch: 1\n",
      "device: mps\n",
      "debug: false\n",
      "use_wandb: true\n",
      "wandb:\n",
      "  project: reasoning-mech-interp\n",
      "  name: 01_2L_nodes=8__phase_trans\n",
      "max_iters: null\n",
      "\n"
     ]
    }
   ],
   "source": [
    "conf = OmegaConf.load('../conf/01_2L_nodes=8__phase_trans.yaml')\n",
    "conf = OmegaConf.load('../conf/00_reproduce_6L_nodes=16.yaml')\n",
    "\n",
    "# Output is identical to the YAML file\n",
    "print(OmegaConf.to_yaml(conf))"
   ]
  },
  {
   "cell_type": "markdown",
   "metadata": {},
   "source": [
    "### Constants (mostly derived)"
   ]
  },
  {
   "cell_type": "code",
   "execution_count": 7,
   "metadata": {},
   "outputs": [],
   "source": [
    "DEV_RUN = False\n",
    "USE_WANDB = (not DEV_RUN) and conf.use_wandb\n",
    "device = conf.device\n",
    "\n",
    "CHECKPOINT_ROOT = Path('../checkpoints')"
   ]
  },
  {
   "cell_type": "code",
   "execution_count": 8,
   "metadata": {},
   "outputs": [],
   "source": [
    "def create_checkpoint_dir(conf):\n",
    "    now = datetime.now()\n",
    "    now_filename = now.strftime(\"%Y-%m-%d_%H-%M-%S\")\n",
    "    \n",
    "    checkpoint_dir = CHECKPOINT_ROOT/f'{conf[\"wandb\"][\"project\"]}__{now_filename}'\n",
    "    checkpoint_dir.mkdir(exist_ok=True, parents = True)\n",
    "    return checkpoint_dir"
   ]
  },
  {
   "cell_type": "code",
   "execution_count": 9,
   "metadata": {},
   "outputs": [
    {
     "name": "stderr",
     "output_type": "stream",
     "text": [
      "\u001b[34m\u001b[1mwandb\u001b[0m: Currently logged in as: \u001b[33mkilianovski\u001b[0m. Use \u001b[1m`wandb login --relogin`\u001b[0m to force relogin\n"
     ]
    },
    {
     "data": {
      "text/html": [
       "Tracking run with wandb version 0.16.6"
      ],
      "text/plain": [
       "<IPython.core.display.HTML object>"
      ]
     },
     "metadata": {},
     "output_type": "display_data"
    },
    {
     "data": {
      "text/html": [
       "Run data is saved locally in <code>/Users/mykhailokilianovskyi/src/reasoning-mech-interp/notebooks/wandb/run-20240411_203535-25vshx2y</code>"
      ],
      "text/plain": [
       "<IPython.core.display.HTML object>"
      ]
     },
     "metadata": {},
     "output_type": "display_data"
    },
    {
     "data": {
      "text/html": [
       "Syncing run <strong><a href='https://wandb.ai/kilianovski/reasoning-mech-interp/runs/25vshx2y' target=\"_blank\">01_2L_nodes=8__phase_trans</a></strong> to <a href='https://wandb.ai/kilianovski/reasoning-mech-interp' target=\"_blank\">Weights & Biases</a> (<a href='https://wandb.me/run' target=\"_blank\">docs</a>)<br/>"
      ],
      "text/plain": [
       "<IPython.core.display.HTML object>"
      ]
     },
     "metadata": {},
     "output_type": "display_data"
    },
    {
     "data": {
      "text/html": [
       " View project at <a href='https://wandb.ai/kilianovski/reasoning-mech-interp' target=\"_blank\">https://wandb.ai/kilianovski/reasoning-mech-interp</a>"
      ],
      "text/plain": [
       "<IPython.core.display.HTML object>"
      ]
     },
     "metadata": {},
     "output_type": "display_data"
    },
    {
     "data": {
      "text/html": [
       " View run at <a href='https://wandb.ai/kilianovski/reasoning-mech-interp/runs/25vshx2y' target=\"_blank\">https://wandb.ai/kilianovski/reasoning-mech-interp/runs/25vshx2y</a>"
      ],
      "text/plain": [
       "<IPython.core.display.HTML object>"
      ]
     },
     "metadata": {},
     "output_type": "display_data"
    },
    {
     "name": "stdout",
     "output_type": "stream",
     "text": [
      "random_seed: 42\n",
      "n_nodes: 8\n",
      "model:\n",
      "  d_model: 128\n",
      "  d_head: 128\n",
      "  n_layers: 2\n",
      "  act_fn: gelu\n",
      "  attention_dir: causal\n",
      "optimizer:\n",
      "  lr: 0.001\n",
      "  weight_decay: 0.01\n",
      "batch_size: 64\n",
      "epoch_len_steps: 5000\n",
      "checkpoint_every_epoch: 1\n",
      "device: mps\n",
      "debug: false\n",
      "use_wandb: true\n",
      "wandb:\n",
      "  project: reasoning-mech-interp\n",
      "  name: 01_2L_nodes=8__phase_trans\n",
      "max_iters: null\n",
      "\n"
     ]
    }
   ],
   "source": [
    "if USE_WANDB:\n",
    "    wandb.init(project=conf.wandb.project, name=conf.wandb.name, config=OmegaConf.to_object(conf))\n",
    "    print(OmegaConf.to_yaml(conf))"
   ]
  },
  {
   "cell_type": "code",
   "execution_count": 10,
   "metadata": {},
   "outputs": [
    {
     "name": "stdout",
     "output_type": "stream",
     "text": [
      "RANDOM_SEED=42\n"
     ]
    }
   ],
   "source": [
    "RANDOM_SEED = conf['random_seed']\n",
    "print(f'{RANDOM_SEED=}')\n",
    "seed_all(RANDOM_SEED)"
   ]
  },
  {
   "cell_type": "code",
   "execution_count": 11,
   "metadata": {},
   "outputs": [
    {
     "name": "stdout",
     "output_type": "stream",
     "text": [
      "Moving model to device:  mps\n",
      "+--------------------+------------+\n",
      "|      Modules       | Parameters |\n",
      "+--------------------+------------+\n",
      "|     embed.W_E      |    2560    |\n",
      "|  pos_embed.W_pos   |    4608    |\n",
      "|   blocks.0.ln1.w   |    128     |\n",
      "|   blocks.0.ln1.b   |    128     |\n",
      "|   blocks.0.ln2.w   |    128     |\n",
      "|   blocks.0.ln2.b   |    128     |\n",
      "| blocks.0.attn.W_Q  |   16384    |\n",
      "| blocks.0.attn.W_O  |   16384    |\n",
      "| blocks.0.attn.b_Q  |    128     |\n",
      "| blocks.0.attn.b_O  |    128     |\n",
      "| blocks.0.attn.W_K  |   16384    |\n",
      "| blocks.0.attn.W_V  |   16384    |\n",
      "| blocks.0.attn.b_K  |    128     |\n",
      "| blocks.0.attn.b_V  |    128     |\n",
      "| blocks.0.mlp.W_in  |   65536    |\n",
      "| blocks.0.mlp.b_in  |    512     |\n",
      "| blocks.0.mlp.W_out |   65536    |\n",
      "| blocks.0.mlp.b_out |    128     |\n",
      "|   blocks.1.ln1.w   |    128     |\n",
      "|   blocks.1.ln1.b   |    128     |\n",
      "|   blocks.1.ln2.w   |    128     |\n",
      "|   blocks.1.ln2.b   |    128     |\n",
      "| blocks.1.attn.W_Q  |   16384    |\n",
      "| blocks.1.attn.W_O  |   16384    |\n",
      "| blocks.1.attn.b_Q  |    128     |\n",
      "| blocks.1.attn.b_O  |    128     |\n",
      "| blocks.1.attn.W_K  |   16384    |\n",
      "| blocks.1.attn.W_V  |   16384    |\n",
      "| blocks.1.attn.b_K  |    128     |\n",
      "| blocks.1.attn.b_V  |    128     |\n",
      "| blocks.1.mlp.W_in  |   65536    |\n",
      "| blocks.1.mlp.b_in  |    512     |\n",
      "| blocks.1.mlp.W_out |   65536    |\n",
      "| blocks.1.mlp.b_out |    128     |\n",
      "|     ln_final.w     |    128     |\n",
      "|     ln_final.b     |    128     |\n",
      "|    unembed.W_U     |    2560    |\n",
      "|    unembed.b_U     |     20     |\n",
      "+--------------------+------------+\n",
      "Total Trainable Params: 406548\n"
     ]
    },
    {
     "data": {
      "text/plain": [
       "406548"
      ]
     },
     "execution_count": 11,
     "metadata": {},
     "output_type": "execute_result"
    }
   ],
   "source": [
    "trainer = TreeTrainer(conf)\n",
    "count_parameters(trainer.model)"
   ]
  },
  {
   "cell_type": "code",
   "execution_count": 12,
   "metadata": {},
   "outputs": [],
   "source": [
    "tokenizer = trainer.dataset.tokenizer\n",
    "\n",
    "tok = tokenizer.tokenize\n",
    "detok = tokenizer.detokenize\n",
    "\n",
    "\n",
    "ROOT_DELIM_TOKEN_IDX = trainer.tok([':'])[0]"
   ]
  },
  {
   "cell_type": "code",
   "execution_count": 13,
   "metadata": {},
   "outputs": [],
   "source": [
    "checkpoint_dir = create_checkpoint_dir(conf)"
   ]
  },
  {
   "cell_type": "code",
   "execution_count": 14,
   "metadata": {
    "scrolled": true
   },
   "outputs": [
    {
     "data": {
      "application/vnd.jupyter.widget-view+json": {
       "model_id": "dd58385af510499d83721384343e5f47",
       "version_major": 2,
       "version_minor": 0
      },
      "text/plain": [
       "  0%|          | 0/5000 [00:00<?, ?it/s]"
      ]
     },
     "metadata": {},
     "output_type": "display_data"
    },
    {
     "name": "stdout",
     "output_type": "stream",
     "text": [
      "****************************************************************************************************\n",
      "             1\n",
      "             |\n",
      "           +-+-+\n",
      "           |   |\n",
      "           5   0\n",
      "           |\n",
      "         +-+\n",
      "         |\n",
      "         2\n",
      "         |\n",
      "       +-+\n",
      "       |\n",
      "       7\n",
      "       |\n",
      "     +-+\n",
      "     |\n",
      "     6\n",
      "     |\n",
      "   +-+\n",
      "   |\n",
      "   4\n",
      "   |\n",
      " +-+\n",
      " |\n",
      " 3\n",
      "\n",
      "goal=0\n",
      "accuracy=0.0 gt_path=['→0'] pred_path=['→3']\n",
      "****************************************************************************************************\n",
      "Saving checkpoint_filename=Path('../checkpoints/reasoning-mech-interp__2024-04-11_20-35-40/01_2L_nodes=8__phase_trans__step=5000.pt')\n"
     ]
    },
    {
     "data": {
      "application/vnd.jupyter.widget-view+json": {
       "model_id": "a376e438bbb64ab9a5856be69dbef6c9",
       "version_major": 2,
       "version_minor": 0
      },
      "text/plain": [
       "  0%|          | 0/5000 [00:00<?, ?it/s]"
      ]
     },
     "metadata": {},
     "output_type": "display_data"
    },
    {
     "name": "stdout",
     "output_type": "stream",
     "text": [
      "****************************************************************************************************\n",
      "               1\n",
      "               |\n",
      "           +---+\n",
      "           |\n",
      "           0\n",
      "           |\n",
      "   +-------+-+\n",
      "   |         |\n",
      "   2         4\n",
      "   |\n",
      " +-+-----+\n",
      " |       |\n",
      " 6       3\n",
      "         |\n",
      "       +-+\n",
      "       |\n",
      "       5\n",
      "       |\n",
      "     +-+\n",
      "     |\n",
      "     7\n",
      "\n",
      "goal=4\n",
      "accuracy=1.0 gt_path=['→0', '→4'] pred_path=['→0', '→4']\n",
      "****************************************************************************************************\n"
     ]
    },
    {
     "ename": "KeyboardInterrupt",
     "evalue": "",
     "output_type": "error",
     "traceback": [
      "\u001b[0;31m---------------------------------------------------------------------------\u001b[0m",
      "\u001b[0;31mKeyboardInterrupt\u001b[0m                         Traceback (most recent call last)",
      "Cell \u001b[0;32mIn[14], line 15\u001b[0m\n\u001b[1;32m     12\u001b[0m     trainer\u001b[38;5;241m.\u001b[39mprint_sample_pred(sample_input_idx)\n\u001b[1;32m     14\u001b[0m trainer\u001b[38;5;241m.\u001b[39moptimizer\u001b[38;5;241m.\u001b[39mzero_grad()\n\u001b[0;32m---> 15\u001b[0m loss, metrics \u001b[38;5;241m=\u001b[39m \u001b[43mtrainer\u001b[49m\u001b[38;5;241;43m.\u001b[39;49m\u001b[43mtrain_step\u001b[49m\u001b[43m(\u001b[49m\u001b[43mbatch\u001b[49m\u001b[43m)\u001b[49m\n\u001b[1;32m     16\u001b[0m loss\u001b[38;5;241m.\u001b[39mbackward()\n\u001b[1;32m     17\u001b[0m trainer\u001b[38;5;241m.\u001b[39moptimizer\u001b[38;5;241m.\u001b[39mstep()\n",
      "File \u001b[0;32m~/src/reasoning-mech-interp/notebooks/../src/trainer.py:70\u001b[0m, in \u001b[0;36mTreeTrainer.train_step\u001b[0;34m(self, batch)\u001b[0m\n\u001b[1;32m     68\u001b[0m is_correct \u001b[38;5;241m=\u001b[39m (predictions\u001b[38;5;241m.\u001b[39margmax(dim\u001b[38;5;241m=\u001b[39m\u001b[38;5;241m-\u001b[39m\u001b[38;5;241m1\u001b[39m) \u001b[38;5;241m==\u001b[39m targets)\n\u001b[1;32m     69\u001b[0m accuracy_mean \u001b[38;5;241m=\u001b[39m is_correct\u001b[38;5;241m.\u001b[39mfloat()\u001b[38;5;241m.\u001b[39mmean()\n\u001b[0;32m---> 70\u001b[0m metrics \u001b[38;5;241m=\u001b[39m \u001b[43maccuracy_by_depth\u001b[49m\u001b[43m(\u001b[49m\u001b[43moutputs\u001b[49m\u001b[43m,\u001b[49m\u001b[43m \u001b[49m\u001b[43minput_idx\u001b[49m\u001b[43m,\u001b[49m\u001b[43m \u001b[49m\u001b[43mout_mask\u001b[49m\u001b[43m)\u001b[49m\n\u001b[1;32m     71\u001b[0m metrics[\u001b[38;5;124m'\u001b[39m\u001b[38;5;124maccuracy/mean\u001b[39m\u001b[38;5;124m'\u001b[39m] \u001b[38;5;241m=\u001b[39m accuracy_mean\u001b[38;5;241m.\u001b[39mitem()\n\u001b[1;32m     73\u001b[0m \u001b[38;5;28;01mreturn\u001b[39;00m loss, metrics\n",
      "File \u001b[0;32m~/src/reasoning-mech-interp/notebooks/../src/trainer.py:20\u001b[0m, in \u001b[0;36maccuracy_by_depth\u001b[0;34m(outputs, input_idx, out_mask)\u001b[0m\n\u001b[1;32m     17\u001b[0m     is_path_correct \u001b[38;5;241m=\u001b[39m (pred_row[row_mask] \u001b[38;5;241m==\u001b[39m gt_row[row_mask])\u001b[38;5;241m.\u001b[39mall()\n\u001b[1;32m     18\u001b[0m     depth \u001b[38;5;241m=\u001b[39m row_mask\u001b[38;5;241m.\u001b[39msum()\n\u001b[0;32m---> 20\u001b[0m     metrics\u001b[38;5;241m.\u001b[39mappend({\u001b[38;5;124m'\u001b[39m\u001b[38;5;124mis_path_correct\u001b[39m\u001b[38;5;124m'\u001b[39m: \u001b[43mis_path_correct\u001b[49m\u001b[38;5;241;43m.\u001b[39;49m\u001b[43mitem\u001b[49m\u001b[43m(\u001b[49m\u001b[43m)\u001b[49m, \u001b[38;5;124m'\u001b[39m\u001b[38;5;124mdepth\u001b[39m\u001b[38;5;124m'\u001b[39m: depth\u001b[38;5;241m.\u001b[39mitem()})\n\u001b[1;32m     23\u001b[0m accuracy_by_goal_depth \u001b[38;5;241m=\u001b[39m pd\u001b[38;5;241m.\u001b[39mDataFrame(metrics)\u001b[38;5;241m.\u001b[39mgroupby(\u001b[38;5;124m'\u001b[39m\u001b[38;5;124mdepth\u001b[39m\u001b[38;5;124m'\u001b[39m)[\u001b[38;5;124m'\u001b[39m\u001b[38;5;124mis_path_correct\u001b[39m\u001b[38;5;124m'\u001b[39m]\u001b[38;5;241m.\u001b[39mmean()\u001b[38;5;241m.\u001b[39mto_dict()\n\u001b[1;32m     26\u001b[0m accuracy_by_goal_depth \u001b[38;5;241m=\u001b[39m {\u001b[38;5;124mf\u001b[39m\u001b[38;5;124m'\u001b[39m\u001b[38;5;124macc/depth=\u001b[39m\u001b[38;5;132;01m{\u001b[39;00md\u001b[38;5;132;01m}\u001b[39;00m\u001b[38;5;124m'\u001b[39m:v \u001b[38;5;28;01mfor\u001b[39;00m d,v \u001b[38;5;129;01min\u001b[39;00m accuracy_by_goal_depth\u001b[38;5;241m.\u001b[39mitems()}\n",
      "\u001b[0;31mKeyboardInterrupt\u001b[0m: "
     ]
    }
   ],
   "source": [
    "global_step = 0\n",
    "epoch_i = 0\n",
    "\n",
    "\n",
    "while True:\n",
    "\n",
    "    pbar = tqdm(list(range(conf.epoch_len_steps)))\n",
    "\n",
    "    for i, batch in zip(pbar, trainer.dataloader):\n",
    "        if i == 0:\n",
    "            sample_input_idx = batch['input_idx'][0]\n",
    "            trainer.print_sample_pred(sample_input_idx)\n",
    "    \n",
    "        trainer.optimizer.zero_grad()\n",
    "        loss, metrics = trainer.train_step(batch)\n",
    "        loss.backward()\n",
    "        trainer.optimizer.step()\n",
    "        \n",
    "        # pbar.update()\n",
    "        pbar.set_description(f'loss={float(loss):.3f}')\n",
    "        if USE_WANDB:\n",
    "            wandb.log({'loss': loss, **metrics})\n",
    "\n",
    "        global_step += 1\n",
    "\n",
    "    epoch_i += 1\n",
    "\n",
    "    if epoch_i % conf['checkpoint_every_epoch'] == 0:\n",
    "        checkpoint_filename = checkpoint_dir/f'{conf[\"wandb\"][\"name\"]}__step={global_step}.pt'\n",
    "        print(f'Saving {checkpoint_filename=}')\n",
    "        torch.save(trainer.model.state_dict(), checkpoint_filename)\n",
    "    \n",
    "    if conf.get('max_iters', False) and global_step > conf.get('max_iters'):\n",
    "        break\n",
    "\n",
    "    "
   ]
  },
  {
   "cell_type": "code",
   "execution_count": null,
   "metadata": {},
   "outputs": [],
   "source": []
  },
  {
   "cell_type": "code",
   "execution_count": null,
   "metadata": {},
   "outputs": [],
   "source": []
  },
  {
   "cell_type": "markdown",
   "metadata": {},
   "source": [
    "## Debug on custom input"
   ]
  },
  {
   "cell_type": "code",
   "execution_count": null,
   "metadata": {},
   "outputs": [],
   "source": [
    "for batch in trainer.dataloader:\n",
    "    print(parse_input_idx(batch['input_idx'][0], trainer.dataset.tokenizer)['tree'])\n",
    "    break"
   ]
  },
  {
   "cell_type": "code",
   "execution_count": null,
   "metadata": {},
   "outputs": [],
   "source": [
    "with torch.inference_mode():\n",
    "    locc, accuracy = trainer.train_step(batch)"
   ]
  },
  {
   "cell_type": "code",
   "execution_count": null,
   "metadata": {},
   "outputs": [],
   "source": []
  },
  {
   "cell_type": "code",
   "execution_count": null,
   "metadata": {},
   "outputs": [],
   "source": [
    "input_idx_custom = batch['input_idx'][0]\n",
    "\n",
    "\n",
    "parsed_input = parse_input_idx(input_idx_custom, trainer.dataset.tokenizer)\n",
    "parsed_input"
   ]
  },
  {
   "cell_type": "code",
   "execution_count": null,
   "metadata": {},
   "outputs": [],
   "source": []
  },
  {
   "cell_type": "code",
   "execution_count": null,
   "metadata": {},
   "outputs": [],
   "source": []
  },
  {
   "cell_type": "code",
   "execution_count": null,
   "metadata": {},
   "outputs": [],
   "source": []
  },
  {
   "cell_type": "code",
   "execution_count": null,
   "metadata": {},
   "outputs": [],
   "source": [
    "upper_task_bound = input_idx_custom.tolist().index(ROOT_DELIM_TOKEN_IDX) + 2\n",
    "prompt_autoregressive = detok(input_idx_custom)[:upper_task_bound]\n",
    "prompt = prompt_autoregressive\n",
    "print(prompt)"
   ]
  },
  {
   "cell_type": "code",
   "execution_count": null,
   "metadata": {},
   "outputs": [],
   "source": [
    "new_token = inference_on_prompt(prompt)\n",
    "prompt += [new_token]\n",
    "print(prompt)"
   ]
  },
  {
   "cell_type": "code",
   "execution_count": null,
   "metadata": {},
   "outputs": [],
   "source": [
    "softmax_probs.shape"
   ]
  },
  {
   "cell_type": "code",
   "execution_count": null,
   "metadata": {},
   "outputs": [],
   "source": [
    "softmax_probs = preds[0][mask[0]].softmax(dim=-1).detach().cpu().numpy()\n",
    "\n",
    "# Plotting softmax probabilities as a heatmap\n",
    "plt.figure(figsize=(10, 8))\n",
    "sns.heatmap(softmax_probs, annot=True, cmap='coolwarm', fmt=\".2f\")\n",
    "plt.title(\"Softmax Probabilities Heatmap\")\n",
    "plt.xlabel(\"Classes\")\n",
    "plt.ylabel(\"Instances\")\n",
    "plt.show()"
   ]
  },
  {
   "cell_type": "code",
   "execution_count": null,
   "metadata": {},
   "outputs": [],
   "source": [
    "input_idx_autoregressive"
   ]
  },
  {
   "cell_type": "code",
   "execution_count": null,
   "metadata": {},
   "outputs": [],
   "source": [
    "preds = trainer.model(input_idx)"
   ]
  },
  {
   "cell_type": "code",
   "execution_count": null,
   "metadata": {},
   "outputs": [],
   "source": []
  },
  {
   "cell_type": "code",
   "execution_count": null,
   "metadata": {},
   "outputs": [],
   "source": [
    "detok(input_idx[0][mask[0]])"
   ]
  },
  {
   "cell_type": "code",
   "execution_count": null,
   "metadata": {},
   "outputs": [],
   "source": []
  },
  {
   "cell_type": "code",
   "execution_count": null,
   "metadata": {},
   "outputs": [],
   "source": [
    "batch['input_idx'][:1]"
   ]
  },
  {
   "cell_type": "code",
   "execution_count": null,
   "metadata": {},
   "outputs": [],
   "source": [
    "accuracy"
   ]
  },
  {
   "cell_type": "code",
   "execution_count": null,
   "metadata": {},
   "outputs": [],
   "source": []
  },
  {
   "cell_type": "code",
   "execution_count": null,
   "metadata": {},
   "outputs": [],
   "source": [
    "\n",
    "\n",
    "\n",
    "\n",
    "custom_tree = list2tree([0, 1, 2, None, None, 3])\n",
    "custom_tree"
   ]
  },
  {
   "cell_type": "code",
   "execution_count": null,
   "metadata": {},
   "outputs": [],
   "source": [
    "prompt_tokens, path_tokens = tree2tokens(custom_tree)\n",
    "prompt_tokens"
   ]
  },
  {
   "cell_type": "code",
   "execution_count": null,
   "metadata": {},
   "outputs": [],
   "source": [
    "self = trainer.dataset\n",
    "prompt_idx = self.tokenizer(prompt_tokens)\n",
    "path_idx = self.tokenizer(path_tokens)\n",
    "\n",
    "input_tokens = prompt_idx + path_idx\n",
    "pad_len = self.tokenizer.MAX_SEQ_LEN - len(input_tokens)\n",
    "\n",
    "input_idx = torch.tensor(input_tokens + [0] * pad_len)\n",
    "# pad_mask = torch.zeros(self.tokenizer.MAX_SEQ_LEN)\n",
    "# pad_mask[:len(input_idx)] = 1\n",
    "\n",
    "task_mask = torch.zeros(self.tokenizer.MAX_SEQ_LEN, dtype=torch.bool)\n",
    "task_mask[len(prompt_idx):len(input_tokens)] = True"
   ]
  },
  {
   "cell_type": "code",
   "execution_count": null,
   "metadata": {},
   "outputs": [],
   "source": [
    "trainer.model(input_idx).argmax(dim=-1)"
   ]
  },
  {
   "cell_type": "code",
   "execution_count": null,
   "metadata": {},
   "outputs": [],
   "source": [
    "custom_input = ['0', ',', '→2', '0', ',', '→1', '1', ',', '→3', '|', '0', ':', '3', '→1', '→3']\n",
    "tok(custom_input)"
   ]
  },
  {
   "cell_type": "code",
   "execution_count": null,
   "metadata": {},
   "outputs": [],
   "source": [
    "custom_batch = {\n",
    "                'input_idx': input_idx[None],\n",
    "                'task_mask': task_mask[None],\n",
    "                # 'pad_mask': pad_mask,\n",
    "            }"
   ]
  },
  {
   "cell_type": "code",
   "execution_count": null,
   "metadata": {},
   "outputs": [],
   "source": [
    "print_preds(custom_batch)"
   ]
  },
  {
   "cell_type": "code",
   "execution_count": null,
   "metadata": {},
   "outputs": [],
   "source": [
    "input_idx = custom_batch['input_idx'].to(device)\n",
    "mask = batch['task_mask'].to(device)\n",
    "\n",
    "preds = trainer.model(custom_batch['input_idx'][:, :])"
   ]
  },
  {
   "cell_type": "code",
   "execution_count": null,
   "metadata": {},
   "outputs": [],
   "source": []
  },
  {
   "cell_type": "code",
   "execution_count": null,
   "metadata": {},
   "outputs": [],
   "source": [
    "detok(preds.argmax(dim=-1)[0])"
   ]
  },
  {
   "cell_type": "code",
   "execution_count": null,
   "metadata": {},
   "outputs": [],
   "source": [
    "tree_to_edges(parsed_input['tree'])"
   ]
  },
  {
   "cell_type": "code",
   "execution_count": null,
   "metadata": {},
   "outputs": [],
   "source": [
    "input_idx = batch['input_idx'].to(device)\n",
    "mask = batch['task_mask'].to(device)"
   ]
  },
  {
   "cell_type": "code",
   "execution_count": null,
   "metadata": {},
   "outputs": [],
   "source": [
    "logits, cache = trainer.model.run_with_cache(input_idx[:1])"
   ]
  },
  {
   "cell_type": "code",
   "execution_count": null,
   "metadata": {},
   "outputs": [],
   "source": [
    "# pip install circuitsvis"
   ]
  },
  {
   "cell_type": "code",
   "execution_count": null,
   "metadata": {},
   "outputs": [],
   "source": [
    "import circuitsvis as cv"
   ]
  },
  {
   "cell_type": "code",
   "execution_count": null,
   "metadata": {},
   "outputs": [],
   "source": [
    "# ! pip install webbrowser"
   ]
  },
  {
   "cell_type": "code",
   "execution_count": null,
   "metadata": {},
   "outputs": [],
   "source": [
    "# path = \"attn_heads.html\"\n",
    "\n",
    "# with open(path, \"w\") as f:\n",
    "#     f.write(str(attn_heads))\n",
    "\n",
    "# webbrowser.open(path)\n"
   ]
  },
  {
   "cell_type": "code",
   "execution_count": null,
   "metadata": {},
   "outputs": [],
   "source": [
    "parse_input_idx((input_idx[0]), tokenizer)[:0]"
   ]
  },
  {
   "cell_type": "code",
   "execution_count": null,
   "metadata": {},
   "outputs": [],
   "source": [
    "print(type(cache))\n",
    "attention_pattern = cache[\"pattern\", 0]\n",
    "print(attention_pattern.shape)\n",
    "str_tokens = detok (input_idx[0].cpu())\n",
    "\n",
    "print(\"Layer 0 Head Attention Patterns:\")\n",
    "attn_heads = (cv.attention.attention_patterns(\n",
    "    tokens=str_tokens,\n",
    "    attention=attention_pattern[0],\n",
    "    attention_head_names=[f\"L0H{i}\" for i in range(1)],\n",
    "))\n",
    "\n",
    "\n",
    "attn_heads"
   ]
  },
  {
   "cell_type": "code",
   "execution_count": null,
   "metadata": {},
   "outputs": [],
   "source": [
    "attention_pattern.shape"
   ]
  },
  {
   "cell_type": "code",
   "execution_count": null,
   "metadata": {},
   "outputs": [],
   "source": [
    "%pip install git+https://github.com/callummcdougall/CircuitsVis.git#subdirectory=python"
   ]
  },
  {
   "cell_type": "code",
   "execution_count": null,
   "metadata": {},
   "outputs": [],
   "source": [
    "path = \"attn_heads.html\"\n",
    "\n",
    "with open(path, \"w\") as f:\n",
    "    f.write(str(attn_heads))"
   ]
  },
  {
   "cell_type": "code",
   "execution_count": null,
   "metadata": {},
   "outputs": [],
   "source": [
    "cv.__version__"
   ]
  },
  {
   "cell_type": "code",
   "execution_count": null,
   "metadata": {},
   "outputs": [],
   "source": [
    "wandb.log({\"custom_file\": wandb.Html(open(path))})"
   ]
  },
  {
   "cell_type": "code",
   "execution_count": null,
   "metadata": {},
   "outputs": [],
   "source": [
    "! python --version"
   ]
  },
  {
   "cell_type": "code",
   "execution_count": null,
   "metadata": {},
   "outputs": [],
   "source": [
    "display(attn_heads)"
   ]
  },
  {
   "cell_type": "code",
   "execution_count": null,
   "metadata": {},
   "outputs": [],
   "source": [
    "# Python Example\n",
    "from circuitsvis.tokens import colored_tokens\n",
    "colored_tokens([\"My\", \"tokens\"], [0.123, -0.226])"
   ]
  },
  {
   "cell_type": "code",
   "execution_count": null,
   "metadata": {},
   "outputs": [],
   "source": []
  }
 ],
 "metadata": {
  "kernelspec": {
   "display_name": "Python 3 (ipykernel)",
   "language": "python",
   "name": "python3"
  },
  "language_info": {
   "codemirror_mode": {
    "name": "ipython",
    "version": 3
   },
   "file_extension": ".py",
   "mimetype": "text/x-python",
   "name": "python",
   "nbconvert_exporter": "python",
   "pygments_lexer": "ipython3",
   "version": "3.11.4"
  }
 },
 "nbformat": 4,
 "nbformat_minor": 4
}
