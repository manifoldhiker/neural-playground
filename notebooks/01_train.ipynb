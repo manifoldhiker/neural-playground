{
 "cells": [
  {
   "cell_type": "code",
   "execution_count": 1,
   "metadata": {},
   "outputs": [],
   "source": [
    "import sys; sys.path.append('..')"
   ]
  },
  {
   "cell_type": "code",
   "execution_count": 2,
   "metadata": {},
   "outputs": [],
   "source": [
    "import torch\n",
    "import torch.nn.functional as F\n",
    "from torch.utils.data import DataLoader"
   ]
  },
  {
   "cell_type": "code",
   "execution_count": 3,
   "metadata": {},
   "outputs": [],
   "source": [
    "from src.tree_dataset import TreeDataset\n",
    "from src.tree_dataset import parse_input_idx"
   ]
  },
  {
   "cell_type": "code",
   "execution_count": 4,
   "metadata": {},
   "outputs": [],
   "source": [
    "from transformer_lens import HookedTransformer, HookedTransformerConfig"
   ]
  },
  {
   "cell_type": "code",
   "execution_count": 5,
   "metadata": {},
   "outputs": [],
   "source": [
    "import wandb"
   ]
  },
  {
   "cell_type": "code",
   "execution_count": 6,
   "metadata": {},
   "outputs": [
    {
     "name": "stdout",
     "output_type": "stream",
     "text": [
      "n_nodes: 4\n",
      "model:\n",
      "  d_model: 128\n",
      "  d_head: 128\n",
      "  n_layers: 1\n",
      "  act_fn: relu\n",
      "  attention_dir: causal\n",
      "optimizer:\n",
      "  lr: 0.001\n",
      "  weight_decay: 0.001\n",
      "batch_size: 64\n",
      "device: mps\n",
      "epoch_len_steps: 500\n",
      "debug: false\n",
      "use_wandb: true\n",
      "wandb:\n",
      "  project: reasoning-mech-interp\n",
      "  name: 00_1L_nodes=4\n",
      "max_iters: null\n",
      "\n"
     ]
    }
   ],
   "source": [
    "from omegaconf import OmegaConf\n",
    "\n",
    "conf = OmegaConf.create({\n",
    "    \"n_nodes\" : 4,\n",
    "    \"model\": {\n",
    "        \"d_model\": 128,\n",
    "        \"d_head\": 128,\n",
    "        \"n_layers\": 1,\n",
    "        \"act_fn\": 'relu',\n",
    "        'attention_dir': 'causal',\n",
    "    },\n",
    "\n",
    "    \"optimizer\": {\n",
    "        \"lr\": 1e-3,\n",
    "        \"weight_decay\": 1e-3,\n",
    "    },\n",
    "\n",
    "    \"batch_size\": 64,\n",
    "    \"device\": \"mps\",\n",
    "    \"epoch_len_steps\": 500,\n",
    "    \"debug\": False,\n",
    "    \"use_wandb\": True,\n",
    "    \"wandb\": {\n",
    "        \"project\": \"reasoning-mech-interp\",\n",
    "        \"name\": \"00_1L_nodes=4\"\n",
    "    },\n",
    "    \"max_iters\": None\n",
    "})\n",
    "\n",
    "USE_WANDB = conf.use_wandb\n",
    "device = conf.device\n",
    "\n",
    "print(OmegaConf.to_yaml(conf))"
   ]
  },
  {
   "cell_type": "code",
   "execution_count": 7,
   "metadata": {},
   "outputs": [
    {
     "name": "stderr",
     "output_type": "stream",
     "text": [
      "\u001b[34m\u001b[1mwandb\u001b[0m: Currently logged in as: \u001b[33mkilianovski\u001b[0m. Use \u001b[1m`wandb login --relogin`\u001b[0m to force relogin\n"
     ]
    },
    {
     "data": {
      "text/html": [
       "Tracking run with wandb version 0.16.6"
      ],
      "text/plain": [
       "<IPython.core.display.HTML object>"
      ]
     },
     "metadata": {},
     "output_type": "display_data"
    },
    {
     "data": {
      "text/html": [
       "Run data is saved locally in <code>/Users/mykhailokilianovskyi/src/reasoning-mech-interp/notebooks/wandb/run-20240410_142713-p1f5eaxr</code>"
      ],
      "text/plain": [
       "<IPython.core.display.HTML object>"
      ]
     },
     "metadata": {},
     "output_type": "display_data"
    },
    {
     "data": {
      "text/html": [
       "Syncing run <strong><a href='https://wandb.ai/kilianovski/reasoning-mech-interp/runs/p1f5eaxr' target=\"_blank\">00_1L_nodes=4</a></strong> to <a href='https://wandb.ai/kilianovski/reasoning-mech-interp' target=\"_blank\">Weights & Biases</a> (<a href='https://wandb.me/run' target=\"_blank\">docs</a>)<br/>"
      ],
      "text/plain": [
       "<IPython.core.display.HTML object>"
      ]
     },
     "metadata": {},
     "output_type": "display_data"
    },
    {
     "data": {
      "text/html": [
       " View project at <a href='https://wandb.ai/kilianovski/reasoning-mech-interp' target=\"_blank\">https://wandb.ai/kilianovski/reasoning-mech-interp</a>"
      ],
      "text/plain": [
       "<IPython.core.display.HTML object>"
      ]
     },
     "metadata": {},
     "output_type": "display_data"
    },
    {
     "data": {
      "text/html": [
       " View run at <a href='https://wandb.ai/kilianovski/reasoning-mech-interp/runs/p1f5eaxr' target=\"_blank\">https://wandb.ai/kilianovski/reasoning-mech-interp/runs/p1f5eaxr</a>"
      ],
      "text/plain": [
       "<IPython.core.display.HTML object>"
      ]
     },
     "metadata": {},
     "output_type": "display_data"
    }
   ],
   "source": [
    "if USE_WANDB:\n",
    "    wandb.init(project=conf.wandb.project, name=conf.wandb.name, config=OmegaConf.to_object(conf))"
   ]
  },
  {
   "cell_type": "code",
   "execution_count": 8,
   "metadata": {},
   "outputs": [],
   "source": [
    "class TreeTrainer:\n",
    "    def __init__(self, conf):\n",
    "        dataset = TreeDataset(conf.n_nodes)\n",
    "        self.dataset = dataset\n",
    "        self.dataloader = DataLoader(dataset, batch_size=conf['batch_size'])\n",
    "\n",
    "        conf.model[\"n_ctx\"] = dataset.tokenizer.MAX_SEQ_LEN\n",
    "        conf.model[\"d_vocab\"] = len(dataset.tokenizer.token2idx)\n",
    "        \n",
    "        model_cfg = HookedTransformerConfig(\n",
    "            **conf.model\n",
    "        )\n",
    "        \n",
    "        device = conf.device\n",
    "        self.device = device\n",
    "\n",
    "        self.model = HookedTransformer(model_cfg).to(device)\n",
    "        self.optimizer = torch.optim.AdamW(self.model.parameters(), **conf.optimizer)\n",
    "\n",
    "\n",
    "    def train_step(self, batch):\n",
    "        input_idx = batch['input_idx'].to(device)\n",
    "        mask = batch['task_mask'].to(device)\n",
    "        \n",
    "        inputs = input_idx[:, :-1]\n",
    "        \n",
    "        out_mask = mask[:, 1:]\n",
    "        targets = input_idx[:, 1:][out_mask]\n",
    "        \n",
    "        \n",
    "        # print(input_idx[:1, :4])\n",
    "        outputs = self.model(inputs)\n",
    "        \n",
    "        predictions = outputs[out_mask]\n",
    "        \n",
    "        loss = F.cross_entropy(predictions, targets)\n",
    "        accuracy = (predictions.argmax(dim=-1) == targets).float().mean()\n",
    "        return loss, accuracy"
   ]
  },
  {
   "cell_type": "code",
   "execution_count": 9,
   "metadata": {},
   "outputs": [
    {
     "name": "stdout",
     "output_type": "stream",
     "text": [
      "Moving model to device:  mps\n"
     ]
    }
   ],
   "source": [
    "trainer = TreeTrainer(conf)"
   ]
  },
  {
   "cell_type": "code",
   "execution_count": 10,
   "metadata": {},
   "outputs": [],
   "source": [
    "tokenizer = trainer.dataset.tokenizer\n",
    "\n",
    "tok = tokenizer.tokenize\n",
    "detok = tokenizer.detokenize\n",
    "\n",
    "def print_preds(batch, i=0):\n",
    "    input_idx = batch['input_idx'].to(device)\n",
    "    mask = batch['task_mask'].to(device)\n",
    "\n",
    "    preds = trainer.model(input_idx)\n",
    "\n",
    "    parsed_input = parse_input_idx(input_idx[i], tokenizer)\n",
    "    print(parsed_input['tree'])\n",
    "    print(f'goal: {parsed_input[\"goal\"]}')\n",
    "    print(f'true path = {detok(input_idx[i][mask[i]])}, predicted path = {detok(preds[i][mask[i]].argmax(dim=-1))}')\n"
   ]
  },
  {
   "cell_type": "code",
   "execution_count": 11,
   "metadata": {},
   "outputs": [],
   "source": [
    "from tqdm.auto import tqdm"
   ]
  },
  {
   "cell_type": "code",
   "execution_count": 12,
   "metadata": {},
   "outputs": [
    {
     "data": {
      "application/vnd.jupyter.widget-view+json": {
       "model_id": "3412d3a389184fa3a24f973018d7e10c",
       "version_major": 2,
       "version_minor": 0
      },
      "text/plain": [
       "  0%|          | 0/500 [00:00<?, ?it/s]"
      ]
     },
     "metadata": {},
     "output_type": "display_data"
    },
    {
     "name": "stdout",
     "output_type": "stream",
     "text": [
      "     1\n",
      "     |\n",
      "   +-+-+\n",
      "   |   |\n",
      "   3   0\n",
      "   |\n",
      " +-+\n",
      " |\n",
      " 2\n",
      "goal: 2\n",
      "true path = ['→3', '→2'], predicted path = ['|', '2']\n"
     ]
    },
    {
     "data": {
      "application/vnd.jupyter.widget-view+json": {
       "model_id": "6a04e478277c4dc8ad8fef821d7cbb42",
       "version_major": 2,
       "version_minor": 0
      },
      "text/plain": [
       "  0%|          | 0/500 [00:00<?, ?it/s]"
      ]
     },
     "metadata": {},
     "output_type": "display_data"
    },
    {
     "name": "stdout",
     "output_type": "stream",
     "text": [
      "       1\n",
      "       |\n",
      "   +---+\n",
      "   |\n",
      "   0\n",
      "   |\n",
      " +-+-+\n",
      " |   |\n",
      " 2   3\n",
      "goal: 3\n",
      "true path = ['→0', '→3'], predicted path = ['→2', '→2']\n"
     ]
    },
    {
     "data": {
      "application/vnd.jupyter.widget-view+json": {
       "model_id": "9b1941db9f084affb852e2a5e36a62b5",
       "version_major": 2,
       "version_minor": 0
      },
      "text/plain": [
       "  0%|          | 0/500 [00:00<?, ?it/s]"
      ]
     },
     "metadata": {},
     "output_type": "display_data"
    },
    {
     "name": "stdout",
     "output_type": "stream",
     "text": [
      "   0\n",
      "   |\n",
      " +-+---+\n",
      " |     |\n",
      " 2     1\n",
      "       |\n",
      "     +-+\n",
      "     |\n",
      "     3\n",
      "goal: 3\n",
      "true path = ['→1', '→3'], predicted path = ['→3', '→2']\n"
     ]
    },
    {
     "data": {
      "application/vnd.jupyter.widget-view+json": {
       "model_id": "be57a6c4c7614d96bd26effa96103baf",
       "version_major": 2,
       "version_minor": 0
      },
      "text/plain": [
       "  0%|          | 0/500 [00:00<?, ?it/s]"
      ]
     },
     "metadata": {},
     "output_type": "display_data"
    },
    {
     "name": "stdout",
     "output_type": "stream",
     "text": [
      "       1\n",
      "       |\n",
      "   +---+\n",
      "   |\n",
      "   0\n",
      "   |\n",
      " +-+-+\n",
      " |   |\n",
      " 3   2\n",
      "goal: 2\n",
      "true path = ['→0', '→2'], predicted path = ['→2', '→3']\n"
     ]
    },
    {
     "data": {
      "application/vnd.jupyter.widget-view+json": {
       "model_id": "3d91222a623c4b99bca59000c0295ea5",
       "version_major": 2,
       "version_minor": 0
      },
      "text/plain": [
       "  0%|          | 0/500 [00:00<?, ?it/s]"
      ]
     },
     "metadata": {},
     "output_type": "display_data"
    },
    {
     "name": "stdout",
     "output_type": "stream",
     "text": [
      "     1\n",
      "     |\n",
      "   +-+-+\n",
      "   |   |\n",
      "   0   2\n",
      "   |\n",
      " +-+\n",
      " |\n",
      " 3\n",
      "goal: 3\n",
      "true path = ['→0', '→3'], predicted path = ['→3', '→2']\n"
     ]
    },
    {
     "data": {
      "application/vnd.jupyter.widget-view+json": {
       "model_id": "30b9cd44e4ce4429852ad38fe98eb294",
       "version_major": 2,
       "version_minor": 0
      },
      "text/plain": [
       "  0%|          | 0/500 [00:00<?, ?it/s]"
      ]
     },
     "metadata": {},
     "output_type": "display_data"
    },
    {
     "name": "stdout",
     "output_type": "stream",
     "text": [
      "     2\n",
      "     |\n",
      "   +-+-+\n",
      "   |   |\n",
      "   1   0\n",
      "   |\n",
      " +-+\n",
      " |\n",
      " 3\n",
      "goal: 0\n",
      "true path = ['→0'], predicted path = ['→1']\n"
     ]
    },
    {
     "data": {
      "application/vnd.jupyter.widget-view+json": {
       "model_id": "b73185b331f64e70985dc69dc4055278",
       "version_major": 2,
       "version_minor": 0
      },
      "text/plain": [
       "  0%|          | 0/500 [00:00<?, ?it/s]"
      ]
     },
     "metadata": {},
     "output_type": "display_data"
    },
    {
     "name": "stdout",
     "output_type": "stream",
     "text": [
      "     0\n",
      "     |\n",
      "   +-+-+\n",
      "   |   |\n",
      "   1   3\n",
      "   |\n",
      " +-+\n",
      " |\n",
      " 2\n",
      "goal: 3\n",
      "true path = ['→3'], predicted path = ['→1']\n"
     ]
    },
    {
     "data": {
      "application/vnd.jupyter.widget-view+json": {
       "model_id": "098555974b2e430f85c33435854ac8e9",
       "version_major": 2,
       "version_minor": 0
      },
      "text/plain": [
       "  0%|          | 0/500 [00:00<?, ?it/s]"
      ]
     },
     "metadata": {},
     "output_type": "display_data"
    },
    {
     "name": "stdout",
     "output_type": "stream",
     "text": [
      "     2\n",
      "     |\n",
      "   +-+-+\n",
      "   |   |\n",
      "   3   0\n",
      "   |\n",
      " +-+\n",
      " |\n",
      " 1\n",
      "goal: 1\n",
      "true path = ['→3', '→1'], predicted path = ['→1', '→0']\n"
     ]
    },
    {
     "data": {
      "application/vnd.jupyter.widget-view+json": {
       "model_id": "71e18a7c0b8b461b95f18065920a04b5",
       "version_major": 2,
       "version_minor": 0
      },
      "text/plain": [
       "  0%|          | 0/500 [00:00<?, ?it/s]"
      ]
     },
     "metadata": {},
     "output_type": "display_data"
    },
    {
     "name": "stdout",
     "output_type": "stream",
     "text": [
      "       0\n",
      "       |\n",
      "     +-+\n",
      "     |\n",
      "     3\n",
      "     |\n",
      "   +-+\n",
      "   |\n",
      "   1\n",
      "   |\n",
      " +-+\n",
      " |\n",
      " 2\n",
      "goal: 2\n",
      "true path = ['→3', '→1', '→2'], predicted path = ['→1', '→2', '→1']\n"
     ]
    },
    {
     "ename": "KeyboardInterrupt",
     "evalue": "",
     "output_type": "error",
     "traceback": [
      "\u001b[0;31m---------------------------------------------------------------------------\u001b[0m",
      "\u001b[0;31mKeyboardInterrupt\u001b[0m                         Traceback (most recent call last)",
      "Cell \u001b[0;32mIn[12], line 15\u001b[0m\n\u001b[1;32m     13\u001b[0m trainer\u001b[38;5;241m.\u001b[39moptimizer\u001b[38;5;241m.\u001b[39mzero_grad()\n\u001b[1;32m     14\u001b[0m loss, accuracy \u001b[38;5;241m=\u001b[39m trainer\u001b[38;5;241m.\u001b[39mtrain_step(batch)\n\u001b[0;32m---> 15\u001b[0m \u001b[43mloss\u001b[49m\u001b[38;5;241;43m.\u001b[39;49m\u001b[43mbackward\u001b[49m\u001b[43m(\u001b[49m\u001b[43m)\u001b[49m\n\u001b[1;32m     16\u001b[0m trainer\u001b[38;5;241m.\u001b[39moptimizer\u001b[38;5;241m.\u001b[39mstep()\n\u001b[1;32m     18\u001b[0m \u001b[38;5;66;03m# pbar.update()\u001b[39;00m\n",
      "File \u001b[0;32m~/miniconda3/lib/python3.11/site-packages/torch/_tensor.py:487\u001b[0m, in \u001b[0;36mTensor.backward\u001b[0;34m(self, gradient, retain_graph, create_graph, inputs)\u001b[0m\n\u001b[1;32m    477\u001b[0m \u001b[38;5;28;01mif\u001b[39;00m has_torch_function_unary(\u001b[38;5;28mself\u001b[39m):\n\u001b[1;32m    478\u001b[0m     \u001b[38;5;28;01mreturn\u001b[39;00m handle_torch_function(\n\u001b[1;32m    479\u001b[0m         Tensor\u001b[38;5;241m.\u001b[39mbackward,\n\u001b[1;32m    480\u001b[0m         (\u001b[38;5;28mself\u001b[39m,),\n\u001b[0;32m   (...)\u001b[0m\n\u001b[1;32m    485\u001b[0m         inputs\u001b[38;5;241m=\u001b[39minputs,\n\u001b[1;32m    486\u001b[0m     )\n\u001b[0;32m--> 487\u001b[0m \u001b[43mtorch\u001b[49m\u001b[38;5;241;43m.\u001b[39;49m\u001b[43mautograd\u001b[49m\u001b[38;5;241;43m.\u001b[39;49m\u001b[43mbackward\u001b[49m\u001b[43m(\u001b[49m\n\u001b[1;32m    488\u001b[0m \u001b[43m    \u001b[49m\u001b[38;5;28;43mself\u001b[39;49m\u001b[43m,\u001b[49m\u001b[43m \u001b[49m\u001b[43mgradient\u001b[49m\u001b[43m,\u001b[49m\u001b[43m \u001b[49m\u001b[43mretain_graph\u001b[49m\u001b[43m,\u001b[49m\u001b[43m \u001b[49m\u001b[43mcreate_graph\u001b[49m\u001b[43m,\u001b[49m\u001b[43m \u001b[49m\u001b[43minputs\u001b[49m\u001b[38;5;241;43m=\u001b[39;49m\u001b[43minputs\u001b[49m\n\u001b[1;32m    489\u001b[0m \u001b[43m\u001b[49m\u001b[43m)\u001b[49m\n",
      "File \u001b[0;32m~/miniconda3/lib/python3.11/site-packages/torch/autograd/__init__.py:200\u001b[0m, in \u001b[0;36mbackward\u001b[0;34m(tensors, grad_tensors, retain_graph, create_graph, grad_variables, inputs)\u001b[0m\n\u001b[1;32m    195\u001b[0m     retain_graph \u001b[38;5;241m=\u001b[39m create_graph\n\u001b[1;32m    197\u001b[0m \u001b[38;5;66;03m# The reason we repeat same the comment below is that\u001b[39;00m\n\u001b[1;32m    198\u001b[0m \u001b[38;5;66;03m# some Python versions print out the first line of a multi-line function\u001b[39;00m\n\u001b[1;32m    199\u001b[0m \u001b[38;5;66;03m# calls in the traceback and some print out the last line\u001b[39;00m\n\u001b[0;32m--> 200\u001b[0m \u001b[43mVariable\u001b[49m\u001b[38;5;241;43m.\u001b[39;49m\u001b[43m_execution_engine\u001b[49m\u001b[38;5;241;43m.\u001b[39;49m\u001b[43mrun_backward\u001b[49m\u001b[43m(\u001b[49m\u001b[43m  \u001b[49m\u001b[38;5;66;43;03m# Calls into the C++ engine to run the backward pass\u001b[39;49;00m\n\u001b[1;32m    201\u001b[0m \u001b[43m    \u001b[49m\u001b[43mtensors\u001b[49m\u001b[43m,\u001b[49m\u001b[43m \u001b[49m\u001b[43mgrad_tensors_\u001b[49m\u001b[43m,\u001b[49m\u001b[43m \u001b[49m\u001b[43mretain_graph\u001b[49m\u001b[43m,\u001b[49m\u001b[43m \u001b[49m\u001b[43mcreate_graph\u001b[49m\u001b[43m,\u001b[49m\u001b[43m \u001b[49m\u001b[43minputs\u001b[49m\u001b[43m,\u001b[49m\n\u001b[1;32m    202\u001b[0m \u001b[43m    \u001b[49m\u001b[43mallow_unreachable\u001b[49m\u001b[38;5;241;43m=\u001b[39;49m\u001b[38;5;28;43;01mTrue\u001b[39;49;00m\u001b[43m,\u001b[49m\u001b[43m \u001b[49m\u001b[43maccumulate_grad\u001b[49m\u001b[38;5;241;43m=\u001b[39;49m\u001b[38;5;28;43;01mTrue\u001b[39;49;00m\u001b[43m)\u001b[49m\n",
      "\u001b[0;31mKeyboardInterrupt\u001b[0m: "
     ]
    }
   ],
   "source": [
    "global_step = 0\n",
    "\n",
    "\n",
    "\n",
    "while True:\n",
    "\n",
    "    pbar = tqdm(list(range(conf.epoch_len_steps)))\n",
    "\n",
    "    for i, batch in zip(pbar, trainer.dataloader):\n",
    "        if i == 0:\n",
    "            print_preds(batch)\n",
    "    \n",
    "        trainer.optimizer.zero_grad()\n",
    "        loss, accuracy = trainer.train_step(batch)\n",
    "        loss.backward()\n",
    "        trainer.optimizer.step()\n",
    "        \n",
    "        # pbar.update()\n",
    "        pbar.set_description(f'loss={float(loss):.3f}')\n",
    "        if USE_WANDB:\n",
    "            wandb.log({'loss': loss, 'accuracy': accuracy})\n",
    "\n",
    "        global_step += 1\n",
    "\n",
    "    if conf.get('max_iters', False) and global_step > conf.get('max_iters'):\n",
    "        break"
   ]
  },
  {
   "cell_type": "code",
   "execution_count": null,
   "metadata": {},
   "outputs": [],
   "source": []
  },
  {
   "cell_type": "code",
   "execution_count": null,
   "metadata": {},
   "outputs": [],
   "source": [
    "for batch in trainer.dataloader:\n",
    "    print(parse_input_idx(batch['input_idx'][0], trainer.dataset.tokenizer)['tree'])\n",
    "    break"
   ]
  },
  {
   "cell_type": "code",
   "execution_count": null,
   "metadata": {},
   "outputs": [],
   "source": []
  },
  {
   "cell_type": "markdown",
   "metadata": {},
   "source": [
    "## Debug on custom input"
   ]
  },
  {
   "cell_type": "code",
   "execution_count": null,
   "metadata": {},
   "outputs": [],
   "source": [
    "with torch.inference_mode():\n",
    "    locc, accuracy = trainer.train_step(batch)"
   ]
  },
  {
   "cell_type": "code",
   "execution_count": null,
   "metadata": {},
   "outputs": [],
   "source": [
    "input_idx_custom = batch['input_idx'][0]\n",
    "\n",
    "\n",
    "parsed_input = parse_input_idx(input_idx_custom, trainer.dataset.tokenizer)\n",
    "parsed_input"
   ]
  },
  {
   "cell_type": "code",
   "execution_count": null,
   "metadata": {},
   "outputs": [],
   "source": [
    "def inference_on_prompt(prompt, model=trainer.model):\n",
    "    tokens = tok(prompt)\n",
    "    tokens = torch.tensor(tokens)[None]\n",
    "    pred_token_greedy = model(tokens)[0, -1].argmax()\n",
    "    pred_token = detok([pred_token_greedy])\n",
    "    return pred_token[0]"
   ]
  },
  {
   "cell_type": "code",
   "execution_count": null,
   "metadata": {},
   "outputs": [],
   "source": [
    "input_idx_custom.tolist().index(')"
   ]
  },
  {
   "cell_type": "code",
   "execution_count": null,
   "metadata": {},
   "outputs": [],
   "source": [
    "ROOT_DELIM_TOKEN_IDX = tok([':'])[0]\n",
    "ROOT_DELIM_TOKEN_IDX"
   ]
  },
  {
   "cell_type": "code",
   "execution_count": null,
   "metadata": {},
   "outputs": [],
   "source": []
  },
  {
   "cell_type": "code",
   "execution_count": null,
   "metadata": {},
   "outputs": [],
   "source": [
    "upper_task_bound = input_idx_custom.tolist().index(ROOT_DELIM_TOKEN_IDX) + 2\n",
    "prompt_autoregressive = detok(input_idx_custom)[:upper_task_bound]\n",
    "prompt = prompt_autoregressive\n",
    "print(prompt)"
   ]
  },
  {
   "cell_type": "code",
   "execution_count": null,
   "metadata": {},
   "outputs": [],
   "source": [
    "new_token = inference_on_prompt(prompt)\n",
    "prompt += [new_token]\n",
    "print(prompt)"
   ]
  },
  {
   "cell_type": "code",
   "execution_count": null,
   "metadata": {},
   "outputs": [],
   "source": [
    "softmax_probs.shape"
   ]
  },
  {
   "cell_type": "code",
   "execution_count": null,
   "metadata": {},
   "outputs": [],
   "source": [
    "import numpy as np\n",
    "import seaborn as sns\n",
    "import matplotlib.pyplot as plt\n",
    "\n",
    "\n",
    "softmax_probs = preds[0][mask[0]].softmax(dim=-1).detach().cpu().numpy()\n",
    "\n",
    "# Plotting softmax probabilities as a heatmap\n",
    "plt.figure(figsize=(10, 8))\n",
    "sns.heatmap(softmax_probs, annot=True, cmap='coolwarm', fmt=\".2f\")\n",
    "plt.title(\"Softmax Probabilities Heatmap\")\n",
    "plt.xlabel(\"Classes\")\n",
    "plt.ylabel(\"Instances\")\n",
    "plt.show()"
   ]
  },
  {
   "cell_type": "code",
   "execution_count": null,
   "metadata": {},
   "outputs": [],
   "source": [
    "input_idx_autoregressive"
   ]
  },
  {
   "cell_type": "code",
   "execution_count": null,
   "metadata": {},
   "outputs": [],
   "source": [
    "preds = trainer.model(input_idx)"
   ]
  },
  {
   "cell_type": "code",
   "execution_count": null,
   "metadata": {},
   "outputs": [],
   "source": []
  },
  {
   "cell_type": "code",
   "execution_count": null,
   "metadata": {},
   "outputs": [],
   "source": [
    "detok(input_idx[0][mask[0]])"
   ]
  },
  {
   "cell_type": "code",
   "execution_count": null,
   "metadata": {},
   "outputs": [],
   "source": []
  },
  {
   "cell_type": "code",
   "execution_count": null,
   "metadata": {},
   "outputs": [],
   "source": [
    "batch['input_idx'][:1]"
   ]
  },
  {
   "cell_type": "code",
   "execution_count": null,
   "metadata": {},
   "outputs": [],
   "source": [
    "accuracy"
   ]
  },
  {
   "cell_type": "code",
   "execution_count": null,
   "metadata": {},
   "outputs": [],
   "source": []
  },
  {
   "cell_type": "code",
   "execution_count": null,
   "metadata": {},
   "outputs": [],
   "source": [
    "from src.tree import list2tree\n",
    "from src.tree_dataset import tree_to_edges, tree2tokens\n",
    "\n",
    "\n",
    "\n",
    "custom_tree = list2tree([0, 1, 2, None, None, 3])\n",
    "custom_tree"
   ]
  },
  {
   "cell_type": "code",
   "execution_count": null,
   "metadata": {},
   "outputs": [],
   "source": [
    "prompt_tokens, path_tokens = tree2tokens(custom_tree)\n",
    "prompt_tokens"
   ]
  },
  {
   "cell_type": "code",
   "execution_count": null,
   "metadata": {},
   "outputs": [],
   "source": [
    "self = trainer.dataset\n",
    "prompt_idx = self.tokenizer(prompt_tokens)\n",
    "path_idx = self.tokenizer(path_tokens)\n",
    "\n",
    "input_tokens = prompt_idx + path_idx\n",
    "pad_len = self.tokenizer.MAX_SEQ_LEN - len(input_tokens)\n",
    "\n",
    "input_idx = torch.tensor(input_tokens + [0] * pad_len)\n",
    "# pad_mask = torch.zeros(self.tokenizer.MAX_SEQ_LEN)\n",
    "# pad_mask[:len(input_idx)] = 1\n",
    "\n",
    "task_mask = torch.zeros(self.tokenizer.MAX_SEQ_LEN, dtype=torch.bool)\n",
    "task_mask[len(prompt_idx):len(input_tokens)] = True"
   ]
  },
  {
   "cell_type": "code",
   "execution_count": null,
   "metadata": {},
   "outputs": [],
   "source": [
    "trainer.model(input_idx).argmax(dim=-1)"
   ]
  },
  {
   "cell_type": "code",
   "execution_count": null,
   "metadata": {},
   "outputs": [],
   "source": [
    "custom_input = ['0', ',', '→2', '0', ',', '→1', '1', ',', '→3', '|', '0', ':', '3', '→1', '→3']\n",
    "tok(custom_input)"
   ]
  },
  {
   "cell_type": "code",
   "execution_count": null,
   "metadata": {},
   "outputs": [],
   "source": [
    "custom_batch = {\n",
    "                'input_idx': input_idx[None],\n",
    "                'task_mask': task_mask[None],\n",
    "                # 'pad_mask': pad_mask,\n",
    "            }"
   ]
  },
  {
   "cell_type": "code",
   "execution_count": null,
   "metadata": {},
   "outputs": [],
   "source": [
    "print_preds(custom_batch)"
   ]
  },
  {
   "cell_type": "code",
   "execution_count": null,
   "metadata": {},
   "outputs": [],
   "source": [
    "input_idx = custom_batch['input_idx'].to(device)\n",
    "mask = batch['task_mask'].to(device)\n",
    "\n",
    "preds = trainer.model(custom_batch['input_idx'][:, :])"
   ]
  },
  {
   "cell_type": "code",
   "execution_count": null,
   "metadata": {},
   "outputs": [],
   "source": []
  },
  {
   "cell_type": "code",
   "execution_count": null,
   "metadata": {},
   "outputs": [],
   "source": [
    "detok(preds.argmax(dim=-1)[0])"
   ]
  },
  {
   "cell_type": "code",
   "execution_count": null,
   "metadata": {},
   "outputs": [],
   "source": [
    "tree_to_edges(parsed_input['tree'])"
   ]
  },
  {
   "cell_type": "code",
   "execution_count": null,
   "metadata": {},
   "outputs": [],
   "source": [
    "input_idx = batch['input_idx'].to(device)\n",
    "mask = batch['task_mask'].to(device)"
   ]
  },
  {
   "cell_type": "code",
   "execution_count": null,
   "metadata": {},
   "outputs": [],
   "source": [
    "logits, cache = trainer.model.run_with_cache(input_idx[:1])"
   ]
  },
  {
   "cell_type": "code",
   "execution_count": null,
   "metadata": {},
   "outputs": [],
   "source": [
    "# pip install circuitsvis"
   ]
  },
  {
   "cell_type": "code",
   "execution_count": null,
   "metadata": {},
   "outputs": [],
   "source": [
    "import circuitsvis as cv"
   ]
  },
  {
   "cell_type": "code",
   "execution_count": null,
   "metadata": {},
   "outputs": [],
   "source": [
    "# ! pip install webbrowser"
   ]
  },
  {
   "cell_type": "code",
   "execution_count": null,
   "metadata": {},
   "outputs": [],
   "source": [
    "# path = \"attn_heads.html\"\n",
    "\n",
    "# with open(path, \"w\") as f:\n",
    "#     f.write(str(attn_heads))\n",
    "\n",
    "# webbrowser.open(path)\n"
   ]
  },
  {
   "cell_type": "code",
   "execution_count": null,
   "metadata": {},
   "outputs": [],
   "source": [
    "parse_input_idx((input_idx[0]), tokenizer)[:0]"
   ]
  },
  {
   "cell_type": "code",
   "execution_count": null,
   "metadata": {},
   "outputs": [],
   "source": [
    "print(type(cache))\n",
    "attention_pattern = cache[\"pattern\", 0]\n",
    "print(attention_pattern.shape)\n",
    "str_tokens = detok (input_idx[0].cpu())\n",
    "\n",
    "print(\"Layer 0 Head Attention Patterns:\")\n",
    "attn_heads = (cv.attention.attention_patterns(\n",
    "    tokens=str_tokens,\n",
    "    attention=attention_pattern[0],\n",
    "    attention_head_names=[f\"L0H{i}\" for i in range(1)],\n",
    "))\n",
    "\n",
    "\n",
    "attn_heads"
   ]
  },
  {
   "cell_type": "code",
   "execution_count": null,
   "metadata": {},
   "outputs": [],
   "source": [
    "attention_pattern.shape"
   ]
  },
  {
   "cell_type": "code",
   "execution_count": null,
   "metadata": {},
   "outputs": [],
   "source": [
    "%pip install git+https://github.com/callummcdougall/CircuitsVis.git#subdirectory=python"
   ]
  },
  {
   "cell_type": "code",
   "execution_count": null,
   "metadata": {},
   "outputs": [],
   "source": [
    "path = \"attn_heads.html\"\n",
    "\n",
    "with open(path, \"w\") as f:\n",
    "    f.write(str(attn_heads))"
   ]
  },
  {
   "cell_type": "code",
   "execution_count": null,
   "metadata": {},
   "outputs": [],
   "source": [
    "cv.__version__"
   ]
  },
  {
   "cell_type": "code",
   "execution_count": null,
   "metadata": {},
   "outputs": [],
   "source": [
    "wandb.log({\"custom_file\": wandb.Html(open(path))})"
   ]
  },
  {
   "cell_type": "code",
   "execution_count": null,
   "metadata": {},
   "outputs": [],
   "source": [
    "! python --version"
   ]
  },
  {
   "cell_type": "code",
   "execution_count": null,
   "metadata": {},
   "outputs": [],
   "source": [
    "display(attn_heads)"
   ]
  },
  {
   "cell_type": "code",
   "execution_count": null,
   "metadata": {},
   "outputs": [],
   "source": [
    "# Python Example\n",
    "from circuitsvis.tokens import colored_tokens\n",
    "colored_tokens([\"My\", \"tokens\"], [0.123, -0.226])"
   ]
  },
  {
   "cell_type": "code",
   "execution_count": null,
   "metadata": {},
   "outputs": [],
   "source": []
  }
 ],
 "metadata": {
  "kernelspec": {
   "display_name": "Python 3 (ipykernel)",
   "language": "python",
   "name": "python3"
  },
  "language_info": {
   "codemirror_mode": {
    "name": "ipython",
    "version": 3
   },
   "file_extension": ".py",
   "mimetype": "text/x-python",
   "name": "python",
   "nbconvert_exporter": "python",
   "pygments_lexer": "ipython3",
   "version": "3.11.4"
  }
 },
 "nbformat": 4,
 "nbformat_minor": 4
}
