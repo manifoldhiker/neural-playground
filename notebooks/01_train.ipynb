{
 "cells": [
  {
   "cell_type": "code",
   "execution_count": 1,
   "metadata": {},
   "outputs": [],
   "source": [
    "import sys; sys.path.append('..')"
   ]
  },
  {
   "cell_type": "code",
   "execution_count": 2,
   "metadata": {},
   "outputs": [],
   "source": [
    "import torch\n",
    "import numpy as np\n",
    "import torch.nn.functional as F\n",
    "from torch.utils.data import DataLoader"
   ]
  },
  {
   "cell_type": "code",
   "execution_count": 3,
   "metadata": {},
   "outputs": [],
   "source": [
    "from src.tree_dataset import TreeDataset\n",
    "from src.tree_dataset import parse_input_idx"
   ]
  },
  {
   "cell_type": "code",
   "execution_count": 4,
   "metadata": {},
   "outputs": [],
   "source": [
    "from transformer_lens import HookedTransformer, HookedTransformerConfig"
   ]
  },
  {
   "cell_type": "code",
   "execution_count": 5,
   "metadata": {},
   "outputs": [],
   "source": [
    "import wandb"
   ]
  },
  {
   "cell_type": "code",
   "execution_count": 6,
   "metadata": {},
   "outputs": [
    {
     "name": "stdout",
     "output_type": "stream",
     "text": [
      "n_nodes: 16\n",
      "model:\n",
      "  d_model: 128\n",
      "  d_head: 128\n",
      "  n_layers: 3\n",
      "  act_fn: relu\n",
      "  attention_dir: causal\n",
      "optimizer:\n",
      "  lr: 0.001\n",
      "  weight_decay: 0.001\n",
      "batch_size: 64\n",
      "device: mps\n",
      "epoch_len_steps: 5000\n",
      "checkpoint_every_epoch: 10\n",
      "debug: false\n",
      "use_wandb: true\n",
      "wandb:\n",
      "  project: reasoning-mech-interp\n",
      "  name: 00_3L_nodes=16\n",
      "max_iters: null\n",
      "\n"
     ]
    }
   ],
   "source": [
    "from omegaconf import OmegaConf\n",
    "\n",
    "conf = OmegaConf.create({\n",
    "    \"n_nodes\" : 16,\n",
    "    \"model\": {\n",
    "        \"d_model\": 128,\n",
    "        \"d_head\": 128,\n",
    "        \"n_layers\": 3,\n",
    "        \"act_fn\": 'relu',\n",
    "        'attention_dir': 'causal',\n",
    "    },\n",
    "\n",
    "    \"optimizer\": {\n",
    "        \"lr\": 1e-3,\n",
    "        \"weight_decay\": 1e-3,\n",
    "    },\n",
    "\n",
    "    \"batch_size\": 64,\n",
    "    \"device\": \"mps\",\n",
    "    \"epoch_len_steps\": 5000,\n",
    "    \"checkpoint_every_epoch\": 10,\n",
    "    \"debug\": False,\n",
    "    \"use_wandb\": True,\n",
    "    \"wandb\": {\n",
    "        \"project\": \"reasoning-mech-interp\",\n",
    "        \"name\": \"00_3L_nodes=16\"\n",
    "    },\n",
    "    \"max_iters\": None\n",
    "})\n",
    "\n",
    "USE_WANDB = conf.use_wandb\n",
    "device = conf.device\n",
    "\n",
    "print(OmegaConf.to_yaml(conf))"
   ]
  },
  {
   "cell_type": "code",
   "execution_count": 7,
   "metadata": {},
   "outputs": [
    {
     "data": {
      "text/plain": [
       "'2024-04-10_16-02-15'"
      ]
     },
     "execution_count": 7,
     "metadata": {},
     "output_type": "execute_result"
    }
   ],
   "source": [
    "from datetime import datetime\n",
    "\n",
    "# Get the current datetime\n",
    "now = datetime.now()\n",
    "\n",
    "# Format the datetime to a string suitable for filenames\n",
    "now_filename = now.strftime(\"%Y-%m-%d_%H-%M-%S\")\n",
    "now_filename"
   ]
  },
  {
   "cell_type": "code",
   "execution_count": 8,
   "metadata": {},
   "outputs": [],
   "source": [
    "from pathlib import Path\n",
    "CHECKPOINT_ROOT = Path('../checkpoints')"
   ]
  },
  {
   "cell_type": "code",
   "execution_count": 9,
   "metadata": {},
   "outputs": [],
   "source": [
    "checkpoint_dir = CHECKPOINT_ROOT/f'{conf[\"wandb\"][\"project\"]}__{now_filename}'\n",
    "checkpoint_dir.mkdir(exist_ok=True, parents = True)"
   ]
  },
  {
   "cell_type": "code",
   "execution_count": null,
   "metadata": {},
   "outputs": [],
   "source": []
  },
  {
   "cell_type": "code",
   "execution_count": 10,
   "metadata": {},
   "outputs": [
    {
     "name": "stderr",
     "output_type": "stream",
     "text": [
      "\u001b[34m\u001b[1mwandb\u001b[0m: Currently logged in as: \u001b[33mkilianovski\u001b[0m. Use \u001b[1m`wandb login --relogin`\u001b[0m to force relogin\n"
     ]
    },
    {
     "data": {
      "text/html": [
       "Tracking run with wandb version 0.16.6"
      ],
      "text/plain": [
       "<IPython.core.display.HTML object>"
      ]
     },
     "metadata": {},
     "output_type": "display_data"
    },
    {
     "data": {
      "text/html": [
       "Run data is saved locally in <code>/Users/mykhailokilianovskyi/src/reasoning-mech-interp/notebooks/wandb/run-20240410_160216-mnxd7zhx</code>"
      ],
      "text/plain": [
       "<IPython.core.display.HTML object>"
      ]
     },
     "metadata": {},
     "output_type": "display_data"
    },
    {
     "data": {
      "text/html": [
       "Syncing run <strong><a href='https://wandb.ai/kilianovski/reasoning-mech-interp/runs/mnxd7zhx' target=\"_blank\">00_3L_nodes=16</a></strong> to <a href='https://wandb.ai/kilianovski/reasoning-mech-interp' target=\"_blank\">Weights & Biases</a> (<a href='https://wandb.me/run' target=\"_blank\">docs</a>)<br/>"
      ],
      "text/plain": [
       "<IPython.core.display.HTML object>"
      ]
     },
     "metadata": {},
     "output_type": "display_data"
    },
    {
     "data": {
      "text/html": [
       " View project at <a href='https://wandb.ai/kilianovski/reasoning-mech-interp' target=\"_blank\">https://wandb.ai/kilianovski/reasoning-mech-interp</a>"
      ],
      "text/plain": [
       "<IPython.core.display.HTML object>"
      ]
     },
     "metadata": {},
     "output_type": "display_data"
    },
    {
     "data": {
      "text/html": [
       " View run at <a href='https://wandb.ai/kilianovski/reasoning-mech-interp/runs/mnxd7zhx' target=\"_blank\">https://wandb.ai/kilianovski/reasoning-mech-interp/runs/mnxd7zhx</a>"
      ],
      "text/plain": [
       "<IPython.core.display.HTML object>"
      ]
     },
     "metadata": {},
     "output_type": "display_data"
    }
   ],
   "source": [
    "if USE_WANDB:\n",
    "    wandb.init(project=conf.wandb.project, name=conf.wandb.name, config=OmegaConf.to_object(conf))"
   ]
  },
  {
   "cell_type": "code",
   "execution_count": 11,
   "metadata": {},
   "outputs": [],
   "source": [
    "class TreeTrainer:\n",
    "    def __init__(self, conf):\n",
    "        dataset = TreeDataset(conf.n_nodes)\n",
    "        self.dataset = dataset\n",
    "        self.dataloader = DataLoader(dataset, batch_size=conf['batch_size'])\n",
    "\n",
    "        conf.model[\"n_ctx\"] = dataset.tokenizer.MAX_SEQ_LEN\n",
    "        conf.model[\"d_vocab\"] = len(dataset.tokenizer.token2idx)\n",
    "        \n",
    "        model_cfg = HookedTransformerConfig(\n",
    "            **conf.model\n",
    "        )\n",
    "        \n",
    "        device = conf.device\n",
    "        self.device = device\n",
    "\n",
    "        self.model = HookedTransformer(model_cfg).to(device)\n",
    "        self.optimizer = torch.optim.AdamW(self.model.parameters(), **conf.optimizer)\n",
    "\n",
    "\n",
    "    def train_step(self, batch):\n",
    "        input_idx = batch['input_idx'].to(device)\n",
    "        mask = batch['task_mask'].to(device)\n",
    "        \n",
    "        inputs = input_idx[:, :-1]\n",
    "        \n",
    "        out_mask = mask[:, 1:]\n",
    "        targets = input_idx[:, 1:][out_mask]\n",
    "        \n",
    "        \n",
    "        # print(input_idx[:1, :4])\n",
    "        outputs = self.model(inputs)\n",
    "        \n",
    "        predictions = outputs[out_mask]\n",
    "        \n",
    "        loss = F.cross_entropy(predictions, targets)\n",
    "        accuracy = (predictions.argmax(dim=-1) == targets).float().mean()\n",
    "        return loss, accuracy"
   ]
  },
  {
   "cell_type": "code",
   "execution_count": 12,
   "metadata": {},
   "outputs": [
    {
     "name": "stdout",
     "output_type": "stream",
     "text": [
      "Moving model to device:  mps\n"
     ]
    }
   ],
   "source": [
    "trainer = TreeTrainer(conf)"
   ]
  },
  {
   "cell_type": "code",
   "execution_count": 13,
   "metadata": {},
   "outputs": [],
   "source": [
    "tokenizer = trainer.dataset.tokenizer\n",
    "\n",
    "tok = tokenizer.tokenize\n",
    "detok = tokenizer.detokenize\n",
    "\n",
    "ROOT_DELIM_TOKEN_IDX = tok([':'])[0]\n",
    "ROOT_DELIM_TOKEN_IDX\n",
    "\n",
    "def print_preds(batch, i=0):\n",
    "    input_idx = batch['input_idx'].to(device)\n",
    "    mask = batch['task_mask'].to(device)\n",
    "\n",
    "    \n",
    "    preds = trainer.model(input_idx)\n",
    "\n",
    "    parsed_input = parse_input_idx(input_idx[i], tokenizer)\n",
    "    print(parsed_input['tree'])\n",
    "    print(f'goal: {parsed_input[\"goal\"]}')\n",
    "    print(f'true path = {detok(input_idx[i][mask[i]])}, predicted path = {detok(preds[i][mask[i]].argmax(dim=-1))}')\n"
   ]
  },
  {
   "cell_type": "code",
   "execution_count": 14,
   "metadata": {},
   "outputs": [],
   "source": [
    "def inference_on_prompt(prompt, model=trainer.model):\n",
    "    tokens = tok(prompt)\n",
    "    tokens = torch.tensor(tokens)[None]\n",
    "    pred_token_greedy = model(tokens)[0, -1].argmax()\n",
    "    pred_token = detok([pred_token_greedy])\n",
    "    return pred_token[0]"
   ]
  },
  {
   "cell_type": "code",
   "execution_count": 15,
   "metadata": {},
   "outputs": [],
   "source": [
    "from src.tree_dataset import input_tokens_to_tree"
   ]
  },
  {
   "cell_type": "code",
   "execution_count": 16,
   "metadata": {},
   "outputs": [],
   "source": [
    "def print_sample_pred(batch):\n",
    "    sample_input_idx = batch['input_idx'].to(device)\n",
    "    sample_input_idx = sample_input_idx[0]\n",
    "    \n",
    "    upper_task_bound = sample_input_idx.tolist().index(ROOT_DELIM_TOKEN_IDX) + 2\n",
    "    prompt_autoregressive = detok(sample_input_idx)[:upper_task_bound]\n",
    "    input_tree = input_tokens_to_tree(prompt_autoregressive)\n",
    "    \n",
    "    prompt = prompt_autoregressive\n",
    "    \n",
    "    parsed_input = parse_input_idx(sample_input_idx, tokenizer)\n",
    "    gt_path = parsed_input['path']\n",
    "    pred_path = []\n",
    "    \n",
    "    for i in range(len(gt_path)):\n",
    "        pred_token = inference_on_prompt(prompt)\n",
    "        pred_path.append(pred_token)\n",
    "        prompt += [pred_token]\n",
    "    \n",
    "    accuracy = (np.array(gt_path) == np.array(pred_path)).astype(float).mean()\n",
    "    print('*'*100)\n",
    "    print(input_tree)\n",
    "    print()\n",
    "    print(f'goal={parsed_input[\"goal\"]}')\n",
    "    print(f'{accuracy=} {gt_path=} {pred_path=}' )\n",
    "    print('*'*100)"
   ]
  },
  {
   "cell_type": "code",
   "execution_count": 17,
   "metadata": {},
   "outputs": [],
   "source": [
    "from tqdm.auto import tqdm"
   ]
  },
  {
   "cell_type": "code",
   "execution_count": null,
   "metadata": {},
   "outputs": [
    {
     "data": {
      "application/vnd.jupyter.widget-view+json": {
       "model_id": "cef792a47ca743b39be6f4f3c0306f8b",
       "version_major": 2,
       "version_minor": 0
      },
      "text/plain": [
       "  0%|          | 0/5000 [00:00<?, ?it/s]"
      ]
     },
     "metadata": {},
     "output_type": "display_data"
    },
    {
     "name": "stdout",
     "output_type": "stream",
     "text": [
      "****************************************************************************************************\n",
      "     1\n",
      "     |\n",
      "  +--+-----------------+\n",
      "  |                    |\n",
      "  9                   15\n",
      "                       |\n",
      "                    +--+--------------+\n",
      "                    |                 |\n",
      "                   10                 6\n",
      "                    |                 |\n",
      "           +--------+        +--------+--------+\n",
      "           |                 |                 |\n",
      "           2                 5                12\n",
      "           |                 |                 |\n",
      "        +--+-----+        +--+-----+        +--+\n",
      "        |        |        |        |        |\n",
      "       14        8       11        4       13\n",
      "                 |                 |        |\n",
      "              +--+              +--+     +--+\n",
      "              |                 |        |\n",
      "              3                 0        7\n",
      "\n",
      "goal=11\n",
      "accuracy=0.0 gt_path=['→15', '→6', '→5', '→11'] pred_path=['2', '0', '→1', '0']\n",
      "****************************************************************************************************\n"
     ]
    }
   ],
   "source": [
    "global_step = 0\n",
    "epoch_i = 0\n",
    "\n",
    "\n",
    "while True:\n",
    "\n",
    "    pbar = tqdm(list(range(conf.epoch_len_steps)))\n",
    "\n",
    "    for i, batch in zip(pbar, trainer.dataloader):\n",
    "        if i == 0:\n",
    "            print_sample_pred(batch)\n",
    "    \n",
    "        trainer.optimizer.zero_grad()\n",
    "        loss, accuracy = trainer.train_step(batch)\n",
    "        loss.backward()\n",
    "        trainer.optimizer.step()\n",
    "        \n",
    "        # pbar.update()\n",
    "        pbar.set_description(f'loss={float(loss):.3f}')\n",
    "        if USE_WANDB:\n",
    "            wandb.log({'loss': loss, 'accuracy': accuracy})\n",
    "\n",
    "        global_step += 1\n",
    "\n",
    "    epoch_i += 1\n",
    "\n",
    "    if epoch_i % conf['checkpoint_every_epoch'] == 0:\n",
    "        checkpoint_filename = checkpoint_dir/f'{conf[\"wandb\"][\"name\"]}__step={global_step}.pt'\n",
    "        print(f'Saving {checkpoint_filename=}')\n",
    "        torch.save(trainer.model.state_dict(), checkpoint_filename)\n",
    "    \n",
    "    if conf.get('max_iters', False) and global_step > conf.get('max_iters'):\n",
    "        break\n",
    "\n",
    "    "
   ]
  },
  {
   "cell_type": "code",
   "execution_count": null,
   "metadata": {},
   "outputs": [],
   "source": []
  },
  {
   "cell_type": "code",
   "execution_count": null,
   "metadata": {},
   "outputs": [],
   "source": []
  },
  {
   "cell_type": "code",
   "execution_count": null,
   "metadata": {},
   "outputs": [],
   "source": []
  },
  {
   "cell_type": "markdown",
   "metadata": {},
   "source": [
    "## Debug on custom input"
   ]
  },
  {
   "cell_type": "code",
   "execution_count": null,
   "metadata": {},
   "outputs": [],
   "source": [
    "for batch in trainer.dataloader:\n",
    "    print(parse_input_idx(batch['input_idx'][0], trainer.dataset.tokenizer)['tree'])\n",
    "    break"
   ]
  },
  {
   "cell_type": "code",
   "execution_count": null,
   "metadata": {},
   "outputs": [],
   "source": [
    "with torch.inference_mode():\n",
    "    locc, accuracy = trainer.train_step(batch)"
   ]
  },
  {
   "cell_type": "code",
   "execution_count": null,
   "metadata": {},
   "outputs": [],
   "source": []
  },
  {
   "cell_type": "code",
   "execution_count": null,
   "metadata": {},
   "outputs": [],
   "source": [
    "input_idx_custom = batch['input_idx'][0]\n",
    "\n",
    "\n",
    "parsed_input = parse_input_idx(input_idx_custom, trainer.dataset.tokenizer)\n",
    "parsed_input"
   ]
  },
  {
   "cell_type": "code",
   "execution_count": null,
   "metadata": {},
   "outputs": [],
   "source": []
  },
  {
   "cell_type": "code",
   "execution_count": null,
   "metadata": {},
   "outputs": [],
   "source": []
  },
  {
   "cell_type": "code",
   "execution_count": null,
   "metadata": {},
   "outputs": [],
   "source": []
  },
  {
   "cell_type": "code",
   "execution_count": null,
   "metadata": {},
   "outputs": [],
   "source": [
    "upper_task_bound = input_idx_custom.tolist().index(ROOT_DELIM_TOKEN_IDX) + 2\n",
    "prompt_autoregressive = detok(input_idx_custom)[:upper_task_bound]\n",
    "prompt = prompt_autoregressive\n",
    "print(prompt)"
   ]
  },
  {
   "cell_type": "code",
   "execution_count": null,
   "metadata": {},
   "outputs": [],
   "source": [
    "new_token = inference_on_prompt(prompt)\n",
    "prompt += [new_token]\n",
    "print(prompt)"
   ]
  },
  {
   "cell_type": "code",
   "execution_count": null,
   "metadata": {},
   "outputs": [],
   "source": [
    "softmax_probs.shape"
   ]
  },
  {
   "cell_type": "code",
   "execution_count": null,
   "metadata": {},
   "outputs": [],
   "source": [
    "import numpy as np\n",
    "import seaborn as sns\n",
    "import matplotlib.pyplot as plt\n",
    "\n",
    "\n",
    "softmax_probs = preds[0][mask[0]].softmax(dim=-1).detach().cpu().numpy()\n",
    "\n",
    "# Plotting softmax probabilities as a heatmap\n",
    "plt.figure(figsize=(10, 8))\n",
    "sns.heatmap(softmax_probs, annot=True, cmap='coolwarm', fmt=\".2f\")\n",
    "plt.title(\"Softmax Probabilities Heatmap\")\n",
    "plt.xlabel(\"Classes\")\n",
    "plt.ylabel(\"Instances\")\n",
    "plt.show()"
   ]
  },
  {
   "cell_type": "code",
   "execution_count": null,
   "metadata": {},
   "outputs": [],
   "source": [
    "input_idx_autoregressive"
   ]
  },
  {
   "cell_type": "code",
   "execution_count": null,
   "metadata": {},
   "outputs": [],
   "source": [
    "preds = trainer.model(input_idx)"
   ]
  },
  {
   "cell_type": "code",
   "execution_count": null,
   "metadata": {},
   "outputs": [],
   "source": []
  },
  {
   "cell_type": "code",
   "execution_count": null,
   "metadata": {},
   "outputs": [],
   "source": [
    "detok(input_idx[0][mask[0]])"
   ]
  },
  {
   "cell_type": "code",
   "execution_count": null,
   "metadata": {},
   "outputs": [],
   "source": []
  },
  {
   "cell_type": "code",
   "execution_count": null,
   "metadata": {},
   "outputs": [],
   "source": [
    "batch['input_idx'][:1]"
   ]
  },
  {
   "cell_type": "code",
   "execution_count": null,
   "metadata": {},
   "outputs": [],
   "source": [
    "accuracy"
   ]
  },
  {
   "cell_type": "code",
   "execution_count": null,
   "metadata": {},
   "outputs": [],
   "source": []
  },
  {
   "cell_type": "code",
   "execution_count": null,
   "metadata": {},
   "outputs": [],
   "source": [
    "from src.tree import list2tree\n",
    "from src.tree_dataset import tree_to_edges, tree2tokens\n",
    "\n",
    "\n",
    "\n",
    "custom_tree = list2tree([0, 1, 2, None, None, 3])\n",
    "custom_tree"
   ]
  },
  {
   "cell_type": "code",
   "execution_count": null,
   "metadata": {},
   "outputs": [],
   "source": [
    "prompt_tokens, path_tokens = tree2tokens(custom_tree)\n",
    "prompt_tokens"
   ]
  },
  {
   "cell_type": "code",
   "execution_count": null,
   "metadata": {},
   "outputs": [],
   "source": [
    "self = trainer.dataset\n",
    "prompt_idx = self.tokenizer(prompt_tokens)\n",
    "path_idx = self.tokenizer(path_tokens)\n",
    "\n",
    "input_tokens = prompt_idx + path_idx\n",
    "pad_len = self.tokenizer.MAX_SEQ_LEN - len(input_tokens)\n",
    "\n",
    "input_idx = torch.tensor(input_tokens + [0] * pad_len)\n",
    "# pad_mask = torch.zeros(self.tokenizer.MAX_SEQ_LEN)\n",
    "# pad_mask[:len(input_idx)] = 1\n",
    "\n",
    "task_mask = torch.zeros(self.tokenizer.MAX_SEQ_LEN, dtype=torch.bool)\n",
    "task_mask[len(prompt_idx):len(input_tokens)] = True"
   ]
  },
  {
   "cell_type": "code",
   "execution_count": null,
   "metadata": {},
   "outputs": [],
   "source": [
    "trainer.model(input_idx).argmax(dim=-1)"
   ]
  },
  {
   "cell_type": "code",
   "execution_count": null,
   "metadata": {},
   "outputs": [],
   "source": [
    "custom_input = ['0', ',', '→2', '0', ',', '→1', '1', ',', '→3', '|', '0', ':', '3', '→1', '→3']\n",
    "tok(custom_input)"
   ]
  },
  {
   "cell_type": "code",
   "execution_count": null,
   "metadata": {},
   "outputs": [],
   "source": [
    "custom_batch = {\n",
    "                'input_idx': input_idx[None],\n",
    "                'task_mask': task_mask[None],\n",
    "                # 'pad_mask': pad_mask,\n",
    "            }"
   ]
  },
  {
   "cell_type": "code",
   "execution_count": null,
   "metadata": {},
   "outputs": [],
   "source": [
    "print_preds(custom_batch)"
   ]
  },
  {
   "cell_type": "code",
   "execution_count": null,
   "metadata": {},
   "outputs": [],
   "source": [
    "input_idx = custom_batch['input_idx'].to(device)\n",
    "mask = batch['task_mask'].to(device)\n",
    "\n",
    "preds = trainer.model(custom_batch['input_idx'][:, :])"
   ]
  },
  {
   "cell_type": "code",
   "execution_count": null,
   "metadata": {},
   "outputs": [],
   "source": []
  },
  {
   "cell_type": "code",
   "execution_count": null,
   "metadata": {},
   "outputs": [],
   "source": [
    "detok(preds.argmax(dim=-1)[0])"
   ]
  },
  {
   "cell_type": "code",
   "execution_count": null,
   "metadata": {},
   "outputs": [],
   "source": [
    "tree_to_edges(parsed_input['tree'])"
   ]
  },
  {
   "cell_type": "code",
   "execution_count": null,
   "metadata": {},
   "outputs": [],
   "source": [
    "input_idx = batch['input_idx'].to(device)\n",
    "mask = batch['task_mask'].to(device)"
   ]
  },
  {
   "cell_type": "code",
   "execution_count": null,
   "metadata": {},
   "outputs": [],
   "source": [
    "logits, cache = trainer.model.run_with_cache(input_idx[:1])"
   ]
  },
  {
   "cell_type": "code",
   "execution_count": null,
   "metadata": {},
   "outputs": [],
   "source": [
    "# pip install circuitsvis"
   ]
  },
  {
   "cell_type": "code",
   "execution_count": null,
   "metadata": {},
   "outputs": [],
   "source": [
    "import circuitsvis as cv"
   ]
  },
  {
   "cell_type": "code",
   "execution_count": null,
   "metadata": {},
   "outputs": [],
   "source": [
    "# ! pip install webbrowser"
   ]
  },
  {
   "cell_type": "code",
   "execution_count": null,
   "metadata": {},
   "outputs": [],
   "source": [
    "# path = \"attn_heads.html\"\n",
    "\n",
    "# with open(path, \"w\") as f:\n",
    "#     f.write(str(attn_heads))\n",
    "\n",
    "# webbrowser.open(path)\n"
   ]
  },
  {
   "cell_type": "code",
   "execution_count": null,
   "metadata": {},
   "outputs": [],
   "source": [
    "parse_input_idx((input_idx[0]), tokenizer)[:0]"
   ]
  },
  {
   "cell_type": "code",
   "execution_count": null,
   "metadata": {},
   "outputs": [],
   "source": [
    "print(type(cache))\n",
    "attention_pattern = cache[\"pattern\", 0]\n",
    "print(attention_pattern.shape)\n",
    "str_tokens = detok (input_idx[0].cpu())\n",
    "\n",
    "print(\"Layer 0 Head Attention Patterns:\")\n",
    "attn_heads = (cv.attention.attention_patterns(\n",
    "    tokens=str_tokens,\n",
    "    attention=attention_pattern[0],\n",
    "    attention_head_names=[f\"L0H{i}\" for i in range(1)],\n",
    "))\n",
    "\n",
    "\n",
    "attn_heads"
   ]
  },
  {
   "cell_type": "code",
   "execution_count": null,
   "metadata": {},
   "outputs": [],
   "source": [
    "attention_pattern.shape"
   ]
  },
  {
   "cell_type": "code",
   "execution_count": null,
   "metadata": {},
   "outputs": [],
   "source": [
    "%pip install git+https://github.com/callummcdougall/CircuitsVis.git#subdirectory=python"
   ]
  },
  {
   "cell_type": "code",
   "execution_count": null,
   "metadata": {},
   "outputs": [],
   "source": [
    "path = \"attn_heads.html\"\n",
    "\n",
    "with open(path, \"w\") as f:\n",
    "    f.write(str(attn_heads))"
   ]
  },
  {
   "cell_type": "code",
   "execution_count": null,
   "metadata": {},
   "outputs": [],
   "source": [
    "cv.__version__"
   ]
  },
  {
   "cell_type": "code",
   "execution_count": null,
   "metadata": {},
   "outputs": [],
   "source": [
    "wandb.log({\"custom_file\": wandb.Html(open(path))})"
   ]
  },
  {
   "cell_type": "code",
   "execution_count": null,
   "metadata": {},
   "outputs": [],
   "source": [
    "! python --version"
   ]
  },
  {
   "cell_type": "code",
   "execution_count": null,
   "metadata": {},
   "outputs": [],
   "source": [
    "display(attn_heads)"
   ]
  },
  {
   "cell_type": "code",
   "execution_count": null,
   "metadata": {},
   "outputs": [],
   "source": [
    "# Python Example\n",
    "from circuitsvis.tokens import colored_tokens\n",
    "colored_tokens([\"My\", \"tokens\"], [0.123, -0.226])"
   ]
  },
  {
   "cell_type": "code",
   "execution_count": null,
   "metadata": {},
   "outputs": [],
   "source": []
  }
 ],
 "metadata": {
  "kernelspec": {
   "display_name": "Python 3 (ipykernel)",
   "language": "python",
   "name": "python3"
  },
  "language_info": {
   "codemirror_mode": {
    "name": "ipython",
    "version": 3
   },
   "file_extension": ".py",
   "mimetype": "text/x-python",
   "name": "python",
   "nbconvert_exporter": "python",
   "pygments_lexer": "ipython3",
   "version": "3.11.4"
  }
 },
 "nbformat": 4,
 "nbformat_minor": 4
}
