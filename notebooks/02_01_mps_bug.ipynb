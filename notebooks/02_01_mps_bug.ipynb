{
 "cells": [
  {
   "cell_type": "markdown",
   "id": "a1604b1d-f2e2-47e6-aaaa-e63531dc92dc",
   "metadata": {},
   "source": [
    "## Setup"
   ]
  },
  {
   "cell_type": "markdown",
   "id": "a0b43635-08a1-41fc-bc69-eb982bf616b2",
   "metadata": {},
   "source": [
    "### Imports"
   ]
  },
  {
   "cell_type": "code",
   "execution_count": 3,
   "id": "8fc35657-c8ff-4c4d-9300-ac15a47ce390",
   "metadata": {},
   "outputs": [],
   "source": [
    "import sys; sys.path.append('..')"
   ]
  },
  {
   "cell_type": "code",
   "execution_count": 4,
   "id": "887b3130-bf5e-42a8-841c-51b0a0a6e0f2",
   "metadata": {},
   "outputs": [],
   "source": [
    "# ! pip install lovely-tensors\n",
    "\n",
    "import lovely_tensors as lt\n",
    "lt.monkey_patch()"
   ]
  },
  {
   "cell_type": "code",
   "execution_count": 5,
   "id": "b96b80e2-8f8d-45ee-a2fc-88c92ec20bdd",
   "metadata": {},
   "outputs": [],
   "source": [
    "import torch\n",
    "import numpy as np\n",
    "import torch.nn.functional as F\n",
    "from torch.utils.data import DataLoader\n",
    "\n",
    "from transformer_lens import HookedTransformer, HookedTransformerConfig"
   ]
  },
  {
   "cell_type": "code",
   "execution_count": 6,
   "id": "508b0619-52ea-40df-a45f-16449f9e7dff",
   "metadata": {},
   "outputs": [],
   "source": [
    "import wandb\n",
    "from tqdm.auto import tqdm\n",
    "\n",
    "from omegaconf import OmegaConf\n",
    "\n",
    "from datetime import datetime\n",
    "\n",
    "from pathlib import Path\n",
    "\n",
    "import numpy as np\n",
    "import seaborn as sns\n",
    "import matplotlib.pyplot as plt"
   ]
  },
  {
   "cell_type": "code",
   "execution_count": 7,
   "id": "d671850d-c838-4974-883a-100772cadb49",
   "metadata": {
    "scrolled": true
   },
   "outputs": [],
   "source": [
    "from src.tree import list2tree\n",
    "from src.tree_dataset import TreeDataset, parse_input_idx, input_tokens_to_tree, tree_to_edges\n",
    "from src.utils import seed_all\n",
    "\n",
    "\n",
    "from src.trainer import TreeTrainer"
   ]
  },
  {
   "cell_type": "code",
   "execution_count": 13,
   "id": "30a2111f-50a7-4160-96f0-fd51d1cea9c3",
   "metadata": {},
   "outputs": [],
   "source": [
    "def load_model(device):\n",
    "    n_states = 16\n",
    "    max_seq_length = n_states * 4 + 2\n",
    "    \n",
    "    number_tokens = sorted([str(i) for i in range(n_states)], key=lambda x: len(x), reverse=True)\n",
    "    idx2tokens = [\",\", \":\", \"|\"] + [f\">{t}\" for t in number_tokens] + number_tokens\n",
    "    tokens2idx = {token: idx for idx, token in enumerate(idx2tokens)}\n",
    "    \n",
    "    \n",
    "    cfg = HookedTransformerConfig(\n",
    "        n_layers=6,\n",
    "        d_model=128,\n",
    "        n_ctx=max_seq_length - 1,\n",
    "        n_heads=1,\n",
    "        d_mlp=512,\n",
    "        d_head=128,\n",
    "        #attn_only=True,\n",
    "        d_vocab=len(idx2tokens),\n",
    "        device=device,\n",
    "        attention_dir= \"causal\",\n",
    "        act_fn=\"gelu\",\n",
    "    )\n",
    "    model = HookedTransformer(cfg)\n",
    "    \n",
    "    model.load_state_dict(torch.load(\"/Users/mykhailokilianovskyi/src/backward-chaining-circuits/model.pt\", map_location=torch.device(device)))\n",
    "    \n",
    "    return model"
   ]
  },
  {
   "cell_type": "code",
   "execution_count": 16,
   "id": "c1a352e8-e3aa-4a9f-bb18-cae58fb630d7",
   "metadata": {},
   "outputs": [
    {
     "name": "stdout",
     "output_type": "stream",
     "text": [
      "(q_out @ k_out.T)=tensor[1, 1] grad MmBackward0 [[14.907]], scores[q, k]=tensor grad SelectBackward0 14.907 k=0 q=1\n",
      "(q_out @ k_out.T)=tensor[1, 1] grad MmBackward0 [[-3.832]], scores[q, k]=tensor grad SelectBackward0 -3.832 k=0 q=2\n",
      "(q_out @ k_out.T)=tensor[1, 1] grad MmBackward0 [[-1.125]], scores[q, k]=tensor grad SelectBackward0 -1.125 k=1 q=2\n",
      "(q_out @ k_out.T)=tensor[1, 1] grad MmBackward0 [[-12.431]], scores[q, k]=tensor grad SelectBackward0 -12.431 k=0 q=3\n",
      "(q_out @ k_out.T)=tensor[1, 1] grad MmBackward0 [[1.276]], scores[q, k]=tensor grad SelectBackward0 1.276 k=1 q=3\n",
      "(q_out @ k_out.T)=tensor[1, 1] grad MmBackward0 [[18.058]], scores[q, k]=tensor grad SelectBackward0 18.058 k=2 q=3\n"
     ]
    },
    {
     "data": {
      "text/plain": [
       "Text(0.5, 0, 'Position Embedding in Key')"
      ]
     },
     "execution_count": 16,
     "metadata": {},
     "output_type": "execute_result"
    },
    {
     "data": {
      "image/png": "[encoded data removed]",
      "text/plain": [
       "<Figure size 640x480 with 1 Axes>"
      ]
     },
     "metadata": {},
     "output_type": "display_data"
    }
   ],
   "source": [
    "model = load_model('cpu')\n",
    "scores = torch.zeros(model.cfg.n_ctx, model.cfg.n_ctx)\n",
    "for q in range(model.cfg.n_ctx):\n",
    "    for k in range(model.cfg.n_ctx):\n",
    "        q_out = model.blocks[0].ln1( model.W_pos[q:q+1] ) @ model.blocks[0].attn.W_Q[0] + model.blocks[0].attn.b_Q\n",
    "        k_out = model.blocks[0].ln1( model.W_pos[k:k+1] ) @ model.blocks[0].attn.W_K[0] + model.blocks[0].attn.b_K\n",
    "        \n",
    "        if k < q:\n",
    "            scores[q, k] = q_out @ k_out.T\n",
    "\n",
    "            if q < 4:\n",
    "                print(f'{(q_out @ k_out.T)=}, {scores[q, k]=} {k=} {q=}')\n",
    "\n",
    "\n",
    "plt.imshow(scores.softmax(dim=1).detach(), cmap=\"RdBu\", vmin=-1, vmax=1)\n",
    "plt.ylabel(\"Position Embedding in Query\")\n",
    "plt.xlabel(\"Position Embedding in Key\")"
   ]
  },
  {
   "cell_type": "code",
   "execution_count": 17,
   "id": "12090389-6de2-4ad0-b331-a1237781c9e4",
   "metadata": {},
   "outputs": [
    {
     "name": "stdout",
     "output_type": "stream",
     "text": [
      "(q_out @ k_out.T)=tensor[1, 1] grad MmBackward0 mps:0 [[14.907]], scores[q, k]=tensor grad SelectBackward0 0. k=0 q=1\n",
      "(q_out @ k_out.T)=tensor[1, 1] grad MmBackward0 mps:0 [[-3.832]], scores[q, k]=tensor grad SelectBackward0 0. k=0 q=2\n",
      "(q_out @ k_out.T)=tensor[1, 1] grad MmBackward0 mps:0 [[-1.125]], scores[q, k]=tensor grad SelectBackward0 0. k=1 q=2\n",
      "(q_out @ k_out.T)=tensor[1, 1] grad MmBackward0 mps:0 [[-12.431]], scores[q, k]=tensor grad SelectBackward0 0. k=0 q=3\n",
      "(q_out @ k_out.T)=tensor[1, 1] grad MmBackward0 mps:0 [[1.276]], scores[q, k]=tensor grad SelectBackward0 0. k=1 q=3\n",
      "(q_out @ k_out.T)=tensor[1, 1] grad MmBackward0 mps:0 [[18.058]], scores[q, k]=tensor grad SelectBackward0 0. k=2 q=3\n"
     ]
    },
    {
     "data": {
      "text/plain": [
       "Text(0.5, 0, 'Position Embedding in Key')"
      ]
     },
     "execution_count": 17,
     "metadata": {},
     "output_type": "execute_result"
    },
    {
     "data": {
      "image/png": "[encoded data removed]",
      "text/plain": [
       "<Figure size 640x480 with 1 Axes>"
      ]
     },
     "metadata": {},
     "output_type": "display_data"
    }
   ],
   "source": [
    "model = load_model('mps')\n",
    "scores = torch.zeros(model.cfg.n_ctx, model.cfg.n_ctx)\n",
    "for q in range(model.cfg.n_ctx):\n",
    "    for k in range(model.cfg.n_ctx):\n",
    "        q_out = model.blocks[0].ln1( model.W_pos[q:q+1] ) @ model.blocks[0].attn.W_Q[0] + model.blocks[0].attn.b_Q\n",
    "        k_out = model.blocks[0].ln1( model.W_pos[k:k+1] ) @ model.blocks[0].attn.W_K[0] + model.blocks[0].attn.b_K\n",
    "        \n",
    "        if k < q:\n",
    "            scores[q, k] = q_out @ k_out.T\n",
    "\n",
    "            if q < 4:\n",
    "                print(f'{(q_out @ k_out.T)=}, {scores[q, k]=} {k=} {q=}')\n",
    "\n",
    "\n",
    "plt.imshow(scores.softmax(dim=1).detach(), cmap=\"RdBu\", vmin=-1, vmax=1)\n",
    "plt.ylabel(\"Position Embedding in Query\")\n",
    "plt.xlabel(\"Position Embedding in Key\")"
   ]
  },
  {
   "cell_type": "code",
   "execution_count": 239,
   "id": "8a8ba35d-a35a-4609-8576-217dbc600383",
   "metadata": {},
   "outputs": [],
   "source": [
    "scores = scores.detach().cpu().clone()\n",
    "scores_np_mps0 = scores.detach().detach().clone().cpu().numpy()"
   ]
  },
  {
   "cell_type": "code",
   "execution_count": 243,
   "id": "de4275ac-5290-412e-b953-b962aae3855a",
   "metadata": {},
   "outputs": [
    {
     "data": {
      "text/plain": [
       "<matplotlib.image.AxesImage at 0x36e184990>"
      ]
     },
     "execution_count": 243,
     "metadata": {},
     "output_type": "execute_result"
    },
    {
     "data": {
      "image/png": "[encoded data removed]",
      "text/plain": [
       "<Figure size 640x480 with 1 Axes>"
      ]
     },
     "metadata": {},
     "output_type": "display_data"
    }
   ],
   "source": [
    "plt.imshow(scores.softmax(dim=1).detach().numpy(), cmap=\"RdBu\", vmin=-1, vmax=1)"
   ]
  },
  {
   "cell_type": "code",
   "execution_count": 222,
   "id": "6e7c7dba-e3ef-4169-8140-6d90ef4c08e7",
   "metadata": {},
   "outputs": [
    {
     "data": {
      "text/plain": [
       "Text(0.5, 0, 'Position Embedding in Key')"
      ]
     },
     "execution_count": 222,
     "metadata": {},
     "output_type": "execute_result"
    },
    {
     "data": {
      "image/png": "[encoded data removed]",
      "text/plain": [
       "<Figure size 640x480 with 1 Axes>"
      ]
     },
     "metadata": {},
     "output_type": "display_data"
    }
   ],
   "source": [
    "scores = torch.zeros(model.cfg.n_ctx, model.cfg.n_ctx)\n",
    "for q in range(model.cfg.n_ctx):\n",
    "    for k in range(model.cfg.n_ctx):\n",
    "        q_out = model.blocks[0].ln1( model.W_pos[q:q+1] ) @ model.blocks[0].attn.W_Q[0] + model.blocks[0].attn.b_Q\n",
    "        k_out = model.blocks[0].ln1( model.W_pos[k:k+1] ) @ model.blocks[0].attn.W_K[0] + model.blocks[0].attn.b_K\n",
    "        \n",
    "        if k < q:\n",
    "            scores[q, k] = q_out @ k_out.T\n",
    "\n",
    "scores = scores.detach().cpu().clone()\n",
    "scores_np_mps0 = scores.detach().detach().clone().cpu().numpy()\n",
    "plt.imshow(scores.softmax(dim=1).detach().numpy(), cmap=\"RdBu\", vmin=-1, vmax=1)\n",
    "scores_np_mps1 = scores.detach().detach().cpu().numpy()\n",
    "\n",
    "plt.ylabel(\"Position Embedding in Query\")\n",
    "plt.xlabel(\"Position Embedding in Key\")"
   ]
  },
  {
   "cell_type": "code",
   "execution_count": 223,
   "id": "8dba93d0-d862-4f1f-8225-e1afab799ab8",
   "metadata": {},
   "outputs": [
    {
     "data": {
      "text/plain": [
       "tensor[65, 65] n=4225 (17Kb) x∈[-56.219, 91.154] μ=-2.575 σ=12.256"
      ]
     },
     "execution_count": 223,
     "metadata": {},
     "output_type": "execute_result"
    }
   ],
   "source": [
    "scores"
   ]
  },
  {
   "cell_type": "code",
   "execution_count": 224,
   "id": "851fa641-2abd-4dee-9404-6e7ec641ef12",
   "metadata": {},
   "outputs": [
    {
     "data": {
      "text/plain": [
       "array([[  0.        ,   0.        ,   0.        , ...,   0.        ,\n",
       "          0.        ,   0.        ],\n",
       "       [ 14.906864  ,   0.        ,   0.        , ...,   0.        ,\n",
       "          0.        ,   0.        ],\n",
       "       [ -3.831859  ,  -1.1249268 ,   0.        , ...,   0.        ,\n",
       "          0.        ,   0.        ],\n",
       "       ...,\n",
       "       [-27.347038  ,   1.8288695 ,  12.538565  , ...,   0.        ,\n",
       "          0.        ,   0.        ],\n",
       "       [  3.8543057 ,   6.9255457 ,  20.011084  , ...,  -0.07043433,\n",
       "          0.        ,   0.        ],\n",
       "       [  0.9165263 ,   6.085339  ,  21.66562   , ...,  -2.7506723 ,\n",
       "         13.901514  ,   0.        ]], dtype=float32)"
      ]
     },
     "execution_count": 224,
     "metadata": {},
     "output_type": "execute_result"
    }
   ],
   "source": []
  },
  {
   "cell_type": "code",
   "execution_count": 190,
   "id": "38290990-8bba-4875-b850-31e738a3d8a2",
   "metadata": {},
   "outputs": [
    {
     "data": {
      "text/plain": [
       "array([[13.901515,  0.      ,  0.      , ...,  0.      ,  0.      ,\n",
       "         0.      ],\n",
       "       [ 0.      ,  0.      ,  0.      , ...,  0.      ,  0.      ,\n",
       "         0.      ],\n",
       "       [ 0.      ,  0.      ,  0.      , ...,  0.      ,  0.      ,\n",
       "         0.      ],\n",
       "       ...,\n",
       "       [ 0.      ,  0.      ,  0.      , ...,  0.      ,  0.      ,\n",
       "         0.      ],\n",
       "       [ 0.      ,  0.      ,  0.      , ...,  0.      ,  0.      ,\n",
       "         0.      ],\n",
       "       [ 0.      ,  0.      ,  0.      , ...,  0.      ,  0.      ,\n",
       "         0.      ]], dtype=float32)"
      ]
     },
     "execution_count": 190,
     "metadata": {},
     "output_type": "execute_result"
    }
   ],
   "source": [
    "scores_np_mps1"
   ]
  },
  {
   "cell_type": "code",
   "execution_count": 74,
   "id": "89129488-5edb-4a05-804f-d2d3829911e5",
   "metadata": {},
   "outputs": [
    {
     "data": {
      "text/plain": [
       "tensor[128, 128] n=16384 (64Kb) x∈[-0.280, 0.300] μ=-0.001 σ=0.073 grad SelectBackward0 mps:0\n",
       "tensor([[-0.0655,  0.0709, -0.0205,  ...,  0.0554,  0.0823,  0.1564],\n",
       "        [-0.0206,  0.1043, -0.0218,  ..., -0.0063,  0.0522, -0.0086],\n",
       "        [ 0.0364, -0.0731, -0.0790,  ...,  0.0568,  0.0472, -0.0114],\n",
       "        ...,\n",
       "        [ 0.0154, -0.1034,  0.2008,  ..., -0.0355, -0.0214, -0.0540],\n",
       "        [-0.0647, -0.0232,  0.1603,  ...,  0.0598, -0.0769,  0.0298],\n",
       "        [-0.0760, -0.1239,  0.0162,  ...,  0.0463,  0.0340,  0.0130]],\n",
       "       device='mps:0', grad_fn=<SelectBackward0>)"
      ]
     },
     "execution_count": 74,
     "metadata": {},
     "output_type": "execute_result"
    }
   ],
   "source": [
    "model.blocks[0].attn.W_Q[0].v"
   ]
  },
  {
   "cell_type": "code",
   "execution_count": 76,
   "id": "d7512a89-108b-4b03-a490-9f1ece181a2c",
   "metadata": {},
   "outputs": [
    {
     "data": {
      "text/plain": [
       "tensor[3, 3] n=9 x∈[9.175e-07, 1.000] μ=0.121 σ=0.330 [[1.000, 9.175e-07, 9.175e-07], [0.015, 0.015, 0.015], [0.015, 0.015, 0.015]]\n",
       "tensor([[9.9994e-01, 9.1754e-07, 9.1754e-07],\n",
       "        [1.5385e-02, 1.5385e-02, 1.5385e-02],\n",
       "        [1.5385e-02, 1.5385e-02, 1.5385e-02]])"
      ]
     },
     "execution_count": 76,
     "metadata": {},
     "output_type": "execute_result"
    }
   ],
   "source": [
    "scores.softmax(dim=1).detach()[:3, :3].v"
   ]
  },
  {
   "cell_type": "code",
   "execution_count": null,
   "id": "40b89710-4e83-4bba-9d10-eae0492da50e",
   "metadata": {},
   "outputs": [],
   "source": []
  }
 ],
 "metadata": {
  "kernelspec": {
   "display_name": "Python 3 (ipykernel)",
   "language": "python",
   "name": "python3"
  },
  "language_info": {
   "codemirror_mode": {
    "name": "ipython",
    "version": 3
   },
   "file_extension": ".py",
   "mimetype": "text/x-python",
   "name": "python",
   "nbconvert_exporter": "python",
   "pygments_lexer": "ipython3",
   "version": "3.11.4"
  }
 },
 "nbformat": 4,
 "nbformat_minor": 5
}
