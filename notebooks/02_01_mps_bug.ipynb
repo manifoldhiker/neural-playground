{
 "cells": [
  {
   "cell_type": "markdown",
   "id": "a1604b1d-f2e2-47e6-aaaa-e63531dc92dc",
   "metadata": {},
   "source": [
    "## Setup"
   ]
  },
  {
   "cell_type": "markdown",
   "id": "a0b43635-08a1-41fc-bc69-eb982bf616b2",
   "metadata": {},
   "source": [
    "### Imports"
   ]
  },
  {
   "cell_type": "code",
   "execution_count": 1,
   "id": "8fc35657-c8ff-4c4d-9300-ac15a47ce390",
   "metadata": {},
   "outputs": [],
   "source": [
    "import sys; sys.path.append('..')"
   ]
  },
  {
   "cell_type": "code",
   "execution_count": 2,
   "id": "887b3130-bf5e-42a8-841c-51b0a0a6e0f2",
   "metadata": {},
   "outputs": [],
   "source": [
    "# ! pip install lovely-tensors"
   ]
  },
  {
   "cell_type": "code",
   "execution_count": 3,
   "id": "b96b80e2-8f8d-45ee-a2fc-88c92ec20bdd",
   "metadata": {},
   "outputs": [],
   "source": [
    "import torch\n",
    "import numpy as np\n",
    "import torch.nn.functional as F\n",
    "from torch.utils.data import DataLoader\n",
    "\n",
    "from transformer_lens import HookedTransformer, HookedTransformerConfig"
   ]
  },
  {
   "cell_type": "code",
   "execution_count": 23,
   "id": "bf579d3e-3977-4ffa-8254-37b1b7cb1e16",
   "metadata": {},
   "outputs": [
    {
     "name": "stdout",
     "output_type": "stream",
     "text": [
      "--2024-04-11 12:47:59--  https://raw.githubusercontent.com/pytorch/pytorch/main/torch/utils/collect_env.py\n",
      "Resolving raw.githubusercontent.com (raw.githubusercontent.com)... 2606:50c0:8003::154, 2606:50c0:8002::154, 2606:50c0:8000::154, ...\n",
      "Connecting to raw.githubusercontent.com (raw.githubusercontent.com)|2606:50c0:8003::154|:443... connected.\n",
      "HTTP request sent, awaiting response... 200 OK\n",
      "Length: 22068 (22K) [text/plain]\n",
      "Saving to: ‘collect_env.py’\n",
      "\n",
      "collect_env.py      100%[===================>]  21.55K  --.-KB/s    in 0.001s  \n",
      "\n",
      "2024-04-11 12:47:59 (18.2 MB/s) - ‘collect_env.py’ saved [22068/22068]\n",
      "\n",
      "Collecting environment information...\n",
      "PyTorch version: 2.0.1\n",
      "Is debug build: False\n",
      "CUDA used to build PyTorch: None\n",
      "ROCM used to build PyTorch: N/A\n",
      "\n",
      "OS: macOS 14.4.1 (arm64)\n",
      "GCC version: Could not collect\n",
      "Clang version: 15.0.0 (clang-1500.3.9.4)\n",
      "CMake version: Could not collect\n",
      "Libc version: N/A\n",
      "\n",
      "Python version: 3.11.4 (main, Jul  5 2023, 08:40:20) [Clang 14.0.6 ] (64-bit runtime)\n",
      "Python platform: macOS-14.4.1-arm64-arm-64bit\n",
      "Is CUDA available: False\n",
      "CUDA runtime version: No CUDA\n",
      "CUDA_MODULE_LOADING set to: N/A\n",
      "GPU models and configuration: No CUDA\n",
      "Nvidia driver version: No CUDA\n",
      "cuDNN version: No CUDA\n",
      "HIP runtime version: N/A\n",
      "MIOpen runtime version: N/A\n",
      "Is XNNPACK available: True\n",
      "\n",
      "CPU:\n",
      "Apple M1 Pro\n",
      "\n",
      "Versions of relevant libraries:\n",
      "[pip3] lovely-numpy==0.2.9\n",
      "[pip3] mypy-extensions==1.0.0\n",
      "[pip3] numpy==1.25.2\n",
      "[pip3] onnxruntime==1.16.0\n",
      "[pip3] torch==2.0.1\n",
      "[pip3] torchvision==0.15.2\n",
      "[conda] lovely-numpy              0.2.9                    pypi_0    pypi\n",
      "[conda] numpy                     1.25.2                   pypi_0    pypi\n",
      "[conda] torch                     2.0.1                    pypi_0    pypi\n",
      "[conda] torchvision               0.15.2                   pypi_0    pypi\n"
     ]
    }
   ],
   "source": [
    "! wget https://raw.githubusercontent.com/pytorch/pytorch/main/torch/utils/collect_env.py\n",
    "! python collect_env.py\n",
    "# For security purposes, please check the contents of collect_env.py before running it."
   ]
  },
  {
   "cell_type": "code",
   "execution_count": null,
   "id": "c15fecdb-86b0-4b5a-a1f8-7068b32daa8d",
   "metadata": {},
   "outputs": [],
   "source": []
  },
  {
   "cell_type": "code",
   "execution_count": 20,
   "id": "3344d397-fbc1-4c5f-9c07-4cb87a4cd7fd",
   "metadata": {},
   "outputs": [
    {
     "data": {
      "text/plain": [
       "tensor([[32.,  0.,  0.],\n",
       "        [ 0.,  0.,  0.],\n",
       "        [ 0.,  0.,  0.]])"
      ]
     },
     "execution_count": 20,
     "metadata": {},
     "output_type": "execute_result"
    }
   ],
   "source": [
    "import torch\n",
    "\n",
    "M = torch.zeros(3,3, device='cpu')\n",
    "\n",
    "M[1,1] = torch.tensor([3.], device='mps')\n",
    "M[-1,-1] = torch.tensor([-3.], device='mps')\n",
    "M[0,1] = torch.tensor([32.], device='mps')\n",
    "\n",
    "M"
   ]
  },
  {
   "cell_type": "code",
   "execution_count": 24,
   "id": "967f91ca-85de-4406-b261-c4744415c619",
   "metadata": {},
   "outputs": [
    {
     "name": "stdout",
     "output_type": "stream",
     "text": [
      "tensor([[ 0., 32.,  0.],\n",
      "        [ 0.,  3.,  0.],\n",
      "        [ 0.,  0., -3.]], device='mps:0')\n"
     ]
    }
   ],
   "source": [
    "import torch\n",
    "\n",
    "M = torch.zeros(3,3, device='mps')\n",
    "\n",
    "M[1,1] = torch.tensor([3.], device='mps')\n",
    "M[-1,-1] = torch.tensor([-3.], device='mps')\n",
    "M[0,1] = torch.tensor([32.], device='mps')\n",
    "\n",
    "print(M)"
   ]
  },
  {
   "cell_type": "code",
   "execution_count": null,
   "id": "fd7d8849-4931-49b5-a185-c5e0e5b16e51",
   "metadata": {},
   "outputs": [],
   "source": []
  },
  {
   "cell_type": "code",
   "execution_count": 5,
   "id": "508b0619-52ea-40df-a45f-16449f9e7dff",
   "metadata": {},
   "outputs": [],
   "source": [
    "import wandb\n",
    "from tqdm.auto import tqdm\n",
    "\n",
    "from omegaconf import OmegaConf\n",
    "\n",
    "from datetime import datetime\n",
    "\n",
    "from pathlib import Path\n",
    "\n",
    "import numpy as np\n",
    "import seaborn as sns\n",
    "import matplotlib.pyplot as plt"
   ]
  },
  {
   "cell_type": "code",
   "execution_count": 6,
   "id": "d671850d-c838-4974-883a-100772cadb49",
   "metadata": {
    "scrolled": true
   },
   "outputs": [],
   "source": [
    "from src.tree import list2tree\n",
    "from src.tree_dataset import TreeDataset, parse_input_idx, input_tokens_to_tree, tree_to_edges\n",
    "from src.utils import seed_all\n",
    "\n",
    "\n",
    "from src.trainer import TreeTrainer"
   ]
  },
  {
   "cell_type": "code",
   "execution_count": 7,
   "id": "30a2111f-50a7-4160-96f0-fd51d1cea9c3",
   "metadata": {},
   "outputs": [],
   "source": [
    "def load_model(device):\n",
    "    n_states = 16\n",
    "    max_seq_length = n_states * 4 + 2\n",
    "    \n",
    "    number_tokens = sorted([str(i) for i in range(n_states)], key=lambda x: len(x), reverse=True)\n",
    "    idx2tokens = [\",\", \":\", \"|\"] + [f\">{t}\" for t in number_tokens] + number_tokens\n",
    "    tokens2idx = {token: idx for idx, token in enumerate(idx2tokens)}\n",
    "    \n",
    "    \n",
    "    cfg = HookedTransformerConfig(\n",
    "        n_layers=6,\n",
    "        d_model=128,\n",
    "        n_ctx=max_seq_length - 1,\n",
    "        n_heads=1,\n",
    "        d_mlp=512,\n",
    "        d_head=128,\n",
    "        #attn_only=True,\n",
    "        d_vocab=len(idx2tokens),\n",
    "        device=device,\n",
    "        attention_dir= \"causal\",\n",
    "        act_fn=\"gelu\",\n",
    "    )\n",
    "    model = HookedTransformer(cfg)\n",
    "    \n",
    "    model.load_state_dict(torch.load(\"/Users/mykhailokilianovskyi/src/backward-chaining-circuits/model.pt\", map_location=torch.device(device)))\n",
    "    \n",
    "    return model"
   ]
  },
  {
   "cell_type": "code",
   "execution_count": 8,
   "id": "c1a352e8-e3aa-4a9f-bb18-cae58fb630d7",
   "metadata": {},
   "outputs": [
    {
     "name": "stdout",
     "output_type": "stream",
     "text": [
      "(q_out @ k_out.T)=tensor([[14.9069]], grad_fn=<MmBackward0>), scores[q, k]=tensor(14.9069, grad_fn=<SelectBackward0>) k=0 q=1\n",
      "(q_out @ k_out.T)=tensor([[-3.8319]], grad_fn=<MmBackward0>), scores[q, k]=tensor(-3.8319, grad_fn=<SelectBackward0>) k=0 q=2\n",
      "(q_out @ k_out.T)=tensor([[-1.1249]], grad_fn=<MmBackward0>), scores[q, k]=tensor(-1.1249, grad_fn=<SelectBackward0>) k=1 q=2\n",
      "(q_out @ k_out.T)=tensor([[-12.4313]], grad_fn=<MmBackward0>), scores[q, k]=tensor(-12.4313, grad_fn=<SelectBackward0>) k=0 q=3\n",
      "(q_out @ k_out.T)=tensor([[1.2763]], grad_fn=<MmBackward0>), scores[q, k]=tensor(1.2763, grad_fn=<SelectBackward0>) k=1 q=3\n",
      "(q_out @ k_out.T)=tensor([[18.0575]], grad_fn=<MmBackward0>), scores[q, k]=tensor(18.0575, grad_fn=<SelectBackward0>) k=2 q=3\n"
     ]
    },
    {
     "data": {
      "text/plain": [
       "Text(0.5, 0, 'Position Embedding in Key')"
      ]
     },
     "execution_count": 8,
     "metadata": {},
     "output_type": "execute_result"
    },
    {
     "data": {
      "image/png": "[encoded data removed]",
      "text/plain": [
       "<Figure size 640x480 with 1 Axes>"
      ]
     },
     "metadata": {},
     "output_type": "display_data"
    }
   ],
   "source": [
    "model = load_model('cpu')\n",
    "scores = torch.zeros(model.cfg.n_ctx, model.cfg.n_ctx)\n",
    "for q in range(model.cfg.n_ctx):\n",
    "    for k in range(model.cfg.n_ctx):\n",
    "        q_out = model.blocks[0].ln1( model.W_pos[q:q+1] ) @ model.blocks[0].attn.W_Q[0] + model.blocks[0].attn.b_Q\n",
    "        k_out = model.blocks[0].ln1( model.W_pos[k:k+1] ) @ model.blocks[0].attn.W_K[0] + model.blocks[0].attn.b_K\n",
    "        \n",
    "        if k < q:\n",
    "            scores[q, k] = q_out @ k_out.T\n",
    "\n",
    "            if q < 4:\n",
    "                print(f'{(q_out @ k_out.T)=}, {scores[q, k]=} {k=} {q=}')\n",
    "\n",
    "\n",
    "plt.imshow(scores.softmax(dim=1).detach(), cmap=\"RdBu\", vmin=-1, vmax=1)\n",
    "plt.ylabel(\"Position Embedding in Query\")\n",
    "plt.xlabel(\"Position Embedding in Key\")"
   ]
  },
  {
   "cell_type": "code",
   "execution_count": 9,
   "id": "12090389-6de2-4ad0-b331-a1237781c9e4",
   "metadata": {},
   "outputs": [
    {
     "name": "stdout",
     "output_type": "stream",
     "text": [
      "(q_out @ k_out.T)=tensor([[14.9069]], device='mps:0', grad_fn=<MmBackward0>), scores[q, k]=tensor(0., grad_fn=<SelectBackward0>) k=0 q=1\n",
      "(q_out @ k_out.T)=tensor([[-3.8319]], device='mps:0', grad_fn=<MmBackward0>), scores[q, k]=tensor(0., grad_fn=<SelectBackward0>) k=0 q=2\n",
      "(q_out @ k_out.T)=tensor([[-1.1249]], device='mps:0', grad_fn=<MmBackward0>), scores[q, k]=tensor(0., grad_fn=<SelectBackward0>) k=1 q=2\n",
      "(q_out @ k_out.T)=tensor([[-12.4314]], device='mps:0', grad_fn=<MmBackward0>), scores[q, k]=tensor(0., grad_fn=<SelectBackward0>) k=0 q=3\n",
      "(q_out @ k_out.T)=tensor([[1.2763]], device='mps:0', grad_fn=<MmBackward0>), scores[q, k]=tensor(0., grad_fn=<SelectBackward0>) k=1 q=3\n",
      "(q_out @ k_out.T)=tensor([[18.0575]], device='mps:0', grad_fn=<MmBackward0>), scores[q, k]=tensor(0., grad_fn=<SelectBackward0>) k=2 q=3\n"
     ]
    },
    {
     "data": {
      "text/plain": [
       "Text(0.5, 0, 'Position Embedding in Key')"
      ]
     },
     "execution_count": 9,
     "metadata": {},
     "output_type": "execute_result"
    },
    {
     "data": {
      "image/png": "[encoded data removed]",
      "text/plain": [
       "<Figure size 640x480 with 1 Axes>"
      ]
     },
     "metadata": {},
     "output_type": "display_data"
    }
   ],
   "source": [
    "model = load_model('mps')\n",
    "scores = torch.zeros(model.cfg.n_ctx, model.cfg.n_ctx)\n",
    "for q in range(model.cfg.n_ctx):\n",
    "    for k in range(model.cfg.n_ctx):\n",
    "        q_out = model.blocks[0].ln1( model.W_pos[q:q+1] ) @ model.blocks[0].attn.W_Q[0] + model.blocks[0].attn.b_Q\n",
    "        k_out = model.blocks[0].ln1( model.W_pos[k:k+1] ) @ model.blocks[0].attn.W_K[0] + model.blocks[0].attn.b_K\n",
    "        \n",
    "        if k < q:\n",
    "            scores[q, k] = q_out @ k_out.T\n",
    "\n",
    "            if q < 4:\n",
    "                print(f'{(q_out @ k_out.T)=}, {scores[q, k]=} {k=} {q=}')\n",
    "\n",
    "\n",
    "plt.imshow(scores.softmax(dim=1).detach(), cmap=\"RdBu\", vmin=-1, vmax=1)\n",
    "plt.ylabel(\"Position Embedding in Query\")\n",
    "plt.xlabel(\"Position Embedding in Key\")"
   ]
  },
  {
   "cell_type": "code",
   "execution_count": 10,
   "id": "8a8ba35d-a35a-4609-8576-217dbc600383",
   "metadata": {},
   "outputs": [],
   "source": [
    "scores = scores.detach().cpu().clone()\n",
    "scores_np_mps0 = scores.detach().detach().clone().cpu().numpy()"
   ]
  },
  {
   "cell_type": "code",
   "execution_count": 11,
   "id": "de4275ac-5290-412e-b953-b962aae3855a",
   "metadata": {},
   "outputs": [
    {
     "data": {
      "text/plain": [
       "<matplotlib.image.AxesImage at 0x33efae0d0>"
      ]
     },
     "execution_count": 11,
     "metadata": {},
     "output_type": "execute_result"
    },
    {
     "data": {
      "image/png": "[encoded data removed]",
      "text/plain": [
       "<Figure size 640x480 with 1 Axes>"
      ]
     },
     "metadata": {},
     "output_type": "display_data"
    }
   ],
   "source": [
    "plt.imshow(scores.softmax(dim=1).detach().numpy(), cmap=\"RdBu\", vmin=-1, vmax=1)"
   ]
  },
  {
   "cell_type": "code",
   "execution_count": 12,
   "id": "6e7c7dba-e3ef-4169-8140-6d90ef4c08e7",
   "metadata": {},
   "outputs": [
    {
     "data": {
      "text/plain": [
       "Text(0.5, 0, 'Position Embedding in Key')"
      ]
     },
     "execution_count": 12,
     "metadata": {},
     "output_type": "execute_result"
    },
    {
     "data": {
      "image/png": "[encoded data removed]",
      "text/plain": [
       "<Figure size 640x480 with 1 Axes>"
      ]
     },
     "metadata": {},
     "output_type": "display_data"
    }
   ],
   "source": [
    "scores = torch.zeros(model.cfg.n_ctx, model.cfg.n_ctx)\n",
    "for q in range(model.cfg.n_ctx):\n",
    "    for k in range(model.cfg.n_ctx):\n",
    "        q_out = model.blocks[0].ln1( model.W_pos[q:q+1] ) @ model.blocks[0].attn.W_Q[0] + model.blocks[0].attn.b_Q\n",
    "        k_out = model.blocks[0].ln1( model.W_pos[k:k+1] ) @ model.blocks[0].attn.W_K[0] + model.blocks[0].attn.b_K\n",
    "        \n",
    "        if k < q:\n",
    "            scores[q, k] = q_out @ k_out.T\n",
    "\n",
    "scores = scores.detach().cpu().clone()\n",
    "scores_np_mps0 = scores.detach().detach().clone().cpu().numpy()\n",
    "plt.imshow(scores.softmax(dim=1).detach().numpy(), cmap=\"RdBu\", vmin=-1, vmax=1)\n",
    "scores_np_mps1 = scores.detach().detach().cpu().numpy()\n",
    "\n",
    "plt.ylabel(\"Position Embedding in Query\")\n",
    "plt.xlabel(\"Position Embedding in Key\")"
   ]
  },
  {
   "cell_type": "code",
   "execution_count": 13,
   "id": "8dba93d0-d862-4f1f-8225-e1afab799ab8",
   "metadata": {},
   "outputs": [
    {
     "data": {
      "text/plain": [
       "tensor([[13.9015,  0.0000,  0.0000,  ...,  0.0000,  0.0000,  0.0000],\n",
       "        [ 0.0000,  0.0000,  0.0000,  ...,  0.0000,  0.0000,  0.0000],\n",
       "        [ 0.0000,  0.0000,  0.0000,  ...,  0.0000,  0.0000,  0.0000],\n",
       "        ...,\n",
       "        [ 0.0000,  0.0000,  0.0000,  ...,  0.0000,  0.0000,  0.0000],\n",
       "        [ 0.0000,  0.0000,  0.0000,  ...,  0.0000,  0.0000,  0.0000],\n",
       "        [ 0.0000,  0.0000,  0.0000,  ...,  0.0000,  0.0000,  0.0000]])"
      ]
     },
     "execution_count": 13,
     "metadata": {},
     "output_type": "execute_result"
    }
   ],
   "source": [
    "scores"
   ]
  },
  {
   "cell_type": "code",
   "execution_count": null,
   "id": "851fa641-2abd-4dee-9404-6e7ec641ef12",
   "metadata": {},
   "outputs": [],
   "source": []
  },
  {
   "cell_type": "code",
   "execution_count": 14,
   "id": "38290990-8bba-4875-b850-31e738a3d8a2",
   "metadata": {},
   "outputs": [
    {
     "data": {
      "text/plain": [
       "array([[13.901515,  0.      ,  0.      , ...,  0.      ,  0.      ,\n",
       "         0.      ],\n",
       "       [ 0.      ,  0.      ,  0.      , ...,  0.      ,  0.      ,\n",
       "         0.      ],\n",
       "       [ 0.      ,  0.      ,  0.      , ...,  0.      ,  0.      ,\n",
       "         0.      ],\n",
       "       ...,\n",
       "       [ 0.      ,  0.      ,  0.      , ...,  0.      ,  0.      ,\n",
       "         0.      ],\n",
       "       [ 0.      ,  0.      ,  0.      , ...,  0.      ,  0.      ,\n",
       "         0.      ],\n",
       "       [ 0.      ,  0.      ,  0.      , ...,  0.      ,  0.      ,\n",
       "         0.      ]], dtype=float32)"
      ]
     },
     "execution_count": 14,
     "metadata": {},
     "output_type": "execute_result"
    }
   ],
   "source": [
    "scores_np_mps1"
   ]
  },
  {
   "cell_type": "code",
   "execution_count": 15,
   "id": "89129488-5edb-4a05-804f-d2d3829911e5",
   "metadata": {},
   "outputs": [
    {
     "ename": "AttributeError",
     "evalue": "'Tensor' object has no attribute 'v'",
     "output_type": "error",
     "traceback": [
      "\u001b[0;31m---------------------------------------------------------------------------\u001b[0m",
      "\u001b[0;31mAttributeError\u001b[0m                            Traceback (most recent call last)",
      "Cell \u001b[0;32mIn[15], line 1\u001b[0m\n\u001b[0;32m----> 1\u001b[0m \u001b[43mmodel\u001b[49m\u001b[38;5;241;43m.\u001b[39;49m\u001b[43mblocks\u001b[49m\u001b[43m[\u001b[49m\u001b[38;5;241;43m0\u001b[39;49m\u001b[43m]\u001b[49m\u001b[38;5;241;43m.\u001b[39;49m\u001b[43mattn\u001b[49m\u001b[38;5;241;43m.\u001b[39;49m\u001b[43mW_Q\u001b[49m\u001b[43m[\u001b[49m\u001b[38;5;241;43m0\u001b[39;49m\u001b[43m]\u001b[49m\u001b[38;5;241;43m.\u001b[39;49m\u001b[43mv\u001b[49m\n",
      "\u001b[0;31mAttributeError\u001b[0m: 'Tensor' object has no attribute 'v'"
     ]
    }
   ],
   "source": [
    "model.blocks[0].attn.W_Q[0].v"
   ]
  },
  {
   "cell_type": "code",
   "execution_count": null,
   "id": "d7512a89-108b-4b03-a490-9f1ece181a2c",
   "metadata": {},
   "outputs": [],
   "source": [
    "scores.softmax(dim=1).detach()[:3, :3].v"
   ]
  },
  {
   "cell_type": "code",
   "execution_count": null,
   "id": "40b89710-4e83-4bba-9d10-eae0492da50e",
   "metadata": {},
   "outputs": [],
   "source": []
  }
 ],
 "metadata": {
  "kernelspec": {
   "display_name": "Python 3 (ipykernel)",
   "language": "python",
   "name": "python3"
  },
  "language_info": {
   "codemirror_mode": {
    "name": "ipython",
    "version": 3
   },
   "file_extension": ".py",
   "mimetype": "text/x-python",
   "name": "python",
   "nbconvert_exporter": "python",
   "pygments_lexer": "ipython3",
   "version": "3.11.4"
  }
 },
 "nbformat": 4,
 "nbformat_minor": 5
}
