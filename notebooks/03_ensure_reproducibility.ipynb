{
 "cells": [
  {
   "cell_type": "markdown",
   "id": "0ef3006c-56ce-4a14-94b8-76967e26ddc3",
   "metadata": {},
   "source": [
    "- [x] Create translator into baseline model\n",
    "- [x] Ensure similar metrics on your dataset generator\n",
    "- [x] Do the Direct look 👀 onto impl"
   ]
  },
  {
   "cell_type": "markdown",
   "id": "66513cfe-e930-4d6c-a7ad-dfbcfd74b1da",
   "metadata": {},
   "source": [
    "## Direct 👀 into impl"
   ]
  },
  {
   "cell_type": "markdown",
   "id": "41671c1d-9cbc-4781-8012-7b94ac6ec314",
   "metadata": {},
   "source": [
    "\n",
    "There are two orders they give edges into \"random\" and \"backward\":\n",
    " \n",
    " - https://github.com/abhay-sheshadri/backward-chaining-circuits/blob/main/src/tree_generation/gen.py#L125\n",
    "\n",
    "\n",
    "  - https://github.com/abhay-sheshadri/backward-chaining-circuits/blob/main/src/tree_generation/gen.py#L153\n",
    "\n",
    "```python\n",
    "if order == \"random\":\n",
    "    rng.shuffle(edgelist)\n",
    "elif order == \"backward\":\n",
    "    edgelist = edgelist[::-1]\n",
    "```\n",
    "\n",
    "\n",
    "Not sure which one they used in training, default param to function is \"random\".\n",
    "\n",
    "I used random, that sounds more strict. So should be no worries there."
   ]
  },
  {
   "cell_type": "markdown",
   "id": "40605c80-2241-4ad5-b2ee-fc09d6f6db5d",
   "metadata": {},
   "source": [
    "## Setup"
   ]
  },
  {
   "cell_type": "code",
   "execution_count": 1,
   "id": "bfadc843-6e9d-4ca7-b16a-8302bbf80bab",
   "metadata": {},
   "outputs": [],
   "source": [
    "N_TEST_BATCHES = 100"
   ]
  },
  {
   "cell_type": "code",
   "execution_count": 2,
   "id": "cbd29527-f46f-4060-ad64-e5da3e493477",
   "metadata": {},
   "outputs": [],
   "source": [
    "import sys; sys.path.append('..')"
   ]
  },
  {
   "cell_type": "code",
   "execution_count": 3,
   "id": "4f721d33-9042-4655-8c58-6372ca7b7447",
   "metadata": {},
   "outputs": [],
   "source": [
    "# ! pip install lovely-tensors\n",
    "\n",
    "import lovely_tensors as lt\n",
    "lt.monkey_patch()"
   ]
  },
  {
   "cell_type": "code",
   "execution_count": 4,
   "id": "e78adea4-5a7f-421d-ac24-ad0182eccf85",
   "metadata": {},
   "outputs": [],
   "source": [
    "import torch\n",
    "import numpy as np\n",
    "import pandas as pd\n",
    "import torch.nn.functional as F\n",
    "from torch.utils.data import DataLoader\n",
    "\n",
    "from transformer_lens import HookedTransformer, HookedTransformerConfig"
   ]
  },
  {
   "cell_type": "code",
   "execution_count": 5,
   "id": "606ae79e-b2fe-4dc2-b235-4acbaeda4be2",
   "metadata": {},
   "outputs": [],
   "source": [
    "import wandb\n",
    "from tqdm.auto import tqdm\n",
    "\n",
    "from omegaconf import OmegaConf\n",
    "\n",
    "from datetime import datetime\n",
    "\n",
    "from pathlib import Path\n",
    "\n",
    "import numpy as np\n",
    "import seaborn as sns\n",
    "import matplotlib.pyplot as plt"
   ]
  },
  {
   "cell_type": "code",
   "execution_count": 6,
   "id": "1d4e4230-83b6-41e0-aafc-3ba3a3e602a2",
   "metadata": {},
   "outputs": [],
   "source": [
    "from src.tree import list2tree\n",
    "from src.tree_dataset import TreeDataset, parse_input_idx, input_tokens_to_tree, tree_to_edges\n",
    "from src.utils import seed_all\n",
    "\n",
    "\n",
    "from src.trainer import accuracy_by_depth\n",
    "from src.trainer import TreeTrainer"
   ]
  },
  {
   "cell_type": "code",
   "execution_count": 7,
   "id": "ef65a0a1-0b0b-4b01-8c2f-9af5da58dec5",
   "metadata": {},
   "outputs": [
    {
     "name": "stdout",
     "output_type": "stream",
     "text": [
      "random_seed: 42\n",
      "n_nodes: 16\n",
      "model:\n",
      "  d_model: 128\n",
      "  d_head: 128\n",
      "  n_layers: 6\n",
      "  act_fn: gelu\n",
      "  attention_dir: causal\n",
      "optimizer:\n",
      "  lr: 0.001\n",
      "  weight_decay: 0.01\n",
      "batch_size: 64\n",
      "epoch_len_steps: 5000\n",
      "checkpoint_every_epoch: 2\n",
      "device: cpu\n",
      "debug: false\n",
      "use_wandb: true\n",
      "wandb:\n",
      "  project: reasoning-mech-interp\n",
      "  name: 00_6L_nodes=16\n",
      "max_iters: null\n",
      "\n"
     ]
    }
   ],
   "source": [
    "conf = OmegaConf.load('../conf/00_reproduce_6L_nodes=16.yaml')\n",
    "# Output is identical to the YAML file\n",
    "conf.n_nodes = 16\n",
    "conf.device = 'cpu'\n",
    "print(OmegaConf.to_yaml(conf))"
   ]
  },
  {
   "cell_type": "code",
   "execution_count": 8,
   "id": "97ace241-b17a-49b5-b0e5-ece8d8b0588f",
   "metadata": {},
   "outputs": [],
   "source": [
    "REPRODUCED_MODEL_CKPT = '../checkpoints/reasoning-mech-interp__2024-04-10_16-10-20/00_6L_nodes=16__step=220000.pt'"
   ]
  },
  {
   "cell_type": "code",
   "execution_count": 9,
   "id": "486fc681-ad2f-4e0d-b080-a375e538ffe7",
   "metadata": {},
   "outputs": [],
   "source": [
    "DEV_RUN = False\n",
    "USE_WANDB = (not DEV_RUN) and conf.use_wandb\n",
    "device = conf.device\n",
    "\n",
    "CHECKPOINT_ROOT = Path('../checkpoints')"
   ]
  },
  {
   "cell_type": "code",
   "execution_count": 10,
   "id": "d0baa5f9-f832-42e8-8474-493866b728a9",
   "metadata": {},
   "outputs": [
    {
     "name": "stdout",
     "output_type": "stream",
     "text": [
      "RANDOM_SEED=42\n"
     ]
    }
   ],
   "source": [
    "RANDOM_SEED = conf['random_seed']\n",
    "print(f'{RANDOM_SEED=}')\n",
    "seed_all(RANDOM_SEED)"
   ]
  },
  {
   "cell_type": "code",
   "execution_count": 11,
   "id": "9d99cf89-bc89-4c94-81c4-0997fee8116a",
   "metadata": {},
   "outputs": [
    {
     "name": "stdout",
     "output_type": "stream",
     "text": [
      "Moving model to device:  cpu\n"
     ]
    }
   ],
   "source": [
    "trainer = TreeTrainer(conf)\n",
    "\n",
    "tokenizer = trainer.dataset.tokenizer\n",
    "\n",
    "tok = tokenizer.tokenize\n",
    "detok = tokenizer.detokenize\n",
    "\n",
    "\n",
    "ROOT_DELIM_TOKEN_IDX = trainer.tok([':'])[0]"
   ]
  },
  {
   "cell_type": "code",
   "execution_count": 12,
   "id": "b485ed47-21cb-49a9-b65f-7d62f4787613",
   "metadata": {},
   "outputs": [
    {
     "data": {
      "text/plain": [
       "<All keys matched successfully>"
      ]
     },
     "execution_count": 12,
     "metadata": {},
     "output_type": "execute_result"
    }
   ],
   "source": [
    "state_dict = torch.load(REPRODUCED_MODEL_CKPT)\n",
    "trainer.model.load_state_dict(state_dict)"
   ]
  },
  {
   "cell_type": "code",
   "execution_count": 13,
   "id": "432a80f0-c8e0-452e-98cb-13e33d803c0d",
   "metadata": {},
   "outputs": [
    {
     "data": {
      "application/vnd.jupyter.widget-view+json": {
       "model_id": "ea961d33219749cfaa65fcd9751659cd",
       "version_major": 2,
       "version_minor": 0
      },
      "text/plain": [
       "  0%|          | 0/100 [00:00<?, ?it/s]"
      ]
     },
     "metadata": {},
     "output_type": "display_data"
    },
    {
     "data": {
      "text/plain": [
       "acc/depth=1      0.996667\n",
       "acc/depth=2      1.000000\n",
       "acc/depth=3      0.994493\n",
       "acc/depth=4      0.956678\n",
       "acc/depth=5      0.888542\n",
       "acc/depth=6      0.841603\n",
       "acc/depth=8      0.743056\n",
       "accuracy/mean    0.982899\n",
       "acc/depth=7      0.780296\n",
       "acc/depth=9      0.862069\n",
       "acc/depth=10     1.000000\n",
       "acc/depth=11     0.000000\n",
       "acc/depth=12     1.000000\n",
       "dtype: float64"
      ]
     },
     "execution_count": 13,
     "metadata": {},
     "output_type": "execute_result"
    }
   ],
   "source": [
    "sample_size = 0\n",
    "\n",
    "metric_df = []\n",
    "\n",
    "for i, batch in tqdm(zip(range(N_TEST_BATCHES), trainer.dataloader), total=N_TEST_BATCHES):\n",
    "    sample_size += len(batch['input_idx'])\n",
    "    with torch.inference_mode():\n",
    "        loss, metrics = trainer.train_step(batch)\n",
    "        metric_df.append(metrics)\n",
    "\n",
    "\n",
    "metric_df = pd.DataFrame(metric_df)\n",
    "\n",
    "metric_df.mean()"
   ]
  },
  {
   "cell_type": "code",
   "execution_count": null,
   "id": "123546f8-56f7-4190-8118-e507f2431693",
   "metadata": {},
   "outputs": [],
   "source": []
  },
  {
   "cell_type": "code",
   "execution_count": 14,
   "id": "8643ef29-cb90-45d5-aa62-c28be67767f5",
   "metadata": {},
   "outputs": [
    {
     "data": {
      "text/plain": [
       "(tensor grad NllLossBackward0 0.040,\n",
       " {'acc/depth=1': 1.0,\n",
       "  'acc/depth=2': 1.0,\n",
       "  'acc/depth=3': 1.0,\n",
       "  'acc/depth=4': 0.9333333333333333,\n",
       "  'acc/depth=5': 0.8666666666666667,\n",
       "  'acc/depth=6': 0.9230769230769231,\n",
       "  'acc/depth=7': 1.0,\n",
       "  'accuracy/mean': 0.9855595827102661})"
      ]
     },
     "execution_count": 14,
     "metadata": {},
     "output_type": "execute_result"
    }
   ],
   "source": [
    "trainer.train_step(batch)"
   ]
  },
  {
   "cell_type": "code",
   "execution_count": 15,
   "id": "9d25e304-4e78-4282-a8e8-7ca4f58b6ef5",
   "metadata": {},
   "outputs": [],
   "source": [
    "self = trainer"
   ]
  },
  {
   "cell_type": "code",
   "execution_count": 16,
   "id": "f9c5cdb6-4591-4ce2-b3bb-159d7869f7e6",
   "metadata": {},
   "outputs": [
    {
     "data": {
      "text/plain": [
       "{'acc/depth=1': 1.0,\n",
       " 'acc/depth=2': 1.0,\n",
       " 'acc/depth=3': 1.0,\n",
       " 'acc/depth=4': 0.9333333333333333,\n",
       " 'acc/depth=5': 0.8666666666666667,\n",
       " 'acc/depth=6': 0.9230769230769231,\n",
       " 'acc/depth=7': 1.0,\n",
       " 'accuracy/mean': 0.9855595827102661}"
      ]
     },
     "execution_count": 16,
     "metadata": {},
     "output_type": "execute_result"
    }
   ],
   "source": [
    "input_idx = batch['input_idx'].to(self.device)\n",
    "mask = batch['task_mask'].to(self.device)\n",
    "\n",
    "# input_idx = batch['input_idx'][..., :bas_max_seq_length].to(device)\n",
    "# mask = batch['task_mask'][..., :bas_max_seq_length].to(device)\n",
    "\n",
    "inputs = input_idx[:, :-1]\n",
    "\n",
    "out_mask = mask[:, 1:]\n",
    "targets = input_idx[:, 1:][out_mask]\n",
    "\n",
    "\n",
    "# print(input_idx[:1, :4])\n",
    "outputs = self.model(inputs)\n",
    "\n",
    "predictions = outputs[out_mask]\n",
    "\n",
    "loss = F.cross_entropy(predictions, targets)\n",
    "\n",
    "is_correct = (predictions.argmax(dim=-1) == targets)\n",
    "accuracy_mean = is_correct.float().mean()\n",
    "metrics = accuracy_by_depth(outputs, input_idx, out_mask)\n",
    "metrics['accuracy/mean'] = accuracy_mean.item()\n",
    "\n",
    "metrics"
   ]
  },
  {
   "cell_type": "markdown",
   "id": "f3edfb2e-f6d8-40cf-9dc3-0a4556b48e1a",
   "metadata": {},
   "source": [
    "## Create translator"
   ]
  },
  {
   "cell_type": "code",
   "execution_count": 17,
   "id": "faf48501-8341-4816-801a-be6b3920e9bd",
   "metadata": {},
   "outputs": [],
   "source": [
    "def load_baseline_model(device='cpu'):\n",
    "    n_states = 16\n",
    "    max_seq_length = n_states * 4 + 2\n",
    "    \n",
    "    number_tokens = sorted([str(i) for i in range(n_states)], key=lambda x: len(x), reverse=True)\n",
    "    idx2tokens = [\",\", \":\", \"|\"] + [f\">{t}\" for t in number_tokens] + number_tokens\n",
    "    tokens2idx = {token: idx for idx, token in enumerate(idx2tokens)}\n",
    "    \n",
    "    \n",
    "    cfg = HookedTransformerConfig(\n",
    "        n_layers=6,\n",
    "        d_model=128,\n",
    "        n_ctx=max_seq_length - 1,\n",
    "        n_heads=1,\n",
    "        d_mlp=512,\n",
    "        d_head=128,\n",
    "        #attn_only=True,\n",
    "        d_vocab=len(idx2tokens),\n",
    "        device=device,\n",
    "        attention_dir= \"causal\",\n",
    "        act_fn=\"gelu\",\n",
    "    )\n",
    "    model = HookedTransformer(cfg)\n",
    "    \n",
    "    model.load_state_dict(torch.load(\"/Users/mykhailokilianovskyi/src/backward-chaining-circuits/model.pt\", map_location=torch.device(device)))\n",
    "    \n",
    "    return model"
   ]
  },
  {
   "cell_type": "code",
   "execution_count": 18,
   "id": "2af04b84-462e-41f0-90f9-ae8472502b4d",
   "metadata": {},
   "outputs": [],
   "source": [
    "baseline_model = load_baseline_model()"
   ]
  },
  {
   "cell_type": "code",
   "execution_count": 19,
   "id": "51dd934b-97a7-48c2-a67d-b7fd01578b28",
   "metadata": {},
   "outputs": [],
   "source": [
    "seed_all(0)\n",
    "for batch in trainer.dataloader: break"
   ]
  },
  {
   "cell_type": "code",
   "execution_count": 20,
   "id": "76303fc4-13ce-4f1b-951f-fa1ff3c9f948",
   "metadata": {},
   "outputs": [
    {
     "name": "stdout",
     "output_type": "stream",
     "text": [
      "****************************************************************************************************\n",
      "                            12\n",
      "                             |\n",
      "                    +--------+-----------+\n",
      "                    |                    |\n",
      "                   15                    2\n",
      "                    |                    |\n",
      "              +-----+-----+           +--+-----+\n",
      "              |           |           |        |\n",
      "              4           6           5        9\n",
      "              |           |           |        |\n",
      "     +--------+--+     +--+        +--+     +--+\n",
      "     |           |     |           |        |\n",
      "     8           3     0          14        1\n",
      "     |                             |\n",
      "  +--+-----+                    +--+\n",
      "  |        |                    |\n",
      " 11        7                   10\n",
      "           |\n",
      "        +--+\n",
      "        |\n",
      "       13\n",
      "\n",
      "goal=3\n",
      "accuracy=1.0 gt_path=['→15', '→4', '→3'] pred_path=['→15', '→4', '→3']\n",
      "****************************************************************************************************\n"
     ]
    }
   ],
   "source": [
    "input_idx = batch['input_idx']\n",
    "trainer.print_sample_pred(input_idx[0])"
   ]
  },
  {
   "cell_type": "code",
   "execution_count": 21,
   "id": "f437b77d-140c-4615-b345-693d36ac1f45",
   "metadata": {},
   "outputs": [],
   "source": [
    "# goal: idx -> idx_baseline\n",
    "\n",
    "# our model idx -> token\n",
    "# bas model bastoken -> basidx\n",
    "\n",
    "# first: create token2bastoken\n",
    "# NOTE, in baseline: , is used as <PAD>"
   ]
  },
  {
   "cell_type": "code",
   "execution_count": 22,
   "id": "cf2b98e6-858e-4399-8aab-008aede10445",
   "metadata": {},
   "outputs": [],
   "source": [
    "n_states = 16\n",
    "bas_max_seq_length = n_states * 4 + 2\n",
    "\n",
    "number_tokens = sorted([str(i) for i in range(n_states)], key=lambda x: len(x), reverse=True)\n",
    "idx2tokens = [\",\", \":\", \"|\"] + [f\">{t}\" for t in number_tokens] + number_tokens\n",
    "tokens2idx = {token: idx for idx, token in enumerate(idx2tokens)}"
   ]
  },
  {
   "cell_type": "code",
   "execution_count": 23,
   "id": "c891b22c-ed3d-45f9-95bb-f58193ef0cd0",
   "metadata": {},
   "outputs": [],
   "source": [
    "# our_idx2token.keys()"
   ]
  },
  {
   "cell_type": "code",
   "execution_count": 24,
   "id": "889b47a5-d50f-4178-ac4e-a5a8e25ab714",
   "metadata": {},
   "outputs": [],
   "source": [
    "from src.tree_dataset import PAD_TOKEN"
   ]
  },
  {
   "cell_type": "code",
   "execution_count": 25,
   "id": "3c039d6e-97bb-4b77-b7e8-b3b9800309cc",
   "metadata": {},
   "outputs": [],
   "source": [
    "token2bastoken = {k.replace('>', '→'):k for k in tokens2idx.keys()}\n",
    "token2bastoken[PAD_TOKEN] = ','\n",
    "\n",
    "our_idx2token = trainer.dataset.tokenizer.idx2token\n",
    "\n",
    "idx2basidx = {}\n",
    "\n"
   ]
  },
  {
   "cell_type": "code",
   "execution_count": 26,
   "id": "9a6897cc-f850-4f2d-8615-b2f8ede755d3",
   "metadata": {},
   "outputs": [],
   "source": [
    "for idx, our_tok in our_idx2token.items():\n",
    "    bastoken = token2bastoken[our_tok]\n",
    "    basidx = tokens2idx[bastoken]\n",
    "    idx2basidx[idx] = basidx"
   ]
  },
  {
   "cell_type": "code",
   "execution_count": 27,
   "id": "1c49c6c3-ed51-4732-a232-7d9284f8983b",
   "metadata": {},
   "outputs": [
    {
     "data": {
      "text/plain": [
       "{0: 0,\n",
       " 1: 0,\n",
       " 2: 2,\n",
       " 3: 1,\n",
       " 4: 25,\n",
       " 5: 9,\n",
       " 6: 26,\n",
       " 7: 10,\n",
       " 8: 27,\n",
       " 9: 11,\n",
       " 10: 28,\n",
       " 11: 12,\n",
       " 12: 29,\n",
       " 13: 13,\n",
       " 14: 30,\n",
       " 15: 14,\n",
       " 16: 31,\n",
       " 17: 15,\n",
       " 18: 32,\n",
       " 19: 16,\n",
       " 20: 33,\n",
       " 21: 17,\n",
       " 22: 34,\n",
       " 23: 18,\n",
       " 24: 19,\n",
       " 25: 3,\n",
       " 26: 20,\n",
       " 27: 4,\n",
       " 28: 21,\n",
       " 29: 5,\n",
       " 30: 22,\n",
       " 31: 6,\n",
       " 32: 23,\n",
       " 33: 7,\n",
       " 34: 24,\n",
       " 35: 8}"
      ]
     },
     "execution_count": 27,
     "metadata": {},
     "output_type": "execute_result"
    }
   ],
   "source": [
    "idx2basidx"
   ]
  },
  {
   "cell_type": "code",
   "execution_count": null,
   "id": "28c74f6d-25ec-4bf4-bc8c-300c67798073",
   "metadata": {},
   "outputs": [],
   "source": []
  },
  {
   "cell_type": "code",
   "execution_count": null,
   "id": "16a80c60-a3c9-4d3b-966d-3e295fe06a9b",
   "metadata": {},
   "outputs": [],
   "source": []
  },
  {
   "cell_type": "code",
   "execution_count": 28,
   "id": "cc8a7d43-61d4-49c7-8fa3-0603af3ea96c",
   "metadata": {},
   "outputs": [],
   "source": [
    "BAS_ROOT_DELIM_TOKEN_IDX = tokens2idx['|']"
   ]
  },
  {
   "cell_type": "code",
   "execution_count": 29,
   "id": "6177b16a-a712-4eea-b7e4-789fd3ba1193",
   "metadata": {},
   "outputs": [],
   "source": [
    "def basidx2prompt(idx): return [idx2tokens[i] for i in idx]"
   ]
  },
  {
   "cell_type": "code",
   "execution_count": 30,
   "id": "617e40e3-b98a-4c40-b4c8-5fc40229e98d",
   "metadata": {},
   "outputs": [
    {
     "name": "stdout",
     "output_type": "stream",
     "text": [
      "bas_tokens[:5]=['12', '>15', ',', '7', '>13']\n"
     ]
    },
    {
     "data": {
      "text/plain": [
       "['12',\n",
       " '>15',\n",
       " ',',\n",
       " '7',\n",
       " '>13',\n",
       " ',',\n",
       " '2',\n",
       " '>5',\n",
       " ',',\n",
       " '12',\n",
       " '>2',\n",
       " ',',\n",
       " '4',\n",
       " '>8',\n",
       " ',',\n",
       " '6',\n",
       " '>0',\n",
       " ',',\n",
       " '15',\n",
       " '>4',\n",
       " ',',\n",
       " '9',\n",
       " '>1',\n",
       " ',',\n",
       " '15',\n",
       " '>6',\n",
       " ',',\n",
       " '4',\n",
       " '>3',\n",
       " ',',\n",
       " '8',\n",
       " '>11',\n",
       " ',',\n",
       " '8',\n",
       " '>7',\n",
       " ',',\n",
       " '2',\n",
       " '>9',\n",
       " ',',\n",
       " '5',\n",
       " '>14',\n",
       " ',',\n",
       " '14',\n",
       " '>10',\n",
       " '|',\n",
       " '3',\n",
       " ':',\n",
       " '12']"
      ]
     },
     "execution_count": 30,
     "metadata": {},
     "output_type": "execute_result"
    }
   ],
   "source": [
    "our_tokens = detok(input_idx[0])\n",
    "bas_tokens = [token2bastoken[t] for t in our_tokens]\n",
    "print(f'{bas_tokens[:5]=}')\n",
    "\n",
    "bas_idx = [tokens2idx[t] for t in bas_tokens]\n",
    "upper_task_bound = bas_idx.index(BAS_ROOT_DELIM_TOKEN_IDX) + 4\n",
    "\n",
    "prompt_idx = bas_idx[:upper_task_bound]\n",
    "basidx2prompt(prompt_idx)"
   ]
  },
  {
   "cell_type": "code",
   "execution_count": 31,
   "id": "da31b9f5-4307-42bc-95e8-0b20d488a6d4",
   "metadata": {},
   "outputs": [],
   "source": [
    "assert (prompt_idx )  == ([idx2basidx[i.item()] for i in  input_idx[0]][:len(prompt_idx)])"
   ]
  },
  {
   "cell_type": "code",
   "execution_count": 32,
   "id": "6d0d4f65-1955-4198-9d68-e1f3837885c3",
   "metadata": {},
   "outputs": [
    {
     "name": "stdout",
     "output_type": "stream",
     "text": [
      "pred_token='>15'\n",
      "pred_token='>4'\n",
      "pred_token='>3'\n",
      "pred_token=','\n",
      "pred_token=','\n",
      "pred_token=','\n",
      "pred_token=','\n"
     ]
    }
   ],
   "source": [
    "for i in range(7):\n",
    "    pred_idx_greedy = baseline_model(torch.tensor(prompt_idx))[0, -1].argmax()\n",
    "    pred_token = idx2tokens[pred_idx_greedy]\n",
    "    print(f'{pred_token=}')\n",
    "    prompt_idx.append(pred_idx_greedy)"
   ]
  },
  {
   "cell_type": "code",
   "execution_count": null,
   "id": "ac8eb504-15a9-4951-be9c-fb5cdb4c8336",
   "metadata": {},
   "outputs": [],
   "source": []
  },
  {
   "cell_type": "markdown",
   "id": "cddf639e-a9f2-4a64-b1d2-b8b2f59c673d",
   "metadata": {},
   "source": [
    "## Verify metrics"
   ]
  },
  {
   "cell_type": "code",
   "execution_count": 33,
   "id": "e61815ba-7498-4ad5-b7f8-68a8338deab0",
   "metadata": {},
   "outputs": [],
   "source": [
    "def baseline_batch_train_step(baseline_model, batch):\n",
    "    \n",
    "    input_idx = batch['input_idx'][..., :bas_max_seq_length].clone().to(device)\n",
    "    mask = batch['task_mask'][..., :bas_max_seq_length].clone().to(device)\n",
    "\n",
    "    input_idx.apply_(lambda i: idx2basidx[i])\n",
    "\n",
    "    inputs = input_idx[:, :-1]\n",
    "    \n",
    "    out_mask = mask[:, 1:]\n",
    "    targets = input_idx[:, 1:][out_mask]\n",
    "    \n",
    "    \n",
    "    # print(input_idx[:1, :4])\n",
    "    outputs = baseline_model(inputs)\n",
    "    \n",
    "    predictions = outputs[out_mask]\n",
    "    \n",
    "    loss = F.cross_entropy(predictions, targets)\n",
    "\n",
    "    is_correct = (predictions.argmax(dim=-1) == targets)\n",
    "    accuracy_mean = is_correct.float().mean()\n",
    "    metrics = accuracy_by_depth(outputs, input_idx, out_mask)\n",
    "    metrics['accuracy/mean'] = accuracy_mean.item()\n",
    "\n",
    "    return loss, metrics"
   ]
  },
  {
   "cell_type": "code",
   "execution_count": 34,
   "id": "f43226b8-414e-4fd5-ae88-3a272498e2ca",
   "metadata": {},
   "outputs": [],
   "source": [
    "seed_all(0)\n",
    "for batch in trainer.dataloader: break"
   ]
  },
  {
   "cell_type": "code",
   "execution_count": 35,
   "id": "eb061c43-5a7e-4eb9-8580-06c0b9623d36",
   "metadata": {
    "scrolled": true
   },
   "outputs": [
    {
     "data": {
      "text/plain": [
       "(tensor grad NllLossBackward0 1.688e-06,\n",
       " {'acc/depth=1': 1.0,\n",
       "  'acc/depth=2': 1.0,\n",
       "  'acc/depth=3': 1.0,\n",
       "  'acc/depth=4': 1.0,\n",
       "  'acc/depth=5': 1.0,\n",
       "  'acc/depth=6': 1.0,\n",
       "  'acc/depth=7': 1.0,\n",
       "  'acc/depth=8': 1.0,\n",
       "  'accuracy/mean': 1.0})"
      ]
     },
     "execution_count": 35,
     "metadata": {},
     "output_type": "execute_result"
    }
   ],
   "source": [
    "baseline_batch_train_step(baseline_model, batch)"
   ]
  },
  {
   "cell_type": "code",
   "execution_count": null,
   "id": "ae12ef94-f708-4149-95cd-917f77ce37a2",
   "metadata": {},
   "outputs": [
    {
     "data": {
      "application/vnd.jupyter.widget-view+json": {
       "model_id": "91fa6bb49e3f44ee9030bef9ebbcc18d",
       "version_major": 2,
       "version_minor": 0
      },
      "text/plain": [
       "  0%|          | 0/100 [00:00<?, ?it/s]"
      ]
     },
     "metadata": {},
     "output_type": "display_data"
    }
   ],
   "source": [
    "sample_size = 0\n",
    "basmetric_df = []\n",
    "\n",
    "for i, batch in tqdm(zip(range(N_TEST_BATCHES), trainer.dataloader), total=N_TEST_BATCHES):\n",
    "    sample_size += len(batch['input_idx'])\n",
    "    with torch.inference_mode():\n",
    "        loss, metrics = baseline_batch_train_step(baseline_model, batch)\n",
    "        basmetric_df.append(metrics)\n",
    "\n",
    "\n",
    "basmetric_df = pd.DataFrame(basmetric_df)\n",
    "basmetric_df.mean()"
   ]
  },
  {
   "cell_type": "code",
   "execution_count": null,
   "id": "0e1a811c-f7dc-4c6a-9dbd-d349852c0f2f",
   "metadata": {},
   "outputs": [],
   "source": [
    "basmetric_df"
   ]
  },
  {
   "cell_type": "code",
   "execution_count": null,
   "id": "5100a022-ae8b-4835-a9dc-d18b10d96c1a",
   "metadata": {},
   "outputs": [],
   "source": []
  }
 ],
 "metadata": {
  "kernelspec": {
   "display_name": "Python 3 (ipykernel)",
   "language": "python",
   "name": "python3"
  },
  "language_info": {
   "codemirror_mode": {
    "name": "ipython",
    "version": 3
   },
   "file_extension": ".py",
   "mimetype": "text/x-python",
   "name": "python",
   "nbconvert_exporter": "python",
   "pygments_lexer": "ipython3",
   "version": "3.11.4"
  }
 },
 "nbformat": 4,
 "nbformat_minor": 5
}
