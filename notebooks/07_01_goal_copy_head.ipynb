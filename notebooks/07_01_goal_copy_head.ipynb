{
 "cells": [
  {
   "cell_type": "code",
   "execution_count": 1,
   "id": "2bf533e2-20f3-41ce-b703-445b194f3f51",
   "metadata": {},
   "outputs": [],
   "source": [
    "N_TEST_BATCHES = 100"
   ]
  },
  {
   "cell_type": "markdown",
   "id": "93b33ffb-f5dd-40e3-bd7c-35587263887a",
   "metadata": {},
   "source": [
    "## Setup"
   ]
  },
  {
   "cell_type": "code",
   "execution_count": 2,
   "id": "63604638-b89c-432b-a4a3-39ade890fd69",
   "metadata": {},
   "outputs": [],
   "source": [
    "import sys; sys.path.append('..')"
   ]
  },
  {
   "cell_type": "code",
   "execution_count": 3,
   "id": "1e74adb0-97b3-441c-b0bb-27eed0077817",
   "metadata": {},
   "outputs": [],
   "source": [
    "# ! pip install lovely-tensors\n",
    "\n",
    "import lovely_tensors as lt\n",
    "lt.monkey_patch()"
   ]
  },
  {
   "cell_type": "code",
   "execution_count": 4,
   "id": "9e2f9134-d8d7-45a6-afbf-806555ab578d",
   "metadata": {},
   "outputs": [],
   "source": [
    "import torch\n",
    "import numpy as np\n",
    "import pandas as pd\n",
    "import torch.nn.functional as F\n",
    "from torch.utils.data import DataLoader\n",
    "\n",
    "from transformer_lens import HookedTransformer, HookedTransformerConfig"
   ]
  },
  {
   "cell_type": "code",
   "execution_count": 5,
   "id": "cf238670-f8e5-4bb4-a450-64db69b241e6",
   "metadata": {},
   "outputs": [],
   "source": [
    "import wandb\n",
    "from tqdm.auto import tqdm\n",
    "\n",
    "from omegaconf import OmegaConf\n",
    "\n",
    "from datetime import datetime\n",
    "\n",
    "from pathlib import Path\n",
    "\n",
    "import numpy as np\n",
    "import seaborn as sns\n",
    "import matplotlib.pyplot as plt"
   ]
  },
  {
   "cell_type": "code",
   "execution_count": 6,
   "id": "5562d67e-f650-42d1-8a7b-6cb727a1610f",
   "metadata": {},
   "outputs": [],
   "source": [
    "from src.tree import list2tree\n",
    "from src.tree_dataset import TreeDataset, parse_input_idx, input_tokens_to_tree, tree_to_edges\n",
    "from src.utils import seed_all\n",
    "\n",
    "\n",
    "from src.trainer import accuracy_by_depth\n",
    "from src.trainer import TreeTrainer"
   ]
  },
  {
   "cell_type": "code",
   "execution_count": 7,
   "id": "1174a691-06ed-4e63-86b8-551a95818dca",
   "metadata": {},
   "outputs": [
    {
     "name": "stdout",
     "output_type": "stream",
     "text": [
      "random_seed: 42\n",
      "n_nodes: 16\n",
      "model:\n",
      "  d_model: 128\n",
      "  d_head: 128\n",
      "  n_layers: 6\n",
      "  act_fn: gelu\n",
      "  attention_dir: causal\n",
      "optimizer:\n",
      "  lr: 0.001\n",
      "  weight_decay: 0.01\n",
      "batch_size: 64\n",
      "epoch_len_steps: 5000\n",
      "checkpoint_every_epoch: 2\n",
      "device: cpu\n",
      "debug: false\n",
      "use_wandb: true\n",
      "wandb:\n",
      "  project: reasoning-mech-interp\n",
      "  name: 00_6L_nodes=16\n",
      "max_iters: null\n",
      "\n"
     ]
    }
   ],
   "source": [
    "conf = OmegaConf.load('../conf/00_reproduce_6L_nodes=16.yaml')\n",
    "\n",
    "# Output is identical to the YAML file\n",
    "conf.n_nodes = 16\n",
    "conf.device = 'cpu'\n",
    "print(OmegaConf.to_yaml(conf))"
   ]
  },
  {
   "cell_type": "code",
   "execution_count": 8,
   "id": "bbf0ff74-5c8a-4ea9-9e7a-268d610ce0d4",
   "metadata": {},
   "outputs": [],
   "source": [
    "REPRODUCED_MODEL_CKPT = '../checkpoints/reasoning-mech-interp__2024-04-10_16-10-20/00_6L_nodes=16__step=220000.pt'\n",
    "# REPRODUCED_MODEL_CKPT = '../checkpoints/reasoning-mech-interp__2024-04-12_14-26-20/00_6L_nodes=16__deep_trees__step=9256.pt'"
   ]
  },
  {
   "cell_type": "code",
   "execution_count": 9,
   "id": "f91de251-bf02-4af9-8678-fe35f63a8e0a",
   "metadata": {},
   "outputs": [],
   "source": [
    "DEV_RUN = False\n",
    "USE_WANDB = (not DEV_RUN) and conf.use_wandb\n",
    "device = conf.device\n",
    "\n",
    "CHECKPOINT_ROOT = Path('../checkpoints')"
   ]
  },
  {
   "cell_type": "code",
   "execution_count": 10,
   "id": "872cae4e-57b3-452b-b6fc-ed07dd774032",
   "metadata": {},
   "outputs": [
    {
     "name": "stdout",
     "output_type": "stream",
     "text": [
      "RANDOM_SEED=42\n"
     ]
    }
   ],
   "source": [
    "RANDOM_SEED = conf['random_seed']\n",
    "print(f'{RANDOM_SEED=}')\n",
    "seed_all(RANDOM_SEED)"
   ]
  },
  {
   "cell_type": "code",
   "execution_count": 11,
   "id": "09ab32a1-357a-4d3b-a281-73d3684d7381",
   "metadata": {},
   "outputs": [
    {
     "name": "stdout",
     "output_type": "stream",
     "text": [
      "Moving model to device:  cpu\n"
     ]
    },
    {
     "data": {
      "text/plain": [
       "<All keys matched successfully>"
      ]
     },
     "execution_count": 11,
     "metadata": {},
     "output_type": "execute_result"
    }
   ],
   "source": [
    "trainer = TreeTrainer(conf)\n",
    "\n",
    "tokenizer = trainer.dataset.tokenizer\n",
    "\n",
    "tok = tokenizer.tokenize\n",
    "detok = tokenizer.detokenize\n",
    "\n",
    "\n",
    "ROOT_DELIM_TOKEN_IDX = trainer.tok([':'])[0]\n",
    "\n",
    "state_dict = torch.load(REPRODUCED_MODEL_CKPT)\n",
    "trainer.model.load_state_dict(state_dict)"
   ]
  },
  {
   "cell_type": "code",
   "execution_count": 12,
   "id": "eadea4dd-846b-4e6f-bb2d-00a74547a5ce",
   "metadata": {},
   "outputs": [],
   "source": [
    "def load_baseline_model(device='cpu'):\n",
    "    n_states = 16\n",
    "    max_seq_length = n_states * 4 + 2\n",
    "    \n",
    "    number_tokens = sorted([str(i) for i in range(n_states)], key=lambda x: len(x), reverse=True)\n",
    "    idx2tokens = [\",\", \":\", \"|\"] + [f\">{t}\" for t in number_tokens] + number_tokens\n",
    "    tokens2idx = {token: idx for idx, token in enumerate(idx2tokens)}\n",
    "    \n",
    "    \n",
    "    cfg = HookedTransformerConfig(\n",
    "        n_layers=6,\n",
    "        d_model=128,\n",
    "        n_ctx=max_seq_length - 1,\n",
    "        n_heads=1,\n",
    "        d_mlp=512,\n",
    "        d_head=128,\n",
    "        #attn_only=True,\n",
    "        d_vocab=len(idx2tokens),\n",
    "        device=device,\n",
    "        attention_dir= \"causal\",\n",
    "        act_fn=\"gelu\",\n",
    "    )\n",
    "    model = HookedTransformer(cfg)\n",
    "    \n",
    "    model.load_state_dict(torch.load(\"/Users/mykhailokilianovskyi/src/backward-chaining-circuits/model.pt\", map_location=torch.device(device)))\n",
    "    \n",
    "    return model"
   ]
  },
  {
   "cell_type": "code",
   "execution_count": 13,
   "id": "99495bf3-1119-460b-b8ea-7cad96dd6992",
   "metadata": {},
   "outputs": [],
   "source": [
    "import random\n",
    "import collections\n",
    "from torch.utils.data import IterableDataset, DataLoader"
   ]
  },
  {
   "cell_type": "code",
   "execution_count": 14,
   "id": "195643c7-94ca-4c10-91a9-7c93e36e7954",
   "metadata": {},
   "outputs": [],
   "source": [
    "import random\n",
    "\n",
    "from src.tree import TreeNode\n",
    "from src.utils import seed_all\n",
    "from src.tree_dataset import random_tree_of_depth, DeepTreeDataset"
   ]
  },
  {
   "cell_type": "code",
   "execution_count": 15,
   "id": "73169e4c-d9d1-4059-ad23-a74ec4b99071",
   "metadata": {},
   "outputs": [],
   "source": [
    "deep_dataset = DeepTreeDataset(n_nodes=16, possible_depths=(15,14,13))\n",
    "deep_tree_dataloader = DataLoader(deep_dataset, batch_size=conf['batch_size'])"
   ]
  },
  {
   "cell_type": "code",
   "execution_count": 16,
   "id": "8bbe8924-5d3f-4d54-9279-b2921acf6310",
   "metadata": {},
   "outputs": [],
   "source": [
    "baseline_model = load_baseline_model()"
   ]
  },
  {
   "cell_type": "markdown",
   "id": "78179a90-48b0-4e5a-86fb-51fc41dca63e",
   "metadata": {},
   "source": [
    "### Setup Linear Probe"
   ]
  },
  {
   "cell_type": "code",
   "execution_count": 17,
   "id": "fd08db9e-6131-47eb-ad68-53b2446be9fa",
   "metadata": {},
   "outputs": [],
   "source": [
    "import numpy as np\n",
    "from sklearn.linear_model import LogisticRegression\n",
    "from sklearn.model_selection import cross_val_score\n",
    "\n",
    "from sklearn.model_selection import train_test_split\n",
    "\n",
    "\n",
    "from torch import nn\n",
    "\n",
    "\n",
    "class LogisticRegressionModel(nn.Module):\n",
    "    def __init__(self, n_features, n_classes):\n",
    "        super(LogisticRegressionModel, self).__init__()\n",
    "        self.linear = nn.Linear(n_features, n_classes)\n",
    "    \n",
    "    def forward(self, x):\n",
    "        return self.linear(x)\n",
    "\n",
    "# Assuming n_features is the number of features in your dataset and n_classes is the number of classes\n"
   ]
  },
  {
   "cell_type": "code",
   "execution_count": 18,
   "id": "e53f53c9-b513-46ba-9e2b-bedc706476f4",
   "metadata": {},
   "outputs": [],
   "source": [
    "from torch.utils.data import DataLoader, TensorDataset\n",
    "\n",
    "def run_logreg(X,y, num_epochs=5, verbose=False):\n",
    "    X_train, X_test, y_train, y_test = train_test_split(X, y, test_size=0.2, random_state=42)\n",
    "\n",
    "\n",
    "    logreg = LogisticRegressionModel(X_train.shape[1], len(np.unique(y_train)))\n",
    "    \n",
    "    logreg_train_dataset = TensorDataset(X_train, y_train)\n",
    "    train_loader = DataLoader(logreg_train_dataset, batch_size=64, shuffle=True)\n",
    "    \n",
    "    logreg_test_dataset = TensorDataset(X_test, y_test)\n",
    "    logreg_test_loader = DataLoader(logreg_test_dataset, batch_size=64, shuffle=True)\n",
    "\n",
    "    criterion = nn.CrossEntropyLoss()\n",
    "    optimizer = torch.optim.AdamW(logreg.parameters(), lr=0.001)\n",
    "    \n",
    "    \n",
    "    train_losses = []\n",
    "    train_accuracies = []\n",
    "    \n",
    "    test_losses = []\n",
    "    test_accuracies = []\n",
    "    \n",
    "    for epoch in range(num_epochs):\n",
    "        logreg.train()\n",
    "        running_loss = 0.0\n",
    "        correct = 0\n",
    "        total = 0\n",
    "        \n",
    "        for inputs, labels in train_loader:\n",
    "            optimizer.zero_grad()\n",
    "            outputs = logreg(inputs)\n",
    "            loss = criterion(outputs, labels)\n",
    "            loss.backward()\n",
    "            optimizer.step()\n",
    "    \n",
    "            running_loss += loss.item()\n",
    "            _, predicted = torch.max(outputs.data, 1)\n",
    "            total += labels.size(0)\n",
    "            correct += (predicted == labels).sum().item()\n",
    "    \n",
    "        epoch_loss = running_loss / len(train_loader)\n",
    "        epoch_accuracy = 100 * correct / total\n",
    "        train_losses.append(epoch_loss)\n",
    "        train_accuracies.append(epoch_accuracy)\n",
    "\n",
    "        if verbose:\n",
    "            print(f'Epoch [{epoch+1}/{num_epochs}], Loss: {epoch_loss:.4f}, Accuracy: {epoch_accuracy:.2f}%')\n",
    "    \n",
    "        running_loss = 0.0\n",
    "        correct = 0\n",
    "        total = 0\n",
    "        for inputs, labels in logreg_test_loader:\n",
    "    \n",
    "            with torch.inference_mode():\n",
    "                outputs = logreg(inputs)\n",
    "    \n",
    "            _, predicted = torch.max(outputs.data, 1)\n",
    "            total += labels.size(0)\n",
    "            correct += (predicted == labels).sum().item()\n",
    "    \n",
    "        epoch_loss = running_loss / len(logreg_test_loader)\n",
    "        epoch_accuracy = 100 * correct / total\n",
    "        train_losses.append(epoch_loss)\n",
    "        train_accuracies.append(epoch_accuracy)\n",
    "\n",
    "        if verbose:\n",
    "            print(f'Test Loss: {epoch_loss:.4f}, Test Accuracy: {epoch_accuracy:.2f}%')\n",
    "    return epoch_accuracy"
   ]
  },
  {
   "cell_type": "code",
   "execution_count": 19,
   "id": "135ffb9b-580b-4e39-94e3-c181700f90ce",
   "metadata": {},
   "outputs": [],
   "source": [
    "our_idx2token = trainer.dataset.tokenizer.idx2token\n",
    "\n",
    "\n",
    "n_states = 16\n",
    "bas_max_seq_length = n_states * 4 + 2\n",
    "\n",
    "number_tokens = sorted([str(i) for i in range(n_states)], key=lambda x: len(x), reverse=True)\n",
    "idx2tokens = [\",\", \":\", \"|\"] + [f\">{t}\" for t in number_tokens] + number_tokens\n",
    "tokens2idx = {token: idx for idx, token in enumerate(idx2tokens)}\n",
    "\n",
    "from src.tree_dataset import PAD_TOKEN\n",
    "\n",
    "\n",
    "token2bastoken = {k.replace('>', '→'):k for k in tokens2idx.keys()}\n",
    "token2bastoken[PAD_TOKEN] = ','\n",
    "\n",
    "\n",
    "\n",
    "idx2basidx = {}\n",
    "for idx, our_tok in our_idx2token.items():\n",
    "    bastoken = token2bastoken[our_tok]\n",
    "    basidx = tokens2idx[bastoken]\n",
    "    idx2basidx[idx] = basidx"
   ]
  },
  {
   "cell_type": "code",
   "execution_count": 20,
   "id": "90fbe4d6-55be-411c-9d10-54d92fb340c4",
   "metadata": {},
   "outputs": [],
   "source": [
    "def baseline_batch_train_step(baseline_model, batch):\n",
    "    \n",
    "    input_idx = batch['input_idx'][..., :bas_max_seq_length].clone().to(device)\n",
    "    mask = batch['task_mask'][..., :bas_max_seq_length].clone().to(device)\n",
    "\n",
    "    input_idx.apply_(lambda i: idx2basidx[i])\n",
    "\n",
    "    inputs = input_idx[:, :-1]\n",
    "    \n",
    "    out_mask = mask[:, 1:]\n",
    "    targets = input_idx[:, 1:][out_mask]\n",
    "    \n",
    "    \n",
    "    # print(input_idx[:1, :4])\n",
    "    outputs = baseline_model(inputs)\n",
    "    \n",
    "    predictions = outputs[out_mask]\n",
    "    \n",
    "    loss = F.cross_entropy(predictions, targets)\n",
    "\n",
    "    is_correct = (predictions.argmax(dim=-1) == targets)\n",
    "    accuracy_mean = is_correct.float().mean()\n",
    "    metrics = accuracy_by_depth(outputs, input_idx, out_mask)\n",
    "    metrics['accuracy/mean'] = accuracy_mean.item()\n",
    "\n",
    "    return loss, metrics"
   ]
  },
  {
   "cell_type": "code",
   "execution_count": 21,
   "id": "89260abd-a062-4d69-a8da-19770605cb5d",
   "metadata": {},
   "outputs": [
    {
     "name": "stdout",
     "output_type": "stream",
     "text": [
      "len(edge2idx)=256\n"
     ]
    }
   ],
   "source": [
    "\n",
    "ROOT_DELIM_TOKEN_IDX = trainer.tok([':'])[0]\n",
    "\n",
    "def extract_edges(sample_input_idx):\n",
    "    upper_task_bound = sample_input_idx.tolist().index(ROOT_DELIM_TOKEN_IDX) + 2\n",
    "    prompt = trainer.detok(sample_input_idx)[:upper_task_bound]\n",
    "    \n",
    "    i = 2\n",
    "    \n",
    "    edges = []\n",
    "    \n",
    "    while i < len(prompt) and prompt[i] != '|':\n",
    "        edge = (prompt[i-2], prompt[i-1])\n",
    "        edges.append(edge)\n",
    "        i += 3\n",
    "    \n",
    "    return edges\n",
    "\n",
    "\n",
    "n_nodes = 16\n",
    "\n",
    "edges = [(str(i), '→'+str(j)) for i in range(n_nodes) for j in range(n_nodes)]\n",
    "\n",
    "edge2idx = {e:i for i,e in enumerate(edges)}\n",
    "\n",
    "idx2edge = {i:e for e,i in edge2idx.items()}\n",
    "print(f'{len(edge2idx)=}')\n",
    "\n",
    "def get_first_node(edge_idx): return int(idx2edge[edge_idx][0])\n",
    "def get_second_node(edge_idx): return int(idx2edge[edge_idx][1][1:])\n",
    "    \n",
    "\n",
    "def get_edge_labels(batch):\n",
    "    input_idx = batch['input_idx']\n",
    "    edge_batch = []\n",
    "    for row in input_idx:\n",
    "        edges = extract_edges(row)\n",
    "        edges = [edge2idx[e] for e in edges]\n",
    "        edge_batch.append(edges)\n",
    "    return torch.tensor(edge_batch)"
   ]
  },
  {
   "cell_type": "markdown",
   "id": "320d647c-fce4-4e38-b960-6c9ae407fc94",
   "metadata": {},
   "source": [
    "## Check that goal node is moved"
   ]
  },
  {
   "cell_type": "markdown",
   "id": "4856d319-f039-48ca-8dad-7ec47e2cbd9d",
   "metadata": {},
   "source": [
    "### Reproduce \"edge token\" detection"
   ]
  },
  {
   "cell_type": "code",
   "execution_count": 22,
   "id": "0fecb21c-4860-45fe-a4dc-dd87a023a627",
   "metadata": {},
   "outputs": [
    {
     "data": {
      "text/plain": [
       "tensor[14] i64 x∈[2, 41] μ=21.500 σ=12.550\n",
       "tensor([ 2,  5,  8, 11, 14, 17, 20, 23, 26, 29, 32, 35, 38, 41])"
      ]
     },
     "execution_count": 22,
     "metadata": {},
     "output_type": "execute_result"
    }
   ],
   "source": [
    "third_token_idx = torch.arange(2, 14*3, 3)\n",
    "third_token_idx.v"
   ]
  },
  {
   "cell_type": "code",
   "execution_count": 23,
   "id": "6e32bf41-bd97-476c-bf91-23de574db284",
   "metadata": {},
   "outputs": [],
   "source": [
    "cache_keys = [{'key': 'resid_post', \"n\": n} for n in range(6)]\n",
    "cache_keys = [{'key': 'embed', 'n': None}] + cache_keys\n",
    "cache_keys = [\n",
    "    {'key': 'embed', 'n': None}, # just embeddings as a control experiment\n",
    " {'key': 'resid_post', 'n': 0},\n",
    " {'key': 'resid_post', 'n': 1},\n",
    " {'key': 'resid_post', 'n': 2},\n",
    " {'key': 'resid_post', 'n': 3},\n",
    " {'key': 'resid_post', 'n': 4},\n",
    " {'key': 'resid_post', 'n': 5}]\n",
    "\n"
   ]
  },
  {
   "cell_type": "code",
   "execution_count": null,
   "id": "2c13f163-131e-422e-aa58-ec944ef87e28",
   "metadata": {},
   "outputs": [],
   "source": []
  },
  {
   "cell_type": "code",
   "execution_count": 24,
   "id": "2ab3a0db-231d-4d82-8acc-96e3d023d88c",
   "metadata": {},
   "outputs": [],
   "source": [
    "for batch in deep_tree_dataloader:\n",
    "    break"
   ]
  },
  {
   "cell_type": "code",
   "execution_count": 25,
   "id": "ed3d112f-f6cb-47b4-a76d-8ba451a0294e",
   "metadata": {},
   "outputs": [],
   "source": [
    "torch.inference_mode()\n",
    "def get_cache_baseline_model(batch, baseline_model):\n",
    "    input_idx = batch['input_idx'][..., :bas_max_seq_length].clone().to(device)\n",
    "    mask = batch['task_mask'][..., :bas_max_seq_length].clone().to(device)\n",
    "\n",
    "    input_idx.apply_(lambda i: idx2basidx[i])\n",
    "\n",
    "    inputs = input_idx[:, :-1]\n",
    "    \n",
    "    out_mask = mask[:, 1:]\n",
    "    targets = input_idx[:, 1:][out_mask]\n",
    "    \n",
    "    \n",
    "    # print(input_idx[:1, :4])\n",
    "    # outputs = baseline_model(inputs)\n",
    "    \n",
    "    outputs, cache = baseline_model.run_with_cache(inputs)\n",
    "    return cache"
   ]
  },
  {
   "cell_type": "code",
   "execution_count": 26,
   "id": "e27d24f4-e90b-480f-9b8e-aefe3465dc88",
   "metadata": {},
   "outputs": [
    {
     "data": {
      "text/plain": [
       "tensor[14] i64 x∈[1, 40] μ=20.500 σ=12.550\n",
       "tensor([ 1,  4,  7, 10, 13, 16, 19, 22, 25, 28, 31, 34, 37, 40])"
      ]
     },
     "execution_count": 26,
     "metadata": {},
     "output_type": "execute_result"
    }
   ],
   "source": [
    "second_node_idx = torch.arange(1, 14*3, 3)\n",
    "second_node_idx.v"
   ]
  },
  {
   "cell_type": "code",
   "execution_count": 27,
   "id": "505fd1d2-f257-40d0-9259-5fcd423ef24b",
   "metadata": {},
   "outputs": [
    {
     "data": {
      "text/plain": [
       "tensor[14] i64 x∈[2, 41] μ=21.500 σ=12.550\n",
       "tensor([ 2,  5,  8, 11, 14, 17, 20, 23, 26, 29, 32, 35, 38, 41])"
      ]
     },
     "execution_count": 27,
     "metadata": {},
     "output_type": "execute_result"
    }
   ],
   "source": [
    "pad_token_idx = torch.arange(2, 14*3, 3)\n",
    "pad_token_idx.v"
   ]
  },
  {
   "cell_type": "code",
   "execution_count": 28,
   "id": "51ad676e-4b66-468a-917e-30601a78ab0f",
   "metadata": {},
   "outputs": [],
   "source": [
    "d_model = conf.model.d_model\n",
    "\n",
    "\n",
    "def extract_Ln_second_node_xy(batch, baseline_model, key='resid_post', n=0):\n",
    "    cache = get_cache_baseline_model(batch, baseline_model)\n",
    "    resid_act0 = cache[key, n]\n",
    "    \n",
    "    X = resid_act0[:, second_node_idx].reshape(-1, d_model)\n",
    "    y = get_edge_labels(batch).reshape(-1)\n",
    "    \n",
    "    return X,y\n",
    "\n",
    "\n",
    "def extract_Ln_pad_token_xy(batch, baseline_model, key='resid_post', n=0):\n",
    "    cache = get_cache_baseline_model(batch, baseline_model)\n",
    "    resid_act0 = cache[key, n]\n",
    "    \n",
    "    X = resid_act0[:, pad_token_idx].reshape(-1, d_model)\n",
    "    y = get_edge_labels(batch).reshape(-1)\n",
    "    \n",
    "    return X,y"
   ]
  },
  {
   "cell_type": "code",
   "execution_count": 29,
   "id": "d6deb81f-c11d-4c62-a84f-9ecbe3b6691c",
   "metadata": {},
   "outputs": [],
   "source": [
    "baseline_model = load_baseline_model()"
   ]
  },
  {
   "cell_type": "code",
   "execution_count": null,
   "id": "e21644fb-f655-4e09-a57c-a04b2a454f9b",
   "metadata": {},
   "outputs": [],
   "source": []
  },
  {
   "cell_type": "code",
   "execution_count": 30,
   "id": "77ae988a-22b9-482f-9b57-51dfdaaf7c0b",
   "metadata": {},
   "outputs": [
    {
     "data": {
      "application/vnd.jupyter.widget-view+json": {
       "model_id": "99bef4b4b7f34b91a9be32157c39a374",
       "version_major": 2,
       "version_minor": 0
      },
      "text/plain": [
       "  0%|          | 0/100 [00:00<?, ?it/s]"
      ]
     },
     "metadata": {},
     "output_type": "display_data"
    },
    {
     "name": "stdout",
     "output_type": "stream",
     "text": [
      "metric={'acc_node_0': 6.478794642857143, 'acc_node_1': 100.0, 'layer_name': 'key=embed n=None'}\n"
     ]
    },
    {
     "data": {
      "application/vnd.jupyter.widget-view+json": {
       "model_id": "e3911b3e632c4a9f9b2c700a5e2bb5d6",
       "version_major": 2,
       "version_minor": 0
      },
      "text/plain": [
       "  0%|          | 0/100 [00:00<?, ?it/s]"
      ]
     },
     "metadata": {},
     "output_type": "display_data"
    },
    {
     "name": "stdout",
     "output_type": "stream",
     "text": [
      "metric={'acc_node_0': 100.0, 'acc_node_1': 100.0, 'layer_name': 'key=resid_post n=0'}\n"
     ]
    },
    {
     "data": {
      "application/vnd.jupyter.widget-view+json": {
       "model_id": "38870918d14c4c2a9911bd57661996b0",
       "version_major": 2,
       "version_minor": 0
      },
      "text/plain": [
       "  0%|          | 0/100 [00:00<?, ?it/s]"
      ]
     },
     "metadata": {},
     "output_type": "display_data"
    },
    {
     "name": "stdout",
     "output_type": "stream",
     "text": [
      "metric={'acc_node_0': 100.0, 'acc_node_1': 100.0, 'layer_name': 'key=resid_post n=1'}\n"
     ]
    },
    {
     "data": {
      "application/vnd.jupyter.widget-view+json": {
       "model_id": "202f2b30533d467994113b6aa69fa6ef",
       "version_major": 2,
       "version_minor": 0
      },
      "text/plain": [
       "  0%|          | 0/100 [00:00<?, ?it/s]"
      ]
     },
     "metadata": {},
     "output_type": "display_data"
    },
    {
     "name": "stdout",
     "output_type": "stream",
     "text": [
      "metric={'acc_node_0': 100.0, 'acc_node_1': 100.0, 'layer_name': 'key=resid_post n=2'}\n"
     ]
    },
    {
     "data": {
      "application/vnd.jupyter.widget-view+json": {
       "model_id": "917eaf17522b4902ad1b6c7d6cacc520",
       "version_major": 2,
       "version_minor": 0
      },
      "text/plain": [
       "  0%|          | 0/100 [00:00<?, ?it/s]"
      ]
     },
     "metadata": {},
     "output_type": "display_data"
    },
    {
     "name": "stdout",
     "output_type": "stream",
     "text": [
      "metric={'acc_node_0': 100.0, 'acc_node_1': 100.0, 'layer_name': 'key=resid_post n=3'}\n"
     ]
    },
    {
     "data": {
      "application/vnd.jupyter.widget-view+json": {
       "model_id": "02bfcc6db733458bb2d4457020a965e9",
       "version_major": 2,
       "version_minor": 0
      },
      "text/plain": [
       "  0%|          | 0/100 [00:00<?, ?it/s]"
      ]
     },
     "metadata": {},
     "output_type": "display_data"
    },
    {
     "name": "stdout",
     "output_type": "stream",
     "text": [
      "metric={'acc_node_0': 100.0, 'acc_node_1': 100.0, 'layer_name': 'key=resid_post n=4'}\n"
     ]
    },
    {
     "data": {
      "application/vnd.jupyter.widget-view+json": {
       "model_id": "ce1d764df8734ac38dcb09bae89f7304",
       "version_major": 2,
       "version_minor": 0
      },
      "text/plain": [
       "  0%|          | 0/100 [00:00<?, ?it/s]"
      ]
     },
     "metadata": {},
     "output_type": "display_data"
    },
    {
     "name": "stdout",
     "output_type": "stream",
     "text": [
      "metric={'acc_node_0': 100.0, 'acc_node_1': 100.0, 'layer_name': 'key=resid_post n=5'}\n",
      "extract_Ln_second_node_xy\n"
     ]
    },
    {
     "data": {
      "text/html": [
       "<div>\n",
       "<style scoped>\n",
       "    .dataframe tbody tr th:only-of-type {\n",
       "        vertical-align: middle;\n",
       "    }\n",
       "\n",
       "    .dataframe tbody tr th {\n",
       "        vertical-align: top;\n",
       "    }\n",
       "\n",
       "    .dataframe thead th {\n",
       "        text-align: right;\n",
       "    }\n",
       "</style>\n",
       "<table border=\"1\" class=\"dataframe\">\n",
       "  <thead>\n",
       "    <tr style=\"text-align: right;\">\n",
       "      <th></th>\n",
       "      <th>acc_node_0</th>\n",
       "      <th>acc_node_1</th>\n",
       "      <th>layer_name</th>\n",
       "    </tr>\n",
       "  </thead>\n",
       "  <tbody>\n",
       "    <tr>\n",
       "      <th>0</th>\n",
       "      <td>6.478795</td>\n",
       "      <td>100.0</td>\n",
       "      <td>key=embed n=None</td>\n",
       "    </tr>\n",
       "    <tr>\n",
       "      <th>1</th>\n",
       "      <td>100.000000</td>\n",
       "      <td>100.0</td>\n",
       "      <td>key=resid_post n=0</td>\n",
       "    </tr>\n",
       "    <tr>\n",
       "      <th>2</th>\n",
       "      <td>100.000000</td>\n",
       "      <td>100.0</td>\n",
       "      <td>key=resid_post n=1</td>\n",
       "    </tr>\n",
       "    <tr>\n",
       "      <th>3</th>\n",
       "      <td>100.000000</td>\n",
       "      <td>100.0</td>\n",
       "      <td>key=resid_post n=2</td>\n",
       "    </tr>\n",
       "    <tr>\n",
       "      <th>4</th>\n",
       "      <td>100.000000</td>\n",
       "      <td>100.0</td>\n",
       "      <td>key=resid_post n=3</td>\n",
       "    </tr>\n",
       "    <tr>\n",
       "      <th>5</th>\n",
       "      <td>100.000000</td>\n",
       "      <td>100.0</td>\n",
       "      <td>key=resid_post n=4</td>\n",
       "    </tr>\n",
       "    <tr>\n",
       "      <th>6</th>\n",
       "      <td>100.000000</td>\n",
       "      <td>100.0</td>\n",
       "      <td>key=resid_post n=5</td>\n",
       "    </tr>\n",
       "  </tbody>\n",
       "</table>\n",
       "</div>"
      ],
      "text/plain": [
       "   acc_node_0  acc_node_1          layer_name\n",
       "0    6.478795       100.0    key=embed n=None\n",
       "1  100.000000       100.0  key=resid_post n=0\n",
       "2  100.000000       100.0  key=resid_post n=1\n",
       "3  100.000000       100.0  key=resid_post n=2\n",
       "4  100.000000       100.0  key=resid_post n=3\n",
       "5  100.000000       100.0  key=resid_post n=4\n",
       "6  100.000000       100.0  key=resid_post n=5"
      ]
     },
     "execution_count": 30,
     "metadata": {},
     "output_type": "execute_result"
    }
   ],
   "source": [
    "accuracies = []\n",
    "\n",
    "for cache_key in cache_keys:\n",
    "\n",
    "    X = []\n",
    "    y = []\n",
    "    \n",
    "    for i,batch in tqdm(zip(range(N_TEST_BATCHES), deep_tree_dataloader), total=N_TEST_BATCHES):\n",
    "        Xbatch, ybatch = extract_Ln_second_node_xy(batch, baseline_model, **cache_key)\n",
    "    \n",
    "        X.append(Xbatch)\n",
    "        y.append(ybatch)\n",
    "    \n",
    "    \n",
    "    X = torch.cat(X)\n",
    "    y = torch.cat(y)\n",
    "    \n",
    "    y_first_node = torch.tensor( [get_first_node(i.item()) for i in y] )\n",
    "    y_second_node = torch.tensor( [get_second_node(i.item()) for i in y] )\n",
    "\n",
    "    acc_node0 = run_logreg(X, y_first_node)\n",
    "    acc_node1 = run_logreg(X, y_second_node)\n",
    "\n",
    "\n",
    "    layer_name = ''.join ( [f'{k}={v} ' for k,v in cache_key.items()] )[:-1]\n",
    "    metric = {'acc_node_0': float(acc_node0), 'acc_node_1': float(acc_node1), 'layer_name':layer_name}\n",
    "    print(f'{metric=}')\n",
    "\n",
    "    accuracies.append(metric)\n",
    "\n",
    "print('extract_Ln_second_node_xy')\n",
    "pd.DataFrame(accuracies)"
   ]
  },
  {
   "cell_type": "markdown",
   "id": "28184ae4-6b37-4bed-b4fc-c7f5e1f0866f",
   "metadata": {},
   "source": [
    "### Search for edge in pad token"
   ]
  },
  {
   "cell_type": "code",
   "execution_count": 31,
   "id": "d85a0a5b-e78d-466d-af7a-7a4ccacb0b72",
   "metadata": {},
   "outputs": [
    {
     "data": {
      "application/vnd.jupyter.widget-view+json": {
       "model_id": "82fc6b274a4e476a9b192556a34a7311",
       "version_major": 2,
       "version_minor": 0
      },
      "text/plain": [
       "  0%|          | 0/100 [00:00<?, ?it/s]"
      ]
     },
     "metadata": {},
     "output_type": "display_data"
    },
    {
     "name": "stdout",
     "output_type": "stream",
     "text": [
      "metric={'acc_node_0': 6.294642857142857, 'acc_node_1': 6.283482142857143, 'layer_name': 'key=embed n=None'}\n"
     ]
    },
    {
     "data": {
      "application/vnd.jupyter.widget-view+json": {
       "model_id": "c5f20c3e280c4114a3520d376969bd91",
       "version_major": 2,
       "version_minor": 0
      },
      "text/plain": [
       "  0%|          | 0/100 [00:00<?, ?it/s]"
      ]
     },
     "metadata": {},
     "output_type": "display_data"
    },
    {
     "name": "stdout",
     "output_type": "stream",
     "text": [
      "metric={'acc_node_0': 19.575892857142858, 'acc_node_1': 6.40625, 'layer_name': 'key=resid_post n=0'}\n"
     ]
    },
    {
     "data": {
      "application/vnd.jupyter.widget-view+json": {
       "model_id": "5fc30485a88a4b8ea228ac5b045b89e8",
       "version_major": 2,
       "version_minor": 0
      },
      "text/plain": [
       "  0%|          | 0/100 [00:00<?, ?it/s]"
      ]
     },
     "metadata": {},
     "output_type": "display_data"
    },
    {
     "name": "stdout",
     "output_type": "stream",
     "text": [
      "metric={'acc_node_0': 9.486607142857142, 'acc_node_1': 7.109375, 'layer_name': 'key=resid_post n=1'}\n"
     ]
    },
    {
     "data": {
      "application/vnd.jupyter.widget-view+json": {
       "model_id": "6ae960b1ca48457fbac4d30abcb83ccc",
       "version_major": 2,
       "version_minor": 0
      },
      "text/plain": [
       "  0%|          | 0/100 [00:00<?, ?it/s]"
      ]
     },
     "metadata": {},
     "output_type": "display_data"
    },
    {
     "name": "stdout",
     "output_type": "stream",
     "text": [
      "metric={'acc_node_0': 9.893973214285714, 'acc_node_1': 6.640625, 'layer_name': 'key=resid_post n=2'}\n"
     ]
    },
    {
     "data": {
      "application/vnd.jupyter.widget-view+json": {
       "model_id": "ea2fc4a8c8554b34ae8cf33541a56a46",
       "version_major": 2,
       "version_minor": 0
      },
      "text/plain": [
       "  0%|          | 0/100 [00:00<?, ?it/s]"
      ]
     },
     "metadata": {},
     "output_type": "display_data"
    },
    {
     "name": "stdout",
     "output_type": "stream",
     "text": [
      "metric={'acc_node_0': 12.204241071428571, 'acc_node_1': 8.030133928571429, 'layer_name': 'key=resid_post n=3'}\n"
     ]
    },
    {
     "data": {
      "application/vnd.jupyter.widget-view+json": {
       "model_id": "1f6a139be8ca4360a78a37f70776b142",
       "version_major": 2,
       "version_minor": 0
      },
      "text/plain": [
       "  0%|          | 0/100 [00:00<?, ?it/s]"
      ]
     },
     "metadata": {},
     "output_type": "display_data"
    },
    {
     "name": "stdout",
     "output_type": "stream",
     "text": [
      "metric={'acc_node_0': 16.852678571428573, 'acc_node_1': 21.534598214285715, 'layer_name': 'key=resid_post n=4'}\n"
     ]
    },
    {
     "data": {
      "application/vnd.jupyter.widget-view+json": {
       "model_id": "6bd9cfe315dc49bb82b95f3ec777c285",
       "version_major": 2,
       "version_minor": 0
      },
      "text/plain": [
       "  0%|          | 0/100 [00:00<?, ?it/s]"
      ]
     },
     "metadata": {},
     "output_type": "display_data"
    },
    {
     "name": "stdout",
     "output_type": "stream",
     "text": [
      "metric={'acc_node_0': 11.428571428571429, 'acc_node_1': 22.957589285714285, 'layer_name': 'key=resid_post n=5'}\n",
      "extract_Ln_pad_token_xy\n"
     ]
    },
    {
     "data": {
      "text/html": [
       "<div>\n",
       "<style scoped>\n",
       "    .dataframe tbody tr th:only-of-type {\n",
       "        vertical-align: middle;\n",
       "    }\n",
       "\n",
       "    .dataframe tbody tr th {\n",
       "        vertical-align: top;\n",
       "    }\n",
       "\n",
       "    .dataframe thead th {\n",
       "        text-align: right;\n",
       "    }\n",
       "</style>\n",
       "<table border=\"1\" class=\"dataframe\">\n",
       "  <thead>\n",
       "    <tr style=\"text-align: right;\">\n",
       "      <th></th>\n",
       "      <th>acc_node_0</th>\n",
       "      <th>acc_node_1</th>\n",
       "      <th>layer_name</th>\n",
       "    </tr>\n",
       "  </thead>\n",
       "  <tbody>\n",
       "    <tr>\n",
       "      <th>0</th>\n",
       "      <td>6.294643</td>\n",
       "      <td>6.283482</td>\n",
       "      <td>key=embed n=None</td>\n",
       "    </tr>\n",
       "    <tr>\n",
       "      <th>1</th>\n",
       "      <td>19.575893</td>\n",
       "      <td>6.406250</td>\n",
       "      <td>key=resid_post n=0</td>\n",
       "    </tr>\n",
       "    <tr>\n",
       "      <th>2</th>\n",
       "      <td>9.486607</td>\n",
       "      <td>7.109375</td>\n",
       "      <td>key=resid_post n=1</td>\n",
       "    </tr>\n",
       "    <tr>\n",
       "      <th>3</th>\n",
       "      <td>9.893973</td>\n",
       "      <td>6.640625</td>\n",
       "      <td>key=resid_post n=2</td>\n",
       "    </tr>\n",
       "    <tr>\n",
       "      <th>4</th>\n",
       "      <td>12.204241</td>\n",
       "      <td>8.030134</td>\n",
       "      <td>key=resid_post n=3</td>\n",
       "    </tr>\n",
       "    <tr>\n",
       "      <th>5</th>\n",
       "      <td>16.852679</td>\n",
       "      <td>21.534598</td>\n",
       "      <td>key=resid_post n=4</td>\n",
       "    </tr>\n",
       "    <tr>\n",
       "      <th>6</th>\n",
       "      <td>11.428571</td>\n",
       "      <td>22.957589</td>\n",
       "      <td>key=resid_post n=5</td>\n",
       "    </tr>\n",
       "  </tbody>\n",
       "</table>\n",
       "</div>"
      ],
      "text/plain": [
       "   acc_node_0  acc_node_1          layer_name\n",
       "0    6.294643    6.283482    key=embed n=None\n",
       "1   19.575893    6.406250  key=resid_post n=0\n",
       "2    9.486607    7.109375  key=resid_post n=1\n",
       "3    9.893973    6.640625  key=resid_post n=2\n",
       "4   12.204241    8.030134  key=resid_post n=3\n",
       "5   16.852679   21.534598  key=resid_post n=4\n",
       "6   11.428571   22.957589  key=resid_post n=5"
      ]
     },
     "execution_count": 31,
     "metadata": {},
     "output_type": "execute_result"
    }
   ],
   "source": [
    "accuracies = []\n",
    "\n",
    "for cache_key in cache_keys:\n",
    "    \n",
    "    X = []\n",
    "    y = []\n",
    "    \n",
    "    for i,batch in tqdm(zip(range(N_TEST_BATCHES), deep_tree_dataloader), total=N_TEST_BATCHES):\n",
    "        Xbatch, ybatch = extract_Ln_pad_token_xy(batch, baseline_model, **cache_key)\n",
    "    \n",
    "        X.append(Xbatch)\n",
    "        y.append(ybatch)\n",
    "    \n",
    "    \n",
    "    X = torch.cat(X)\n",
    "    y = torch.cat(y)\n",
    "    \n",
    "    y_first_node = torch.tensor( [get_first_node(i.item()) for i in y] )\n",
    "    y_second_node = torch.tensor( [get_second_node(i.item()) for i in y] )\n",
    "\n",
    "    acc_node0 = run_logreg(X, y_first_node)\n",
    "    acc_node1 = run_logreg(X, y_second_node)\n",
    "\n",
    "\n",
    "    layer_name = ''.join ( [f'{k}={v} ' for k,v in cache_key.items()] )[:-1]\n",
    "    metric = {'acc_node_0': float(acc_node0), 'acc_node_1': float(acc_node1), 'layer_name':layer_name}\n",
    "    print(f'{metric=}')\n",
    "\n",
    "    accuracies.append(metric)\n",
    "\n",
    "print('extract_Ln_pad_token_xy')\n",
    "pd.DataFrame(accuracies)"
   ]
  },
  {
   "cell_type": "markdown",
   "id": "a32c089b-3b8b-4cad-b692-7ec68d64e292",
   "metadata": {},
   "source": [
    "### Things become interesting - search for goal node!"
   ]
  },
  {
   "cell_type": "code",
   "execution_count": 32,
   "id": "4ec54578-915b-498c-ab11-810282a6546d",
   "metadata": {},
   "outputs": [],
   "source": [
    "def extract_Ln_pad_token_xy(batch, baseline_model, key='resid_post', n=0):\n",
    "    cache = get_cache_baseline_model(batch, baseline_model)\n",
    "    resid_act0 = cache[key, n]\n",
    "    \n",
    "    X = resid_act0[:, pad_token_idx].reshape(-1, d_model)\n",
    "    y = get_edge_labels(batch).reshape(-1)\n",
    "    \n",
    "    return X,y"
   ]
  },
  {
   "cell_type": "code",
   "execution_count": 33,
   "id": "3687e4f3-c491-4f6e-9255-7ddd6f812d3c",
   "metadata": {},
   "outputs": [],
   "source": [
    "input_idx = batch['input_idx'][..., :bas_max_seq_length].clone().to(device)\n",
    "mask = batch['task_mask'][..., :bas_max_seq_length].clone().to(device)\n",
    "\n",
    "input_idx.apply_(lambda i: idx2basidx[i])\n",
    "\n",
    "inputs = input_idx[:, :-1]\n",
    "\n",
    "out_mask = mask[:, 1:]\n",
    "targets = input_idx[:, 1:][out_mask]\n",
    "\n",
    "\n",
    "# print(input_idx[:1, :4])\n",
    "# outputs = baseline_model(inputs)\n",
    "\n",
    "outputs, cache = baseline_model.run_with_cache(inputs)"
   ]
  },
  {
   "cell_type": "code",
   "execution_count": null,
   "id": "34064a0f-22a2-4ab2-af45-2e71eedc3c30",
   "metadata": {},
   "outputs": [],
   "source": []
  },
  {
   "cell_type": "code",
   "execution_count": 34,
   "id": "878903ab-8100-4a70-8a0b-172af5f84ee4",
   "metadata": {},
   "outputs": [
    {
     "data": {
      "text/plain": [
       "[':', ':', ':']"
      ]
     },
     "execution_count": 34,
     "metadata": {},
     "output_type": "execute_result"
    }
   ],
   "source": [
    "LAST_TOKEN_I = 47\n",
    "[idx2tokens[i] for i in inputs[:, LAST_TOKEN_I-1]][:3]"
   ]
  },
  {
   "cell_type": "code",
   "execution_count": null,
   "id": "ea808078-eac4-4506-b912-1dc002739de4",
   "metadata": {},
   "outputs": [],
   "source": []
  },
  {
   "cell_type": "code",
   "execution_count": 35,
   "id": "c91738b5-4a97-4ae0-abd5-9cbb8a42a3a5",
   "metadata": {},
   "outputs": [
    {
     "data": {
      "text/plain": [
       "[':', ':', ':']"
      ]
     },
     "execution_count": 35,
     "metadata": {},
     "output_type": "execute_result"
    }
   ],
   "source": [
    "GOAL_TOKEN_I = LAST_TOKEN_I - 2\n",
    "[idx2tokens[i] for i in inputs[:, GOAL_TOKEN_I+1]][:3]"
   ]
  },
  {
   "cell_type": "code",
   "execution_count": 36,
   "id": "1aaceac5-481e-4152-a7be-72e6938bf25c",
   "metadata": {},
   "outputs": [
    {
     "data": {
      "text/plain": [
       "tensor[64] i64 x∈[3, 18] μ=10.094 σ=4.363\n",
       "tensor([ 4,  7, 10,  5, 11,  6,  9, 12, 16,  4, 12,  6, 11, 18,  8, 17,  9,  4,\n",
       "        17,  6,  3, 10, 11, 12, 11, 14,  3, 11, 15, 18,  9, 15,  8,  5, 13, 15,\n",
       "        15, 16,  7,  6, 11, 12, 16, 10,  4,  7, 13,  5, 11, 13,  6, 14, 14, 12,\n",
       "         7, 16,  6,  3,  5,  5, 15,  8,  8, 16])"
      ]
     },
     "execution_count": 36,
     "metadata": {},
     "output_type": "execute_result"
    }
   ],
   "source": [
    "inputs[:, LAST_TOKEN_I+1].v"
   ]
  },
  {
   "cell_type": "code",
   "execution_count": 37,
   "id": "19a9016e-f851-48c9-b1d0-2f545fea408f",
   "metadata": {},
   "outputs": [
    {
     "data": {
      "text/plain": [
       "tensor[64] i64 x∈[3, 18] μ=10.094 σ=4.363\n",
       "tensor([ 4,  7, 10,  5, 11,  6,  9, 12, 16,  4, 12,  6, 11, 18,  8, 17,  9,  4,\n",
       "        17,  6,  3, 10, 11, 12, 11, 14,  3, 11, 15, 18,  9, 15,  8,  5, 13, 15,\n",
       "        15, 16,  7,  6, 11, 12, 16, 10,  4,  7, 13,  5, 11, 13,  6, 14, 14, 12,\n",
       "         7, 16,  6,  3,  5,  5, 15,  8,  8, 16])"
      ]
     },
     "execution_count": 37,
     "metadata": {},
     "output_type": "execute_result"
    }
   ],
   "source": [
    "outputs[:, LAST_TOKEN_I].argmax(dim=-1).v"
   ]
  },
  {
   "cell_type": "code",
   "execution_count": 38,
   "id": "cde36387-a9de-44d2-b83c-f440607808be",
   "metadata": {},
   "outputs": [],
   "source": [
    "key='resid_post'\n",
    "n=0"
   ]
  },
  {
   "cell_type": "code",
   "execution_count": 39,
   "id": "842cfc86-5abf-4d53-b3ae-5334ba3f5bee",
   "metadata": {},
   "outputs": [],
   "source": [
    "def extract_Xy__last_token__goal(batch, baseline_model, key='resid_post', n=0):\n",
    "    cache = get_cache_baseline_model(batch, baseline_model)\n",
    "    resid_act0 = cache[key, n]\n",
    "    \n",
    "    X = resid_act0[:, LAST_TOKEN_I].reshape(-1, d_model)\n",
    "\n",
    "    def extract_node_id_from_pos(pos):      \n",
    "        y = batch['input_idx'][:, pos]\n",
    "        y = detok(y) # NOTA BENE: THIS IS IMPORTANT STEP\n",
    "        y = torch.tensor([int(node_name_str.replace('→', '')) for node_name_str in y])\n",
    "        return y\n",
    "\n",
    "    y = extract_node_id_from_pos(GOAL_TOKEN_I)\n",
    "\n",
    "    # extra_pos_dict {pos: id of a node at pos}\n",
    "    extra_pos_dict = {i:extract_node_id_from_pos(i) for i in [0,1, 3,4]}\n",
    "    \n",
    "    return X, y, extra_pos_dict"
   ]
  },
  {
   "cell_type": "code",
   "execution_count": 40,
   "id": "5ca5f9cf-f826-45f7-a675-21632a76375c",
   "metadata": {},
   "outputs": [],
   "source": [
    "X, y, extra_pos_dict = extract_Xy__last_token__goal(batch, baseline_model)"
   ]
  },
  {
   "cell_type": "code",
   "execution_count": 41,
   "id": "55366a18-dbd3-41fa-b679-5509c83a6299",
   "metadata": {},
   "outputs": [
    {
     "data": {
      "text/plain": [
       "tensor i64 6"
      ]
     },
     "execution_count": 41,
     "metadata": {},
     "output_type": "execute_result"
    }
   ],
   "source": [
    "batch['input_idx'][0][GOAL_TOKEN_I]"
   ]
  },
  {
   "cell_type": "code",
   "execution_count": 42,
   "id": "eac231d3-c44e-4943-8248-8e28a271e876",
   "metadata": {},
   "outputs": [],
   "source": [
    "# detok(batch['input_idx'][0])"
   ]
  },
  {
   "cell_type": "code",
   "execution_count": 43,
   "id": "50684f92-3e53-4999-90e2-c937524e18c5",
   "metadata": {},
   "outputs": [
    {
     "name": "stdout",
     "output_type": "stream",
     "text": [
      "****************************************************************************************************\n",
      "                                               5\n",
      "                                               |\n",
      "                                            +--+\n",
      "                                            |\n",
      "                                           11\n",
      "                                            |\n",
      "                                         +--+\n",
      "                                         |\n",
      "                                         3\n",
      "                                         |\n",
      "                                      +--+\n",
      "                                      |\n",
      "                                      8\n",
      "                                      |\n",
      "     +--------------------------------+\n",
      "     |\n",
      "     7\n",
      "     |\n",
      "  +--+-----------------------------+\n",
      "  |                                |\n",
      "  6                                0\n",
      "                                   |\n",
      "                                +--+\n",
      "                                |\n",
      "                               15\n",
      "                                |\n",
      "           +--------------------+\n",
      "           |\n",
      "           2\n",
      "           |\n",
      "        +--+-----------------+\n",
      "        |                    |\n",
      "        4                    9\n",
      "                             |\n",
      "                          +--+\n",
      "                          |\n",
      "                         10\n",
      "                          |\n",
      "                       +--+\n",
      "                       |\n",
      "                      12\n",
      "                       |\n",
      "                    +--+\n",
      "                    |\n",
      "                   13\n",
      "                    |\n",
      "                 +--+\n",
      "                 |\n",
      "                14\n",
      "                 |\n",
      "              +--+\n",
      "              |\n",
      "              1\n",
      "\n",
      "goal=1\n",
      "accuracy=1.0 gt_path=['→11', '→3', '→8', '→7', '→0', '→15', '→2', '→9', '→10', '→12', '→13', '→14', '→1'] pred_path=['→11', '→3', '→8', '→7', '→0', '→15', '→2', '→9', '→10', '→12', '→13', '→14', '→1']\n",
      "****************************************************************************************************\n",
      "y[0]=tensor i64 1\n"
     ]
    }
   ],
   "source": [
    "trainer.print_sample_pred(batch['input_idx'][0])\n",
    "print(f'{y[0]=}')"
   ]
  },
  {
   "cell_type": "code",
   "execution_count": 44,
   "id": "2863a433-e373-419e-b4a6-865651dd52f0",
   "metadata": {},
   "outputs": [],
   "source": [
    "import collections"
   ]
  },
  {
   "cell_type": "code",
   "execution_count": 45,
   "id": "a0707742-011d-4b0b-9493-976a926e62a4",
   "metadata": {},
   "outputs": [
    {
     "data": {
      "application/vnd.jupyter.widget-view+json": {
       "model_id": "90a4d926a393430b884645dcaaef855c",
       "version_major": 2,
       "version_minor": 0
      },
      "text/plain": [
       "  0%|          | 0/100 [00:00<?, ?it/s]"
      ]
     },
     "metadata": {},
     "output_type": "display_data"
    },
    {
     "data": {
      "application/vnd.jupyter.widget-view+json": {
       "model_id": "",
       "version_major": 2,
       "version_minor": 0
      },
      "text/plain": [
       "  0%|          | 0/4 [00:00<?, ?it/s]"
      ]
     },
     "metadata": {},
     "output_type": "display_data"
    },
    {
     "name": "stdout",
     "output_type": "stream",
     "text": [
      "metric={'acc_goal_from_last_node': 6.015625, 'layer_name': 'key=embed n=None', 'acc_of_predicting_node_at_pos=0': 6.40625, 'acc_of_predicting_node_at_pos=1': 6.5625, 'acc_of_predicting_node_at_pos=3': 5.78125, 'acc_of_predicting_node_at_pos=4': 7.03125}\n"
     ]
    },
    {
     "data": {
      "application/vnd.jupyter.widget-view+json": {
       "model_id": "67253d3e41b04ed7bc020ef8172abc1a",
       "version_major": 2,
       "version_minor": 0
      },
      "text/plain": [
       "  0%|          | 0/100 [00:00<?, ?it/s]"
      ]
     },
     "metadata": {},
     "output_type": "display_data"
    },
    {
     "data": {
      "application/vnd.jupyter.widget-view+json": {
       "model_id": "",
       "version_major": 2,
       "version_minor": 0
      },
      "text/plain": [
       "  0%|          | 0/4 [00:00<?, ?it/s]"
      ]
     },
     "metadata": {},
     "output_type": "display_data"
    },
    {
     "name": "stdout",
     "output_type": "stream",
     "text": [
      "metric={'acc_goal_from_last_node': 100.0, 'layer_name': 'key=resid_post n=0', 'acc_of_predicting_node_at_pos=0': 6.953125, 'acc_of_predicting_node_at_pos=1': 6.953125, 'acc_of_predicting_node_at_pos=3': 6.5625, 'acc_of_predicting_node_at_pos=4': 7.265625}\n"
     ]
    },
    {
     "data": {
      "application/vnd.jupyter.widget-view+json": {
       "model_id": "56cd009ff0984fb589f562ecc92de838",
       "version_major": 2,
       "version_minor": 0
      },
      "text/plain": [
       "  0%|          | 0/100 [00:00<?, ?it/s]"
      ]
     },
     "metadata": {},
     "output_type": "display_data"
    },
    {
     "data": {
      "application/vnd.jupyter.widget-view+json": {
       "model_id": "",
       "version_major": 2,
       "version_minor": 0
      },
      "text/plain": [
       "  0%|          | 0/4 [00:00<?, ?it/s]"
      ]
     },
     "metadata": {},
     "output_type": "display_data"
    },
    {
     "name": "stdout",
     "output_type": "stream",
     "text": [
      "metric={'acc_goal_from_last_node': 100.0, 'layer_name': 'key=resid_post n=1', 'acc_of_predicting_node_at_pos=0': 7.734375, 'acc_of_predicting_node_at_pos=1': 6.328125, 'acc_of_predicting_node_at_pos=3': 5.703125, 'acc_of_predicting_node_at_pos=4': 7.1875}\n"
     ]
    },
    {
     "data": {
      "application/vnd.jupyter.widget-view+json": {
       "model_id": "13788545f747404880ae3ee1d34bbb45",
       "version_major": 2,
       "version_minor": 0
      },
      "text/plain": [
       "  0%|          | 0/100 [00:00<?, ?it/s]"
      ]
     },
     "metadata": {},
     "output_type": "display_data"
    },
    {
     "data": {
      "application/vnd.jupyter.widget-view+json": {
       "model_id": "",
       "version_major": 2,
       "version_minor": 0
      },
      "text/plain": [
       "  0%|          | 0/4 [00:00<?, ?it/s]"
      ]
     },
     "metadata": {},
     "output_type": "display_data"
    },
    {
     "name": "stdout",
     "output_type": "stream",
     "text": [
      "metric={'acc_goal_from_last_node': 100.0, 'layer_name': 'key=resid_post n=2', 'acc_of_predicting_node_at_pos=0': 9.0625, 'acc_of_predicting_node_at_pos=1': 6.5625, 'acc_of_predicting_node_at_pos=3': 7.8125, 'acc_of_predicting_node_at_pos=4': 7.8125}\n"
     ]
    },
    {
     "data": {
      "application/vnd.jupyter.widget-view+json": {
       "model_id": "7ca60351ba3a4bd0b4e1f42f008d7be2",
       "version_major": 2,
       "version_minor": 0
      },
      "text/plain": [
       "  0%|          | 0/100 [00:00<?, ?it/s]"
      ]
     },
     "metadata": {},
     "output_type": "display_data"
    },
    {
     "data": {
      "application/vnd.jupyter.widget-view+json": {
       "model_id": "",
       "version_major": 2,
       "version_minor": 0
      },
      "text/plain": [
       "  0%|          | 0/4 [00:00<?, ?it/s]"
      ]
     },
     "metadata": {},
     "output_type": "display_data"
    },
    {
     "name": "stdout",
     "output_type": "stream",
     "text": [
      "metric={'acc_goal_from_last_node': 100.0, 'layer_name': 'key=resid_post n=3', 'acc_of_predicting_node_at_pos=0': 9.296875, 'acc_of_predicting_node_at_pos=1': 7.34375, 'acc_of_predicting_node_at_pos=3': 8.90625, 'acc_of_predicting_node_at_pos=4': 6.328125}\n"
     ]
    },
    {
     "data": {
      "application/vnd.jupyter.widget-view+json": {
       "model_id": "b103d1d72ffd482fbf1f0bea797ef13e",
       "version_major": 2,
       "version_minor": 0
      },
      "text/plain": [
       "  0%|          | 0/100 [00:00<?, ?it/s]"
      ]
     },
     "metadata": {},
     "output_type": "display_data"
    },
    {
     "data": {
      "application/vnd.jupyter.widget-view+json": {
       "model_id": "",
       "version_major": 2,
       "version_minor": 0
      },
      "text/plain": [
       "  0%|          | 0/4 [00:00<?, ?it/s]"
      ]
     },
     "metadata": {},
     "output_type": "display_data"
    },
    {
     "name": "stdout",
     "output_type": "stream",
     "text": [
      "metric={'acc_goal_from_last_node': 100.0, 'layer_name': 'key=resid_post n=4', 'acc_of_predicting_node_at_pos=0': 8.984375, 'acc_of_predicting_node_at_pos=1': 7.109375, 'acc_of_predicting_node_at_pos=3': 9.6875, 'acc_of_predicting_node_at_pos=4': 7.265625}\n"
     ]
    },
    {
     "data": {
      "application/vnd.jupyter.widget-view+json": {
       "model_id": "bb6b809e440d4cf583ee890b4a0fe36b",
       "version_major": 2,
       "version_minor": 0
      },
      "text/plain": [
       "  0%|          | 0/100 [00:00<?, ?it/s]"
      ]
     },
     "metadata": {},
     "output_type": "display_data"
    },
    {
     "data": {
      "application/vnd.jupyter.widget-view+json": {
       "model_id": "",
       "version_major": 2,
       "version_minor": 0
      },
      "text/plain": [
       "  0%|          | 0/4 [00:00<?, ?it/s]"
      ]
     },
     "metadata": {},
     "output_type": "display_data"
    },
    {
     "name": "stdout",
     "output_type": "stream",
     "text": [
      "metric={'acc_goal_from_last_node': 100.0, 'layer_name': 'key=resid_post n=5', 'acc_of_predicting_node_at_pos=0': 7.96875, 'acc_of_predicting_node_at_pos=1': 7.265625, 'acc_of_predicting_node_at_pos=3': 7.890625, 'acc_of_predicting_node_at_pos=4': 6.484375}\n",
      "extract_Xy__last_token__goal\n"
     ]
    },
    {
     "data": {
      "text/html": [
       "<div>\n",
       "<style scoped>\n",
       "    .dataframe tbody tr th:only-of-type {\n",
       "        vertical-align: middle;\n",
       "    }\n",
       "\n",
       "    .dataframe tbody tr th {\n",
       "        vertical-align: top;\n",
       "    }\n",
       "\n",
       "    .dataframe thead th {\n",
       "        text-align: right;\n",
       "    }\n",
       "</style>\n",
       "<table border=\"1\" class=\"dataframe\">\n",
       "  <thead>\n",
       "    <tr style=\"text-align: right;\">\n",
       "      <th></th>\n",
       "      <th>acc_goal_from_last_node</th>\n",
       "      <th>layer_name</th>\n",
       "      <th>acc_of_predicting_node_at_pos=0</th>\n",
       "      <th>acc_of_predicting_node_at_pos=1</th>\n",
       "      <th>acc_of_predicting_node_at_pos=3</th>\n",
       "      <th>acc_of_predicting_node_at_pos=4</th>\n",
       "    </tr>\n",
       "  </thead>\n",
       "  <tbody>\n",
       "    <tr>\n",
       "      <th>0</th>\n",
       "      <td>6.015625</td>\n",
       "      <td>key=embed n=None</td>\n",
       "      <td>6.406250</td>\n",
       "      <td>6.562500</td>\n",
       "      <td>5.781250</td>\n",
       "      <td>7.031250</td>\n",
       "    </tr>\n",
       "    <tr>\n",
       "      <th>1</th>\n",
       "      <td>100.000000</td>\n",
       "      <td>key=resid_post n=0</td>\n",
       "      <td>6.953125</td>\n",
       "      <td>6.953125</td>\n",
       "      <td>6.562500</td>\n",
       "      <td>7.265625</td>\n",
       "    </tr>\n",
       "    <tr>\n",
       "      <th>2</th>\n",
       "      <td>100.000000</td>\n",
       "      <td>key=resid_post n=1</td>\n",
       "      <td>7.734375</td>\n",
       "      <td>6.328125</td>\n",
       "      <td>5.703125</td>\n",
       "      <td>7.187500</td>\n",
       "    </tr>\n",
       "    <tr>\n",
       "      <th>3</th>\n",
       "      <td>100.000000</td>\n",
       "      <td>key=resid_post n=2</td>\n",
       "      <td>9.062500</td>\n",
       "      <td>6.562500</td>\n",
       "      <td>7.812500</td>\n",
       "      <td>7.812500</td>\n",
       "    </tr>\n",
       "    <tr>\n",
       "      <th>4</th>\n",
       "      <td>100.000000</td>\n",
       "      <td>key=resid_post n=3</td>\n",
       "      <td>9.296875</td>\n",
       "      <td>7.343750</td>\n",
       "      <td>8.906250</td>\n",
       "      <td>6.328125</td>\n",
       "    </tr>\n",
       "    <tr>\n",
       "      <th>5</th>\n",
       "      <td>100.000000</td>\n",
       "      <td>key=resid_post n=4</td>\n",
       "      <td>8.984375</td>\n",
       "      <td>7.109375</td>\n",
       "      <td>9.687500</td>\n",
       "      <td>7.265625</td>\n",
       "    </tr>\n",
       "    <tr>\n",
       "      <th>6</th>\n",
       "      <td>100.000000</td>\n",
       "      <td>key=resid_post n=5</td>\n",
       "      <td>7.968750</td>\n",
       "      <td>7.265625</td>\n",
       "      <td>7.890625</td>\n",
       "      <td>6.484375</td>\n",
       "    </tr>\n",
       "  </tbody>\n",
       "</table>\n",
       "</div>"
      ],
      "text/plain": [
       "   acc_goal_from_last_node          layer_name  \\\n",
       "0                 6.015625    key=embed n=None   \n",
       "1               100.000000  key=resid_post n=0   \n",
       "2               100.000000  key=resid_post n=1   \n",
       "3               100.000000  key=resid_post n=2   \n",
       "4               100.000000  key=resid_post n=3   \n",
       "5               100.000000  key=resid_post n=4   \n",
       "6               100.000000  key=resid_post n=5   \n",
       "\n",
       "   acc_of_predicting_node_at_pos=0  acc_of_predicting_node_at_pos=1  \\\n",
       "0                         6.406250                         6.562500   \n",
       "1                         6.953125                         6.953125   \n",
       "2                         7.734375                         6.328125   \n",
       "3                         9.062500                         6.562500   \n",
       "4                         9.296875                         7.343750   \n",
       "5                         8.984375                         7.109375   \n",
       "6                         7.968750                         7.265625   \n",
       "\n",
       "   acc_of_predicting_node_at_pos=3  acc_of_predicting_node_at_pos=4  \n",
       "0                         5.781250                         7.031250  \n",
       "1                         6.562500                         7.265625  \n",
       "2                         5.703125                         7.187500  \n",
       "3                         7.812500                         7.812500  \n",
       "4                         8.906250                         6.328125  \n",
       "5                         9.687500                         7.265625  \n",
       "6                         7.890625                         6.484375  "
      ]
     },
     "execution_count": 45,
     "metadata": {},
     "output_type": "execute_result"
    }
   ],
   "source": [
    "accuracies = []\n",
    "\n",
    "for cache_key in cache_keys:\n",
    "    \n",
    "    X = []\n",
    "    y = []\n",
    "\n",
    "    extra_pos_dict = collections.defaultdict(list)\n",
    "    \n",
    "    for i,batch in tqdm(zip(range(N_TEST_BATCHES), deep_tree_dataloader), total=N_TEST_BATCHES):\n",
    "        Xbatch, ybatch, extra_pos_dict_batch = extract_Xy__last_token__goal(batch, baseline_model, **cache_key)\n",
    "    \n",
    "        X.append(Xbatch)\n",
    "        y.append(ybatch)\n",
    "\n",
    "        for pos, label_batch in extra_pos_dict_batch.items():\n",
    "            extra_pos_dict[pos].append(label_batch)\n",
    "    \n",
    "    \n",
    "    X = torch.cat(X)\n",
    "    y = torch.cat(y)\n",
    "\n",
    "    for pos, label_batch in extra_pos_dict.items():\n",
    "        extra_pos_dict[pos] = torch.cat(extra_pos_dict[pos])\n",
    "\n",
    "    \n",
    "\n",
    "    acc_goal_from_last_node = run_logreg(X, y)\n",
    "    \n",
    "\n",
    "\n",
    "    layer_name = ''.join ( [f'{k}={v} ' for k,v in cache_key.items()] )[:-1]\n",
    "    metric = {'acc_goal_from_last_node': float(acc_goal_from_last_node), 'layer_name':layer_name}\n",
    "\n",
    "    for pos, node_label_batch in tqdm(extra_pos_dict.items(), leave=False):\n",
    "        acc = run_logreg(X, node_label_batch)\n",
    "        metric[f'acc_of_predicting_node_at_pos={pos}'] = acc\n",
    "    \n",
    "    print(f'{metric=}')\n",
    "\n",
    "    accuracies.append(metric)\n",
    "\n",
    "print('extract_Xy__last_token__goal')\n",
    "pd.DataFrame(accuracies)"
   ]
  },
  {
   "cell_type": "code",
   "execution_count": 46,
   "id": "599b7138-9227-455a-b57e-7e5800def0a8",
   "metadata": {},
   "outputs": [
    {
     "data": {
      "text/plain": [
       "47"
      ]
     },
     "execution_count": 46,
     "metadata": {},
     "output_type": "execute_result"
    }
   ],
   "source": [
    "LAST_TOKEN_I"
   ]
  },
  {
   "cell_type": "code",
   "execution_count": 47,
   "id": "6af4f42c-5825-4d92-86ce-338fa4bc5224",
   "metadata": {},
   "outputs": [
    {
     "data": {
      "application/vnd.jupyter.widget-view+json": {
       "model_id": "499948ee23c94cc38e3292d3338c9484",
       "version_major": 2,
       "version_minor": 0
      },
      "text/plain": [
       "  0%|          | 0/100 [00:00<?, ?it/s]"
      ]
     },
     "metadata": {},
     "output_type": "display_data"
    },
    {
     "data": {
      "application/vnd.jupyter.widget-view+json": {
       "model_id": "",
       "version_major": 2,
       "version_minor": 0
      },
      "text/plain": [
       "  0%|          | 0/4 [00:00<?, ?it/s]"
      ]
     },
     "metadata": {},
     "output_type": "display_data"
    },
    {
     "name": "stdout",
     "output_type": "stream",
     "text": [
      "metric={'acc_goal_from_last_node': 7.8125, 'layer_name': 'key=embed n=None', 'acc_of_predicting_node_at_pos=0': 5.46875, 'acc_of_predicting_node_at_pos=1': 7.109375, 'acc_of_predicting_node_at_pos=3': 6.875, 'acc_of_predicting_node_at_pos=4': 6.40625}\n"
     ]
    },
    {
     "data": {
      "application/vnd.jupyter.widget-view+json": {
       "model_id": "152db55562574b3c940d54f90ec3583d",
       "version_major": 2,
       "version_minor": 0
      },
      "text/plain": [
       "  0%|          | 0/100 [00:00<?, ?it/s]"
      ]
     },
     "metadata": {},
     "output_type": "display_data"
    },
    {
     "data": {
      "application/vnd.jupyter.widget-view+json": {
       "model_id": "",
       "version_major": 2,
       "version_minor": 0
      },
      "text/plain": [
       "  0%|          | 0/4 [00:00<?, ?it/s]"
      ]
     },
     "metadata": {},
     "output_type": "display_data"
    },
    {
     "name": "stdout",
     "output_type": "stream",
     "text": [
      "metric={'acc_goal_from_last_node': 100.0, 'layer_name': 'key=resid_post n=0', 'acc_of_predicting_node_at_pos=0': 6.25, 'acc_of_predicting_node_at_pos=1': 5.9375, 'acc_of_predicting_node_at_pos=3': 7.265625, 'acc_of_predicting_node_at_pos=4': 5.78125}\n"
     ]
    },
    {
     "data": {
      "application/vnd.jupyter.widget-view+json": {
       "model_id": "29ae6964e5ff4e95a97b67adf083d3c0",
       "version_major": 2,
       "version_minor": 0
      },
      "text/plain": [
       "  0%|          | 0/100 [00:00<?, ?it/s]"
      ]
     },
     "metadata": {},
     "output_type": "display_data"
    },
    {
     "data": {
      "application/vnd.jupyter.widget-view+json": {
       "model_id": "",
       "version_major": 2,
       "version_minor": 0
      },
      "text/plain": [
       "  0%|          | 0/4 [00:00<?, ?it/s]"
      ]
     },
     "metadata": {},
     "output_type": "display_data"
    },
    {
     "name": "stdout",
     "output_type": "stream",
     "text": [
      "metric={'acc_goal_from_last_node': 100.0, 'layer_name': 'key=resid_post n=1', 'acc_of_predicting_node_at_pos=0': 6.875, 'acc_of_predicting_node_at_pos=1': 6.25, 'acc_of_predicting_node_at_pos=3': 7.890625, 'acc_of_predicting_node_at_pos=4': 6.171875}\n"
     ]
    },
    {
     "data": {
      "application/vnd.jupyter.widget-view+json": {
       "model_id": "396d604d46644ba6a7a95c8f53463fa9",
       "version_major": 2,
       "version_minor": 0
      },
      "text/plain": [
       "  0%|          | 0/100 [00:00<?, ?it/s]"
      ]
     },
     "metadata": {},
     "output_type": "display_data"
    },
    {
     "data": {
      "application/vnd.jupyter.widget-view+json": {
       "model_id": "",
       "version_major": 2,
       "version_minor": 0
      },
      "text/plain": [
       "  0%|          | 0/4 [00:00<?, ?it/s]"
      ]
     },
     "metadata": {},
     "output_type": "display_data"
    },
    {
     "name": "stdout",
     "output_type": "stream",
     "text": [
      "metric={'acc_goal_from_last_node': 100.0, 'layer_name': 'key=resid_post n=2', 'acc_of_predicting_node_at_pos=0': 9.6875, 'acc_of_predicting_node_at_pos=1': 6.875, 'acc_of_predicting_node_at_pos=3': 7.03125, 'acc_of_predicting_node_at_pos=4': 7.109375}\n"
     ]
    },
    {
     "data": {
      "application/vnd.jupyter.widget-view+json": {
       "model_id": "4ba2a8cc36134bc1901afb1253b60901",
       "version_major": 2,
       "version_minor": 0
      },
      "text/plain": [
       "  0%|          | 0/100 [00:00<?, ?it/s]"
      ]
     },
     "metadata": {},
     "output_type": "display_data"
    },
    {
     "data": {
      "application/vnd.jupyter.widget-view+json": {
       "model_id": "",
       "version_major": 2,
       "version_minor": 0
      },
      "text/plain": [
       "  0%|          | 0/4 [00:00<?, ?it/s]"
      ]
     },
     "metadata": {},
     "output_type": "display_data"
    },
    {
     "name": "stdout",
     "output_type": "stream",
     "text": [
      "metric={'acc_goal_from_last_node': 100.0, 'layer_name': 'key=resid_post n=3', 'acc_of_predicting_node_at_pos=0': 9.296875, 'acc_of_predicting_node_at_pos=1': 5.859375, 'acc_of_predicting_node_at_pos=3': 7.8125, 'acc_of_predicting_node_at_pos=4': 6.640625}\n"
     ]
    },
    {
     "data": {
      "application/vnd.jupyter.widget-view+json": {
       "model_id": "0314a33f1b994dff908ae5ce4e3628b0",
       "version_major": 2,
       "version_minor": 0
      },
      "text/plain": [
       "  0%|          | 0/100 [00:00<?, ?it/s]"
      ]
     },
     "metadata": {},
     "output_type": "display_data"
    },
    {
     "data": {
      "application/vnd.jupyter.widget-view+json": {
       "model_id": "",
       "version_major": 2,
       "version_minor": 0
      },
      "text/plain": [
       "  0%|          | 0/4 [00:00<?, ?it/s]"
      ]
     },
     "metadata": {},
     "output_type": "display_data"
    },
    {
     "name": "stdout",
     "output_type": "stream",
     "text": [
      "metric={'acc_goal_from_last_node': 100.0, 'layer_name': 'key=resid_post n=4', 'acc_of_predicting_node_at_pos=0': 7.5, 'acc_of_predicting_node_at_pos=1': 8.046875, 'acc_of_predicting_node_at_pos=3': 7.578125, 'acc_of_predicting_node_at_pos=4': 6.171875}\n"
     ]
    },
    {
     "data": {
      "application/vnd.jupyter.widget-view+json": {
       "model_id": "2e2e07dd273540e6a07b77806586dc87",
       "version_major": 2,
       "version_minor": 0
      },
      "text/plain": [
       "  0%|          | 0/100 [00:00<?, ?it/s]"
      ]
     },
     "metadata": {},
     "output_type": "display_data"
    },
    {
     "data": {
      "application/vnd.jupyter.widget-view+json": {
       "model_id": "",
       "version_major": 2,
       "version_minor": 0
      },
      "text/plain": [
       "  0%|          | 0/4 [00:00<?, ?it/s]"
      ]
     },
     "metadata": {},
     "output_type": "display_data"
    },
    {
     "name": "stdout",
     "output_type": "stream",
     "text": [
      "metric={'acc_goal_from_last_node': 99.921875, 'layer_name': 'key=resid_post n=5', 'acc_of_predicting_node_at_pos=0': 7.890625, 'acc_of_predicting_node_at_pos=1': 7.109375, 'acc_of_predicting_node_at_pos=3': 9.53125, 'acc_of_predicting_node_at_pos=4': 7.03125}\n",
      "extract_Xy__last_token__goal\n"
     ]
    },
    {
     "data": {
      "text/html": [
       "<div>\n",
       "<style scoped>\n",
       "    .dataframe tbody tr th:only-of-type {\n",
       "        vertical-align: middle;\n",
       "    }\n",
       "\n",
       "    .dataframe tbody tr th {\n",
       "        vertical-align: top;\n",
       "    }\n",
       "\n",
       "    .dataframe thead th {\n",
       "        text-align: right;\n",
       "    }\n",
       "</style>\n",
       "<table border=\"1\" class=\"dataframe\">\n",
       "  <thead>\n",
       "    <tr style=\"text-align: right;\">\n",
       "      <th></th>\n",
       "      <th>acc_goal_from_last_node</th>\n",
       "      <th>layer_name</th>\n",
       "      <th>acc_of_predicting_node_at_pos=0</th>\n",
       "      <th>acc_of_predicting_node_at_pos=1</th>\n",
       "      <th>acc_of_predicting_node_at_pos=3</th>\n",
       "      <th>acc_of_predicting_node_at_pos=4</th>\n",
       "    </tr>\n",
       "  </thead>\n",
       "  <tbody>\n",
       "    <tr>\n",
       "      <th>0</th>\n",
       "      <td>7.812500</td>\n",
       "      <td>key=embed n=None</td>\n",
       "      <td>5.468750</td>\n",
       "      <td>7.109375</td>\n",
       "      <td>6.875000</td>\n",
       "      <td>6.406250</td>\n",
       "    </tr>\n",
       "    <tr>\n",
       "      <th>1</th>\n",
       "      <td>100.000000</td>\n",
       "      <td>key=resid_post n=0</td>\n",
       "      <td>6.250000</td>\n",
       "      <td>5.937500</td>\n",
       "      <td>7.265625</td>\n",
       "      <td>5.781250</td>\n",
       "    </tr>\n",
       "    <tr>\n",
       "      <th>2</th>\n",
       "      <td>100.000000</td>\n",
       "      <td>key=resid_post n=1</td>\n",
       "      <td>6.875000</td>\n",
       "      <td>6.250000</td>\n",
       "      <td>7.890625</td>\n",
       "      <td>6.171875</td>\n",
       "    </tr>\n",
       "    <tr>\n",
       "      <th>3</th>\n",
       "      <td>100.000000</td>\n",
       "      <td>key=resid_post n=2</td>\n",
       "      <td>9.687500</td>\n",
       "      <td>6.875000</td>\n",
       "      <td>7.031250</td>\n",
       "      <td>7.109375</td>\n",
       "    </tr>\n",
       "    <tr>\n",
       "      <th>4</th>\n",
       "      <td>100.000000</td>\n",
       "      <td>key=resid_post n=3</td>\n",
       "      <td>9.296875</td>\n",
       "      <td>5.859375</td>\n",
       "      <td>7.812500</td>\n",
       "      <td>6.640625</td>\n",
       "    </tr>\n",
       "    <tr>\n",
       "      <th>5</th>\n",
       "      <td>100.000000</td>\n",
       "      <td>key=resid_post n=4</td>\n",
       "      <td>7.500000</td>\n",
       "      <td>8.046875</td>\n",
       "      <td>7.578125</td>\n",
       "      <td>6.171875</td>\n",
       "    </tr>\n",
       "    <tr>\n",
       "      <th>6</th>\n",
       "      <td>99.921875</td>\n",
       "      <td>key=resid_post n=5</td>\n",
       "      <td>7.890625</td>\n",
       "      <td>7.109375</td>\n",
       "      <td>9.531250</td>\n",
       "      <td>7.031250</td>\n",
       "    </tr>\n",
       "  </tbody>\n",
       "</table>\n",
       "</div>"
      ],
      "text/plain": [
       "   acc_goal_from_last_node          layer_name  \\\n",
       "0                 7.812500    key=embed n=None   \n",
       "1               100.000000  key=resid_post n=0   \n",
       "2               100.000000  key=resid_post n=1   \n",
       "3               100.000000  key=resid_post n=2   \n",
       "4               100.000000  key=resid_post n=3   \n",
       "5               100.000000  key=resid_post n=4   \n",
       "6                99.921875  key=resid_post n=5   \n",
       "\n",
       "   acc_of_predicting_node_at_pos=0  acc_of_predicting_node_at_pos=1  \\\n",
       "0                         5.468750                         7.109375   \n",
       "1                         6.250000                         5.937500   \n",
       "2                         6.875000                         6.250000   \n",
       "3                         9.687500                         6.875000   \n",
       "4                         9.296875                         5.859375   \n",
       "5                         7.500000                         8.046875   \n",
       "6                         7.890625                         7.109375   \n",
       "\n",
       "   acc_of_predicting_node_at_pos=3  acc_of_predicting_node_at_pos=4  \n",
       "0                         6.875000                         6.406250  \n",
       "1                         7.265625                         5.781250  \n",
       "2                         7.890625                         6.171875  \n",
       "3                         7.031250                         7.109375  \n",
       "4                         7.812500                         6.640625  \n",
       "5                         7.578125                         6.171875  \n",
       "6                         9.531250                         7.031250  "
      ]
     },
     "execution_count": 47,
     "metadata": {},
     "output_type": "execute_result"
    }
   ],
   "source": [
    "accuracies = []\n",
    "\n",
    "for cache_key in cache_keys:\n",
    "    \n",
    "    X = []\n",
    "    y = []\n",
    "\n",
    "    extra_pos_dict = collections.defaultdict(list)\n",
    "    \n",
    "    for i,batch in tqdm(zip(range(N_TEST_BATCHES), deep_tree_dataloader), total=N_TEST_BATCHES):\n",
    "        Xbatch, ybatch, extra_pos_dict_batch = extract_Xy__last_token__goal(batch, baseline_model, **cache_key)\n",
    "    \n",
    "        X.append(Xbatch)\n",
    "        y.append(ybatch)\n",
    "\n",
    "        for pos, label_batch in extra_pos_dict_batch.items():\n",
    "            extra_pos_dict[pos].append(label_batch)\n",
    "    \n",
    "    \n",
    "    X = torch.cat(X)\n",
    "    y = torch.cat(y)\n",
    "\n",
    "    for pos, label_batch in extra_pos_dict.items():\n",
    "        extra_pos_dict[pos] = torch.cat(extra_pos_dict[pos])\n",
    "\n",
    "    \n",
    "\n",
    "    acc_goal_from_last_node = run_logreg(X, y)\n",
    "    \n",
    "\n",
    "\n",
    "    layer_name = ''.join ( [f'{k}={v} ' for k,v in cache_key.items()] )[:-1]\n",
    "    metric = {'acc_goal_from_last_node': float(acc_goal_from_last_node), 'layer_name':layer_name}\n",
    "\n",
    "    for pos, node_label_batch in tqdm(extra_pos_dict.items(), leave=False):\n",
    "        acc = run_logreg(X, node_label_batch)\n",
    "        metric[f'acc_of_predicting_node_at_pos={pos}'] = acc\n",
    "    \n",
    "    print(f'{metric=}')\n",
    "\n",
    "    accuracies.append(metric)\n",
    "\n",
    "print('extract_Xy__last_token__goal')\n",
    "pd.DataFrame(accuracies)"
   ]
  },
  {
   "cell_type": "markdown",
   "id": "dffc105c-b007-4655-ae54-05089c5bb41c",
   "metadata": {},
   "source": [
    "### SWAPP pos embs"
   ]
  },
  {
   "cell_type": "code",
   "execution_count": 48,
   "id": "518d4df0-8658-438e-bf09-8c39c07319fc",
   "metadata": {},
   "outputs": [],
   "source": [
    "baseline_model = load_baseline_model()\n",
    "W_pos = baseline_model.pos_embed.W_pos.data.clone()"
   ]
  },
  {
   "cell_type": "code",
   "execution_count": 49,
   "id": "a74ad657-f2ba-42ac-a439-917faad8e0dd",
   "metadata": {},
   "outputs": [],
   "source": [
    "W_pos__first_token_is_goal = W_pos.clone()\n",
    "\n",
    "# swap first pos embedding with the goal pos emb\n",
    "t = W_pos__first_token_is_goal[0].clone()\n",
    "W_pos__first_token_is_goal[0] = W_pos__first_token_is_goal[GOAL_TOKEN_I]\n",
    "W_pos__first_token_is_goal[GOAL_TOKEN_I] = t\n",
    "# --- ---\n",
    "\n",
    "baseline_model.pos_embed.W_pos.data = W_pos__first_token_is_goal"
   ]
  },
  {
   "cell_type": "code",
   "execution_count": 50,
   "id": "97a6cf96-7f09-4c69-a459-52b494d962ed",
   "metadata": {},
   "outputs": [
    {
     "data": {
      "application/vnd.jupyter.widget-view+json": {
       "model_id": "399739533d11468e91f177ce318980d3",
       "version_major": 2,
       "version_minor": 0
      },
      "text/plain": [
       "  0%|          | 0/100 [00:00<?, ?it/s]"
      ]
     },
     "metadata": {},
     "output_type": "display_data"
    },
    {
     "data": {
      "application/vnd.jupyter.widget-view+json": {
       "model_id": "",
       "version_major": 2,
       "version_minor": 0
      },
      "text/plain": [
       "  0%|          | 0/4 [00:00<?, ?it/s]"
      ]
     },
     "metadata": {},
     "output_type": "display_data"
    },
    {
     "name": "stdout",
     "output_type": "stream",
     "text": [
      "metric={'acc_goal_from_last_node': 6.640625, 'layer_name': 'key=embed n=None', 'acc_of_predicting_node_at_pos=0': 7.1875, 'acc_of_predicting_node_at_pos=1': 6.5625, 'acc_of_predicting_node_at_pos=3': 7.03125, 'acc_of_predicting_node_at_pos=4': 6.484375}\n"
     ]
    },
    {
     "data": {
      "application/vnd.jupyter.widget-view+json": {
       "model_id": "910d90e5407f44999c0de89f078be320",
       "version_major": 2,
       "version_minor": 0
      },
      "text/plain": [
       "  0%|          | 0/100 [00:00<?, ?it/s]"
      ]
     },
     "metadata": {},
     "output_type": "display_data"
    },
    {
     "data": {
      "application/vnd.jupyter.widget-view+json": {
       "model_id": "",
       "version_major": 2,
       "version_minor": 0
      },
      "text/plain": [
       "  0%|          | 0/4 [00:00<?, ?it/s]"
      ]
     },
     "metadata": {},
     "output_type": "display_data"
    },
    {
     "name": "stdout",
     "output_type": "stream",
     "text": [
      "metric={'acc_goal_from_last_node': 7.5, 'layer_name': 'key=resid_post n=0', 'acc_of_predicting_node_at_pos=0': 100.0, 'acc_of_predicting_node_at_pos=1': 7.03125, 'acc_of_predicting_node_at_pos=3': 6.71875, 'acc_of_predicting_node_at_pos=4': 6.875}\n"
     ]
    },
    {
     "data": {
      "application/vnd.jupyter.widget-view+json": {
       "model_id": "0ca284292b7d4a48b8d0961a158bc4bd",
       "version_major": 2,
       "version_minor": 0
      },
      "text/plain": [
       "  0%|          | 0/100 [00:00<?, ?it/s]"
      ]
     },
     "metadata": {},
     "output_type": "display_data"
    },
    {
     "data": {
      "application/vnd.jupyter.widget-view+json": {
       "model_id": "",
       "version_major": 2,
       "version_minor": 0
      },
      "text/plain": [
       "  0%|          | 0/4 [00:00<?, ?it/s]"
      ]
     },
     "metadata": {},
     "output_type": "display_data"
    },
    {
     "name": "stdout",
     "output_type": "stream",
     "text": [
      "metric={'acc_goal_from_last_node': 8.28125, 'layer_name': 'key=resid_post n=1', 'acc_of_predicting_node_at_pos=0': 100.0, 'acc_of_predicting_node_at_pos=1': 5.234375, 'acc_of_predicting_node_at_pos=3': 7.1875, 'acc_of_predicting_node_at_pos=4': 6.328125}\n"
     ]
    },
    {
     "data": {
      "application/vnd.jupyter.widget-view+json": {
       "model_id": "bf1d6b73e8f346df81eef72a956832e6",
       "version_major": 2,
       "version_minor": 0
      },
      "text/plain": [
       "  0%|          | 0/100 [00:00<?, ?it/s]"
      ]
     },
     "metadata": {},
     "output_type": "display_data"
    },
    {
     "data": {
      "application/vnd.jupyter.widget-view+json": {
       "model_id": "",
       "version_major": 2,
       "version_minor": 0
      },
      "text/plain": [
       "  0%|          | 0/4 [00:00<?, ?it/s]"
      ]
     },
     "metadata": {},
     "output_type": "display_data"
    },
    {
     "name": "stdout",
     "output_type": "stream",
     "text": [
      "metric={'acc_goal_from_last_node': 8.125, 'layer_name': 'key=resid_post n=2', 'acc_of_predicting_node_at_pos=0': 100.0, 'acc_of_predicting_node_at_pos=1': 7.96875, 'acc_of_predicting_node_at_pos=3': 8.59375, 'acc_of_predicting_node_at_pos=4': 7.1875}\n"
     ]
    },
    {
     "data": {
      "application/vnd.jupyter.widget-view+json": {
       "model_id": "dbd65b3c6d1546889001cbd35e764bfe",
       "version_major": 2,
       "version_minor": 0
      },
      "text/plain": [
       "  0%|          | 0/100 [00:00<?, ?it/s]"
      ]
     },
     "metadata": {},
     "output_type": "display_data"
    },
    {
     "data": {
      "application/vnd.jupyter.widget-view+json": {
       "model_id": "",
       "version_major": 2,
       "version_minor": 0
      },
      "text/plain": [
       "  0%|          | 0/4 [00:00<?, ?it/s]"
      ]
     },
     "metadata": {},
     "output_type": "display_data"
    },
    {
     "name": "stdout",
     "output_type": "stream",
     "text": [
      "metric={'acc_goal_from_last_node': 16.5625, 'layer_name': 'key=resid_post n=3', 'acc_of_predicting_node_at_pos=0': 99.921875, 'acc_of_predicting_node_at_pos=1': 8.90625, 'acc_of_predicting_node_at_pos=3': 7.109375, 'acc_of_predicting_node_at_pos=4': 7.03125}\n"
     ]
    },
    {
     "data": {
      "application/vnd.jupyter.widget-view+json": {
       "model_id": "b288967e2b7c49c29083c1cab8cd0da4",
       "version_major": 2,
       "version_minor": 0
      },
      "text/plain": [
       "  0%|          | 0/100 [00:00<?, ?it/s]"
      ]
     },
     "metadata": {},
     "output_type": "display_data"
    },
    {
     "data": {
      "application/vnd.jupyter.widget-view+json": {
       "model_id": "",
       "version_major": 2,
       "version_minor": 0
      },
      "text/plain": [
       "  0%|          | 0/4 [00:00<?, ?it/s]"
      ]
     },
     "metadata": {},
     "output_type": "display_data"
    },
    {
     "name": "stdout",
     "output_type": "stream",
     "text": [
      "metric={'acc_goal_from_last_node': 18.59375, 'layer_name': 'key=resid_post n=4', 'acc_of_predicting_node_at_pos=0': 99.6875, 'acc_of_predicting_node_at_pos=1': 9.6875, 'acc_of_predicting_node_at_pos=3': 6.484375, 'acc_of_predicting_node_at_pos=4': 8.59375}\n"
     ]
    },
    {
     "data": {
      "application/vnd.jupyter.widget-view+json": {
       "model_id": "7358d56d8e964517a6b81d705738d5ec",
       "version_major": 2,
       "version_minor": 0
      },
      "text/plain": [
       "  0%|          | 0/100 [00:00<?, ?it/s]"
      ]
     },
     "metadata": {},
     "output_type": "display_data"
    },
    {
     "data": {
      "application/vnd.jupyter.widget-view+json": {
       "model_id": "",
       "version_major": 2,
       "version_minor": 0
      },
      "text/plain": [
       "  0%|          | 0/4 [00:00<?, ?it/s]"
      ]
     },
     "metadata": {},
     "output_type": "display_data"
    },
    {
     "name": "stdout",
     "output_type": "stream",
     "text": [
      "metric={'acc_goal_from_last_node': 13.203125, 'layer_name': 'key=resid_post n=5', 'acc_of_predicting_node_at_pos=0': 99.765625, 'acc_of_predicting_node_at_pos=1': 8.75, 'acc_of_predicting_node_at_pos=3': 6.09375, 'acc_of_predicting_node_at_pos=4': 7.5}\n",
      "swap with pos=0 | extract_Xy__last_token__goal\n"
     ]
    },
    {
     "data": {
      "text/html": [
       "<div>\n",
       "<style scoped>\n",
       "    .dataframe tbody tr th:only-of-type {\n",
       "        vertical-align: middle;\n",
       "    }\n",
       "\n",
       "    .dataframe tbody tr th {\n",
       "        vertical-align: top;\n",
       "    }\n",
       "\n",
       "    .dataframe thead th {\n",
       "        text-align: right;\n",
       "    }\n",
       "</style>\n",
       "<table border=\"1\" class=\"dataframe\">\n",
       "  <thead>\n",
       "    <tr style=\"text-align: right;\">\n",
       "      <th></th>\n",
       "      <th>acc_goal_from_last_node</th>\n",
       "      <th>layer_name</th>\n",
       "      <th>acc_of_predicting_node_at_pos=0</th>\n",
       "      <th>acc_of_predicting_node_at_pos=1</th>\n",
       "      <th>acc_of_predicting_node_at_pos=3</th>\n",
       "      <th>acc_of_predicting_node_at_pos=4</th>\n",
       "    </tr>\n",
       "  </thead>\n",
       "  <tbody>\n",
       "    <tr>\n",
       "      <th>0</th>\n",
       "      <td>6.640625</td>\n",
       "      <td>key=embed n=None</td>\n",
       "      <td>7.187500</td>\n",
       "      <td>6.562500</td>\n",
       "      <td>7.031250</td>\n",
       "      <td>6.484375</td>\n",
       "    </tr>\n",
       "    <tr>\n",
       "      <th>1</th>\n",
       "      <td>7.500000</td>\n",
       "      <td>key=resid_post n=0</td>\n",
       "      <td>100.000000</td>\n",
       "      <td>7.031250</td>\n",
       "      <td>6.718750</td>\n",
       "      <td>6.875000</td>\n",
       "    </tr>\n",
       "    <tr>\n",
       "      <th>2</th>\n",
       "      <td>8.281250</td>\n",
       "      <td>key=resid_post n=1</td>\n",
       "      <td>100.000000</td>\n",
       "      <td>5.234375</td>\n",
       "      <td>7.187500</td>\n",
       "      <td>6.328125</td>\n",
       "    </tr>\n",
       "    <tr>\n",
       "      <th>3</th>\n",
       "      <td>8.125000</td>\n",
       "      <td>key=resid_post n=2</td>\n",
       "      <td>100.000000</td>\n",
       "      <td>7.968750</td>\n",
       "      <td>8.593750</td>\n",
       "      <td>7.187500</td>\n",
       "    </tr>\n",
       "    <tr>\n",
       "      <th>4</th>\n",
       "      <td>16.562500</td>\n",
       "      <td>key=resid_post n=3</td>\n",
       "      <td>99.921875</td>\n",
       "      <td>8.906250</td>\n",
       "      <td>7.109375</td>\n",
       "      <td>7.031250</td>\n",
       "    </tr>\n",
       "    <tr>\n",
       "      <th>5</th>\n",
       "      <td>18.593750</td>\n",
       "      <td>key=resid_post n=4</td>\n",
       "      <td>99.687500</td>\n",
       "      <td>9.687500</td>\n",
       "      <td>6.484375</td>\n",
       "      <td>8.593750</td>\n",
       "    </tr>\n",
       "    <tr>\n",
       "      <th>6</th>\n",
       "      <td>13.203125</td>\n",
       "      <td>key=resid_post n=5</td>\n",
       "      <td>99.765625</td>\n",
       "      <td>8.750000</td>\n",
       "      <td>6.093750</td>\n",
       "      <td>7.500000</td>\n",
       "    </tr>\n",
       "  </tbody>\n",
       "</table>\n",
       "</div>"
      ],
      "text/plain": [
       "   acc_goal_from_last_node          layer_name  \\\n",
       "0                 6.640625    key=embed n=None   \n",
       "1                 7.500000  key=resid_post n=0   \n",
       "2                 8.281250  key=resid_post n=1   \n",
       "3                 8.125000  key=resid_post n=2   \n",
       "4                16.562500  key=resid_post n=3   \n",
       "5                18.593750  key=resid_post n=4   \n",
       "6                13.203125  key=resid_post n=5   \n",
       "\n",
       "   acc_of_predicting_node_at_pos=0  acc_of_predicting_node_at_pos=1  \\\n",
       "0                         7.187500                         6.562500   \n",
       "1                       100.000000                         7.031250   \n",
       "2                       100.000000                         5.234375   \n",
       "3                       100.000000                         7.968750   \n",
       "4                        99.921875                         8.906250   \n",
       "5                        99.687500                         9.687500   \n",
       "6                        99.765625                         8.750000   \n",
       "\n",
       "   acc_of_predicting_node_at_pos=3  acc_of_predicting_node_at_pos=4  \n",
       "0                         7.031250                         6.484375  \n",
       "1                         6.718750                         6.875000  \n",
       "2                         7.187500                         6.328125  \n",
       "3                         8.593750                         7.187500  \n",
       "4                         7.109375                         7.031250  \n",
       "5                         6.484375                         8.593750  \n",
       "6                         6.093750                         7.500000  "
      ]
     },
     "execution_count": 50,
     "metadata": {},
     "output_type": "execute_result"
    }
   ],
   "source": [
    "accuracies = []\n",
    "\n",
    "for cache_key in cache_keys:\n",
    "    \n",
    "    X = []\n",
    "    y = []\n",
    "\n",
    "    extra_pos_dict = collections.defaultdict(list)\n",
    "    \n",
    "    for i,batch in tqdm(zip(range(N_TEST_BATCHES), deep_tree_dataloader), total=N_TEST_BATCHES):\n",
    "        Xbatch, ybatch, extra_pos_dict_batch = extract_Xy__last_token__goal(batch, baseline_model, **cache_key)\n",
    "    \n",
    "        X.append(Xbatch)\n",
    "        y.append(ybatch)\n",
    "\n",
    "        for pos, label_batch in extra_pos_dict_batch.items():\n",
    "            extra_pos_dict[pos].append(label_batch)\n",
    "    \n",
    "    \n",
    "    X = torch.cat(X)\n",
    "    y = torch.cat(y)\n",
    "\n",
    "    for pos, label_batch in extra_pos_dict.items():\n",
    "        extra_pos_dict[pos] = torch.cat(extra_pos_dict[pos])\n",
    "\n",
    "    \n",
    "\n",
    "    acc_goal_from_last_node = run_logreg(X, y)\n",
    "    \n",
    "\n",
    "\n",
    "    layer_name = ''.join ( [f'{k}={v} ' for k,v in cache_key.items()] )[:-1]\n",
    "    metric = {'acc_goal_from_last_node': float(acc_goal_from_last_node), 'layer_name':layer_name}\n",
    "\n",
    "    for pos, node_label_batch in tqdm(extra_pos_dict.items(), leave=False):\n",
    "        acc = run_logreg(X, node_label_batch)\n",
    "        metric[f'acc_of_predicting_node_at_pos={pos}'] = acc\n",
    "    \n",
    "    print(f'{metric=}')\n",
    "\n",
    "    accuracies.append(metric)\n",
    "\n",
    "print('swap with pos=0 | extract_Xy__last_token__goal')\n",
    "pd.DataFrame(accuracies)"
   ]
  },
  {
   "cell_type": "markdown",
   "id": "861b9e4f-ae48-43d3-93b8-386afe445c17",
   "metadata": {},
   "source": [
    "### "
   ]
  },
  {
   "cell_type": "markdown",
   "id": "1638112d-4657-4896-a7e0-7c1c6417ee54",
   "metadata": {},
   "source": [
    "### To the second node (note it has separate emb)"
   ]
  },
  {
   "cell_type": "code",
   "execution_count": 51,
   "id": "1d9ed6da-1227-4f30-860e-7c720f0683d0",
   "metadata": {},
   "outputs": [],
   "source": [
    "baseline_model = load_baseline_model()\n",
    "W_pos = baseline_model.pos_embed.W_pos.data.clone()"
   ]
  },
  {
   "cell_type": "code",
   "execution_count": 52,
   "id": "aa8c2d40-bfb1-4c5f-b5fc-fb7caeaaec7b",
   "metadata": {},
   "outputs": [],
   "source": [
    "W_pos__first_token_is_goal = W_pos.clone()\n",
    "\n",
    "# swap first pos embedding with the goal pos emb\n",
    "\n",
    "t = W_pos__first_token_is_goal[1].clone()\n",
    "W_pos__first_token_is_goal[1] = W_pos__first_token_is_goal[GOAL_TOKEN_I]\n",
    "W_pos__first_token_is_goal[GOAL_TOKEN_I] = t\n",
    "# --- ---\n",
    "\n",
    "baseline_model.pos_embed.W_pos.data = W_pos__first_token_is_goal"
   ]
  },
  {
   "cell_type": "code",
   "execution_count": 53,
   "id": "93784bd5-ed6f-4ff1-8712-f05a26962620",
   "metadata": {},
   "outputs": [],
   "source": [
    "# N_TEST_BATCHES = 20"
   ]
  },
  {
   "cell_type": "code",
   "execution_count": 54,
   "id": "dc876c28-f73a-4ea4-b83a-8cdd588541e0",
   "metadata": {},
   "outputs": [
    {
     "data": {
      "application/vnd.jupyter.widget-view+json": {
       "model_id": "ea6b4e98965f4d83ba53288e6248360f",
       "version_major": 2,
       "version_minor": 0
      },
      "text/plain": [
       "  0%|          | 0/100 [00:00<?, ?it/s]"
      ]
     },
     "metadata": {},
     "output_type": "display_data"
    },
    {
     "data": {
      "application/vnd.jupyter.widget-view+json": {
       "model_id": "",
       "version_major": 2,
       "version_minor": 0
      },
      "text/plain": [
       "  0%|          | 0/4 [00:00<?, ?it/s]"
      ]
     },
     "metadata": {},
     "output_type": "display_data"
    },
    {
     "name": "stdout",
     "output_type": "stream",
     "text": [
      "metric={'acc_goal_from_last_node': 6.328125, 'layer_name': 'key=embed n=None', 'acc_of_predicting_node_at_pos=0': 6.5625, 'acc_of_predicting_node_at_pos=1': 6.40625, 'acc_of_predicting_node_at_pos=3': 6.484375, 'acc_of_predicting_node_at_pos=4': 6.09375}\n"
     ]
    },
    {
     "data": {
      "application/vnd.jupyter.widget-view+json": {
       "model_id": "bc2e7dcd17924a94a9327ad1a94fa00b",
       "version_major": 2,
       "version_minor": 0
      },
      "text/plain": [
       "  0%|          | 0/100 [00:00<?, ?it/s]"
      ]
     },
     "metadata": {},
     "output_type": "display_data"
    },
    {
     "data": {
      "application/vnd.jupyter.widget-view+json": {
       "model_id": "",
       "version_major": 2,
       "version_minor": 0
      },
      "text/plain": [
       "  0%|          | 0/4 [00:00<?, ?it/s]"
      ]
     },
     "metadata": {},
     "output_type": "display_data"
    },
    {
     "name": "stdout",
     "output_type": "stream",
     "text": [
      "metric={'acc_goal_from_last_node': 19.84375, 'layer_name': 'key=resid_post n=0', 'acc_of_predicting_node_at_pos=0': 6.953125, 'acc_of_predicting_node_at_pos=1': 43.203125, 'acc_of_predicting_node_at_pos=3': 7.265625, 'acc_of_predicting_node_at_pos=4': 6.875}\n"
     ]
    },
    {
     "data": {
      "application/vnd.jupyter.widget-view+json": {
       "model_id": "3b69d76367bf4fb0ac8c8ceb64aafa9a",
       "version_major": 2,
       "version_minor": 0
      },
      "text/plain": [
       "  0%|          | 0/100 [00:00<?, ?it/s]"
      ]
     },
     "metadata": {},
     "output_type": "display_data"
    },
    {
     "data": {
      "application/vnd.jupyter.widget-view+json": {
       "model_id": "",
       "version_major": 2,
       "version_minor": 0
      },
      "text/plain": [
       "  0%|          | 0/4 [00:00<?, ?it/s]"
      ]
     },
     "metadata": {},
     "output_type": "display_data"
    },
    {
     "name": "stdout",
     "output_type": "stream",
     "text": [
      "metric={'acc_goal_from_last_node': 24.375, 'layer_name': 'key=resid_post n=1', 'acc_of_predicting_node_at_pos=0': 7.109375, 'acc_of_predicting_node_at_pos=1': 21.171875, 'acc_of_predicting_node_at_pos=3': 7.578125, 'acc_of_predicting_node_at_pos=4': 6.796875}\n"
     ]
    },
    {
     "data": {
      "application/vnd.jupyter.widget-view+json": {
       "model_id": "30a66e49e0784176a1869d2dafe7eeac",
       "version_major": 2,
       "version_minor": 0
      },
      "text/plain": [
       "  0%|          | 0/100 [00:00<?, ?it/s]"
      ]
     },
     "metadata": {},
     "output_type": "display_data"
    },
    {
     "data": {
      "application/vnd.jupyter.widget-view+json": {
       "model_id": "",
       "version_major": 2,
       "version_minor": 0
      },
      "text/plain": [
       "  0%|          | 0/4 [00:00<?, ?it/s]"
      ]
     },
     "metadata": {},
     "output_type": "display_data"
    },
    {
     "name": "stdout",
     "output_type": "stream",
     "text": [
      "metric={'acc_goal_from_last_node': 33.984375, 'layer_name': 'key=resid_post n=2', 'acc_of_predicting_node_at_pos=0': 13.359375, 'acc_of_predicting_node_at_pos=1': 18.59375, 'acc_of_predicting_node_at_pos=3': 10.546875, 'acc_of_predicting_node_at_pos=4': 7.734375}\n"
     ]
    },
    {
     "data": {
      "application/vnd.jupyter.widget-view+json": {
       "model_id": "1b74099b7c594c65a065e02cbda5bada",
       "version_major": 2,
       "version_minor": 0
      },
      "text/plain": [
       "  0%|          | 0/100 [00:00<?, ?it/s]"
      ]
     },
     "metadata": {},
     "output_type": "display_data"
    },
    {
     "data": {
      "application/vnd.jupyter.widget-view+json": {
       "model_id": "",
       "version_major": 2,
       "version_minor": 0
      },
      "text/plain": [
       "  0%|          | 0/4 [00:00<?, ?it/s]"
      ]
     },
     "metadata": {},
     "output_type": "display_data"
    },
    {
     "name": "stdout",
     "output_type": "stream",
     "text": [
      "metric={'acc_goal_from_last_node': 44.53125, 'layer_name': 'key=resid_post n=3', 'acc_of_predicting_node_at_pos=0': 13.046875, 'acc_of_predicting_node_at_pos=1': 16.5625, 'acc_of_predicting_node_at_pos=3': 9.6875, 'acc_of_predicting_node_at_pos=4': 7.890625}\n"
     ]
    },
    {
     "data": {
      "application/vnd.jupyter.widget-view+json": {
       "model_id": "4b32ed9222804cb6be0e3b4f6a260d3a",
       "version_major": 2,
       "version_minor": 0
      },
      "text/plain": [
       "  0%|          | 0/100 [00:00<?, ?it/s]"
      ]
     },
     "metadata": {},
     "output_type": "display_data"
    },
    {
     "data": {
      "application/vnd.jupyter.widget-view+json": {
       "model_id": "",
       "version_major": 2,
       "version_minor": 0
      },
      "text/plain": [
       "  0%|          | 0/4 [00:00<?, ?it/s]"
      ]
     },
     "metadata": {},
     "output_type": "display_data"
    },
    {
     "name": "stdout",
     "output_type": "stream",
     "text": [
      "metric={'acc_goal_from_last_node': 45.3125, 'layer_name': 'key=resid_post n=4', 'acc_of_predicting_node_at_pos=0': 13.515625, 'acc_of_predicting_node_at_pos=1': 19.6875, 'acc_of_predicting_node_at_pos=3': 7.734375, 'acc_of_predicting_node_at_pos=4': 5.9375}\n"
     ]
    },
    {
     "data": {
      "application/vnd.jupyter.widget-view+json": {
       "model_id": "5403eeb9a04f47b4b6204c6f230866ee",
       "version_major": 2,
       "version_minor": 0
      },
      "text/plain": [
       "  0%|          | 0/100 [00:00<?, ?it/s]"
      ]
     },
     "metadata": {},
     "output_type": "display_data"
    },
    {
     "data": {
      "application/vnd.jupyter.widget-view+json": {
       "model_id": "",
       "version_major": 2,
       "version_minor": 0
      },
      "text/plain": [
       "  0%|          | 0/4 [00:00<?, ?it/s]"
      ]
     },
     "metadata": {},
     "output_type": "display_data"
    },
    {
     "name": "stdout",
     "output_type": "stream",
     "text": [
      "metric={'acc_goal_from_last_node': 41.953125, 'layer_name': 'key=resid_post n=5', 'acc_of_predicting_node_at_pos=0': 11.5625, 'acc_of_predicting_node_at_pos=1': 20.0, 'acc_of_predicting_node_at_pos=3': 6.953125, 'acc_of_predicting_node_at_pos=4': 6.640625}\n",
      "swap with pos=1 | extract_Xy__last_token__goal\n"
     ]
    },
    {
     "data": {
      "text/html": [
       "<div>\n",
       "<style scoped>\n",
       "    .dataframe tbody tr th:only-of-type {\n",
       "        vertical-align: middle;\n",
       "    }\n",
       "\n",
       "    .dataframe tbody tr th {\n",
       "        vertical-align: top;\n",
       "    }\n",
       "\n",
       "    .dataframe thead th {\n",
       "        text-align: right;\n",
       "    }\n",
       "</style>\n",
       "<table border=\"1\" class=\"dataframe\">\n",
       "  <thead>\n",
       "    <tr style=\"text-align: right;\">\n",
       "      <th></th>\n",
       "      <th>acc_goal_from_last_node</th>\n",
       "      <th>layer_name</th>\n",
       "      <th>acc_of_predicting_node_at_pos=0</th>\n",
       "      <th>acc_of_predicting_node_at_pos=1</th>\n",
       "      <th>acc_of_predicting_node_at_pos=3</th>\n",
       "      <th>acc_of_predicting_node_at_pos=4</th>\n",
       "    </tr>\n",
       "  </thead>\n",
       "  <tbody>\n",
       "    <tr>\n",
       "      <th>0</th>\n",
       "      <td>6.328125</td>\n",
       "      <td>key=embed n=None</td>\n",
       "      <td>6.562500</td>\n",
       "      <td>6.406250</td>\n",
       "      <td>6.484375</td>\n",
       "      <td>6.093750</td>\n",
       "    </tr>\n",
       "    <tr>\n",
       "      <th>1</th>\n",
       "      <td>19.843750</td>\n",
       "      <td>key=resid_post n=0</td>\n",
       "      <td>6.953125</td>\n",
       "      <td>43.203125</td>\n",
       "      <td>7.265625</td>\n",
       "      <td>6.875000</td>\n",
       "    </tr>\n",
       "    <tr>\n",
       "      <th>2</th>\n",
       "      <td>24.375000</td>\n",
       "      <td>key=resid_post n=1</td>\n",
       "      <td>7.109375</td>\n",
       "      <td>21.171875</td>\n",
       "      <td>7.578125</td>\n",
       "      <td>6.796875</td>\n",
       "    </tr>\n",
       "    <tr>\n",
       "      <th>3</th>\n",
       "      <td>33.984375</td>\n",
       "      <td>key=resid_post n=2</td>\n",
       "      <td>13.359375</td>\n",
       "      <td>18.593750</td>\n",
       "      <td>10.546875</td>\n",
       "      <td>7.734375</td>\n",
       "    </tr>\n",
       "    <tr>\n",
       "      <th>4</th>\n",
       "      <td>44.531250</td>\n",
       "      <td>key=resid_post n=3</td>\n",
       "      <td>13.046875</td>\n",
       "      <td>16.562500</td>\n",
       "      <td>9.687500</td>\n",
       "      <td>7.890625</td>\n",
       "    </tr>\n",
       "    <tr>\n",
       "      <th>5</th>\n",
       "      <td>45.312500</td>\n",
       "      <td>key=resid_post n=4</td>\n",
       "      <td>13.515625</td>\n",
       "      <td>19.687500</td>\n",
       "      <td>7.734375</td>\n",
       "      <td>5.937500</td>\n",
       "    </tr>\n",
       "    <tr>\n",
       "      <th>6</th>\n",
       "      <td>41.953125</td>\n",
       "      <td>key=resid_post n=5</td>\n",
       "      <td>11.562500</td>\n",
       "      <td>20.000000</td>\n",
       "      <td>6.953125</td>\n",
       "      <td>6.640625</td>\n",
       "    </tr>\n",
       "  </tbody>\n",
       "</table>\n",
       "</div>"
      ],
      "text/plain": [
       "   acc_goal_from_last_node          layer_name  \\\n",
       "0                 6.328125    key=embed n=None   \n",
       "1                19.843750  key=resid_post n=0   \n",
       "2                24.375000  key=resid_post n=1   \n",
       "3                33.984375  key=resid_post n=2   \n",
       "4                44.531250  key=resid_post n=3   \n",
       "5                45.312500  key=resid_post n=4   \n",
       "6                41.953125  key=resid_post n=5   \n",
       "\n",
       "   acc_of_predicting_node_at_pos=0  acc_of_predicting_node_at_pos=1  \\\n",
       "0                         6.562500                         6.406250   \n",
       "1                         6.953125                        43.203125   \n",
       "2                         7.109375                        21.171875   \n",
       "3                        13.359375                        18.593750   \n",
       "4                        13.046875                        16.562500   \n",
       "5                        13.515625                        19.687500   \n",
       "6                        11.562500                        20.000000   \n",
       "\n",
       "   acc_of_predicting_node_at_pos=3  acc_of_predicting_node_at_pos=4  \n",
       "0                         6.484375                         6.093750  \n",
       "1                         7.265625                         6.875000  \n",
       "2                         7.578125                         6.796875  \n",
       "3                        10.546875                         7.734375  \n",
       "4                         9.687500                         7.890625  \n",
       "5                         7.734375                         5.937500  \n",
       "6                         6.953125                         6.640625  "
      ]
     },
     "execution_count": 54,
     "metadata": {},
     "output_type": "execute_result"
    }
   ],
   "source": [
    "accuracies = []\n",
    "\n",
    "for cache_key in cache_keys:\n",
    "    \n",
    "    X = []\n",
    "    y = []\n",
    "\n",
    "    extra_pos_dict = collections.defaultdict(list)\n",
    "    \n",
    "    for i,batch in tqdm(zip(range(N_TEST_BATCHES), deep_tree_dataloader), total=N_TEST_BATCHES):\n",
    "        Xbatch, ybatch, extra_pos_dict_batch = extract_Xy__last_token__goal(batch, baseline_model, **cache_key)\n",
    "    \n",
    "        X.append(Xbatch)\n",
    "        y.append(ybatch)\n",
    "\n",
    "        for pos, label_batch in extra_pos_dict_batch.items():\n",
    "            extra_pos_dict[pos].append(label_batch)\n",
    "    \n",
    "    \n",
    "    X = torch.cat(X)\n",
    "    y = torch.cat(y)\n",
    "\n",
    "    for pos, label_batch in extra_pos_dict.items():\n",
    "        extra_pos_dict[pos] = torch.cat(extra_pos_dict[pos])\n",
    "\n",
    "    \n",
    "\n",
    "    acc_goal_from_last_node = run_logreg(X, y)\n",
    "    \n",
    "\n",
    "\n",
    "    layer_name = ''.join ( [f'{k}={v} ' for k,v in cache_key.items()] )[:-1]\n",
    "    metric = {'acc_goal_from_last_node': float(acc_goal_from_last_node), 'layer_name':layer_name}\n",
    "\n",
    "    for pos, node_label_batch in tqdm(extra_pos_dict.items(), leave=False):\n",
    "        acc = run_logreg(X, node_label_batch)\n",
    "        metric[f'acc_of_predicting_node_at_pos={pos}'] = acc\n",
    "    \n",
    "    print(f'{metric=}')\n",
    "\n",
    "    accuracies.append(metric)\n",
    "\n",
    "print('swap with pos=1 | extract_Xy__last_token__goal')\n",
    "pd.DataFrame(accuracies)"
   ]
  },
  {
   "cell_type": "markdown",
   "id": "5fbac4e1-d56c-4837-bfcd-a90b278b27c2",
   "metadata": {},
   "source": [
    "### just poke around"
   ]
  },
  {
   "cell_type": "code",
   "execution_count": 55,
   "id": "f42251ba-4cd7-40c3-9e8f-5fcb91205932",
   "metadata": {},
   "outputs": [],
   "source": [
    "baseline_model = load_baseline_model()\n",
    "W_pos = baseline_model.pos_embed.W_pos.data.clone()\n",
    "\n",
    "\n",
    "W_pos__first_token_is_goal = W_pos.clone()\n",
    "\n",
    "# swap first pos embedding with the goal pos emb\n",
    "\n",
    "t = W_pos__first_token_is_goal[0].clone()\n",
    "W_pos__first_token_is_goal[0] += W_pos__first_token_is_goal[GOAL_TOKEN_I]\n",
    "W_pos__first_token_is_goal[GOAL_TOKEN_I] = t\n",
    "# --- ---\n",
    "\n",
    "baseline_model.pos_embed.W_pos.data = W_pos__first_token_is_goal"
   ]
  },
  {
   "cell_type": "code",
   "execution_count": null,
   "id": "f57ac6c0-32ee-4794-9552-3c0a8f819c54",
   "metadata": {},
   "outputs": [],
   "source": []
  },
  {
   "cell_type": "code",
   "execution_count": null,
   "id": "206f7f86-544f-40a0-bd0c-7448df8421be",
   "metadata": {},
   "outputs": [],
   "source": []
  },
  {
   "cell_type": "code",
   "execution_count": 56,
   "id": "d646b7a0-0717-4a98-92e3-116e85510a31",
   "metadata": {},
   "outputs": [
    {
     "data": {
      "application/vnd.jupyter.widget-view+json": {
       "model_id": "c90101c559ef4419ab0d4658ca87ef2b",
       "version_major": 2,
       "version_minor": 0
      },
      "text/plain": [
       "  0%|          | 0/100 [00:00<?, ?it/s]"
      ]
     },
     "metadata": {},
     "output_type": "display_data"
    },
    {
     "data": {
      "application/vnd.jupyter.widget-view+json": {
       "model_id": "",
       "version_major": 2,
       "version_minor": 0
      },
      "text/plain": [
       "  0%|          | 0/4 [00:00<?, ?it/s]"
      ]
     },
     "metadata": {},
     "output_type": "display_data"
    },
    {
     "name": "stdout",
     "output_type": "stream",
     "text": [
      "metric={'acc_goal_from_last_node': 8.671875, 'layer_name': 'key=embed n=None', 'acc_of_predicting_node_at_pos=0': 7.109375, 'acc_of_predicting_node_at_pos=1': 6.40625, 'acc_of_predicting_node_at_pos=3': 6.328125, 'acc_of_predicting_node_at_pos=4': 6.484375}\n"
     ]
    },
    {
     "data": {
      "application/vnd.jupyter.widget-view+json": {
       "model_id": "08be82616d62415ea1f7f194365c88f9",
       "version_major": 2,
       "version_minor": 0
      },
      "text/plain": [
       "  0%|          | 0/100 [00:00<?, ?it/s]"
      ]
     },
     "metadata": {},
     "output_type": "display_data"
    },
    {
     "data": {
      "application/vnd.jupyter.widget-view+json": {
       "model_id": "",
       "version_major": 2,
       "version_minor": 0
      },
      "text/plain": [
       "  0%|          | 0/4 [00:00<?, ?it/s]"
      ]
     },
     "metadata": {},
     "output_type": "display_data"
    },
    {
     "name": "stdout",
     "output_type": "stream",
     "text": [
      "metric={'acc_goal_from_last_node': 7.578125, 'layer_name': 'key=resid_post n=0', 'acc_of_predicting_node_at_pos=0': 89.296875, 'acc_of_predicting_node_at_pos=1': 8.125, 'acc_of_predicting_node_at_pos=3': 6.640625, 'acc_of_predicting_node_at_pos=4': 6.09375}\n"
     ]
    },
    {
     "data": {
      "application/vnd.jupyter.widget-view+json": {
       "model_id": "f6ff5d77e8d54a5881f5edb23eedca0c",
       "version_major": 2,
       "version_minor": 0
      },
      "text/plain": [
       "  0%|          | 0/100 [00:00<?, ?it/s]"
      ]
     },
     "metadata": {},
     "output_type": "display_data"
    },
    {
     "data": {
      "application/vnd.jupyter.widget-view+json": {
       "model_id": "",
       "version_major": 2,
       "version_minor": 0
      },
      "text/plain": [
       "  0%|          | 0/4 [00:00<?, ?it/s]"
      ]
     },
     "metadata": {},
     "output_type": "display_data"
    },
    {
     "name": "stdout",
     "output_type": "stream",
     "text": [
      "metric={'acc_goal_from_last_node': 14.53125, 'layer_name': 'key=resid_post n=1', 'acc_of_predicting_node_at_pos=0': 75.546875, 'acc_of_predicting_node_at_pos=1': 8.125, 'acc_of_predicting_node_at_pos=3': 8.28125, 'acc_of_predicting_node_at_pos=4': 7.1875}\n"
     ]
    },
    {
     "data": {
      "application/vnd.jupyter.widget-view+json": {
       "model_id": "3faf206b72a74d7eb43fe587cf43a161",
       "version_major": 2,
       "version_minor": 0
      },
      "text/plain": [
       "  0%|          | 0/100 [00:00<?, ?it/s]"
      ]
     },
     "metadata": {},
     "output_type": "display_data"
    },
    {
     "data": {
      "application/vnd.jupyter.widget-view+json": {
       "model_id": "",
       "version_major": 2,
       "version_minor": 0
      },
      "text/plain": [
       "  0%|          | 0/4 [00:00<?, ?it/s]"
      ]
     },
     "metadata": {},
     "output_type": "display_data"
    },
    {
     "name": "stdout",
     "output_type": "stream",
     "text": [
      "metric={'acc_goal_from_last_node': 23.203125, 'layer_name': 'key=resid_post n=2', 'acc_of_predicting_node_at_pos=0': 67.265625, 'acc_of_predicting_node_at_pos=1': 8.828125, 'acc_of_predicting_node_at_pos=3': 9.453125, 'acc_of_predicting_node_at_pos=4': 7.34375}\n"
     ]
    },
    {
     "data": {
      "application/vnd.jupyter.widget-view+json": {
       "model_id": "37cef289c8f34d9faa9007e40228d39e",
       "version_major": 2,
       "version_minor": 0
      },
      "text/plain": [
       "  0%|          | 0/100 [00:00<?, ?it/s]"
      ]
     },
     "metadata": {},
     "output_type": "display_data"
    },
    {
     "data": {
      "application/vnd.jupyter.widget-view+json": {
       "model_id": "",
       "version_major": 2,
       "version_minor": 0
      },
      "text/plain": [
       "  0%|          | 0/4 [00:00<?, ?it/s]"
      ]
     },
     "metadata": {},
     "output_type": "display_data"
    },
    {
     "name": "stdout",
     "output_type": "stream",
     "text": [
      "metric={'acc_goal_from_last_node': 37.5, 'layer_name': 'key=resid_post n=3', 'acc_of_predicting_node_at_pos=0': 48.90625, 'acc_of_predicting_node_at_pos=1': 7.34375, 'acc_of_predicting_node_at_pos=3': 8.515625, 'acc_of_predicting_node_at_pos=4': 6.484375}\n"
     ]
    },
    {
     "data": {
      "application/vnd.jupyter.widget-view+json": {
       "model_id": "256e37a7c15b4768a6efb2bc0a9672d2",
       "version_major": 2,
       "version_minor": 0
      },
      "text/plain": [
       "  0%|          | 0/100 [00:00<?, ?it/s]"
      ]
     },
     "metadata": {},
     "output_type": "display_data"
    },
    {
     "data": {
      "application/vnd.jupyter.widget-view+json": {
       "model_id": "",
       "version_major": 2,
       "version_minor": 0
      },
      "text/plain": [
       "  0%|          | 0/4 [00:00<?, ?it/s]"
      ]
     },
     "metadata": {},
     "output_type": "display_data"
    },
    {
     "name": "stdout",
     "output_type": "stream",
     "text": [
      "metric={'acc_goal_from_last_node': 32.578125, 'layer_name': 'key=resid_post n=4', 'acc_of_predicting_node_at_pos=0': 38.28125, 'acc_of_predicting_node_at_pos=1': 9.0625, 'acc_of_predicting_node_at_pos=3': 8.828125, 'acc_of_predicting_node_at_pos=4': 6.328125}\n"
     ]
    },
    {
     "data": {
      "application/vnd.jupyter.widget-view+json": {
       "model_id": "2eeb2e79de0b4b20a743022e763483cd",
       "version_major": 2,
       "version_minor": 0
      },
      "text/plain": [
       "  0%|          | 0/100 [00:00<?, ?it/s]"
      ]
     },
     "metadata": {},
     "output_type": "display_data"
    },
    {
     "data": {
      "application/vnd.jupyter.widget-view+json": {
       "model_id": "",
       "version_major": 2,
       "version_minor": 0
      },
      "text/plain": [
       "  0%|          | 0/4 [00:00<?, ?it/s]"
      ]
     },
     "metadata": {},
     "output_type": "display_data"
    },
    {
     "name": "stdout",
     "output_type": "stream",
     "text": [
      "metric={'acc_goal_from_last_node': 18.4375, 'layer_name': 'key=resid_post n=5', 'acc_of_predicting_node_at_pos=0': 21.09375, 'acc_of_predicting_node_at_pos=1': 8.75, 'acc_of_predicting_node_at_pos=3': 8.59375, 'acc_of_predicting_node_at_pos=4': 6.40625}\n",
      "ADD to zero pos extract_Xy__last_token__goal\n"
     ]
    },
    {
     "data": {
      "text/html": [
       "<div>\n",
       "<style scoped>\n",
       "    .dataframe tbody tr th:only-of-type {\n",
       "        vertical-align: middle;\n",
       "    }\n",
       "\n",
       "    .dataframe tbody tr th {\n",
       "        vertical-align: top;\n",
       "    }\n",
       "\n",
       "    .dataframe thead th {\n",
       "        text-align: right;\n",
       "    }\n",
       "</style>\n",
       "<table border=\"1\" class=\"dataframe\">\n",
       "  <thead>\n",
       "    <tr style=\"text-align: right;\">\n",
       "      <th></th>\n",
       "      <th>acc_goal_from_last_node</th>\n",
       "      <th>layer_name</th>\n",
       "      <th>acc_of_predicting_node_at_pos=0</th>\n",
       "      <th>acc_of_predicting_node_at_pos=1</th>\n",
       "      <th>acc_of_predicting_node_at_pos=3</th>\n",
       "      <th>acc_of_predicting_node_at_pos=4</th>\n",
       "    </tr>\n",
       "  </thead>\n",
       "  <tbody>\n",
       "    <tr>\n",
       "      <th>0</th>\n",
       "      <td>8.671875</td>\n",
       "      <td>key=embed n=None</td>\n",
       "      <td>7.109375</td>\n",
       "      <td>6.406250</td>\n",
       "      <td>6.328125</td>\n",
       "      <td>6.484375</td>\n",
       "    </tr>\n",
       "    <tr>\n",
       "      <th>1</th>\n",
       "      <td>7.578125</td>\n",
       "      <td>key=resid_post n=0</td>\n",
       "      <td>89.296875</td>\n",
       "      <td>8.125000</td>\n",
       "      <td>6.640625</td>\n",
       "      <td>6.093750</td>\n",
       "    </tr>\n",
       "    <tr>\n",
       "      <th>2</th>\n",
       "      <td>14.531250</td>\n",
       "      <td>key=resid_post n=1</td>\n",
       "      <td>75.546875</td>\n",
       "      <td>8.125000</td>\n",
       "      <td>8.281250</td>\n",
       "      <td>7.187500</td>\n",
       "    </tr>\n",
       "    <tr>\n",
       "      <th>3</th>\n",
       "      <td>23.203125</td>\n",
       "      <td>key=resid_post n=2</td>\n",
       "      <td>67.265625</td>\n",
       "      <td>8.828125</td>\n",
       "      <td>9.453125</td>\n",
       "      <td>7.343750</td>\n",
       "    </tr>\n",
       "    <tr>\n",
       "      <th>4</th>\n",
       "      <td>37.500000</td>\n",
       "      <td>key=resid_post n=3</td>\n",
       "      <td>48.906250</td>\n",
       "      <td>7.343750</td>\n",
       "      <td>8.515625</td>\n",
       "      <td>6.484375</td>\n",
       "    </tr>\n",
       "    <tr>\n",
       "      <th>5</th>\n",
       "      <td>32.578125</td>\n",
       "      <td>key=resid_post n=4</td>\n",
       "      <td>38.281250</td>\n",
       "      <td>9.062500</td>\n",
       "      <td>8.828125</td>\n",
       "      <td>6.328125</td>\n",
       "    </tr>\n",
       "    <tr>\n",
       "      <th>6</th>\n",
       "      <td>18.437500</td>\n",
       "      <td>key=resid_post n=5</td>\n",
       "      <td>21.093750</td>\n",
       "      <td>8.750000</td>\n",
       "      <td>8.593750</td>\n",
       "      <td>6.406250</td>\n",
       "    </tr>\n",
       "  </tbody>\n",
       "</table>\n",
       "</div>"
      ],
      "text/plain": [
       "   acc_goal_from_last_node          layer_name  \\\n",
       "0                 8.671875    key=embed n=None   \n",
       "1                 7.578125  key=resid_post n=0   \n",
       "2                14.531250  key=resid_post n=1   \n",
       "3                23.203125  key=resid_post n=2   \n",
       "4                37.500000  key=resid_post n=3   \n",
       "5                32.578125  key=resid_post n=4   \n",
       "6                18.437500  key=resid_post n=5   \n",
       "\n",
       "   acc_of_predicting_node_at_pos=0  acc_of_predicting_node_at_pos=1  \\\n",
       "0                         7.109375                         6.406250   \n",
       "1                        89.296875                         8.125000   \n",
       "2                        75.546875                         8.125000   \n",
       "3                        67.265625                         8.828125   \n",
       "4                        48.906250                         7.343750   \n",
       "5                        38.281250                         9.062500   \n",
       "6                        21.093750                         8.750000   \n",
       "\n",
       "   acc_of_predicting_node_at_pos=3  acc_of_predicting_node_at_pos=4  \n",
       "0                         6.328125                         6.484375  \n",
       "1                         6.640625                         6.093750  \n",
       "2                         8.281250                         7.187500  \n",
       "3                         9.453125                         7.343750  \n",
       "4                         8.515625                         6.484375  \n",
       "5                         8.828125                         6.328125  \n",
       "6                         8.593750                         6.406250  "
      ]
     },
     "execution_count": 56,
     "metadata": {},
     "output_type": "execute_result"
    }
   ],
   "source": [
    "accuracies = []\n",
    "\n",
    "for cache_key in cache_keys:\n",
    "    \n",
    "    X = []\n",
    "    y = []\n",
    "\n",
    "    extra_pos_dict = collections.defaultdict(list)\n",
    "    \n",
    "    for i,batch in tqdm(zip(range(N_TEST_BATCHES), deep_tree_dataloader), total=N_TEST_BATCHES):\n",
    "        Xbatch, ybatch, extra_pos_dict_batch = extract_Xy__last_token__goal(batch, baseline_model, **cache_key)\n",
    "    \n",
    "        X.append(Xbatch)\n",
    "        y.append(ybatch)\n",
    "\n",
    "        for pos, label_batch in extra_pos_dict_batch.items():\n",
    "            extra_pos_dict[pos].append(label_batch)\n",
    "    \n",
    "    \n",
    "    X = torch.cat(X)\n",
    "    y = torch.cat(y)\n",
    "\n",
    "    for pos, label_batch in extra_pos_dict.items():\n",
    "        extra_pos_dict[pos] = torch.cat(extra_pos_dict[pos])\n",
    "\n",
    "    \n",
    "\n",
    "    acc_goal_from_last_node = run_logreg(X, y)\n",
    "    \n",
    "\n",
    "\n",
    "    layer_name = ''.join ( [f'{k}={v} ' for k,v in cache_key.items()] )[:-1]\n",
    "    metric = {'acc_goal_from_last_node': float(acc_goal_from_last_node), 'layer_name':layer_name}\n",
    "\n",
    "    for pos, node_label_batch in tqdm(extra_pos_dict.items(), leave=False):\n",
    "        acc = run_logreg(X, node_label_batch)\n",
    "        metric[f'acc_of_predicting_node_at_pos={pos}'] = acc\n",
    "    \n",
    "    print(f'{metric=}')\n",
    "\n",
    "    accuracies.append(metric)\n",
    "\n",
    "print('ADD to zero pos extract_Xy__last_token__goal')\n",
    "pd.DataFrame(accuracies)"
   ]
  },
  {
   "cell_type": "code",
   "execution_count": null,
   "id": "67ce81d1-270f-4ce9-8680-40bb5d07224d",
   "metadata": {},
   "outputs": [],
   "source": []
  }
 ],
 "metadata": {
  "kernelspec": {
   "display_name": "Python 3 (ipykernel)",
   "language": "python",
   "name": "python3"
  },
  "language_info": {
   "codemirror_mode": {
    "name": "ipython",
    "version": 3
   },
   "file_extension": ".py",
   "mimetype": "text/x-python",
   "name": "python",
   "nbconvert_exporter": "python",
   "pygments_lexer": "ipython3",
   "version": "3.11.4"
  }
 },
 "nbformat": 4,
 "nbformat_minor": 5
}
